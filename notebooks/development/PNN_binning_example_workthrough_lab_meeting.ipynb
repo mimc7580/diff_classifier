{
 "cells": [
  {
   "cell_type": "code",
   "execution_count": 1,
   "metadata": {},
   "outputs": [],
   "source": [
    "import os\n",
    "import os.path as op\n",
    "import boto3\n",
    "import numpy as np\n",
    "import pandas as pd\n",
    "import matplotlib\n",
    "import matplotlib.pyplot as plt\n",
    "import skimage.io\n",
    "import skimage.filters\n",
    "from skimage.filters import try_all_threshold\n",
    "from diff_classifier import aws\n",
    "import matplotlib.image as mpimg\n",
    "from scipy import ndimage as ndi\n",
    "from skimage.transform import resize\n",
    "import numpy.ma as ma\n",
    "from skimage import morphology\n",
    "from scipy.ndimage.morphology import distance_transform_edt as Euclidean"
   ]
  },
  {
   "cell_type": "markdown",
   "metadata": {},
   "source": [
    "First, download the necessary files from Amazon's s3 storage and assign them a name."
   ]
  },
  {
   "cell_type": "code",
   "execution_count": 101,
   "metadata": {},
   "outputs": [],
   "source": [
    "s3_bucket = 'mckenna.data'\n",
    "s3_folder = '11_16_18_MPT_in_PNNs'\n",
    "prefix = 'SCM_vid_5'\n",
    "s3_img_filename = '{}_z_stack_MaxIP.tif'.format(prefix)\n",
    "s3_feat_filename = \"features_{}.csv\".format(prefix)\n",
    "aws.download_s3('{}/{}'.format(s3_folder,s3_feat_filename), s3_feat_filename, bucket_name=s3_bucket)\n",
    "feat_name = s3_feat_filename\n",
    "feat_df = pd.read_csv(feat_name)\n",
    "aws.download_s3('{}/{}'.format(s3_folder,s3_img_filename), s3_img_filename, bucket_name = s3_bucket)\n",
    "img = skimage.io.imread(s3_img_filename)"
   ]
  },
  {
   "cell_type": "code",
   "execution_count": null,
   "metadata": {},
   "outputs": [],
   "source": [
    "def PNN_binning(raw_img, input_df, num_bins=7, threshold='Otsu', min_obj_size=3000, bin_cuts=[0,3.57,7.14,14.28,142.8,714.3], \\\n",
    "                feat='Deff1', box_plot=True):\n",
    "    \n",
    "    \n",
    "    # First, you have to scale the PNN confocal image so it aligns with the size of the MPT video\n",
    "    # (usually, it must be scaled from a 512x512 image to a 2048x2048 image)\n",
    "    img_scaled = resize(raw_img[0,:,:],(2048,2048))\n",
    "    scaled_plot = plt.imshow(img_scaled, cmap='gray')\n",
    "    plt.show()\n",
    "    \n",
    "    # this thresholds the scaled image using the user-input threshold type, converting the image to a binary\n",
    "    \n",
    "    if threshold == 'Otsu':\n",
    "        thresh = skimage.filters.threshold_otsu(img_scaled)\n",
    "    elif threshold == 'Mean':\n",
    "        thresh = skimage.filters.threshold_mean(img_scaled)\n",
    "    elif threshold == 'Triangle':\n",
    "        thresh = skimage.filters.threshold_triangle(img_scaled)\n",
    "    elif threshold == 'Yen':\n",
    "        thresh = skimage.filters.threshold_yen(img_scaled)\n",
    "    elif threshold == 'Li':\n",
    "        thresh = skimage.filters.threshold_li(img_scaled)\n",
    "    elif threshold == 'Isodata':\n",
    "        thresh = skimage.filters.threshold_isodata(img_scaled)\n",
    "    else:\n",
    "        thresh = skimage.filters.threshold_minimum(img_scaled)\n",
    "    \n",
    "    pnnbinary = img_scaled > thresh\n",
    "    \n",
    "    # these next few lines of code fill any holes existing in the binary image and removes any \n",
    "    # objects smaller than the user-defined minimum object size\n",
    "    \n",
    "    pnnbinary_filled = ndi.binary_fill_holes(pnnbinary)\n",
    "    binary_filledplot = plt.imshow(pnnbinary_filled, cmap='gray')\n",
    "    plt.show()\n",
    "    pnn_clean = morphology.remove_small_objects(pnnbinary_filled, min_size=min_obj_size)\n",
    "    pnn_clean_plot = plt.imshow(pnn_clean, cmap='gray')\n",
    "    plt.show()\n",
    "    \n",
    "    # Now, the Euclidean distance (to the nearest PNN) is caluclated at each pixel location in the 2048x2048 image\n",
    "    \n",
    "    euc_img = Euclidean(1-pnn_clean) #1- represents going outwards from the cells\n",
    "    plt.imshow(euc_img)\n",
    "    plt.show\n",
    "    \n",
    "    # With the Euclidean distance matrix generated, we now switch over to dataframe modification\n",
    "    \n",
    "    raw_df = input_df\n",
    "    raw_df['Euc'] = np.nan\n",
    "    raw_df['Bin'] = np.nan\n",
    "    \n",
    "    tot_traj = int(max(raw_df['Track_ID']))\n",
    "    \n",
    "    # The following for loop goes through all trajectories in the features dataframe, calculates the Euclidean \n",
    "    # distance from the centroid of the trajectory, and bins the trajectories based on those distances\n",
    "    \n",
    "    # don't want to deal with it now, but will have to adjust this section of code to be able to adjust the \n",
    "    # number of elif statements to match the number of bins chosen by the user\n",
    "    \n",
    "    counts = np.zeros(num_bins)\n",
    "\n",
    "    for i in range(0,tot_traj+1):\n",
    "        raw_df['Euc'][i] = euc_img[int(round(raw_df['X'][i])),int(round(raw_df['Y'][i]))]\n",
    "    \n",
    "        if raw_df['Euc'][i] == 0:\n",
    "            raw_df['Bin'][i] = 1\n",
    "            counts[0] = counts[0]+1\n",
    "        elif raw_df['Euc'][i] <= bin_cuts[1]: #250 nm\n",
    "            raw_df['Bin'][i] = 2\n",
    "            counts[1] = counts[1]+1\n",
    "        elif raw_df['Euc'][i] <= bin_cuts[2]: #500 nm\n",
    "            raw_df['Bin'][i] = 3\n",
    "            counts[2] = counts[2]+1\n",
    "        elif raw_df['Euc'][i] <= bin_cuts[3]: # 1 um\n",
    "            raw_df['Bin'][i] = 4\n",
    "            counts[3] = counts[3]+1\n",
    "        elif raw_df['Euc'][i] <= bin_cuts[4]: # 10 um\n",
    "            raw_df['Bin'][i] = 5\n",
    "            counts[4] = counts[4]+1\n",
    "        elif raw_df['Euc'][i] <= bin_cuts[5]: # 50 um\n",
    "            raw_df['Bin'][i] = 6\n",
    "            counts[5] = counts[5]+1\n",
    "        else:\n",
    "            raw_df['Bin'][i] = 7\n",
    "            counts[6] = counts[6]+1\n",
    "    \n",
    "    # This next for loop is used to create an array that summarizes the binning that's taken place. I had to \n",
    "    # do this to perform some statistics-based calculations and help with plot generation. It's final output \n",
    "    # is an array, where column # corresponds to bin #, and each row represents a distinct trajectory's \n",
    "    # value for the feature the user is interested in comparing\n",
    "    \n",
    "    summary_array = np.zeros((int(max(counts)), int(num_bins)))\n",
    "    counts2 = np.zeros(num_bins)\n",
    "\n",
    "    for i in range(0,tot_traj+1):\n",
    "        if raw_df['Bin'][i] == 1:\n",
    "            summary_array[int(counts2[0]), int(raw_df['Bin'][i]) - 1] = raw_df[feat][i]\n",
    "            counts2[0] = counts2[0] + 1\n",
    "        elif raw_df['Bin'][i] == 2:\n",
    "            summary_array[int(counts2[1]), int(raw_df['Bin'][i]) - 1] = raw_df[feat][i]\n",
    "            counts2[1] = counts2[1] + 1\n",
    "        elif raw_df['Bin'][i] == 3:\n",
    "            summary_array[int(counts2[2]), int(raw_df['Bin'][i]) - 1] = raw_df[feat][i]\n",
    "            counts2[2] = counts2[2] + 1\n",
    "        elif feat_df['Bin'][i] == 4:\n",
    "            summary_array[int(counts2[3]), int(raw_df['Bin'][i]) - 1] = raw_df[feat][i]\n",
    "            counts2[3] = counts2[3] + 1\n",
    "        elif feat_df['Bin'][i] == 5:\n",
    "            summary_array[int(counts2[4]), int(raw_df['Bin'][i]) - 1] = raw_df[feat][i]\n",
    "            counts2[4] = counts2[4] + 1\n",
    "        elif feat_df['Bin'][i] == 6:\n",
    "            summary_array[int(counts2[5]), int(raw_df['Bin'][i]) - 1] = raw_df[feat][i]\n",
    "            counts2[5] = counts2[5] + 1\n",
    "        else:\n",
    "            summary_array[int(counts2[6]), int(raw_df['Bin'][i]) - 1] = raw_df[feat][i]\n",
    "            counts2[6] = counts2[6] + 1\n",
    "\n",
    "    # This masks out any entries that are zero (blank), and prepares an array that allows for plotting\n",
    "    \n",
    "    masked_summary = ma.masked_where(summary_array == 0, summary_array)\n",
    "    plot_array = [[y for y in row if y] for row in masked_summary.T]\n",
    "    \n",
    "    # This section simply allows you to overlay individual data points onto a boxplot of the data\n",
    "    \n",
    "    x = np.zeros(tot_traj+1)\n",
    "    y = np.zeros(tot_traj+1)\n",
    "\n",
    "    p = 0\n",
    "    for i in range(np.size(plot_array)):\n",
    "        for j in range(len(plot_array[i])):\n",
    "            x[p] = i+1\n",
    "            y[p] = plot_array[i][j]\n",
    "            p = p + 1\n",
    "\n",
    "    if box_plot==True:\n",
    "        plt.subplot(211)\n",
    "        plt.boxplot(plot_array, showfliers = False)\n",
    "        plt.plot(x,y,'k.')\n",
    "        plt.show()\n",
    "    \n",
    "    \n",
    "    return(raw_df, plot_array, x, y)"
   ]
  },
  {
   "cell_type": "code",
   "execution_count": null,
   "metadata": {},
   "outputs": [],
   "source": [
    "Deff1_binning, Deff1_plot_data, Deff1_x, Deff_1_y = PNN_binning(img, feat_df, min_obj_size=3000, feat = 'Deff1', box_plot=True)"
   ]
  },
  {
   "cell_type": "code",
   "execution_count": 2,
   "metadata": {},
   "outputs": [],
   "source": [
    "from diff_classifier import PNNs\n",
    "\n",
    "img1 = skimage.io.imread('HBSS_vid_1_z_stack_MaxIP.tif')\n",
    "img2 = skimage.io.imread('HBSS_vid_2_z_stack_MaxIP.tif')\n",
    "img3 = skimage.io.imread('HBSS_vid_3_z_stack_MaxIP.tif')\n",
    "img4 = skimage.io.imread('HBSS_vid_4_z_stack_MaxIP.tif')\n",
    "img5 = skimage.io.imread('HBSS_vid_5_z_stack_MaxIP.tif')\n",
    "img6 = skimage.io.imread('SCM_vid_1_z_stack_MaxIP.tif')\n",
    "img7 = skimage.io.imread('SCM_vid_2_z_stack_MaxIP.tif')\n",
    "img8 = skimage.io.imread('SCM_vid_3_z_stack_MaxIP.tif')\n",
    "img9 = skimage.io.imread('SCM_vid_4_z_stack_MaxIP.tif')\n",
    "img10 = skimage.io.imread('SCM_vid_5_z_stack_MaxIP.tif')\n",
    "\n",
    "df1 = pd.read_csv('features_HBSS_vid_1.csv')\n",
    "df2 = pd.read_csv('features_HBSS_vid_2.csv')\n",
    "df3 = pd.read_csv('features_HBSS_vid_3.csv')\n",
    "df4 = pd.read_csv('features_HBSS_vid_4.csv')\n",
    "df5 = pd.read_csv('features_HBSS_vid_5.csv')\n",
    "df6 = pd.read_csv('features_SCM_vid_1.csv')\n",
    "df7 = pd.read_csv('features_SCM_vid_2.csv')\n",
    "df8 = pd.read_csv('features_SCM_vid_3.csv')\n",
    "df9 = pd.read_csv('features_SCM_vid_4.csv')\n",
    "df10 = pd.read_csv('features_SCM_vid_5.csv')\n"
   ]
  },
  {
   "cell_type": "code",
   "execution_count": 3,
   "metadata": {},
   "outputs": [
    {
     "name": "stderr",
     "output_type": "stream",
     "text": [
      "/usr/local/lib/python2.7/dist-packages/skimage/transform/_warps.py:84: UserWarning: The default mode, 'constant', will be changed to 'reflect' in skimage 0.15.\n",
      "  warn(\"The default mode, 'constant', will be changed to 'reflect' in \"\n",
      "/home/ubuntu/source/diff-classifier/diff_classifier/PNNs.py:81: SettingWithCopyWarning: \n",
      "A value is trying to be set on a copy of a slice from a DataFrame\n",
      "\n",
      "See the caveats in the documentation: http://pandas.pydata.org/pandas-docs/stable/indexing.html#indexing-view-versus-copy\n",
      "  raw_df['Euc'][i] = euc_img[int(round(raw_df['X'][i])),int(round(raw_df['Y'][i]))]\n",
      "/home/ubuntu/source/diff-classifier/diff_classifier/PNNs.py:99: SettingWithCopyWarning: \n",
      "A value is trying to be set on a copy of a slice from a DataFrame\n",
      "\n",
      "See the caveats in the documentation: http://pandas.pydata.org/pandas-docs/stable/indexing.html#indexing-view-versus-copy\n",
      "  raw_df['Bin'][i] = 6\n",
      "/home/ubuntu/source/diff-classifier/diff_classifier/PNNs.py:96: SettingWithCopyWarning: \n",
      "A value is trying to be set on a copy of a slice from a DataFrame\n",
      "\n",
      "See the caveats in the documentation: http://pandas.pydata.org/pandas-docs/stable/indexing.html#indexing-view-versus-copy\n",
      "  raw_df['Bin'][i] = 5\n",
      "/home/ubuntu/source/diff-classifier/diff_classifier/PNNs.py:84: SettingWithCopyWarning: \n",
      "A value is trying to be set on a copy of a slice from a DataFrame\n",
      "\n",
      "See the caveats in the documentation: http://pandas.pydata.org/pandas-docs/stable/indexing.html#indexing-view-versus-copy\n",
      "  raw_df['Bin'][i] = 1\n",
      "/home/ubuntu/source/diff-classifier/diff_classifier/PNNs.py:90: SettingWithCopyWarning: \n",
      "A value is trying to be set on a copy of a slice from a DataFrame\n",
      "\n",
      "See the caveats in the documentation: http://pandas.pydata.org/pandas-docs/stable/indexing.html#indexing-view-versus-copy\n",
      "  raw_df['Bin'][i] = 3\n",
      "/home/ubuntu/source/diff-classifier/diff_classifier/PNNs.py:93: SettingWithCopyWarning: \n",
      "A value is trying to be set on a copy of a slice from a DataFrame\n",
      "\n",
      "See the caveats in the documentation: http://pandas.pydata.org/pandas-docs/stable/indexing.html#indexing-view-versus-copy\n",
      "  raw_df['Bin'][i] = 4\n",
      "/home/ubuntu/source/diff-classifier/diff_classifier/PNNs.py:102: SettingWithCopyWarning: \n",
      "A value is trying to be set on a copy of a slice from a DataFrame\n",
      "\n",
      "See the caveats in the documentation: http://pandas.pydata.org/pandas-docs/stable/indexing.html#indexing-view-versus-copy\n",
      "  raw_df['Bin'][i] = 7\n",
      "/home/ubuntu/source/diff-classifier/diff_classifier/PNNs.py:87: SettingWithCopyWarning: \n",
      "A value is trying to be set on a copy of a slice from a DataFrame\n",
      "\n",
      "See the caveats in the documentation: http://pandas.pydata.org/pandas-docs/stable/indexing.html#indexing-view-versus-copy\n",
      "  raw_df['Bin'][i] = 2\n"
     ]
    }
   ],
   "source": [
    "HBSS_1_df, HBSS_1_array, HBSS_1_x, HBSS_1_y = PNNs.PNN_binning(img1, df1, threshold='Otsu', min_obj_size=3500, feat = 'alpha', box_plot=False)\n",
    "HBSS_2_df, HBSS_2_array, HBSS_2_x, HBSS_2_y = PNNs.PNN_binning(img2, df2, threshold='Mean', min_obj_size=7000, feat = 'alpha', box_plot=False)\n",
    "HBSS_3_df, HBSS_3_array, HBSS_3_x, HBSS_3_y = PNNs.PNN_binning(img3, df3, threshold='Otsu', min_obj_size=3000, feat = 'alpha', box_plot=False)\n",
    "HBSS_4_df, HBSS_4_array, HBSS_4_x, HBSS_4_y = PNNs.PNN_binning(img4, df4, threshold='Isodata', min_obj_size=5000, feat = 'alpha', box_plot=False)\n",
    "HBSS_5_df, HBSS_5_array, HBSS_5_x, HBSS_5_y = PNNs.PNN_binning(img5, df5, threshold='Otsu', min_obj_size=10000, feat = 'alpha', box_plot=False)\n",
    "SCM_1_df, SCM_1_array, SCM_1_x, SCM_1_y = PNNs.PNN_binning(img6, df6, threshold='Otsu', min_obj_size=7000, feat = 'alpha', box_plot=False)\n",
    "SCM_2_df, SCM_2_array, SCM_2_x, SCM_2_y = PNNs.PNN_binning(img7, df7, threshold='Otsu', min_obj_size=7000, feat = 'alpha', box_plot=False)\n",
    "SCM_3_df, SCM_3_array, SCM_3_x, SCM_3_y = PNNs.PNN_binning(img8, df8, threshold='Otsu', min_obj_size=7000, feat = 'alpha', box_plot=False)\n",
    "SCM_4_df, SCM_4_array, SCM_4_x, SCM_4_y = PNNs.PNN_binning(img9, df9, threshold='Otsu', min_obj_size=7000, feat = 'alpha', box_plot=False)\n",
    "SCM_5_df, SCM_5_array, SCM_5_x, SCM_5_y = PNNs.PNN_binning(img10, df10, threshold='Otsu', min_obj_size=10000, feat = 'alpha', box_plot=False)\n"
   ]
  },
  {
   "cell_type": "code",
   "execution_count": 169,
   "metadata": {},
   "outputs": [
    {
     "data": {
      "text/html": [
       "<div>\n",
       "<style scoped>\n",
       "    .dataframe tbody tr th:only-of-type {\n",
       "        vertical-align: middle;\n",
       "    }\n",
       "\n",
       "    .dataframe tbody tr th {\n",
       "        vertical-align: top;\n",
       "    }\n",
       "\n",
       "    .dataframe thead th {\n",
       "        text-align: right;\n",
       "    }\n",
       "</style>\n",
       "<table border=\"1\" class=\"dataframe\">\n",
       "  <thead>\n",
       "    <tr style=\"text-align: right;\">\n",
       "      <th></th>\n",
       "      <th>Unnamed: 0</th>\n",
       "      <th>Track_ID</th>\n",
       "      <th>alpha</th>\n",
       "      <th>D_fit</th>\n",
       "      <th>kurtosis</th>\n",
       "      <th>asymmetry1</th>\n",
       "      <th>asymmetry2</th>\n",
       "      <th>asymmetry3</th>\n",
       "      <th>AR</th>\n",
       "      <th>elongation</th>\n",
       "      <th>...</th>\n",
       "      <th>frames</th>\n",
       "      <th>X</th>\n",
       "      <th>Y</th>\n",
       "      <th>Quality</th>\n",
       "      <th>Mean_Intensity</th>\n",
       "      <th>SN_Ratio</th>\n",
       "      <th>Deff1</th>\n",
       "      <th>Deff2</th>\n",
       "      <th>Euc</th>\n",
       "      <th>Bin</th>\n",
       "    </tr>\n",
       "  </thead>\n",
       "  <tbody>\n",
       "    <tr>\n",
       "      <th>0</th>\n",
       "      <td>0</td>\n",
       "      <td>0.0</td>\n",
       "      <td>0.491796</td>\n",
       "      <td>6.401504</td>\n",
       "      <td>1.837094</td>\n",
       "      <td>0.901052</td>\n",
       "      <td>0.161376</td>\n",
       "      <td>0.302066</td>\n",
       "      <td>1.958784</td>\n",
       "      <td>0.489479</td>\n",
       "      <td>...</td>\n",
       "      <td>34.0</td>\n",
       "      <td>337.876227</td>\n",
       "      <td>1838.678017</td>\n",
       "      <td>11.867879</td>\n",
       "      <td>184.361377</td>\n",
       "      <td>0.664711</td>\n",
       "      <td>1.715613</td>\n",
       "      <td>NaN</td>\n",
       "      <td>309.040450</td>\n",
       "      <td>6.0</td>\n",
       "    </tr>\n",
       "    <tr>\n",
       "      <th>1</th>\n",
       "      <td>1</td>\n",
       "      <td>1.0</td>\n",
       "      <td>0.398441</td>\n",
       "      <td>6.798862</td>\n",
       "      <td>2.707838</td>\n",
       "      <td>0.184517</td>\n",
       "      <td>0.631694</td>\n",
       "      <td>0.025805</td>\n",
       "      <td>1.193962</td>\n",
       "      <td>0.162452</td>\n",
       "      <td>...</td>\n",
       "      <td>53.0</td>\n",
       "      <td>1313.358886</td>\n",
       "      <td>1702.515694</td>\n",
       "      <td>77.942015</td>\n",
       "      <td>453.528887</td>\n",
       "      <td>1.419547</td>\n",
       "      <td>1.538192</td>\n",
       "      <td>NaN</td>\n",
       "      <td>529.000945</td>\n",
       "      <td>6.0</td>\n",
       "    </tr>\n",
       "    <tr>\n",
       "      <th>2</th>\n",
       "      <td>2</td>\n",
       "      <td>2.0</td>\n",
       "      <td>0.165162</td>\n",
       "      <td>18.379772</td>\n",
       "      <td>2.777910</td>\n",
       "      <td>0.533823</td>\n",
       "      <td>0.394522</td>\n",
       "      <td>0.099000</td>\n",
       "      <td>1.852534</td>\n",
       "      <td>0.460199</td>\n",
       "      <td>...</td>\n",
       "      <td>135.0</td>\n",
       "      <td>1315.902853</td>\n",
       "      <td>1724.094826</td>\n",
       "      <td>69.559688</td>\n",
       "      <td>425.575653</td>\n",
       "      <td>1.508733</td>\n",
       "      <td>2.702361</td>\n",
       "      <td>0.391325</td>\n",
       "      <td>532.454693</td>\n",
       "      <td>6.0</td>\n",
       "    </tr>\n",
       "    <tr>\n",
       "      <th>3</th>\n",
       "      <td>3</td>\n",
       "      <td>3.0</td>\n",
       "      <td>0.129252</td>\n",
       "      <td>3.268849</td>\n",
       "      <td>3.953307</td>\n",
       "      <td>0.495506</td>\n",
       "      <td>0.416849</td>\n",
       "      <td>0.088504</td>\n",
       "      <td>1.870974</td>\n",
       "      <td>0.465519</td>\n",
       "      <td>...</td>\n",
       "      <td>27.0</td>\n",
       "      <td>1302.715548</td>\n",
       "      <td>1642.718768</td>\n",
       "      <td>12.517814</td>\n",
       "      <td>197.649440</td>\n",
       "      <td>0.543901</td>\n",
       "      <td>0.451372</td>\n",
       "      <td>NaN</td>\n",
       "      <td>522.230792</td>\n",
       "      <td>6.0</td>\n",
       "    </tr>\n",
       "    <tr>\n",
       "      <th>4</th>\n",
       "      <td>4</td>\n",
       "      <td>4.0</td>\n",
       "      <td>4.658488</td>\n",
       "      <td>0.000002</td>\n",
       "      <td>3.073958</td>\n",
       "      <td>0.625554</td>\n",
       "      <td>0.341679</td>\n",
       "      <td>0.128263</td>\n",
       "      <td>2.135478</td>\n",
       "      <td>0.531721</td>\n",
       "      <td>...</td>\n",
       "      <td>61.0</td>\n",
       "      <td>1254.578447</td>\n",
       "      <td>1787.580772</td>\n",
       "      <td>20.863724</td>\n",
       "      <td>208.429089</td>\n",
       "      <td>1.446567</td>\n",
       "      <td>3.715043</td>\n",
       "      <td>NaN</td>\n",
       "      <td>478.787009</td>\n",
       "      <td>6.0</td>\n",
       "    </tr>\n",
       "  </tbody>\n",
       "</table>\n",
       "<p>5 rows × 26 columns</p>\n",
       "</div>"
      ],
      "text/plain": [
       "   Unnamed: 0  Track_ID     alpha      D_fit  kurtosis  asymmetry1  \\\n",
       "0           0       0.0  0.491796   6.401504  1.837094    0.901052   \n",
       "1           1       1.0  0.398441   6.798862  2.707838    0.184517   \n",
       "2           2       2.0  0.165162  18.379772  2.777910    0.533823   \n",
       "3           3       3.0  0.129252   3.268849  3.953307    0.495506   \n",
       "4           4       4.0  4.658488   0.000002  3.073958    0.625554   \n",
       "\n",
       "   asymmetry2  asymmetry3        AR  elongation ...   frames            X  \\\n",
       "0    0.161376    0.302066  1.958784    0.489479 ...     34.0   337.876227   \n",
       "1    0.631694    0.025805  1.193962    0.162452 ...     53.0  1313.358886   \n",
       "2    0.394522    0.099000  1.852534    0.460199 ...    135.0  1315.902853   \n",
       "3    0.416849    0.088504  1.870974    0.465519 ...     27.0  1302.715548   \n",
       "4    0.341679    0.128263  2.135478    0.531721 ...     61.0  1254.578447   \n",
       "\n",
       "             Y    Quality  Mean_Intensity  SN_Ratio     Deff1     Deff2  \\\n",
       "0  1838.678017  11.867879      184.361377  0.664711  1.715613       NaN   \n",
       "1  1702.515694  77.942015      453.528887  1.419547  1.538192       NaN   \n",
       "2  1724.094826  69.559688      425.575653  1.508733  2.702361  0.391325   \n",
       "3  1642.718768  12.517814      197.649440  0.543901  0.451372       NaN   \n",
       "4  1787.580772  20.863724      208.429089  1.446567  3.715043       NaN   \n",
       "\n",
       "          Euc  Bin  \n",
       "0  309.040450  6.0  \n",
       "1  529.000945  6.0  \n",
       "2  532.454693  6.0  \n",
       "3  522.230792  6.0  \n",
       "4  478.787009  6.0  \n",
       "\n",
       "[5 rows x 26 columns]"
      ]
     },
     "execution_count": 169,
     "metadata": {},
     "output_type": "execute_result"
    }
   ],
   "source": [
    "HBSS_1_df.head()\n",
    "\n"
   ]
  },
  {
   "cell_type": "code",
   "execution_count": 127,
   "metadata": {},
   "outputs": [
    {
     "data": {
      "text/plain": [
       "0     309.040450\n",
       "1     529.000945\n",
       "2     532.454693\n",
       "3     522.230792\n",
       "4     478.787009\n",
       "5     558.342189\n",
       "6     403.862600\n",
       "7     121.247680\n",
       "8      53.413481\n",
       "9      25.495098\n",
       "10    152.427032\n",
       "11    152.486065\n",
       "12     67.416615\n",
       "13     68.264193\n",
       "14     67.416615\n",
       "15     67.416615\n",
       "16    351.728589\n",
       "17    350.235635\n",
       "18    358.022346\n",
       "19    369.054197\n",
       "20    358.979108\n",
       "Name: Euc, dtype: float64"
      ]
     },
     "execution_count": 127,
     "metadata": {},
     "output_type": "execute_result"
    }
   ],
   "source": [
    "HBSS_1_df['Euc']"
   ]
  },
  {
   "cell_type": "code",
   "execution_count": 167,
   "metadata": {},
   "outputs": [
    {
     "data": {
      "image/png": "[encoded data removed]",
      "text/plain": [
       "<matplotlib.figure.Figure at 0x7f105da60d10>"
      ]
     },
     "metadata": {},
     "output_type": "display_data"
    }
   ],
   "source": [
    "fig = plt.figure()\n",
    "ax1 = fig.add_subplot(111)\n",
    "\n",
    "ax1.scatter(HBSS_1_df['Euc']*70, HBSS_1_df['alpha'], marker = '.')\n",
    "ax1.scatter(HBSS_2_df['Euc']*70, HBSS_2_df['alpha'], marker = '.')\n",
    "ax1.scatter(HBSS_3_df['Euc']*70, HBSS_3_df['alpha'], marker = '.')\n",
    "ax1.scatter(HBSS_4_df['Euc']*70, HBSS_4_df['alpha'], marker = '.')\n",
    "ax1.scatter(HBSS_5_df['Euc']*70, HBSS_5_df['alpha'], marker = '.')\n",
    "ax1.scatter(SCM_1_df['Euc']*70, SCM_1_df['alpha'], marker = '.')\n",
    "ax1.scatter(SCM_2_df['Euc']*70, SCM_2_df['alpha'], marker = '.')\n",
    "ax1.scatter(SCM_3_df['Euc']*70, SCM_3_df['alpha'], marker = '.')\n",
    "ax1.scatter(SCM_4_df['Euc']*70, SCM_4_df['alpha'], marker = '.')\n",
    "ax1.scatter(SCM_5_df['Euc']*70, SCM_5_df['alpha'], marker = '.')\n",
    "plt.ylim(-0.2,4.5)\n",
    "plt.xlim(-25,1000)\n",
    "plt.ylabel('alpha')\n",
    "plt.xlabel('distance (nm)')\n",
    "plt.show()"
   ]
  },
  {
   "cell_type": "code",
   "execution_count": 168,
   "metadata": {},
   "outputs": [
    {
     "data": {
      "image/png": "[encoded data removed]",
      "text/plain": [
       "<matplotlib.figure.Figure at 0x7f105d9f0310>"
      ]
     },
     "metadata": {},
     "output_type": "display_data"
    }
   ],
   "source": [
    "fig = plt.figure()\n",
    "ax1 = fig.add_subplot(111)\n",
    "\n",
    "ax1.scatter(HBSS_1_df['Euc']*70, HBSS_1_df['D_fit'], marker = '.')\n",
    "ax1.scatter(HBSS_2_df['Euc']*70, HBSS_2_df['D_fit'], marker = '.')\n",
    "ax1.scatter(HBSS_3_df['Euc']*70, HBSS_3_df['D_fit'], marker = '.')\n",
    "ax1.scatter(HBSS_4_df['Euc']*70, HBSS_4_df['D_fit'], marker = '.')\n",
    "ax1.scatter(HBSS_5_df['Euc']*70, HBSS_5_df['D_fit'], marker = '.')\n",
    "ax1.scatter(SCM_1_df['Euc']*70, SCM_1_df['D_fit'], marker = '.')\n",
    "ax1.scatter(SCM_2_df['Euc']*70, SCM_2_df['D_fit'], marker = '.')\n",
    "ax1.scatter(SCM_3_df['Euc']*70, SCM_3_df['D_fit'], marker = '.')\n",
    "ax1.scatter(SCM_4_df['Euc']*70, SCM_4_df['D_fit'], marker = '.')\n",
    "ax1.scatter(SCM_5_df['Euc']*70, SCM_5_df['D_fit'], marker = '.')\n",
    "plt.ylim(-5,100)\n",
    "plt.xlim(-25,1000)\n",
    "plt.ylabel('D_fit')\n",
    "plt.xlabel('distance (nm)')\n",
    "plt.show()"
   ]
  },
  {
   "cell_type": "code",
   "execution_count": 8,
   "metadata": {},
   "outputs": [
    {
     "data": {
      "image/png": "[encoded data removed]",
      "text/plain": [
       "<matplotlib.figure.Figure at 0x7faaaf44e950>"
      ]
     },
     "metadata": {},
     "output_type": "display_data"
    }
   ],
   "source": [
    "fig = plt.figure()\n",
    "ax1 = fig.add_subplot(111)\n",
    "\n",
    "ax1.scatter(HBSS_1_df['Euc']*70, HBSS_1_df['Deff1'], marker = '.')\n",
    "ax1.scatter(HBSS_2_df['Euc']*70, HBSS_2_df['Deff1'], marker = '.')\n",
    "ax1.scatter(HBSS_3_df['Euc']*70, HBSS_3_df['Deff1'], marker = '.')\n",
    "ax1.scatter(HBSS_4_df['Euc']*70, HBSS_4_df['Deff1'], marker = '.')\n",
    "ax1.scatter(HBSS_5_df['Euc']*70, HBSS_5_df['Deff1'], marker = '.')\n",
    "ax1.scatter(SCM_1_df['Euc']*70, SCM_1_df['Deff1'], marker = '.')\n",
    "ax1.scatter(SCM_2_df['Euc']*70, SCM_2_df['Deff1'], marker = '.')\n",
    "ax1.scatter(SCM_3_df['Euc']*70, SCM_3_df['Deff1'], marker = '.')\n",
    "ax1.scatter(SCM_4_df['Euc']*70, SCM_4_df['Deff1'], marker = '.')\n",
    "ax1.scatter(SCM_5_df['Euc']*70, SCM_5_df['Deff1'], marker = '.')\n",
    "plt.ylim(-1,10)\n",
    "plt.xlim(-25,1000)\n",
    "plt.ylabel('Deff_1_sec')\n",
    "plt.xlabel('distance (nm)')\n",
    "plt.show()"
   ]
  },
  {
   "cell_type": "code",
   "execution_count": 9,
   "metadata": {},
   "outputs": [
    {
     "data": {
      "image/png": "[encoded data removed]",
      "text/plain": [
       "<matplotlib.figure.Figure at 0x7faaaf2378d0>"
      ]
     },
     "metadata": {},
     "output_type": "display_data"
    }
   ],
   "source": [
    "fig = plt.figure()\n",
    "ax1 = fig.add_subplot(111)\n",
    "\n",
    "ax1.scatter(HBSS_1_df['Euc']*70, HBSS_1_df['frames'], marker = '.')\n",
    "ax1.scatter(HBSS_2_df['Euc']*70, HBSS_2_df['frames'], marker = '.')\n",
    "ax1.scatter(HBSS_3_df['Euc']*70, HBSS_3_df['frames'], marker = '.')\n",
    "ax1.scatter(HBSS_4_df['Euc']*70, HBSS_4_df['frames'], marker = '.')\n",
    "ax1.scatter(HBSS_5_df['Euc']*70, HBSS_5_df['frames'], marker = '.')\n",
    "ax1.scatter(SCM_1_df['Euc']*70, SCM_1_df['frames'], marker = '.')\n",
    "ax1.scatter(SCM_2_df['Euc']*70, SCM_2_df['frames'], marker = '.')\n",
    "ax1.scatter(SCM_3_df['Euc']*70, SCM_3_df['frames'], marker = '.')\n",
    "ax1.scatter(SCM_4_df['Euc']*70, SCM_4_df['frames'], marker = '.')\n",
    "ax1.scatter(SCM_5_df['Euc']*70, SCM_5_df['frames'], marker = '.')\n",
    "#plt.ylim(-1,10)\n",
    "plt.xlim(-25,1000)\n",
    "plt.ylabel('frames')\n",
    "plt.xlabel('distance (nm)')\n",
    "plt.show()"
   ]
  },
  {
   "cell_type": "code",
   "execution_count": 24,
   "metadata": {},
   "outputs": [
    {
     "data": {
      "image/png": "[encoded data removed]",
      "text/plain": [
       "<matplotlib.figure.Figure at 0x7faaaf175790>"
      ]
     },
     "metadata": {},
     "output_type": "display_data"
    }
   ],
   "source": [
    "fig = plt.figure()\n",
    "ax1 = fig.add_subplot(111)\n",
    "\n",
    "ax1.scatter(HBSS_1_df['Euc']*70, HBSS_1_df['straightness'], marker = '.')\n",
    "ax1.scatter(HBSS_2_df['Euc']*70, HBSS_2_df['straightness'], marker = '.')\n",
    "ax1.scatter(HBSS_3_df['Euc']*70, HBSS_3_df['straightness'], marker = '.')\n",
    "ax1.scatter(HBSS_4_df['Euc']*70, HBSS_4_df['straightness'], marker = '.')\n",
    "ax1.scatter(HBSS_5_df['Euc']*70, HBSS_5_df['straightness'], marker = '.')\n",
    "ax1.scatter(SCM_1_df['Euc']*70, SCM_1_df['straightness'], marker = '.')\n",
    "ax1.scatter(SCM_2_df['Euc']*70, SCM_2_df['straightness'], marker = '.')\n",
    "ax1.scatter(SCM_3_df['Euc']*70, SCM_3_df['straightness'], marker = '.')\n",
    "ax1.scatter(SCM_4_df['Euc']*70, SCM_4_df['straightness'], marker = '.')\n",
    "ax1.scatter(SCM_5_df['Euc']*70, SCM_5_df['straightness'], marker = '.')\n",
    "plt.ylim(-0.03,0.5)\n",
    "plt.xlim(-25,1000)\n",
    "plt.ylabel('straightness')\n",
    "plt.xlabel('distance (nm)')\n",
    "plt.show()"
   ]
  },
  {
   "cell_type": "code",
   "execution_count": 25,
   "metadata": {},
   "outputs": [
    {
     "data": {
      "image/png": "[encoded data removed]",
      "text/plain": [
       "<matplotlib.figure.Figure at 0x7faaaf1cc190>"
      ]
     },
     "metadata": {},
     "output_type": "display_data"
    }
   ],
   "source": [
    "fig = plt.figure()\n",
    "ax1 = fig.add_subplot(111)\n",
    "\n",
    "ax1.scatter(HBSS_1_df['Euc']*70, HBSS_1_df['efficiency'], marker = '.')\n",
    "ax1.scatter(HBSS_2_df['Euc']*70, HBSS_2_df['efficiency'], marker = '.')\n",
    "ax1.scatter(HBSS_3_df['Euc']*70, HBSS_3_df['efficiency'], marker = '.')\n",
    "ax1.scatter(HBSS_4_df['Euc']*70, HBSS_4_df['efficiency'], marker = '.')\n",
    "ax1.scatter(HBSS_5_df['Euc']*70, HBSS_5_df['efficiency'], marker = '.')\n",
    "ax1.scatter(SCM_1_df['Euc']*70, SCM_1_df['efficiency'], marker = '.')\n",
    "ax1.scatter(SCM_2_df['Euc']*70, SCM_2_df['efficiency'], marker = '.')\n",
    "ax1.scatter(SCM_3_df['Euc']*70, SCM_3_df['efficiency'], marker = '.')\n",
    "ax1.scatter(SCM_4_df['Euc']*70, SCM_4_df['efficiency'], marker = '.')\n",
    "ax1.scatter(SCM_5_df['Euc']*70, SCM_5_df['efficiency'], marker = '.')\n",
    "plt.ylim(-0.3,5)\n",
    "plt.xlim(-25,1000)\n",
    "plt.ylabel('efficiency')\n",
    "plt.xlabel('distance (nm)')\n",
    "plt.show()"
   ]
  },
  {
   "cell_type": "code",
   "execution_count": 26,
   "metadata": {},
   "outputs": [
    {
     "data": {
      "image/png": "[encoded data removed]",
      "text/plain": [
       "<matplotlib.figure.Figure at 0x7faaaedb2b90>"
      ]
     },
     "metadata": {},
     "output_type": "display_data"
    }
   ],
   "source": [
    "fig = plt.figure()\n",
    "ax1 = fig.add_subplot(111)\n",
    "\n",
    "ax1.scatter(HBSS_1_df['Euc']*70, HBSS_1_df['AR'], marker = '.')\n",
    "ax1.scatter(HBSS_2_df['Euc']*70, HBSS_2_df['AR'], marker = '.')\n",
    "ax1.scatter(HBSS_3_df['Euc']*70, HBSS_3_df['AR'], marker = '.')\n",
    "ax1.scatter(HBSS_4_df['Euc']*70, HBSS_4_df['AR'], marker = '.')\n",
    "ax1.scatter(HBSS_5_df['Euc']*70, HBSS_5_df['AR'], marker = '.')\n",
    "ax1.scatter(SCM_1_df['Euc']*70, SCM_1_df['AR'], marker = '.')\n",
    "ax1.scatter(SCM_2_df['Euc']*70, SCM_2_df['AR'], marker = '.')\n",
    "ax1.scatter(SCM_3_df['Euc']*70, SCM_3_df['AR'], marker = '.')\n",
    "ax1.scatter(SCM_4_df['Euc']*70, SCM_4_df['AR'], marker = '.')\n",
    "ax1.scatter(SCM_5_df['Euc']*70, SCM_5_df['AR'], marker = '.')\n",
    "plt.ylim(-0.2,9)\n",
    "plt.xlim(-25,1000)\n",
    "plt.ylabel('Aspect Ratio')\n",
    "plt.xlabel('distance (nm)')\n",
    "plt.show()"
   ]
  },
  {
   "cell_type": "code",
   "execution_count": 23,
   "metadata": {},
   "outputs": [
    {
     "data": {
      "image/png": "[encoded data removed]",
      "text/plain": [
       "<matplotlib.figure.Figure at 0x7faaaf1d9510>"
      ]
     },
     "metadata": {},
     "output_type": "display_data"
    }
   ],
   "source": [
    "fig = plt.figure()\n",
    "ax1 = fig.add_subplot(111)\n",
    "\n",
    "ax1.scatter(HBSS_1_df['Euc']*70, HBSS_1_df['boundedness'], marker = '.')\n",
    "ax1.scatter(HBSS_2_df['Euc']*70, HBSS_2_df['boundedness'], marker = '.')\n",
    "ax1.scatter(HBSS_3_df['Euc']*70, HBSS_3_df['boundedness'], marker = '.')\n",
    "ax1.scatter(HBSS_4_df['Euc']*70, HBSS_4_df['boundedness'], marker = '.')\n",
    "ax1.scatter(HBSS_5_df['Euc']*70, HBSS_5_df['boundedness'], marker = '.')\n",
    "ax1.scatter(SCM_1_df['Euc']*70, SCM_1_df['boundedness'], marker = '.')\n",
    "ax1.scatter(SCM_2_df['Euc']*70, SCM_2_df['boundedness'], marker = '.')\n",
    "ax1.scatter(SCM_3_df['Euc']*70, SCM_3_df['boundedness'], marker = '.')\n",
    "ax1.scatter(SCM_4_df['Euc']*70, SCM_4_df['boundedness'], marker = '.')\n",
    "ax1.scatter(SCM_5_df['Euc']*70, SCM_5_df['boundedness'], marker = '.')\n",
    "plt.ylim(-0.02,0.2)\n",
    "plt.xlim(-25,1000)\n",
    "plt.ylabel('boundedness')\n",
    "plt.xlabel('distance (nm)')\n",
    "plt.show()"
   ]
  },
  {
   "cell_type": "code",
   "execution_count": 6,
   "metadata": {},
   "outputs": [
    {
     "data": {
      "image/png": "[encoded data removed]",
      "text/plain": [
       "<matplotlib.figure.Figure at 0x7faaaf4ebbd0>"
      ]
     },
     "metadata": {},
     "output_type": "display_data"
    }
   ],
   "source": [
    "fig = plt.figure()\n",
    "ax1 = fig.add_subplot(111)\n",
    "\n",
    "ax1.scatter(HBSS_1_df['Euc'], HBSS_1_df['Euc'], marker = '.')\n",
    "ax1.scatter(HBSS_2_df['Euc'], HBSS_2_df['Euc'], marker = '.')\n",
    "ax1.scatter(HBSS_3_df['Euc'], HBSS_3_df['Euc'], marker = '.')\n",
    "ax1.scatter(HBSS_4_df['Euc'], HBSS_4_df['Euc'], marker = '.')\n",
    "ax1.scatter(HBSS_5_df['Euc'], HBSS_5_df['Euc'], marker = '.')\n",
    "ax1.scatter(SCM_1_df['Euc'], SCM_1_df['Euc'], marker = '.')\n",
    "ax1.scatter(SCM_2_df['Euc'], SCM_2_df['Euc'], marker = '.')\n",
    "ax1.scatter(SCM_3_df['Euc'], SCM_3_df['Euc'], marker = '.')\n",
    "ax1.scatter(SCM_4_df['Euc'], SCM_4_df['Euc'], marker = '.')\n",
    "ax1.scatter(SCM_5_df['Euc'], SCM_5_df['Euc'], marker = '.')\n",
    "#plt.ylim(0,4.5)\n",
    "#plt.xlim(0,1000)\n",
    "plt.show()"
   ]
  },
  {
   "cell_type": "code",
   "execution_count": 7,
   "metadata": {},
   "outputs": [
    {
     "ename": "NameError",
     "evalue": "name 'tot_traj' is not defined",
     "output_type": "error",
     "traceback": [
      "\u001b[0;31m---------------------------------------------------------------------------\u001b[0m",
      "\u001b[0;31mNameError\u001b[0m                                 Traceback (most recent call last)",
      "\u001b[0;32m<ipython-input-7-d416335aaf71>\u001b[0m in \u001b[0;36m<module>\u001b[0;34m()\u001b[0m\n\u001b[0;32m----> 1\u001b[0;31m \u001b[0mx\u001b[0m \u001b[0;34m=\u001b[0m \u001b[0mnp\u001b[0m\u001b[0;34m.\u001b[0m\u001b[0mzeros\u001b[0m\u001b[0;34m(\u001b[0m\u001b[0mtot_traj\u001b[0m\u001b[0;34m+\u001b[0m\u001b[0;36m1\u001b[0m\u001b[0;34m)\u001b[0m\u001b[0;34m\u001b[0m\u001b[0m\n\u001b[0m\u001b[1;32m      2\u001b[0m \u001b[0my\u001b[0m \u001b[0;34m=\u001b[0m \u001b[0mnp\u001b[0m\u001b[0;34m.\u001b[0m\u001b[0mzeros\u001b[0m\u001b[0;34m(\u001b[0m\u001b[0mtot_traj\u001b[0m\u001b[0;34m+\u001b[0m\u001b[0;36m1\u001b[0m\u001b[0;34m)\u001b[0m\u001b[0;34m\u001b[0m\u001b[0m\n\u001b[1;32m      3\u001b[0m \u001b[0;34m\u001b[0m\u001b[0m\n\u001b[1;32m      4\u001b[0m \u001b[0mp\u001b[0m \u001b[0;34m=\u001b[0m \u001b[0;36m0\u001b[0m\u001b[0;34m\u001b[0m\u001b[0m\n\u001b[1;32m      5\u001b[0m \u001b[0;32mfor\u001b[0m \u001b[0mi\u001b[0m \u001b[0;32min\u001b[0m \u001b[0mrange\u001b[0m\u001b[0;34m(\u001b[0m\u001b[0mnp\u001b[0m\u001b[0;34m.\u001b[0m\u001b[0msize\u001b[0m\u001b[0;34m(\u001b[0m\u001b[0mplot_array\u001b[0m\u001b[0;34m)\u001b[0m\u001b[0;34m)\u001b[0m\u001b[0;34m:\u001b[0m\u001b[0;34m\u001b[0m\u001b[0m\n",
      "\u001b[0;31mNameError\u001b[0m: name 'tot_traj' is not defined"
     ]
    }
   ],
   "source": [
    "x = np.zeros(tot_traj+1)\n",
    "y = np.zeros(tot_traj+1)\n",
    "\n",
    "p = 0\n",
    "for i in range(np.size(plot_array)):\n",
    "    for j in range(len(plot_array[i])):\n",
    "        x[p] = i+1\n",
    "        y[p] = plot_array[i][j]\n",
    "        p = p + 1\n",
    "\n",
    "plt.subplot(211)\n",
    "plt.boxplot(summary_array, sym = '')\n",
    "plt.subplot(212)\n",
    "plt.boxplot(plot_array, showfliers = False)\n",
    "plt.plot(x,y,'k.')\n",
    "plt.show()"
   ]
  }
 ],
 "metadata": {
  "kernelspec": {
   "display_name": "Python 2",
   "language": "python",
   "name": "python2"
  },
  "language_info": {
   "codemirror_mode": {
    "name": "ipython",
    "version": 2
   },
   "file_extension": ".py",
   "mimetype": "text/x-python",
   "name": "python",
   "nbconvert_exporter": "python",
   "pygments_lexer": "ipython2",
   "version": "2.7.12"
  }
 },
 "nbformat": 4,
 "nbformat_minor": 2
}
