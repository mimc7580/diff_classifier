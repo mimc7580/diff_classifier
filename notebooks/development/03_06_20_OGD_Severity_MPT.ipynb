{
 "cells": [
  {
   "cell_type": "markdown",
   "metadata": {},
   "source": [
    "# Experiment Initialization"
   ]
  },
  {
   "cell_type": "markdown",
   "metadata": {},
   "source": [
    "Here, the terms of the experiment are defined, such as the location of the files in S3 (bucket and folder name), and each of the video prefixes (everything before the file extension) that need to be tracked. \n",
    "\n",
    "Note that these videos should be similar-ish: while we can account for differences in mean intensities between videos, particle sizes should be approximately the same, and (slightly less important) particles should be moving at about the same order of magnitude speed. In this experiment, these videos were taken in 0.4% agarose gel at 100x magnification and 100.02 fps shutter speeds with nanoparticles of about 100nm in diameter."
   ]
  },
  {
   "cell_type": "code",
   "execution_count": 1,
   "metadata": {},
   "outputs": [],
   "source": [
    "to_track = [] # This is going to be the list of all filenames that will be included in the analysis\n",
    "start_knot = 75 #Must be unique number for every run on Cloudknot.\n",
    "\n",
    "remote_folder = '03_06_20_OGD_Severity_MPT' # The folder in AWS S3 containing the files to be analyzed\n",
    "bucket = 'mckenna.data' # The bucket in AWS S3 where the remote_folder is contained\n",
    "vids = 5 # this is the number of vids that were taken per condition (usually corresponding to different locations)\n",
    "conditions = ['OGD_0_5h', 'OGD_1_5h']\n",
    "slices = 3\n",
    "regions = ['cortex', 'striatum']\n",
    "\n",
    "for cond in conditions:\n",
    "    for slic in range(1,slices+1):\n",
    "        for reg in regions:\n",
    "            for num in range(1,vids+1):\n",
    "                to_track.append('{}_slice_{}_{}_vid_{}'.format(cond, slic, reg, num))"
   ]
  },
  {
   "cell_type": "code",
   "execution_count": 2,
   "metadata": {},
   "outputs": [
    {
     "data": {
      "text/plain": [
       "['OGD_0_5h_slice_1_cortex_vid_1',\n",
       " 'OGD_0_5h_slice_1_cortex_vid_2',\n",
       " 'OGD_0_5h_slice_1_cortex_vid_3',\n",
       " 'OGD_0_5h_slice_1_cortex_vid_4',\n",
       " 'OGD_0_5h_slice_1_cortex_vid_5',\n",
       " 'OGD_0_5h_slice_1_striatum_vid_1',\n",
       " 'OGD_0_5h_slice_1_striatum_vid_2',\n",
       " 'OGD_0_5h_slice_1_striatum_vid_3',\n",
       " 'OGD_0_5h_slice_1_striatum_vid_4',\n",
       " 'OGD_0_5h_slice_1_striatum_vid_5',\n",
       " 'OGD_0_5h_slice_2_cortex_vid_1',\n",
       " 'OGD_0_5h_slice_2_cortex_vid_2',\n",
       " 'OGD_0_5h_slice_2_cortex_vid_3',\n",
       " 'OGD_0_5h_slice_2_cortex_vid_4',\n",
       " 'OGD_0_5h_slice_2_cortex_vid_5',\n",
       " 'OGD_0_5h_slice_2_striatum_vid_1',\n",
       " 'OGD_0_5h_slice_2_striatum_vid_2',\n",
       " 'OGD_0_5h_slice_2_striatum_vid_3',\n",
       " 'OGD_0_5h_slice_2_striatum_vid_4',\n",
       " 'OGD_0_5h_slice_2_striatum_vid_5',\n",
       " 'OGD_0_5h_slice_3_cortex_vid_1',\n",
       " 'OGD_0_5h_slice_3_cortex_vid_2',\n",
       " 'OGD_0_5h_slice_3_cortex_vid_3',\n",
       " 'OGD_0_5h_slice_3_cortex_vid_4',\n",
       " 'OGD_0_5h_slice_3_cortex_vid_5',\n",
       " 'OGD_0_5h_slice_3_striatum_vid_1',\n",
       " 'OGD_0_5h_slice_3_striatum_vid_2',\n",
       " 'OGD_0_5h_slice_3_striatum_vid_3',\n",
       " 'OGD_0_5h_slice_3_striatum_vid_4',\n",
       " 'OGD_0_5h_slice_3_striatum_vid_5',\n",
       " 'OGD_1_5h_slice_1_cortex_vid_1',\n",
       " 'OGD_1_5h_slice_1_cortex_vid_2',\n",
       " 'OGD_1_5h_slice_1_cortex_vid_3',\n",
       " 'OGD_1_5h_slice_1_cortex_vid_4',\n",
       " 'OGD_1_5h_slice_1_cortex_vid_5',\n",
       " 'OGD_1_5h_slice_1_striatum_vid_1',\n",
       " 'OGD_1_5h_slice_1_striatum_vid_2',\n",
       " 'OGD_1_5h_slice_1_striatum_vid_3',\n",
       " 'OGD_1_5h_slice_1_striatum_vid_4',\n",
       " 'OGD_1_5h_slice_1_striatum_vid_5',\n",
       " 'OGD_1_5h_slice_2_cortex_vid_1',\n",
       " 'OGD_1_5h_slice_2_cortex_vid_2',\n",
       " 'OGD_1_5h_slice_2_cortex_vid_3',\n",
       " 'OGD_1_5h_slice_2_cortex_vid_4',\n",
       " 'OGD_1_5h_slice_2_cortex_vid_5',\n",
       " 'OGD_1_5h_slice_2_striatum_vid_1',\n",
       " 'OGD_1_5h_slice_2_striatum_vid_2',\n",
       " 'OGD_1_5h_slice_2_striatum_vid_3',\n",
       " 'OGD_1_5h_slice_2_striatum_vid_4',\n",
       " 'OGD_1_5h_slice_2_striatum_vid_5',\n",
       " 'OGD_1_5h_slice_3_cortex_vid_1',\n",
       " 'OGD_1_5h_slice_3_cortex_vid_2',\n",
       " 'OGD_1_5h_slice_3_cortex_vid_3',\n",
       " 'OGD_1_5h_slice_3_cortex_vid_4',\n",
       " 'OGD_1_5h_slice_3_cortex_vid_5',\n",
       " 'OGD_1_5h_slice_3_striatum_vid_1',\n",
       " 'OGD_1_5h_slice_3_striatum_vid_2',\n",
       " 'OGD_1_5h_slice_3_striatum_vid_3',\n",
       " 'OGD_1_5h_slice_3_striatum_vid_4',\n",
       " 'OGD_1_5h_slice_3_striatum_vid_5']"
      ]
     },
     "execution_count": 2,
     "metadata": {},
     "output_type": "execute_result"
    }
   ],
   "source": [
    "to_track"
   ]
  },
  {
   "cell_type": "markdown",
   "metadata": {},
   "source": [
    "The videos used with this analysis are fairly large (2048 x 2048 pixels and 651 frames), and in cases like this, the tracking algorithm can quickly eat up RAM. In this case, we chose to crop the videos to 512 x 512 images such that we can run our jobs on smaller EC2 instances with 16GB of RAM. \n",
    "\n",
    "Note that larger jobs can be made with user-defined functions such that splitting isn't necessary-- or perhaps an intermediate amount of memory that contains splitting, tracking, and msd calculation functions all performed on a single EC2 instance.\n",
    "\n",
    "The compiled functions in the knotlets module require access to buckets on AWS. In this case, we will be using a publicly (read-only) bucket. If users want to run this notebook on their own, will have to transfer files from nancelab.publicfiles to their own bucket, as it requires writing to S3 buckets."
   ]
  },
  {
   "cell_type": "code",
   "execution_count": 3,
   "metadata": {},
   "outputs": [],
   "source": [
    "import diff_classifier.knotlets as kn"
   ]
  },
  {
   "cell_type": "code",
   "execution_count": 4,
   "metadata": {},
   "outputs": [
    {
     "name": "stderr",
     "output_type": "stream",
     "text": [
      "/home/ubuntu/miniconda3/lib/python3.6/site-packages/skimage/io/_io.py:132: UserWarning: /home/ubuntu/source/mike_fork/diff_classifier/notebooks/development/OGD_0_5h_slice_1_cortex_vid_1_0_0.tif is a low contrast image\n",
      "  warn('%s is a low contrast image' % fname)\n",
      "/home/ubuntu/miniconda3/lib/python3.6/site-packages/skimage/io/_io.py:132: UserWarning: /home/ubuntu/source/mike_fork/diff_classifier/notebooks/development/OGD_0_5h_slice_1_cortex_vid_1_0_1.tif is a low contrast image\n",
      "  warn('%s is a low contrast image' % fname)\n",
      "/home/ubuntu/miniconda3/lib/python3.6/site-packages/skimage/io/_io.py:132: UserWarning: /home/ubuntu/source/mike_fork/diff_classifier/notebooks/development/OGD_0_5h_slice_1_cortex_vid_1_0_2.tif is a low contrast image\n",
      "  warn('%s is a low contrast image' % fname)\n",
      "/home/ubuntu/miniconda3/lib/python3.6/site-packages/skimage/io/_io.py:132: UserWarning: /home/ubuntu/source/mike_fork/diff_classifier/notebooks/development/OGD_0_5h_slice_1_cortex_vid_1_0_3.tif is a low contrast image\n",
      "  warn('%s is a low contrast image' % fname)\n",
      "/home/ubuntu/miniconda3/lib/python3.6/site-packages/skimage/io/_io.py:132: UserWarning: /home/ubuntu/source/mike_fork/diff_classifier/notebooks/development/OGD_0_5h_slice_1_cortex_vid_1_1_0.tif is a low contrast image\n",
      "  warn('%s is a low contrast image' % fname)\n",
      "/home/ubuntu/miniconda3/lib/python3.6/site-packages/skimage/io/_io.py:132: UserWarning: /home/ubuntu/source/mike_fork/diff_classifier/notebooks/development/OGD_0_5h_slice_1_cortex_vid_1_1_1.tif is a low contrast image\n",
      "  warn('%s is a low contrast image' % fname)\n",
      "/home/ubuntu/miniconda3/lib/python3.6/site-packages/skimage/io/_io.py:132: UserWarning: /home/ubuntu/source/mike_fork/diff_classifier/notebooks/development/OGD_0_5h_slice_1_cortex_vid_1_1_2.tif is a low contrast image\n",
      "  warn('%s is a low contrast image' % fname)\n",
      "/home/ubuntu/miniconda3/lib/python3.6/site-packages/skimage/io/_io.py:132: UserWarning: /home/ubuntu/source/mike_fork/diff_classifier/notebooks/development/OGD_0_5h_slice_1_cortex_vid_1_1_3.tif is a low contrast image\n",
      "  warn('%s is a low contrast image' % fname)\n",
      "/home/ubuntu/miniconda3/lib/python3.6/site-packages/skimage/io/_io.py:132: UserWarning: /home/ubuntu/source/mike_fork/diff_classifier/notebooks/development/OGD_0_5h_slice_1_cortex_vid_1_2_0.tif is a low contrast image\n",
      "  warn('%s is a low contrast image' % fname)\n",
      "/home/ubuntu/miniconda3/lib/python3.6/site-packages/skimage/io/_io.py:132: UserWarning: /home/ubuntu/source/mike_fork/diff_classifier/notebooks/development/OGD_0_5h_slice_1_cortex_vid_1_2_1.tif is a low contrast image\n",
      "  warn('%s is a low contrast image' % fname)\n",
      "/home/ubuntu/miniconda3/lib/python3.6/site-packages/skimage/io/_io.py:132: UserWarning: /home/ubuntu/source/mike_fork/diff_classifier/notebooks/development/OGD_0_5h_slice_1_cortex_vid_1_2_2.tif is a low contrast image\n",
      "  warn('%s is a low contrast image' % fname)\n",
      "/home/ubuntu/miniconda3/lib/python3.6/site-packages/skimage/io/_io.py:132: UserWarning: /home/ubuntu/source/mike_fork/diff_classifier/notebooks/development/OGD_0_5h_slice_1_cortex_vid_1_2_3.tif is a low contrast image\n",
      "  warn('%s is a low contrast image' % fname)\n",
      "/home/ubuntu/miniconda3/lib/python3.6/site-packages/skimage/io/_io.py:132: UserWarning: /home/ubuntu/source/mike_fork/diff_classifier/notebooks/development/OGD_0_5h_slice_1_cortex_vid_1_3_0.tif is a low contrast image\n",
      "  warn('%s is a low contrast image' % fname)\n",
      "/home/ubuntu/miniconda3/lib/python3.6/site-packages/skimage/io/_io.py:132: UserWarning: /home/ubuntu/source/mike_fork/diff_classifier/notebooks/development/OGD_0_5h_slice_1_cortex_vid_1_3_1.tif is a low contrast image\n",
      "  warn('%s is a low contrast image' % fname)\n",
      "/home/ubuntu/miniconda3/lib/python3.6/site-packages/skimage/io/_io.py:132: UserWarning: /home/ubuntu/source/mike_fork/diff_classifier/notebooks/development/OGD_0_5h_slice_1_cortex_vid_1_3_2.tif is a low contrast image\n",
      "  warn('%s is a low contrast image' % fname)\n",
      "/home/ubuntu/miniconda3/lib/python3.6/site-packages/skimage/io/_io.py:132: UserWarning: /home/ubuntu/source/mike_fork/diff_classifier/notebooks/development/OGD_0_5h_slice_1_cortex_vid_1_3_3.tif is a low contrast image\n",
      "  warn('%s is a low contrast image' % fname)\n"
     ]
    },
    {
     "name": "stdout",
     "output_type": "stream",
     "text": [
      "Done with splitting. Should output file of name 03_06_20_OGD_Severity_MPT/OGD_0_5h_slice_1_cortex_vid_1_0_0.tif\n",
      "Done with splitting. Should output file of name 03_06_20_OGD_Severity_MPT/OGD_0_5h_slice_1_cortex_vid_1_0_1.tif\n",
      "Done with splitting. Should output file of name 03_06_20_OGD_Severity_MPT/OGD_0_5h_slice_1_cortex_vid_1_0_2.tif\n",
      "Done with splitting. Should output file of name 03_06_20_OGD_Severity_MPT/OGD_0_5h_slice_1_cortex_vid_1_0_3.tif\n",
      "Done with splitting. Should output file of name 03_06_20_OGD_Severity_MPT/OGD_0_5h_slice_1_cortex_vid_1_1_0.tif\n",
      "Done with splitting. Should output file of name 03_06_20_OGD_Severity_MPT/OGD_0_5h_slice_1_cortex_vid_1_1_1.tif\n",
      "Done with splitting. Should output file of name 03_06_20_OGD_Severity_MPT/OGD_0_5h_slice_1_cortex_vid_1_1_2.tif\n",
      "Done with splitting. Should output file of name 03_06_20_OGD_Severity_MPT/OGD_0_5h_slice_1_cortex_vid_1_1_3.tif\n",
      "Done with splitting. Should output file of name 03_06_20_OGD_Severity_MPT/OGD_0_5h_slice_1_cortex_vid_1_2_0.tif\n",
      "Done with splitting. Should output file of name 03_06_20_OGD_Severity_MPT/OGD_0_5h_slice_1_cortex_vid_1_2_1.tif\n",
      "Done with splitting. Should output file of name 03_06_20_OGD_Severity_MPT/OGD_0_5h_slice_1_cortex_vid_1_2_2.tif\n",
      "Done with splitting. Should output file of name 03_06_20_OGD_Severity_MPT/OGD_0_5h_slice_1_cortex_vid_1_2_3.tif\n",
      "Done with splitting. Should output file of name 03_06_20_OGD_Severity_MPT/OGD_0_5h_slice_1_cortex_vid_1_3_0.tif\n",
      "Done with splitting. Should output file of name 03_06_20_OGD_Severity_MPT/OGD_0_5h_slice_1_cortex_vid_1_3_1.tif\n",
      "Done with splitting. Should output file of name 03_06_20_OGD_Severity_MPT/OGD_0_5h_slice_1_cortex_vid_1_3_2.tif\n",
      "Done with splitting. Should output file of name 03_06_20_OGD_Severity_MPT/OGD_0_5h_slice_1_cortex_vid_1_3_3.tif\n"
     ]
    },
    {
     "name": "stderr",
     "output_type": "stream",
     "text": [
      "/home/ubuntu/miniconda3/lib/python3.6/site-packages/skimage/io/_io.py:132: UserWarning: /home/ubuntu/source/mike_fork/diff_classifier/notebooks/development/OGD_0_5h_slice_1_cortex_vid_2_0_0.tif is a low contrast image\n",
      "  warn('%s is a low contrast image' % fname)\n",
      "/home/ubuntu/miniconda3/lib/python3.6/site-packages/skimage/io/_io.py:132: UserWarning: /home/ubuntu/source/mike_fork/diff_classifier/notebooks/development/OGD_0_5h_slice_1_cortex_vid_2_0_1.tif is a low contrast image\n",
      "  warn('%s is a low contrast image' % fname)\n",
      "/home/ubuntu/miniconda3/lib/python3.6/site-packages/skimage/io/_io.py:132: UserWarning: /home/ubuntu/source/mike_fork/diff_classifier/notebooks/development/OGD_0_5h_slice_1_cortex_vid_2_0_2.tif is a low contrast image\n",
      "  warn('%s is a low contrast image' % fname)\n",
      "/home/ubuntu/miniconda3/lib/python3.6/site-packages/skimage/io/_io.py:132: UserWarning: /home/ubuntu/source/mike_fork/diff_classifier/notebooks/development/OGD_0_5h_slice_1_cortex_vid_2_0_3.tif is a low contrast image\n",
      "  warn('%s is a low contrast image' % fname)\n",
      "/home/ubuntu/miniconda3/lib/python3.6/site-packages/skimage/io/_io.py:132: UserWarning: /home/ubuntu/source/mike_fork/diff_classifier/notebooks/development/OGD_0_5h_slice_1_cortex_vid_2_1_0.tif is a low contrast image\n",
      "  warn('%s is a low contrast image' % fname)\n",
      "/home/ubuntu/miniconda3/lib/python3.6/site-packages/skimage/io/_io.py:132: UserWarning: /home/ubuntu/source/mike_fork/diff_classifier/notebooks/development/OGD_0_5h_slice_1_cortex_vid_2_1_1.tif is a low contrast image\n",
      "  warn('%s is a low contrast image' % fname)\n",
      "/home/ubuntu/miniconda3/lib/python3.6/site-packages/skimage/io/_io.py:132: UserWarning: /home/ubuntu/source/mike_fork/diff_classifier/notebooks/development/OGD_0_5h_slice_1_cortex_vid_2_1_2.tif is a low contrast image\n",
      "  warn('%s is a low contrast image' % fname)\n",
      "/home/ubuntu/miniconda3/lib/python3.6/site-packages/skimage/io/_io.py:132: UserWarning: /home/ubuntu/source/mike_fork/diff_classifier/notebooks/development/OGD_0_5h_slice_1_cortex_vid_2_1_3.tif is a low contrast image\n",
      "  warn('%s is a low contrast image' % fname)\n",
      "/home/ubuntu/miniconda3/lib/python3.6/site-packages/skimage/io/_io.py:132: UserWarning: /home/ubuntu/source/mike_fork/diff_classifier/notebooks/development/OGD_0_5h_slice_1_cortex_vid_2_2_0.tif is a low contrast image\n",
      "  warn('%s is a low contrast image' % fname)\n",
      "/home/ubuntu/miniconda3/lib/python3.6/site-packages/skimage/io/_io.py:132: UserWarning: /home/ubuntu/source/mike_fork/diff_classifier/notebooks/development/OGD_0_5h_slice_1_cortex_vid_2_2_1.tif is a low contrast image\n",
      "  warn('%s is a low contrast image' % fname)\n",
      "/home/ubuntu/miniconda3/lib/python3.6/site-packages/skimage/io/_io.py:132: UserWarning: /home/ubuntu/source/mike_fork/diff_classifier/notebooks/development/OGD_0_5h_slice_1_cortex_vid_2_2_2.tif is a low contrast image\n",
      "  warn('%s is a low contrast image' % fname)\n",
      "/home/ubuntu/miniconda3/lib/python3.6/site-packages/skimage/io/_io.py:132: UserWarning: /home/ubuntu/source/mike_fork/diff_classifier/notebooks/development/OGD_0_5h_slice_1_cortex_vid_2_2_3.tif is a low contrast image\n",
      "  warn('%s is a low contrast image' % fname)\n",
      "/home/ubuntu/miniconda3/lib/python3.6/site-packages/skimage/io/_io.py:132: UserWarning: /home/ubuntu/source/mike_fork/diff_classifier/notebooks/development/OGD_0_5h_slice_1_cortex_vid_2_3_0.tif is a low contrast image\n",
      "  warn('%s is a low contrast image' % fname)\n",
      "/home/ubuntu/miniconda3/lib/python3.6/site-packages/skimage/io/_io.py:132: UserWarning: /home/ubuntu/source/mike_fork/diff_classifier/notebooks/development/OGD_0_5h_slice_1_cortex_vid_2_3_1.tif is a low contrast image\n",
      "  warn('%s is a low contrast image' % fname)\n",
      "/home/ubuntu/miniconda3/lib/python3.6/site-packages/skimage/io/_io.py:132: UserWarning: /home/ubuntu/source/mike_fork/diff_classifier/notebooks/development/OGD_0_5h_slice_1_cortex_vid_2_3_2.tif is a low contrast image\n",
      "  warn('%s is a low contrast image' % fname)\n",
      "/home/ubuntu/miniconda3/lib/python3.6/site-packages/skimage/io/_io.py:132: UserWarning: /home/ubuntu/source/mike_fork/diff_classifier/notebooks/development/OGD_0_5h_slice_1_cortex_vid_2_3_3.tif is a low contrast image\n",
      "  warn('%s is a low contrast image' % fname)\n"
     ]
    },
    {
     "name": "stdout",
     "output_type": "stream",
     "text": [
      "Done with splitting. Should output file of name 03_06_20_OGD_Severity_MPT/OGD_0_5h_slice_1_cortex_vid_2_0_0.tif\n",
      "Done with splitting. Should output file of name 03_06_20_OGD_Severity_MPT/OGD_0_5h_slice_1_cortex_vid_2_0_1.tif\n",
      "Done with splitting. Should output file of name 03_06_20_OGD_Severity_MPT/OGD_0_5h_slice_1_cortex_vid_2_0_2.tif\n",
      "Done with splitting. Should output file of name 03_06_20_OGD_Severity_MPT/OGD_0_5h_slice_1_cortex_vid_2_0_3.tif\n",
      "Done with splitting. Should output file of name 03_06_20_OGD_Severity_MPT/OGD_0_5h_slice_1_cortex_vid_2_1_0.tif\n",
      "Done with splitting. Should output file of name 03_06_20_OGD_Severity_MPT/OGD_0_5h_slice_1_cortex_vid_2_1_1.tif\n",
      "Done with splitting. Should output file of name 03_06_20_OGD_Severity_MPT/OGD_0_5h_slice_1_cortex_vid_2_1_2.tif\n",
      "Done with splitting. Should output file of name 03_06_20_OGD_Severity_MPT/OGD_0_5h_slice_1_cortex_vid_2_1_3.tif\n",
      "Done with splitting. Should output file of name 03_06_20_OGD_Severity_MPT/OGD_0_5h_slice_1_cortex_vid_2_2_0.tif\n",
      "Done with splitting. Should output file of name 03_06_20_OGD_Severity_MPT/OGD_0_5h_slice_1_cortex_vid_2_2_1.tif\n",
      "Done with splitting. Should output file of name 03_06_20_OGD_Severity_MPT/OGD_0_5h_slice_1_cortex_vid_2_2_2.tif\n",
      "Done with splitting. Should output file of name 03_06_20_OGD_Severity_MPT/OGD_0_5h_slice_1_cortex_vid_2_2_3.tif\n",
      "Done with splitting. Should output file of name 03_06_20_OGD_Severity_MPT/OGD_0_5h_slice_1_cortex_vid_2_3_0.tif\n",
      "Done with splitting. Should output file of name 03_06_20_OGD_Severity_MPT/OGD_0_5h_slice_1_cortex_vid_2_3_1.tif\n",
      "Done with splitting. Should output file of name 03_06_20_OGD_Severity_MPT/OGD_0_5h_slice_1_cortex_vid_2_3_2.tif\n",
      "Done with splitting. Should output file of name 03_06_20_OGD_Severity_MPT/OGD_0_5h_slice_1_cortex_vid_2_3_3.tif\n"
     ]
    },
    {
     "name": "stderr",
     "output_type": "stream",
     "text": [
      "/home/ubuntu/miniconda3/lib/python3.6/site-packages/skimage/io/_io.py:132: UserWarning: /home/ubuntu/source/mike_fork/diff_classifier/notebooks/development/OGD_0_5h_slice_1_cortex_vid_3_0_0.tif is a low contrast image\n",
      "  warn('%s is a low contrast image' % fname)\n",
      "/home/ubuntu/miniconda3/lib/python3.6/site-packages/skimage/io/_io.py:132: UserWarning: /home/ubuntu/source/mike_fork/diff_classifier/notebooks/development/OGD_0_5h_slice_1_cortex_vid_3_0_1.tif is a low contrast image\n",
      "  warn('%s is a low contrast image' % fname)\n",
      "/home/ubuntu/miniconda3/lib/python3.6/site-packages/skimage/io/_io.py:132: UserWarning: /home/ubuntu/source/mike_fork/diff_classifier/notebooks/development/OGD_0_5h_slice_1_cortex_vid_3_0_2.tif is a low contrast image\n",
      "  warn('%s is a low contrast image' % fname)\n",
      "/home/ubuntu/miniconda3/lib/python3.6/site-packages/skimage/io/_io.py:132: UserWarning: /home/ubuntu/source/mike_fork/diff_classifier/notebooks/development/OGD_0_5h_slice_1_cortex_vid_3_0_3.tif is a low contrast image\n",
      "  warn('%s is a low contrast image' % fname)\n",
      "/home/ubuntu/miniconda3/lib/python3.6/site-packages/skimage/io/_io.py:132: UserWarning: /home/ubuntu/source/mike_fork/diff_classifier/notebooks/development/OGD_0_5h_slice_1_cortex_vid_3_1_0.tif is a low contrast image\n",
      "  warn('%s is a low contrast image' % fname)\n",
      "/home/ubuntu/miniconda3/lib/python3.6/site-packages/skimage/io/_io.py:132: UserWarning: /home/ubuntu/source/mike_fork/diff_classifier/notebooks/development/OGD_0_5h_slice_1_cortex_vid_3_1_1.tif is a low contrast image\n",
      "  warn('%s is a low contrast image' % fname)\n",
      "/home/ubuntu/miniconda3/lib/python3.6/site-packages/skimage/io/_io.py:132: UserWarning: /home/ubuntu/source/mike_fork/diff_classifier/notebooks/development/OGD_0_5h_slice_1_cortex_vid_3_1_2.tif is a low contrast image\n",
      "  warn('%s is a low contrast image' % fname)\n",
      "/home/ubuntu/miniconda3/lib/python3.6/site-packages/skimage/io/_io.py:132: UserWarning: /home/ubuntu/source/mike_fork/diff_classifier/notebooks/development/OGD_0_5h_slice_1_cortex_vid_3_1_3.tif is a low contrast image\n",
      "  warn('%s is a low contrast image' % fname)\n",
      "/home/ubuntu/miniconda3/lib/python3.6/site-packages/skimage/io/_io.py:132: UserWarning: /home/ubuntu/source/mike_fork/diff_classifier/notebooks/development/OGD_0_5h_slice_1_cortex_vid_3_2_0.tif is a low contrast image\n",
      "  warn('%s is a low contrast image' % fname)\n",
      "/home/ubuntu/miniconda3/lib/python3.6/site-packages/skimage/io/_io.py:132: UserWarning: /home/ubuntu/source/mike_fork/diff_classifier/notebooks/development/OGD_0_5h_slice_1_cortex_vid_3_2_1.tif is a low contrast image\n",
      "  warn('%s is a low contrast image' % fname)\n",
      "/home/ubuntu/miniconda3/lib/python3.6/site-packages/skimage/io/_io.py:132: UserWarning: /home/ubuntu/source/mike_fork/diff_classifier/notebooks/development/OGD_0_5h_slice_1_cortex_vid_3_2_2.tif is a low contrast image\n",
      "  warn('%s is a low contrast image' % fname)\n",
      "/home/ubuntu/miniconda3/lib/python3.6/site-packages/skimage/io/_io.py:132: UserWarning: /home/ubuntu/source/mike_fork/diff_classifier/notebooks/development/OGD_0_5h_slice_1_cortex_vid_3_2_3.tif is a low contrast image\n",
      "  warn('%s is a low contrast image' % fname)\n",
      "/home/ubuntu/miniconda3/lib/python3.6/site-packages/skimage/io/_io.py:132: UserWarning: /home/ubuntu/source/mike_fork/diff_classifier/notebooks/development/OGD_0_5h_slice_1_cortex_vid_3_3_0.tif is a low contrast image\n",
      "  warn('%s is a low contrast image' % fname)\n",
      "/home/ubuntu/miniconda3/lib/python3.6/site-packages/skimage/io/_io.py:132: UserWarning: /home/ubuntu/source/mike_fork/diff_classifier/notebooks/development/OGD_0_5h_slice_1_cortex_vid_3_3_1.tif is a low contrast image\n",
      "  warn('%s is a low contrast image' % fname)\n",
      "/home/ubuntu/miniconda3/lib/python3.6/site-packages/skimage/io/_io.py:132: UserWarning: /home/ubuntu/source/mike_fork/diff_classifier/notebooks/development/OGD_0_5h_slice_1_cortex_vid_3_3_2.tif is a low contrast image\n",
      "  warn('%s is a low contrast image' % fname)\n",
      "/home/ubuntu/miniconda3/lib/python3.6/site-packages/skimage/io/_io.py:132: UserWarning: /home/ubuntu/source/mike_fork/diff_classifier/notebooks/development/OGD_0_5h_slice_1_cortex_vid_3_3_3.tif is a low contrast image\n",
      "  warn('%s is a low contrast image' % fname)\n"
     ]
    },
    {
     "name": "stdout",
     "output_type": "stream",
     "text": [
      "Done with splitting. Should output file of name 03_06_20_OGD_Severity_MPT/OGD_0_5h_slice_1_cortex_vid_3_0_0.tif\n",
      "Done with splitting. Should output file of name 03_06_20_OGD_Severity_MPT/OGD_0_5h_slice_1_cortex_vid_3_0_1.tif\n",
      "Done with splitting. Should output file of name 03_06_20_OGD_Severity_MPT/OGD_0_5h_slice_1_cortex_vid_3_0_2.tif\n",
      "Done with splitting. Should output file of name 03_06_20_OGD_Severity_MPT/OGD_0_5h_slice_1_cortex_vid_3_0_3.tif\n",
      "Done with splitting. Should output file of name 03_06_20_OGD_Severity_MPT/OGD_0_5h_slice_1_cortex_vid_3_1_0.tif\n",
      "Done with splitting. Should output file of name 03_06_20_OGD_Severity_MPT/OGD_0_5h_slice_1_cortex_vid_3_1_1.tif\n",
      "Done with splitting. Should output file of name 03_06_20_OGD_Severity_MPT/OGD_0_5h_slice_1_cortex_vid_3_1_2.tif\n",
      "Done with splitting. Should output file of name 03_06_20_OGD_Severity_MPT/OGD_0_5h_slice_1_cortex_vid_3_1_3.tif\n",
      "Done with splitting. Should output file of name 03_06_20_OGD_Severity_MPT/OGD_0_5h_slice_1_cortex_vid_3_2_0.tif\n",
      "Done with splitting. Should output file of name 03_06_20_OGD_Severity_MPT/OGD_0_5h_slice_1_cortex_vid_3_2_1.tif\n",
      "Done with splitting. Should output file of name 03_06_20_OGD_Severity_MPT/OGD_0_5h_slice_1_cortex_vid_3_2_2.tif\n",
      "Done with splitting. Should output file of name 03_06_20_OGD_Severity_MPT/OGD_0_5h_slice_1_cortex_vid_3_2_3.tif\n",
      "Done with splitting. Should output file of name 03_06_20_OGD_Severity_MPT/OGD_0_5h_slice_1_cortex_vid_3_3_0.tif\n",
      "Done with splitting. Should output file of name 03_06_20_OGD_Severity_MPT/OGD_0_5h_slice_1_cortex_vid_3_3_1.tif\n",
      "Done with splitting. Should output file of name 03_06_20_OGD_Severity_MPT/OGD_0_5h_slice_1_cortex_vid_3_3_2.tif\n",
      "Done with splitting. Should output file of name 03_06_20_OGD_Severity_MPT/OGD_0_5h_slice_1_cortex_vid_3_3_3.tif\n"
     ]
    },
    {
     "name": "stderr",
     "output_type": "stream",
     "text": [
      "/home/ubuntu/miniconda3/lib/python3.6/site-packages/skimage/io/_io.py:132: UserWarning: /home/ubuntu/source/mike_fork/diff_classifier/notebooks/development/OGD_0_5h_slice_1_cortex_vid_4_0_0.tif is a low contrast image\n",
      "  warn('%s is a low contrast image' % fname)\n",
      "/home/ubuntu/miniconda3/lib/python3.6/site-packages/skimage/io/_io.py:132: UserWarning: /home/ubuntu/source/mike_fork/diff_classifier/notebooks/development/OGD_0_5h_slice_1_cortex_vid_4_0_1.tif is a low contrast image\n",
      "  warn('%s is a low contrast image' % fname)\n",
      "/home/ubuntu/miniconda3/lib/python3.6/site-packages/skimage/io/_io.py:132: UserWarning: /home/ubuntu/source/mike_fork/diff_classifier/notebooks/development/OGD_0_5h_slice_1_cortex_vid_4_0_2.tif is a low contrast image\n",
      "  warn('%s is a low contrast image' % fname)\n",
      "/home/ubuntu/miniconda3/lib/python3.6/site-packages/skimage/io/_io.py:132: UserWarning: /home/ubuntu/source/mike_fork/diff_classifier/notebooks/development/OGD_0_5h_slice_1_cortex_vid_4_0_3.tif is a low contrast image\n",
      "  warn('%s is a low contrast image' % fname)\n",
      "/home/ubuntu/miniconda3/lib/python3.6/site-packages/skimage/io/_io.py:132: UserWarning: /home/ubuntu/source/mike_fork/diff_classifier/notebooks/development/OGD_0_5h_slice_1_cortex_vid_4_1_0.tif is a low contrast image\n",
      "  warn('%s is a low contrast image' % fname)\n",
      "/home/ubuntu/miniconda3/lib/python3.6/site-packages/skimage/io/_io.py:132: UserWarning: /home/ubuntu/source/mike_fork/diff_classifier/notebooks/development/OGD_0_5h_slice_1_cortex_vid_4_1_1.tif is a low contrast image\n",
      "  warn('%s is a low contrast image' % fname)\n",
      "/home/ubuntu/miniconda3/lib/python3.6/site-packages/skimage/io/_io.py:132: UserWarning: /home/ubuntu/source/mike_fork/diff_classifier/notebooks/development/OGD_0_5h_slice_1_cortex_vid_4_1_2.tif is a low contrast image\n",
      "  warn('%s is a low contrast image' % fname)\n",
      "/home/ubuntu/miniconda3/lib/python3.6/site-packages/skimage/io/_io.py:132: UserWarning: /home/ubuntu/source/mike_fork/diff_classifier/notebooks/development/OGD_0_5h_slice_1_cortex_vid_4_1_3.tif is a low contrast image\n",
      "  warn('%s is a low contrast image' % fname)\n",
      "/home/ubuntu/miniconda3/lib/python3.6/site-packages/skimage/io/_io.py:132: UserWarning: /home/ubuntu/source/mike_fork/diff_classifier/notebooks/development/OGD_0_5h_slice_1_cortex_vid_4_2_0.tif is a low contrast image\n",
      "  warn('%s is a low contrast image' % fname)\n",
      "/home/ubuntu/miniconda3/lib/python3.6/site-packages/skimage/io/_io.py:132: UserWarning: /home/ubuntu/source/mike_fork/diff_classifier/notebooks/development/OGD_0_5h_slice_1_cortex_vid_4_2_1.tif is a low contrast image\n",
      "  warn('%s is a low contrast image' % fname)\n",
      "/home/ubuntu/miniconda3/lib/python3.6/site-packages/skimage/io/_io.py:132: UserWarning: /home/ubuntu/source/mike_fork/diff_classifier/notebooks/development/OGD_0_5h_slice_1_cortex_vid_4_2_2.tif is a low contrast image\n",
      "  warn('%s is a low contrast image' % fname)\n",
      "/home/ubuntu/miniconda3/lib/python3.6/site-packages/skimage/io/_io.py:132: UserWarning: /home/ubuntu/source/mike_fork/diff_classifier/notebooks/development/OGD_0_5h_slice_1_cortex_vid_4_2_3.tif is a low contrast image\n",
      "  warn('%s is a low contrast image' % fname)\n",
      "/home/ubuntu/miniconda3/lib/python3.6/site-packages/skimage/io/_io.py:132: UserWarning: /home/ubuntu/source/mike_fork/diff_classifier/notebooks/development/OGD_0_5h_slice_1_cortex_vid_4_3_0.tif is a low contrast image\n",
      "  warn('%s is a low contrast image' % fname)\n",
      "/home/ubuntu/miniconda3/lib/python3.6/site-packages/skimage/io/_io.py:132: UserWarning: /home/ubuntu/source/mike_fork/diff_classifier/notebooks/development/OGD_0_5h_slice_1_cortex_vid_4_3_1.tif is a low contrast image\n",
      "  warn('%s is a low contrast image' % fname)\n",
      "/home/ubuntu/miniconda3/lib/python3.6/site-packages/skimage/io/_io.py:132: UserWarning: /home/ubuntu/source/mike_fork/diff_classifier/notebooks/development/OGD_0_5h_slice_1_cortex_vid_4_3_2.tif is a low contrast image\n",
      "  warn('%s is a low contrast image' % fname)\n",
      "/home/ubuntu/miniconda3/lib/python3.6/site-packages/skimage/io/_io.py:132: UserWarning: /home/ubuntu/source/mike_fork/diff_classifier/notebooks/development/OGD_0_5h_slice_1_cortex_vid_4_3_3.tif is a low contrast image\n",
      "  warn('%s is a low contrast image' % fname)\n"
     ]
    },
    {
     "name": "stdout",
     "output_type": "stream",
     "text": [
      "Done with splitting. Should output file of name 03_06_20_OGD_Severity_MPT/OGD_0_5h_slice_1_cortex_vid_4_0_0.tif\n",
      "Done with splitting. Should output file of name 03_06_20_OGD_Severity_MPT/OGD_0_5h_slice_1_cortex_vid_4_0_1.tif\n",
      "Done with splitting. Should output file of name 03_06_20_OGD_Severity_MPT/OGD_0_5h_slice_1_cortex_vid_4_0_2.tif\n",
      "Done with splitting. Should output file of name 03_06_20_OGD_Severity_MPT/OGD_0_5h_slice_1_cortex_vid_4_0_3.tif\n",
      "Done with splitting. Should output file of name 03_06_20_OGD_Severity_MPT/OGD_0_5h_slice_1_cortex_vid_4_1_0.tif\n",
      "Done with splitting. Should output file of name 03_06_20_OGD_Severity_MPT/OGD_0_5h_slice_1_cortex_vid_4_1_1.tif\n",
      "Done with splitting. Should output file of name 03_06_20_OGD_Severity_MPT/OGD_0_5h_slice_1_cortex_vid_4_1_2.tif\n",
      "Done with splitting. Should output file of name 03_06_20_OGD_Severity_MPT/OGD_0_5h_slice_1_cortex_vid_4_1_3.tif\n",
      "Done with splitting. Should output file of name 03_06_20_OGD_Severity_MPT/OGD_0_5h_slice_1_cortex_vid_4_2_0.tif\n",
      "Done with splitting. Should output file of name 03_06_20_OGD_Severity_MPT/OGD_0_5h_slice_1_cortex_vid_4_2_1.tif\n",
      "Done with splitting. Should output file of name 03_06_20_OGD_Severity_MPT/OGD_0_5h_slice_1_cortex_vid_4_2_2.tif\n",
      "Done with splitting. Should output file of name 03_06_20_OGD_Severity_MPT/OGD_0_5h_slice_1_cortex_vid_4_2_3.tif\n",
      "Done with splitting. Should output file of name 03_06_20_OGD_Severity_MPT/OGD_0_5h_slice_1_cortex_vid_4_3_0.tif\n",
      "Done with splitting. Should output file of name 03_06_20_OGD_Severity_MPT/OGD_0_5h_slice_1_cortex_vid_4_3_1.tif\n",
      "Done with splitting. Should output file of name 03_06_20_OGD_Severity_MPT/OGD_0_5h_slice_1_cortex_vid_4_3_2.tif\n",
      "Done with splitting. Should output file of name 03_06_20_OGD_Severity_MPT/OGD_0_5h_slice_1_cortex_vid_4_3_3.tif\n"
     ]
    },
    {
     "name": "stderr",
     "output_type": "stream",
     "text": [
      "/home/ubuntu/miniconda3/lib/python3.6/site-packages/skimage/io/_io.py:132: UserWarning: /home/ubuntu/source/mike_fork/diff_classifier/notebooks/development/OGD_0_5h_slice_1_cortex_vid_5_0_0.tif is a low contrast image\n",
      "  warn('%s is a low contrast image' % fname)\n",
      "/home/ubuntu/miniconda3/lib/python3.6/site-packages/skimage/io/_io.py:132: UserWarning: /home/ubuntu/source/mike_fork/diff_classifier/notebooks/development/OGD_0_5h_slice_1_cortex_vid_5_0_1.tif is a low contrast image\n",
      "  warn('%s is a low contrast image' % fname)\n",
      "/home/ubuntu/miniconda3/lib/python3.6/site-packages/skimage/io/_io.py:132: UserWarning: /home/ubuntu/source/mike_fork/diff_classifier/notebooks/development/OGD_0_5h_slice_1_cortex_vid_5_0_2.tif is a low contrast image\n",
      "  warn('%s is a low contrast image' % fname)\n",
      "/home/ubuntu/miniconda3/lib/python3.6/site-packages/skimage/io/_io.py:132: UserWarning: /home/ubuntu/source/mike_fork/diff_classifier/notebooks/development/OGD_0_5h_slice_1_cortex_vid_5_0_3.tif is a low contrast image\n",
      "  warn('%s is a low contrast image' % fname)\n",
      "/home/ubuntu/miniconda3/lib/python3.6/site-packages/skimage/io/_io.py:132: UserWarning: /home/ubuntu/source/mike_fork/diff_classifier/notebooks/development/OGD_0_5h_slice_1_cortex_vid_5_1_0.tif is a low contrast image\n",
      "  warn('%s is a low contrast image' % fname)\n",
      "/home/ubuntu/miniconda3/lib/python3.6/site-packages/skimage/io/_io.py:132: UserWarning: /home/ubuntu/source/mike_fork/diff_classifier/notebooks/development/OGD_0_5h_slice_1_cortex_vid_5_1_1.tif is a low contrast image\n",
      "  warn('%s is a low contrast image' % fname)\n",
      "/home/ubuntu/miniconda3/lib/python3.6/site-packages/skimage/io/_io.py:132: UserWarning: /home/ubuntu/source/mike_fork/diff_classifier/notebooks/development/OGD_0_5h_slice_1_cortex_vid_5_1_2.tif is a low contrast image\n",
      "  warn('%s is a low contrast image' % fname)\n",
      "/home/ubuntu/miniconda3/lib/python3.6/site-packages/skimage/io/_io.py:132: UserWarning: /home/ubuntu/source/mike_fork/diff_classifier/notebooks/development/OGD_0_5h_slice_1_cortex_vid_5_1_3.tif is a low contrast image\n",
      "  warn('%s is a low contrast image' % fname)\n",
      "/home/ubuntu/miniconda3/lib/python3.6/site-packages/skimage/io/_io.py:132: UserWarning: /home/ubuntu/source/mike_fork/diff_classifier/notebooks/development/OGD_0_5h_slice_1_cortex_vid_5_2_0.tif is a low contrast image\n",
      "  warn('%s is a low contrast image' % fname)\n",
      "/home/ubuntu/miniconda3/lib/python3.6/site-packages/skimage/io/_io.py:132: UserWarning: /home/ubuntu/source/mike_fork/diff_classifier/notebooks/development/OGD_0_5h_slice_1_cortex_vid_5_2_1.tif is a low contrast image\n",
      "  warn('%s is a low contrast image' % fname)\n",
      "/home/ubuntu/miniconda3/lib/python3.6/site-packages/skimage/io/_io.py:132: UserWarning: /home/ubuntu/source/mike_fork/diff_classifier/notebooks/development/OGD_0_5h_slice_1_cortex_vid_5_2_2.tif is a low contrast image\n",
      "  warn('%s is a low contrast image' % fname)\n",
      "/home/ubuntu/miniconda3/lib/python3.6/site-packages/skimage/io/_io.py:132: UserWarning: /home/ubuntu/source/mike_fork/diff_classifier/notebooks/development/OGD_0_5h_slice_1_cortex_vid_5_2_3.tif is a low contrast image\n",
      "  warn('%s is a low contrast image' % fname)\n",
      "/home/ubuntu/miniconda3/lib/python3.6/site-packages/skimage/io/_io.py:132: UserWarning: /home/ubuntu/source/mike_fork/diff_classifier/notebooks/development/OGD_0_5h_slice_1_cortex_vid_5_3_0.tif is a low contrast image\n",
      "  warn('%s is a low contrast image' % fname)\n",
      "/home/ubuntu/miniconda3/lib/python3.6/site-packages/skimage/io/_io.py:132: UserWarning: /home/ubuntu/source/mike_fork/diff_classifier/notebooks/development/OGD_0_5h_slice_1_cortex_vid_5_3_1.tif is a low contrast image\n",
      "  warn('%s is a low contrast image' % fname)\n",
      "/home/ubuntu/miniconda3/lib/python3.6/site-packages/skimage/io/_io.py:132: UserWarning: /home/ubuntu/source/mike_fork/diff_classifier/notebooks/development/OGD_0_5h_slice_1_cortex_vid_5_3_2.tif is a low contrast image\n",
      "  warn('%s is a low contrast image' % fname)\n",
      "/home/ubuntu/miniconda3/lib/python3.6/site-packages/skimage/io/_io.py:132: UserWarning: /home/ubuntu/source/mike_fork/diff_classifier/notebooks/development/OGD_0_5h_slice_1_cortex_vid_5_3_3.tif is a low contrast image\n",
      "  warn('%s is a low contrast image' % fname)\n"
     ]
    },
    {
     "name": "stdout",
     "output_type": "stream",
     "text": [
      "Done with splitting. Should output file of name 03_06_20_OGD_Severity_MPT/OGD_0_5h_slice_1_cortex_vid_5_0_0.tif\n",
      "Done with splitting. Should output file of name 03_06_20_OGD_Severity_MPT/OGD_0_5h_slice_1_cortex_vid_5_0_1.tif\n",
      "Done with splitting. Should output file of name 03_06_20_OGD_Severity_MPT/OGD_0_5h_slice_1_cortex_vid_5_0_2.tif\n",
      "Done with splitting. Should output file of name 03_06_20_OGD_Severity_MPT/OGD_0_5h_slice_1_cortex_vid_5_0_3.tif\n",
      "Done with splitting. Should output file of name 03_06_20_OGD_Severity_MPT/OGD_0_5h_slice_1_cortex_vid_5_1_0.tif\n",
      "Done with splitting. Should output file of name 03_06_20_OGD_Severity_MPT/OGD_0_5h_slice_1_cortex_vid_5_1_1.tif\n",
      "Done with splitting. Should output file of name 03_06_20_OGD_Severity_MPT/OGD_0_5h_slice_1_cortex_vid_5_1_2.tif\n",
      "Done with splitting. Should output file of name 03_06_20_OGD_Severity_MPT/OGD_0_5h_slice_1_cortex_vid_5_1_3.tif\n",
      "Done with splitting. Should output file of name 03_06_20_OGD_Severity_MPT/OGD_0_5h_slice_1_cortex_vid_5_2_0.tif\n",
      "Done with splitting. Should output file of name 03_06_20_OGD_Severity_MPT/OGD_0_5h_slice_1_cortex_vid_5_2_1.tif\n",
      "Done with splitting. Should output file of name 03_06_20_OGD_Severity_MPT/OGD_0_5h_slice_1_cortex_vid_5_2_2.tif\n",
      "Done with splitting. Should output file of name 03_06_20_OGD_Severity_MPT/OGD_0_5h_slice_1_cortex_vid_5_2_3.tif\n",
      "Done with splitting. Should output file of name 03_06_20_OGD_Severity_MPT/OGD_0_5h_slice_1_cortex_vid_5_3_0.tif\n",
      "Done with splitting. Should output file of name 03_06_20_OGD_Severity_MPT/OGD_0_5h_slice_1_cortex_vid_5_3_1.tif\n",
      "Done with splitting. Should output file of name 03_06_20_OGD_Severity_MPT/OGD_0_5h_slice_1_cortex_vid_5_3_2.tif\n",
      "Done with splitting. Should output file of name 03_06_20_OGD_Severity_MPT/OGD_0_5h_slice_1_cortex_vid_5_3_3.tif\n"
     ]
    },
    {
     "name": "stderr",
     "output_type": "stream",
     "text": [
      "/home/ubuntu/miniconda3/lib/python3.6/site-packages/skimage/io/_io.py:132: UserWarning: /home/ubuntu/source/mike_fork/diff_classifier/notebooks/development/OGD_0_5h_slice_1_striatum_vid_1_0_0.tif is a low contrast image\n",
      "  warn('%s is a low contrast image' % fname)\n",
      "/home/ubuntu/miniconda3/lib/python3.6/site-packages/skimage/io/_io.py:132: UserWarning: /home/ubuntu/source/mike_fork/diff_classifier/notebooks/development/OGD_0_5h_slice_1_striatum_vid_1_0_1.tif is a low contrast image\n",
      "  warn('%s is a low contrast image' % fname)\n",
      "/home/ubuntu/miniconda3/lib/python3.6/site-packages/skimage/io/_io.py:132: UserWarning: /home/ubuntu/source/mike_fork/diff_classifier/notebooks/development/OGD_0_5h_slice_1_striatum_vid_1_0_2.tif is a low contrast image\n",
      "  warn('%s is a low contrast image' % fname)\n",
      "/home/ubuntu/miniconda3/lib/python3.6/site-packages/skimage/io/_io.py:132: UserWarning: /home/ubuntu/source/mike_fork/diff_classifier/notebooks/development/OGD_0_5h_slice_1_striatum_vid_1_0_3.tif is a low contrast image\n",
      "  warn('%s is a low contrast image' % fname)\n",
      "/home/ubuntu/miniconda3/lib/python3.6/site-packages/skimage/io/_io.py:132: UserWarning: /home/ubuntu/source/mike_fork/diff_classifier/notebooks/development/OGD_0_5h_slice_1_striatum_vid_1_1_0.tif is a low contrast image\n",
      "  warn('%s is a low contrast image' % fname)\n",
      "/home/ubuntu/miniconda3/lib/python3.6/site-packages/skimage/io/_io.py:132: UserWarning: /home/ubuntu/source/mike_fork/diff_classifier/notebooks/development/OGD_0_5h_slice_1_striatum_vid_1_1_1.tif is a low contrast image\n",
      "  warn('%s is a low contrast image' % fname)\n",
      "/home/ubuntu/miniconda3/lib/python3.6/site-packages/skimage/io/_io.py:132: UserWarning: /home/ubuntu/source/mike_fork/diff_classifier/notebooks/development/OGD_0_5h_slice_1_striatum_vid_1_1_2.tif is a low contrast image\n",
      "  warn('%s is a low contrast image' % fname)\n",
      "/home/ubuntu/miniconda3/lib/python3.6/site-packages/skimage/io/_io.py:132: UserWarning: /home/ubuntu/source/mike_fork/diff_classifier/notebooks/development/OGD_0_5h_slice_1_striatum_vid_1_1_3.tif is a low contrast image\n",
      "  warn('%s is a low contrast image' % fname)\n",
      "/home/ubuntu/miniconda3/lib/python3.6/site-packages/skimage/io/_io.py:132: UserWarning: /home/ubuntu/source/mike_fork/diff_classifier/notebooks/development/OGD_0_5h_slice_1_striatum_vid_1_2_0.tif is a low contrast image\n",
      "  warn('%s is a low contrast image' % fname)\n",
      "/home/ubuntu/miniconda3/lib/python3.6/site-packages/skimage/io/_io.py:132: UserWarning: /home/ubuntu/source/mike_fork/diff_classifier/notebooks/development/OGD_0_5h_slice_1_striatum_vid_1_2_1.tif is a low contrast image\n",
      "  warn('%s is a low contrast image' % fname)\n",
      "/home/ubuntu/miniconda3/lib/python3.6/site-packages/skimage/io/_io.py:132: UserWarning: /home/ubuntu/source/mike_fork/diff_classifier/notebooks/development/OGD_0_5h_slice_1_striatum_vid_1_2_2.tif is a low contrast image\n",
      "  warn('%s is a low contrast image' % fname)\n",
      "/home/ubuntu/miniconda3/lib/python3.6/site-packages/skimage/io/_io.py:132: UserWarning: /home/ubuntu/source/mike_fork/diff_classifier/notebooks/development/OGD_0_5h_slice_1_striatum_vid_1_2_3.tif is a low contrast image\n",
      "  warn('%s is a low contrast image' % fname)\n",
      "/home/ubuntu/miniconda3/lib/python3.6/site-packages/skimage/io/_io.py:132: UserWarning: /home/ubuntu/source/mike_fork/diff_classifier/notebooks/development/OGD_0_5h_slice_1_striatum_vid_1_3_0.tif is a low contrast image\n",
      "  warn('%s is a low contrast image' % fname)\n",
      "/home/ubuntu/miniconda3/lib/python3.6/site-packages/skimage/io/_io.py:132: UserWarning: /home/ubuntu/source/mike_fork/diff_classifier/notebooks/development/OGD_0_5h_slice_1_striatum_vid_1_3_1.tif is a low contrast image\n",
      "  warn('%s is a low contrast image' % fname)\n",
      "/home/ubuntu/miniconda3/lib/python3.6/site-packages/skimage/io/_io.py:132: UserWarning: /home/ubuntu/source/mike_fork/diff_classifier/notebooks/development/OGD_0_5h_slice_1_striatum_vid_1_3_2.tif is a low contrast image\n",
      "  warn('%s is a low contrast image' % fname)\n",
      "/home/ubuntu/miniconda3/lib/python3.6/site-packages/skimage/io/_io.py:132: UserWarning: /home/ubuntu/source/mike_fork/diff_classifier/notebooks/development/OGD_0_5h_slice_1_striatum_vid_1_3_3.tif is a low contrast image\n",
      "  warn('%s is a low contrast image' % fname)\n"
     ]
    },
    {
     "name": "stdout",
     "output_type": "stream",
     "text": [
      "Done with splitting. Should output file of name 03_06_20_OGD_Severity_MPT/OGD_0_5h_slice_1_striatum_vid_1_0_0.tif\n",
      "Done with splitting. Should output file of name 03_06_20_OGD_Severity_MPT/OGD_0_5h_slice_1_striatum_vid_1_0_1.tif\n",
      "Done with splitting. Should output file of name 03_06_20_OGD_Severity_MPT/OGD_0_5h_slice_1_striatum_vid_1_0_2.tif\n",
      "Done with splitting. Should output file of name 03_06_20_OGD_Severity_MPT/OGD_0_5h_slice_1_striatum_vid_1_0_3.tif\n",
      "Done with splitting. Should output file of name 03_06_20_OGD_Severity_MPT/OGD_0_5h_slice_1_striatum_vid_1_1_0.tif\n",
      "Done with splitting. Should output file of name 03_06_20_OGD_Severity_MPT/OGD_0_5h_slice_1_striatum_vid_1_1_1.tif\n",
      "Done with splitting. Should output file of name 03_06_20_OGD_Severity_MPT/OGD_0_5h_slice_1_striatum_vid_1_1_2.tif\n",
      "Done with splitting. Should output file of name 03_06_20_OGD_Severity_MPT/OGD_0_5h_slice_1_striatum_vid_1_1_3.tif\n",
      "Done with splitting. Should output file of name 03_06_20_OGD_Severity_MPT/OGD_0_5h_slice_1_striatum_vid_1_2_0.tif\n",
      "Done with splitting. Should output file of name 03_06_20_OGD_Severity_MPT/OGD_0_5h_slice_1_striatum_vid_1_2_1.tif\n",
      "Done with splitting. Should output file of name 03_06_20_OGD_Severity_MPT/OGD_0_5h_slice_1_striatum_vid_1_2_2.tif\n",
      "Done with splitting. Should output file of name 03_06_20_OGD_Severity_MPT/OGD_0_5h_slice_1_striatum_vid_1_2_3.tif\n",
      "Done with splitting. Should output file of name 03_06_20_OGD_Severity_MPT/OGD_0_5h_slice_1_striatum_vid_1_3_0.tif\n",
      "Done with splitting. Should output file of name 03_06_20_OGD_Severity_MPT/OGD_0_5h_slice_1_striatum_vid_1_3_1.tif\n",
      "Done with splitting. Should output file of name 03_06_20_OGD_Severity_MPT/OGD_0_5h_slice_1_striatum_vid_1_3_2.tif\n",
      "Done with splitting. Should output file of name 03_06_20_OGD_Severity_MPT/OGD_0_5h_slice_1_striatum_vid_1_3_3.tif\n"
     ]
    },
    {
     "name": "stderr",
     "output_type": "stream",
     "text": [
      "/home/ubuntu/miniconda3/lib/python3.6/site-packages/skimage/io/_io.py:132: UserWarning: /home/ubuntu/source/mike_fork/diff_classifier/notebooks/development/OGD_0_5h_slice_1_striatum_vid_2_0_0.tif is a low contrast image\n",
      "  warn('%s is a low contrast image' % fname)\n",
      "/home/ubuntu/miniconda3/lib/python3.6/site-packages/skimage/io/_io.py:132: UserWarning: /home/ubuntu/source/mike_fork/diff_classifier/notebooks/development/OGD_0_5h_slice_1_striatum_vid_2_0_1.tif is a low contrast image\n",
      "  warn('%s is a low contrast image' % fname)\n",
      "/home/ubuntu/miniconda3/lib/python3.6/site-packages/skimage/io/_io.py:132: UserWarning: /home/ubuntu/source/mike_fork/diff_classifier/notebooks/development/OGD_0_5h_slice_1_striatum_vid_2_0_2.tif is a low contrast image\n",
      "  warn('%s is a low contrast image' % fname)\n",
      "/home/ubuntu/miniconda3/lib/python3.6/site-packages/skimage/io/_io.py:132: UserWarning: /home/ubuntu/source/mike_fork/diff_classifier/notebooks/development/OGD_0_5h_slice_1_striatum_vid_2_0_3.tif is a low contrast image\n",
      "  warn('%s is a low contrast image' % fname)\n",
      "/home/ubuntu/miniconda3/lib/python3.6/site-packages/skimage/io/_io.py:132: UserWarning: /home/ubuntu/source/mike_fork/diff_classifier/notebooks/development/OGD_0_5h_slice_1_striatum_vid_2_1_0.tif is a low contrast image\n",
      "  warn('%s is a low contrast image' % fname)\n",
      "/home/ubuntu/miniconda3/lib/python3.6/site-packages/skimage/io/_io.py:132: UserWarning: /home/ubuntu/source/mike_fork/diff_classifier/notebooks/development/OGD_0_5h_slice_1_striatum_vid_2_1_1.tif is a low contrast image\n",
      "  warn('%s is a low contrast image' % fname)\n",
      "/home/ubuntu/miniconda3/lib/python3.6/site-packages/skimage/io/_io.py:132: UserWarning: /home/ubuntu/source/mike_fork/diff_classifier/notebooks/development/OGD_0_5h_slice_1_striatum_vid_2_1_2.tif is a low contrast image\n",
      "  warn('%s is a low contrast image' % fname)\n",
      "/home/ubuntu/miniconda3/lib/python3.6/site-packages/skimage/io/_io.py:132: UserWarning: /home/ubuntu/source/mike_fork/diff_classifier/notebooks/development/OGD_0_5h_slice_1_striatum_vid_2_1_3.tif is a low contrast image\n",
      "  warn('%s is a low contrast image' % fname)\n",
      "/home/ubuntu/miniconda3/lib/python3.6/site-packages/skimage/io/_io.py:132: UserWarning: /home/ubuntu/source/mike_fork/diff_classifier/notebooks/development/OGD_0_5h_slice_1_striatum_vid_2_2_0.tif is a low contrast image\n",
      "  warn('%s is a low contrast image' % fname)\n",
      "/home/ubuntu/miniconda3/lib/python3.6/site-packages/skimage/io/_io.py:132: UserWarning: /home/ubuntu/source/mike_fork/diff_classifier/notebooks/development/OGD_0_5h_slice_1_striatum_vid_2_2_1.tif is a low contrast image\n",
      "  warn('%s is a low contrast image' % fname)\n",
      "/home/ubuntu/miniconda3/lib/python3.6/site-packages/skimage/io/_io.py:132: UserWarning: /home/ubuntu/source/mike_fork/diff_classifier/notebooks/development/OGD_0_5h_slice_1_striatum_vid_2_2_2.tif is a low contrast image\n",
      "  warn('%s is a low contrast image' % fname)\n",
      "/home/ubuntu/miniconda3/lib/python3.6/site-packages/skimage/io/_io.py:132: UserWarning: /home/ubuntu/source/mike_fork/diff_classifier/notebooks/development/OGD_0_5h_slice_1_striatum_vid_2_2_3.tif is a low contrast image\n",
      "  warn('%s is a low contrast image' % fname)\n",
      "/home/ubuntu/miniconda3/lib/python3.6/site-packages/skimage/io/_io.py:132: UserWarning: /home/ubuntu/source/mike_fork/diff_classifier/notebooks/development/OGD_0_5h_slice_1_striatum_vid_2_3_0.tif is a low contrast image\n",
      "  warn('%s is a low contrast image' % fname)\n",
      "/home/ubuntu/miniconda3/lib/python3.6/site-packages/skimage/io/_io.py:132: UserWarning: /home/ubuntu/source/mike_fork/diff_classifier/notebooks/development/OGD_0_5h_slice_1_striatum_vid_2_3_1.tif is a low contrast image\n",
      "  warn('%s is a low contrast image' % fname)\n",
      "/home/ubuntu/miniconda3/lib/python3.6/site-packages/skimage/io/_io.py:132: UserWarning: /home/ubuntu/source/mike_fork/diff_classifier/notebooks/development/OGD_0_5h_slice_1_striatum_vid_2_3_2.tif is a low contrast image\n",
      "  warn('%s is a low contrast image' % fname)\n",
      "/home/ubuntu/miniconda3/lib/python3.6/site-packages/skimage/io/_io.py:132: UserWarning: /home/ubuntu/source/mike_fork/diff_classifier/notebooks/development/OGD_0_5h_slice_1_striatum_vid_2_3_3.tif is a low contrast image\n",
      "  warn('%s is a low contrast image' % fname)\n"
     ]
    },
    {
     "name": "stdout",
     "output_type": "stream",
     "text": [
      "Done with splitting. Should output file of name 03_06_20_OGD_Severity_MPT/OGD_0_5h_slice_1_striatum_vid_2_0_0.tif\n",
      "Done with splitting. Should output file of name 03_06_20_OGD_Severity_MPT/OGD_0_5h_slice_1_striatum_vid_2_0_1.tif\n",
      "Done with splitting. Should output file of name 03_06_20_OGD_Severity_MPT/OGD_0_5h_slice_1_striatum_vid_2_0_2.tif\n",
      "Done with splitting. Should output file of name 03_06_20_OGD_Severity_MPT/OGD_0_5h_slice_1_striatum_vid_2_0_3.tif\n",
      "Done with splitting. Should output file of name 03_06_20_OGD_Severity_MPT/OGD_0_5h_slice_1_striatum_vid_2_1_0.tif\n",
      "Done with splitting. Should output file of name 03_06_20_OGD_Severity_MPT/OGD_0_5h_slice_1_striatum_vid_2_1_1.tif\n",
      "Done with splitting. Should output file of name 03_06_20_OGD_Severity_MPT/OGD_0_5h_slice_1_striatum_vid_2_1_2.tif\n",
      "Done with splitting. Should output file of name 03_06_20_OGD_Severity_MPT/OGD_0_5h_slice_1_striatum_vid_2_1_3.tif\n",
      "Done with splitting. Should output file of name 03_06_20_OGD_Severity_MPT/OGD_0_5h_slice_1_striatum_vid_2_2_0.tif\n",
      "Done with splitting. Should output file of name 03_06_20_OGD_Severity_MPT/OGD_0_5h_slice_1_striatum_vid_2_2_1.tif\n",
      "Done with splitting. Should output file of name 03_06_20_OGD_Severity_MPT/OGD_0_5h_slice_1_striatum_vid_2_2_2.tif\n",
      "Done with splitting. Should output file of name 03_06_20_OGD_Severity_MPT/OGD_0_5h_slice_1_striatum_vid_2_2_3.tif\n",
      "Done with splitting. Should output file of name 03_06_20_OGD_Severity_MPT/OGD_0_5h_slice_1_striatum_vid_2_3_0.tif\n",
      "Done with splitting. Should output file of name 03_06_20_OGD_Severity_MPT/OGD_0_5h_slice_1_striatum_vid_2_3_1.tif\n",
      "Done with splitting. Should output file of name 03_06_20_OGD_Severity_MPT/OGD_0_5h_slice_1_striatum_vid_2_3_2.tif\n",
      "Done with splitting. Should output file of name 03_06_20_OGD_Severity_MPT/OGD_0_5h_slice_1_striatum_vid_2_3_3.tif\n"
     ]
    },
    {
     "name": "stderr",
     "output_type": "stream",
     "text": [
      "/home/ubuntu/miniconda3/lib/python3.6/site-packages/skimage/io/_io.py:132: UserWarning: /home/ubuntu/source/mike_fork/diff_classifier/notebooks/development/OGD_0_5h_slice_1_striatum_vid_3_0_0.tif is a low contrast image\n",
      "  warn('%s is a low contrast image' % fname)\n",
      "/home/ubuntu/miniconda3/lib/python3.6/site-packages/skimage/io/_io.py:132: UserWarning: /home/ubuntu/source/mike_fork/diff_classifier/notebooks/development/OGD_0_5h_slice_1_striatum_vid_3_0_1.tif is a low contrast image\n",
      "  warn('%s is a low contrast image' % fname)\n",
      "/home/ubuntu/miniconda3/lib/python3.6/site-packages/skimage/io/_io.py:132: UserWarning: /home/ubuntu/source/mike_fork/diff_classifier/notebooks/development/OGD_0_5h_slice_1_striatum_vid_3_0_2.tif is a low contrast image\n",
      "  warn('%s is a low contrast image' % fname)\n",
      "/home/ubuntu/miniconda3/lib/python3.6/site-packages/skimage/io/_io.py:132: UserWarning: /home/ubuntu/source/mike_fork/diff_classifier/notebooks/development/OGD_0_5h_slice_1_striatum_vid_3_0_3.tif is a low contrast image\n",
      "  warn('%s is a low contrast image' % fname)\n",
      "/home/ubuntu/miniconda3/lib/python3.6/site-packages/skimage/io/_io.py:132: UserWarning: /home/ubuntu/source/mike_fork/diff_classifier/notebooks/development/OGD_0_5h_slice_1_striatum_vid_3_1_0.tif is a low contrast image\n",
      "  warn('%s is a low contrast image' % fname)\n",
      "/home/ubuntu/miniconda3/lib/python3.6/site-packages/skimage/io/_io.py:132: UserWarning: /home/ubuntu/source/mike_fork/diff_classifier/notebooks/development/OGD_0_5h_slice_1_striatum_vid_3_1_1.tif is a low contrast image\n",
      "  warn('%s is a low contrast image' % fname)\n",
      "/home/ubuntu/miniconda3/lib/python3.6/site-packages/skimage/io/_io.py:132: UserWarning: /home/ubuntu/source/mike_fork/diff_classifier/notebooks/development/OGD_0_5h_slice_1_striatum_vid_3_1_2.tif is a low contrast image\n",
      "  warn('%s is a low contrast image' % fname)\n",
      "/home/ubuntu/miniconda3/lib/python3.6/site-packages/skimage/io/_io.py:132: UserWarning: /home/ubuntu/source/mike_fork/diff_classifier/notebooks/development/OGD_0_5h_slice_1_striatum_vid_3_1_3.tif is a low contrast image\n",
      "  warn('%s is a low contrast image' % fname)\n",
      "/home/ubuntu/miniconda3/lib/python3.6/site-packages/skimage/io/_io.py:132: UserWarning: /home/ubuntu/source/mike_fork/diff_classifier/notebooks/development/OGD_0_5h_slice_1_striatum_vid_3_2_0.tif is a low contrast image\n",
      "  warn('%s is a low contrast image' % fname)\n",
      "/home/ubuntu/miniconda3/lib/python3.6/site-packages/skimage/io/_io.py:132: UserWarning: /home/ubuntu/source/mike_fork/diff_classifier/notebooks/development/OGD_0_5h_slice_1_striatum_vid_3_2_1.tif is a low contrast image\n",
      "  warn('%s is a low contrast image' % fname)\n",
      "/home/ubuntu/miniconda3/lib/python3.6/site-packages/skimage/io/_io.py:132: UserWarning: /home/ubuntu/source/mike_fork/diff_classifier/notebooks/development/OGD_0_5h_slice_1_striatum_vid_3_2_2.tif is a low contrast image\n",
      "  warn('%s is a low contrast image' % fname)\n",
      "/home/ubuntu/miniconda3/lib/python3.6/site-packages/skimage/io/_io.py:132: UserWarning: /home/ubuntu/source/mike_fork/diff_classifier/notebooks/development/OGD_0_5h_slice_1_striatum_vid_3_2_3.tif is a low contrast image\n",
      "  warn('%s is a low contrast image' % fname)\n",
      "/home/ubuntu/miniconda3/lib/python3.6/site-packages/skimage/io/_io.py:132: UserWarning: /home/ubuntu/source/mike_fork/diff_classifier/notebooks/development/OGD_0_5h_slice_1_striatum_vid_3_3_0.tif is a low contrast image\n",
      "  warn('%s is a low contrast image' % fname)\n",
      "/home/ubuntu/miniconda3/lib/python3.6/site-packages/skimage/io/_io.py:132: UserWarning: /home/ubuntu/source/mike_fork/diff_classifier/notebooks/development/OGD_0_5h_slice_1_striatum_vid_3_3_1.tif is a low contrast image\n",
      "  warn('%s is a low contrast image' % fname)\n",
      "/home/ubuntu/miniconda3/lib/python3.6/site-packages/skimage/io/_io.py:132: UserWarning: /home/ubuntu/source/mike_fork/diff_classifier/notebooks/development/OGD_0_5h_slice_1_striatum_vid_3_3_2.tif is a low contrast image\n",
      "  warn('%s is a low contrast image' % fname)\n",
      "/home/ubuntu/miniconda3/lib/python3.6/site-packages/skimage/io/_io.py:132: UserWarning: /home/ubuntu/source/mike_fork/diff_classifier/notebooks/development/OGD_0_5h_slice_1_striatum_vid_3_3_3.tif is a low contrast image\n",
      "  warn('%s is a low contrast image' % fname)\n"
     ]
    },
    {
     "name": "stdout",
     "output_type": "stream",
     "text": [
      "Done with splitting. Should output file of name 03_06_20_OGD_Severity_MPT/OGD_0_5h_slice_1_striatum_vid_3_0_0.tif\n",
      "Done with splitting. Should output file of name 03_06_20_OGD_Severity_MPT/OGD_0_5h_slice_1_striatum_vid_3_0_1.tif\n",
      "Done with splitting. Should output file of name 03_06_20_OGD_Severity_MPT/OGD_0_5h_slice_1_striatum_vid_3_0_2.tif\n",
      "Done with splitting. Should output file of name 03_06_20_OGD_Severity_MPT/OGD_0_5h_slice_1_striatum_vid_3_0_3.tif\n",
      "Done with splitting. Should output file of name 03_06_20_OGD_Severity_MPT/OGD_0_5h_slice_1_striatum_vid_3_1_0.tif\n",
      "Done with splitting. Should output file of name 03_06_20_OGD_Severity_MPT/OGD_0_5h_slice_1_striatum_vid_3_1_1.tif\n",
      "Done with splitting. Should output file of name 03_06_20_OGD_Severity_MPT/OGD_0_5h_slice_1_striatum_vid_3_1_2.tif\n",
      "Done with splitting. Should output file of name 03_06_20_OGD_Severity_MPT/OGD_0_5h_slice_1_striatum_vid_3_1_3.tif\n",
      "Done with splitting. Should output file of name 03_06_20_OGD_Severity_MPT/OGD_0_5h_slice_1_striatum_vid_3_2_0.tif\n",
      "Done with splitting. Should output file of name 03_06_20_OGD_Severity_MPT/OGD_0_5h_slice_1_striatum_vid_3_2_1.tif\n",
      "Done with splitting. Should output file of name 03_06_20_OGD_Severity_MPT/OGD_0_5h_slice_1_striatum_vid_3_2_2.tif\n",
      "Done with splitting. Should output file of name 03_06_20_OGD_Severity_MPT/OGD_0_5h_slice_1_striatum_vid_3_2_3.tif\n",
      "Done with splitting. Should output file of name 03_06_20_OGD_Severity_MPT/OGD_0_5h_slice_1_striatum_vid_3_3_0.tif\n",
      "Done with splitting. Should output file of name 03_06_20_OGD_Severity_MPT/OGD_0_5h_slice_1_striatum_vid_3_3_1.tif\n",
      "Done with splitting. Should output file of name 03_06_20_OGD_Severity_MPT/OGD_0_5h_slice_1_striatum_vid_3_3_2.tif\n",
      "Done with splitting. Should output file of name 03_06_20_OGD_Severity_MPT/OGD_0_5h_slice_1_striatum_vid_3_3_3.tif\n"
     ]
    },
    {
     "name": "stderr",
     "output_type": "stream",
     "text": [
      "/home/ubuntu/miniconda3/lib/python3.6/site-packages/skimage/io/_io.py:132: UserWarning: /home/ubuntu/source/mike_fork/diff_classifier/notebooks/development/OGD_0_5h_slice_1_striatum_vid_4_0_0.tif is a low contrast image\n",
      "  warn('%s is a low contrast image' % fname)\n",
      "/home/ubuntu/miniconda3/lib/python3.6/site-packages/skimage/io/_io.py:132: UserWarning: /home/ubuntu/source/mike_fork/diff_classifier/notebooks/development/OGD_0_5h_slice_1_striatum_vid_4_0_1.tif is a low contrast image\n",
      "  warn('%s is a low contrast image' % fname)\n",
      "/home/ubuntu/miniconda3/lib/python3.6/site-packages/skimage/io/_io.py:132: UserWarning: /home/ubuntu/source/mike_fork/diff_classifier/notebooks/development/OGD_0_5h_slice_1_striatum_vid_4_0_2.tif is a low contrast image\n",
      "  warn('%s is a low contrast image' % fname)\n",
      "/home/ubuntu/miniconda3/lib/python3.6/site-packages/skimage/io/_io.py:132: UserWarning: /home/ubuntu/source/mike_fork/diff_classifier/notebooks/development/OGD_0_5h_slice_1_striatum_vid_4_0_3.tif is a low contrast image\n",
      "  warn('%s is a low contrast image' % fname)\n",
      "/home/ubuntu/miniconda3/lib/python3.6/site-packages/skimage/io/_io.py:132: UserWarning: /home/ubuntu/source/mike_fork/diff_classifier/notebooks/development/OGD_0_5h_slice_1_striatum_vid_4_1_0.tif is a low contrast image\n",
      "  warn('%s is a low contrast image' % fname)\n",
      "/home/ubuntu/miniconda3/lib/python3.6/site-packages/skimage/io/_io.py:132: UserWarning: /home/ubuntu/source/mike_fork/diff_classifier/notebooks/development/OGD_0_5h_slice_1_striatum_vid_4_1_1.tif is a low contrast image\n",
      "  warn('%s is a low contrast image' % fname)\n",
      "/home/ubuntu/miniconda3/lib/python3.6/site-packages/skimage/io/_io.py:132: UserWarning: /home/ubuntu/source/mike_fork/diff_classifier/notebooks/development/OGD_0_5h_slice_1_striatum_vid_4_1_2.tif is a low contrast image\n",
      "  warn('%s is a low contrast image' % fname)\n",
      "/home/ubuntu/miniconda3/lib/python3.6/site-packages/skimage/io/_io.py:132: UserWarning: /home/ubuntu/source/mike_fork/diff_classifier/notebooks/development/OGD_0_5h_slice_1_striatum_vid_4_1_3.tif is a low contrast image\n",
      "  warn('%s is a low contrast image' % fname)\n",
      "/home/ubuntu/miniconda3/lib/python3.6/site-packages/skimage/io/_io.py:132: UserWarning: /home/ubuntu/source/mike_fork/diff_classifier/notebooks/development/OGD_0_5h_slice_1_striatum_vid_4_2_0.tif is a low contrast image\n",
      "  warn('%s is a low contrast image' % fname)\n",
      "/home/ubuntu/miniconda3/lib/python3.6/site-packages/skimage/io/_io.py:132: UserWarning: /home/ubuntu/source/mike_fork/diff_classifier/notebooks/development/OGD_0_5h_slice_1_striatum_vid_4_2_1.tif is a low contrast image\n",
      "  warn('%s is a low contrast image' % fname)\n",
      "/home/ubuntu/miniconda3/lib/python3.6/site-packages/skimage/io/_io.py:132: UserWarning: /home/ubuntu/source/mike_fork/diff_classifier/notebooks/development/OGD_0_5h_slice_1_striatum_vid_4_2_2.tif is a low contrast image\n",
      "  warn('%s is a low contrast image' % fname)\n",
      "/home/ubuntu/miniconda3/lib/python3.6/site-packages/skimage/io/_io.py:132: UserWarning: /home/ubuntu/source/mike_fork/diff_classifier/notebooks/development/OGD_0_5h_slice_1_striatum_vid_4_2_3.tif is a low contrast image\n",
      "  warn('%s is a low contrast image' % fname)\n",
      "/home/ubuntu/miniconda3/lib/python3.6/site-packages/skimage/io/_io.py:132: UserWarning: /home/ubuntu/source/mike_fork/diff_classifier/notebooks/development/OGD_0_5h_slice_1_striatum_vid_4_3_0.tif is a low contrast image\n",
      "  warn('%s is a low contrast image' % fname)\n",
      "/home/ubuntu/miniconda3/lib/python3.6/site-packages/skimage/io/_io.py:132: UserWarning: /home/ubuntu/source/mike_fork/diff_classifier/notebooks/development/OGD_0_5h_slice_1_striatum_vid_4_3_1.tif is a low contrast image\n",
      "  warn('%s is a low contrast image' % fname)\n",
      "/home/ubuntu/miniconda3/lib/python3.6/site-packages/skimage/io/_io.py:132: UserWarning: /home/ubuntu/source/mike_fork/diff_classifier/notebooks/development/OGD_0_5h_slice_1_striatum_vid_4_3_2.tif is a low contrast image\n",
      "  warn('%s is a low contrast image' % fname)\n",
      "/home/ubuntu/miniconda3/lib/python3.6/site-packages/skimage/io/_io.py:132: UserWarning: /home/ubuntu/source/mike_fork/diff_classifier/notebooks/development/OGD_0_5h_slice_1_striatum_vid_4_3_3.tif is a low contrast image\n",
      "  warn('%s is a low contrast image' % fname)\n"
     ]
    },
    {
     "name": "stdout",
     "output_type": "stream",
     "text": [
      "Done with splitting. Should output file of name 03_06_20_OGD_Severity_MPT/OGD_0_5h_slice_1_striatum_vid_4_0_0.tif\n",
      "Done with splitting. Should output file of name 03_06_20_OGD_Severity_MPT/OGD_0_5h_slice_1_striatum_vid_4_0_1.tif\n",
      "Done with splitting. Should output file of name 03_06_20_OGD_Severity_MPT/OGD_0_5h_slice_1_striatum_vid_4_0_2.tif\n",
      "Done with splitting. Should output file of name 03_06_20_OGD_Severity_MPT/OGD_0_5h_slice_1_striatum_vid_4_0_3.tif\n",
      "Done with splitting. Should output file of name 03_06_20_OGD_Severity_MPT/OGD_0_5h_slice_1_striatum_vid_4_1_0.tif\n",
      "Done with splitting. Should output file of name 03_06_20_OGD_Severity_MPT/OGD_0_5h_slice_1_striatum_vid_4_1_1.tif\n",
      "Done with splitting. Should output file of name 03_06_20_OGD_Severity_MPT/OGD_0_5h_slice_1_striatum_vid_4_1_2.tif\n",
      "Done with splitting. Should output file of name 03_06_20_OGD_Severity_MPT/OGD_0_5h_slice_1_striatum_vid_4_1_3.tif\n",
      "Done with splitting. Should output file of name 03_06_20_OGD_Severity_MPT/OGD_0_5h_slice_1_striatum_vid_4_2_0.tif\n",
      "Done with splitting. Should output file of name 03_06_20_OGD_Severity_MPT/OGD_0_5h_slice_1_striatum_vid_4_2_1.tif\n",
      "Done with splitting. Should output file of name 03_06_20_OGD_Severity_MPT/OGD_0_5h_slice_1_striatum_vid_4_2_2.tif\n",
      "Done with splitting. Should output file of name 03_06_20_OGD_Severity_MPT/OGD_0_5h_slice_1_striatum_vid_4_2_3.tif\n",
      "Done with splitting. Should output file of name 03_06_20_OGD_Severity_MPT/OGD_0_5h_slice_1_striatum_vid_4_3_0.tif\n",
      "Done with splitting. Should output file of name 03_06_20_OGD_Severity_MPT/OGD_0_5h_slice_1_striatum_vid_4_3_1.tif\n",
      "Done with splitting. Should output file of name 03_06_20_OGD_Severity_MPT/OGD_0_5h_slice_1_striatum_vid_4_3_2.tif\n",
      "Done with splitting. Should output file of name 03_06_20_OGD_Severity_MPT/OGD_0_5h_slice_1_striatum_vid_4_3_3.tif\n"
     ]
    },
    {
     "name": "stderr",
     "output_type": "stream",
     "text": [
      "/home/ubuntu/miniconda3/lib/python3.6/site-packages/skimage/io/_io.py:132: UserWarning: /home/ubuntu/source/mike_fork/diff_classifier/notebooks/development/OGD_0_5h_slice_1_striatum_vid_5_0_0.tif is a low contrast image\n",
      "  warn('%s is a low contrast image' % fname)\n",
      "/home/ubuntu/miniconda3/lib/python3.6/site-packages/skimage/io/_io.py:132: UserWarning: /home/ubuntu/source/mike_fork/diff_classifier/notebooks/development/OGD_0_5h_slice_1_striatum_vid_5_0_1.tif is a low contrast image\n",
      "  warn('%s is a low contrast image' % fname)\n",
      "/home/ubuntu/miniconda3/lib/python3.6/site-packages/skimage/io/_io.py:132: UserWarning: /home/ubuntu/source/mike_fork/diff_classifier/notebooks/development/OGD_0_5h_slice_1_striatum_vid_5_0_2.tif is a low contrast image\n",
      "  warn('%s is a low contrast image' % fname)\n",
      "/home/ubuntu/miniconda3/lib/python3.6/site-packages/skimage/io/_io.py:132: UserWarning: /home/ubuntu/source/mike_fork/diff_classifier/notebooks/development/OGD_0_5h_slice_1_striatum_vid_5_0_3.tif is a low contrast image\n",
      "  warn('%s is a low contrast image' % fname)\n",
      "/home/ubuntu/miniconda3/lib/python3.6/site-packages/skimage/io/_io.py:132: UserWarning: /home/ubuntu/source/mike_fork/diff_classifier/notebooks/development/OGD_0_5h_slice_1_striatum_vid_5_1_0.tif is a low contrast image\n",
      "  warn('%s is a low contrast image' % fname)\n",
      "/home/ubuntu/miniconda3/lib/python3.6/site-packages/skimage/io/_io.py:132: UserWarning: /home/ubuntu/source/mike_fork/diff_classifier/notebooks/development/OGD_0_5h_slice_1_striatum_vid_5_1_1.tif is a low contrast image\n",
      "  warn('%s is a low contrast image' % fname)\n",
      "/home/ubuntu/miniconda3/lib/python3.6/site-packages/skimage/io/_io.py:132: UserWarning: /home/ubuntu/source/mike_fork/diff_classifier/notebooks/development/OGD_0_5h_slice_1_striatum_vid_5_1_2.tif is a low contrast image\n",
      "  warn('%s is a low contrast image' % fname)\n",
      "/home/ubuntu/miniconda3/lib/python3.6/site-packages/skimage/io/_io.py:132: UserWarning: /home/ubuntu/source/mike_fork/diff_classifier/notebooks/development/OGD_0_5h_slice_1_striatum_vid_5_1_3.tif is a low contrast image\n",
      "  warn('%s is a low contrast image' % fname)\n",
      "/home/ubuntu/miniconda3/lib/python3.6/site-packages/skimage/io/_io.py:132: UserWarning: /home/ubuntu/source/mike_fork/diff_classifier/notebooks/development/OGD_0_5h_slice_1_striatum_vid_5_2_0.tif is a low contrast image\n",
      "  warn('%s is a low contrast image' % fname)\n",
      "/home/ubuntu/miniconda3/lib/python3.6/site-packages/skimage/io/_io.py:132: UserWarning: /home/ubuntu/source/mike_fork/diff_classifier/notebooks/development/OGD_0_5h_slice_1_striatum_vid_5_2_1.tif is a low contrast image\n",
      "  warn('%s is a low contrast image' % fname)\n",
      "/home/ubuntu/miniconda3/lib/python3.6/site-packages/skimage/io/_io.py:132: UserWarning: /home/ubuntu/source/mike_fork/diff_classifier/notebooks/development/OGD_0_5h_slice_1_striatum_vid_5_2_2.tif is a low contrast image\n",
      "  warn('%s is a low contrast image' % fname)\n",
      "/home/ubuntu/miniconda3/lib/python3.6/site-packages/skimage/io/_io.py:132: UserWarning: /home/ubuntu/source/mike_fork/diff_classifier/notebooks/development/OGD_0_5h_slice_1_striatum_vid_5_2_3.tif is a low contrast image\n",
      "  warn('%s is a low contrast image' % fname)\n",
      "/home/ubuntu/miniconda3/lib/python3.6/site-packages/skimage/io/_io.py:132: UserWarning: /home/ubuntu/source/mike_fork/diff_classifier/notebooks/development/OGD_0_5h_slice_1_striatum_vid_5_3_0.tif is a low contrast image\n",
      "  warn('%s is a low contrast image' % fname)\n",
      "/home/ubuntu/miniconda3/lib/python3.6/site-packages/skimage/io/_io.py:132: UserWarning: /home/ubuntu/source/mike_fork/diff_classifier/notebooks/development/OGD_0_5h_slice_1_striatum_vid_5_3_1.tif is a low contrast image\n",
      "  warn('%s is a low contrast image' % fname)\n",
      "/home/ubuntu/miniconda3/lib/python3.6/site-packages/skimage/io/_io.py:132: UserWarning: /home/ubuntu/source/mike_fork/diff_classifier/notebooks/development/OGD_0_5h_slice_1_striatum_vid_5_3_2.tif is a low contrast image\n",
      "  warn('%s is a low contrast image' % fname)\n",
      "/home/ubuntu/miniconda3/lib/python3.6/site-packages/skimage/io/_io.py:132: UserWarning: /home/ubuntu/source/mike_fork/diff_classifier/notebooks/development/OGD_0_5h_slice_1_striatum_vid_5_3_3.tif is a low contrast image\n",
      "  warn('%s is a low contrast image' % fname)\n"
     ]
    },
    {
     "name": "stdout",
     "output_type": "stream",
     "text": [
      "Done with splitting. Should output file of name 03_06_20_OGD_Severity_MPT/OGD_0_5h_slice_1_striatum_vid_5_0_0.tif\n",
      "Done with splitting. Should output file of name 03_06_20_OGD_Severity_MPT/OGD_0_5h_slice_1_striatum_vid_5_0_1.tif\n",
      "Done with splitting. Should output file of name 03_06_20_OGD_Severity_MPT/OGD_0_5h_slice_1_striatum_vid_5_0_2.tif\n",
      "Done with splitting. Should output file of name 03_06_20_OGD_Severity_MPT/OGD_0_5h_slice_1_striatum_vid_5_0_3.tif\n",
      "Done with splitting. Should output file of name 03_06_20_OGD_Severity_MPT/OGD_0_5h_slice_1_striatum_vid_5_1_0.tif\n",
      "Done with splitting. Should output file of name 03_06_20_OGD_Severity_MPT/OGD_0_5h_slice_1_striatum_vid_5_1_1.tif\n",
      "Done with splitting. Should output file of name 03_06_20_OGD_Severity_MPT/OGD_0_5h_slice_1_striatum_vid_5_1_2.tif\n",
      "Done with splitting. Should output file of name 03_06_20_OGD_Severity_MPT/OGD_0_5h_slice_1_striatum_vid_5_1_3.tif\n",
      "Done with splitting. Should output file of name 03_06_20_OGD_Severity_MPT/OGD_0_5h_slice_1_striatum_vid_5_2_0.tif\n",
      "Done with splitting. Should output file of name 03_06_20_OGD_Severity_MPT/OGD_0_5h_slice_1_striatum_vid_5_2_1.tif\n",
      "Done with splitting. Should output file of name 03_06_20_OGD_Severity_MPT/OGD_0_5h_slice_1_striatum_vid_5_2_2.tif\n",
      "Done with splitting. Should output file of name 03_06_20_OGD_Severity_MPT/OGD_0_5h_slice_1_striatum_vid_5_2_3.tif\n",
      "Done with splitting. Should output file of name 03_06_20_OGD_Severity_MPT/OGD_0_5h_slice_1_striatum_vid_5_3_0.tif\n",
      "Done with splitting. Should output file of name 03_06_20_OGD_Severity_MPT/OGD_0_5h_slice_1_striatum_vid_5_3_1.tif\n",
      "Done with splitting. Should output file of name 03_06_20_OGD_Severity_MPT/OGD_0_5h_slice_1_striatum_vid_5_3_2.tif\n",
      "Done with splitting. Should output file of name 03_06_20_OGD_Severity_MPT/OGD_0_5h_slice_1_striatum_vid_5_3_3.tif\n"
     ]
    },
    {
     "name": "stderr",
     "output_type": "stream",
     "text": [
      "/home/ubuntu/miniconda3/lib/python3.6/site-packages/skimage/io/_io.py:132: UserWarning: /home/ubuntu/source/mike_fork/diff_classifier/notebooks/development/OGD_0_5h_slice_2_cortex_vid_1_0_0.tif is a low contrast image\n",
      "  warn('%s is a low contrast image' % fname)\n",
      "/home/ubuntu/miniconda3/lib/python3.6/site-packages/skimage/io/_io.py:132: UserWarning: /home/ubuntu/source/mike_fork/diff_classifier/notebooks/development/OGD_0_5h_slice_2_cortex_vid_1_0_1.tif is a low contrast image\n",
      "  warn('%s is a low contrast image' % fname)\n",
      "/home/ubuntu/miniconda3/lib/python3.6/site-packages/skimage/io/_io.py:132: UserWarning: /home/ubuntu/source/mike_fork/diff_classifier/notebooks/development/OGD_0_5h_slice_2_cortex_vid_1_0_2.tif is a low contrast image\n",
      "  warn('%s is a low contrast image' % fname)\n",
      "/home/ubuntu/miniconda3/lib/python3.6/site-packages/skimage/io/_io.py:132: UserWarning: /home/ubuntu/source/mike_fork/diff_classifier/notebooks/development/OGD_0_5h_slice_2_cortex_vid_1_0_3.tif is a low contrast image\n",
      "  warn('%s is a low contrast image' % fname)\n",
      "/home/ubuntu/miniconda3/lib/python3.6/site-packages/skimage/io/_io.py:132: UserWarning: /home/ubuntu/source/mike_fork/diff_classifier/notebooks/development/OGD_0_5h_slice_2_cortex_vid_1_1_0.tif is a low contrast image\n",
      "  warn('%s is a low contrast image' % fname)\n",
      "/home/ubuntu/miniconda3/lib/python3.6/site-packages/skimage/io/_io.py:132: UserWarning: /home/ubuntu/source/mike_fork/diff_classifier/notebooks/development/OGD_0_5h_slice_2_cortex_vid_1_1_1.tif is a low contrast image\n",
      "  warn('%s is a low contrast image' % fname)\n",
      "/home/ubuntu/miniconda3/lib/python3.6/site-packages/skimage/io/_io.py:132: UserWarning: /home/ubuntu/source/mike_fork/diff_classifier/notebooks/development/OGD_0_5h_slice_2_cortex_vid_1_1_2.tif is a low contrast image\n",
      "  warn('%s is a low contrast image' % fname)\n",
      "/home/ubuntu/miniconda3/lib/python3.6/site-packages/skimage/io/_io.py:132: UserWarning: /home/ubuntu/source/mike_fork/diff_classifier/notebooks/development/OGD_0_5h_slice_2_cortex_vid_1_1_3.tif is a low contrast image\n",
      "  warn('%s is a low contrast image' % fname)\n",
      "/home/ubuntu/miniconda3/lib/python3.6/site-packages/skimage/io/_io.py:132: UserWarning: /home/ubuntu/source/mike_fork/diff_classifier/notebooks/development/OGD_0_5h_slice_2_cortex_vid_1_2_0.tif is a low contrast image\n",
      "  warn('%s is a low contrast image' % fname)\n",
      "/home/ubuntu/miniconda3/lib/python3.6/site-packages/skimage/io/_io.py:132: UserWarning: /home/ubuntu/source/mike_fork/diff_classifier/notebooks/development/OGD_0_5h_slice_2_cortex_vid_1_2_1.tif is a low contrast image\n",
      "  warn('%s is a low contrast image' % fname)\n",
      "/home/ubuntu/miniconda3/lib/python3.6/site-packages/skimage/io/_io.py:132: UserWarning: /home/ubuntu/source/mike_fork/diff_classifier/notebooks/development/OGD_0_5h_slice_2_cortex_vid_1_2_2.tif is a low contrast image\n",
      "  warn('%s is a low contrast image' % fname)\n",
      "/home/ubuntu/miniconda3/lib/python3.6/site-packages/skimage/io/_io.py:132: UserWarning: /home/ubuntu/source/mike_fork/diff_classifier/notebooks/development/OGD_0_5h_slice_2_cortex_vid_1_2_3.tif is a low contrast image\n",
      "  warn('%s is a low contrast image' % fname)\n",
      "/home/ubuntu/miniconda3/lib/python3.6/site-packages/skimage/io/_io.py:132: UserWarning: /home/ubuntu/source/mike_fork/diff_classifier/notebooks/development/OGD_0_5h_slice_2_cortex_vid_1_3_0.tif is a low contrast image\n",
      "  warn('%s is a low contrast image' % fname)\n",
      "/home/ubuntu/miniconda3/lib/python3.6/site-packages/skimage/io/_io.py:132: UserWarning: /home/ubuntu/source/mike_fork/diff_classifier/notebooks/development/OGD_0_5h_slice_2_cortex_vid_1_3_1.tif is a low contrast image\n",
      "  warn('%s is a low contrast image' % fname)\n",
      "/home/ubuntu/miniconda3/lib/python3.6/site-packages/skimage/io/_io.py:132: UserWarning: /home/ubuntu/source/mike_fork/diff_classifier/notebooks/development/OGD_0_5h_slice_2_cortex_vid_1_3_2.tif is a low contrast image\n",
      "  warn('%s is a low contrast image' % fname)\n",
      "/home/ubuntu/miniconda3/lib/python3.6/site-packages/skimage/io/_io.py:132: UserWarning: /home/ubuntu/source/mike_fork/diff_classifier/notebooks/development/OGD_0_5h_slice_2_cortex_vid_1_3_3.tif is a low contrast image\n",
      "  warn('%s is a low contrast image' % fname)\n"
     ]
    },
    {
     "name": "stdout",
     "output_type": "stream",
     "text": [
      "Done with splitting. Should output file of name 03_06_20_OGD_Severity_MPT/OGD_0_5h_slice_2_cortex_vid_1_0_0.tif\n",
      "Done with splitting. Should output file of name 03_06_20_OGD_Severity_MPT/OGD_0_5h_slice_2_cortex_vid_1_0_1.tif\n",
      "Done with splitting. Should output file of name 03_06_20_OGD_Severity_MPT/OGD_0_5h_slice_2_cortex_vid_1_0_2.tif\n",
      "Done with splitting. Should output file of name 03_06_20_OGD_Severity_MPT/OGD_0_5h_slice_2_cortex_vid_1_0_3.tif\n",
      "Done with splitting. Should output file of name 03_06_20_OGD_Severity_MPT/OGD_0_5h_slice_2_cortex_vid_1_1_0.tif\n",
      "Done with splitting. Should output file of name 03_06_20_OGD_Severity_MPT/OGD_0_5h_slice_2_cortex_vid_1_1_1.tif\n",
      "Done with splitting. Should output file of name 03_06_20_OGD_Severity_MPT/OGD_0_5h_slice_2_cortex_vid_1_1_2.tif\n",
      "Done with splitting. Should output file of name 03_06_20_OGD_Severity_MPT/OGD_0_5h_slice_2_cortex_vid_1_1_3.tif\n",
      "Done with splitting. Should output file of name 03_06_20_OGD_Severity_MPT/OGD_0_5h_slice_2_cortex_vid_1_2_0.tif\n",
      "Done with splitting. Should output file of name 03_06_20_OGD_Severity_MPT/OGD_0_5h_slice_2_cortex_vid_1_2_1.tif\n",
      "Done with splitting. Should output file of name 03_06_20_OGD_Severity_MPT/OGD_0_5h_slice_2_cortex_vid_1_2_2.tif\n",
      "Done with splitting. Should output file of name 03_06_20_OGD_Severity_MPT/OGD_0_5h_slice_2_cortex_vid_1_2_3.tif\n",
      "Done with splitting. Should output file of name 03_06_20_OGD_Severity_MPT/OGD_0_5h_slice_2_cortex_vid_1_3_0.tif\n",
      "Done with splitting. Should output file of name 03_06_20_OGD_Severity_MPT/OGD_0_5h_slice_2_cortex_vid_1_3_1.tif\n",
      "Done with splitting. Should output file of name 03_06_20_OGD_Severity_MPT/OGD_0_5h_slice_2_cortex_vid_1_3_2.tif\n",
      "Done with splitting. Should output file of name 03_06_20_OGD_Severity_MPT/OGD_0_5h_slice_2_cortex_vid_1_3_3.tif\n"
     ]
    },
    {
     "name": "stderr",
     "output_type": "stream",
     "text": [
      "/home/ubuntu/miniconda3/lib/python3.6/site-packages/skimage/io/_io.py:132: UserWarning: /home/ubuntu/source/mike_fork/diff_classifier/notebooks/development/OGD_0_5h_slice_2_cortex_vid_2_0_0.tif is a low contrast image\n",
      "  warn('%s is a low contrast image' % fname)\n",
      "/home/ubuntu/miniconda3/lib/python3.6/site-packages/skimage/io/_io.py:132: UserWarning: /home/ubuntu/source/mike_fork/diff_classifier/notebooks/development/OGD_0_5h_slice_2_cortex_vid_2_0_1.tif is a low contrast image\n",
      "  warn('%s is a low contrast image' % fname)\n",
      "/home/ubuntu/miniconda3/lib/python3.6/site-packages/skimage/io/_io.py:132: UserWarning: /home/ubuntu/source/mike_fork/diff_classifier/notebooks/development/OGD_0_5h_slice_2_cortex_vid_2_0_2.tif is a low contrast image\n",
      "  warn('%s is a low contrast image' % fname)\n",
      "/home/ubuntu/miniconda3/lib/python3.6/site-packages/skimage/io/_io.py:132: UserWarning: /home/ubuntu/source/mike_fork/diff_classifier/notebooks/development/OGD_0_5h_slice_2_cortex_vid_2_0_3.tif is a low contrast image\n",
      "  warn('%s is a low contrast image' % fname)\n",
      "/home/ubuntu/miniconda3/lib/python3.6/site-packages/skimage/io/_io.py:132: UserWarning: /home/ubuntu/source/mike_fork/diff_classifier/notebooks/development/OGD_0_5h_slice_2_cortex_vid_2_1_0.tif is a low contrast image\n",
      "  warn('%s is a low contrast image' % fname)\n",
      "/home/ubuntu/miniconda3/lib/python3.6/site-packages/skimage/io/_io.py:132: UserWarning: /home/ubuntu/source/mike_fork/diff_classifier/notebooks/development/OGD_0_5h_slice_2_cortex_vid_2_1_1.tif is a low contrast image\n",
      "  warn('%s is a low contrast image' % fname)\n",
      "/home/ubuntu/miniconda3/lib/python3.6/site-packages/skimage/io/_io.py:132: UserWarning: /home/ubuntu/source/mike_fork/diff_classifier/notebooks/development/OGD_0_5h_slice_2_cortex_vid_2_1_2.tif is a low contrast image\n",
      "  warn('%s is a low contrast image' % fname)\n",
      "/home/ubuntu/miniconda3/lib/python3.6/site-packages/skimage/io/_io.py:132: UserWarning: /home/ubuntu/source/mike_fork/diff_classifier/notebooks/development/OGD_0_5h_slice_2_cortex_vid_2_1_3.tif is a low contrast image\n",
      "  warn('%s is a low contrast image' % fname)\n",
      "/home/ubuntu/miniconda3/lib/python3.6/site-packages/skimage/io/_io.py:132: UserWarning: /home/ubuntu/source/mike_fork/diff_classifier/notebooks/development/OGD_0_5h_slice_2_cortex_vid_2_2_0.tif is a low contrast image\n",
      "  warn('%s is a low contrast image' % fname)\n",
      "/home/ubuntu/miniconda3/lib/python3.6/site-packages/skimage/io/_io.py:132: UserWarning: /home/ubuntu/source/mike_fork/diff_classifier/notebooks/development/OGD_0_5h_slice_2_cortex_vid_2_2_1.tif is a low contrast image\n",
      "  warn('%s is a low contrast image' % fname)\n",
      "/home/ubuntu/miniconda3/lib/python3.6/site-packages/skimage/io/_io.py:132: UserWarning: /home/ubuntu/source/mike_fork/diff_classifier/notebooks/development/OGD_0_5h_slice_2_cortex_vid_2_2_2.tif is a low contrast image\n",
      "  warn('%s is a low contrast image' % fname)\n",
      "/home/ubuntu/miniconda3/lib/python3.6/site-packages/skimage/io/_io.py:132: UserWarning: /home/ubuntu/source/mike_fork/diff_classifier/notebooks/development/OGD_0_5h_slice_2_cortex_vid_2_2_3.tif is a low contrast image\n",
      "  warn('%s is a low contrast image' % fname)\n",
      "/home/ubuntu/miniconda3/lib/python3.6/site-packages/skimage/io/_io.py:132: UserWarning: /home/ubuntu/source/mike_fork/diff_classifier/notebooks/development/OGD_0_5h_slice_2_cortex_vid_2_3_0.tif is a low contrast image\n",
      "  warn('%s is a low contrast image' % fname)\n",
      "/home/ubuntu/miniconda3/lib/python3.6/site-packages/skimage/io/_io.py:132: UserWarning: /home/ubuntu/source/mike_fork/diff_classifier/notebooks/development/OGD_0_5h_slice_2_cortex_vid_2_3_1.tif is a low contrast image\n",
      "  warn('%s is a low contrast image' % fname)\n",
      "/home/ubuntu/miniconda3/lib/python3.6/site-packages/skimage/io/_io.py:132: UserWarning: /home/ubuntu/source/mike_fork/diff_classifier/notebooks/development/OGD_0_5h_slice_2_cortex_vid_2_3_2.tif is a low contrast image\n",
      "  warn('%s is a low contrast image' % fname)\n",
      "/home/ubuntu/miniconda3/lib/python3.6/site-packages/skimage/io/_io.py:132: UserWarning: /home/ubuntu/source/mike_fork/diff_classifier/notebooks/development/OGD_0_5h_slice_2_cortex_vid_2_3_3.tif is a low contrast image\n",
      "  warn('%s is a low contrast image' % fname)\n"
     ]
    },
    {
     "name": "stdout",
     "output_type": "stream",
     "text": [
      "Done with splitting. Should output file of name 03_06_20_OGD_Severity_MPT/OGD_0_5h_slice_2_cortex_vid_2_0_0.tif\n",
      "Done with splitting. Should output file of name 03_06_20_OGD_Severity_MPT/OGD_0_5h_slice_2_cortex_vid_2_0_1.tif\n",
      "Done with splitting. Should output file of name 03_06_20_OGD_Severity_MPT/OGD_0_5h_slice_2_cortex_vid_2_0_2.tif\n",
      "Done with splitting. Should output file of name 03_06_20_OGD_Severity_MPT/OGD_0_5h_slice_2_cortex_vid_2_0_3.tif\n",
      "Done with splitting. Should output file of name 03_06_20_OGD_Severity_MPT/OGD_0_5h_slice_2_cortex_vid_2_1_0.tif\n",
      "Done with splitting. Should output file of name 03_06_20_OGD_Severity_MPT/OGD_0_5h_slice_2_cortex_vid_2_1_1.tif\n",
      "Done with splitting. Should output file of name 03_06_20_OGD_Severity_MPT/OGD_0_5h_slice_2_cortex_vid_2_1_2.tif\n",
      "Done with splitting. Should output file of name 03_06_20_OGD_Severity_MPT/OGD_0_5h_slice_2_cortex_vid_2_1_3.tif\n",
      "Done with splitting. Should output file of name 03_06_20_OGD_Severity_MPT/OGD_0_5h_slice_2_cortex_vid_2_2_0.tif\n",
      "Done with splitting. Should output file of name 03_06_20_OGD_Severity_MPT/OGD_0_5h_slice_2_cortex_vid_2_2_1.tif\n",
      "Done with splitting. Should output file of name 03_06_20_OGD_Severity_MPT/OGD_0_5h_slice_2_cortex_vid_2_2_2.tif\n",
      "Done with splitting. Should output file of name 03_06_20_OGD_Severity_MPT/OGD_0_5h_slice_2_cortex_vid_2_2_3.tif\n",
      "Done with splitting. Should output file of name 03_06_20_OGD_Severity_MPT/OGD_0_5h_slice_2_cortex_vid_2_3_0.tif\n",
      "Done with splitting. Should output file of name 03_06_20_OGD_Severity_MPT/OGD_0_5h_slice_2_cortex_vid_2_3_1.tif\n",
      "Done with splitting. Should output file of name 03_06_20_OGD_Severity_MPT/OGD_0_5h_slice_2_cortex_vid_2_3_2.tif\n",
      "Done with splitting. Should output file of name 03_06_20_OGD_Severity_MPT/OGD_0_5h_slice_2_cortex_vid_2_3_3.tif\n"
     ]
    },
    {
     "name": "stderr",
     "output_type": "stream",
     "text": [
      "/home/ubuntu/miniconda3/lib/python3.6/site-packages/skimage/io/_io.py:132: UserWarning: /home/ubuntu/source/mike_fork/diff_classifier/notebooks/development/OGD_0_5h_slice_2_cortex_vid_3_0_0.tif is a low contrast image\n",
      "  warn('%s is a low contrast image' % fname)\n",
      "/home/ubuntu/miniconda3/lib/python3.6/site-packages/skimage/io/_io.py:132: UserWarning: /home/ubuntu/source/mike_fork/diff_classifier/notebooks/development/OGD_0_5h_slice_2_cortex_vid_3_0_1.tif is a low contrast image\n",
      "  warn('%s is a low contrast image' % fname)\n",
      "/home/ubuntu/miniconda3/lib/python3.6/site-packages/skimage/io/_io.py:132: UserWarning: /home/ubuntu/source/mike_fork/diff_classifier/notebooks/development/OGD_0_5h_slice_2_cortex_vid_3_0_2.tif is a low contrast image\n",
      "  warn('%s is a low contrast image' % fname)\n",
      "/home/ubuntu/miniconda3/lib/python3.6/site-packages/skimage/io/_io.py:132: UserWarning: /home/ubuntu/source/mike_fork/diff_classifier/notebooks/development/OGD_0_5h_slice_2_cortex_vid_3_0_3.tif is a low contrast image\n",
      "  warn('%s is a low contrast image' % fname)\n",
      "/home/ubuntu/miniconda3/lib/python3.6/site-packages/skimage/io/_io.py:132: UserWarning: /home/ubuntu/source/mike_fork/diff_classifier/notebooks/development/OGD_0_5h_slice_2_cortex_vid_3_1_0.tif is a low contrast image\n",
      "  warn('%s is a low contrast image' % fname)\n",
      "/home/ubuntu/miniconda3/lib/python3.6/site-packages/skimage/io/_io.py:132: UserWarning: /home/ubuntu/source/mike_fork/diff_classifier/notebooks/development/OGD_0_5h_slice_2_cortex_vid_3_1_1.tif is a low contrast image\n",
      "  warn('%s is a low contrast image' % fname)\n",
      "/home/ubuntu/miniconda3/lib/python3.6/site-packages/skimage/io/_io.py:132: UserWarning: /home/ubuntu/source/mike_fork/diff_classifier/notebooks/development/OGD_0_5h_slice_2_cortex_vid_3_1_2.tif is a low contrast image\n",
      "  warn('%s is a low contrast image' % fname)\n",
      "/home/ubuntu/miniconda3/lib/python3.6/site-packages/skimage/io/_io.py:132: UserWarning: /home/ubuntu/source/mike_fork/diff_classifier/notebooks/development/OGD_0_5h_slice_2_cortex_vid_3_1_3.tif is a low contrast image\n",
      "  warn('%s is a low contrast image' % fname)\n",
      "/home/ubuntu/miniconda3/lib/python3.6/site-packages/skimage/io/_io.py:132: UserWarning: /home/ubuntu/source/mike_fork/diff_classifier/notebooks/development/OGD_0_5h_slice_2_cortex_vid_3_2_0.tif is a low contrast image\n",
      "  warn('%s is a low contrast image' % fname)\n",
      "/home/ubuntu/miniconda3/lib/python3.6/site-packages/skimage/io/_io.py:132: UserWarning: /home/ubuntu/source/mike_fork/diff_classifier/notebooks/development/OGD_0_5h_slice_2_cortex_vid_3_2_1.tif is a low contrast image\n",
      "  warn('%s is a low contrast image' % fname)\n",
      "/home/ubuntu/miniconda3/lib/python3.6/site-packages/skimage/io/_io.py:132: UserWarning: /home/ubuntu/source/mike_fork/diff_classifier/notebooks/development/OGD_0_5h_slice_2_cortex_vid_3_2_2.tif is a low contrast image\n",
      "  warn('%s is a low contrast image' % fname)\n",
      "/home/ubuntu/miniconda3/lib/python3.6/site-packages/skimage/io/_io.py:132: UserWarning: /home/ubuntu/source/mike_fork/diff_classifier/notebooks/development/OGD_0_5h_slice_2_cortex_vid_3_2_3.tif is a low contrast image\n",
      "  warn('%s is a low contrast image' % fname)\n",
      "/home/ubuntu/miniconda3/lib/python3.6/site-packages/skimage/io/_io.py:132: UserWarning: /home/ubuntu/source/mike_fork/diff_classifier/notebooks/development/OGD_0_5h_slice_2_cortex_vid_3_3_0.tif is a low contrast image\n",
      "  warn('%s is a low contrast image' % fname)\n",
      "/home/ubuntu/miniconda3/lib/python3.6/site-packages/skimage/io/_io.py:132: UserWarning: /home/ubuntu/source/mike_fork/diff_classifier/notebooks/development/OGD_0_5h_slice_2_cortex_vid_3_3_1.tif is a low contrast image\n",
      "  warn('%s is a low contrast image' % fname)\n",
      "/home/ubuntu/miniconda3/lib/python3.6/site-packages/skimage/io/_io.py:132: UserWarning: /home/ubuntu/source/mike_fork/diff_classifier/notebooks/development/OGD_0_5h_slice_2_cortex_vid_3_3_2.tif is a low contrast image\n",
      "  warn('%s is a low contrast image' % fname)\n",
      "/home/ubuntu/miniconda3/lib/python3.6/site-packages/skimage/io/_io.py:132: UserWarning: /home/ubuntu/source/mike_fork/diff_classifier/notebooks/development/OGD_0_5h_slice_2_cortex_vid_3_3_3.tif is a low contrast image\n",
      "  warn('%s is a low contrast image' % fname)\n"
     ]
    },
    {
     "name": "stdout",
     "output_type": "stream",
     "text": [
      "Done with splitting. Should output file of name 03_06_20_OGD_Severity_MPT/OGD_0_5h_slice_2_cortex_vid_3_0_0.tif\n",
      "Done with splitting. Should output file of name 03_06_20_OGD_Severity_MPT/OGD_0_5h_slice_2_cortex_vid_3_0_1.tif\n",
      "Done with splitting. Should output file of name 03_06_20_OGD_Severity_MPT/OGD_0_5h_slice_2_cortex_vid_3_0_2.tif\n",
      "Done with splitting. Should output file of name 03_06_20_OGD_Severity_MPT/OGD_0_5h_slice_2_cortex_vid_3_0_3.tif\n",
      "Done with splitting. Should output file of name 03_06_20_OGD_Severity_MPT/OGD_0_5h_slice_2_cortex_vid_3_1_0.tif\n",
      "Done with splitting. Should output file of name 03_06_20_OGD_Severity_MPT/OGD_0_5h_slice_2_cortex_vid_3_1_1.tif\n",
      "Done with splitting. Should output file of name 03_06_20_OGD_Severity_MPT/OGD_0_5h_slice_2_cortex_vid_3_1_2.tif\n",
      "Done with splitting. Should output file of name 03_06_20_OGD_Severity_MPT/OGD_0_5h_slice_2_cortex_vid_3_1_3.tif\n",
      "Done with splitting. Should output file of name 03_06_20_OGD_Severity_MPT/OGD_0_5h_slice_2_cortex_vid_3_2_0.tif\n",
      "Done with splitting. Should output file of name 03_06_20_OGD_Severity_MPT/OGD_0_5h_slice_2_cortex_vid_3_2_1.tif\n",
      "Done with splitting. Should output file of name 03_06_20_OGD_Severity_MPT/OGD_0_5h_slice_2_cortex_vid_3_2_2.tif\n",
      "Done with splitting. Should output file of name 03_06_20_OGD_Severity_MPT/OGD_0_5h_slice_2_cortex_vid_3_2_3.tif\n",
      "Done with splitting. Should output file of name 03_06_20_OGD_Severity_MPT/OGD_0_5h_slice_2_cortex_vid_3_3_0.tif\n",
      "Done with splitting. Should output file of name 03_06_20_OGD_Severity_MPT/OGD_0_5h_slice_2_cortex_vid_3_3_1.tif\n",
      "Done with splitting. Should output file of name 03_06_20_OGD_Severity_MPT/OGD_0_5h_slice_2_cortex_vid_3_3_2.tif\n",
      "Done with splitting. Should output file of name 03_06_20_OGD_Severity_MPT/OGD_0_5h_slice_2_cortex_vid_3_3_3.tif\n"
     ]
    },
    {
     "name": "stderr",
     "output_type": "stream",
     "text": [
      "/home/ubuntu/miniconda3/lib/python3.6/site-packages/skimage/io/_io.py:132: UserWarning: /home/ubuntu/source/mike_fork/diff_classifier/notebooks/development/OGD_0_5h_slice_2_cortex_vid_4_0_0.tif is a low contrast image\n",
      "  warn('%s is a low contrast image' % fname)\n",
      "/home/ubuntu/miniconda3/lib/python3.6/site-packages/skimage/io/_io.py:132: UserWarning: /home/ubuntu/source/mike_fork/diff_classifier/notebooks/development/OGD_0_5h_slice_2_cortex_vid_4_0_1.tif is a low contrast image\n",
      "  warn('%s is a low contrast image' % fname)\n",
      "/home/ubuntu/miniconda3/lib/python3.6/site-packages/skimage/io/_io.py:132: UserWarning: /home/ubuntu/source/mike_fork/diff_classifier/notebooks/development/OGD_0_5h_slice_2_cortex_vid_4_0_2.tif is a low contrast image\n",
      "  warn('%s is a low contrast image' % fname)\n",
      "/home/ubuntu/miniconda3/lib/python3.6/site-packages/skimage/io/_io.py:132: UserWarning: /home/ubuntu/source/mike_fork/diff_classifier/notebooks/development/OGD_0_5h_slice_2_cortex_vid_4_0_3.tif is a low contrast image\n",
      "  warn('%s is a low contrast image' % fname)\n",
      "/home/ubuntu/miniconda3/lib/python3.6/site-packages/skimage/io/_io.py:132: UserWarning: /home/ubuntu/source/mike_fork/diff_classifier/notebooks/development/OGD_0_5h_slice_2_cortex_vid_4_1_0.tif is a low contrast image\n",
      "  warn('%s is a low contrast image' % fname)\n",
      "/home/ubuntu/miniconda3/lib/python3.6/site-packages/skimage/io/_io.py:132: UserWarning: /home/ubuntu/source/mike_fork/diff_classifier/notebooks/development/OGD_0_5h_slice_2_cortex_vid_4_1_1.tif is a low contrast image\n",
      "  warn('%s is a low contrast image' % fname)\n",
      "/home/ubuntu/miniconda3/lib/python3.6/site-packages/skimage/io/_io.py:132: UserWarning: /home/ubuntu/source/mike_fork/diff_classifier/notebooks/development/OGD_0_5h_slice_2_cortex_vid_4_1_2.tif is a low contrast image\n",
      "  warn('%s is a low contrast image' % fname)\n",
      "/home/ubuntu/miniconda3/lib/python3.6/site-packages/skimage/io/_io.py:132: UserWarning: /home/ubuntu/source/mike_fork/diff_classifier/notebooks/development/OGD_0_5h_slice_2_cortex_vid_4_1_3.tif is a low contrast image\n",
      "  warn('%s is a low contrast image' % fname)\n",
      "/home/ubuntu/miniconda3/lib/python3.6/site-packages/skimage/io/_io.py:132: UserWarning: /home/ubuntu/source/mike_fork/diff_classifier/notebooks/development/OGD_0_5h_slice_2_cortex_vid_4_2_0.tif is a low contrast image\n",
      "  warn('%s is a low contrast image' % fname)\n",
      "/home/ubuntu/miniconda3/lib/python3.6/site-packages/skimage/io/_io.py:132: UserWarning: /home/ubuntu/source/mike_fork/diff_classifier/notebooks/development/OGD_0_5h_slice_2_cortex_vid_4_2_1.tif is a low contrast image\n",
      "  warn('%s is a low contrast image' % fname)\n",
      "/home/ubuntu/miniconda3/lib/python3.6/site-packages/skimage/io/_io.py:132: UserWarning: /home/ubuntu/source/mike_fork/diff_classifier/notebooks/development/OGD_0_5h_slice_2_cortex_vid_4_2_2.tif is a low contrast image\n",
      "  warn('%s is a low contrast image' % fname)\n",
      "/home/ubuntu/miniconda3/lib/python3.6/site-packages/skimage/io/_io.py:132: UserWarning: /home/ubuntu/source/mike_fork/diff_classifier/notebooks/development/OGD_0_5h_slice_2_cortex_vid_4_2_3.tif is a low contrast image\n",
      "  warn('%s is a low contrast image' % fname)\n",
      "/home/ubuntu/miniconda3/lib/python3.6/site-packages/skimage/io/_io.py:132: UserWarning: /home/ubuntu/source/mike_fork/diff_classifier/notebooks/development/OGD_0_5h_slice_2_cortex_vid_4_3_0.tif is a low contrast image\n",
      "  warn('%s is a low contrast image' % fname)\n",
      "/home/ubuntu/miniconda3/lib/python3.6/site-packages/skimage/io/_io.py:132: UserWarning: /home/ubuntu/source/mike_fork/diff_classifier/notebooks/development/OGD_0_5h_slice_2_cortex_vid_4_3_1.tif is a low contrast image\n",
      "  warn('%s is a low contrast image' % fname)\n",
      "/home/ubuntu/miniconda3/lib/python3.6/site-packages/skimage/io/_io.py:132: UserWarning: /home/ubuntu/source/mike_fork/diff_classifier/notebooks/development/OGD_0_5h_slice_2_cortex_vid_4_3_2.tif is a low contrast image\n",
      "  warn('%s is a low contrast image' % fname)\n",
      "/home/ubuntu/miniconda3/lib/python3.6/site-packages/skimage/io/_io.py:132: UserWarning: /home/ubuntu/source/mike_fork/diff_classifier/notebooks/development/OGD_0_5h_slice_2_cortex_vid_4_3_3.tif is a low contrast image\n",
      "  warn('%s is a low contrast image' % fname)\n"
     ]
    },
    {
     "name": "stdout",
     "output_type": "stream",
     "text": [
      "Done with splitting. Should output file of name 03_06_20_OGD_Severity_MPT/OGD_0_5h_slice_2_cortex_vid_4_0_0.tif\n",
      "Done with splitting. Should output file of name 03_06_20_OGD_Severity_MPT/OGD_0_5h_slice_2_cortex_vid_4_0_1.tif\n",
      "Done with splitting. Should output file of name 03_06_20_OGD_Severity_MPT/OGD_0_5h_slice_2_cortex_vid_4_0_2.tif\n",
      "Done with splitting. Should output file of name 03_06_20_OGD_Severity_MPT/OGD_0_5h_slice_2_cortex_vid_4_0_3.tif\n",
      "Done with splitting. Should output file of name 03_06_20_OGD_Severity_MPT/OGD_0_5h_slice_2_cortex_vid_4_1_0.tif\n",
      "Done with splitting. Should output file of name 03_06_20_OGD_Severity_MPT/OGD_0_5h_slice_2_cortex_vid_4_1_1.tif\n",
      "Done with splitting. Should output file of name 03_06_20_OGD_Severity_MPT/OGD_0_5h_slice_2_cortex_vid_4_1_2.tif\n",
      "Done with splitting. Should output file of name 03_06_20_OGD_Severity_MPT/OGD_0_5h_slice_2_cortex_vid_4_1_3.tif\n",
      "Done with splitting. Should output file of name 03_06_20_OGD_Severity_MPT/OGD_0_5h_slice_2_cortex_vid_4_2_0.tif\n",
      "Done with splitting. Should output file of name 03_06_20_OGD_Severity_MPT/OGD_0_5h_slice_2_cortex_vid_4_2_1.tif\n",
      "Done with splitting. Should output file of name 03_06_20_OGD_Severity_MPT/OGD_0_5h_slice_2_cortex_vid_4_2_2.tif\n",
      "Done with splitting. Should output file of name 03_06_20_OGD_Severity_MPT/OGD_0_5h_slice_2_cortex_vid_4_2_3.tif\n",
      "Done with splitting. Should output file of name 03_06_20_OGD_Severity_MPT/OGD_0_5h_slice_2_cortex_vid_4_3_0.tif\n",
      "Done with splitting. Should output file of name 03_06_20_OGD_Severity_MPT/OGD_0_5h_slice_2_cortex_vid_4_3_1.tif\n",
      "Done with splitting. Should output file of name 03_06_20_OGD_Severity_MPT/OGD_0_5h_slice_2_cortex_vid_4_3_2.tif\n",
      "Done with splitting. Should output file of name 03_06_20_OGD_Severity_MPT/OGD_0_5h_slice_2_cortex_vid_4_3_3.tif\n"
     ]
    },
    {
     "name": "stderr",
     "output_type": "stream",
     "text": [
      "/home/ubuntu/miniconda3/lib/python3.6/site-packages/skimage/io/_io.py:132: UserWarning: /home/ubuntu/source/mike_fork/diff_classifier/notebooks/development/OGD_0_5h_slice_2_cortex_vid_5_0_0.tif is a low contrast image\n",
      "  warn('%s is a low contrast image' % fname)\n",
      "/home/ubuntu/miniconda3/lib/python3.6/site-packages/skimage/io/_io.py:132: UserWarning: /home/ubuntu/source/mike_fork/diff_classifier/notebooks/development/OGD_0_5h_slice_2_cortex_vid_5_0_1.tif is a low contrast image\n",
      "  warn('%s is a low contrast image' % fname)\n",
      "/home/ubuntu/miniconda3/lib/python3.6/site-packages/skimage/io/_io.py:132: UserWarning: /home/ubuntu/source/mike_fork/diff_classifier/notebooks/development/OGD_0_5h_slice_2_cortex_vid_5_0_2.tif is a low contrast image\n",
      "  warn('%s is a low contrast image' % fname)\n",
      "/home/ubuntu/miniconda3/lib/python3.6/site-packages/skimage/io/_io.py:132: UserWarning: /home/ubuntu/source/mike_fork/diff_classifier/notebooks/development/OGD_0_5h_slice_2_cortex_vid_5_0_3.tif is a low contrast image\n",
      "  warn('%s is a low contrast image' % fname)\n",
      "/home/ubuntu/miniconda3/lib/python3.6/site-packages/skimage/io/_io.py:132: UserWarning: /home/ubuntu/source/mike_fork/diff_classifier/notebooks/development/OGD_0_5h_slice_2_cortex_vid_5_1_0.tif is a low contrast image\n",
      "  warn('%s is a low contrast image' % fname)\n",
      "/home/ubuntu/miniconda3/lib/python3.6/site-packages/skimage/io/_io.py:132: UserWarning: /home/ubuntu/source/mike_fork/diff_classifier/notebooks/development/OGD_0_5h_slice_2_cortex_vid_5_1_1.tif is a low contrast image\n",
      "  warn('%s is a low contrast image' % fname)\n",
      "/home/ubuntu/miniconda3/lib/python3.6/site-packages/skimage/io/_io.py:132: UserWarning: /home/ubuntu/source/mike_fork/diff_classifier/notebooks/development/OGD_0_5h_slice_2_cortex_vid_5_1_2.tif is a low contrast image\n",
      "  warn('%s is a low contrast image' % fname)\n",
      "/home/ubuntu/miniconda3/lib/python3.6/site-packages/skimage/io/_io.py:132: UserWarning: /home/ubuntu/source/mike_fork/diff_classifier/notebooks/development/OGD_0_5h_slice_2_cortex_vid_5_1_3.tif is a low contrast image\n",
      "  warn('%s is a low contrast image' % fname)\n",
      "/home/ubuntu/miniconda3/lib/python3.6/site-packages/skimage/io/_io.py:132: UserWarning: /home/ubuntu/source/mike_fork/diff_classifier/notebooks/development/OGD_0_5h_slice_2_cortex_vid_5_2_0.tif is a low contrast image\n",
      "  warn('%s is a low contrast image' % fname)\n",
      "/home/ubuntu/miniconda3/lib/python3.6/site-packages/skimage/io/_io.py:132: UserWarning: /home/ubuntu/source/mike_fork/diff_classifier/notebooks/development/OGD_0_5h_slice_2_cortex_vid_5_2_1.tif is a low contrast image\n",
      "  warn('%s is a low contrast image' % fname)\n",
      "/home/ubuntu/miniconda3/lib/python3.6/site-packages/skimage/io/_io.py:132: UserWarning: /home/ubuntu/source/mike_fork/diff_classifier/notebooks/development/OGD_0_5h_slice_2_cortex_vid_5_2_2.tif is a low contrast image\n",
      "  warn('%s is a low contrast image' % fname)\n",
      "/home/ubuntu/miniconda3/lib/python3.6/site-packages/skimage/io/_io.py:132: UserWarning: /home/ubuntu/source/mike_fork/diff_classifier/notebooks/development/OGD_0_5h_slice_2_cortex_vid_5_2_3.tif is a low contrast image\n",
      "  warn('%s is a low contrast image' % fname)\n",
      "/home/ubuntu/miniconda3/lib/python3.6/site-packages/skimage/io/_io.py:132: UserWarning: /home/ubuntu/source/mike_fork/diff_classifier/notebooks/development/OGD_0_5h_slice_2_cortex_vid_5_3_0.tif is a low contrast image\n",
      "  warn('%s is a low contrast image' % fname)\n",
      "/home/ubuntu/miniconda3/lib/python3.6/site-packages/skimage/io/_io.py:132: UserWarning: /home/ubuntu/source/mike_fork/diff_classifier/notebooks/development/OGD_0_5h_slice_2_cortex_vid_5_3_1.tif is a low contrast image\n",
      "  warn('%s is a low contrast image' % fname)\n",
      "/home/ubuntu/miniconda3/lib/python3.6/site-packages/skimage/io/_io.py:132: UserWarning: /home/ubuntu/source/mike_fork/diff_classifier/notebooks/development/OGD_0_5h_slice_2_cortex_vid_5_3_2.tif is a low contrast image\n",
      "  warn('%s is a low contrast image' % fname)\n",
      "/home/ubuntu/miniconda3/lib/python3.6/site-packages/skimage/io/_io.py:132: UserWarning: /home/ubuntu/source/mike_fork/diff_classifier/notebooks/development/OGD_0_5h_slice_2_cortex_vid_5_3_3.tif is a low contrast image\n",
      "  warn('%s is a low contrast image' % fname)\n"
     ]
    },
    {
     "name": "stdout",
     "output_type": "stream",
     "text": [
      "Done with splitting. Should output file of name 03_06_20_OGD_Severity_MPT/OGD_0_5h_slice_2_cortex_vid_5_0_0.tif\n",
      "Done with splitting. Should output file of name 03_06_20_OGD_Severity_MPT/OGD_0_5h_slice_2_cortex_vid_5_0_1.tif\n",
      "Done with splitting. Should output file of name 03_06_20_OGD_Severity_MPT/OGD_0_5h_slice_2_cortex_vid_5_0_2.tif\n",
      "Done with splitting. Should output file of name 03_06_20_OGD_Severity_MPT/OGD_0_5h_slice_2_cortex_vid_5_0_3.tif\n",
      "Done with splitting. Should output file of name 03_06_20_OGD_Severity_MPT/OGD_0_5h_slice_2_cortex_vid_5_1_0.tif\n",
      "Done with splitting. Should output file of name 03_06_20_OGD_Severity_MPT/OGD_0_5h_slice_2_cortex_vid_5_1_1.tif\n",
      "Done with splitting. Should output file of name 03_06_20_OGD_Severity_MPT/OGD_0_5h_slice_2_cortex_vid_5_1_2.tif\n",
      "Done with splitting. Should output file of name 03_06_20_OGD_Severity_MPT/OGD_0_5h_slice_2_cortex_vid_5_1_3.tif\n",
      "Done with splitting. Should output file of name 03_06_20_OGD_Severity_MPT/OGD_0_5h_slice_2_cortex_vid_5_2_0.tif\n",
      "Done with splitting. Should output file of name 03_06_20_OGD_Severity_MPT/OGD_0_5h_slice_2_cortex_vid_5_2_1.tif\n",
      "Done with splitting. Should output file of name 03_06_20_OGD_Severity_MPT/OGD_0_5h_slice_2_cortex_vid_5_2_2.tif\n",
      "Done with splitting. Should output file of name 03_06_20_OGD_Severity_MPT/OGD_0_5h_slice_2_cortex_vid_5_2_3.tif\n",
      "Done with splitting. Should output file of name 03_06_20_OGD_Severity_MPT/OGD_0_5h_slice_2_cortex_vid_5_3_0.tif\n",
      "Done with splitting. Should output file of name 03_06_20_OGD_Severity_MPT/OGD_0_5h_slice_2_cortex_vid_5_3_1.tif\n",
      "Done with splitting. Should output file of name 03_06_20_OGD_Severity_MPT/OGD_0_5h_slice_2_cortex_vid_5_3_2.tif\n",
      "Done with splitting. Should output file of name 03_06_20_OGD_Severity_MPT/OGD_0_5h_slice_2_cortex_vid_5_3_3.tif\n"
     ]
    },
    {
     "name": "stderr",
     "output_type": "stream",
     "text": [
      "/home/ubuntu/miniconda3/lib/python3.6/site-packages/skimage/io/_io.py:132: UserWarning: /home/ubuntu/source/mike_fork/diff_classifier/notebooks/development/OGD_0_5h_slice_2_striatum_vid_1_0_0.tif is a low contrast image\n",
      "  warn('%s is a low contrast image' % fname)\n",
      "/home/ubuntu/miniconda3/lib/python3.6/site-packages/skimage/io/_io.py:132: UserWarning: /home/ubuntu/source/mike_fork/diff_classifier/notebooks/development/OGD_0_5h_slice_2_striatum_vid_1_0_1.tif is a low contrast image\n",
      "  warn('%s is a low contrast image' % fname)\n",
      "/home/ubuntu/miniconda3/lib/python3.6/site-packages/skimage/io/_io.py:132: UserWarning: /home/ubuntu/source/mike_fork/diff_classifier/notebooks/development/OGD_0_5h_slice_2_striatum_vid_1_0_2.tif is a low contrast image\n",
      "  warn('%s is a low contrast image' % fname)\n",
      "/home/ubuntu/miniconda3/lib/python3.6/site-packages/skimage/io/_io.py:132: UserWarning: /home/ubuntu/source/mike_fork/diff_classifier/notebooks/development/OGD_0_5h_slice_2_striatum_vid_1_0_3.tif is a low contrast image\n",
      "  warn('%s is a low contrast image' % fname)\n",
      "/home/ubuntu/miniconda3/lib/python3.6/site-packages/skimage/io/_io.py:132: UserWarning: /home/ubuntu/source/mike_fork/diff_classifier/notebooks/development/OGD_0_5h_slice_2_striatum_vid_1_1_0.tif is a low contrast image\n",
      "  warn('%s is a low contrast image' % fname)\n",
      "/home/ubuntu/miniconda3/lib/python3.6/site-packages/skimage/io/_io.py:132: UserWarning: /home/ubuntu/source/mike_fork/diff_classifier/notebooks/development/OGD_0_5h_slice_2_striatum_vid_1_1_1.tif is a low contrast image\n",
      "  warn('%s is a low contrast image' % fname)\n",
      "/home/ubuntu/miniconda3/lib/python3.6/site-packages/skimage/io/_io.py:132: UserWarning: /home/ubuntu/source/mike_fork/diff_classifier/notebooks/development/OGD_0_5h_slice_2_striatum_vid_1_1_2.tif is a low contrast image\n",
      "  warn('%s is a low contrast image' % fname)\n",
      "/home/ubuntu/miniconda3/lib/python3.6/site-packages/skimage/io/_io.py:132: UserWarning: /home/ubuntu/source/mike_fork/diff_classifier/notebooks/development/OGD_0_5h_slice_2_striatum_vid_1_1_3.tif is a low contrast image\n",
      "  warn('%s is a low contrast image' % fname)\n",
      "/home/ubuntu/miniconda3/lib/python3.6/site-packages/skimage/io/_io.py:132: UserWarning: /home/ubuntu/source/mike_fork/diff_classifier/notebooks/development/OGD_0_5h_slice_2_striatum_vid_1_2_0.tif is a low contrast image\n",
      "  warn('%s is a low contrast image' % fname)\n",
      "/home/ubuntu/miniconda3/lib/python3.6/site-packages/skimage/io/_io.py:132: UserWarning: /home/ubuntu/source/mike_fork/diff_classifier/notebooks/development/OGD_0_5h_slice_2_striatum_vid_1_2_1.tif is a low contrast image\n",
      "  warn('%s is a low contrast image' % fname)\n",
      "/home/ubuntu/miniconda3/lib/python3.6/site-packages/skimage/io/_io.py:132: UserWarning: /home/ubuntu/source/mike_fork/diff_classifier/notebooks/development/OGD_0_5h_slice_2_striatum_vid_1_2_2.tif is a low contrast image\n",
      "  warn('%s is a low contrast image' % fname)\n",
      "/home/ubuntu/miniconda3/lib/python3.6/site-packages/skimage/io/_io.py:132: UserWarning: /home/ubuntu/source/mike_fork/diff_classifier/notebooks/development/OGD_0_5h_slice_2_striatum_vid_1_2_3.tif is a low contrast image\n",
      "  warn('%s is a low contrast image' % fname)\n",
      "/home/ubuntu/miniconda3/lib/python3.6/site-packages/skimage/io/_io.py:132: UserWarning: /home/ubuntu/source/mike_fork/diff_classifier/notebooks/development/OGD_0_5h_slice_2_striatum_vid_1_3_0.tif is a low contrast image\n",
      "  warn('%s is a low contrast image' % fname)\n",
      "/home/ubuntu/miniconda3/lib/python3.6/site-packages/skimage/io/_io.py:132: UserWarning: /home/ubuntu/source/mike_fork/diff_classifier/notebooks/development/OGD_0_5h_slice_2_striatum_vid_1_3_1.tif is a low contrast image\n",
      "  warn('%s is a low contrast image' % fname)\n",
      "/home/ubuntu/miniconda3/lib/python3.6/site-packages/skimage/io/_io.py:132: UserWarning: /home/ubuntu/source/mike_fork/diff_classifier/notebooks/development/OGD_0_5h_slice_2_striatum_vid_1_3_2.tif is a low contrast image\n",
      "  warn('%s is a low contrast image' % fname)\n",
      "/home/ubuntu/miniconda3/lib/python3.6/site-packages/skimage/io/_io.py:132: UserWarning: /home/ubuntu/source/mike_fork/diff_classifier/notebooks/development/OGD_0_5h_slice_2_striatum_vid_1_3_3.tif is a low contrast image\n",
      "  warn('%s is a low contrast image' % fname)\n"
     ]
    },
    {
     "name": "stdout",
     "output_type": "stream",
     "text": [
      "Done with splitting. Should output file of name 03_06_20_OGD_Severity_MPT/OGD_0_5h_slice_2_striatum_vid_1_0_0.tif\n",
      "Done with splitting. Should output file of name 03_06_20_OGD_Severity_MPT/OGD_0_5h_slice_2_striatum_vid_1_0_1.tif\n",
      "Done with splitting. Should output file of name 03_06_20_OGD_Severity_MPT/OGD_0_5h_slice_2_striatum_vid_1_0_2.tif\n",
      "Done with splitting. Should output file of name 03_06_20_OGD_Severity_MPT/OGD_0_5h_slice_2_striatum_vid_1_0_3.tif\n",
      "Done with splitting. Should output file of name 03_06_20_OGD_Severity_MPT/OGD_0_5h_slice_2_striatum_vid_1_1_0.tif\n",
      "Done with splitting. Should output file of name 03_06_20_OGD_Severity_MPT/OGD_0_5h_slice_2_striatum_vid_1_1_1.tif\n",
      "Done with splitting. Should output file of name 03_06_20_OGD_Severity_MPT/OGD_0_5h_slice_2_striatum_vid_1_1_2.tif\n",
      "Done with splitting. Should output file of name 03_06_20_OGD_Severity_MPT/OGD_0_5h_slice_2_striatum_vid_1_1_3.tif\n",
      "Done with splitting. Should output file of name 03_06_20_OGD_Severity_MPT/OGD_0_5h_slice_2_striatum_vid_1_2_0.tif\n",
      "Done with splitting. Should output file of name 03_06_20_OGD_Severity_MPT/OGD_0_5h_slice_2_striatum_vid_1_2_1.tif\n",
      "Done with splitting. Should output file of name 03_06_20_OGD_Severity_MPT/OGD_0_5h_slice_2_striatum_vid_1_2_2.tif\n",
      "Done with splitting. Should output file of name 03_06_20_OGD_Severity_MPT/OGD_0_5h_slice_2_striatum_vid_1_2_3.tif\n",
      "Done with splitting. Should output file of name 03_06_20_OGD_Severity_MPT/OGD_0_5h_slice_2_striatum_vid_1_3_0.tif\n",
      "Done with splitting. Should output file of name 03_06_20_OGD_Severity_MPT/OGD_0_5h_slice_2_striatum_vid_1_3_1.tif\n",
      "Done with splitting. Should output file of name 03_06_20_OGD_Severity_MPT/OGD_0_5h_slice_2_striatum_vid_1_3_2.tif\n",
      "Done with splitting. Should output file of name 03_06_20_OGD_Severity_MPT/OGD_0_5h_slice_2_striatum_vid_1_3_3.tif\n"
     ]
    },
    {
     "name": "stderr",
     "output_type": "stream",
     "text": [
      "/home/ubuntu/miniconda3/lib/python3.6/site-packages/skimage/io/_io.py:132: UserWarning: /home/ubuntu/source/mike_fork/diff_classifier/notebooks/development/OGD_0_5h_slice_2_striatum_vid_2_0_0.tif is a low contrast image\n",
      "  warn('%s is a low contrast image' % fname)\n",
      "/home/ubuntu/miniconda3/lib/python3.6/site-packages/skimage/io/_io.py:132: UserWarning: /home/ubuntu/source/mike_fork/diff_classifier/notebooks/development/OGD_0_5h_slice_2_striatum_vid_2_0_1.tif is a low contrast image\n",
      "  warn('%s is a low contrast image' % fname)\n",
      "/home/ubuntu/miniconda3/lib/python3.6/site-packages/skimage/io/_io.py:132: UserWarning: /home/ubuntu/source/mike_fork/diff_classifier/notebooks/development/OGD_0_5h_slice_2_striatum_vid_2_0_2.tif is a low contrast image\n",
      "  warn('%s is a low contrast image' % fname)\n",
      "/home/ubuntu/miniconda3/lib/python3.6/site-packages/skimage/io/_io.py:132: UserWarning: /home/ubuntu/source/mike_fork/diff_classifier/notebooks/development/OGD_0_5h_slice_2_striatum_vid_2_0_3.tif is a low contrast image\n",
      "  warn('%s is a low contrast image' % fname)\n",
      "/home/ubuntu/miniconda3/lib/python3.6/site-packages/skimage/io/_io.py:132: UserWarning: /home/ubuntu/source/mike_fork/diff_classifier/notebooks/development/OGD_0_5h_slice_2_striatum_vid_2_1_0.tif is a low contrast image\n",
      "  warn('%s is a low contrast image' % fname)\n",
      "/home/ubuntu/miniconda3/lib/python3.6/site-packages/skimage/io/_io.py:132: UserWarning: /home/ubuntu/source/mike_fork/diff_classifier/notebooks/development/OGD_0_5h_slice_2_striatum_vid_2_1_1.tif is a low contrast image\n",
      "  warn('%s is a low contrast image' % fname)\n",
      "/home/ubuntu/miniconda3/lib/python3.6/site-packages/skimage/io/_io.py:132: UserWarning: /home/ubuntu/source/mike_fork/diff_classifier/notebooks/development/OGD_0_5h_slice_2_striatum_vid_2_1_2.tif is a low contrast image\n",
      "  warn('%s is a low contrast image' % fname)\n",
      "/home/ubuntu/miniconda3/lib/python3.6/site-packages/skimage/io/_io.py:132: UserWarning: /home/ubuntu/source/mike_fork/diff_classifier/notebooks/development/OGD_0_5h_slice_2_striatum_vid_2_1_3.tif is a low contrast image\n",
      "  warn('%s is a low contrast image' % fname)\n",
      "/home/ubuntu/miniconda3/lib/python3.6/site-packages/skimage/io/_io.py:132: UserWarning: /home/ubuntu/source/mike_fork/diff_classifier/notebooks/development/OGD_0_5h_slice_2_striatum_vid_2_2_0.tif is a low contrast image\n",
      "  warn('%s is a low contrast image' % fname)\n",
      "/home/ubuntu/miniconda3/lib/python3.6/site-packages/skimage/io/_io.py:132: UserWarning: /home/ubuntu/source/mike_fork/diff_classifier/notebooks/development/OGD_0_5h_slice_2_striatum_vid_2_2_1.tif is a low contrast image\n",
      "  warn('%s is a low contrast image' % fname)\n",
      "/home/ubuntu/miniconda3/lib/python3.6/site-packages/skimage/io/_io.py:132: UserWarning: /home/ubuntu/source/mike_fork/diff_classifier/notebooks/development/OGD_0_5h_slice_2_striatum_vid_2_2_2.tif is a low contrast image\n",
      "  warn('%s is a low contrast image' % fname)\n",
      "/home/ubuntu/miniconda3/lib/python3.6/site-packages/skimage/io/_io.py:132: UserWarning: /home/ubuntu/source/mike_fork/diff_classifier/notebooks/development/OGD_0_5h_slice_2_striatum_vid_2_2_3.tif is a low contrast image\n",
      "  warn('%s is a low contrast image' % fname)\n",
      "/home/ubuntu/miniconda3/lib/python3.6/site-packages/skimage/io/_io.py:132: UserWarning: /home/ubuntu/source/mike_fork/diff_classifier/notebooks/development/OGD_0_5h_slice_2_striatum_vid_2_3_0.tif is a low contrast image\n",
      "  warn('%s is a low contrast image' % fname)\n",
      "/home/ubuntu/miniconda3/lib/python3.6/site-packages/skimage/io/_io.py:132: UserWarning: /home/ubuntu/source/mike_fork/diff_classifier/notebooks/development/OGD_0_5h_slice_2_striatum_vid_2_3_1.tif is a low contrast image\n",
      "  warn('%s is a low contrast image' % fname)\n",
      "/home/ubuntu/miniconda3/lib/python3.6/site-packages/skimage/io/_io.py:132: UserWarning: /home/ubuntu/source/mike_fork/diff_classifier/notebooks/development/OGD_0_5h_slice_2_striatum_vid_2_3_2.tif is a low contrast image\n",
      "  warn('%s is a low contrast image' % fname)\n",
      "/home/ubuntu/miniconda3/lib/python3.6/site-packages/skimage/io/_io.py:132: UserWarning: /home/ubuntu/source/mike_fork/diff_classifier/notebooks/development/OGD_0_5h_slice_2_striatum_vid_2_3_3.tif is a low contrast image\n",
      "  warn('%s is a low contrast image' % fname)\n"
     ]
    },
    {
     "name": "stdout",
     "output_type": "stream",
     "text": [
      "Done with splitting. Should output file of name 03_06_20_OGD_Severity_MPT/OGD_0_5h_slice_2_striatum_vid_2_0_0.tif\n",
      "Done with splitting. Should output file of name 03_06_20_OGD_Severity_MPT/OGD_0_5h_slice_2_striatum_vid_2_0_1.tif\n",
      "Done with splitting. Should output file of name 03_06_20_OGD_Severity_MPT/OGD_0_5h_slice_2_striatum_vid_2_0_2.tif\n",
      "Done with splitting. Should output file of name 03_06_20_OGD_Severity_MPT/OGD_0_5h_slice_2_striatum_vid_2_0_3.tif\n",
      "Done with splitting. Should output file of name 03_06_20_OGD_Severity_MPT/OGD_0_5h_slice_2_striatum_vid_2_1_0.tif\n",
      "Done with splitting. Should output file of name 03_06_20_OGD_Severity_MPT/OGD_0_5h_slice_2_striatum_vid_2_1_1.tif\n",
      "Done with splitting. Should output file of name 03_06_20_OGD_Severity_MPT/OGD_0_5h_slice_2_striatum_vid_2_1_2.tif\n",
      "Done with splitting. Should output file of name 03_06_20_OGD_Severity_MPT/OGD_0_5h_slice_2_striatum_vid_2_1_3.tif\n",
      "Done with splitting. Should output file of name 03_06_20_OGD_Severity_MPT/OGD_0_5h_slice_2_striatum_vid_2_2_0.tif\n",
      "Done with splitting. Should output file of name 03_06_20_OGD_Severity_MPT/OGD_0_5h_slice_2_striatum_vid_2_2_1.tif\n",
      "Done with splitting. Should output file of name 03_06_20_OGD_Severity_MPT/OGD_0_5h_slice_2_striatum_vid_2_2_2.tif\n",
      "Done with splitting. Should output file of name 03_06_20_OGD_Severity_MPT/OGD_0_5h_slice_2_striatum_vid_2_2_3.tif\n",
      "Done with splitting. Should output file of name 03_06_20_OGD_Severity_MPT/OGD_0_5h_slice_2_striatum_vid_2_3_0.tif\n",
      "Done with splitting. Should output file of name 03_06_20_OGD_Severity_MPT/OGD_0_5h_slice_2_striatum_vid_2_3_1.tif\n",
      "Done with splitting. Should output file of name 03_06_20_OGD_Severity_MPT/OGD_0_5h_slice_2_striatum_vid_2_3_2.tif\n",
      "Done with splitting. Should output file of name 03_06_20_OGD_Severity_MPT/OGD_0_5h_slice_2_striatum_vid_2_3_3.tif\n"
     ]
    },
    {
     "name": "stderr",
     "output_type": "stream",
     "text": [
      "/home/ubuntu/miniconda3/lib/python3.6/site-packages/skimage/io/_io.py:132: UserWarning: /home/ubuntu/source/mike_fork/diff_classifier/notebooks/development/OGD_0_5h_slice_2_striatum_vid_3_0_0.tif is a low contrast image\n",
      "  warn('%s is a low contrast image' % fname)\n",
      "/home/ubuntu/miniconda3/lib/python3.6/site-packages/skimage/io/_io.py:132: UserWarning: /home/ubuntu/source/mike_fork/diff_classifier/notebooks/development/OGD_0_5h_slice_2_striatum_vid_3_0_1.tif is a low contrast image\n",
      "  warn('%s is a low contrast image' % fname)\n",
      "/home/ubuntu/miniconda3/lib/python3.6/site-packages/skimage/io/_io.py:132: UserWarning: /home/ubuntu/source/mike_fork/diff_classifier/notebooks/development/OGD_0_5h_slice_2_striatum_vid_3_0_2.tif is a low contrast image\n",
      "  warn('%s is a low contrast image' % fname)\n",
      "/home/ubuntu/miniconda3/lib/python3.6/site-packages/skimage/io/_io.py:132: UserWarning: /home/ubuntu/source/mike_fork/diff_classifier/notebooks/development/OGD_0_5h_slice_2_striatum_vid_3_0_3.tif is a low contrast image\n",
      "  warn('%s is a low contrast image' % fname)\n",
      "/home/ubuntu/miniconda3/lib/python3.6/site-packages/skimage/io/_io.py:132: UserWarning: /home/ubuntu/source/mike_fork/diff_classifier/notebooks/development/OGD_0_5h_slice_2_striatum_vid_3_1_0.tif is a low contrast image\n",
      "  warn('%s is a low contrast image' % fname)\n",
      "/home/ubuntu/miniconda3/lib/python3.6/site-packages/skimage/io/_io.py:132: UserWarning: /home/ubuntu/source/mike_fork/diff_classifier/notebooks/development/OGD_0_5h_slice_2_striatum_vid_3_1_1.tif is a low contrast image\n",
      "  warn('%s is a low contrast image' % fname)\n",
      "/home/ubuntu/miniconda3/lib/python3.6/site-packages/skimage/io/_io.py:132: UserWarning: /home/ubuntu/source/mike_fork/diff_classifier/notebooks/development/OGD_0_5h_slice_2_striatum_vid_3_1_2.tif is a low contrast image\n",
      "  warn('%s is a low contrast image' % fname)\n",
      "/home/ubuntu/miniconda3/lib/python3.6/site-packages/skimage/io/_io.py:132: UserWarning: /home/ubuntu/source/mike_fork/diff_classifier/notebooks/development/OGD_0_5h_slice_2_striatum_vid_3_1_3.tif is a low contrast image\n",
      "  warn('%s is a low contrast image' % fname)\n",
      "/home/ubuntu/miniconda3/lib/python3.6/site-packages/skimage/io/_io.py:132: UserWarning: /home/ubuntu/source/mike_fork/diff_classifier/notebooks/development/OGD_0_5h_slice_2_striatum_vid_3_2_0.tif is a low contrast image\n",
      "  warn('%s is a low contrast image' % fname)\n",
      "/home/ubuntu/miniconda3/lib/python3.6/site-packages/skimage/io/_io.py:132: UserWarning: /home/ubuntu/source/mike_fork/diff_classifier/notebooks/development/OGD_0_5h_slice_2_striatum_vid_3_2_1.tif is a low contrast image\n",
      "  warn('%s is a low contrast image' % fname)\n",
      "/home/ubuntu/miniconda3/lib/python3.6/site-packages/skimage/io/_io.py:132: UserWarning: /home/ubuntu/source/mike_fork/diff_classifier/notebooks/development/OGD_0_5h_slice_2_striatum_vid_3_2_2.tif is a low contrast image\n",
      "  warn('%s is a low contrast image' % fname)\n",
      "/home/ubuntu/miniconda3/lib/python3.6/site-packages/skimage/io/_io.py:132: UserWarning: /home/ubuntu/source/mike_fork/diff_classifier/notebooks/development/OGD_0_5h_slice_2_striatum_vid_3_2_3.tif is a low contrast image\n",
      "  warn('%s is a low contrast image' % fname)\n",
      "/home/ubuntu/miniconda3/lib/python3.6/site-packages/skimage/io/_io.py:132: UserWarning: /home/ubuntu/source/mike_fork/diff_classifier/notebooks/development/OGD_0_5h_slice_2_striatum_vid_3_3_0.tif is a low contrast image\n",
      "  warn('%s is a low contrast image' % fname)\n",
      "/home/ubuntu/miniconda3/lib/python3.6/site-packages/skimage/io/_io.py:132: UserWarning: /home/ubuntu/source/mike_fork/diff_classifier/notebooks/development/OGD_0_5h_slice_2_striatum_vid_3_3_1.tif is a low contrast image\n",
      "  warn('%s is a low contrast image' % fname)\n",
      "/home/ubuntu/miniconda3/lib/python3.6/site-packages/skimage/io/_io.py:132: UserWarning: /home/ubuntu/source/mike_fork/diff_classifier/notebooks/development/OGD_0_5h_slice_2_striatum_vid_3_3_2.tif is a low contrast image\n",
      "  warn('%s is a low contrast image' % fname)\n",
      "/home/ubuntu/miniconda3/lib/python3.6/site-packages/skimage/io/_io.py:132: UserWarning: /home/ubuntu/source/mike_fork/diff_classifier/notebooks/development/OGD_0_5h_slice_2_striatum_vid_3_3_3.tif is a low contrast image\n",
      "  warn('%s is a low contrast image' % fname)\n"
     ]
    },
    {
     "name": "stdout",
     "output_type": "stream",
     "text": [
      "Done with splitting. Should output file of name 03_06_20_OGD_Severity_MPT/OGD_0_5h_slice_2_striatum_vid_3_0_0.tif\n",
      "Done with splitting. Should output file of name 03_06_20_OGD_Severity_MPT/OGD_0_5h_slice_2_striatum_vid_3_0_1.tif\n",
      "Done with splitting. Should output file of name 03_06_20_OGD_Severity_MPT/OGD_0_5h_slice_2_striatum_vid_3_0_2.tif\n",
      "Done with splitting. Should output file of name 03_06_20_OGD_Severity_MPT/OGD_0_5h_slice_2_striatum_vid_3_0_3.tif\n",
      "Done with splitting. Should output file of name 03_06_20_OGD_Severity_MPT/OGD_0_5h_slice_2_striatum_vid_3_1_0.tif\n",
      "Done with splitting. Should output file of name 03_06_20_OGD_Severity_MPT/OGD_0_5h_slice_2_striatum_vid_3_1_1.tif\n",
      "Done with splitting. Should output file of name 03_06_20_OGD_Severity_MPT/OGD_0_5h_slice_2_striatum_vid_3_1_2.tif\n",
      "Done with splitting. Should output file of name 03_06_20_OGD_Severity_MPT/OGD_0_5h_slice_2_striatum_vid_3_1_3.tif\n",
      "Done with splitting. Should output file of name 03_06_20_OGD_Severity_MPT/OGD_0_5h_slice_2_striatum_vid_3_2_0.tif\n",
      "Done with splitting. Should output file of name 03_06_20_OGD_Severity_MPT/OGD_0_5h_slice_2_striatum_vid_3_2_1.tif\n",
      "Done with splitting. Should output file of name 03_06_20_OGD_Severity_MPT/OGD_0_5h_slice_2_striatum_vid_3_2_2.tif\n",
      "Done with splitting. Should output file of name 03_06_20_OGD_Severity_MPT/OGD_0_5h_slice_2_striatum_vid_3_2_3.tif\n",
      "Done with splitting. Should output file of name 03_06_20_OGD_Severity_MPT/OGD_0_5h_slice_2_striatum_vid_3_3_0.tif\n",
      "Done with splitting. Should output file of name 03_06_20_OGD_Severity_MPT/OGD_0_5h_slice_2_striatum_vid_3_3_1.tif\n",
      "Done with splitting. Should output file of name 03_06_20_OGD_Severity_MPT/OGD_0_5h_slice_2_striatum_vid_3_3_2.tif\n",
      "Done with splitting. Should output file of name 03_06_20_OGD_Severity_MPT/OGD_0_5h_slice_2_striatum_vid_3_3_3.tif\n"
     ]
    },
    {
     "name": "stderr",
     "output_type": "stream",
     "text": [
      "/home/ubuntu/miniconda3/lib/python3.6/site-packages/skimage/io/_io.py:132: UserWarning: /home/ubuntu/source/mike_fork/diff_classifier/notebooks/development/OGD_0_5h_slice_2_striatum_vid_4_0_0.tif is a low contrast image\n",
      "  warn('%s is a low contrast image' % fname)\n",
      "/home/ubuntu/miniconda3/lib/python3.6/site-packages/skimage/io/_io.py:132: UserWarning: /home/ubuntu/source/mike_fork/diff_classifier/notebooks/development/OGD_0_5h_slice_2_striatum_vid_4_0_1.tif is a low contrast image\n",
      "  warn('%s is a low contrast image' % fname)\n",
      "/home/ubuntu/miniconda3/lib/python3.6/site-packages/skimage/io/_io.py:132: UserWarning: /home/ubuntu/source/mike_fork/diff_classifier/notebooks/development/OGD_0_5h_slice_2_striatum_vid_4_0_2.tif is a low contrast image\n",
      "  warn('%s is a low contrast image' % fname)\n",
      "/home/ubuntu/miniconda3/lib/python3.6/site-packages/skimage/io/_io.py:132: UserWarning: /home/ubuntu/source/mike_fork/diff_classifier/notebooks/development/OGD_0_5h_slice_2_striatum_vid_4_0_3.tif is a low contrast image\n",
      "  warn('%s is a low contrast image' % fname)\n",
      "/home/ubuntu/miniconda3/lib/python3.6/site-packages/skimage/io/_io.py:132: UserWarning: /home/ubuntu/source/mike_fork/diff_classifier/notebooks/development/OGD_0_5h_slice_2_striatum_vid_4_1_0.tif is a low contrast image\n",
      "  warn('%s is a low contrast image' % fname)\n",
      "/home/ubuntu/miniconda3/lib/python3.6/site-packages/skimage/io/_io.py:132: UserWarning: /home/ubuntu/source/mike_fork/diff_classifier/notebooks/development/OGD_0_5h_slice_2_striatum_vid_4_1_1.tif is a low contrast image\n",
      "  warn('%s is a low contrast image' % fname)\n",
      "/home/ubuntu/miniconda3/lib/python3.6/site-packages/skimage/io/_io.py:132: UserWarning: /home/ubuntu/source/mike_fork/diff_classifier/notebooks/development/OGD_0_5h_slice_2_striatum_vid_4_1_2.tif is a low contrast image\n",
      "  warn('%s is a low contrast image' % fname)\n",
      "/home/ubuntu/miniconda3/lib/python3.6/site-packages/skimage/io/_io.py:132: UserWarning: /home/ubuntu/source/mike_fork/diff_classifier/notebooks/development/OGD_0_5h_slice_2_striatum_vid_4_1_3.tif is a low contrast image\n",
      "  warn('%s is a low contrast image' % fname)\n",
      "/home/ubuntu/miniconda3/lib/python3.6/site-packages/skimage/io/_io.py:132: UserWarning: /home/ubuntu/source/mike_fork/diff_classifier/notebooks/development/OGD_0_5h_slice_2_striatum_vid_4_2_0.tif is a low contrast image\n",
      "  warn('%s is a low contrast image' % fname)\n",
      "/home/ubuntu/miniconda3/lib/python3.6/site-packages/skimage/io/_io.py:132: UserWarning: /home/ubuntu/source/mike_fork/diff_classifier/notebooks/development/OGD_0_5h_slice_2_striatum_vid_4_2_1.tif is a low contrast image\n",
      "  warn('%s is a low contrast image' % fname)\n",
      "/home/ubuntu/miniconda3/lib/python3.6/site-packages/skimage/io/_io.py:132: UserWarning: /home/ubuntu/source/mike_fork/diff_classifier/notebooks/development/OGD_0_5h_slice_2_striatum_vid_4_2_2.tif is a low contrast image\n",
      "  warn('%s is a low contrast image' % fname)\n",
      "/home/ubuntu/miniconda3/lib/python3.6/site-packages/skimage/io/_io.py:132: UserWarning: /home/ubuntu/source/mike_fork/diff_classifier/notebooks/development/OGD_0_5h_slice_2_striatum_vid_4_2_3.tif is a low contrast image\n",
      "  warn('%s is a low contrast image' % fname)\n",
      "/home/ubuntu/miniconda3/lib/python3.6/site-packages/skimage/io/_io.py:132: UserWarning: /home/ubuntu/source/mike_fork/diff_classifier/notebooks/development/OGD_0_5h_slice_2_striatum_vid_4_3_0.tif is a low contrast image\n",
      "  warn('%s is a low contrast image' % fname)\n",
      "/home/ubuntu/miniconda3/lib/python3.6/site-packages/skimage/io/_io.py:132: UserWarning: /home/ubuntu/source/mike_fork/diff_classifier/notebooks/development/OGD_0_5h_slice_2_striatum_vid_4_3_1.tif is a low contrast image\n",
      "  warn('%s is a low contrast image' % fname)\n",
      "/home/ubuntu/miniconda3/lib/python3.6/site-packages/skimage/io/_io.py:132: UserWarning: /home/ubuntu/source/mike_fork/diff_classifier/notebooks/development/OGD_0_5h_slice_2_striatum_vid_4_3_2.tif is a low contrast image\n",
      "  warn('%s is a low contrast image' % fname)\n",
      "/home/ubuntu/miniconda3/lib/python3.6/site-packages/skimage/io/_io.py:132: UserWarning: /home/ubuntu/source/mike_fork/diff_classifier/notebooks/development/OGD_0_5h_slice_2_striatum_vid_4_3_3.tif is a low contrast image\n",
      "  warn('%s is a low contrast image' % fname)\n"
     ]
    },
    {
     "name": "stdout",
     "output_type": "stream",
     "text": [
      "Done with splitting. Should output file of name 03_06_20_OGD_Severity_MPT/OGD_0_5h_slice_2_striatum_vid_4_0_0.tif\n",
      "Done with splitting. Should output file of name 03_06_20_OGD_Severity_MPT/OGD_0_5h_slice_2_striatum_vid_4_0_1.tif\n",
      "Done with splitting. Should output file of name 03_06_20_OGD_Severity_MPT/OGD_0_5h_slice_2_striatum_vid_4_0_2.tif\n",
      "Done with splitting. Should output file of name 03_06_20_OGD_Severity_MPT/OGD_0_5h_slice_2_striatum_vid_4_0_3.tif\n",
      "Done with splitting. Should output file of name 03_06_20_OGD_Severity_MPT/OGD_0_5h_slice_2_striatum_vid_4_1_0.tif\n",
      "Done with splitting. Should output file of name 03_06_20_OGD_Severity_MPT/OGD_0_5h_slice_2_striatum_vid_4_1_1.tif\n",
      "Done with splitting. Should output file of name 03_06_20_OGD_Severity_MPT/OGD_0_5h_slice_2_striatum_vid_4_1_2.tif\n",
      "Done with splitting. Should output file of name 03_06_20_OGD_Severity_MPT/OGD_0_5h_slice_2_striatum_vid_4_1_3.tif\n",
      "Done with splitting. Should output file of name 03_06_20_OGD_Severity_MPT/OGD_0_5h_slice_2_striatum_vid_4_2_0.tif\n",
      "Done with splitting. Should output file of name 03_06_20_OGD_Severity_MPT/OGD_0_5h_slice_2_striatum_vid_4_2_1.tif\n",
      "Done with splitting. Should output file of name 03_06_20_OGD_Severity_MPT/OGD_0_5h_slice_2_striatum_vid_4_2_2.tif\n",
      "Done with splitting. Should output file of name 03_06_20_OGD_Severity_MPT/OGD_0_5h_slice_2_striatum_vid_4_2_3.tif\n",
      "Done with splitting. Should output file of name 03_06_20_OGD_Severity_MPT/OGD_0_5h_slice_2_striatum_vid_4_3_0.tif\n",
      "Done with splitting. Should output file of name 03_06_20_OGD_Severity_MPT/OGD_0_5h_slice_2_striatum_vid_4_3_1.tif\n",
      "Done with splitting. Should output file of name 03_06_20_OGD_Severity_MPT/OGD_0_5h_slice_2_striatum_vid_4_3_2.tif\n",
      "Done with splitting. Should output file of name 03_06_20_OGD_Severity_MPT/OGD_0_5h_slice_2_striatum_vid_4_3_3.tif\n"
     ]
    },
    {
     "name": "stderr",
     "output_type": "stream",
     "text": [
      "/home/ubuntu/miniconda3/lib/python3.6/site-packages/skimage/io/_io.py:132: UserWarning: /home/ubuntu/source/mike_fork/diff_classifier/notebooks/development/OGD_0_5h_slice_2_striatum_vid_5_0_0.tif is a low contrast image\n",
      "  warn('%s is a low contrast image' % fname)\n",
      "/home/ubuntu/miniconda3/lib/python3.6/site-packages/skimage/io/_io.py:132: UserWarning: /home/ubuntu/source/mike_fork/diff_classifier/notebooks/development/OGD_0_5h_slice_2_striatum_vid_5_0_1.tif is a low contrast image\n",
      "  warn('%s is a low contrast image' % fname)\n",
      "/home/ubuntu/miniconda3/lib/python3.6/site-packages/skimage/io/_io.py:132: UserWarning: /home/ubuntu/source/mike_fork/diff_classifier/notebooks/development/OGD_0_5h_slice_2_striatum_vid_5_0_2.tif is a low contrast image\n",
      "  warn('%s is a low contrast image' % fname)\n",
      "/home/ubuntu/miniconda3/lib/python3.6/site-packages/skimage/io/_io.py:132: UserWarning: /home/ubuntu/source/mike_fork/diff_classifier/notebooks/development/OGD_0_5h_slice_2_striatum_vid_5_0_3.tif is a low contrast image\n",
      "  warn('%s is a low contrast image' % fname)\n",
      "/home/ubuntu/miniconda3/lib/python3.6/site-packages/skimage/io/_io.py:132: UserWarning: /home/ubuntu/source/mike_fork/diff_classifier/notebooks/development/OGD_0_5h_slice_2_striatum_vid_5_1_0.tif is a low contrast image\n",
      "  warn('%s is a low contrast image' % fname)\n",
      "/home/ubuntu/miniconda3/lib/python3.6/site-packages/skimage/io/_io.py:132: UserWarning: /home/ubuntu/source/mike_fork/diff_classifier/notebooks/development/OGD_0_5h_slice_2_striatum_vid_5_1_1.tif is a low contrast image\n",
      "  warn('%s is a low contrast image' % fname)\n",
      "/home/ubuntu/miniconda3/lib/python3.6/site-packages/skimage/io/_io.py:132: UserWarning: /home/ubuntu/source/mike_fork/diff_classifier/notebooks/development/OGD_0_5h_slice_2_striatum_vid_5_1_2.tif is a low contrast image\n",
      "  warn('%s is a low contrast image' % fname)\n",
      "/home/ubuntu/miniconda3/lib/python3.6/site-packages/skimage/io/_io.py:132: UserWarning: /home/ubuntu/source/mike_fork/diff_classifier/notebooks/development/OGD_0_5h_slice_2_striatum_vid_5_1_3.tif is a low contrast image\n",
      "  warn('%s is a low contrast image' % fname)\n",
      "/home/ubuntu/miniconda3/lib/python3.6/site-packages/skimage/io/_io.py:132: UserWarning: /home/ubuntu/source/mike_fork/diff_classifier/notebooks/development/OGD_0_5h_slice_2_striatum_vid_5_2_0.tif is a low contrast image\n",
      "  warn('%s is a low contrast image' % fname)\n",
      "/home/ubuntu/miniconda3/lib/python3.6/site-packages/skimage/io/_io.py:132: UserWarning: /home/ubuntu/source/mike_fork/diff_classifier/notebooks/development/OGD_0_5h_slice_2_striatum_vid_5_2_1.tif is a low contrast image\n",
      "  warn('%s is a low contrast image' % fname)\n",
      "/home/ubuntu/miniconda3/lib/python3.6/site-packages/skimage/io/_io.py:132: UserWarning: /home/ubuntu/source/mike_fork/diff_classifier/notebooks/development/OGD_0_5h_slice_2_striatum_vid_5_2_2.tif is a low contrast image\n",
      "  warn('%s is a low contrast image' % fname)\n",
      "/home/ubuntu/miniconda3/lib/python3.6/site-packages/skimage/io/_io.py:132: UserWarning: /home/ubuntu/source/mike_fork/diff_classifier/notebooks/development/OGD_0_5h_slice_2_striatum_vid_5_2_3.tif is a low contrast image\n",
      "  warn('%s is a low contrast image' % fname)\n",
      "/home/ubuntu/miniconda3/lib/python3.6/site-packages/skimage/io/_io.py:132: UserWarning: /home/ubuntu/source/mike_fork/diff_classifier/notebooks/development/OGD_0_5h_slice_2_striatum_vid_5_3_0.tif is a low contrast image\n",
      "  warn('%s is a low contrast image' % fname)\n",
      "/home/ubuntu/miniconda3/lib/python3.6/site-packages/skimage/io/_io.py:132: UserWarning: /home/ubuntu/source/mike_fork/diff_classifier/notebooks/development/OGD_0_5h_slice_2_striatum_vid_5_3_1.tif is a low contrast image\n",
      "  warn('%s is a low contrast image' % fname)\n",
      "/home/ubuntu/miniconda3/lib/python3.6/site-packages/skimage/io/_io.py:132: UserWarning: /home/ubuntu/source/mike_fork/diff_classifier/notebooks/development/OGD_0_5h_slice_2_striatum_vid_5_3_2.tif is a low contrast image\n",
      "  warn('%s is a low contrast image' % fname)\n",
      "/home/ubuntu/miniconda3/lib/python3.6/site-packages/skimage/io/_io.py:132: UserWarning: /home/ubuntu/source/mike_fork/diff_classifier/notebooks/development/OGD_0_5h_slice_2_striatum_vid_5_3_3.tif is a low contrast image\n",
      "  warn('%s is a low contrast image' % fname)\n"
     ]
    },
    {
     "name": "stdout",
     "output_type": "stream",
     "text": [
      "Done with splitting. Should output file of name 03_06_20_OGD_Severity_MPT/OGD_0_5h_slice_2_striatum_vid_5_0_0.tif\n",
      "Done with splitting. Should output file of name 03_06_20_OGD_Severity_MPT/OGD_0_5h_slice_2_striatum_vid_5_0_1.tif\n",
      "Done with splitting. Should output file of name 03_06_20_OGD_Severity_MPT/OGD_0_5h_slice_2_striatum_vid_5_0_2.tif\n",
      "Done with splitting. Should output file of name 03_06_20_OGD_Severity_MPT/OGD_0_5h_slice_2_striatum_vid_5_0_3.tif\n",
      "Done with splitting. Should output file of name 03_06_20_OGD_Severity_MPT/OGD_0_5h_slice_2_striatum_vid_5_1_0.tif\n",
      "Done with splitting. Should output file of name 03_06_20_OGD_Severity_MPT/OGD_0_5h_slice_2_striatum_vid_5_1_1.tif\n",
      "Done with splitting. Should output file of name 03_06_20_OGD_Severity_MPT/OGD_0_5h_slice_2_striatum_vid_5_1_2.tif\n",
      "Done with splitting. Should output file of name 03_06_20_OGD_Severity_MPT/OGD_0_5h_slice_2_striatum_vid_5_1_3.tif\n",
      "Done with splitting. Should output file of name 03_06_20_OGD_Severity_MPT/OGD_0_5h_slice_2_striatum_vid_5_2_0.tif\n",
      "Done with splitting. Should output file of name 03_06_20_OGD_Severity_MPT/OGD_0_5h_slice_2_striatum_vid_5_2_1.tif\n",
      "Done with splitting. Should output file of name 03_06_20_OGD_Severity_MPT/OGD_0_5h_slice_2_striatum_vid_5_2_2.tif\n",
      "Done with splitting. Should output file of name 03_06_20_OGD_Severity_MPT/OGD_0_5h_slice_2_striatum_vid_5_2_3.tif\n",
      "Done with splitting. Should output file of name 03_06_20_OGD_Severity_MPT/OGD_0_5h_slice_2_striatum_vid_5_3_0.tif\n",
      "Done with splitting. Should output file of name 03_06_20_OGD_Severity_MPT/OGD_0_5h_slice_2_striatum_vid_5_3_1.tif\n",
      "Done with splitting. Should output file of name 03_06_20_OGD_Severity_MPT/OGD_0_5h_slice_2_striatum_vid_5_3_2.tif\n",
      "Done with splitting. Should output file of name 03_06_20_OGD_Severity_MPT/OGD_0_5h_slice_2_striatum_vid_5_3_3.tif\n"
     ]
    },
    {
     "name": "stderr",
     "output_type": "stream",
     "text": [
      "/home/ubuntu/miniconda3/lib/python3.6/site-packages/skimage/io/_io.py:132: UserWarning: /home/ubuntu/source/mike_fork/diff_classifier/notebooks/development/OGD_0_5h_slice_3_cortex_vid_1_0_0.tif is a low contrast image\n",
      "  warn('%s is a low contrast image' % fname)\n",
      "/home/ubuntu/miniconda3/lib/python3.6/site-packages/skimage/io/_io.py:132: UserWarning: /home/ubuntu/source/mike_fork/diff_classifier/notebooks/development/OGD_0_5h_slice_3_cortex_vid_1_0_1.tif is a low contrast image\n",
      "  warn('%s is a low contrast image' % fname)\n",
      "/home/ubuntu/miniconda3/lib/python3.6/site-packages/skimage/io/_io.py:132: UserWarning: /home/ubuntu/source/mike_fork/diff_classifier/notebooks/development/OGD_0_5h_slice_3_cortex_vid_1_0_2.tif is a low contrast image\n",
      "  warn('%s is a low contrast image' % fname)\n",
      "/home/ubuntu/miniconda3/lib/python3.6/site-packages/skimage/io/_io.py:132: UserWarning: /home/ubuntu/source/mike_fork/diff_classifier/notebooks/development/OGD_0_5h_slice_3_cortex_vid_1_0_3.tif is a low contrast image\n",
      "  warn('%s is a low contrast image' % fname)\n",
      "/home/ubuntu/miniconda3/lib/python3.6/site-packages/skimage/io/_io.py:132: UserWarning: /home/ubuntu/source/mike_fork/diff_classifier/notebooks/development/OGD_0_5h_slice_3_cortex_vid_1_1_0.tif is a low contrast image\n",
      "  warn('%s is a low contrast image' % fname)\n",
      "/home/ubuntu/miniconda3/lib/python3.6/site-packages/skimage/io/_io.py:132: UserWarning: /home/ubuntu/source/mike_fork/diff_classifier/notebooks/development/OGD_0_5h_slice_3_cortex_vid_1_1_1.tif is a low contrast image\n",
      "  warn('%s is a low contrast image' % fname)\n",
      "/home/ubuntu/miniconda3/lib/python3.6/site-packages/skimage/io/_io.py:132: UserWarning: /home/ubuntu/source/mike_fork/diff_classifier/notebooks/development/OGD_0_5h_slice_3_cortex_vid_1_1_2.tif is a low contrast image\n",
      "  warn('%s is a low contrast image' % fname)\n",
      "/home/ubuntu/miniconda3/lib/python3.6/site-packages/skimage/io/_io.py:132: UserWarning: /home/ubuntu/source/mike_fork/diff_classifier/notebooks/development/OGD_0_5h_slice_3_cortex_vid_1_1_3.tif is a low contrast image\n",
      "  warn('%s is a low contrast image' % fname)\n",
      "/home/ubuntu/miniconda3/lib/python3.6/site-packages/skimage/io/_io.py:132: UserWarning: /home/ubuntu/source/mike_fork/diff_classifier/notebooks/development/OGD_0_5h_slice_3_cortex_vid_1_2_0.tif is a low contrast image\n",
      "  warn('%s is a low contrast image' % fname)\n",
      "/home/ubuntu/miniconda3/lib/python3.6/site-packages/skimage/io/_io.py:132: UserWarning: /home/ubuntu/source/mike_fork/diff_classifier/notebooks/development/OGD_0_5h_slice_3_cortex_vid_1_2_1.tif is a low contrast image\n",
      "  warn('%s is a low contrast image' % fname)\n",
      "/home/ubuntu/miniconda3/lib/python3.6/site-packages/skimage/io/_io.py:132: UserWarning: /home/ubuntu/source/mike_fork/diff_classifier/notebooks/development/OGD_0_5h_slice_3_cortex_vid_1_2_2.tif is a low contrast image\n",
      "  warn('%s is a low contrast image' % fname)\n",
      "/home/ubuntu/miniconda3/lib/python3.6/site-packages/skimage/io/_io.py:132: UserWarning: /home/ubuntu/source/mike_fork/diff_classifier/notebooks/development/OGD_0_5h_slice_3_cortex_vid_1_2_3.tif is a low contrast image\n",
      "  warn('%s is a low contrast image' % fname)\n",
      "/home/ubuntu/miniconda3/lib/python3.6/site-packages/skimage/io/_io.py:132: UserWarning: /home/ubuntu/source/mike_fork/diff_classifier/notebooks/development/OGD_0_5h_slice_3_cortex_vid_1_3_0.tif is a low contrast image\n",
      "  warn('%s is a low contrast image' % fname)\n",
      "/home/ubuntu/miniconda3/lib/python3.6/site-packages/skimage/io/_io.py:132: UserWarning: /home/ubuntu/source/mike_fork/diff_classifier/notebooks/development/OGD_0_5h_slice_3_cortex_vid_1_3_1.tif is a low contrast image\n",
      "  warn('%s is a low contrast image' % fname)\n",
      "/home/ubuntu/miniconda3/lib/python3.6/site-packages/skimage/io/_io.py:132: UserWarning: /home/ubuntu/source/mike_fork/diff_classifier/notebooks/development/OGD_0_5h_slice_3_cortex_vid_1_3_2.tif is a low contrast image\n",
      "  warn('%s is a low contrast image' % fname)\n",
      "/home/ubuntu/miniconda3/lib/python3.6/site-packages/skimage/io/_io.py:132: UserWarning: /home/ubuntu/source/mike_fork/diff_classifier/notebooks/development/OGD_0_5h_slice_3_cortex_vid_1_3_3.tif is a low contrast image\n",
      "  warn('%s is a low contrast image' % fname)\n"
     ]
    },
    {
     "name": "stdout",
     "output_type": "stream",
     "text": [
      "Done with splitting. Should output file of name 03_06_20_OGD_Severity_MPT/OGD_0_5h_slice_3_cortex_vid_1_0_0.tif\n",
      "Done with splitting. Should output file of name 03_06_20_OGD_Severity_MPT/OGD_0_5h_slice_3_cortex_vid_1_0_1.tif\n",
      "Done with splitting. Should output file of name 03_06_20_OGD_Severity_MPT/OGD_0_5h_slice_3_cortex_vid_1_0_2.tif\n",
      "Done with splitting. Should output file of name 03_06_20_OGD_Severity_MPT/OGD_0_5h_slice_3_cortex_vid_1_0_3.tif\n",
      "Done with splitting. Should output file of name 03_06_20_OGD_Severity_MPT/OGD_0_5h_slice_3_cortex_vid_1_1_0.tif\n",
      "Done with splitting. Should output file of name 03_06_20_OGD_Severity_MPT/OGD_0_5h_slice_3_cortex_vid_1_1_1.tif\n",
      "Done with splitting. Should output file of name 03_06_20_OGD_Severity_MPT/OGD_0_5h_slice_3_cortex_vid_1_1_2.tif\n",
      "Done with splitting. Should output file of name 03_06_20_OGD_Severity_MPT/OGD_0_5h_slice_3_cortex_vid_1_1_3.tif\n",
      "Done with splitting. Should output file of name 03_06_20_OGD_Severity_MPT/OGD_0_5h_slice_3_cortex_vid_1_2_0.tif\n",
      "Done with splitting. Should output file of name 03_06_20_OGD_Severity_MPT/OGD_0_5h_slice_3_cortex_vid_1_2_1.tif\n",
      "Done with splitting. Should output file of name 03_06_20_OGD_Severity_MPT/OGD_0_5h_slice_3_cortex_vid_1_2_2.tif\n",
      "Done with splitting. Should output file of name 03_06_20_OGD_Severity_MPT/OGD_0_5h_slice_3_cortex_vid_1_2_3.tif\n",
      "Done with splitting. Should output file of name 03_06_20_OGD_Severity_MPT/OGD_0_5h_slice_3_cortex_vid_1_3_0.tif\n",
      "Done with splitting. Should output file of name 03_06_20_OGD_Severity_MPT/OGD_0_5h_slice_3_cortex_vid_1_3_1.tif\n",
      "Done with splitting. Should output file of name 03_06_20_OGD_Severity_MPT/OGD_0_5h_slice_3_cortex_vid_1_3_2.tif\n",
      "Done with splitting. Should output file of name 03_06_20_OGD_Severity_MPT/OGD_0_5h_slice_3_cortex_vid_1_3_3.tif\n"
     ]
    },
    {
     "name": "stderr",
     "output_type": "stream",
     "text": [
      "/home/ubuntu/miniconda3/lib/python3.6/site-packages/skimage/io/_io.py:132: UserWarning: /home/ubuntu/source/mike_fork/diff_classifier/notebooks/development/OGD_0_5h_slice_3_cortex_vid_2_0_0.tif is a low contrast image\n",
      "  warn('%s is a low contrast image' % fname)\n",
      "/home/ubuntu/miniconda3/lib/python3.6/site-packages/skimage/io/_io.py:132: UserWarning: /home/ubuntu/source/mike_fork/diff_classifier/notebooks/development/OGD_0_5h_slice_3_cortex_vid_2_0_1.tif is a low contrast image\n",
      "  warn('%s is a low contrast image' % fname)\n",
      "/home/ubuntu/miniconda3/lib/python3.6/site-packages/skimage/io/_io.py:132: UserWarning: /home/ubuntu/source/mike_fork/diff_classifier/notebooks/development/OGD_0_5h_slice_3_cortex_vid_2_0_2.tif is a low contrast image\n",
      "  warn('%s is a low contrast image' % fname)\n",
      "/home/ubuntu/miniconda3/lib/python3.6/site-packages/skimage/io/_io.py:132: UserWarning: /home/ubuntu/source/mike_fork/diff_classifier/notebooks/development/OGD_0_5h_slice_3_cortex_vid_2_0_3.tif is a low contrast image\n",
      "  warn('%s is a low contrast image' % fname)\n",
      "/home/ubuntu/miniconda3/lib/python3.6/site-packages/skimage/io/_io.py:132: UserWarning: /home/ubuntu/source/mike_fork/diff_classifier/notebooks/development/OGD_0_5h_slice_3_cortex_vid_2_1_0.tif is a low contrast image\n",
      "  warn('%s is a low contrast image' % fname)\n",
      "/home/ubuntu/miniconda3/lib/python3.6/site-packages/skimage/io/_io.py:132: UserWarning: /home/ubuntu/source/mike_fork/diff_classifier/notebooks/development/OGD_0_5h_slice_3_cortex_vid_2_1_1.tif is a low contrast image\n",
      "  warn('%s is a low contrast image' % fname)\n",
      "/home/ubuntu/miniconda3/lib/python3.6/site-packages/skimage/io/_io.py:132: UserWarning: /home/ubuntu/source/mike_fork/diff_classifier/notebooks/development/OGD_0_5h_slice_3_cortex_vid_2_1_2.tif is a low contrast image\n",
      "  warn('%s is a low contrast image' % fname)\n",
      "/home/ubuntu/miniconda3/lib/python3.6/site-packages/skimage/io/_io.py:132: UserWarning: /home/ubuntu/source/mike_fork/diff_classifier/notebooks/development/OGD_0_5h_slice_3_cortex_vid_2_1_3.tif is a low contrast image\n",
      "  warn('%s is a low contrast image' % fname)\n",
      "/home/ubuntu/miniconda3/lib/python3.6/site-packages/skimage/io/_io.py:132: UserWarning: /home/ubuntu/source/mike_fork/diff_classifier/notebooks/development/OGD_0_5h_slice_3_cortex_vid_2_2_0.tif is a low contrast image\n",
      "  warn('%s is a low contrast image' % fname)\n",
      "/home/ubuntu/miniconda3/lib/python3.6/site-packages/skimage/io/_io.py:132: UserWarning: /home/ubuntu/source/mike_fork/diff_classifier/notebooks/development/OGD_0_5h_slice_3_cortex_vid_2_2_1.tif is a low contrast image\n",
      "  warn('%s is a low contrast image' % fname)\n",
      "/home/ubuntu/miniconda3/lib/python3.6/site-packages/skimage/io/_io.py:132: UserWarning: /home/ubuntu/source/mike_fork/diff_classifier/notebooks/development/OGD_0_5h_slice_3_cortex_vid_2_2_2.tif is a low contrast image\n",
      "  warn('%s is a low contrast image' % fname)\n",
      "/home/ubuntu/miniconda3/lib/python3.6/site-packages/skimage/io/_io.py:132: UserWarning: /home/ubuntu/source/mike_fork/diff_classifier/notebooks/development/OGD_0_5h_slice_3_cortex_vid_2_2_3.tif is a low contrast image\n",
      "  warn('%s is a low contrast image' % fname)\n",
      "/home/ubuntu/miniconda3/lib/python3.6/site-packages/skimage/io/_io.py:132: UserWarning: /home/ubuntu/source/mike_fork/diff_classifier/notebooks/development/OGD_0_5h_slice_3_cortex_vid_2_3_0.tif is a low contrast image\n",
      "  warn('%s is a low contrast image' % fname)\n",
      "/home/ubuntu/miniconda3/lib/python3.6/site-packages/skimage/io/_io.py:132: UserWarning: /home/ubuntu/source/mike_fork/diff_classifier/notebooks/development/OGD_0_5h_slice_3_cortex_vid_2_3_1.tif is a low contrast image\n",
      "  warn('%s is a low contrast image' % fname)\n",
      "/home/ubuntu/miniconda3/lib/python3.6/site-packages/skimage/io/_io.py:132: UserWarning: /home/ubuntu/source/mike_fork/diff_classifier/notebooks/development/OGD_0_5h_slice_3_cortex_vid_2_3_2.tif is a low contrast image\n",
      "  warn('%s is a low contrast image' % fname)\n",
      "/home/ubuntu/miniconda3/lib/python3.6/site-packages/skimage/io/_io.py:132: UserWarning: /home/ubuntu/source/mike_fork/diff_classifier/notebooks/development/OGD_0_5h_slice_3_cortex_vid_2_3_3.tif is a low contrast image\n",
      "  warn('%s is a low contrast image' % fname)\n"
     ]
    },
    {
     "name": "stdout",
     "output_type": "stream",
     "text": [
      "Done with splitting. Should output file of name 03_06_20_OGD_Severity_MPT/OGD_0_5h_slice_3_cortex_vid_2_0_0.tif\n",
      "Done with splitting. Should output file of name 03_06_20_OGD_Severity_MPT/OGD_0_5h_slice_3_cortex_vid_2_0_1.tif\n",
      "Done with splitting. Should output file of name 03_06_20_OGD_Severity_MPT/OGD_0_5h_slice_3_cortex_vid_2_0_2.tif\n",
      "Done with splitting. Should output file of name 03_06_20_OGD_Severity_MPT/OGD_0_5h_slice_3_cortex_vid_2_0_3.tif\n",
      "Done with splitting. Should output file of name 03_06_20_OGD_Severity_MPT/OGD_0_5h_slice_3_cortex_vid_2_1_0.tif\n",
      "Done with splitting. Should output file of name 03_06_20_OGD_Severity_MPT/OGD_0_5h_slice_3_cortex_vid_2_1_1.tif\n",
      "Done with splitting. Should output file of name 03_06_20_OGD_Severity_MPT/OGD_0_5h_slice_3_cortex_vid_2_1_2.tif\n",
      "Done with splitting. Should output file of name 03_06_20_OGD_Severity_MPT/OGD_0_5h_slice_3_cortex_vid_2_1_3.tif\n",
      "Done with splitting. Should output file of name 03_06_20_OGD_Severity_MPT/OGD_0_5h_slice_3_cortex_vid_2_2_0.tif\n",
      "Done with splitting. Should output file of name 03_06_20_OGD_Severity_MPT/OGD_0_5h_slice_3_cortex_vid_2_2_1.tif\n",
      "Done with splitting. Should output file of name 03_06_20_OGD_Severity_MPT/OGD_0_5h_slice_3_cortex_vid_2_2_2.tif\n",
      "Done with splitting. Should output file of name 03_06_20_OGD_Severity_MPT/OGD_0_5h_slice_3_cortex_vid_2_2_3.tif\n",
      "Done with splitting. Should output file of name 03_06_20_OGD_Severity_MPT/OGD_0_5h_slice_3_cortex_vid_2_3_0.tif\n",
      "Done with splitting. Should output file of name 03_06_20_OGD_Severity_MPT/OGD_0_5h_slice_3_cortex_vid_2_3_1.tif\n",
      "Done with splitting. Should output file of name 03_06_20_OGD_Severity_MPT/OGD_0_5h_slice_3_cortex_vid_2_3_2.tif\n",
      "Done with splitting. Should output file of name 03_06_20_OGD_Severity_MPT/OGD_0_5h_slice_3_cortex_vid_2_3_3.tif\n"
     ]
    },
    {
     "name": "stderr",
     "output_type": "stream",
     "text": [
      "/home/ubuntu/miniconda3/lib/python3.6/site-packages/skimage/io/_io.py:132: UserWarning: /home/ubuntu/source/mike_fork/diff_classifier/notebooks/development/OGD_0_5h_slice_3_cortex_vid_3_0_0.tif is a low contrast image\n",
      "  warn('%s is a low contrast image' % fname)\n",
      "/home/ubuntu/miniconda3/lib/python3.6/site-packages/skimage/io/_io.py:132: UserWarning: /home/ubuntu/source/mike_fork/diff_classifier/notebooks/development/OGD_0_5h_slice_3_cortex_vid_3_0_1.tif is a low contrast image\n",
      "  warn('%s is a low contrast image' % fname)\n",
      "/home/ubuntu/miniconda3/lib/python3.6/site-packages/skimage/io/_io.py:132: UserWarning: /home/ubuntu/source/mike_fork/diff_classifier/notebooks/development/OGD_0_5h_slice_3_cortex_vid_3_0_2.tif is a low contrast image\n",
      "  warn('%s is a low contrast image' % fname)\n",
      "/home/ubuntu/miniconda3/lib/python3.6/site-packages/skimage/io/_io.py:132: UserWarning: /home/ubuntu/source/mike_fork/diff_classifier/notebooks/development/OGD_0_5h_slice_3_cortex_vid_3_0_3.tif is a low contrast image\n",
      "  warn('%s is a low contrast image' % fname)\n",
      "/home/ubuntu/miniconda3/lib/python3.6/site-packages/skimage/io/_io.py:132: UserWarning: /home/ubuntu/source/mike_fork/diff_classifier/notebooks/development/OGD_0_5h_slice_3_cortex_vid_3_1_0.tif is a low contrast image\n",
      "  warn('%s is a low contrast image' % fname)\n",
      "/home/ubuntu/miniconda3/lib/python3.6/site-packages/skimage/io/_io.py:132: UserWarning: /home/ubuntu/source/mike_fork/diff_classifier/notebooks/development/OGD_0_5h_slice_3_cortex_vid_3_1_1.tif is a low contrast image\n",
      "  warn('%s is a low contrast image' % fname)\n",
      "/home/ubuntu/miniconda3/lib/python3.6/site-packages/skimage/io/_io.py:132: UserWarning: /home/ubuntu/source/mike_fork/diff_classifier/notebooks/development/OGD_0_5h_slice_3_cortex_vid_3_1_2.tif is a low contrast image\n",
      "  warn('%s is a low contrast image' % fname)\n",
      "/home/ubuntu/miniconda3/lib/python3.6/site-packages/skimage/io/_io.py:132: UserWarning: /home/ubuntu/source/mike_fork/diff_classifier/notebooks/development/OGD_0_5h_slice_3_cortex_vid_3_1_3.tif is a low contrast image\n",
      "  warn('%s is a low contrast image' % fname)\n",
      "/home/ubuntu/miniconda3/lib/python3.6/site-packages/skimage/io/_io.py:132: UserWarning: /home/ubuntu/source/mike_fork/diff_classifier/notebooks/development/OGD_0_5h_slice_3_cortex_vid_3_2_0.tif is a low contrast image\n",
      "  warn('%s is a low contrast image' % fname)\n",
      "/home/ubuntu/miniconda3/lib/python3.6/site-packages/skimage/io/_io.py:132: UserWarning: /home/ubuntu/source/mike_fork/diff_classifier/notebooks/development/OGD_0_5h_slice_3_cortex_vid_3_2_1.tif is a low contrast image\n",
      "  warn('%s is a low contrast image' % fname)\n",
      "/home/ubuntu/miniconda3/lib/python3.6/site-packages/skimage/io/_io.py:132: UserWarning: /home/ubuntu/source/mike_fork/diff_classifier/notebooks/development/OGD_0_5h_slice_3_cortex_vid_3_2_2.tif is a low contrast image\n",
      "  warn('%s is a low contrast image' % fname)\n",
      "/home/ubuntu/miniconda3/lib/python3.6/site-packages/skimage/io/_io.py:132: UserWarning: /home/ubuntu/source/mike_fork/diff_classifier/notebooks/development/OGD_0_5h_slice_3_cortex_vid_3_2_3.tif is a low contrast image\n",
      "  warn('%s is a low contrast image' % fname)\n",
      "/home/ubuntu/miniconda3/lib/python3.6/site-packages/skimage/io/_io.py:132: UserWarning: /home/ubuntu/source/mike_fork/diff_classifier/notebooks/development/OGD_0_5h_slice_3_cortex_vid_3_3_0.tif is a low contrast image\n",
      "  warn('%s is a low contrast image' % fname)\n",
      "/home/ubuntu/miniconda3/lib/python3.6/site-packages/skimage/io/_io.py:132: UserWarning: /home/ubuntu/source/mike_fork/diff_classifier/notebooks/development/OGD_0_5h_slice_3_cortex_vid_3_3_1.tif is a low contrast image\n",
      "  warn('%s is a low contrast image' % fname)\n",
      "/home/ubuntu/miniconda3/lib/python3.6/site-packages/skimage/io/_io.py:132: UserWarning: /home/ubuntu/source/mike_fork/diff_classifier/notebooks/development/OGD_0_5h_slice_3_cortex_vid_3_3_2.tif is a low contrast image\n",
      "  warn('%s is a low contrast image' % fname)\n",
      "/home/ubuntu/miniconda3/lib/python3.6/site-packages/skimage/io/_io.py:132: UserWarning: /home/ubuntu/source/mike_fork/diff_classifier/notebooks/development/OGD_0_5h_slice_3_cortex_vid_3_3_3.tif is a low contrast image\n",
      "  warn('%s is a low contrast image' % fname)\n"
     ]
    },
    {
     "name": "stdout",
     "output_type": "stream",
     "text": [
      "Done with splitting. Should output file of name 03_06_20_OGD_Severity_MPT/OGD_0_5h_slice_3_cortex_vid_3_0_0.tif\n",
      "Done with splitting. Should output file of name 03_06_20_OGD_Severity_MPT/OGD_0_5h_slice_3_cortex_vid_3_0_1.tif\n",
      "Done with splitting. Should output file of name 03_06_20_OGD_Severity_MPT/OGD_0_5h_slice_3_cortex_vid_3_0_2.tif\n",
      "Done with splitting. Should output file of name 03_06_20_OGD_Severity_MPT/OGD_0_5h_slice_3_cortex_vid_3_0_3.tif\n",
      "Done with splitting. Should output file of name 03_06_20_OGD_Severity_MPT/OGD_0_5h_slice_3_cortex_vid_3_1_0.tif\n",
      "Done with splitting. Should output file of name 03_06_20_OGD_Severity_MPT/OGD_0_5h_slice_3_cortex_vid_3_1_1.tif\n",
      "Done with splitting. Should output file of name 03_06_20_OGD_Severity_MPT/OGD_0_5h_slice_3_cortex_vid_3_1_2.tif\n",
      "Done with splitting. Should output file of name 03_06_20_OGD_Severity_MPT/OGD_0_5h_slice_3_cortex_vid_3_1_3.tif\n",
      "Done with splitting. Should output file of name 03_06_20_OGD_Severity_MPT/OGD_0_5h_slice_3_cortex_vid_3_2_0.tif\n",
      "Done with splitting. Should output file of name 03_06_20_OGD_Severity_MPT/OGD_0_5h_slice_3_cortex_vid_3_2_1.tif\n",
      "Done with splitting. Should output file of name 03_06_20_OGD_Severity_MPT/OGD_0_5h_slice_3_cortex_vid_3_2_2.tif\n",
      "Done with splitting. Should output file of name 03_06_20_OGD_Severity_MPT/OGD_0_5h_slice_3_cortex_vid_3_2_3.tif\n",
      "Done with splitting. Should output file of name 03_06_20_OGD_Severity_MPT/OGD_0_5h_slice_3_cortex_vid_3_3_0.tif\n",
      "Done with splitting. Should output file of name 03_06_20_OGD_Severity_MPT/OGD_0_5h_slice_3_cortex_vid_3_3_1.tif\n",
      "Done with splitting. Should output file of name 03_06_20_OGD_Severity_MPT/OGD_0_5h_slice_3_cortex_vid_3_3_2.tif\n",
      "Done with splitting. Should output file of name 03_06_20_OGD_Severity_MPT/OGD_0_5h_slice_3_cortex_vid_3_3_3.tif\n"
     ]
    },
    {
     "name": "stderr",
     "output_type": "stream",
     "text": [
      "/home/ubuntu/miniconda3/lib/python3.6/site-packages/skimage/io/_io.py:132: UserWarning: /home/ubuntu/source/mike_fork/diff_classifier/notebooks/development/OGD_0_5h_slice_3_cortex_vid_4_0_0.tif is a low contrast image\n",
      "  warn('%s is a low contrast image' % fname)\n",
      "/home/ubuntu/miniconda3/lib/python3.6/site-packages/skimage/io/_io.py:132: UserWarning: /home/ubuntu/source/mike_fork/diff_classifier/notebooks/development/OGD_0_5h_slice_3_cortex_vid_4_0_1.tif is a low contrast image\n",
      "  warn('%s is a low contrast image' % fname)\n",
      "/home/ubuntu/miniconda3/lib/python3.6/site-packages/skimage/io/_io.py:132: UserWarning: /home/ubuntu/source/mike_fork/diff_classifier/notebooks/development/OGD_0_5h_slice_3_cortex_vid_4_0_2.tif is a low contrast image\n",
      "  warn('%s is a low contrast image' % fname)\n",
      "/home/ubuntu/miniconda3/lib/python3.6/site-packages/skimage/io/_io.py:132: UserWarning: /home/ubuntu/source/mike_fork/diff_classifier/notebooks/development/OGD_0_5h_slice_3_cortex_vid_4_0_3.tif is a low contrast image\n",
      "  warn('%s is a low contrast image' % fname)\n",
      "/home/ubuntu/miniconda3/lib/python3.6/site-packages/skimage/io/_io.py:132: UserWarning: /home/ubuntu/source/mike_fork/diff_classifier/notebooks/development/OGD_0_5h_slice_3_cortex_vid_4_1_0.tif is a low contrast image\n",
      "  warn('%s is a low contrast image' % fname)\n",
      "/home/ubuntu/miniconda3/lib/python3.6/site-packages/skimage/io/_io.py:132: UserWarning: /home/ubuntu/source/mike_fork/diff_classifier/notebooks/development/OGD_0_5h_slice_3_cortex_vid_4_1_1.tif is a low contrast image\n",
      "  warn('%s is a low contrast image' % fname)\n",
      "/home/ubuntu/miniconda3/lib/python3.6/site-packages/skimage/io/_io.py:132: UserWarning: /home/ubuntu/source/mike_fork/diff_classifier/notebooks/development/OGD_0_5h_slice_3_cortex_vid_4_1_2.tif is a low contrast image\n",
      "  warn('%s is a low contrast image' % fname)\n",
      "/home/ubuntu/miniconda3/lib/python3.6/site-packages/skimage/io/_io.py:132: UserWarning: /home/ubuntu/source/mike_fork/diff_classifier/notebooks/development/OGD_0_5h_slice_3_cortex_vid_4_1_3.tif is a low contrast image\n",
      "  warn('%s is a low contrast image' % fname)\n",
      "/home/ubuntu/miniconda3/lib/python3.6/site-packages/skimage/io/_io.py:132: UserWarning: /home/ubuntu/source/mike_fork/diff_classifier/notebooks/development/OGD_0_5h_slice_3_cortex_vid_4_2_0.tif is a low contrast image\n",
      "  warn('%s is a low contrast image' % fname)\n",
      "/home/ubuntu/miniconda3/lib/python3.6/site-packages/skimage/io/_io.py:132: UserWarning: /home/ubuntu/source/mike_fork/diff_classifier/notebooks/development/OGD_0_5h_slice_3_cortex_vid_4_2_1.tif is a low contrast image\n",
      "  warn('%s is a low contrast image' % fname)\n",
      "/home/ubuntu/miniconda3/lib/python3.6/site-packages/skimage/io/_io.py:132: UserWarning: /home/ubuntu/source/mike_fork/diff_classifier/notebooks/development/OGD_0_5h_slice_3_cortex_vid_4_2_2.tif is a low contrast image\n",
      "  warn('%s is a low contrast image' % fname)\n",
      "/home/ubuntu/miniconda3/lib/python3.6/site-packages/skimage/io/_io.py:132: UserWarning: /home/ubuntu/source/mike_fork/diff_classifier/notebooks/development/OGD_0_5h_slice_3_cortex_vid_4_2_3.tif is a low contrast image\n",
      "  warn('%s is a low contrast image' % fname)\n",
      "/home/ubuntu/miniconda3/lib/python3.6/site-packages/skimage/io/_io.py:132: UserWarning: /home/ubuntu/source/mike_fork/diff_classifier/notebooks/development/OGD_0_5h_slice_3_cortex_vid_4_3_0.tif is a low contrast image\n",
      "  warn('%s is a low contrast image' % fname)\n",
      "/home/ubuntu/miniconda3/lib/python3.6/site-packages/skimage/io/_io.py:132: UserWarning: /home/ubuntu/source/mike_fork/diff_classifier/notebooks/development/OGD_0_5h_slice_3_cortex_vid_4_3_1.tif is a low contrast image\n",
      "  warn('%s is a low contrast image' % fname)\n",
      "/home/ubuntu/miniconda3/lib/python3.6/site-packages/skimage/io/_io.py:132: UserWarning: /home/ubuntu/source/mike_fork/diff_classifier/notebooks/development/OGD_0_5h_slice_3_cortex_vid_4_3_2.tif is a low contrast image\n",
      "  warn('%s is a low contrast image' % fname)\n",
      "/home/ubuntu/miniconda3/lib/python3.6/site-packages/skimage/io/_io.py:132: UserWarning: /home/ubuntu/source/mike_fork/diff_classifier/notebooks/development/OGD_0_5h_slice_3_cortex_vid_4_3_3.tif is a low contrast image\n",
      "  warn('%s is a low contrast image' % fname)\n"
     ]
    },
    {
     "name": "stdout",
     "output_type": "stream",
     "text": [
      "Done with splitting. Should output file of name 03_06_20_OGD_Severity_MPT/OGD_0_5h_slice_3_cortex_vid_4_0_0.tif\n",
      "Done with splitting. Should output file of name 03_06_20_OGD_Severity_MPT/OGD_0_5h_slice_3_cortex_vid_4_0_1.tif\n",
      "Done with splitting. Should output file of name 03_06_20_OGD_Severity_MPT/OGD_0_5h_slice_3_cortex_vid_4_0_2.tif\n",
      "Done with splitting. Should output file of name 03_06_20_OGD_Severity_MPT/OGD_0_5h_slice_3_cortex_vid_4_0_3.tif\n",
      "Done with splitting. Should output file of name 03_06_20_OGD_Severity_MPT/OGD_0_5h_slice_3_cortex_vid_4_1_0.tif\n",
      "Done with splitting. Should output file of name 03_06_20_OGD_Severity_MPT/OGD_0_5h_slice_3_cortex_vid_4_1_1.tif\n",
      "Done with splitting. Should output file of name 03_06_20_OGD_Severity_MPT/OGD_0_5h_slice_3_cortex_vid_4_1_2.tif\n",
      "Done with splitting. Should output file of name 03_06_20_OGD_Severity_MPT/OGD_0_5h_slice_3_cortex_vid_4_1_3.tif\n",
      "Done with splitting. Should output file of name 03_06_20_OGD_Severity_MPT/OGD_0_5h_slice_3_cortex_vid_4_2_0.tif\n",
      "Done with splitting. Should output file of name 03_06_20_OGD_Severity_MPT/OGD_0_5h_slice_3_cortex_vid_4_2_1.tif\n",
      "Done with splitting. Should output file of name 03_06_20_OGD_Severity_MPT/OGD_0_5h_slice_3_cortex_vid_4_2_2.tif\n",
      "Done with splitting. Should output file of name 03_06_20_OGD_Severity_MPT/OGD_0_5h_slice_3_cortex_vid_4_2_3.tif\n",
      "Done with splitting. Should output file of name 03_06_20_OGD_Severity_MPT/OGD_0_5h_slice_3_cortex_vid_4_3_0.tif\n",
      "Done with splitting. Should output file of name 03_06_20_OGD_Severity_MPT/OGD_0_5h_slice_3_cortex_vid_4_3_1.tif\n",
      "Done with splitting. Should output file of name 03_06_20_OGD_Severity_MPT/OGD_0_5h_slice_3_cortex_vid_4_3_2.tif\n",
      "Done with splitting. Should output file of name 03_06_20_OGD_Severity_MPT/OGD_0_5h_slice_3_cortex_vid_4_3_3.tif\n"
     ]
    },
    {
     "name": "stderr",
     "output_type": "stream",
     "text": [
      "/home/ubuntu/miniconda3/lib/python3.6/site-packages/skimage/io/_io.py:132: UserWarning: /home/ubuntu/source/mike_fork/diff_classifier/notebooks/development/OGD_0_5h_slice_3_cortex_vid_5_0_0.tif is a low contrast image\n",
      "  warn('%s is a low contrast image' % fname)\n",
      "/home/ubuntu/miniconda3/lib/python3.6/site-packages/skimage/io/_io.py:132: UserWarning: /home/ubuntu/source/mike_fork/diff_classifier/notebooks/development/OGD_0_5h_slice_3_cortex_vid_5_0_1.tif is a low contrast image\n",
      "  warn('%s is a low contrast image' % fname)\n",
      "/home/ubuntu/miniconda3/lib/python3.6/site-packages/skimage/io/_io.py:132: UserWarning: /home/ubuntu/source/mike_fork/diff_classifier/notebooks/development/OGD_0_5h_slice_3_cortex_vid_5_0_2.tif is a low contrast image\n",
      "  warn('%s is a low contrast image' % fname)\n",
      "/home/ubuntu/miniconda3/lib/python3.6/site-packages/skimage/io/_io.py:132: UserWarning: /home/ubuntu/source/mike_fork/diff_classifier/notebooks/development/OGD_0_5h_slice_3_cortex_vid_5_0_3.tif is a low contrast image\n",
      "  warn('%s is a low contrast image' % fname)\n",
      "/home/ubuntu/miniconda3/lib/python3.6/site-packages/skimage/io/_io.py:132: UserWarning: /home/ubuntu/source/mike_fork/diff_classifier/notebooks/development/OGD_0_5h_slice_3_cortex_vid_5_1_0.tif is a low contrast image\n",
      "  warn('%s is a low contrast image' % fname)\n",
      "/home/ubuntu/miniconda3/lib/python3.6/site-packages/skimage/io/_io.py:132: UserWarning: /home/ubuntu/source/mike_fork/diff_classifier/notebooks/development/OGD_0_5h_slice_3_cortex_vid_5_1_1.tif is a low contrast image\n",
      "  warn('%s is a low contrast image' % fname)\n",
      "/home/ubuntu/miniconda3/lib/python3.6/site-packages/skimage/io/_io.py:132: UserWarning: /home/ubuntu/source/mike_fork/diff_classifier/notebooks/development/OGD_0_5h_slice_3_cortex_vid_5_1_2.tif is a low contrast image\n",
      "  warn('%s is a low contrast image' % fname)\n",
      "/home/ubuntu/miniconda3/lib/python3.6/site-packages/skimage/io/_io.py:132: UserWarning: /home/ubuntu/source/mike_fork/diff_classifier/notebooks/development/OGD_0_5h_slice_3_cortex_vid_5_1_3.tif is a low contrast image\n",
      "  warn('%s is a low contrast image' % fname)\n",
      "/home/ubuntu/miniconda3/lib/python3.6/site-packages/skimage/io/_io.py:132: UserWarning: /home/ubuntu/source/mike_fork/diff_classifier/notebooks/development/OGD_0_5h_slice_3_cortex_vid_5_2_0.tif is a low contrast image\n",
      "  warn('%s is a low contrast image' % fname)\n",
      "/home/ubuntu/miniconda3/lib/python3.6/site-packages/skimage/io/_io.py:132: UserWarning: /home/ubuntu/source/mike_fork/diff_classifier/notebooks/development/OGD_0_5h_slice_3_cortex_vid_5_2_1.tif is a low contrast image\n",
      "  warn('%s is a low contrast image' % fname)\n",
      "/home/ubuntu/miniconda3/lib/python3.6/site-packages/skimage/io/_io.py:132: UserWarning: /home/ubuntu/source/mike_fork/diff_classifier/notebooks/development/OGD_0_5h_slice_3_cortex_vid_5_2_2.tif is a low contrast image\n",
      "  warn('%s is a low contrast image' % fname)\n",
      "/home/ubuntu/miniconda3/lib/python3.6/site-packages/skimage/io/_io.py:132: UserWarning: /home/ubuntu/source/mike_fork/diff_classifier/notebooks/development/OGD_0_5h_slice_3_cortex_vid_5_2_3.tif is a low contrast image\n",
      "  warn('%s is a low contrast image' % fname)\n",
      "/home/ubuntu/miniconda3/lib/python3.6/site-packages/skimage/io/_io.py:132: UserWarning: /home/ubuntu/source/mike_fork/diff_classifier/notebooks/development/OGD_0_5h_slice_3_cortex_vid_5_3_0.tif is a low contrast image\n",
      "  warn('%s is a low contrast image' % fname)\n",
      "/home/ubuntu/miniconda3/lib/python3.6/site-packages/skimage/io/_io.py:132: UserWarning: /home/ubuntu/source/mike_fork/diff_classifier/notebooks/development/OGD_0_5h_slice_3_cortex_vid_5_3_1.tif is a low contrast image\n",
      "  warn('%s is a low contrast image' % fname)\n",
      "/home/ubuntu/miniconda3/lib/python3.6/site-packages/skimage/io/_io.py:132: UserWarning: /home/ubuntu/source/mike_fork/diff_classifier/notebooks/development/OGD_0_5h_slice_3_cortex_vid_5_3_2.tif is a low contrast image\n",
      "  warn('%s is a low contrast image' % fname)\n",
      "/home/ubuntu/miniconda3/lib/python3.6/site-packages/skimage/io/_io.py:132: UserWarning: /home/ubuntu/source/mike_fork/diff_classifier/notebooks/development/OGD_0_5h_slice_3_cortex_vid_5_3_3.tif is a low contrast image\n",
      "  warn('%s is a low contrast image' % fname)\n"
     ]
    },
    {
     "name": "stdout",
     "output_type": "stream",
     "text": [
      "Done with splitting. Should output file of name 03_06_20_OGD_Severity_MPT/OGD_0_5h_slice_3_cortex_vid_5_0_0.tif\n",
      "Done with splitting. Should output file of name 03_06_20_OGD_Severity_MPT/OGD_0_5h_slice_3_cortex_vid_5_0_1.tif\n",
      "Done with splitting. Should output file of name 03_06_20_OGD_Severity_MPT/OGD_0_5h_slice_3_cortex_vid_5_0_2.tif\n",
      "Done with splitting. Should output file of name 03_06_20_OGD_Severity_MPT/OGD_0_5h_slice_3_cortex_vid_5_0_3.tif\n",
      "Done with splitting. Should output file of name 03_06_20_OGD_Severity_MPT/OGD_0_5h_slice_3_cortex_vid_5_1_0.tif\n",
      "Done with splitting. Should output file of name 03_06_20_OGD_Severity_MPT/OGD_0_5h_slice_3_cortex_vid_5_1_1.tif\n",
      "Done with splitting. Should output file of name 03_06_20_OGD_Severity_MPT/OGD_0_5h_slice_3_cortex_vid_5_1_2.tif\n",
      "Done with splitting. Should output file of name 03_06_20_OGD_Severity_MPT/OGD_0_5h_slice_3_cortex_vid_5_1_3.tif\n",
      "Done with splitting. Should output file of name 03_06_20_OGD_Severity_MPT/OGD_0_5h_slice_3_cortex_vid_5_2_0.tif\n",
      "Done with splitting. Should output file of name 03_06_20_OGD_Severity_MPT/OGD_0_5h_slice_3_cortex_vid_5_2_1.tif\n",
      "Done with splitting. Should output file of name 03_06_20_OGD_Severity_MPT/OGD_0_5h_slice_3_cortex_vid_5_2_2.tif\n",
      "Done with splitting. Should output file of name 03_06_20_OGD_Severity_MPT/OGD_0_5h_slice_3_cortex_vid_5_2_3.tif\n",
      "Done with splitting. Should output file of name 03_06_20_OGD_Severity_MPT/OGD_0_5h_slice_3_cortex_vid_5_3_0.tif\n",
      "Done with splitting. Should output file of name 03_06_20_OGD_Severity_MPT/OGD_0_5h_slice_3_cortex_vid_5_3_1.tif\n",
      "Done with splitting. Should output file of name 03_06_20_OGD_Severity_MPT/OGD_0_5h_slice_3_cortex_vid_5_3_2.tif\n",
      "Done with splitting. Should output file of name 03_06_20_OGD_Severity_MPT/OGD_0_5h_slice_3_cortex_vid_5_3_3.tif\n"
     ]
    },
    {
     "name": "stderr",
     "output_type": "stream",
     "text": [
      "/home/ubuntu/miniconda3/lib/python3.6/site-packages/skimage/io/_io.py:132: UserWarning: /home/ubuntu/source/mike_fork/diff_classifier/notebooks/development/OGD_0_5h_slice_3_striatum_vid_1_0_0.tif is a low contrast image\n",
      "  warn('%s is a low contrast image' % fname)\n",
      "/home/ubuntu/miniconda3/lib/python3.6/site-packages/skimage/io/_io.py:132: UserWarning: /home/ubuntu/source/mike_fork/diff_classifier/notebooks/development/OGD_0_5h_slice_3_striatum_vid_1_0_1.tif is a low contrast image\n",
      "  warn('%s is a low contrast image' % fname)\n",
      "/home/ubuntu/miniconda3/lib/python3.6/site-packages/skimage/io/_io.py:132: UserWarning: /home/ubuntu/source/mike_fork/diff_classifier/notebooks/development/OGD_0_5h_slice_3_striatum_vid_1_0_2.tif is a low contrast image\n",
      "  warn('%s is a low contrast image' % fname)\n",
      "/home/ubuntu/miniconda3/lib/python3.6/site-packages/skimage/io/_io.py:132: UserWarning: /home/ubuntu/source/mike_fork/diff_classifier/notebooks/development/OGD_0_5h_slice_3_striatum_vid_1_0_3.tif is a low contrast image\n",
      "  warn('%s is a low contrast image' % fname)\n",
      "/home/ubuntu/miniconda3/lib/python3.6/site-packages/skimage/io/_io.py:132: UserWarning: /home/ubuntu/source/mike_fork/diff_classifier/notebooks/development/OGD_0_5h_slice_3_striatum_vid_1_1_0.tif is a low contrast image\n",
      "  warn('%s is a low contrast image' % fname)\n",
      "/home/ubuntu/miniconda3/lib/python3.6/site-packages/skimage/io/_io.py:132: UserWarning: /home/ubuntu/source/mike_fork/diff_classifier/notebooks/development/OGD_0_5h_slice_3_striatum_vid_1_1_1.tif is a low contrast image\n",
      "  warn('%s is a low contrast image' % fname)\n",
      "/home/ubuntu/miniconda3/lib/python3.6/site-packages/skimage/io/_io.py:132: UserWarning: /home/ubuntu/source/mike_fork/diff_classifier/notebooks/development/OGD_0_5h_slice_3_striatum_vid_1_1_2.tif is a low contrast image\n",
      "  warn('%s is a low contrast image' % fname)\n",
      "/home/ubuntu/miniconda3/lib/python3.6/site-packages/skimage/io/_io.py:132: UserWarning: /home/ubuntu/source/mike_fork/diff_classifier/notebooks/development/OGD_0_5h_slice_3_striatum_vid_1_1_3.tif is a low contrast image\n",
      "  warn('%s is a low contrast image' % fname)\n",
      "/home/ubuntu/miniconda3/lib/python3.6/site-packages/skimage/io/_io.py:132: UserWarning: /home/ubuntu/source/mike_fork/diff_classifier/notebooks/development/OGD_0_5h_slice_3_striatum_vid_1_2_0.tif is a low contrast image\n",
      "  warn('%s is a low contrast image' % fname)\n",
      "/home/ubuntu/miniconda3/lib/python3.6/site-packages/skimage/io/_io.py:132: UserWarning: /home/ubuntu/source/mike_fork/diff_classifier/notebooks/development/OGD_0_5h_slice_3_striatum_vid_1_2_1.tif is a low contrast image\n",
      "  warn('%s is a low contrast image' % fname)\n",
      "/home/ubuntu/miniconda3/lib/python3.6/site-packages/skimage/io/_io.py:132: UserWarning: /home/ubuntu/source/mike_fork/diff_classifier/notebooks/development/OGD_0_5h_slice_3_striatum_vid_1_2_2.tif is a low contrast image\n",
      "  warn('%s is a low contrast image' % fname)\n",
      "/home/ubuntu/miniconda3/lib/python3.6/site-packages/skimage/io/_io.py:132: UserWarning: /home/ubuntu/source/mike_fork/diff_classifier/notebooks/development/OGD_0_5h_slice_3_striatum_vid_1_2_3.tif is a low contrast image\n",
      "  warn('%s is a low contrast image' % fname)\n",
      "/home/ubuntu/miniconda3/lib/python3.6/site-packages/skimage/io/_io.py:132: UserWarning: /home/ubuntu/source/mike_fork/diff_classifier/notebooks/development/OGD_0_5h_slice_3_striatum_vid_1_3_0.tif is a low contrast image\n",
      "  warn('%s is a low contrast image' % fname)\n",
      "/home/ubuntu/miniconda3/lib/python3.6/site-packages/skimage/io/_io.py:132: UserWarning: /home/ubuntu/source/mike_fork/diff_classifier/notebooks/development/OGD_0_5h_slice_3_striatum_vid_1_3_1.tif is a low contrast image\n",
      "  warn('%s is a low contrast image' % fname)\n",
      "/home/ubuntu/miniconda3/lib/python3.6/site-packages/skimage/io/_io.py:132: UserWarning: /home/ubuntu/source/mike_fork/diff_classifier/notebooks/development/OGD_0_5h_slice_3_striatum_vid_1_3_2.tif is a low contrast image\n",
      "  warn('%s is a low contrast image' % fname)\n",
      "/home/ubuntu/miniconda3/lib/python3.6/site-packages/skimage/io/_io.py:132: UserWarning: /home/ubuntu/source/mike_fork/diff_classifier/notebooks/development/OGD_0_5h_slice_3_striatum_vid_1_3_3.tif is a low contrast image\n",
      "  warn('%s is a low contrast image' % fname)\n"
     ]
    },
    {
     "name": "stdout",
     "output_type": "stream",
     "text": [
      "Done with splitting. Should output file of name 03_06_20_OGD_Severity_MPT/OGD_0_5h_slice_3_striatum_vid_1_0_0.tif\n",
      "Done with splitting. Should output file of name 03_06_20_OGD_Severity_MPT/OGD_0_5h_slice_3_striatum_vid_1_0_1.tif\n",
      "Done with splitting. Should output file of name 03_06_20_OGD_Severity_MPT/OGD_0_5h_slice_3_striatum_vid_1_0_2.tif\n",
      "Done with splitting. Should output file of name 03_06_20_OGD_Severity_MPT/OGD_0_5h_slice_3_striatum_vid_1_0_3.tif\n",
      "Done with splitting. Should output file of name 03_06_20_OGD_Severity_MPT/OGD_0_5h_slice_3_striatum_vid_1_1_0.tif\n",
      "Done with splitting. Should output file of name 03_06_20_OGD_Severity_MPT/OGD_0_5h_slice_3_striatum_vid_1_1_1.tif\n",
      "Done with splitting. Should output file of name 03_06_20_OGD_Severity_MPT/OGD_0_5h_slice_3_striatum_vid_1_1_2.tif\n",
      "Done with splitting. Should output file of name 03_06_20_OGD_Severity_MPT/OGD_0_5h_slice_3_striatum_vid_1_1_3.tif\n",
      "Done with splitting. Should output file of name 03_06_20_OGD_Severity_MPT/OGD_0_5h_slice_3_striatum_vid_1_2_0.tif\n",
      "Done with splitting. Should output file of name 03_06_20_OGD_Severity_MPT/OGD_0_5h_slice_3_striatum_vid_1_2_1.tif\n",
      "Done with splitting. Should output file of name 03_06_20_OGD_Severity_MPT/OGD_0_5h_slice_3_striatum_vid_1_2_2.tif\n",
      "Done with splitting. Should output file of name 03_06_20_OGD_Severity_MPT/OGD_0_5h_slice_3_striatum_vid_1_2_3.tif\n",
      "Done with splitting. Should output file of name 03_06_20_OGD_Severity_MPT/OGD_0_5h_slice_3_striatum_vid_1_3_0.tif\n",
      "Done with splitting. Should output file of name 03_06_20_OGD_Severity_MPT/OGD_0_5h_slice_3_striatum_vid_1_3_1.tif\n",
      "Done with splitting. Should output file of name 03_06_20_OGD_Severity_MPT/OGD_0_5h_slice_3_striatum_vid_1_3_2.tif\n",
      "Done with splitting. Should output file of name 03_06_20_OGD_Severity_MPT/OGD_0_5h_slice_3_striatum_vid_1_3_3.tif\n"
     ]
    },
    {
     "name": "stderr",
     "output_type": "stream",
     "text": [
      "/home/ubuntu/miniconda3/lib/python3.6/site-packages/skimage/io/_io.py:132: UserWarning: /home/ubuntu/source/mike_fork/diff_classifier/notebooks/development/OGD_0_5h_slice_3_striatum_vid_2_0_0.tif is a low contrast image\n",
      "  warn('%s is a low contrast image' % fname)\n",
      "/home/ubuntu/miniconda3/lib/python3.6/site-packages/skimage/io/_io.py:132: UserWarning: /home/ubuntu/source/mike_fork/diff_classifier/notebooks/development/OGD_0_5h_slice_3_striatum_vid_2_0_1.tif is a low contrast image\n",
      "  warn('%s is a low contrast image' % fname)\n",
      "/home/ubuntu/miniconda3/lib/python3.6/site-packages/skimage/io/_io.py:132: UserWarning: /home/ubuntu/source/mike_fork/diff_classifier/notebooks/development/OGD_0_5h_slice_3_striatum_vid_2_0_2.tif is a low contrast image\n",
      "  warn('%s is a low contrast image' % fname)\n",
      "/home/ubuntu/miniconda3/lib/python3.6/site-packages/skimage/io/_io.py:132: UserWarning: /home/ubuntu/source/mike_fork/diff_classifier/notebooks/development/OGD_0_5h_slice_3_striatum_vid_2_0_3.tif is a low contrast image\n",
      "  warn('%s is a low contrast image' % fname)\n",
      "/home/ubuntu/miniconda3/lib/python3.6/site-packages/skimage/io/_io.py:132: UserWarning: /home/ubuntu/source/mike_fork/diff_classifier/notebooks/development/OGD_0_5h_slice_3_striatum_vid_2_1_0.tif is a low contrast image\n",
      "  warn('%s is a low contrast image' % fname)\n",
      "/home/ubuntu/miniconda3/lib/python3.6/site-packages/skimage/io/_io.py:132: UserWarning: /home/ubuntu/source/mike_fork/diff_classifier/notebooks/development/OGD_0_5h_slice_3_striatum_vid_2_1_1.tif is a low contrast image\n",
      "  warn('%s is a low contrast image' % fname)\n",
      "/home/ubuntu/miniconda3/lib/python3.6/site-packages/skimage/io/_io.py:132: UserWarning: /home/ubuntu/source/mike_fork/diff_classifier/notebooks/development/OGD_0_5h_slice_3_striatum_vid_2_1_2.tif is a low contrast image\n",
      "  warn('%s is a low contrast image' % fname)\n",
      "/home/ubuntu/miniconda3/lib/python3.6/site-packages/skimage/io/_io.py:132: UserWarning: /home/ubuntu/source/mike_fork/diff_classifier/notebooks/development/OGD_0_5h_slice_3_striatum_vid_2_1_3.tif is a low contrast image\n",
      "  warn('%s is a low contrast image' % fname)\n",
      "/home/ubuntu/miniconda3/lib/python3.6/site-packages/skimage/io/_io.py:132: UserWarning: /home/ubuntu/source/mike_fork/diff_classifier/notebooks/development/OGD_0_5h_slice_3_striatum_vid_2_2_0.tif is a low contrast image\n",
      "  warn('%s is a low contrast image' % fname)\n",
      "/home/ubuntu/miniconda3/lib/python3.6/site-packages/skimage/io/_io.py:132: UserWarning: /home/ubuntu/source/mike_fork/diff_classifier/notebooks/development/OGD_0_5h_slice_3_striatum_vid_2_2_1.tif is a low contrast image\n",
      "  warn('%s is a low contrast image' % fname)\n",
      "/home/ubuntu/miniconda3/lib/python3.6/site-packages/skimage/io/_io.py:132: UserWarning: /home/ubuntu/source/mike_fork/diff_classifier/notebooks/development/OGD_0_5h_slice_3_striatum_vid_2_2_2.tif is a low contrast image\n",
      "  warn('%s is a low contrast image' % fname)\n",
      "/home/ubuntu/miniconda3/lib/python3.6/site-packages/skimage/io/_io.py:132: UserWarning: /home/ubuntu/source/mike_fork/diff_classifier/notebooks/development/OGD_0_5h_slice_3_striatum_vid_2_2_3.tif is a low contrast image\n",
      "  warn('%s is a low contrast image' % fname)\n",
      "/home/ubuntu/miniconda3/lib/python3.6/site-packages/skimage/io/_io.py:132: UserWarning: /home/ubuntu/source/mike_fork/diff_classifier/notebooks/development/OGD_0_5h_slice_3_striatum_vid_2_3_0.tif is a low contrast image\n",
      "  warn('%s is a low contrast image' % fname)\n",
      "/home/ubuntu/miniconda3/lib/python3.6/site-packages/skimage/io/_io.py:132: UserWarning: /home/ubuntu/source/mike_fork/diff_classifier/notebooks/development/OGD_0_5h_slice_3_striatum_vid_2_3_1.tif is a low contrast image\n",
      "  warn('%s is a low contrast image' % fname)\n",
      "/home/ubuntu/miniconda3/lib/python3.6/site-packages/skimage/io/_io.py:132: UserWarning: /home/ubuntu/source/mike_fork/diff_classifier/notebooks/development/OGD_0_5h_slice_3_striatum_vid_2_3_2.tif is a low contrast image\n",
      "  warn('%s is a low contrast image' % fname)\n",
      "/home/ubuntu/miniconda3/lib/python3.6/site-packages/skimage/io/_io.py:132: UserWarning: /home/ubuntu/source/mike_fork/diff_classifier/notebooks/development/OGD_0_5h_slice_3_striatum_vid_2_3_3.tif is a low contrast image\n",
      "  warn('%s is a low contrast image' % fname)\n"
     ]
    },
    {
     "name": "stdout",
     "output_type": "stream",
     "text": [
      "Done with splitting. Should output file of name 03_06_20_OGD_Severity_MPT/OGD_0_5h_slice_3_striatum_vid_2_0_0.tif\n",
      "Done with splitting. Should output file of name 03_06_20_OGD_Severity_MPT/OGD_0_5h_slice_3_striatum_vid_2_0_1.tif\n",
      "Done with splitting. Should output file of name 03_06_20_OGD_Severity_MPT/OGD_0_5h_slice_3_striatum_vid_2_0_2.tif\n",
      "Done with splitting. Should output file of name 03_06_20_OGD_Severity_MPT/OGD_0_5h_slice_3_striatum_vid_2_0_3.tif\n",
      "Done with splitting. Should output file of name 03_06_20_OGD_Severity_MPT/OGD_0_5h_slice_3_striatum_vid_2_1_0.tif\n",
      "Done with splitting. Should output file of name 03_06_20_OGD_Severity_MPT/OGD_0_5h_slice_3_striatum_vid_2_1_1.tif\n",
      "Done with splitting. Should output file of name 03_06_20_OGD_Severity_MPT/OGD_0_5h_slice_3_striatum_vid_2_1_2.tif\n",
      "Done with splitting. Should output file of name 03_06_20_OGD_Severity_MPT/OGD_0_5h_slice_3_striatum_vid_2_1_3.tif\n",
      "Done with splitting. Should output file of name 03_06_20_OGD_Severity_MPT/OGD_0_5h_slice_3_striatum_vid_2_2_0.tif\n",
      "Done with splitting. Should output file of name 03_06_20_OGD_Severity_MPT/OGD_0_5h_slice_3_striatum_vid_2_2_1.tif\n",
      "Done with splitting. Should output file of name 03_06_20_OGD_Severity_MPT/OGD_0_5h_slice_3_striatum_vid_2_2_2.tif\n",
      "Done with splitting. Should output file of name 03_06_20_OGD_Severity_MPT/OGD_0_5h_slice_3_striatum_vid_2_2_3.tif\n",
      "Done with splitting. Should output file of name 03_06_20_OGD_Severity_MPT/OGD_0_5h_slice_3_striatum_vid_2_3_0.tif\n",
      "Done with splitting. Should output file of name 03_06_20_OGD_Severity_MPT/OGD_0_5h_slice_3_striatum_vid_2_3_1.tif\n",
      "Done with splitting. Should output file of name 03_06_20_OGD_Severity_MPT/OGD_0_5h_slice_3_striatum_vid_2_3_2.tif\n",
      "Done with splitting. Should output file of name 03_06_20_OGD_Severity_MPT/OGD_0_5h_slice_3_striatum_vid_2_3_3.tif\n"
     ]
    },
    {
     "name": "stderr",
     "output_type": "stream",
     "text": [
      "/home/ubuntu/miniconda3/lib/python3.6/site-packages/skimage/io/_io.py:132: UserWarning: /home/ubuntu/source/mike_fork/diff_classifier/notebooks/development/OGD_0_5h_slice_3_striatum_vid_3_0_0.tif is a low contrast image\n",
      "  warn('%s is a low contrast image' % fname)\n",
      "/home/ubuntu/miniconda3/lib/python3.6/site-packages/skimage/io/_io.py:132: UserWarning: /home/ubuntu/source/mike_fork/diff_classifier/notebooks/development/OGD_0_5h_slice_3_striatum_vid_3_0_1.tif is a low contrast image\n",
      "  warn('%s is a low contrast image' % fname)\n",
      "/home/ubuntu/miniconda3/lib/python3.6/site-packages/skimage/io/_io.py:132: UserWarning: /home/ubuntu/source/mike_fork/diff_classifier/notebooks/development/OGD_0_5h_slice_3_striatum_vid_3_0_2.tif is a low contrast image\n",
      "  warn('%s is a low contrast image' % fname)\n",
      "/home/ubuntu/miniconda3/lib/python3.6/site-packages/skimage/io/_io.py:132: UserWarning: /home/ubuntu/source/mike_fork/diff_classifier/notebooks/development/OGD_0_5h_slice_3_striatum_vid_3_0_3.tif is a low contrast image\n",
      "  warn('%s is a low contrast image' % fname)\n",
      "/home/ubuntu/miniconda3/lib/python3.6/site-packages/skimage/io/_io.py:132: UserWarning: /home/ubuntu/source/mike_fork/diff_classifier/notebooks/development/OGD_0_5h_slice_3_striatum_vid_3_1_0.tif is a low contrast image\n",
      "  warn('%s is a low contrast image' % fname)\n",
      "/home/ubuntu/miniconda3/lib/python3.6/site-packages/skimage/io/_io.py:132: UserWarning: /home/ubuntu/source/mike_fork/diff_classifier/notebooks/development/OGD_0_5h_slice_3_striatum_vid_3_1_1.tif is a low contrast image\n",
      "  warn('%s is a low contrast image' % fname)\n",
      "/home/ubuntu/miniconda3/lib/python3.6/site-packages/skimage/io/_io.py:132: UserWarning: /home/ubuntu/source/mike_fork/diff_classifier/notebooks/development/OGD_0_5h_slice_3_striatum_vid_3_1_2.tif is a low contrast image\n",
      "  warn('%s is a low contrast image' % fname)\n",
      "/home/ubuntu/miniconda3/lib/python3.6/site-packages/skimage/io/_io.py:132: UserWarning: /home/ubuntu/source/mike_fork/diff_classifier/notebooks/development/OGD_0_5h_slice_3_striatum_vid_3_1_3.tif is a low contrast image\n",
      "  warn('%s is a low contrast image' % fname)\n",
      "/home/ubuntu/miniconda3/lib/python3.6/site-packages/skimage/io/_io.py:132: UserWarning: /home/ubuntu/source/mike_fork/diff_classifier/notebooks/development/OGD_0_5h_slice_3_striatum_vid_3_2_0.tif is a low contrast image\n",
      "  warn('%s is a low contrast image' % fname)\n",
      "/home/ubuntu/miniconda3/lib/python3.6/site-packages/skimage/io/_io.py:132: UserWarning: /home/ubuntu/source/mike_fork/diff_classifier/notebooks/development/OGD_0_5h_slice_3_striatum_vid_3_2_1.tif is a low contrast image\n",
      "  warn('%s is a low contrast image' % fname)\n",
      "/home/ubuntu/miniconda3/lib/python3.6/site-packages/skimage/io/_io.py:132: UserWarning: /home/ubuntu/source/mike_fork/diff_classifier/notebooks/development/OGD_0_5h_slice_3_striatum_vid_3_2_2.tif is a low contrast image\n",
      "  warn('%s is a low contrast image' % fname)\n",
      "/home/ubuntu/miniconda3/lib/python3.6/site-packages/skimage/io/_io.py:132: UserWarning: /home/ubuntu/source/mike_fork/diff_classifier/notebooks/development/OGD_0_5h_slice_3_striatum_vid_3_2_3.tif is a low contrast image\n",
      "  warn('%s is a low contrast image' % fname)\n",
      "/home/ubuntu/miniconda3/lib/python3.6/site-packages/skimage/io/_io.py:132: UserWarning: /home/ubuntu/source/mike_fork/diff_classifier/notebooks/development/OGD_0_5h_slice_3_striatum_vid_3_3_0.tif is a low contrast image\n",
      "  warn('%s is a low contrast image' % fname)\n",
      "/home/ubuntu/miniconda3/lib/python3.6/site-packages/skimage/io/_io.py:132: UserWarning: /home/ubuntu/source/mike_fork/diff_classifier/notebooks/development/OGD_0_5h_slice_3_striatum_vid_3_3_1.tif is a low contrast image\n",
      "  warn('%s is a low contrast image' % fname)\n",
      "/home/ubuntu/miniconda3/lib/python3.6/site-packages/skimage/io/_io.py:132: UserWarning: /home/ubuntu/source/mike_fork/diff_classifier/notebooks/development/OGD_0_5h_slice_3_striatum_vid_3_3_2.tif is a low contrast image\n",
      "  warn('%s is a low contrast image' % fname)\n",
      "/home/ubuntu/miniconda3/lib/python3.6/site-packages/skimage/io/_io.py:132: UserWarning: /home/ubuntu/source/mike_fork/diff_classifier/notebooks/development/OGD_0_5h_slice_3_striatum_vid_3_3_3.tif is a low contrast image\n",
      "  warn('%s is a low contrast image' % fname)\n"
     ]
    },
    {
     "name": "stdout",
     "output_type": "stream",
     "text": [
      "Done with splitting. Should output file of name 03_06_20_OGD_Severity_MPT/OGD_0_5h_slice_3_striatum_vid_3_0_0.tif\n",
      "Done with splitting. Should output file of name 03_06_20_OGD_Severity_MPT/OGD_0_5h_slice_3_striatum_vid_3_0_1.tif\n",
      "Done with splitting. Should output file of name 03_06_20_OGD_Severity_MPT/OGD_0_5h_slice_3_striatum_vid_3_0_2.tif\n",
      "Done with splitting. Should output file of name 03_06_20_OGD_Severity_MPT/OGD_0_5h_slice_3_striatum_vid_3_0_3.tif\n",
      "Done with splitting. Should output file of name 03_06_20_OGD_Severity_MPT/OGD_0_5h_slice_3_striatum_vid_3_1_0.tif\n",
      "Done with splitting. Should output file of name 03_06_20_OGD_Severity_MPT/OGD_0_5h_slice_3_striatum_vid_3_1_1.tif\n",
      "Done with splitting. Should output file of name 03_06_20_OGD_Severity_MPT/OGD_0_5h_slice_3_striatum_vid_3_1_2.tif\n",
      "Done with splitting. Should output file of name 03_06_20_OGD_Severity_MPT/OGD_0_5h_slice_3_striatum_vid_3_1_3.tif\n",
      "Done with splitting. Should output file of name 03_06_20_OGD_Severity_MPT/OGD_0_5h_slice_3_striatum_vid_3_2_0.tif\n",
      "Done with splitting. Should output file of name 03_06_20_OGD_Severity_MPT/OGD_0_5h_slice_3_striatum_vid_3_2_1.tif\n",
      "Done with splitting. Should output file of name 03_06_20_OGD_Severity_MPT/OGD_0_5h_slice_3_striatum_vid_3_2_2.tif\n",
      "Done with splitting. Should output file of name 03_06_20_OGD_Severity_MPT/OGD_0_5h_slice_3_striatum_vid_3_2_3.tif\n",
      "Done with splitting. Should output file of name 03_06_20_OGD_Severity_MPT/OGD_0_5h_slice_3_striatum_vid_3_3_0.tif\n",
      "Done with splitting. Should output file of name 03_06_20_OGD_Severity_MPT/OGD_0_5h_slice_3_striatum_vid_3_3_1.tif\n",
      "Done with splitting. Should output file of name 03_06_20_OGD_Severity_MPT/OGD_0_5h_slice_3_striatum_vid_3_3_2.tif\n",
      "Done with splitting. Should output file of name 03_06_20_OGD_Severity_MPT/OGD_0_5h_slice_3_striatum_vid_3_3_3.tif\n"
     ]
    },
    {
     "name": "stderr",
     "output_type": "stream",
     "text": [
      "/home/ubuntu/miniconda3/lib/python3.6/site-packages/skimage/io/_io.py:132: UserWarning: /home/ubuntu/source/mike_fork/diff_classifier/notebooks/development/OGD_0_5h_slice_3_striatum_vid_4_0_0.tif is a low contrast image\n",
      "  warn('%s is a low contrast image' % fname)\n",
      "/home/ubuntu/miniconda3/lib/python3.6/site-packages/skimage/io/_io.py:132: UserWarning: /home/ubuntu/source/mike_fork/diff_classifier/notebooks/development/OGD_0_5h_slice_3_striatum_vid_4_0_1.tif is a low contrast image\n",
      "  warn('%s is a low contrast image' % fname)\n",
      "/home/ubuntu/miniconda3/lib/python3.6/site-packages/skimage/io/_io.py:132: UserWarning: /home/ubuntu/source/mike_fork/diff_classifier/notebooks/development/OGD_0_5h_slice_3_striatum_vid_4_0_2.tif is a low contrast image\n",
      "  warn('%s is a low contrast image' % fname)\n",
      "/home/ubuntu/miniconda3/lib/python3.6/site-packages/skimage/io/_io.py:132: UserWarning: /home/ubuntu/source/mike_fork/diff_classifier/notebooks/development/OGD_0_5h_slice_3_striatum_vid_4_0_3.tif is a low contrast image\n",
      "  warn('%s is a low contrast image' % fname)\n",
      "/home/ubuntu/miniconda3/lib/python3.6/site-packages/skimage/io/_io.py:132: UserWarning: /home/ubuntu/source/mike_fork/diff_classifier/notebooks/development/OGD_0_5h_slice_3_striatum_vid_4_1_0.tif is a low contrast image\n",
      "  warn('%s is a low contrast image' % fname)\n",
      "/home/ubuntu/miniconda3/lib/python3.6/site-packages/skimage/io/_io.py:132: UserWarning: /home/ubuntu/source/mike_fork/diff_classifier/notebooks/development/OGD_0_5h_slice_3_striatum_vid_4_1_1.tif is a low contrast image\n",
      "  warn('%s is a low contrast image' % fname)\n",
      "/home/ubuntu/miniconda3/lib/python3.6/site-packages/skimage/io/_io.py:132: UserWarning: /home/ubuntu/source/mike_fork/diff_classifier/notebooks/development/OGD_0_5h_slice_3_striatum_vid_4_1_2.tif is a low contrast image\n",
      "  warn('%s is a low contrast image' % fname)\n",
      "/home/ubuntu/miniconda3/lib/python3.6/site-packages/skimage/io/_io.py:132: UserWarning: /home/ubuntu/source/mike_fork/diff_classifier/notebooks/development/OGD_0_5h_slice_3_striatum_vid_4_1_3.tif is a low contrast image\n",
      "  warn('%s is a low contrast image' % fname)\n",
      "/home/ubuntu/miniconda3/lib/python3.6/site-packages/skimage/io/_io.py:132: UserWarning: /home/ubuntu/source/mike_fork/diff_classifier/notebooks/development/OGD_0_5h_slice_3_striatum_vid_4_2_0.tif is a low contrast image\n",
      "  warn('%s is a low contrast image' % fname)\n",
      "/home/ubuntu/miniconda3/lib/python3.6/site-packages/skimage/io/_io.py:132: UserWarning: /home/ubuntu/source/mike_fork/diff_classifier/notebooks/development/OGD_0_5h_slice_3_striatum_vid_4_2_1.tif is a low contrast image\n",
      "  warn('%s is a low contrast image' % fname)\n",
      "/home/ubuntu/miniconda3/lib/python3.6/site-packages/skimage/io/_io.py:132: UserWarning: /home/ubuntu/source/mike_fork/diff_classifier/notebooks/development/OGD_0_5h_slice_3_striatum_vid_4_2_2.tif is a low contrast image\n",
      "  warn('%s is a low contrast image' % fname)\n",
      "/home/ubuntu/miniconda3/lib/python3.6/site-packages/skimage/io/_io.py:132: UserWarning: /home/ubuntu/source/mike_fork/diff_classifier/notebooks/development/OGD_0_5h_slice_3_striatum_vid_4_2_3.tif is a low contrast image\n",
      "  warn('%s is a low contrast image' % fname)\n",
      "/home/ubuntu/miniconda3/lib/python3.6/site-packages/skimage/io/_io.py:132: UserWarning: /home/ubuntu/source/mike_fork/diff_classifier/notebooks/development/OGD_0_5h_slice_3_striatum_vid_4_3_0.tif is a low contrast image\n",
      "  warn('%s is a low contrast image' % fname)\n",
      "/home/ubuntu/miniconda3/lib/python3.6/site-packages/skimage/io/_io.py:132: UserWarning: /home/ubuntu/source/mike_fork/diff_classifier/notebooks/development/OGD_0_5h_slice_3_striatum_vid_4_3_1.tif is a low contrast image\n",
      "  warn('%s is a low contrast image' % fname)\n",
      "/home/ubuntu/miniconda3/lib/python3.6/site-packages/skimage/io/_io.py:132: UserWarning: /home/ubuntu/source/mike_fork/diff_classifier/notebooks/development/OGD_0_5h_slice_3_striatum_vid_4_3_2.tif is a low contrast image\n",
      "  warn('%s is a low contrast image' % fname)\n",
      "/home/ubuntu/miniconda3/lib/python3.6/site-packages/skimage/io/_io.py:132: UserWarning: /home/ubuntu/source/mike_fork/diff_classifier/notebooks/development/OGD_0_5h_slice_3_striatum_vid_4_3_3.tif is a low contrast image\n",
      "  warn('%s is a low contrast image' % fname)\n"
     ]
    },
    {
     "name": "stdout",
     "output_type": "stream",
     "text": [
      "Done with splitting. Should output file of name 03_06_20_OGD_Severity_MPT/OGD_0_5h_slice_3_striatum_vid_4_0_0.tif\n",
      "Done with splitting. Should output file of name 03_06_20_OGD_Severity_MPT/OGD_0_5h_slice_3_striatum_vid_4_0_1.tif\n",
      "Done with splitting. Should output file of name 03_06_20_OGD_Severity_MPT/OGD_0_5h_slice_3_striatum_vid_4_0_2.tif\n",
      "Done with splitting. Should output file of name 03_06_20_OGD_Severity_MPT/OGD_0_5h_slice_3_striatum_vid_4_0_3.tif\n",
      "Done with splitting. Should output file of name 03_06_20_OGD_Severity_MPT/OGD_0_5h_slice_3_striatum_vid_4_1_0.tif\n",
      "Done with splitting. Should output file of name 03_06_20_OGD_Severity_MPT/OGD_0_5h_slice_3_striatum_vid_4_1_1.tif\n",
      "Done with splitting. Should output file of name 03_06_20_OGD_Severity_MPT/OGD_0_5h_slice_3_striatum_vid_4_1_2.tif\n",
      "Done with splitting. Should output file of name 03_06_20_OGD_Severity_MPT/OGD_0_5h_slice_3_striatum_vid_4_1_3.tif\n",
      "Done with splitting. Should output file of name 03_06_20_OGD_Severity_MPT/OGD_0_5h_slice_3_striatum_vid_4_2_0.tif\n",
      "Done with splitting. Should output file of name 03_06_20_OGD_Severity_MPT/OGD_0_5h_slice_3_striatum_vid_4_2_1.tif\n",
      "Done with splitting. Should output file of name 03_06_20_OGD_Severity_MPT/OGD_0_5h_slice_3_striatum_vid_4_2_2.tif\n",
      "Done with splitting. Should output file of name 03_06_20_OGD_Severity_MPT/OGD_0_5h_slice_3_striatum_vid_4_2_3.tif\n",
      "Done with splitting. Should output file of name 03_06_20_OGD_Severity_MPT/OGD_0_5h_slice_3_striatum_vid_4_3_0.tif\n",
      "Done with splitting. Should output file of name 03_06_20_OGD_Severity_MPT/OGD_0_5h_slice_3_striatum_vid_4_3_1.tif\n",
      "Done with splitting. Should output file of name 03_06_20_OGD_Severity_MPT/OGD_0_5h_slice_3_striatum_vid_4_3_2.tif\n",
      "Done with splitting. Should output file of name 03_06_20_OGD_Severity_MPT/OGD_0_5h_slice_3_striatum_vid_4_3_3.tif\n"
     ]
    },
    {
     "name": "stderr",
     "output_type": "stream",
     "text": [
      "/home/ubuntu/miniconda3/lib/python3.6/site-packages/skimage/io/_io.py:132: UserWarning: /home/ubuntu/source/mike_fork/diff_classifier/notebooks/development/OGD_0_5h_slice_3_striatum_vid_5_0_0.tif is a low contrast image\n",
      "  warn('%s is a low contrast image' % fname)\n",
      "/home/ubuntu/miniconda3/lib/python3.6/site-packages/skimage/io/_io.py:132: UserWarning: /home/ubuntu/source/mike_fork/diff_classifier/notebooks/development/OGD_0_5h_slice_3_striatum_vid_5_0_1.tif is a low contrast image\n",
      "  warn('%s is a low contrast image' % fname)\n",
      "/home/ubuntu/miniconda3/lib/python3.6/site-packages/skimage/io/_io.py:132: UserWarning: /home/ubuntu/source/mike_fork/diff_classifier/notebooks/development/OGD_0_5h_slice_3_striatum_vid_5_0_2.tif is a low contrast image\n",
      "  warn('%s is a low contrast image' % fname)\n",
      "/home/ubuntu/miniconda3/lib/python3.6/site-packages/skimage/io/_io.py:132: UserWarning: /home/ubuntu/source/mike_fork/diff_classifier/notebooks/development/OGD_0_5h_slice_3_striatum_vid_5_0_3.tif is a low contrast image\n",
      "  warn('%s is a low contrast image' % fname)\n",
      "/home/ubuntu/miniconda3/lib/python3.6/site-packages/skimage/io/_io.py:132: UserWarning: /home/ubuntu/source/mike_fork/diff_classifier/notebooks/development/OGD_0_5h_slice_3_striatum_vid_5_1_0.tif is a low contrast image\n",
      "  warn('%s is a low contrast image' % fname)\n",
      "/home/ubuntu/miniconda3/lib/python3.6/site-packages/skimage/io/_io.py:132: UserWarning: /home/ubuntu/source/mike_fork/diff_classifier/notebooks/development/OGD_0_5h_slice_3_striatum_vid_5_1_1.tif is a low contrast image\n",
      "  warn('%s is a low contrast image' % fname)\n",
      "/home/ubuntu/miniconda3/lib/python3.6/site-packages/skimage/io/_io.py:132: UserWarning: /home/ubuntu/source/mike_fork/diff_classifier/notebooks/development/OGD_0_5h_slice_3_striatum_vid_5_1_2.tif is a low contrast image\n",
      "  warn('%s is a low contrast image' % fname)\n",
      "/home/ubuntu/miniconda3/lib/python3.6/site-packages/skimage/io/_io.py:132: UserWarning: /home/ubuntu/source/mike_fork/diff_classifier/notebooks/development/OGD_0_5h_slice_3_striatum_vid_5_1_3.tif is a low contrast image\n",
      "  warn('%s is a low contrast image' % fname)\n",
      "/home/ubuntu/miniconda3/lib/python3.6/site-packages/skimage/io/_io.py:132: UserWarning: /home/ubuntu/source/mike_fork/diff_classifier/notebooks/development/OGD_0_5h_slice_3_striatum_vid_5_2_0.tif is a low contrast image\n",
      "  warn('%s is a low contrast image' % fname)\n",
      "/home/ubuntu/miniconda3/lib/python3.6/site-packages/skimage/io/_io.py:132: UserWarning: /home/ubuntu/source/mike_fork/diff_classifier/notebooks/development/OGD_0_5h_slice_3_striatum_vid_5_2_1.tif is a low contrast image\n",
      "  warn('%s is a low contrast image' % fname)\n",
      "/home/ubuntu/miniconda3/lib/python3.6/site-packages/skimage/io/_io.py:132: UserWarning: /home/ubuntu/source/mike_fork/diff_classifier/notebooks/development/OGD_0_5h_slice_3_striatum_vid_5_2_2.tif is a low contrast image\n",
      "  warn('%s is a low contrast image' % fname)\n",
      "/home/ubuntu/miniconda3/lib/python3.6/site-packages/skimage/io/_io.py:132: UserWarning: /home/ubuntu/source/mike_fork/diff_classifier/notebooks/development/OGD_0_5h_slice_3_striatum_vid_5_2_3.tif is a low contrast image\n",
      "  warn('%s is a low contrast image' % fname)\n",
      "/home/ubuntu/miniconda3/lib/python3.6/site-packages/skimage/io/_io.py:132: UserWarning: /home/ubuntu/source/mike_fork/diff_classifier/notebooks/development/OGD_0_5h_slice_3_striatum_vid_5_3_0.tif is a low contrast image\n",
      "  warn('%s is a low contrast image' % fname)\n",
      "/home/ubuntu/miniconda3/lib/python3.6/site-packages/skimage/io/_io.py:132: UserWarning: /home/ubuntu/source/mike_fork/diff_classifier/notebooks/development/OGD_0_5h_slice_3_striatum_vid_5_3_1.tif is a low contrast image\n",
      "  warn('%s is a low contrast image' % fname)\n",
      "/home/ubuntu/miniconda3/lib/python3.6/site-packages/skimage/io/_io.py:132: UserWarning: /home/ubuntu/source/mike_fork/diff_classifier/notebooks/development/OGD_0_5h_slice_3_striatum_vid_5_3_2.tif is a low contrast image\n",
      "  warn('%s is a low contrast image' % fname)\n",
      "/home/ubuntu/miniconda3/lib/python3.6/site-packages/skimage/io/_io.py:132: UserWarning: /home/ubuntu/source/mike_fork/diff_classifier/notebooks/development/OGD_0_5h_slice_3_striatum_vid_5_3_3.tif is a low contrast image\n",
      "  warn('%s is a low contrast image' % fname)\n"
     ]
    },
    {
     "name": "stdout",
     "output_type": "stream",
     "text": [
      "Done with splitting. Should output file of name 03_06_20_OGD_Severity_MPT/OGD_0_5h_slice_3_striatum_vid_5_0_0.tif\n",
      "Done with splitting. Should output file of name 03_06_20_OGD_Severity_MPT/OGD_0_5h_slice_3_striatum_vid_5_0_1.tif\n",
      "Done with splitting. Should output file of name 03_06_20_OGD_Severity_MPT/OGD_0_5h_slice_3_striatum_vid_5_0_2.tif\n",
      "Done with splitting. Should output file of name 03_06_20_OGD_Severity_MPT/OGD_0_5h_slice_3_striatum_vid_5_0_3.tif\n",
      "Done with splitting. Should output file of name 03_06_20_OGD_Severity_MPT/OGD_0_5h_slice_3_striatum_vid_5_1_0.tif\n",
      "Done with splitting. Should output file of name 03_06_20_OGD_Severity_MPT/OGD_0_5h_slice_3_striatum_vid_5_1_1.tif\n",
      "Done with splitting. Should output file of name 03_06_20_OGD_Severity_MPT/OGD_0_5h_slice_3_striatum_vid_5_1_2.tif\n",
      "Done with splitting. Should output file of name 03_06_20_OGD_Severity_MPT/OGD_0_5h_slice_3_striatum_vid_5_1_3.tif\n",
      "Done with splitting. Should output file of name 03_06_20_OGD_Severity_MPT/OGD_0_5h_slice_3_striatum_vid_5_2_0.tif\n",
      "Done with splitting. Should output file of name 03_06_20_OGD_Severity_MPT/OGD_0_5h_slice_3_striatum_vid_5_2_1.tif\n",
      "Done with splitting. Should output file of name 03_06_20_OGD_Severity_MPT/OGD_0_5h_slice_3_striatum_vid_5_2_2.tif\n",
      "Done with splitting. Should output file of name 03_06_20_OGD_Severity_MPT/OGD_0_5h_slice_3_striatum_vid_5_2_3.tif\n",
      "Done with splitting. Should output file of name 03_06_20_OGD_Severity_MPT/OGD_0_5h_slice_3_striatum_vid_5_3_0.tif\n",
      "Done with splitting. Should output file of name 03_06_20_OGD_Severity_MPT/OGD_0_5h_slice_3_striatum_vid_5_3_1.tif\n",
      "Done with splitting. Should output file of name 03_06_20_OGD_Severity_MPT/OGD_0_5h_slice_3_striatum_vid_5_3_2.tif\n",
      "Done with splitting. Should output file of name 03_06_20_OGD_Severity_MPT/OGD_0_5h_slice_3_striatum_vid_5_3_3.tif\n"
     ]
    },
    {
     "name": "stderr",
     "output_type": "stream",
     "text": [
      "/home/ubuntu/miniconda3/lib/python3.6/site-packages/skimage/io/_io.py:132: UserWarning: /home/ubuntu/source/mike_fork/diff_classifier/notebooks/development/OGD_1_5h_slice_1_cortex_vid_1_0_0.tif is a low contrast image\n",
      "  warn('%s is a low contrast image' % fname)\n",
      "/home/ubuntu/miniconda3/lib/python3.6/site-packages/skimage/io/_io.py:132: UserWarning: /home/ubuntu/source/mike_fork/diff_classifier/notebooks/development/OGD_1_5h_slice_1_cortex_vid_1_0_1.tif is a low contrast image\n",
      "  warn('%s is a low contrast image' % fname)\n",
      "/home/ubuntu/miniconda3/lib/python3.6/site-packages/skimage/io/_io.py:132: UserWarning: /home/ubuntu/source/mike_fork/diff_classifier/notebooks/development/OGD_1_5h_slice_1_cortex_vid_1_0_2.tif is a low contrast image\n",
      "  warn('%s is a low contrast image' % fname)\n",
      "/home/ubuntu/miniconda3/lib/python3.6/site-packages/skimage/io/_io.py:132: UserWarning: /home/ubuntu/source/mike_fork/diff_classifier/notebooks/development/OGD_1_5h_slice_1_cortex_vid_1_0_3.tif is a low contrast image\n",
      "  warn('%s is a low contrast image' % fname)\n",
      "/home/ubuntu/miniconda3/lib/python3.6/site-packages/skimage/io/_io.py:132: UserWarning: /home/ubuntu/source/mike_fork/diff_classifier/notebooks/development/OGD_1_5h_slice_1_cortex_vid_1_1_0.tif is a low contrast image\n",
      "  warn('%s is a low contrast image' % fname)\n",
      "/home/ubuntu/miniconda3/lib/python3.6/site-packages/skimage/io/_io.py:132: UserWarning: /home/ubuntu/source/mike_fork/diff_classifier/notebooks/development/OGD_1_5h_slice_1_cortex_vid_1_1_1.tif is a low contrast image\n",
      "  warn('%s is a low contrast image' % fname)\n",
      "/home/ubuntu/miniconda3/lib/python3.6/site-packages/skimage/io/_io.py:132: UserWarning: /home/ubuntu/source/mike_fork/diff_classifier/notebooks/development/OGD_1_5h_slice_1_cortex_vid_1_1_2.tif is a low contrast image\n",
      "  warn('%s is a low contrast image' % fname)\n",
      "/home/ubuntu/miniconda3/lib/python3.6/site-packages/skimage/io/_io.py:132: UserWarning: /home/ubuntu/source/mike_fork/diff_classifier/notebooks/development/OGD_1_5h_slice_1_cortex_vid_1_1_3.tif is a low contrast image\n",
      "  warn('%s is a low contrast image' % fname)\n",
      "/home/ubuntu/miniconda3/lib/python3.6/site-packages/skimage/io/_io.py:132: UserWarning: /home/ubuntu/source/mike_fork/diff_classifier/notebooks/development/OGD_1_5h_slice_1_cortex_vid_1_2_0.tif is a low contrast image\n",
      "  warn('%s is a low contrast image' % fname)\n",
      "/home/ubuntu/miniconda3/lib/python3.6/site-packages/skimage/io/_io.py:132: UserWarning: /home/ubuntu/source/mike_fork/diff_classifier/notebooks/development/OGD_1_5h_slice_1_cortex_vid_1_2_1.tif is a low contrast image\n",
      "  warn('%s is a low contrast image' % fname)\n",
      "/home/ubuntu/miniconda3/lib/python3.6/site-packages/skimage/io/_io.py:132: UserWarning: /home/ubuntu/source/mike_fork/diff_classifier/notebooks/development/OGD_1_5h_slice_1_cortex_vid_1_2_2.tif is a low contrast image\n",
      "  warn('%s is a low contrast image' % fname)\n",
      "/home/ubuntu/miniconda3/lib/python3.6/site-packages/skimage/io/_io.py:132: UserWarning: /home/ubuntu/source/mike_fork/diff_classifier/notebooks/development/OGD_1_5h_slice_1_cortex_vid_1_2_3.tif is a low contrast image\n",
      "  warn('%s is a low contrast image' % fname)\n",
      "/home/ubuntu/miniconda3/lib/python3.6/site-packages/skimage/io/_io.py:132: UserWarning: /home/ubuntu/source/mike_fork/diff_classifier/notebooks/development/OGD_1_5h_slice_1_cortex_vid_1_3_0.tif is a low contrast image\n",
      "  warn('%s is a low contrast image' % fname)\n",
      "/home/ubuntu/miniconda3/lib/python3.6/site-packages/skimage/io/_io.py:132: UserWarning: /home/ubuntu/source/mike_fork/diff_classifier/notebooks/development/OGD_1_5h_slice_1_cortex_vid_1_3_1.tif is a low contrast image\n",
      "  warn('%s is a low contrast image' % fname)\n",
      "/home/ubuntu/miniconda3/lib/python3.6/site-packages/skimage/io/_io.py:132: UserWarning: /home/ubuntu/source/mike_fork/diff_classifier/notebooks/development/OGD_1_5h_slice_1_cortex_vid_1_3_2.tif is a low contrast image\n",
      "  warn('%s is a low contrast image' % fname)\n",
      "/home/ubuntu/miniconda3/lib/python3.6/site-packages/skimage/io/_io.py:132: UserWarning: /home/ubuntu/source/mike_fork/diff_classifier/notebooks/development/OGD_1_5h_slice_1_cortex_vid_1_3_3.tif is a low contrast image\n",
      "  warn('%s is a low contrast image' % fname)\n"
     ]
    },
    {
     "name": "stdout",
     "output_type": "stream",
     "text": [
      "Done with splitting. Should output file of name 03_06_20_OGD_Severity_MPT/OGD_1_5h_slice_1_cortex_vid_1_0_0.tif\n",
      "Done with splitting. Should output file of name 03_06_20_OGD_Severity_MPT/OGD_1_5h_slice_1_cortex_vid_1_0_1.tif\n",
      "Done with splitting. Should output file of name 03_06_20_OGD_Severity_MPT/OGD_1_5h_slice_1_cortex_vid_1_0_2.tif\n",
      "Done with splitting. Should output file of name 03_06_20_OGD_Severity_MPT/OGD_1_5h_slice_1_cortex_vid_1_0_3.tif\n",
      "Done with splitting. Should output file of name 03_06_20_OGD_Severity_MPT/OGD_1_5h_slice_1_cortex_vid_1_1_0.tif\n",
      "Done with splitting. Should output file of name 03_06_20_OGD_Severity_MPT/OGD_1_5h_slice_1_cortex_vid_1_1_1.tif\n",
      "Done with splitting. Should output file of name 03_06_20_OGD_Severity_MPT/OGD_1_5h_slice_1_cortex_vid_1_1_2.tif\n",
      "Done with splitting. Should output file of name 03_06_20_OGD_Severity_MPT/OGD_1_5h_slice_1_cortex_vid_1_1_3.tif\n",
      "Done with splitting. Should output file of name 03_06_20_OGD_Severity_MPT/OGD_1_5h_slice_1_cortex_vid_1_2_0.tif\n",
      "Done with splitting. Should output file of name 03_06_20_OGD_Severity_MPT/OGD_1_5h_slice_1_cortex_vid_1_2_1.tif\n",
      "Done with splitting. Should output file of name 03_06_20_OGD_Severity_MPT/OGD_1_5h_slice_1_cortex_vid_1_2_2.tif\n",
      "Done with splitting. Should output file of name 03_06_20_OGD_Severity_MPT/OGD_1_5h_slice_1_cortex_vid_1_2_3.tif\n",
      "Done with splitting. Should output file of name 03_06_20_OGD_Severity_MPT/OGD_1_5h_slice_1_cortex_vid_1_3_0.tif\n",
      "Done with splitting. Should output file of name 03_06_20_OGD_Severity_MPT/OGD_1_5h_slice_1_cortex_vid_1_3_1.tif\n",
      "Done with splitting. Should output file of name 03_06_20_OGD_Severity_MPT/OGD_1_5h_slice_1_cortex_vid_1_3_2.tif\n",
      "Done with splitting. Should output file of name 03_06_20_OGD_Severity_MPT/OGD_1_5h_slice_1_cortex_vid_1_3_3.tif\n"
     ]
    },
    {
     "name": "stderr",
     "output_type": "stream",
     "text": [
      "/home/ubuntu/miniconda3/lib/python3.6/site-packages/skimage/io/_io.py:132: UserWarning: /home/ubuntu/source/mike_fork/diff_classifier/notebooks/development/OGD_1_5h_slice_1_cortex_vid_2_0_0.tif is a low contrast image\n",
      "  warn('%s is a low contrast image' % fname)\n",
      "/home/ubuntu/miniconda3/lib/python3.6/site-packages/skimage/io/_io.py:132: UserWarning: /home/ubuntu/source/mike_fork/diff_classifier/notebooks/development/OGD_1_5h_slice_1_cortex_vid_2_0_1.tif is a low contrast image\n",
      "  warn('%s is a low contrast image' % fname)\n",
      "/home/ubuntu/miniconda3/lib/python3.6/site-packages/skimage/io/_io.py:132: UserWarning: /home/ubuntu/source/mike_fork/diff_classifier/notebooks/development/OGD_1_5h_slice_1_cortex_vid_2_0_2.tif is a low contrast image\n",
      "  warn('%s is a low contrast image' % fname)\n",
      "/home/ubuntu/miniconda3/lib/python3.6/site-packages/skimage/io/_io.py:132: UserWarning: /home/ubuntu/source/mike_fork/diff_classifier/notebooks/development/OGD_1_5h_slice_1_cortex_vid_2_0_3.tif is a low contrast image\n",
      "  warn('%s is a low contrast image' % fname)\n",
      "/home/ubuntu/miniconda3/lib/python3.6/site-packages/skimage/io/_io.py:132: UserWarning: /home/ubuntu/source/mike_fork/diff_classifier/notebooks/development/OGD_1_5h_slice_1_cortex_vid_2_1_0.tif is a low contrast image\n",
      "  warn('%s is a low contrast image' % fname)\n",
      "/home/ubuntu/miniconda3/lib/python3.6/site-packages/skimage/io/_io.py:132: UserWarning: /home/ubuntu/source/mike_fork/diff_classifier/notebooks/development/OGD_1_5h_slice_1_cortex_vid_2_1_1.tif is a low contrast image\n",
      "  warn('%s is a low contrast image' % fname)\n",
      "/home/ubuntu/miniconda3/lib/python3.6/site-packages/skimage/io/_io.py:132: UserWarning: /home/ubuntu/source/mike_fork/diff_classifier/notebooks/development/OGD_1_5h_slice_1_cortex_vid_2_1_2.tif is a low contrast image\n",
      "  warn('%s is a low contrast image' % fname)\n",
      "/home/ubuntu/miniconda3/lib/python3.6/site-packages/skimage/io/_io.py:132: UserWarning: /home/ubuntu/source/mike_fork/diff_classifier/notebooks/development/OGD_1_5h_slice_1_cortex_vid_2_1_3.tif is a low contrast image\n",
      "  warn('%s is a low contrast image' % fname)\n",
      "/home/ubuntu/miniconda3/lib/python3.6/site-packages/skimage/io/_io.py:132: UserWarning: /home/ubuntu/source/mike_fork/diff_classifier/notebooks/development/OGD_1_5h_slice_1_cortex_vid_2_2_0.tif is a low contrast image\n",
      "  warn('%s is a low contrast image' % fname)\n",
      "/home/ubuntu/miniconda3/lib/python3.6/site-packages/skimage/io/_io.py:132: UserWarning: /home/ubuntu/source/mike_fork/diff_classifier/notebooks/development/OGD_1_5h_slice_1_cortex_vid_2_2_1.tif is a low contrast image\n",
      "  warn('%s is a low contrast image' % fname)\n",
      "/home/ubuntu/miniconda3/lib/python3.6/site-packages/skimage/io/_io.py:132: UserWarning: /home/ubuntu/source/mike_fork/diff_classifier/notebooks/development/OGD_1_5h_slice_1_cortex_vid_2_2_2.tif is a low contrast image\n",
      "  warn('%s is a low contrast image' % fname)\n",
      "/home/ubuntu/miniconda3/lib/python3.6/site-packages/skimage/io/_io.py:132: UserWarning: /home/ubuntu/source/mike_fork/diff_classifier/notebooks/development/OGD_1_5h_slice_1_cortex_vid_2_2_3.tif is a low contrast image\n",
      "  warn('%s is a low contrast image' % fname)\n",
      "/home/ubuntu/miniconda3/lib/python3.6/site-packages/skimage/io/_io.py:132: UserWarning: /home/ubuntu/source/mike_fork/diff_classifier/notebooks/development/OGD_1_5h_slice_1_cortex_vid_2_3_0.tif is a low contrast image\n",
      "  warn('%s is a low contrast image' % fname)\n",
      "/home/ubuntu/miniconda3/lib/python3.6/site-packages/skimage/io/_io.py:132: UserWarning: /home/ubuntu/source/mike_fork/diff_classifier/notebooks/development/OGD_1_5h_slice_1_cortex_vid_2_3_1.tif is a low contrast image\n",
      "  warn('%s is a low contrast image' % fname)\n",
      "/home/ubuntu/miniconda3/lib/python3.6/site-packages/skimage/io/_io.py:132: UserWarning: /home/ubuntu/source/mike_fork/diff_classifier/notebooks/development/OGD_1_5h_slice_1_cortex_vid_2_3_2.tif is a low contrast image\n",
      "  warn('%s is a low contrast image' % fname)\n",
      "/home/ubuntu/miniconda3/lib/python3.6/site-packages/skimage/io/_io.py:132: UserWarning: /home/ubuntu/source/mike_fork/diff_classifier/notebooks/development/OGD_1_5h_slice_1_cortex_vid_2_3_3.tif is a low contrast image\n",
      "  warn('%s is a low contrast image' % fname)\n"
     ]
    },
    {
     "name": "stdout",
     "output_type": "stream",
     "text": [
      "Done with splitting. Should output file of name 03_06_20_OGD_Severity_MPT/OGD_1_5h_slice_1_cortex_vid_2_0_0.tif\n",
      "Done with splitting. Should output file of name 03_06_20_OGD_Severity_MPT/OGD_1_5h_slice_1_cortex_vid_2_0_1.tif\n",
      "Done with splitting. Should output file of name 03_06_20_OGD_Severity_MPT/OGD_1_5h_slice_1_cortex_vid_2_0_2.tif\n",
      "Done with splitting. Should output file of name 03_06_20_OGD_Severity_MPT/OGD_1_5h_slice_1_cortex_vid_2_0_3.tif\n",
      "Done with splitting. Should output file of name 03_06_20_OGD_Severity_MPT/OGD_1_5h_slice_1_cortex_vid_2_1_0.tif\n",
      "Done with splitting. Should output file of name 03_06_20_OGD_Severity_MPT/OGD_1_5h_slice_1_cortex_vid_2_1_1.tif\n",
      "Done with splitting. Should output file of name 03_06_20_OGD_Severity_MPT/OGD_1_5h_slice_1_cortex_vid_2_1_2.tif\n",
      "Done with splitting. Should output file of name 03_06_20_OGD_Severity_MPT/OGD_1_5h_slice_1_cortex_vid_2_1_3.tif\n",
      "Done with splitting. Should output file of name 03_06_20_OGD_Severity_MPT/OGD_1_5h_slice_1_cortex_vid_2_2_0.tif\n",
      "Done with splitting. Should output file of name 03_06_20_OGD_Severity_MPT/OGD_1_5h_slice_1_cortex_vid_2_2_1.tif\n",
      "Done with splitting. Should output file of name 03_06_20_OGD_Severity_MPT/OGD_1_5h_slice_1_cortex_vid_2_2_2.tif\n",
      "Done with splitting. Should output file of name 03_06_20_OGD_Severity_MPT/OGD_1_5h_slice_1_cortex_vid_2_2_3.tif\n",
      "Done with splitting. Should output file of name 03_06_20_OGD_Severity_MPT/OGD_1_5h_slice_1_cortex_vid_2_3_0.tif\n",
      "Done with splitting. Should output file of name 03_06_20_OGD_Severity_MPT/OGD_1_5h_slice_1_cortex_vid_2_3_1.tif\n",
      "Done with splitting. Should output file of name 03_06_20_OGD_Severity_MPT/OGD_1_5h_slice_1_cortex_vid_2_3_2.tif\n",
      "Done with splitting. Should output file of name 03_06_20_OGD_Severity_MPT/OGD_1_5h_slice_1_cortex_vid_2_3_3.tif\n"
     ]
    },
    {
     "name": "stderr",
     "output_type": "stream",
     "text": [
      "/home/ubuntu/miniconda3/lib/python3.6/site-packages/skimage/io/_io.py:132: UserWarning: /home/ubuntu/source/mike_fork/diff_classifier/notebooks/development/OGD_1_5h_slice_1_cortex_vid_3_0_0.tif is a low contrast image\n",
      "  warn('%s is a low contrast image' % fname)\n",
      "/home/ubuntu/miniconda3/lib/python3.6/site-packages/skimage/io/_io.py:132: UserWarning: /home/ubuntu/source/mike_fork/diff_classifier/notebooks/development/OGD_1_5h_slice_1_cortex_vid_3_0_1.tif is a low contrast image\n",
      "  warn('%s is a low contrast image' % fname)\n",
      "/home/ubuntu/miniconda3/lib/python3.6/site-packages/skimage/io/_io.py:132: UserWarning: /home/ubuntu/source/mike_fork/diff_classifier/notebooks/development/OGD_1_5h_slice_1_cortex_vid_3_0_2.tif is a low contrast image\n",
      "  warn('%s is a low contrast image' % fname)\n",
      "/home/ubuntu/miniconda3/lib/python3.6/site-packages/skimage/io/_io.py:132: UserWarning: /home/ubuntu/source/mike_fork/diff_classifier/notebooks/development/OGD_1_5h_slice_1_cortex_vid_3_0_3.tif is a low contrast image\n",
      "  warn('%s is a low contrast image' % fname)\n",
      "/home/ubuntu/miniconda3/lib/python3.6/site-packages/skimage/io/_io.py:132: UserWarning: /home/ubuntu/source/mike_fork/diff_classifier/notebooks/development/OGD_1_5h_slice_1_cortex_vid_3_1_0.tif is a low contrast image\n",
      "  warn('%s is a low contrast image' % fname)\n",
      "/home/ubuntu/miniconda3/lib/python3.6/site-packages/skimage/io/_io.py:132: UserWarning: /home/ubuntu/source/mike_fork/diff_classifier/notebooks/development/OGD_1_5h_slice_1_cortex_vid_3_1_1.tif is a low contrast image\n",
      "  warn('%s is a low contrast image' % fname)\n",
      "/home/ubuntu/miniconda3/lib/python3.6/site-packages/skimage/io/_io.py:132: UserWarning: /home/ubuntu/source/mike_fork/diff_classifier/notebooks/development/OGD_1_5h_slice_1_cortex_vid_3_1_2.tif is a low contrast image\n",
      "  warn('%s is a low contrast image' % fname)\n",
      "/home/ubuntu/miniconda3/lib/python3.6/site-packages/skimage/io/_io.py:132: UserWarning: /home/ubuntu/source/mike_fork/diff_classifier/notebooks/development/OGD_1_5h_slice_1_cortex_vid_3_1_3.tif is a low contrast image\n",
      "  warn('%s is a low contrast image' % fname)\n",
      "/home/ubuntu/miniconda3/lib/python3.6/site-packages/skimage/io/_io.py:132: UserWarning: /home/ubuntu/source/mike_fork/diff_classifier/notebooks/development/OGD_1_5h_slice_1_cortex_vid_3_2_0.tif is a low contrast image\n",
      "  warn('%s is a low contrast image' % fname)\n",
      "/home/ubuntu/miniconda3/lib/python3.6/site-packages/skimage/io/_io.py:132: UserWarning: /home/ubuntu/source/mike_fork/diff_classifier/notebooks/development/OGD_1_5h_slice_1_cortex_vid_3_2_1.tif is a low contrast image\n",
      "  warn('%s is a low contrast image' % fname)\n",
      "/home/ubuntu/miniconda3/lib/python3.6/site-packages/skimage/io/_io.py:132: UserWarning: /home/ubuntu/source/mike_fork/diff_classifier/notebooks/development/OGD_1_5h_slice_1_cortex_vid_3_2_2.tif is a low contrast image\n",
      "  warn('%s is a low contrast image' % fname)\n",
      "/home/ubuntu/miniconda3/lib/python3.6/site-packages/skimage/io/_io.py:132: UserWarning: /home/ubuntu/source/mike_fork/diff_classifier/notebooks/development/OGD_1_5h_slice_1_cortex_vid_3_2_3.tif is a low contrast image\n",
      "  warn('%s is a low contrast image' % fname)\n",
      "/home/ubuntu/miniconda3/lib/python3.6/site-packages/skimage/io/_io.py:132: UserWarning: /home/ubuntu/source/mike_fork/diff_classifier/notebooks/development/OGD_1_5h_slice_1_cortex_vid_3_3_0.tif is a low contrast image\n",
      "  warn('%s is a low contrast image' % fname)\n",
      "/home/ubuntu/miniconda3/lib/python3.6/site-packages/skimage/io/_io.py:132: UserWarning: /home/ubuntu/source/mike_fork/diff_classifier/notebooks/development/OGD_1_5h_slice_1_cortex_vid_3_3_1.tif is a low contrast image\n",
      "  warn('%s is a low contrast image' % fname)\n",
      "/home/ubuntu/miniconda3/lib/python3.6/site-packages/skimage/io/_io.py:132: UserWarning: /home/ubuntu/source/mike_fork/diff_classifier/notebooks/development/OGD_1_5h_slice_1_cortex_vid_3_3_2.tif is a low contrast image\n",
      "  warn('%s is a low contrast image' % fname)\n",
      "/home/ubuntu/miniconda3/lib/python3.6/site-packages/skimage/io/_io.py:132: UserWarning: /home/ubuntu/source/mike_fork/diff_classifier/notebooks/development/OGD_1_5h_slice_1_cortex_vid_3_3_3.tif is a low contrast image\n",
      "  warn('%s is a low contrast image' % fname)\n"
     ]
    },
    {
     "name": "stdout",
     "output_type": "stream",
     "text": [
      "Done with splitting. Should output file of name 03_06_20_OGD_Severity_MPT/OGD_1_5h_slice_1_cortex_vid_3_0_0.tif\n",
      "Done with splitting. Should output file of name 03_06_20_OGD_Severity_MPT/OGD_1_5h_slice_1_cortex_vid_3_0_1.tif\n",
      "Done with splitting. Should output file of name 03_06_20_OGD_Severity_MPT/OGD_1_5h_slice_1_cortex_vid_3_0_2.tif\n",
      "Done with splitting. Should output file of name 03_06_20_OGD_Severity_MPT/OGD_1_5h_slice_1_cortex_vid_3_0_3.tif\n",
      "Done with splitting. Should output file of name 03_06_20_OGD_Severity_MPT/OGD_1_5h_slice_1_cortex_vid_3_1_0.tif\n",
      "Done with splitting. Should output file of name 03_06_20_OGD_Severity_MPT/OGD_1_5h_slice_1_cortex_vid_3_1_1.tif\n",
      "Done with splitting. Should output file of name 03_06_20_OGD_Severity_MPT/OGD_1_5h_slice_1_cortex_vid_3_1_2.tif\n",
      "Done with splitting. Should output file of name 03_06_20_OGD_Severity_MPT/OGD_1_5h_slice_1_cortex_vid_3_1_3.tif\n",
      "Done with splitting. Should output file of name 03_06_20_OGD_Severity_MPT/OGD_1_5h_slice_1_cortex_vid_3_2_0.tif\n",
      "Done with splitting. Should output file of name 03_06_20_OGD_Severity_MPT/OGD_1_5h_slice_1_cortex_vid_3_2_1.tif\n",
      "Done with splitting. Should output file of name 03_06_20_OGD_Severity_MPT/OGD_1_5h_slice_1_cortex_vid_3_2_2.tif\n",
      "Done with splitting. Should output file of name 03_06_20_OGD_Severity_MPT/OGD_1_5h_slice_1_cortex_vid_3_2_3.tif\n",
      "Done with splitting. Should output file of name 03_06_20_OGD_Severity_MPT/OGD_1_5h_slice_1_cortex_vid_3_3_0.tif\n",
      "Done with splitting. Should output file of name 03_06_20_OGD_Severity_MPT/OGD_1_5h_slice_1_cortex_vid_3_3_1.tif\n",
      "Done with splitting. Should output file of name 03_06_20_OGD_Severity_MPT/OGD_1_5h_slice_1_cortex_vid_3_3_2.tif\n",
      "Done with splitting. Should output file of name 03_06_20_OGD_Severity_MPT/OGD_1_5h_slice_1_cortex_vid_3_3_3.tif\n"
     ]
    },
    {
     "name": "stderr",
     "output_type": "stream",
     "text": [
      "/home/ubuntu/miniconda3/lib/python3.6/site-packages/skimage/io/_io.py:132: UserWarning: /home/ubuntu/source/mike_fork/diff_classifier/notebooks/development/OGD_1_5h_slice_1_cortex_vid_4_0_0.tif is a low contrast image\n",
      "  warn('%s is a low contrast image' % fname)\n",
      "/home/ubuntu/miniconda3/lib/python3.6/site-packages/skimage/io/_io.py:132: UserWarning: /home/ubuntu/source/mike_fork/diff_classifier/notebooks/development/OGD_1_5h_slice_1_cortex_vid_4_0_1.tif is a low contrast image\n",
      "  warn('%s is a low contrast image' % fname)\n",
      "/home/ubuntu/miniconda3/lib/python3.6/site-packages/skimage/io/_io.py:132: UserWarning: /home/ubuntu/source/mike_fork/diff_classifier/notebooks/development/OGD_1_5h_slice_1_cortex_vid_4_0_2.tif is a low contrast image\n",
      "  warn('%s is a low contrast image' % fname)\n",
      "/home/ubuntu/miniconda3/lib/python3.6/site-packages/skimage/io/_io.py:132: UserWarning: /home/ubuntu/source/mike_fork/diff_classifier/notebooks/development/OGD_1_5h_slice_1_cortex_vid_4_0_3.tif is a low contrast image\n",
      "  warn('%s is a low contrast image' % fname)\n",
      "/home/ubuntu/miniconda3/lib/python3.6/site-packages/skimage/io/_io.py:132: UserWarning: /home/ubuntu/source/mike_fork/diff_classifier/notebooks/development/OGD_1_5h_slice_1_cortex_vid_4_1_0.tif is a low contrast image\n",
      "  warn('%s is a low contrast image' % fname)\n",
      "/home/ubuntu/miniconda3/lib/python3.6/site-packages/skimage/io/_io.py:132: UserWarning: /home/ubuntu/source/mike_fork/diff_classifier/notebooks/development/OGD_1_5h_slice_1_cortex_vid_4_1_1.tif is a low contrast image\n",
      "  warn('%s is a low contrast image' % fname)\n",
      "/home/ubuntu/miniconda3/lib/python3.6/site-packages/skimage/io/_io.py:132: UserWarning: /home/ubuntu/source/mike_fork/diff_classifier/notebooks/development/OGD_1_5h_slice_1_cortex_vid_4_1_2.tif is a low contrast image\n",
      "  warn('%s is a low contrast image' % fname)\n",
      "/home/ubuntu/miniconda3/lib/python3.6/site-packages/skimage/io/_io.py:132: UserWarning: /home/ubuntu/source/mike_fork/diff_classifier/notebooks/development/OGD_1_5h_slice_1_cortex_vid_4_1_3.tif is a low contrast image\n",
      "  warn('%s is a low contrast image' % fname)\n",
      "/home/ubuntu/miniconda3/lib/python3.6/site-packages/skimage/io/_io.py:132: UserWarning: /home/ubuntu/source/mike_fork/diff_classifier/notebooks/development/OGD_1_5h_slice_1_cortex_vid_4_2_0.tif is a low contrast image\n",
      "  warn('%s is a low contrast image' % fname)\n",
      "/home/ubuntu/miniconda3/lib/python3.6/site-packages/skimage/io/_io.py:132: UserWarning: /home/ubuntu/source/mike_fork/diff_classifier/notebooks/development/OGD_1_5h_slice_1_cortex_vid_4_2_1.tif is a low contrast image\n",
      "  warn('%s is a low contrast image' % fname)\n",
      "/home/ubuntu/miniconda3/lib/python3.6/site-packages/skimage/io/_io.py:132: UserWarning: /home/ubuntu/source/mike_fork/diff_classifier/notebooks/development/OGD_1_5h_slice_1_cortex_vid_4_2_2.tif is a low contrast image\n",
      "  warn('%s is a low contrast image' % fname)\n",
      "/home/ubuntu/miniconda3/lib/python3.6/site-packages/skimage/io/_io.py:132: UserWarning: /home/ubuntu/source/mike_fork/diff_classifier/notebooks/development/OGD_1_5h_slice_1_cortex_vid_4_2_3.tif is a low contrast image\n",
      "  warn('%s is a low contrast image' % fname)\n",
      "/home/ubuntu/miniconda3/lib/python3.6/site-packages/skimage/io/_io.py:132: UserWarning: /home/ubuntu/source/mike_fork/diff_classifier/notebooks/development/OGD_1_5h_slice_1_cortex_vid_4_3_0.tif is a low contrast image\n",
      "  warn('%s is a low contrast image' % fname)\n",
      "/home/ubuntu/miniconda3/lib/python3.6/site-packages/skimage/io/_io.py:132: UserWarning: /home/ubuntu/source/mike_fork/diff_classifier/notebooks/development/OGD_1_5h_slice_1_cortex_vid_4_3_1.tif is a low contrast image\n",
      "  warn('%s is a low contrast image' % fname)\n",
      "/home/ubuntu/miniconda3/lib/python3.6/site-packages/skimage/io/_io.py:132: UserWarning: /home/ubuntu/source/mike_fork/diff_classifier/notebooks/development/OGD_1_5h_slice_1_cortex_vid_4_3_2.tif is a low contrast image\n",
      "  warn('%s is a low contrast image' % fname)\n",
      "/home/ubuntu/miniconda3/lib/python3.6/site-packages/skimage/io/_io.py:132: UserWarning: /home/ubuntu/source/mike_fork/diff_classifier/notebooks/development/OGD_1_5h_slice_1_cortex_vid_4_3_3.tif is a low contrast image\n",
      "  warn('%s is a low contrast image' % fname)\n"
     ]
    },
    {
     "name": "stdout",
     "output_type": "stream",
     "text": [
      "Done with splitting. Should output file of name 03_06_20_OGD_Severity_MPT/OGD_1_5h_slice_1_cortex_vid_4_0_0.tif\n",
      "Done with splitting. Should output file of name 03_06_20_OGD_Severity_MPT/OGD_1_5h_slice_1_cortex_vid_4_0_1.tif\n",
      "Done with splitting. Should output file of name 03_06_20_OGD_Severity_MPT/OGD_1_5h_slice_1_cortex_vid_4_0_2.tif\n",
      "Done with splitting. Should output file of name 03_06_20_OGD_Severity_MPT/OGD_1_5h_slice_1_cortex_vid_4_0_3.tif\n",
      "Done with splitting. Should output file of name 03_06_20_OGD_Severity_MPT/OGD_1_5h_slice_1_cortex_vid_4_1_0.tif\n",
      "Done with splitting. Should output file of name 03_06_20_OGD_Severity_MPT/OGD_1_5h_slice_1_cortex_vid_4_1_1.tif\n",
      "Done with splitting. Should output file of name 03_06_20_OGD_Severity_MPT/OGD_1_5h_slice_1_cortex_vid_4_1_2.tif\n",
      "Done with splitting. Should output file of name 03_06_20_OGD_Severity_MPT/OGD_1_5h_slice_1_cortex_vid_4_1_3.tif\n",
      "Done with splitting. Should output file of name 03_06_20_OGD_Severity_MPT/OGD_1_5h_slice_1_cortex_vid_4_2_0.tif\n",
      "Done with splitting. Should output file of name 03_06_20_OGD_Severity_MPT/OGD_1_5h_slice_1_cortex_vid_4_2_1.tif\n",
      "Done with splitting. Should output file of name 03_06_20_OGD_Severity_MPT/OGD_1_5h_slice_1_cortex_vid_4_2_2.tif\n",
      "Done with splitting. Should output file of name 03_06_20_OGD_Severity_MPT/OGD_1_5h_slice_1_cortex_vid_4_2_3.tif\n",
      "Done with splitting. Should output file of name 03_06_20_OGD_Severity_MPT/OGD_1_5h_slice_1_cortex_vid_4_3_0.tif\n",
      "Done with splitting. Should output file of name 03_06_20_OGD_Severity_MPT/OGD_1_5h_slice_1_cortex_vid_4_3_1.tif\n",
      "Done with splitting. Should output file of name 03_06_20_OGD_Severity_MPT/OGD_1_5h_slice_1_cortex_vid_4_3_2.tif\n",
      "Done with splitting. Should output file of name 03_06_20_OGD_Severity_MPT/OGD_1_5h_slice_1_cortex_vid_4_3_3.tif\n"
     ]
    },
    {
     "name": "stderr",
     "output_type": "stream",
     "text": [
      "/home/ubuntu/miniconda3/lib/python3.6/site-packages/skimage/io/_io.py:132: UserWarning: /home/ubuntu/source/mike_fork/diff_classifier/notebooks/development/OGD_1_5h_slice_1_cortex_vid_5_0_0.tif is a low contrast image\n",
      "  warn('%s is a low contrast image' % fname)\n",
      "/home/ubuntu/miniconda3/lib/python3.6/site-packages/skimage/io/_io.py:132: UserWarning: /home/ubuntu/source/mike_fork/diff_classifier/notebooks/development/OGD_1_5h_slice_1_cortex_vid_5_0_1.tif is a low contrast image\n",
      "  warn('%s is a low contrast image' % fname)\n",
      "/home/ubuntu/miniconda3/lib/python3.6/site-packages/skimage/io/_io.py:132: UserWarning: /home/ubuntu/source/mike_fork/diff_classifier/notebooks/development/OGD_1_5h_slice_1_cortex_vid_5_0_2.tif is a low contrast image\n",
      "  warn('%s is a low contrast image' % fname)\n",
      "/home/ubuntu/miniconda3/lib/python3.6/site-packages/skimage/io/_io.py:132: UserWarning: /home/ubuntu/source/mike_fork/diff_classifier/notebooks/development/OGD_1_5h_slice_1_cortex_vid_5_0_3.tif is a low contrast image\n",
      "  warn('%s is a low contrast image' % fname)\n",
      "/home/ubuntu/miniconda3/lib/python3.6/site-packages/skimage/io/_io.py:132: UserWarning: /home/ubuntu/source/mike_fork/diff_classifier/notebooks/development/OGD_1_5h_slice_1_cortex_vid_5_1_0.tif is a low contrast image\n",
      "  warn('%s is a low contrast image' % fname)\n",
      "/home/ubuntu/miniconda3/lib/python3.6/site-packages/skimage/io/_io.py:132: UserWarning: /home/ubuntu/source/mike_fork/diff_classifier/notebooks/development/OGD_1_5h_slice_1_cortex_vid_5_1_1.tif is a low contrast image\n",
      "  warn('%s is a low contrast image' % fname)\n",
      "/home/ubuntu/miniconda3/lib/python3.6/site-packages/skimage/io/_io.py:132: UserWarning: /home/ubuntu/source/mike_fork/diff_classifier/notebooks/development/OGD_1_5h_slice_1_cortex_vid_5_1_2.tif is a low contrast image\n",
      "  warn('%s is a low contrast image' % fname)\n",
      "/home/ubuntu/miniconda3/lib/python3.6/site-packages/skimage/io/_io.py:132: UserWarning: /home/ubuntu/source/mike_fork/diff_classifier/notebooks/development/OGD_1_5h_slice_1_cortex_vid_5_1_3.tif is a low contrast image\n",
      "  warn('%s is a low contrast image' % fname)\n",
      "/home/ubuntu/miniconda3/lib/python3.6/site-packages/skimage/io/_io.py:132: UserWarning: /home/ubuntu/source/mike_fork/diff_classifier/notebooks/development/OGD_1_5h_slice_1_cortex_vid_5_2_0.tif is a low contrast image\n",
      "  warn('%s is a low contrast image' % fname)\n",
      "/home/ubuntu/miniconda3/lib/python3.6/site-packages/skimage/io/_io.py:132: UserWarning: /home/ubuntu/source/mike_fork/diff_classifier/notebooks/development/OGD_1_5h_slice_1_cortex_vid_5_2_1.tif is a low contrast image\n",
      "  warn('%s is a low contrast image' % fname)\n",
      "/home/ubuntu/miniconda3/lib/python3.6/site-packages/skimage/io/_io.py:132: UserWarning: /home/ubuntu/source/mike_fork/diff_classifier/notebooks/development/OGD_1_5h_slice_1_cortex_vid_5_2_2.tif is a low contrast image\n",
      "  warn('%s is a low contrast image' % fname)\n",
      "/home/ubuntu/miniconda3/lib/python3.6/site-packages/skimage/io/_io.py:132: UserWarning: /home/ubuntu/source/mike_fork/diff_classifier/notebooks/development/OGD_1_5h_slice_1_cortex_vid_5_2_3.tif is a low contrast image\n",
      "  warn('%s is a low contrast image' % fname)\n",
      "/home/ubuntu/miniconda3/lib/python3.6/site-packages/skimage/io/_io.py:132: UserWarning: /home/ubuntu/source/mike_fork/diff_classifier/notebooks/development/OGD_1_5h_slice_1_cortex_vid_5_3_0.tif is a low contrast image\n",
      "  warn('%s is a low contrast image' % fname)\n",
      "/home/ubuntu/miniconda3/lib/python3.6/site-packages/skimage/io/_io.py:132: UserWarning: /home/ubuntu/source/mike_fork/diff_classifier/notebooks/development/OGD_1_5h_slice_1_cortex_vid_5_3_1.tif is a low contrast image\n",
      "  warn('%s is a low contrast image' % fname)\n",
      "/home/ubuntu/miniconda3/lib/python3.6/site-packages/skimage/io/_io.py:132: UserWarning: /home/ubuntu/source/mike_fork/diff_classifier/notebooks/development/OGD_1_5h_slice_1_cortex_vid_5_3_2.tif is a low contrast image\n",
      "  warn('%s is a low contrast image' % fname)\n",
      "/home/ubuntu/miniconda3/lib/python3.6/site-packages/skimage/io/_io.py:132: UserWarning: /home/ubuntu/source/mike_fork/diff_classifier/notebooks/development/OGD_1_5h_slice_1_cortex_vid_5_3_3.tif is a low contrast image\n",
      "  warn('%s is a low contrast image' % fname)\n"
     ]
    },
    {
     "name": "stdout",
     "output_type": "stream",
     "text": [
      "Done with splitting. Should output file of name 03_06_20_OGD_Severity_MPT/OGD_1_5h_slice_1_cortex_vid_5_0_0.tif\n",
      "Done with splitting. Should output file of name 03_06_20_OGD_Severity_MPT/OGD_1_5h_slice_1_cortex_vid_5_0_1.tif\n",
      "Done with splitting. Should output file of name 03_06_20_OGD_Severity_MPT/OGD_1_5h_slice_1_cortex_vid_5_0_2.tif\n",
      "Done with splitting. Should output file of name 03_06_20_OGD_Severity_MPT/OGD_1_5h_slice_1_cortex_vid_5_0_3.tif\n",
      "Done with splitting. Should output file of name 03_06_20_OGD_Severity_MPT/OGD_1_5h_slice_1_cortex_vid_5_1_0.tif\n",
      "Done with splitting. Should output file of name 03_06_20_OGD_Severity_MPT/OGD_1_5h_slice_1_cortex_vid_5_1_1.tif\n",
      "Done with splitting. Should output file of name 03_06_20_OGD_Severity_MPT/OGD_1_5h_slice_1_cortex_vid_5_1_2.tif\n",
      "Done with splitting. Should output file of name 03_06_20_OGD_Severity_MPT/OGD_1_5h_slice_1_cortex_vid_5_1_3.tif\n",
      "Done with splitting. Should output file of name 03_06_20_OGD_Severity_MPT/OGD_1_5h_slice_1_cortex_vid_5_2_0.tif\n",
      "Done with splitting. Should output file of name 03_06_20_OGD_Severity_MPT/OGD_1_5h_slice_1_cortex_vid_5_2_1.tif\n",
      "Done with splitting. Should output file of name 03_06_20_OGD_Severity_MPT/OGD_1_5h_slice_1_cortex_vid_5_2_2.tif\n",
      "Done with splitting. Should output file of name 03_06_20_OGD_Severity_MPT/OGD_1_5h_slice_1_cortex_vid_5_2_3.tif\n",
      "Done with splitting. Should output file of name 03_06_20_OGD_Severity_MPT/OGD_1_5h_slice_1_cortex_vid_5_3_0.tif\n",
      "Done with splitting. Should output file of name 03_06_20_OGD_Severity_MPT/OGD_1_5h_slice_1_cortex_vid_5_3_1.tif\n",
      "Done with splitting. Should output file of name 03_06_20_OGD_Severity_MPT/OGD_1_5h_slice_1_cortex_vid_5_3_2.tif\n",
      "Done with splitting. Should output file of name 03_06_20_OGD_Severity_MPT/OGD_1_5h_slice_1_cortex_vid_5_3_3.tif\n"
     ]
    },
    {
     "name": "stderr",
     "output_type": "stream",
     "text": [
      "/home/ubuntu/miniconda3/lib/python3.6/site-packages/skimage/io/_io.py:132: UserWarning: /home/ubuntu/source/mike_fork/diff_classifier/notebooks/development/OGD_1_5h_slice_1_striatum_vid_1_0_0.tif is a low contrast image\n",
      "  warn('%s is a low contrast image' % fname)\n",
      "/home/ubuntu/miniconda3/lib/python3.6/site-packages/skimage/io/_io.py:132: UserWarning: /home/ubuntu/source/mike_fork/diff_classifier/notebooks/development/OGD_1_5h_slice_1_striatum_vid_1_0_1.tif is a low contrast image\n",
      "  warn('%s is a low contrast image' % fname)\n",
      "/home/ubuntu/miniconda3/lib/python3.6/site-packages/skimage/io/_io.py:132: UserWarning: /home/ubuntu/source/mike_fork/diff_classifier/notebooks/development/OGD_1_5h_slice_1_striatum_vid_1_0_2.tif is a low contrast image\n",
      "  warn('%s is a low contrast image' % fname)\n",
      "/home/ubuntu/miniconda3/lib/python3.6/site-packages/skimage/io/_io.py:132: UserWarning: /home/ubuntu/source/mike_fork/diff_classifier/notebooks/development/OGD_1_5h_slice_1_striatum_vid_1_0_3.tif is a low contrast image\n",
      "  warn('%s is a low contrast image' % fname)\n",
      "/home/ubuntu/miniconda3/lib/python3.6/site-packages/skimage/io/_io.py:132: UserWarning: /home/ubuntu/source/mike_fork/diff_classifier/notebooks/development/OGD_1_5h_slice_1_striatum_vid_1_1_0.tif is a low contrast image\n",
      "  warn('%s is a low contrast image' % fname)\n",
      "/home/ubuntu/miniconda3/lib/python3.6/site-packages/skimage/io/_io.py:132: UserWarning: /home/ubuntu/source/mike_fork/diff_classifier/notebooks/development/OGD_1_5h_slice_1_striatum_vid_1_1_1.tif is a low contrast image\n",
      "  warn('%s is a low contrast image' % fname)\n",
      "/home/ubuntu/miniconda3/lib/python3.6/site-packages/skimage/io/_io.py:132: UserWarning: /home/ubuntu/source/mike_fork/diff_classifier/notebooks/development/OGD_1_5h_slice_1_striatum_vid_1_1_2.tif is a low contrast image\n",
      "  warn('%s is a low contrast image' % fname)\n",
      "/home/ubuntu/miniconda3/lib/python3.6/site-packages/skimage/io/_io.py:132: UserWarning: /home/ubuntu/source/mike_fork/diff_classifier/notebooks/development/OGD_1_5h_slice_1_striatum_vid_1_1_3.tif is a low contrast image\n",
      "  warn('%s is a low contrast image' % fname)\n",
      "/home/ubuntu/miniconda3/lib/python3.6/site-packages/skimage/io/_io.py:132: UserWarning: /home/ubuntu/source/mike_fork/diff_classifier/notebooks/development/OGD_1_5h_slice_1_striatum_vid_1_2_0.tif is a low contrast image\n",
      "  warn('%s is a low contrast image' % fname)\n",
      "/home/ubuntu/miniconda3/lib/python3.6/site-packages/skimage/io/_io.py:132: UserWarning: /home/ubuntu/source/mike_fork/diff_classifier/notebooks/development/OGD_1_5h_slice_1_striatum_vid_1_2_1.tif is a low contrast image\n",
      "  warn('%s is a low contrast image' % fname)\n",
      "/home/ubuntu/miniconda3/lib/python3.6/site-packages/skimage/io/_io.py:132: UserWarning: /home/ubuntu/source/mike_fork/diff_classifier/notebooks/development/OGD_1_5h_slice_1_striatum_vid_1_2_2.tif is a low contrast image\n",
      "  warn('%s is a low contrast image' % fname)\n",
      "/home/ubuntu/miniconda3/lib/python3.6/site-packages/skimage/io/_io.py:132: UserWarning: /home/ubuntu/source/mike_fork/diff_classifier/notebooks/development/OGD_1_5h_slice_1_striatum_vid_1_2_3.tif is a low contrast image\n",
      "  warn('%s is a low contrast image' % fname)\n",
      "/home/ubuntu/miniconda3/lib/python3.6/site-packages/skimage/io/_io.py:132: UserWarning: /home/ubuntu/source/mike_fork/diff_classifier/notebooks/development/OGD_1_5h_slice_1_striatum_vid_1_3_0.tif is a low contrast image\n",
      "  warn('%s is a low contrast image' % fname)\n",
      "/home/ubuntu/miniconda3/lib/python3.6/site-packages/skimage/io/_io.py:132: UserWarning: /home/ubuntu/source/mike_fork/diff_classifier/notebooks/development/OGD_1_5h_slice_1_striatum_vid_1_3_1.tif is a low contrast image\n",
      "  warn('%s is a low contrast image' % fname)\n",
      "/home/ubuntu/miniconda3/lib/python3.6/site-packages/skimage/io/_io.py:132: UserWarning: /home/ubuntu/source/mike_fork/diff_classifier/notebooks/development/OGD_1_5h_slice_1_striatum_vid_1_3_2.tif is a low contrast image\n",
      "  warn('%s is a low contrast image' % fname)\n",
      "/home/ubuntu/miniconda3/lib/python3.6/site-packages/skimage/io/_io.py:132: UserWarning: /home/ubuntu/source/mike_fork/diff_classifier/notebooks/development/OGD_1_5h_slice_1_striatum_vid_1_3_3.tif is a low contrast image\n",
      "  warn('%s is a low contrast image' % fname)\n"
     ]
    },
    {
     "name": "stdout",
     "output_type": "stream",
     "text": [
      "Done with splitting. Should output file of name 03_06_20_OGD_Severity_MPT/OGD_1_5h_slice_1_striatum_vid_1_0_0.tif\n",
      "Done with splitting. Should output file of name 03_06_20_OGD_Severity_MPT/OGD_1_5h_slice_1_striatum_vid_1_0_1.tif\n",
      "Done with splitting. Should output file of name 03_06_20_OGD_Severity_MPT/OGD_1_5h_slice_1_striatum_vid_1_0_2.tif\n",
      "Done with splitting. Should output file of name 03_06_20_OGD_Severity_MPT/OGD_1_5h_slice_1_striatum_vid_1_0_3.tif\n",
      "Done with splitting. Should output file of name 03_06_20_OGD_Severity_MPT/OGD_1_5h_slice_1_striatum_vid_1_1_0.tif\n",
      "Done with splitting. Should output file of name 03_06_20_OGD_Severity_MPT/OGD_1_5h_slice_1_striatum_vid_1_1_1.tif\n",
      "Done with splitting. Should output file of name 03_06_20_OGD_Severity_MPT/OGD_1_5h_slice_1_striatum_vid_1_1_2.tif\n",
      "Done with splitting. Should output file of name 03_06_20_OGD_Severity_MPT/OGD_1_5h_slice_1_striatum_vid_1_1_3.tif\n",
      "Done with splitting. Should output file of name 03_06_20_OGD_Severity_MPT/OGD_1_5h_slice_1_striatum_vid_1_2_0.tif\n",
      "Done with splitting. Should output file of name 03_06_20_OGD_Severity_MPT/OGD_1_5h_slice_1_striatum_vid_1_2_1.tif\n",
      "Done with splitting. Should output file of name 03_06_20_OGD_Severity_MPT/OGD_1_5h_slice_1_striatum_vid_1_2_2.tif\n",
      "Done with splitting. Should output file of name 03_06_20_OGD_Severity_MPT/OGD_1_5h_slice_1_striatum_vid_1_2_3.tif\n",
      "Done with splitting. Should output file of name 03_06_20_OGD_Severity_MPT/OGD_1_5h_slice_1_striatum_vid_1_3_0.tif\n",
      "Done with splitting. Should output file of name 03_06_20_OGD_Severity_MPT/OGD_1_5h_slice_1_striatum_vid_1_3_1.tif\n",
      "Done with splitting. Should output file of name 03_06_20_OGD_Severity_MPT/OGD_1_5h_slice_1_striatum_vid_1_3_2.tif\n",
      "Done with splitting. Should output file of name 03_06_20_OGD_Severity_MPT/OGD_1_5h_slice_1_striatum_vid_1_3_3.tif\n"
     ]
    },
    {
     "name": "stderr",
     "output_type": "stream",
     "text": [
      "/home/ubuntu/miniconda3/lib/python3.6/site-packages/skimage/io/_io.py:132: UserWarning: /home/ubuntu/source/mike_fork/diff_classifier/notebooks/development/OGD_1_5h_slice_1_striatum_vid_2_0_0.tif is a low contrast image\n",
      "  warn('%s is a low contrast image' % fname)\n",
      "/home/ubuntu/miniconda3/lib/python3.6/site-packages/skimage/io/_io.py:132: UserWarning: /home/ubuntu/source/mike_fork/diff_classifier/notebooks/development/OGD_1_5h_slice_1_striatum_vid_2_0_1.tif is a low contrast image\n",
      "  warn('%s is a low contrast image' % fname)\n",
      "/home/ubuntu/miniconda3/lib/python3.6/site-packages/skimage/io/_io.py:132: UserWarning: /home/ubuntu/source/mike_fork/diff_classifier/notebooks/development/OGD_1_5h_slice_1_striatum_vid_2_0_2.tif is a low contrast image\n",
      "  warn('%s is a low contrast image' % fname)\n",
      "/home/ubuntu/miniconda3/lib/python3.6/site-packages/skimage/io/_io.py:132: UserWarning: /home/ubuntu/source/mike_fork/diff_classifier/notebooks/development/OGD_1_5h_slice_1_striatum_vid_2_0_3.tif is a low contrast image\n",
      "  warn('%s is a low contrast image' % fname)\n",
      "/home/ubuntu/miniconda3/lib/python3.6/site-packages/skimage/io/_io.py:132: UserWarning: /home/ubuntu/source/mike_fork/diff_classifier/notebooks/development/OGD_1_5h_slice_1_striatum_vid_2_1_0.tif is a low contrast image\n",
      "  warn('%s is a low contrast image' % fname)\n",
      "/home/ubuntu/miniconda3/lib/python3.6/site-packages/skimage/io/_io.py:132: UserWarning: /home/ubuntu/source/mike_fork/diff_classifier/notebooks/development/OGD_1_5h_slice_1_striatum_vid_2_1_1.tif is a low contrast image\n",
      "  warn('%s is a low contrast image' % fname)\n",
      "/home/ubuntu/miniconda3/lib/python3.6/site-packages/skimage/io/_io.py:132: UserWarning: /home/ubuntu/source/mike_fork/diff_classifier/notebooks/development/OGD_1_5h_slice_1_striatum_vid_2_1_2.tif is a low contrast image\n",
      "  warn('%s is a low contrast image' % fname)\n",
      "/home/ubuntu/miniconda3/lib/python3.6/site-packages/skimage/io/_io.py:132: UserWarning: /home/ubuntu/source/mike_fork/diff_classifier/notebooks/development/OGD_1_5h_slice_1_striatum_vid_2_1_3.tif is a low contrast image\n",
      "  warn('%s is a low contrast image' % fname)\n",
      "/home/ubuntu/miniconda3/lib/python3.6/site-packages/skimage/io/_io.py:132: UserWarning: /home/ubuntu/source/mike_fork/diff_classifier/notebooks/development/OGD_1_5h_slice_1_striatum_vid_2_2_0.tif is a low contrast image\n",
      "  warn('%s is a low contrast image' % fname)\n",
      "/home/ubuntu/miniconda3/lib/python3.6/site-packages/skimage/io/_io.py:132: UserWarning: /home/ubuntu/source/mike_fork/diff_classifier/notebooks/development/OGD_1_5h_slice_1_striatum_vid_2_2_1.tif is a low contrast image\n",
      "  warn('%s is a low contrast image' % fname)\n",
      "/home/ubuntu/miniconda3/lib/python3.6/site-packages/skimage/io/_io.py:132: UserWarning: /home/ubuntu/source/mike_fork/diff_classifier/notebooks/development/OGD_1_5h_slice_1_striatum_vid_2_2_2.tif is a low contrast image\n",
      "  warn('%s is a low contrast image' % fname)\n",
      "/home/ubuntu/miniconda3/lib/python3.6/site-packages/skimage/io/_io.py:132: UserWarning: /home/ubuntu/source/mike_fork/diff_classifier/notebooks/development/OGD_1_5h_slice_1_striatum_vid_2_2_3.tif is a low contrast image\n",
      "  warn('%s is a low contrast image' % fname)\n",
      "/home/ubuntu/miniconda3/lib/python3.6/site-packages/skimage/io/_io.py:132: UserWarning: /home/ubuntu/source/mike_fork/diff_classifier/notebooks/development/OGD_1_5h_slice_1_striatum_vid_2_3_0.tif is a low contrast image\n",
      "  warn('%s is a low contrast image' % fname)\n",
      "/home/ubuntu/miniconda3/lib/python3.6/site-packages/skimage/io/_io.py:132: UserWarning: /home/ubuntu/source/mike_fork/diff_classifier/notebooks/development/OGD_1_5h_slice_1_striatum_vid_2_3_1.tif is a low contrast image\n",
      "  warn('%s is a low contrast image' % fname)\n",
      "/home/ubuntu/miniconda3/lib/python3.6/site-packages/skimage/io/_io.py:132: UserWarning: /home/ubuntu/source/mike_fork/diff_classifier/notebooks/development/OGD_1_5h_slice_1_striatum_vid_2_3_2.tif is a low contrast image\n",
      "  warn('%s is a low contrast image' % fname)\n",
      "/home/ubuntu/miniconda3/lib/python3.6/site-packages/skimage/io/_io.py:132: UserWarning: /home/ubuntu/source/mike_fork/diff_classifier/notebooks/development/OGD_1_5h_slice_1_striatum_vid_2_3_3.tif is a low contrast image\n",
      "  warn('%s is a low contrast image' % fname)\n"
     ]
    },
    {
     "name": "stdout",
     "output_type": "stream",
     "text": [
      "Done with splitting. Should output file of name 03_06_20_OGD_Severity_MPT/OGD_1_5h_slice_1_striatum_vid_2_0_0.tif\n",
      "Done with splitting. Should output file of name 03_06_20_OGD_Severity_MPT/OGD_1_5h_slice_1_striatum_vid_2_0_1.tif\n",
      "Done with splitting. Should output file of name 03_06_20_OGD_Severity_MPT/OGD_1_5h_slice_1_striatum_vid_2_0_2.tif\n",
      "Done with splitting. Should output file of name 03_06_20_OGD_Severity_MPT/OGD_1_5h_slice_1_striatum_vid_2_0_3.tif\n",
      "Done with splitting. Should output file of name 03_06_20_OGD_Severity_MPT/OGD_1_5h_slice_1_striatum_vid_2_1_0.tif\n",
      "Done with splitting. Should output file of name 03_06_20_OGD_Severity_MPT/OGD_1_5h_slice_1_striatum_vid_2_1_1.tif\n",
      "Done with splitting. Should output file of name 03_06_20_OGD_Severity_MPT/OGD_1_5h_slice_1_striatum_vid_2_1_2.tif\n",
      "Done with splitting. Should output file of name 03_06_20_OGD_Severity_MPT/OGD_1_5h_slice_1_striatum_vid_2_1_3.tif\n",
      "Done with splitting. Should output file of name 03_06_20_OGD_Severity_MPT/OGD_1_5h_slice_1_striatum_vid_2_2_0.tif\n",
      "Done with splitting. Should output file of name 03_06_20_OGD_Severity_MPT/OGD_1_5h_slice_1_striatum_vid_2_2_1.tif\n",
      "Done with splitting. Should output file of name 03_06_20_OGD_Severity_MPT/OGD_1_5h_slice_1_striatum_vid_2_2_2.tif\n",
      "Done with splitting. Should output file of name 03_06_20_OGD_Severity_MPT/OGD_1_5h_slice_1_striatum_vid_2_2_3.tif\n",
      "Done with splitting. Should output file of name 03_06_20_OGD_Severity_MPT/OGD_1_5h_slice_1_striatum_vid_2_3_0.tif\n",
      "Done with splitting. Should output file of name 03_06_20_OGD_Severity_MPT/OGD_1_5h_slice_1_striatum_vid_2_3_1.tif\n",
      "Done with splitting. Should output file of name 03_06_20_OGD_Severity_MPT/OGD_1_5h_slice_1_striatum_vid_2_3_2.tif\n",
      "Done with splitting. Should output file of name 03_06_20_OGD_Severity_MPT/OGD_1_5h_slice_1_striatum_vid_2_3_3.tif\n"
     ]
    },
    {
     "name": "stderr",
     "output_type": "stream",
     "text": [
      "/home/ubuntu/miniconda3/lib/python3.6/site-packages/skimage/io/_io.py:132: UserWarning: /home/ubuntu/source/mike_fork/diff_classifier/notebooks/development/OGD_1_5h_slice_1_striatum_vid_3_0_0.tif is a low contrast image\n",
      "  warn('%s is a low contrast image' % fname)\n",
      "/home/ubuntu/miniconda3/lib/python3.6/site-packages/skimage/io/_io.py:132: UserWarning: /home/ubuntu/source/mike_fork/diff_classifier/notebooks/development/OGD_1_5h_slice_1_striatum_vid_3_0_1.tif is a low contrast image\n",
      "  warn('%s is a low contrast image' % fname)\n",
      "/home/ubuntu/miniconda3/lib/python3.6/site-packages/skimage/io/_io.py:132: UserWarning: /home/ubuntu/source/mike_fork/diff_classifier/notebooks/development/OGD_1_5h_slice_1_striatum_vid_3_0_2.tif is a low contrast image\n",
      "  warn('%s is a low contrast image' % fname)\n",
      "/home/ubuntu/miniconda3/lib/python3.6/site-packages/skimage/io/_io.py:132: UserWarning: /home/ubuntu/source/mike_fork/diff_classifier/notebooks/development/OGD_1_5h_slice_1_striatum_vid_3_0_3.tif is a low contrast image\n",
      "  warn('%s is a low contrast image' % fname)\n",
      "/home/ubuntu/miniconda3/lib/python3.6/site-packages/skimage/io/_io.py:132: UserWarning: /home/ubuntu/source/mike_fork/diff_classifier/notebooks/development/OGD_1_5h_slice_1_striatum_vid_3_1_0.tif is a low contrast image\n",
      "  warn('%s is a low contrast image' % fname)\n",
      "/home/ubuntu/miniconda3/lib/python3.6/site-packages/skimage/io/_io.py:132: UserWarning: /home/ubuntu/source/mike_fork/diff_classifier/notebooks/development/OGD_1_5h_slice_1_striatum_vid_3_1_1.tif is a low contrast image\n",
      "  warn('%s is a low contrast image' % fname)\n",
      "/home/ubuntu/miniconda3/lib/python3.6/site-packages/skimage/io/_io.py:132: UserWarning: /home/ubuntu/source/mike_fork/diff_classifier/notebooks/development/OGD_1_5h_slice_1_striatum_vid_3_1_2.tif is a low contrast image\n",
      "  warn('%s is a low contrast image' % fname)\n",
      "/home/ubuntu/miniconda3/lib/python3.6/site-packages/skimage/io/_io.py:132: UserWarning: /home/ubuntu/source/mike_fork/diff_classifier/notebooks/development/OGD_1_5h_slice_1_striatum_vid_3_1_3.tif is a low contrast image\n",
      "  warn('%s is a low contrast image' % fname)\n",
      "/home/ubuntu/miniconda3/lib/python3.6/site-packages/skimage/io/_io.py:132: UserWarning: /home/ubuntu/source/mike_fork/diff_classifier/notebooks/development/OGD_1_5h_slice_1_striatum_vid_3_2_0.tif is a low contrast image\n",
      "  warn('%s is a low contrast image' % fname)\n",
      "/home/ubuntu/miniconda3/lib/python3.6/site-packages/skimage/io/_io.py:132: UserWarning: /home/ubuntu/source/mike_fork/diff_classifier/notebooks/development/OGD_1_5h_slice_1_striatum_vid_3_2_1.tif is a low contrast image\n",
      "  warn('%s is a low contrast image' % fname)\n",
      "/home/ubuntu/miniconda3/lib/python3.6/site-packages/skimage/io/_io.py:132: UserWarning: /home/ubuntu/source/mike_fork/diff_classifier/notebooks/development/OGD_1_5h_slice_1_striatum_vid_3_2_2.tif is a low contrast image\n",
      "  warn('%s is a low contrast image' % fname)\n",
      "/home/ubuntu/miniconda3/lib/python3.6/site-packages/skimage/io/_io.py:132: UserWarning: /home/ubuntu/source/mike_fork/diff_classifier/notebooks/development/OGD_1_5h_slice_1_striatum_vid_3_2_3.tif is a low contrast image\n",
      "  warn('%s is a low contrast image' % fname)\n",
      "/home/ubuntu/miniconda3/lib/python3.6/site-packages/skimage/io/_io.py:132: UserWarning: /home/ubuntu/source/mike_fork/diff_classifier/notebooks/development/OGD_1_5h_slice_1_striatum_vid_3_3_0.tif is a low contrast image\n",
      "  warn('%s is a low contrast image' % fname)\n",
      "/home/ubuntu/miniconda3/lib/python3.6/site-packages/skimage/io/_io.py:132: UserWarning: /home/ubuntu/source/mike_fork/diff_classifier/notebooks/development/OGD_1_5h_slice_1_striatum_vid_3_3_1.tif is a low contrast image\n",
      "  warn('%s is a low contrast image' % fname)\n",
      "/home/ubuntu/miniconda3/lib/python3.6/site-packages/skimage/io/_io.py:132: UserWarning: /home/ubuntu/source/mike_fork/diff_classifier/notebooks/development/OGD_1_5h_slice_1_striatum_vid_3_3_2.tif is a low contrast image\n",
      "  warn('%s is a low contrast image' % fname)\n",
      "/home/ubuntu/miniconda3/lib/python3.6/site-packages/skimage/io/_io.py:132: UserWarning: /home/ubuntu/source/mike_fork/diff_classifier/notebooks/development/OGD_1_5h_slice_1_striatum_vid_3_3_3.tif is a low contrast image\n",
      "  warn('%s is a low contrast image' % fname)\n"
     ]
    },
    {
     "name": "stdout",
     "output_type": "stream",
     "text": [
      "Done with splitting. Should output file of name 03_06_20_OGD_Severity_MPT/OGD_1_5h_slice_1_striatum_vid_3_0_0.tif\n",
      "Done with splitting. Should output file of name 03_06_20_OGD_Severity_MPT/OGD_1_5h_slice_1_striatum_vid_3_0_1.tif\n",
      "Done with splitting. Should output file of name 03_06_20_OGD_Severity_MPT/OGD_1_5h_slice_1_striatum_vid_3_0_2.tif\n",
      "Done with splitting. Should output file of name 03_06_20_OGD_Severity_MPT/OGD_1_5h_slice_1_striatum_vid_3_0_3.tif\n",
      "Done with splitting. Should output file of name 03_06_20_OGD_Severity_MPT/OGD_1_5h_slice_1_striatum_vid_3_1_0.tif\n",
      "Done with splitting. Should output file of name 03_06_20_OGD_Severity_MPT/OGD_1_5h_slice_1_striatum_vid_3_1_1.tif\n",
      "Done with splitting. Should output file of name 03_06_20_OGD_Severity_MPT/OGD_1_5h_slice_1_striatum_vid_3_1_2.tif\n",
      "Done with splitting. Should output file of name 03_06_20_OGD_Severity_MPT/OGD_1_5h_slice_1_striatum_vid_3_1_3.tif\n",
      "Done with splitting. Should output file of name 03_06_20_OGD_Severity_MPT/OGD_1_5h_slice_1_striatum_vid_3_2_0.tif\n",
      "Done with splitting. Should output file of name 03_06_20_OGD_Severity_MPT/OGD_1_5h_slice_1_striatum_vid_3_2_1.tif\n",
      "Done with splitting. Should output file of name 03_06_20_OGD_Severity_MPT/OGD_1_5h_slice_1_striatum_vid_3_2_2.tif\n",
      "Done with splitting. Should output file of name 03_06_20_OGD_Severity_MPT/OGD_1_5h_slice_1_striatum_vid_3_2_3.tif\n",
      "Done with splitting. Should output file of name 03_06_20_OGD_Severity_MPT/OGD_1_5h_slice_1_striatum_vid_3_3_0.tif\n",
      "Done with splitting. Should output file of name 03_06_20_OGD_Severity_MPT/OGD_1_5h_slice_1_striatum_vid_3_3_1.tif\n",
      "Done with splitting. Should output file of name 03_06_20_OGD_Severity_MPT/OGD_1_5h_slice_1_striatum_vid_3_3_2.tif\n",
      "Done with splitting. Should output file of name 03_06_20_OGD_Severity_MPT/OGD_1_5h_slice_1_striatum_vid_3_3_3.tif\n"
     ]
    },
    {
     "name": "stderr",
     "output_type": "stream",
     "text": [
      "/home/ubuntu/miniconda3/lib/python3.6/site-packages/skimage/io/_io.py:132: UserWarning: /home/ubuntu/source/mike_fork/diff_classifier/notebooks/development/OGD_1_5h_slice_1_striatum_vid_4_0_0.tif is a low contrast image\n",
      "  warn('%s is a low contrast image' % fname)\n",
      "/home/ubuntu/miniconda3/lib/python3.6/site-packages/skimage/io/_io.py:132: UserWarning: /home/ubuntu/source/mike_fork/diff_classifier/notebooks/development/OGD_1_5h_slice_1_striatum_vid_4_0_1.tif is a low contrast image\n",
      "  warn('%s is a low contrast image' % fname)\n",
      "/home/ubuntu/miniconda3/lib/python3.6/site-packages/skimage/io/_io.py:132: UserWarning: /home/ubuntu/source/mike_fork/diff_classifier/notebooks/development/OGD_1_5h_slice_1_striatum_vid_4_0_2.tif is a low contrast image\n",
      "  warn('%s is a low contrast image' % fname)\n",
      "/home/ubuntu/miniconda3/lib/python3.6/site-packages/skimage/io/_io.py:132: UserWarning: /home/ubuntu/source/mike_fork/diff_classifier/notebooks/development/OGD_1_5h_slice_1_striatum_vid_4_0_3.tif is a low contrast image\n",
      "  warn('%s is a low contrast image' % fname)\n",
      "/home/ubuntu/miniconda3/lib/python3.6/site-packages/skimage/io/_io.py:132: UserWarning: /home/ubuntu/source/mike_fork/diff_classifier/notebooks/development/OGD_1_5h_slice_1_striatum_vid_4_1_0.tif is a low contrast image\n",
      "  warn('%s is a low contrast image' % fname)\n",
      "/home/ubuntu/miniconda3/lib/python3.6/site-packages/skimage/io/_io.py:132: UserWarning: /home/ubuntu/source/mike_fork/diff_classifier/notebooks/development/OGD_1_5h_slice_1_striatum_vid_4_1_1.tif is a low contrast image\n",
      "  warn('%s is a low contrast image' % fname)\n",
      "/home/ubuntu/miniconda3/lib/python3.6/site-packages/skimage/io/_io.py:132: UserWarning: /home/ubuntu/source/mike_fork/diff_classifier/notebooks/development/OGD_1_5h_slice_1_striatum_vid_4_1_2.tif is a low contrast image\n",
      "  warn('%s is a low contrast image' % fname)\n",
      "/home/ubuntu/miniconda3/lib/python3.6/site-packages/skimage/io/_io.py:132: UserWarning: /home/ubuntu/source/mike_fork/diff_classifier/notebooks/development/OGD_1_5h_slice_1_striatum_vid_4_1_3.tif is a low contrast image\n",
      "  warn('%s is a low contrast image' % fname)\n",
      "/home/ubuntu/miniconda3/lib/python3.6/site-packages/skimage/io/_io.py:132: UserWarning: /home/ubuntu/source/mike_fork/diff_classifier/notebooks/development/OGD_1_5h_slice_1_striatum_vid_4_2_0.tif is a low contrast image\n",
      "  warn('%s is a low contrast image' % fname)\n",
      "/home/ubuntu/miniconda3/lib/python3.6/site-packages/skimage/io/_io.py:132: UserWarning: /home/ubuntu/source/mike_fork/diff_classifier/notebooks/development/OGD_1_5h_slice_1_striatum_vid_4_2_1.tif is a low contrast image\n",
      "  warn('%s is a low contrast image' % fname)\n",
      "/home/ubuntu/miniconda3/lib/python3.6/site-packages/skimage/io/_io.py:132: UserWarning: /home/ubuntu/source/mike_fork/diff_classifier/notebooks/development/OGD_1_5h_slice_1_striatum_vid_4_2_2.tif is a low contrast image\n",
      "  warn('%s is a low contrast image' % fname)\n",
      "/home/ubuntu/miniconda3/lib/python3.6/site-packages/skimage/io/_io.py:132: UserWarning: /home/ubuntu/source/mike_fork/diff_classifier/notebooks/development/OGD_1_5h_slice_1_striatum_vid_4_2_3.tif is a low contrast image\n",
      "  warn('%s is a low contrast image' % fname)\n",
      "/home/ubuntu/miniconda3/lib/python3.6/site-packages/skimage/io/_io.py:132: UserWarning: /home/ubuntu/source/mike_fork/diff_classifier/notebooks/development/OGD_1_5h_slice_1_striatum_vid_4_3_0.tif is a low contrast image\n",
      "  warn('%s is a low contrast image' % fname)\n",
      "/home/ubuntu/miniconda3/lib/python3.6/site-packages/skimage/io/_io.py:132: UserWarning: /home/ubuntu/source/mike_fork/diff_classifier/notebooks/development/OGD_1_5h_slice_1_striatum_vid_4_3_1.tif is a low contrast image\n",
      "  warn('%s is a low contrast image' % fname)\n",
      "/home/ubuntu/miniconda3/lib/python3.6/site-packages/skimage/io/_io.py:132: UserWarning: /home/ubuntu/source/mike_fork/diff_classifier/notebooks/development/OGD_1_5h_slice_1_striatum_vid_4_3_2.tif is a low contrast image\n",
      "  warn('%s is a low contrast image' % fname)\n",
      "/home/ubuntu/miniconda3/lib/python3.6/site-packages/skimage/io/_io.py:132: UserWarning: /home/ubuntu/source/mike_fork/diff_classifier/notebooks/development/OGD_1_5h_slice_1_striatum_vid_4_3_3.tif is a low contrast image\n",
      "  warn('%s is a low contrast image' % fname)\n"
     ]
    },
    {
     "name": "stdout",
     "output_type": "stream",
     "text": [
      "Done with splitting. Should output file of name 03_06_20_OGD_Severity_MPT/OGD_1_5h_slice_1_striatum_vid_4_0_0.tif\n",
      "Done with splitting. Should output file of name 03_06_20_OGD_Severity_MPT/OGD_1_5h_slice_1_striatum_vid_4_0_1.tif\n",
      "Done with splitting. Should output file of name 03_06_20_OGD_Severity_MPT/OGD_1_5h_slice_1_striatum_vid_4_0_2.tif\n",
      "Done with splitting. Should output file of name 03_06_20_OGD_Severity_MPT/OGD_1_5h_slice_1_striatum_vid_4_0_3.tif\n",
      "Done with splitting. Should output file of name 03_06_20_OGD_Severity_MPT/OGD_1_5h_slice_1_striatum_vid_4_1_0.tif\n",
      "Done with splitting. Should output file of name 03_06_20_OGD_Severity_MPT/OGD_1_5h_slice_1_striatum_vid_4_1_1.tif\n",
      "Done with splitting. Should output file of name 03_06_20_OGD_Severity_MPT/OGD_1_5h_slice_1_striatum_vid_4_1_2.tif\n",
      "Done with splitting. Should output file of name 03_06_20_OGD_Severity_MPT/OGD_1_5h_slice_1_striatum_vid_4_1_3.tif\n",
      "Done with splitting. Should output file of name 03_06_20_OGD_Severity_MPT/OGD_1_5h_slice_1_striatum_vid_4_2_0.tif\n",
      "Done with splitting. Should output file of name 03_06_20_OGD_Severity_MPT/OGD_1_5h_slice_1_striatum_vid_4_2_1.tif\n",
      "Done with splitting. Should output file of name 03_06_20_OGD_Severity_MPT/OGD_1_5h_slice_1_striatum_vid_4_2_2.tif\n",
      "Done with splitting. Should output file of name 03_06_20_OGD_Severity_MPT/OGD_1_5h_slice_1_striatum_vid_4_2_3.tif\n",
      "Done with splitting. Should output file of name 03_06_20_OGD_Severity_MPT/OGD_1_5h_slice_1_striatum_vid_4_3_0.tif\n",
      "Done with splitting. Should output file of name 03_06_20_OGD_Severity_MPT/OGD_1_5h_slice_1_striatum_vid_4_3_1.tif\n",
      "Done with splitting. Should output file of name 03_06_20_OGD_Severity_MPT/OGD_1_5h_slice_1_striatum_vid_4_3_2.tif\n",
      "Done with splitting. Should output file of name 03_06_20_OGD_Severity_MPT/OGD_1_5h_slice_1_striatum_vid_4_3_3.tif\n"
     ]
    },
    {
     "name": "stderr",
     "output_type": "stream",
     "text": [
      "/home/ubuntu/miniconda3/lib/python3.6/site-packages/skimage/io/_io.py:132: UserWarning: /home/ubuntu/source/mike_fork/diff_classifier/notebooks/development/OGD_1_5h_slice_1_striatum_vid_5_0_0.tif is a low contrast image\n",
      "  warn('%s is a low contrast image' % fname)\n",
      "/home/ubuntu/miniconda3/lib/python3.6/site-packages/skimage/io/_io.py:132: UserWarning: /home/ubuntu/source/mike_fork/diff_classifier/notebooks/development/OGD_1_5h_slice_1_striatum_vid_5_0_1.tif is a low contrast image\n",
      "  warn('%s is a low contrast image' % fname)\n",
      "/home/ubuntu/miniconda3/lib/python3.6/site-packages/skimage/io/_io.py:132: UserWarning: /home/ubuntu/source/mike_fork/diff_classifier/notebooks/development/OGD_1_5h_slice_1_striatum_vid_5_0_2.tif is a low contrast image\n",
      "  warn('%s is a low contrast image' % fname)\n",
      "/home/ubuntu/miniconda3/lib/python3.6/site-packages/skimage/io/_io.py:132: UserWarning: /home/ubuntu/source/mike_fork/diff_classifier/notebooks/development/OGD_1_5h_slice_1_striatum_vid_5_0_3.tif is a low contrast image\n",
      "  warn('%s is a low contrast image' % fname)\n",
      "/home/ubuntu/miniconda3/lib/python3.6/site-packages/skimage/io/_io.py:132: UserWarning: /home/ubuntu/source/mike_fork/diff_classifier/notebooks/development/OGD_1_5h_slice_1_striatum_vid_5_1_0.tif is a low contrast image\n",
      "  warn('%s is a low contrast image' % fname)\n",
      "/home/ubuntu/miniconda3/lib/python3.6/site-packages/skimage/io/_io.py:132: UserWarning: /home/ubuntu/source/mike_fork/diff_classifier/notebooks/development/OGD_1_5h_slice_1_striatum_vid_5_1_1.tif is a low contrast image\n",
      "  warn('%s is a low contrast image' % fname)\n",
      "/home/ubuntu/miniconda3/lib/python3.6/site-packages/skimage/io/_io.py:132: UserWarning: /home/ubuntu/source/mike_fork/diff_classifier/notebooks/development/OGD_1_5h_slice_1_striatum_vid_5_1_2.tif is a low contrast image\n",
      "  warn('%s is a low contrast image' % fname)\n",
      "/home/ubuntu/miniconda3/lib/python3.6/site-packages/skimage/io/_io.py:132: UserWarning: /home/ubuntu/source/mike_fork/diff_classifier/notebooks/development/OGD_1_5h_slice_1_striatum_vid_5_1_3.tif is a low contrast image\n",
      "  warn('%s is a low contrast image' % fname)\n",
      "/home/ubuntu/miniconda3/lib/python3.6/site-packages/skimage/io/_io.py:132: UserWarning: /home/ubuntu/source/mike_fork/diff_classifier/notebooks/development/OGD_1_5h_slice_1_striatum_vid_5_2_0.tif is a low contrast image\n",
      "  warn('%s is a low contrast image' % fname)\n",
      "/home/ubuntu/miniconda3/lib/python3.6/site-packages/skimage/io/_io.py:132: UserWarning: /home/ubuntu/source/mike_fork/diff_classifier/notebooks/development/OGD_1_5h_slice_1_striatum_vid_5_2_1.tif is a low contrast image\n",
      "  warn('%s is a low contrast image' % fname)\n",
      "/home/ubuntu/miniconda3/lib/python3.6/site-packages/skimage/io/_io.py:132: UserWarning: /home/ubuntu/source/mike_fork/diff_classifier/notebooks/development/OGD_1_5h_slice_1_striatum_vid_5_2_2.tif is a low contrast image\n",
      "  warn('%s is a low contrast image' % fname)\n",
      "/home/ubuntu/miniconda3/lib/python3.6/site-packages/skimage/io/_io.py:132: UserWarning: /home/ubuntu/source/mike_fork/diff_classifier/notebooks/development/OGD_1_5h_slice_1_striatum_vid_5_2_3.tif is a low contrast image\n",
      "  warn('%s is a low contrast image' % fname)\n",
      "/home/ubuntu/miniconda3/lib/python3.6/site-packages/skimage/io/_io.py:132: UserWarning: /home/ubuntu/source/mike_fork/diff_classifier/notebooks/development/OGD_1_5h_slice_1_striatum_vid_5_3_0.tif is a low contrast image\n",
      "  warn('%s is a low contrast image' % fname)\n",
      "/home/ubuntu/miniconda3/lib/python3.6/site-packages/skimage/io/_io.py:132: UserWarning: /home/ubuntu/source/mike_fork/diff_classifier/notebooks/development/OGD_1_5h_slice_1_striatum_vid_5_3_1.tif is a low contrast image\n",
      "  warn('%s is a low contrast image' % fname)\n",
      "/home/ubuntu/miniconda3/lib/python3.6/site-packages/skimage/io/_io.py:132: UserWarning: /home/ubuntu/source/mike_fork/diff_classifier/notebooks/development/OGD_1_5h_slice_1_striatum_vid_5_3_2.tif is a low contrast image\n",
      "  warn('%s is a low contrast image' % fname)\n",
      "/home/ubuntu/miniconda3/lib/python3.6/site-packages/skimage/io/_io.py:132: UserWarning: /home/ubuntu/source/mike_fork/diff_classifier/notebooks/development/OGD_1_5h_slice_1_striatum_vid_5_3_3.tif is a low contrast image\n",
      "  warn('%s is a low contrast image' % fname)\n"
     ]
    },
    {
     "name": "stdout",
     "output_type": "stream",
     "text": [
      "Done with splitting. Should output file of name 03_06_20_OGD_Severity_MPT/OGD_1_5h_slice_1_striatum_vid_5_0_0.tif\n",
      "Done with splitting. Should output file of name 03_06_20_OGD_Severity_MPT/OGD_1_5h_slice_1_striatum_vid_5_0_1.tif\n",
      "Done with splitting. Should output file of name 03_06_20_OGD_Severity_MPT/OGD_1_5h_slice_1_striatum_vid_5_0_2.tif\n",
      "Done with splitting. Should output file of name 03_06_20_OGD_Severity_MPT/OGD_1_5h_slice_1_striatum_vid_5_0_3.tif\n",
      "Done with splitting. Should output file of name 03_06_20_OGD_Severity_MPT/OGD_1_5h_slice_1_striatum_vid_5_1_0.tif\n",
      "Done with splitting. Should output file of name 03_06_20_OGD_Severity_MPT/OGD_1_5h_slice_1_striatum_vid_5_1_1.tif\n",
      "Done with splitting. Should output file of name 03_06_20_OGD_Severity_MPT/OGD_1_5h_slice_1_striatum_vid_5_1_2.tif\n",
      "Done with splitting. Should output file of name 03_06_20_OGD_Severity_MPT/OGD_1_5h_slice_1_striatum_vid_5_1_3.tif\n",
      "Done with splitting. Should output file of name 03_06_20_OGD_Severity_MPT/OGD_1_5h_slice_1_striatum_vid_5_2_0.tif\n",
      "Done with splitting. Should output file of name 03_06_20_OGD_Severity_MPT/OGD_1_5h_slice_1_striatum_vid_5_2_1.tif\n",
      "Done with splitting. Should output file of name 03_06_20_OGD_Severity_MPT/OGD_1_5h_slice_1_striatum_vid_5_2_2.tif\n",
      "Done with splitting. Should output file of name 03_06_20_OGD_Severity_MPT/OGD_1_5h_slice_1_striatum_vid_5_2_3.tif\n",
      "Done with splitting. Should output file of name 03_06_20_OGD_Severity_MPT/OGD_1_5h_slice_1_striatum_vid_5_3_0.tif\n",
      "Done with splitting. Should output file of name 03_06_20_OGD_Severity_MPT/OGD_1_5h_slice_1_striatum_vid_5_3_1.tif\n",
      "Done with splitting. Should output file of name 03_06_20_OGD_Severity_MPT/OGD_1_5h_slice_1_striatum_vid_5_3_2.tif\n",
      "Done with splitting. Should output file of name 03_06_20_OGD_Severity_MPT/OGD_1_5h_slice_1_striatum_vid_5_3_3.tif\n"
     ]
    },
    {
     "name": "stderr",
     "output_type": "stream",
     "text": [
      "/home/ubuntu/miniconda3/lib/python3.6/site-packages/skimage/io/_io.py:132: UserWarning: /home/ubuntu/source/mike_fork/diff_classifier/notebooks/development/OGD_1_5h_slice_2_cortex_vid_1_0_0.tif is a low contrast image\n",
      "  warn('%s is a low contrast image' % fname)\n",
      "/home/ubuntu/miniconda3/lib/python3.6/site-packages/skimage/io/_io.py:132: UserWarning: /home/ubuntu/source/mike_fork/diff_classifier/notebooks/development/OGD_1_5h_slice_2_cortex_vid_1_0_1.tif is a low contrast image\n",
      "  warn('%s is a low contrast image' % fname)\n",
      "/home/ubuntu/miniconda3/lib/python3.6/site-packages/skimage/io/_io.py:132: UserWarning: /home/ubuntu/source/mike_fork/diff_classifier/notebooks/development/OGD_1_5h_slice_2_cortex_vid_1_0_2.tif is a low contrast image\n",
      "  warn('%s is a low contrast image' % fname)\n",
      "/home/ubuntu/miniconda3/lib/python3.6/site-packages/skimage/io/_io.py:132: UserWarning: /home/ubuntu/source/mike_fork/diff_classifier/notebooks/development/OGD_1_5h_slice_2_cortex_vid_1_0_3.tif is a low contrast image\n",
      "  warn('%s is a low contrast image' % fname)\n",
      "/home/ubuntu/miniconda3/lib/python3.6/site-packages/skimage/io/_io.py:132: UserWarning: /home/ubuntu/source/mike_fork/diff_classifier/notebooks/development/OGD_1_5h_slice_2_cortex_vid_1_1_0.tif is a low contrast image\n",
      "  warn('%s is a low contrast image' % fname)\n",
      "/home/ubuntu/miniconda3/lib/python3.6/site-packages/skimage/io/_io.py:132: UserWarning: /home/ubuntu/source/mike_fork/diff_classifier/notebooks/development/OGD_1_5h_slice_2_cortex_vid_1_1_1.tif is a low contrast image\n",
      "  warn('%s is a low contrast image' % fname)\n",
      "/home/ubuntu/miniconda3/lib/python3.6/site-packages/skimage/io/_io.py:132: UserWarning: /home/ubuntu/source/mike_fork/diff_classifier/notebooks/development/OGD_1_5h_slice_2_cortex_vid_1_1_2.tif is a low contrast image\n",
      "  warn('%s is a low contrast image' % fname)\n",
      "/home/ubuntu/miniconda3/lib/python3.6/site-packages/skimage/io/_io.py:132: UserWarning: /home/ubuntu/source/mike_fork/diff_classifier/notebooks/development/OGD_1_5h_slice_2_cortex_vid_1_1_3.tif is a low contrast image\n",
      "  warn('%s is a low contrast image' % fname)\n",
      "/home/ubuntu/miniconda3/lib/python3.6/site-packages/skimage/io/_io.py:132: UserWarning: /home/ubuntu/source/mike_fork/diff_classifier/notebooks/development/OGD_1_5h_slice_2_cortex_vid_1_2_0.tif is a low contrast image\n",
      "  warn('%s is a low contrast image' % fname)\n",
      "/home/ubuntu/miniconda3/lib/python3.6/site-packages/skimage/io/_io.py:132: UserWarning: /home/ubuntu/source/mike_fork/diff_classifier/notebooks/development/OGD_1_5h_slice_2_cortex_vid_1_2_1.tif is a low contrast image\n",
      "  warn('%s is a low contrast image' % fname)\n",
      "/home/ubuntu/miniconda3/lib/python3.6/site-packages/skimage/io/_io.py:132: UserWarning: /home/ubuntu/source/mike_fork/diff_classifier/notebooks/development/OGD_1_5h_slice_2_cortex_vid_1_2_2.tif is a low contrast image\n",
      "  warn('%s is a low contrast image' % fname)\n",
      "/home/ubuntu/miniconda3/lib/python3.6/site-packages/skimage/io/_io.py:132: UserWarning: /home/ubuntu/source/mike_fork/diff_classifier/notebooks/development/OGD_1_5h_slice_2_cortex_vid_1_2_3.tif is a low contrast image\n",
      "  warn('%s is a low contrast image' % fname)\n",
      "/home/ubuntu/miniconda3/lib/python3.6/site-packages/skimage/io/_io.py:132: UserWarning: /home/ubuntu/source/mike_fork/diff_classifier/notebooks/development/OGD_1_5h_slice_2_cortex_vid_1_3_0.tif is a low contrast image\n",
      "  warn('%s is a low contrast image' % fname)\n",
      "/home/ubuntu/miniconda3/lib/python3.6/site-packages/skimage/io/_io.py:132: UserWarning: /home/ubuntu/source/mike_fork/diff_classifier/notebooks/development/OGD_1_5h_slice_2_cortex_vid_1_3_1.tif is a low contrast image\n",
      "  warn('%s is a low contrast image' % fname)\n",
      "/home/ubuntu/miniconda3/lib/python3.6/site-packages/skimage/io/_io.py:132: UserWarning: /home/ubuntu/source/mike_fork/diff_classifier/notebooks/development/OGD_1_5h_slice_2_cortex_vid_1_3_2.tif is a low contrast image\n",
      "  warn('%s is a low contrast image' % fname)\n",
      "/home/ubuntu/miniconda3/lib/python3.6/site-packages/skimage/io/_io.py:132: UserWarning: /home/ubuntu/source/mike_fork/diff_classifier/notebooks/development/OGD_1_5h_slice_2_cortex_vid_1_3_3.tif is a low contrast image\n",
      "  warn('%s is a low contrast image' % fname)\n"
     ]
    },
    {
     "name": "stdout",
     "output_type": "stream",
     "text": [
      "Done with splitting. Should output file of name 03_06_20_OGD_Severity_MPT/OGD_1_5h_slice_2_cortex_vid_1_0_0.tif\n",
      "Done with splitting. Should output file of name 03_06_20_OGD_Severity_MPT/OGD_1_5h_slice_2_cortex_vid_1_0_1.tif\n",
      "Done with splitting. Should output file of name 03_06_20_OGD_Severity_MPT/OGD_1_5h_slice_2_cortex_vid_1_0_2.tif\n",
      "Done with splitting. Should output file of name 03_06_20_OGD_Severity_MPT/OGD_1_5h_slice_2_cortex_vid_1_0_3.tif\n",
      "Done with splitting. Should output file of name 03_06_20_OGD_Severity_MPT/OGD_1_5h_slice_2_cortex_vid_1_1_0.tif\n",
      "Done with splitting. Should output file of name 03_06_20_OGD_Severity_MPT/OGD_1_5h_slice_2_cortex_vid_1_1_1.tif\n",
      "Done with splitting. Should output file of name 03_06_20_OGD_Severity_MPT/OGD_1_5h_slice_2_cortex_vid_1_1_2.tif\n",
      "Done with splitting. Should output file of name 03_06_20_OGD_Severity_MPT/OGD_1_5h_slice_2_cortex_vid_1_1_3.tif\n",
      "Done with splitting. Should output file of name 03_06_20_OGD_Severity_MPT/OGD_1_5h_slice_2_cortex_vid_1_2_0.tif\n",
      "Done with splitting. Should output file of name 03_06_20_OGD_Severity_MPT/OGD_1_5h_slice_2_cortex_vid_1_2_1.tif\n",
      "Done with splitting. Should output file of name 03_06_20_OGD_Severity_MPT/OGD_1_5h_slice_2_cortex_vid_1_2_2.tif\n",
      "Done with splitting. Should output file of name 03_06_20_OGD_Severity_MPT/OGD_1_5h_slice_2_cortex_vid_1_2_3.tif\n",
      "Done with splitting. Should output file of name 03_06_20_OGD_Severity_MPT/OGD_1_5h_slice_2_cortex_vid_1_3_0.tif\n",
      "Done with splitting. Should output file of name 03_06_20_OGD_Severity_MPT/OGD_1_5h_slice_2_cortex_vid_1_3_1.tif\n",
      "Done with splitting. Should output file of name 03_06_20_OGD_Severity_MPT/OGD_1_5h_slice_2_cortex_vid_1_3_2.tif\n",
      "Done with splitting. Should output file of name 03_06_20_OGD_Severity_MPT/OGD_1_5h_slice_2_cortex_vid_1_3_3.tif\n"
     ]
    },
    {
     "name": "stderr",
     "output_type": "stream",
     "text": [
      "/home/ubuntu/miniconda3/lib/python3.6/site-packages/skimage/io/_io.py:132: UserWarning: /home/ubuntu/source/mike_fork/diff_classifier/notebooks/development/OGD_1_5h_slice_2_cortex_vid_2_0_0.tif is a low contrast image\n",
      "  warn('%s is a low contrast image' % fname)\n",
      "/home/ubuntu/miniconda3/lib/python3.6/site-packages/skimage/io/_io.py:132: UserWarning: /home/ubuntu/source/mike_fork/diff_classifier/notebooks/development/OGD_1_5h_slice_2_cortex_vid_2_0_1.tif is a low contrast image\n",
      "  warn('%s is a low contrast image' % fname)\n",
      "/home/ubuntu/miniconda3/lib/python3.6/site-packages/skimage/io/_io.py:132: UserWarning: /home/ubuntu/source/mike_fork/diff_classifier/notebooks/development/OGD_1_5h_slice_2_cortex_vid_2_0_2.tif is a low contrast image\n",
      "  warn('%s is a low contrast image' % fname)\n",
      "/home/ubuntu/miniconda3/lib/python3.6/site-packages/skimage/io/_io.py:132: UserWarning: /home/ubuntu/source/mike_fork/diff_classifier/notebooks/development/OGD_1_5h_slice_2_cortex_vid_2_0_3.tif is a low contrast image\n",
      "  warn('%s is a low contrast image' % fname)\n",
      "/home/ubuntu/miniconda3/lib/python3.6/site-packages/skimage/io/_io.py:132: UserWarning: /home/ubuntu/source/mike_fork/diff_classifier/notebooks/development/OGD_1_5h_slice_2_cortex_vid_2_1_0.tif is a low contrast image\n",
      "  warn('%s is a low contrast image' % fname)\n",
      "/home/ubuntu/miniconda3/lib/python3.6/site-packages/skimage/io/_io.py:132: UserWarning: /home/ubuntu/source/mike_fork/diff_classifier/notebooks/development/OGD_1_5h_slice_2_cortex_vid_2_1_1.tif is a low contrast image\n",
      "  warn('%s is a low contrast image' % fname)\n",
      "/home/ubuntu/miniconda3/lib/python3.6/site-packages/skimage/io/_io.py:132: UserWarning: /home/ubuntu/source/mike_fork/diff_classifier/notebooks/development/OGD_1_5h_slice_2_cortex_vid_2_1_2.tif is a low contrast image\n",
      "  warn('%s is a low contrast image' % fname)\n",
      "/home/ubuntu/miniconda3/lib/python3.6/site-packages/skimage/io/_io.py:132: UserWarning: /home/ubuntu/source/mike_fork/diff_classifier/notebooks/development/OGD_1_5h_slice_2_cortex_vid_2_1_3.tif is a low contrast image\n",
      "  warn('%s is a low contrast image' % fname)\n",
      "/home/ubuntu/miniconda3/lib/python3.6/site-packages/skimage/io/_io.py:132: UserWarning: /home/ubuntu/source/mike_fork/diff_classifier/notebooks/development/OGD_1_5h_slice_2_cortex_vid_2_2_0.tif is a low contrast image\n",
      "  warn('%s is a low contrast image' % fname)\n",
      "/home/ubuntu/miniconda3/lib/python3.6/site-packages/skimage/io/_io.py:132: UserWarning: /home/ubuntu/source/mike_fork/diff_classifier/notebooks/development/OGD_1_5h_slice_2_cortex_vid_2_2_1.tif is a low contrast image\n",
      "  warn('%s is a low contrast image' % fname)\n",
      "/home/ubuntu/miniconda3/lib/python3.6/site-packages/skimage/io/_io.py:132: UserWarning: /home/ubuntu/source/mike_fork/diff_classifier/notebooks/development/OGD_1_5h_slice_2_cortex_vid_2_2_2.tif is a low contrast image\n",
      "  warn('%s is a low contrast image' % fname)\n",
      "/home/ubuntu/miniconda3/lib/python3.6/site-packages/skimage/io/_io.py:132: UserWarning: /home/ubuntu/source/mike_fork/diff_classifier/notebooks/development/OGD_1_5h_slice_2_cortex_vid_2_2_3.tif is a low contrast image\n",
      "  warn('%s is a low contrast image' % fname)\n",
      "/home/ubuntu/miniconda3/lib/python3.6/site-packages/skimage/io/_io.py:132: UserWarning: /home/ubuntu/source/mike_fork/diff_classifier/notebooks/development/OGD_1_5h_slice_2_cortex_vid_2_3_0.tif is a low contrast image\n",
      "  warn('%s is a low contrast image' % fname)\n",
      "/home/ubuntu/miniconda3/lib/python3.6/site-packages/skimage/io/_io.py:132: UserWarning: /home/ubuntu/source/mike_fork/diff_classifier/notebooks/development/OGD_1_5h_slice_2_cortex_vid_2_3_1.tif is a low contrast image\n",
      "  warn('%s is a low contrast image' % fname)\n",
      "/home/ubuntu/miniconda3/lib/python3.6/site-packages/skimage/io/_io.py:132: UserWarning: /home/ubuntu/source/mike_fork/diff_classifier/notebooks/development/OGD_1_5h_slice_2_cortex_vid_2_3_2.tif is a low contrast image\n",
      "  warn('%s is a low contrast image' % fname)\n",
      "/home/ubuntu/miniconda3/lib/python3.6/site-packages/skimage/io/_io.py:132: UserWarning: /home/ubuntu/source/mike_fork/diff_classifier/notebooks/development/OGD_1_5h_slice_2_cortex_vid_2_3_3.tif is a low contrast image\n",
      "  warn('%s is a low contrast image' % fname)\n"
     ]
    },
    {
     "name": "stdout",
     "output_type": "stream",
     "text": [
      "Done with splitting. Should output file of name 03_06_20_OGD_Severity_MPT/OGD_1_5h_slice_2_cortex_vid_2_0_0.tif\n",
      "Done with splitting. Should output file of name 03_06_20_OGD_Severity_MPT/OGD_1_5h_slice_2_cortex_vid_2_0_1.tif\n",
      "Done with splitting. Should output file of name 03_06_20_OGD_Severity_MPT/OGD_1_5h_slice_2_cortex_vid_2_0_2.tif\n",
      "Done with splitting. Should output file of name 03_06_20_OGD_Severity_MPT/OGD_1_5h_slice_2_cortex_vid_2_0_3.tif\n",
      "Done with splitting. Should output file of name 03_06_20_OGD_Severity_MPT/OGD_1_5h_slice_2_cortex_vid_2_1_0.tif\n",
      "Done with splitting. Should output file of name 03_06_20_OGD_Severity_MPT/OGD_1_5h_slice_2_cortex_vid_2_1_1.tif\n",
      "Done with splitting. Should output file of name 03_06_20_OGD_Severity_MPT/OGD_1_5h_slice_2_cortex_vid_2_1_2.tif\n",
      "Done with splitting. Should output file of name 03_06_20_OGD_Severity_MPT/OGD_1_5h_slice_2_cortex_vid_2_1_3.tif\n",
      "Done with splitting. Should output file of name 03_06_20_OGD_Severity_MPT/OGD_1_5h_slice_2_cortex_vid_2_2_0.tif\n",
      "Done with splitting. Should output file of name 03_06_20_OGD_Severity_MPT/OGD_1_5h_slice_2_cortex_vid_2_2_1.tif\n",
      "Done with splitting. Should output file of name 03_06_20_OGD_Severity_MPT/OGD_1_5h_slice_2_cortex_vid_2_2_2.tif\n",
      "Done with splitting. Should output file of name 03_06_20_OGD_Severity_MPT/OGD_1_5h_slice_2_cortex_vid_2_2_3.tif\n",
      "Done with splitting. Should output file of name 03_06_20_OGD_Severity_MPT/OGD_1_5h_slice_2_cortex_vid_2_3_0.tif\n",
      "Done with splitting. Should output file of name 03_06_20_OGD_Severity_MPT/OGD_1_5h_slice_2_cortex_vid_2_3_1.tif\n",
      "Done with splitting. Should output file of name 03_06_20_OGD_Severity_MPT/OGD_1_5h_slice_2_cortex_vid_2_3_2.tif\n",
      "Done with splitting. Should output file of name 03_06_20_OGD_Severity_MPT/OGD_1_5h_slice_2_cortex_vid_2_3_3.tif\n"
     ]
    },
    {
     "name": "stderr",
     "output_type": "stream",
     "text": [
      "/home/ubuntu/miniconda3/lib/python3.6/site-packages/skimage/io/_io.py:132: UserWarning: /home/ubuntu/source/mike_fork/diff_classifier/notebooks/development/OGD_1_5h_slice_2_cortex_vid_3_0_0.tif is a low contrast image\n",
      "  warn('%s is a low contrast image' % fname)\n",
      "/home/ubuntu/miniconda3/lib/python3.6/site-packages/skimage/io/_io.py:132: UserWarning: /home/ubuntu/source/mike_fork/diff_classifier/notebooks/development/OGD_1_5h_slice_2_cortex_vid_3_0_1.tif is a low contrast image\n",
      "  warn('%s is a low contrast image' % fname)\n",
      "/home/ubuntu/miniconda3/lib/python3.6/site-packages/skimage/io/_io.py:132: UserWarning: /home/ubuntu/source/mike_fork/diff_classifier/notebooks/development/OGD_1_5h_slice_2_cortex_vid_3_0_2.tif is a low contrast image\n",
      "  warn('%s is a low contrast image' % fname)\n",
      "/home/ubuntu/miniconda3/lib/python3.6/site-packages/skimage/io/_io.py:132: UserWarning: /home/ubuntu/source/mike_fork/diff_classifier/notebooks/development/OGD_1_5h_slice_2_cortex_vid_3_0_3.tif is a low contrast image\n",
      "  warn('%s is a low contrast image' % fname)\n",
      "/home/ubuntu/miniconda3/lib/python3.6/site-packages/skimage/io/_io.py:132: UserWarning: /home/ubuntu/source/mike_fork/diff_classifier/notebooks/development/OGD_1_5h_slice_2_cortex_vid_3_1_0.tif is a low contrast image\n",
      "  warn('%s is a low contrast image' % fname)\n",
      "/home/ubuntu/miniconda3/lib/python3.6/site-packages/skimage/io/_io.py:132: UserWarning: /home/ubuntu/source/mike_fork/diff_classifier/notebooks/development/OGD_1_5h_slice_2_cortex_vid_3_1_1.tif is a low contrast image\n",
      "  warn('%s is a low contrast image' % fname)\n",
      "/home/ubuntu/miniconda3/lib/python3.6/site-packages/skimage/io/_io.py:132: UserWarning: /home/ubuntu/source/mike_fork/diff_classifier/notebooks/development/OGD_1_5h_slice_2_cortex_vid_3_1_2.tif is a low contrast image\n",
      "  warn('%s is a low contrast image' % fname)\n",
      "/home/ubuntu/miniconda3/lib/python3.6/site-packages/skimage/io/_io.py:132: UserWarning: /home/ubuntu/source/mike_fork/diff_classifier/notebooks/development/OGD_1_5h_slice_2_cortex_vid_3_1_3.tif is a low contrast image\n",
      "  warn('%s is a low contrast image' % fname)\n",
      "/home/ubuntu/miniconda3/lib/python3.6/site-packages/skimage/io/_io.py:132: UserWarning: /home/ubuntu/source/mike_fork/diff_classifier/notebooks/development/OGD_1_5h_slice_2_cortex_vid_3_2_0.tif is a low contrast image\n",
      "  warn('%s is a low contrast image' % fname)\n",
      "/home/ubuntu/miniconda3/lib/python3.6/site-packages/skimage/io/_io.py:132: UserWarning: /home/ubuntu/source/mike_fork/diff_classifier/notebooks/development/OGD_1_5h_slice_2_cortex_vid_3_2_1.tif is a low contrast image\n",
      "  warn('%s is a low contrast image' % fname)\n",
      "/home/ubuntu/miniconda3/lib/python3.6/site-packages/skimage/io/_io.py:132: UserWarning: /home/ubuntu/source/mike_fork/diff_classifier/notebooks/development/OGD_1_5h_slice_2_cortex_vid_3_2_2.tif is a low contrast image\n",
      "  warn('%s is a low contrast image' % fname)\n",
      "/home/ubuntu/miniconda3/lib/python3.6/site-packages/skimage/io/_io.py:132: UserWarning: /home/ubuntu/source/mike_fork/diff_classifier/notebooks/development/OGD_1_5h_slice_2_cortex_vid_3_2_3.tif is a low contrast image\n",
      "  warn('%s is a low contrast image' % fname)\n",
      "/home/ubuntu/miniconda3/lib/python3.6/site-packages/skimage/io/_io.py:132: UserWarning: /home/ubuntu/source/mike_fork/diff_classifier/notebooks/development/OGD_1_5h_slice_2_cortex_vid_3_3_0.tif is a low contrast image\n",
      "  warn('%s is a low contrast image' % fname)\n",
      "/home/ubuntu/miniconda3/lib/python3.6/site-packages/skimage/io/_io.py:132: UserWarning: /home/ubuntu/source/mike_fork/diff_classifier/notebooks/development/OGD_1_5h_slice_2_cortex_vid_3_3_1.tif is a low contrast image\n",
      "  warn('%s is a low contrast image' % fname)\n",
      "/home/ubuntu/miniconda3/lib/python3.6/site-packages/skimage/io/_io.py:132: UserWarning: /home/ubuntu/source/mike_fork/diff_classifier/notebooks/development/OGD_1_5h_slice_2_cortex_vid_3_3_2.tif is a low contrast image\n",
      "  warn('%s is a low contrast image' % fname)\n",
      "/home/ubuntu/miniconda3/lib/python3.6/site-packages/skimage/io/_io.py:132: UserWarning: /home/ubuntu/source/mike_fork/diff_classifier/notebooks/development/OGD_1_5h_slice_2_cortex_vid_3_3_3.tif is a low contrast image\n",
      "  warn('%s is a low contrast image' % fname)\n"
     ]
    },
    {
     "name": "stdout",
     "output_type": "stream",
     "text": [
      "Done with splitting. Should output file of name 03_06_20_OGD_Severity_MPT/OGD_1_5h_slice_2_cortex_vid_3_0_0.tif\n",
      "Done with splitting. Should output file of name 03_06_20_OGD_Severity_MPT/OGD_1_5h_slice_2_cortex_vid_3_0_1.tif\n",
      "Done with splitting. Should output file of name 03_06_20_OGD_Severity_MPT/OGD_1_5h_slice_2_cortex_vid_3_0_2.tif\n",
      "Done with splitting. Should output file of name 03_06_20_OGD_Severity_MPT/OGD_1_5h_slice_2_cortex_vid_3_0_3.tif\n",
      "Done with splitting. Should output file of name 03_06_20_OGD_Severity_MPT/OGD_1_5h_slice_2_cortex_vid_3_1_0.tif\n",
      "Done with splitting. Should output file of name 03_06_20_OGD_Severity_MPT/OGD_1_5h_slice_2_cortex_vid_3_1_1.tif\n",
      "Done with splitting. Should output file of name 03_06_20_OGD_Severity_MPT/OGD_1_5h_slice_2_cortex_vid_3_1_2.tif\n",
      "Done with splitting. Should output file of name 03_06_20_OGD_Severity_MPT/OGD_1_5h_slice_2_cortex_vid_3_1_3.tif\n",
      "Done with splitting. Should output file of name 03_06_20_OGD_Severity_MPT/OGD_1_5h_slice_2_cortex_vid_3_2_0.tif\n",
      "Done with splitting. Should output file of name 03_06_20_OGD_Severity_MPT/OGD_1_5h_slice_2_cortex_vid_3_2_1.tif\n",
      "Done with splitting. Should output file of name 03_06_20_OGD_Severity_MPT/OGD_1_5h_slice_2_cortex_vid_3_2_2.tif\n",
      "Done with splitting. Should output file of name 03_06_20_OGD_Severity_MPT/OGD_1_5h_slice_2_cortex_vid_3_2_3.tif\n",
      "Done with splitting. Should output file of name 03_06_20_OGD_Severity_MPT/OGD_1_5h_slice_2_cortex_vid_3_3_0.tif\n",
      "Done with splitting. Should output file of name 03_06_20_OGD_Severity_MPT/OGD_1_5h_slice_2_cortex_vid_3_3_1.tif\n",
      "Done with splitting. Should output file of name 03_06_20_OGD_Severity_MPT/OGD_1_5h_slice_2_cortex_vid_3_3_2.tif\n",
      "Done with splitting. Should output file of name 03_06_20_OGD_Severity_MPT/OGD_1_5h_slice_2_cortex_vid_3_3_3.tif\n"
     ]
    },
    {
     "name": "stderr",
     "output_type": "stream",
     "text": [
      "/home/ubuntu/miniconda3/lib/python3.6/site-packages/skimage/io/_io.py:132: UserWarning: /home/ubuntu/source/mike_fork/diff_classifier/notebooks/development/OGD_1_5h_slice_2_cortex_vid_4_0_0.tif is a low contrast image\n",
      "  warn('%s is a low contrast image' % fname)\n",
      "/home/ubuntu/miniconda3/lib/python3.6/site-packages/skimage/io/_io.py:132: UserWarning: /home/ubuntu/source/mike_fork/diff_classifier/notebooks/development/OGD_1_5h_slice_2_cortex_vid_4_0_1.tif is a low contrast image\n",
      "  warn('%s is a low contrast image' % fname)\n",
      "/home/ubuntu/miniconda3/lib/python3.6/site-packages/skimage/io/_io.py:132: UserWarning: /home/ubuntu/source/mike_fork/diff_classifier/notebooks/development/OGD_1_5h_slice_2_cortex_vid_4_0_2.tif is a low contrast image\n",
      "  warn('%s is a low contrast image' % fname)\n",
      "/home/ubuntu/miniconda3/lib/python3.6/site-packages/skimage/io/_io.py:132: UserWarning: /home/ubuntu/source/mike_fork/diff_classifier/notebooks/development/OGD_1_5h_slice_2_cortex_vid_4_0_3.tif is a low contrast image\n",
      "  warn('%s is a low contrast image' % fname)\n",
      "/home/ubuntu/miniconda3/lib/python3.6/site-packages/skimage/io/_io.py:132: UserWarning: /home/ubuntu/source/mike_fork/diff_classifier/notebooks/development/OGD_1_5h_slice_2_cortex_vid_4_1_0.tif is a low contrast image\n",
      "  warn('%s is a low contrast image' % fname)\n",
      "/home/ubuntu/miniconda3/lib/python3.6/site-packages/skimage/io/_io.py:132: UserWarning: /home/ubuntu/source/mike_fork/diff_classifier/notebooks/development/OGD_1_5h_slice_2_cortex_vid_4_1_1.tif is a low contrast image\n",
      "  warn('%s is a low contrast image' % fname)\n",
      "/home/ubuntu/miniconda3/lib/python3.6/site-packages/skimage/io/_io.py:132: UserWarning: /home/ubuntu/source/mike_fork/diff_classifier/notebooks/development/OGD_1_5h_slice_2_cortex_vid_4_1_2.tif is a low contrast image\n",
      "  warn('%s is a low contrast image' % fname)\n",
      "/home/ubuntu/miniconda3/lib/python3.6/site-packages/skimage/io/_io.py:132: UserWarning: /home/ubuntu/source/mike_fork/diff_classifier/notebooks/development/OGD_1_5h_slice_2_cortex_vid_4_1_3.tif is a low contrast image\n",
      "  warn('%s is a low contrast image' % fname)\n",
      "/home/ubuntu/miniconda3/lib/python3.6/site-packages/skimage/io/_io.py:132: UserWarning: /home/ubuntu/source/mike_fork/diff_classifier/notebooks/development/OGD_1_5h_slice_2_cortex_vid_4_2_0.tif is a low contrast image\n",
      "  warn('%s is a low contrast image' % fname)\n",
      "/home/ubuntu/miniconda3/lib/python3.6/site-packages/skimage/io/_io.py:132: UserWarning: /home/ubuntu/source/mike_fork/diff_classifier/notebooks/development/OGD_1_5h_slice_2_cortex_vid_4_2_1.tif is a low contrast image\n",
      "  warn('%s is a low contrast image' % fname)\n",
      "/home/ubuntu/miniconda3/lib/python3.6/site-packages/skimage/io/_io.py:132: UserWarning: /home/ubuntu/source/mike_fork/diff_classifier/notebooks/development/OGD_1_5h_slice_2_cortex_vid_4_2_2.tif is a low contrast image\n",
      "  warn('%s is a low contrast image' % fname)\n",
      "/home/ubuntu/miniconda3/lib/python3.6/site-packages/skimage/io/_io.py:132: UserWarning: /home/ubuntu/source/mike_fork/diff_classifier/notebooks/development/OGD_1_5h_slice_2_cortex_vid_4_2_3.tif is a low contrast image\n",
      "  warn('%s is a low contrast image' % fname)\n",
      "/home/ubuntu/miniconda3/lib/python3.6/site-packages/skimage/io/_io.py:132: UserWarning: /home/ubuntu/source/mike_fork/diff_classifier/notebooks/development/OGD_1_5h_slice_2_cortex_vid_4_3_0.tif is a low contrast image\n",
      "  warn('%s is a low contrast image' % fname)\n",
      "/home/ubuntu/miniconda3/lib/python3.6/site-packages/skimage/io/_io.py:132: UserWarning: /home/ubuntu/source/mike_fork/diff_classifier/notebooks/development/OGD_1_5h_slice_2_cortex_vid_4_3_1.tif is a low contrast image\n",
      "  warn('%s is a low contrast image' % fname)\n",
      "/home/ubuntu/miniconda3/lib/python3.6/site-packages/skimage/io/_io.py:132: UserWarning: /home/ubuntu/source/mike_fork/diff_classifier/notebooks/development/OGD_1_5h_slice_2_cortex_vid_4_3_2.tif is a low contrast image\n",
      "  warn('%s is a low contrast image' % fname)\n",
      "/home/ubuntu/miniconda3/lib/python3.6/site-packages/skimage/io/_io.py:132: UserWarning: /home/ubuntu/source/mike_fork/diff_classifier/notebooks/development/OGD_1_5h_slice_2_cortex_vid_4_3_3.tif is a low contrast image\n",
      "  warn('%s is a low contrast image' % fname)\n"
     ]
    },
    {
     "name": "stdout",
     "output_type": "stream",
     "text": [
      "Done with splitting. Should output file of name 03_06_20_OGD_Severity_MPT/OGD_1_5h_slice_2_cortex_vid_4_0_0.tif\n",
      "Done with splitting. Should output file of name 03_06_20_OGD_Severity_MPT/OGD_1_5h_slice_2_cortex_vid_4_0_1.tif\n",
      "Done with splitting. Should output file of name 03_06_20_OGD_Severity_MPT/OGD_1_5h_slice_2_cortex_vid_4_0_2.tif\n",
      "Done with splitting. Should output file of name 03_06_20_OGD_Severity_MPT/OGD_1_5h_slice_2_cortex_vid_4_0_3.tif\n",
      "Done with splitting. Should output file of name 03_06_20_OGD_Severity_MPT/OGD_1_5h_slice_2_cortex_vid_4_1_0.tif\n",
      "Done with splitting. Should output file of name 03_06_20_OGD_Severity_MPT/OGD_1_5h_slice_2_cortex_vid_4_1_1.tif\n",
      "Done with splitting. Should output file of name 03_06_20_OGD_Severity_MPT/OGD_1_5h_slice_2_cortex_vid_4_1_2.tif\n",
      "Done with splitting. Should output file of name 03_06_20_OGD_Severity_MPT/OGD_1_5h_slice_2_cortex_vid_4_1_3.tif\n",
      "Done with splitting. Should output file of name 03_06_20_OGD_Severity_MPT/OGD_1_5h_slice_2_cortex_vid_4_2_0.tif\n",
      "Done with splitting. Should output file of name 03_06_20_OGD_Severity_MPT/OGD_1_5h_slice_2_cortex_vid_4_2_1.tif\n",
      "Done with splitting. Should output file of name 03_06_20_OGD_Severity_MPT/OGD_1_5h_slice_2_cortex_vid_4_2_2.tif\n",
      "Done with splitting. Should output file of name 03_06_20_OGD_Severity_MPT/OGD_1_5h_slice_2_cortex_vid_4_2_3.tif\n",
      "Done with splitting. Should output file of name 03_06_20_OGD_Severity_MPT/OGD_1_5h_slice_2_cortex_vid_4_3_0.tif\n",
      "Done with splitting. Should output file of name 03_06_20_OGD_Severity_MPT/OGD_1_5h_slice_2_cortex_vid_4_3_1.tif\n",
      "Done with splitting. Should output file of name 03_06_20_OGD_Severity_MPT/OGD_1_5h_slice_2_cortex_vid_4_3_2.tif\n",
      "Done with splitting. Should output file of name 03_06_20_OGD_Severity_MPT/OGD_1_5h_slice_2_cortex_vid_4_3_3.tif\n"
     ]
    },
    {
     "name": "stderr",
     "output_type": "stream",
     "text": [
      "/home/ubuntu/miniconda3/lib/python3.6/site-packages/skimage/io/_io.py:132: UserWarning: /home/ubuntu/source/mike_fork/diff_classifier/notebooks/development/OGD_1_5h_slice_2_cortex_vid_5_0_0.tif is a low contrast image\n",
      "  warn('%s is a low contrast image' % fname)\n",
      "/home/ubuntu/miniconda3/lib/python3.6/site-packages/skimage/io/_io.py:132: UserWarning: /home/ubuntu/source/mike_fork/diff_classifier/notebooks/development/OGD_1_5h_slice_2_cortex_vid_5_0_1.tif is a low contrast image\n",
      "  warn('%s is a low contrast image' % fname)\n",
      "/home/ubuntu/miniconda3/lib/python3.6/site-packages/skimage/io/_io.py:132: UserWarning: /home/ubuntu/source/mike_fork/diff_classifier/notebooks/development/OGD_1_5h_slice_2_cortex_vid_5_0_2.tif is a low contrast image\n",
      "  warn('%s is a low contrast image' % fname)\n",
      "/home/ubuntu/miniconda3/lib/python3.6/site-packages/skimage/io/_io.py:132: UserWarning: /home/ubuntu/source/mike_fork/diff_classifier/notebooks/development/OGD_1_5h_slice_2_cortex_vid_5_0_3.tif is a low contrast image\n",
      "  warn('%s is a low contrast image' % fname)\n",
      "/home/ubuntu/miniconda3/lib/python3.6/site-packages/skimage/io/_io.py:132: UserWarning: /home/ubuntu/source/mike_fork/diff_classifier/notebooks/development/OGD_1_5h_slice_2_cortex_vid_5_1_0.tif is a low contrast image\n",
      "  warn('%s is a low contrast image' % fname)\n",
      "/home/ubuntu/miniconda3/lib/python3.6/site-packages/skimage/io/_io.py:132: UserWarning: /home/ubuntu/source/mike_fork/diff_classifier/notebooks/development/OGD_1_5h_slice_2_cortex_vid_5_1_1.tif is a low contrast image\n",
      "  warn('%s is a low contrast image' % fname)\n",
      "/home/ubuntu/miniconda3/lib/python3.6/site-packages/skimage/io/_io.py:132: UserWarning: /home/ubuntu/source/mike_fork/diff_classifier/notebooks/development/OGD_1_5h_slice_2_cortex_vid_5_1_2.tif is a low contrast image\n",
      "  warn('%s is a low contrast image' % fname)\n",
      "/home/ubuntu/miniconda3/lib/python3.6/site-packages/skimage/io/_io.py:132: UserWarning: /home/ubuntu/source/mike_fork/diff_classifier/notebooks/development/OGD_1_5h_slice_2_cortex_vid_5_1_3.tif is a low contrast image\n",
      "  warn('%s is a low contrast image' % fname)\n",
      "/home/ubuntu/miniconda3/lib/python3.6/site-packages/skimage/io/_io.py:132: UserWarning: /home/ubuntu/source/mike_fork/diff_classifier/notebooks/development/OGD_1_5h_slice_2_cortex_vid_5_2_0.tif is a low contrast image\n",
      "  warn('%s is a low contrast image' % fname)\n",
      "/home/ubuntu/miniconda3/lib/python3.6/site-packages/skimage/io/_io.py:132: UserWarning: /home/ubuntu/source/mike_fork/diff_classifier/notebooks/development/OGD_1_5h_slice_2_cortex_vid_5_2_1.tif is a low contrast image\n",
      "  warn('%s is a low contrast image' % fname)\n",
      "/home/ubuntu/miniconda3/lib/python3.6/site-packages/skimage/io/_io.py:132: UserWarning: /home/ubuntu/source/mike_fork/diff_classifier/notebooks/development/OGD_1_5h_slice_2_cortex_vid_5_2_2.tif is a low contrast image\n",
      "  warn('%s is a low contrast image' % fname)\n",
      "/home/ubuntu/miniconda3/lib/python3.6/site-packages/skimage/io/_io.py:132: UserWarning: /home/ubuntu/source/mike_fork/diff_classifier/notebooks/development/OGD_1_5h_slice_2_cortex_vid_5_2_3.tif is a low contrast image\n",
      "  warn('%s is a low contrast image' % fname)\n",
      "/home/ubuntu/miniconda3/lib/python3.6/site-packages/skimage/io/_io.py:132: UserWarning: /home/ubuntu/source/mike_fork/diff_classifier/notebooks/development/OGD_1_5h_slice_2_cortex_vid_5_3_0.tif is a low contrast image\n",
      "  warn('%s is a low contrast image' % fname)\n",
      "/home/ubuntu/miniconda3/lib/python3.6/site-packages/skimage/io/_io.py:132: UserWarning: /home/ubuntu/source/mike_fork/diff_classifier/notebooks/development/OGD_1_5h_slice_2_cortex_vid_5_3_1.tif is a low contrast image\n",
      "  warn('%s is a low contrast image' % fname)\n",
      "/home/ubuntu/miniconda3/lib/python3.6/site-packages/skimage/io/_io.py:132: UserWarning: /home/ubuntu/source/mike_fork/diff_classifier/notebooks/development/OGD_1_5h_slice_2_cortex_vid_5_3_2.tif is a low contrast image\n",
      "  warn('%s is a low contrast image' % fname)\n",
      "/home/ubuntu/miniconda3/lib/python3.6/site-packages/skimage/io/_io.py:132: UserWarning: /home/ubuntu/source/mike_fork/diff_classifier/notebooks/development/OGD_1_5h_slice_2_cortex_vid_5_3_3.tif is a low contrast image\n",
      "  warn('%s is a low contrast image' % fname)\n"
     ]
    },
    {
     "name": "stdout",
     "output_type": "stream",
     "text": [
      "Done with splitting. Should output file of name 03_06_20_OGD_Severity_MPT/OGD_1_5h_slice_2_cortex_vid_5_0_0.tif\n",
      "Done with splitting. Should output file of name 03_06_20_OGD_Severity_MPT/OGD_1_5h_slice_2_cortex_vid_5_0_1.tif\n",
      "Done with splitting. Should output file of name 03_06_20_OGD_Severity_MPT/OGD_1_5h_slice_2_cortex_vid_5_0_2.tif\n",
      "Done with splitting. Should output file of name 03_06_20_OGD_Severity_MPT/OGD_1_5h_slice_2_cortex_vid_5_0_3.tif\n",
      "Done with splitting. Should output file of name 03_06_20_OGD_Severity_MPT/OGD_1_5h_slice_2_cortex_vid_5_1_0.tif\n",
      "Done with splitting. Should output file of name 03_06_20_OGD_Severity_MPT/OGD_1_5h_slice_2_cortex_vid_5_1_1.tif\n",
      "Done with splitting. Should output file of name 03_06_20_OGD_Severity_MPT/OGD_1_5h_slice_2_cortex_vid_5_1_2.tif\n",
      "Done with splitting. Should output file of name 03_06_20_OGD_Severity_MPT/OGD_1_5h_slice_2_cortex_vid_5_1_3.tif\n",
      "Done with splitting. Should output file of name 03_06_20_OGD_Severity_MPT/OGD_1_5h_slice_2_cortex_vid_5_2_0.tif\n",
      "Done with splitting. Should output file of name 03_06_20_OGD_Severity_MPT/OGD_1_5h_slice_2_cortex_vid_5_2_1.tif\n",
      "Done with splitting. Should output file of name 03_06_20_OGD_Severity_MPT/OGD_1_5h_slice_2_cortex_vid_5_2_2.tif\n",
      "Done with splitting. Should output file of name 03_06_20_OGD_Severity_MPT/OGD_1_5h_slice_2_cortex_vid_5_2_3.tif\n",
      "Done with splitting. Should output file of name 03_06_20_OGD_Severity_MPT/OGD_1_5h_slice_2_cortex_vid_5_3_0.tif\n",
      "Done with splitting. Should output file of name 03_06_20_OGD_Severity_MPT/OGD_1_5h_slice_2_cortex_vid_5_3_1.tif\n",
      "Done with splitting. Should output file of name 03_06_20_OGD_Severity_MPT/OGD_1_5h_slice_2_cortex_vid_5_3_2.tif\n",
      "Done with splitting. Should output file of name 03_06_20_OGD_Severity_MPT/OGD_1_5h_slice_2_cortex_vid_5_3_3.tif\n"
     ]
    },
    {
     "name": "stderr",
     "output_type": "stream",
     "text": [
      "/home/ubuntu/miniconda3/lib/python3.6/site-packages/skimage/io/_io.py:132: UserWarning: /home/ubuntu/source/mike_fork/diff_classifier/notebooks/development/OGD_1_5h_slice_2_striatum_vid_1_0_0.tif is a low contrast image\n",
      "  warn('%s is a low contrast image' % fname)\n",
      "/home/ubuntu/miniconda3/lib/python3.6/site-packages/skimage/io/_io.py:132: UserWarning: /home/ubuntu/source/mike_fork/diff_classifier/notebooks/development/OGD_1_5h_slice_2_striatum_vid_1_0_1.tif is a low contrast image\n",
      "  warn('%s is a low contrast image' % fname)\n",
      "/home/ubuntu/miniconda3/lib/python3.6/site-packages/skimage/io/_io.py:132: UserWarning: /home/ubuntu/source/mike_fork/diff_classifier/notebooks/development/OGD_1_5h_slice_2_striatum_vid_1_0_2.tif is a low contrast image\n",
      "  warn('%s is a low contrast image' % fname)\n",
      "/home/ubuntu/miniconda3/lib/python3.6/site-packages/skimage/io/_io.py:132: UserWarning: /home/ubuntu/source/mike_fork/diff_classifier/notebooks/development/OGD_1_5h_slice_2_striatum_vid_1_0_3.tif is a low contrast image\n",
      "  warn('%s is a low contrast image' % fname)\n",
      "/home/ubuntu/miniconda3/lib/python3.6/site-packages/skimage/io/_io.py:132: UserWarning: /home/ubuntu/source/mike_fork/diff_classifier/notebooks/development/OGD_1_5h_slice_2_striatum_vid_1_1_0.tif is a low contrast image\n",
      "  warn('%s is a low contrast image' % fname)\n",
      "/home/ubuntu/miniconda3/lib/python3.6/site-packages/skimage/io/_io.py:132: UserWarning: /home/ubuntu/source/mike_fork/diff_classifier/notebooks/development/OGD_1_5h_slice_2_striatum_vid_1_1_1.tif is a low contrast image\n",
      "  warn('%s is a low contrast image' % fname)\n",
      "/home/ubuntu/miniconda3/lib/python3.6/site-packages/skimage/io/_io.py:132: UserWarning: /home/ubuntu/source/mike_fork/diff_classifier/notebooks/development/OGD_1_5h_slice_2_striatum_vid_1_1_2.tif is a low contrast image\n",
      "  warn('%s is a low contrast image' % fname)\n",
      "/home/ubuntu/miniconda3/lib/python3.6/site-packages/skimage/io/_io.py:132: UserWarning: /home/ubuntu/source/mike_fork/diff_classifier/notebooks/development/OGD_1_5h_slice_2_striatum_vid_1_1_3.tif is a low contrast image\n",
      "  warn('%s is a low contrast image' % fname)\n",
      "/home/ubuntu/miniconda3/lib/python3.6/site-packages/skimage/io/_io.py:132: UserWarning: /home/ubuntu/source/mike_fork/diff_classifier/notebooks/development/OGD_1_5h_slice_2_striatum_vid_1_2_0.tif is a low contrast image\n",
      "  warn('%s is a low contrast image' % fname)\n",
      "/home/ubuntu/miniconda3/lib/python3.6/site-packages/skimage/io/_io.py:132: UserWarning: /home/ubuntu/source/mike_fork/diff_classifier/notebooks/development/OGD_1_5h_slice_2_striatum_vid_1_2_1.tif is a low contrast image\n",
      "  warn('%s is a low contrast image' % fname)\n",
      "/home/ubuntu/miniconda3/lib/python3.6/site-packages/skimage/io/_io.py:132: UserWarning: /home/ubuntu/source/mike_fork/diff_classifier/notebooks/development/OGD_1_5h_slice_2_striatum_vid_1_2_2.tif is a low contrast image\n",
      "  warn('%s is a low contrast image' % fname)\n",
      "/home/ubuntu/miniconda3/lib/python3.6/site-packages/skimage/io/_io.py:132: UserWarning: /home/ubuntu/source/mike_fork/diff_classifier/notebooks/development/OGD_1_5h_slice_2_striatum_vid_1_2_3.tif is a low contrast image\n",
      "  warn('%s is a low contrast image' % fname)\n",
      "/home/ubuntu/miniconda3/lib/python3.6/site-packages/skimage/io/_io.py:132: UserWarning: /home/ubuntu/source/mike_fork/diff_classifier/notebooks/development/OGD_1_5h_slice_2_striatum_vid_1_3_0.tif is a low contrast image\n",
      "  warn('%s is a low contrast image' % fname)\n",
      "/home/ubuntu/miniconda3/lib/python3.6/site-packages/skimage/io/_io.py:132: UserWarning: /home/ubuntu/source/mike_fork/diff_classifier/notebooks/development/OGD_1_5h_slice_2_striatum_vid_1_3_1.tif is a low contrast image\n",
      "  warn('%s is a low contrast image' % fname)\n",
      "/home/ubuntu/miniconda3/lib/python3.6/site-packages/skimage/io/_io.py:132: UserWarning: /home/ubuntu/source/mike_fork/diff_classifier/notebooks/development/OGD_1_5h_slice_2_striatum_vid_1_3_2.tif is a low contrast image\n",
      "  warn('%s is a low contrast image' % fname)\n",
      "/home/ubuntu/miniconda3/lib/python3.6/site-packages/skimage/io/_io.py:132: UserWarning: /home/ubuntu/source/mike_fork/diff_classifier/notebooks/development/OGD_1_5h_slice_2_striatum_vid_1_3_3.tif is a low contrast image\n",
      "  warn('%s is a low contrast image' % fname)\n"
     ]
    },
    {
     "name": "stdout",
     "output_type": "stream",
     "text": [
      "Done with splitting. Should output file of name 03_06_20_OGD_Severity_MPT/OGD_1_5h_slice_2_striatum_vid_1_0_0.tif\n",
      "Done with splitting. Should output file of name 03_06_20_OGD_Severity_MPT/OGD_1_5h_slice_2_striatum_vid_1_0_1.tif\n",
      "Done with splitting. Should output file of name 03_06_20_OGD_Severity_MPT/OGD_1_5h_slice_2_striatum_vid_1_0_2.tif\n",
      "Done with splitting. Should output file of name 03_06_20_OGD_Severity_MPT/OGD_1_5h_slice_2_striatum_vid_1_0_3.tif\n",
      "Done with splitting. Should output file of name 03_06_20_OGD_Severity_MPT/OGD_1_5h_slice_2_striatum_vid_1_1_0.tif\n",
      "Done with splitting. Should output file of name 03_06_20_OGD_Severity_MPT/OGD_1_5h_slice_2_striatum_vid_1_1_1.tif\n",
      "Done with splitting. Should output file of name 03_06_20_OGD_Severity_MPT/OGD_1_5h_slice_2_striatum_vid_1_1_2.tif\n",
      "Done with splitting. Should output file of name 03_06_20_OGD_Severity_MPT/OGD_1_5h_slice_2_striatum_vid_1_1_3.tif\n",
      "Done with splitting. Should output file of name 03_06_20_OGD_Severity_MPT/OGD_1_5h_slice_2_striatum_vid_1_2_0.tif\n",
      "Done with splitting. Should output file of name 03_06_20_OGD_Severity_MPT/OGD_1_5h_slice_2_striatum_vid_1_2_1.tif\n",
      "Done with splitting. Should output file of name 03_06_20_OGD_Severity_MPT/OGD_1_5h_slice_2_striatum_vid_1_2_2.tif\n",
      "Done with splitting. Should output file of name 03_06_20_OGD_Severity_MPT/OGD_1_5h_slice_2_striatum_vid_1_2_3.tif\n",
      "Done with splitting. Should output file of name 03_06_20_OGD_Severity_MPT/OGD_1_5h_slice_2_striatum_vid_1_3_0.tif\n",
      "Done with splitting. Should output file of name 03_06_20_OGD_Severity_MPT/OGD_1_5h_slice_2_striatum_vid_1_3_1.tif\n",
      "Done with splitting. Should output file of name 03_06_20_OGD_Severity_MPT/OGD_1_5h_slice_2_striatum_vid_1_3_2.tif\n",
      "Done with splitting. Should output file of name 03_06_20_OGD_Severity_MPT/OGD_1_5h_slice_2_striatum_vid_1_3_3.tif\n"
     ]
    },
    {
     "name": "stderr",
     "output_type": "stream",
     "text": [
      "/home/ubuntu/miniconda3/lib/python3.6/site-packages/skimage/io/_io.py:132: UserWarning: /home/ubuntu/source/mike_fork/diff_classifier/notebooks/development/OGD_1_5h_slice_2_striatum_vid_2_0_0.tif is a low contrast image\n",
      "  warn('%s is a low contrast image' % fname)\n",
      "/home/ubuntu/miniconda3/lib/python3.6/site-packages/skimage/io/_io.py:132: UserWarning: /home/ubuntu/source/mike_fork/diff_classifier/notebooks/development/OGD_1_5h_slice_2_striatum_vid_2_0_1.tif is a low contrast image\n",
      "  warn('%s is a low contrast image' % fname)\n",
      "/home/ubuntu/miniconda3/lib/python3.6/site-packages/skimage/io/_io.py:132: UserWarning: /home/ubuntu/source/mike_fork/diff_classifier/notebooks/development/OGD_1_5h_slice_2_striatum_vid_2_0_2.tif is a low contrast image\n",
      "  warn('%s is a low contrast image' % fname)\n",
      "/home/ubuntu/miniconda3/lib/python3.6/site-packages/skimage/io/_io.py:132: UserWarning: /home/ubuntu/source/mike_fork/diff_classifier/notebooks/development/OGD_1_5h_slice_2_striatum_vid_2_0_3.tif is a low contrast image\n",
      "  warn('%s is a low contrast image' % fname)\n",
      "/home/ubuntu/miniconda3/lib/python3.6/site-packages/skimage/io/_io.py:132: UserWarning: /home/ubuntu/source/mike_fork/diff_classifier/notebooks/development/OGD_1_5h_slice_2_striatum_vid_2_1_0.tif is a low contrast image\n",
      "  warn('%s is a low contrast image' % fname)\n",
      "/home/ubuntu/miniconda3/lib/python3.6/site-packages/skimage/io/_io.py:132: UserWarning: /home/ubuntu/source/mike_fork/diff_classifier/notebooks/development/OGD_1_5h_slice_2_striatum_vid_2_1_1.tif is a low contrast image\n",
      "  warn('%s is a low contrast image' % fname)\n",
      "/home/ubuntu/miniconda3/lib/python3.6/site-packages/skimage/io/_io.py:132: UserWarning: /home/ubuntu/source/mike_fork/diff_classifier/notebooks/development/OGD_1_5h_slice_2_striatum_vid_2_1_2.tif is a low contrast image\n",
      "  warn('%s is a low contrast image' % fname)\n",
      "/home/ubuntu/miniconda3/lib/python3.6/site-packages/skimage/io/_io.py:132: UserWarning: /home/ubuntu/source/mike_fork/diff_classifier/notebooks/development/OGD_1_5h_slice_2_striatum_vid_2_1_3.tif is a low contrast image\n",
      "  warn('%s is a low contrast image' % fname)\n",
      "/home/ubuntu/miniconda3/lib/python3.6/site-packages/skimage/io/_io.py:132: UserWarning: /home/ubuntu/source/mike_fork/diff_classifier/notebooks/development/OGD_1_5h_slice_2_striatum_vid_2_2_0.tif is a low contrast image\n",
      "  warn('%s is a low contrast image' % fname)\n",
      "/home/ubuntu/miniconda3/lib/python3.6/site-packages/skimage/io/_io.py:132: UserWarning: /home/ubuntu/source/mike_fork/diff_classifier/notebooks/development/OGD_1_5h_slice_2_striatum_vid_2_2_1.tif is a low contrast image\n",
      "  warn('%s is a low contrast image' % fname)\n",
      "/home/ubuntu/miniconda3/lib/python3.6/site-packages/skimage/io/_io.py:132: UserWarning: /home/ubuntu/source/mike_fork/diff_classifier/notebooks/development/OGD_1_5h_slice_2_striatum_vid_2_2_2.tif is a low contrast image\n",
      "  warn('%s is a low contrast image' % fname)\n",
      "/home/ubuntu/miniconda3/lib/python3.6/site-packages/skimage/io/_io.py:132: UserWarning: /home/ubuntu/source/mike_fork/diff_classifier/notebooks/development/OGD_1_5h_slice_2_striatum_vid_2_2_3.tif is a low contrast image\n",
      "  warn('%s is a low contrast image' % fname)\n",
      "/home/ubuntu/miniconda3/lib/python3.6/site-packages/skimage/io/_io.py:132: UserWarning: /home/ubuntu/source/mike_fork/diff_classifier/notebooks/development/OGD_1_5h_slice_2_striatum_vid_2_3_0.tif is a low contrast image\n",
      "  warn('%s is a low contrast image' % fname)\n",
      "/home/ubuntu/miniconda3/lib/python3.6/site-packages/skimage/io/_io.py:132: UserWarning: /home/ubuntu/source/mike_fork/diff_classifier/notebooks/development/OGD_1_5h_slice_2_striatum_vid_2_3_1.tif is a low contrast image\n",
      "  warn('%s is a low contrast image' % fname)\n",
      "/home/ubuntu/miniconda3/lib/python3.6/site-packages/skimage/io/_io.py:132: UserWarning: /home/ubuntu/source/mike_fork/diff_classifier/notebooks/development/OGD_1_5h_slice_2_striatum_vid_2_3_2.tif is a low contrast image\n",
      "  warn('%s is a low contrast image' % fname)\n",
      "/home/ubuntu/miniconda3/lib/python3.6/site-packages/skimage/io/_io.py:132: UserWarning: /home/ubuntu/source/mike_fork/diff_classifier/notebooks/development/OGD_1_5h_slice_2_striatum_vid_2_3_3.tif is a low contrast image\n",
      "  warn('%s is a low contrast image' % fname)\n"
     ]
    },
    {
     "name": "stdout",
     "output_type": "stream",
     "text": [
      "Done with splitting. Should output file of name 03_06_20_OGD_Severity_MPT/OGD_1_5h_slice_2_striatum_vid_2_0_0.tif\n",
      "Done with splitting. Should output file of name 03_06_20_OGD_Severity_MPT/OGD_1_5h_slice_2_striatum_vid_2_0_1.tif\n",
      "Done with splitting. Should output file of name 03_06_20_OGD_Severity_MPT/OGD_1_5h_slice_2_striatum_vid_2_0_2.tif\n",
      "Done with splitting. Should output file of name 03_06_20_OGD_Severity_MPT/OGD_1_5h_slice_2_striatum_vid_2_0_3.tif\n",
      "Done with splitting. Should output file of name 03_06_20_OGD_Severity_MPT/OGD_1_5h_slice_2_striatum_vid_2_1_0.tif\n",
      "Done with splitting. Should output file of name 03_06_20_OGD_Severity_MPT/OGD_1_5h_slice_2_striatum_vid_2_1_1.tif\n",
      "Done with splitting. Should output file of name 03_06_20_OGD_Severity_MPT/OGD_1_5h_slice_2_striatum_vid_2_1_2.tif\n",
      "Done with splitting. Should output file of name 03_06_20_OGD_Severity_MPT/OGD_1_5h_slice_2_striatum_vid_2_1_3.tif\n",
      "Done with splitting. Should output file of name 03_06_20_OGD_Severity_MPT/OGD_1_5h_slice_2_striatum_vid_2_2_0.tif\n",
      "Done with splitting. Should output file of name 03_06_20_OGD_Severity_MPT/OGD_1_5h_slice_2_striatum_vid_2_2_1.tif\n",
      "Done with splitting. Should output file of name 03_06_20_OGD_Severity_MPT/OGD_1_5h_slice_2_striatum_vid_2_2_2.tif\n",
      "Done with splitting. Should output file of name 03_06_20_OGD_Severity_MPT/OGD_1_5h_slice_2_striatum_vid_2_2_3.tif\n",
      "Done with splitting. Should output file of name 03_06_20_OGD_Severity_MPT/OGD_1_5h_slice_2_striatum_vid_2_3_0.tif\n",
      "Done with splitting. Should output file of name 03_06_20_OGD_Severity_MPT/OGD_1_5h_slice_2_striatum_vid_2_3_1.tif\n",
      "Done with splitting. Should output file of name 03_06_20_OGD_Severity_MPT/OGD_1_5h_slice_2_striatum_vid_2_3_2.tif\n",
      "Done with splitting. Should output file of name 03_06_20_OGD_Severity_MPT/OGD_1_5h_slice_2_striatum_vid_2_3_3.tif\n"
     ]
    },
    {
     "name": "stderr",
     "output_type": "stream",
     "text": [
      "/home/ubuntu/miniconda3/lib/python3.6/site-packages/skimage/io/_io.py:132: UserWarning: /home/ubuntu/source/mike_fork/diff_classifier/notebooks/development/OGD_1_5h_slice_2_striatum_vid_3_0_0.tif is a low contrast image\n",
      "  warn('%s is a low contrast image' % fname)\n",
      "/home/ubuntu/miniconda3/lib/python3.6/site-packages/skimage/io/_io.py:132: UserWarning: /home/ubuntu/source/mike_fork/diff_classifier/notebooks/development/OGD_1_5h_slice_2_striatum_vid_3_0_1.tif is a low contrast image\n",
      "  warn('%s is a low contrast image' % fname)\n",
      "/home/ubuntu/miniconda3/lib/python3.6/site-packages/skimage/io/_io.py:132: UserWarning: /home/ubuntu/source/mike_fork/diff_classifier/notebooks/development/OGD_1_5h_slice_2_striatum_vid_3_0_2.tif is a low contrast image\n",
      "  warn('%s is a low contrast image' % fname)\n",
      "/home/ubuntu/miniconda3/lib/python3.6/site-packages/skimage/io/_io.py:132: UserWarning: /home/ubuntu/source/mike_fork/diff_classifier/notebooks/development/OGD_1_5h_slice_2_striatum_vid_3_0_3.tif is a low contrast image\n",
      "  warn('%s is a low contrast image' % fname)\n",
      "/home/ubuntu/miniconda3/lib/python3.6/site-packages/skimage/io/_io.py:132: UserWarning: /home/ubuntu/source/mike_fork/diff_classifier/notebooks/development/OGD_1_5h_slice_2_striatum_vid_3_1_0.tif is a low contrast image\n",
      "  warn('%s is a low contrast image' % fname)\n",
      "/home/ubuntu/miniconda3/lib/python3.6/site-packages/skimage/io/_io.py:132: UserWarning: /home/ubuntu/source/mike_fork/diff_classifier/notebooks/development/OGD_1_5h_slice_2_striatum_vid_3_1_1.tif is a low contrast image\n",
      "  warn('%s is a low contrast image' % fname)\n",
      "/home/ubuntu/miniconda3/lib/python3.6/site-packages/skimage/io/_io.py:132: UserWarning: /home/ubuntu/source/mike_fork/diff_classifier/notebooks/development/OGD_1_5h_slice_2_striatum_vid_3_1_2.tif is a low contrast image\n",
      "  warn('%s is a low contrast image' % fname)\n",
      "/home/ubuntu/miniconda3/lib/python3.6/site-packages/skimage/io/_io.py:132: UserWarning: /home/ubuntu/source/mike_fork/diff_classifier/notebooks/development/OGD_1_5h_slice_2_striatum_vid_3_1_3.tif is a low contrast image\n",
      "  warn('%s is a low contrast image' % fname)\n",
      "/home/ubuntu/miniconda3/lib/python3.6/site-packages/skimage/io/_io.py:132: UserWarning: /home/ubuntu/source/mike_fork/diff_classifier/notebooks/development/OGD_1_5h_slice_2_striatum_vid_3_2_0.tif is a low contrast image\n",
      "  warn('%s is a low contrast image' % fname)\n",
      "/home/ubuntu/miniconda3/lib/python3.6/site-packages/skimage/io/_io.py:132: UserWarning: /home/ubuntu/source/mike_fork/diff_classifier/notebooks/development/OGD_1_5h_slice_2_striatum_vid_3_2_1.tif is a low contrast image\n",
      "  warn('%s is a low contrast image' % fname)\n",
      "/home/ubuntu/miniconda3/lib/python3.6/site-packages/skimage/io/_io.py:132: UserWarning: /home/ubuntu/source/mike_fork/diff_classifier/notebooks/development/OGD_1_5h_slice_2_striatum_vid_3_2_2.tif is a low contrast image\n",
      "  warn('%s is a low contrast image' % fname)\n",
      "/home/ubuntu/miniconda3/lib/python3.6/site-packages/skimage/io/_io.py:132: UserWarning: /home/ubuntu/source/mike_fork/diff_classifier/notebooks/development/OGD_1_5h_slice_2_striatum_vid_3_2_3.tif is a low contrast image\n",
      "  warn('%s is a low contrast image' % fname)\n",
      "/home/ubuntu/miniconda3/lib/python3.6/site-packages/skimage/io/_io.py:132: UserWarning: /home/ubuntu/source/mike_fork/diff_classifier/notebooks/development/OGD_1_5h_slice_2_striatum_vid_3_3_0.tif is a low contrast image\n",
      "  warn('%s is a low contrast image' % fname)\n",
      "/home/ubuntu/miniconda3/lib/python3.6/site-packages/skimage/io/_io.py:132: UserWarning: /home/ubuntu/source/mike_fork/diff_classifier/notebooks/development/OGD_1_5h_slice_2_striatum_vid_3_3_1.tif is a low contrast image\n",
      "  warn('%s is a low contrast image' % fname)\n",
      "/home/ubuntu/miniconda3/lib/python3.6/site-packages/skimage/io/_io.py:132: UserWarning: /home/ubuntu/source/mike_fork/diff_classifier/notebooks/development/OGD_1_5h_slice_2_striatum_vid_3_3_2.tif is a low contrast image\n",
      "  warn('%s is a low contrast image' % fname)\n",
      "/home/ubuntu/miniconda3/lib/python3.6/site-packages/skimage/io/_io.py:132: UserWarning: /home/ubuntu/source/mike_fork/diff_classifier/notebooks/development/OGD_1_5h_slice_2_striatum_vid_3_3_3.tif is a low contrast image\n",
      "  warn('%s is a low contrast image' % fname)\n"
     ]
    },
    {
     "name": "stdout",
     "output_type": "stream",
     "text": [
      "Done with splitting. Should output file of name 03_06_20_OGD_Severity_MPT/OGD_1_5h_slice_2_striatum_vid_3_0_0.tif\n",
      "Done with splitting. Should output file of name 03_06_20_OGD_Severity_MPT/OGD_1_5h_slice_2_striatum_vid_3_0_1.tif\n",
      "Done with splitting. Should output file of name 03_06_20_OGD_Severity_MPT/OGD_1_5h_slice_2_striatum_vid_3_0_2.tif\n",
      "Done with splitting. Should output file of name 03_06_20_OGD_Severity_MPT/OGD_1_5h_slice_2_striatum_vid_3_0_3.tif\n",
      "Done with splitting. Should output file of name 03_06_20_OGD_Severity_MPT/OGD_1_5h_slice_2_striatum_vid_3_1_0.tif\n",
      "Done with splitting. Should output file of name 03_06_20_OGD_Severity_MPT/OGD_1_5h_slice_2_striatum_vid_3_1_1.tif\n",
      "Done with splitting. Should output file of name 03_06_20_OGD_Severity_MPT/OGD_1_5h_slice_2_striatum_vid_3_1_2.tif\n",
      "Done with splitting. Should output file of name 03_06_20_OGD_Severity_MPT/OGD_1_5h_slice_2_striatum_vid_3_1_3.tif\n",
      "Done with splitting. Should output file of name 03_06_20_OGD_Severity_MPT/OGD_1_5h_slice_2_striatum_vid_3_2_0.tif\n",
      "Done with splitting. Should output file of name 03_06_20_OGD_Severity_MPT/OGD_1_5h_slice_2_striatum_vid_3_2_1.tif\n",
      "Done with splitting. Should output file of name 03_06_20_OGD_Severity_MPT/OGD_1_5h_slice_2_striatum_vid_3_2_2.tif\n",
      "Done with splitting. Should output file of name 03_06_20_OGD_Severity_MPT/OGD_1_5h_slice_2_striatum_vid_3_2_3.tif\n",
      "Done with splitting. Should output file of name 03_06_20_OGD_Severity_MPT/OGD_1_5h_slice_2_striatum_vid_3_3_0.tif\n",
      "Done with splitting. Should output file of name 03_06_20_OGD_Severity_MPT/OGD_1_5h_slice_2_striatum_vid_3_3_1.tif\n",
      "Done with splitting. Should output file of name 03_06_20_OGD_Severity_MPT/OGD_1_5h_slice_2_striatum_vid_3_3_2.tif\n",
      "Done with splitting. Should output file of name 03_06_20_OGD_Severity_MPT/OGD_1_5h_slice_2_striatum_vid_3_3_3.tif\n"
     ]
    },
    {
     "name": "stderr",
     "output_type": "stream",
     "text": [
      "/home/ubuntu/miniconda3/lib/python3.6/site-packages/skimage/io/_io.py:132: UserWarning: /home/ubuntu/source/mike_fork/diff_classifier/notebooks/development/OGD_1_5h_slice_2_striatum_vid_4_0_0.tif is a low contrast image\n",
      "  warn('%s is a low contrast image' % fname)\n",
      "/home/ubuntu/miniconda3/lib/python3.6/site-packages/skimage/io/_io.py:132: UserWarning: /home/ubuntu/source/mike_fork/diff_classifier/notebooks/development/OGD_1_5h_slice_2_striatum_vid_4_0_1.tif is a low contrast image\n",
      "  warn('%s is a low contrast image' % fname)\n",
      "/home/ubuntu/miniconda3/lib/python3.6/site-packages/skimage/io/_io.py:132: UserWarning: /home/ubuntu/source/mike_fork/diff_classifier/notebooks/development/OGD_1_5h_slice_2_striatum_vid_4_0_2.tif is a low contrast image\n",
      "  warn('%s is a low contrast image' % fname)\n",
      "/home/ubuntu/miniconda3/lib/python3.6/site-packages/skimage/io/_io.py:132: UserWarning: /home/ubuntu/source/mike_fork/diff_classifier/notebooks/development/OGD_1_5h_slice_2_striatum_vid_4_0_3.tif is a low contrast image\n",
      "  warn('%s is a low contrast image' % fname)\n",
      "/home/ubuntu/miniconda3/lib/python3.6/site-packages/skimage/io/_io.py:132: UserWarning: /home/ubuntu/source/mike_fork/diff_classifier/notebooks/development/OGD_1_5h_slice_2_striatum_vid_4_1_0.tif is a low contrast image\n",
      "  warn('%s is a low contrast image' % fname)\n",
      "/home/ubuntu/miniconda3/lib/python3.6/site-packages/skimage/io/_io.py:132: UserWarning: /home/ubuntu/source/mike_fork/diff_classifier/notebooks/development/OGD_1_5h_slice_2_striatum_vid_4_1_1.tif is a low contrast image\n",
      "  warn('%s is a low contrast image' % fname)\n",
      "/home/ubuntu/miniconda3/lib/python3.6/site-packages/skimage/io/_io.py:132: UserWarning: /home/ubuntu/source/mike_fork/diff_classifier/notebooks/development/OGD_1_5h_slice_2_striatum_vid_4_1_2.tif is a low contrast image\n",
      "  warn('%s is a low contrast image' % fname)\n",
      "/home/ubuntu/miniconda3/lib/python3.6/site-packages/skimage/io/_io.py:132: UserWarning: /home/ubuntu/source/mike_fork/diff_classifier/notebooks/development/OGD_1_5h_slice_2_striatum_vid_4_1_3.tif is a low contrast image\n",
      "  warn('%s is a low contrast image' % fname)\n",
      "/home/ubuntu/miniconda3/lib/python3.6/site-packages/skimage/io/_io.py:132: UserWarning: /home/ubuntu/source/mike_fork/diff_classifier/notebooks/development/OGD_1_5h_slice_2_striatum_vid_4_2_0.tif is a low contrast image\n",
      "  warn('%s is a low contrast image' % fname)\n",
      "/home/ubuntu/miniconda3/lib/python3.6/site-packages/skimage/io/_io.py:132: UserWarning: /home/ubuntu/source/mike_fork/diff_classifier/notebooks/development/OGD_1_5h_slice_2_striatum_vid_4_2_1.tif is a low contrast image\n",
      "  warn('%s is a low contrast image' % fname)\n",
      "/home/ubuntu/miniconda3/lib/python3.6/site-packages/skimage/io/_io.py:132: UserWarning: /home/ubuntu/source/mike_fork/diff_classifier/notebooks/development/OGD_1_5h_slice_2_striatum_vid_4_2_2.tif is a low contrast image\n",
      "  warn('%s is a low contrast image' % fname)\n",
      "/home/ubuntu/miniconda3/lib/python3.6/site-packages/skimage/io/_io.py:132: UserWarning: /home/ubuntu/source/mike_fork/diff_classifier/notebooks/development/OGD_1_5h_slice_2_striatum_vid_4_2_3.tif is a low contrast image\n",
      "  warn('%s is a low contrast image' % fname)\n",
      "/home/ubuntu/miniconda3/lib/python3.6/site-packages/skimage/io/_io.py:132: UserWarning: /home/ubuntu/source/mike_fork/diff_classifier/notebooks/development/OGD_1_5h_slice_2_striatum_vid_4_3_0.tif is a low contrast image\n",
      "  warn('%s is a low contrast image' % fname)\n",
      "/home/ubuntu/miniconda3/lib/python3.6/site-packages/skimage/io/_io.py:132: UserWarning: /home/ubuntu/source/mike_fork/diff_classifier/notebooks/development/OGD_1_5h_slice_2_striatum_vid_4_3_1.tif is a low contrast image\n",
      "  warn('%s is a low contrast image' % fname)\n",
      "/home/ubuntu/miniconda3/lib/python3.6/site-packages/skimage/io/_io.py:132: UserWarning: /home/ubuntu/source/mike_fork/diff_classifier/notebooks/development/OGD_1_5h_slice_2_striatum_vid_4_3_2.tif is a low contrast image\n",
      "  warn('%s is a low contrast image' % fname)\n",
      "/home/ubuntu/miniconda3/lib/python3.6/site-packages/skimage/io/_io.py:132: UserWarning: /home/ubuntu/source/mike_fork/diff_classifier/notebooks/development/OGD_1_5h_slice_2_striatum_vid_4_3_3.tif is a low contrast image\n",
      "  warn('%s is a low contrast image' % fname)\n"
     ]
    },
    {
     "name": "stdout",
     "output_type": "stream",
     "text": [
      "Done with splitting. Should output file of name 03_06_20_OGD_Severity_MPT/OGD_1_5h_slice_2_striatum_vid_4_0_0.tif\n",
      "Done with splitting. Should output file of name 03_06_20_OGD_Severity_MPT/OGD_1_5h_slice_2_striatum_vid_4_0_1.tif\n",
      "Done with splitting. Should output file of name 03_06_20_OGD_Severity_MPT/OGD_1_5h_slice_2_striatum_vid_4_0_2.tif\n",
      "Done with splitting. Should output file of name 03_06_20_OGD_Severity_MPT/OGD_1_5h_slice_2_striatum_vid_4_0_3.tif\n",
      "Done with splitting. Should output file of name 03_06_20_OGD_Severity_MPT/OGD_1_5h_slice_2_striatum_vid_4_1_0.tif\n",
      "Done with splitting. Should output file of name 03_06_20_OGD_Severity_MPT/OGD_1_5h_slice_2_striatum_vid_4_1_1.tif\n",
      "Done with splitting. Should output file of name 03_06_20_OGD_Severity_MPT/OGD_1_5h_slice_2_striatum_vid_4_1_2.tif\n",
      "Done with splitting. Should output file of name 03_06_20_OGD_Severity_MPT/OGD_1_5h_slice_2_striatum_vid_4_1_3.tif\n",
      "Done with splitting. Should output file of name 03_06_20_OGD_Severity_MPT/OGD_1_5h_slice_2_striatum_vid_4_2_0.tif\n",
      "Done with splitting. Should output file of name 03_06_20_OGD_Severity_MPT/OGD_1_5h_slice_2_striatum_vid_4_2_1.tif\n",
      "Done with splitting. Should output file of name 03_06_20_OGD_Severity_MPT/OGD_1_5h_slice_2_striatum_vid_4_2_2.tif\n",
      "Done with splitting. Should output file of name 03_06_20_OGD_Severity_MPT/OGD_1_5h_slice_2_striatum_vid_4_2_3.tif\n",
      "Done with splitting. Should output file of name 03_06_20_OGD_Severity_MPT/OGD_1_5h_slice_2_striatum_vid_4_3_0.tif\n",
      "Done with splitting. Should output file of name 03_06_20_OGD_Severity_MPT/OGD_1_5h_slice_2_striatum_vid_4_3_1.tif\n",
      "Done with splitting. Should output file of name 03_06_20_OGD_Severity_MPT/OGD_1_5h_slice_2_striatum_vid_4_3_2.tif\n",
      "Done with splitting. Should output file of name 03_06_20_OGD_Severity_MPT/OGD_1_5h_slice_2_striatum_vid_4_3_3.tif\n"
     ]
    },
    {
     "name": "stderr",
     "output_type": "stream",
     "text": [
      "/home/ubuntu/miniconda3/lib/python3.6/site-packages/skimage/io/_io.py:132: UserWarning: /home/ubuntu/source/mike_fork/diff_classifier/notebooks/development/OGD_1_5h_slice_2_striatum_vid_5_0_0.tif is a low contrast image\n",
      "  warn('%s is a low contrast image' % fname)\n",
      "/home/ubuntu/miniconda3/lib/python3.6/site-packages/skimage/io/_io.py:132: UserWarning: /home/ubuntu/source/mike_fork/diff_classifier/notebooks/development/OGD_1_5h_slice_2_striatum_vid_5_0_1.tif is a low contrast image\n",
      "  warn('%s is a low contrast image' % fname)\n",
      "/home/ubuntu/miniconda3/lib/python3.6/site-packages/skimage/io/_io.py:132: UserWarning: /home/ubuntu/source/mike_fork/diff_classifier/notebooks/development/OGD_1_5h_slice_2_striatum_vid_5_0_2.tif is a low contrast image\n",
      "  warn('%s is a low contrast image' % fname)\n",
      "/home/ubuntu/miniconda3/lib/python3.6/site-packages/skimage/io/_io.py:132: UserWarning: /home/ubuntu/source/mike_fork/diff_classifier/notebooks/development/OGD_1_5h_slice_2_striatum_vid_5_0_3.tif is a low contrast image\n",
      "  warn('%s is a low contrast image' % fname)\n",
      "/home/ubuntu/miniconda3/lib/python3.6/site-packages/skimage/io/_io.py:132: UserWarning: /home/ubuntu/source/mike_fork/diff_classifier/notebooks/development/OGD_1_5h_slice_2_striatum_vid_5_1_0.tif is a low contrast image\n",
      "  warn('%s is a low contrast image' % fname)\n",
      "/home/ubuntu/miniconda3/lib/python3.6/site-packages/skimage/io/_io.py:132: UserWarning: /home/ubuntu/source/mike_fork/diff_classifier/notebooks/development/OGD_1_5h_slice_2_striatum_vid_5_1_1.tif is a low contrast image\n",
      "  warn('%s is a low contrast image' % fname)\n",
      "/home/ubuntu/miniconda3/lib/python3.6/site-packages/skimage/io/_io.py:132: UserWarning: /home/ubuntu/source/mike_fork/diff_classifier/notebooks/development/OGD_1_5h_slice_2_striatum_vid_5_1_2.tif is a low contrast image\n",
      "  warn('%s is a low contrast image' % fname)\n",
      "/home/ubuntu/miniconda3/lib/python3.6/site-packages/skimage/io/_io.py:132: UserWarning: /home/ubuntu/source/mike_fork/diff_classifier/notebooks/development/OGD_1_5h_slice_2_striatum_vid_5_1_3.tif is a low contrast image\n",
      "  warn('%s is a low contrast image' % fname)\n",
      "/home/ubuntu/miniconda3/lib/python3.6/site-packages/skimage/io/_io.py:132: UserWarning: /home/ubuntu/source/mike_fork/diff_classifier/notebooks/development/OGD_1_5h_slice_2_striatum_vid_5_2_0.tif is a low contrast image\n",
      "  warn('%s is a low contrast image' % fname)\n",
      "/home/ubuntu/miniconda3/lib/python3.6/site-packages/skimage/io/_io.py:132: UserWarning: /home/ubuntu/source/mike_fork/diff_classifier/notebooks/development/OGD_1_5h_slice_2_striatum_vid_5_2_1.tif is a low contrast image\n",
      "  warn('%s is a low contrast image' % fname)\n",
      "/home/ubuntu/miniconda3/lib/python3.6/site-packages/skimage/io/_io.py:132: UserWarning: /home/ubuntu/source/mike_fork/diff_classifier/notebooks/development/OGD_1_5h_slice_2_striatum_vid_5_2_2.tif is a low contrast image\n",
      "  warn('%s is a low contrast image' % fname)\n",
      "/home/ubuntu/miniconda3/lib/python3.6/site-packages/skimage/io/_io.py:132: UserWarning: /home/ubuntu/source/mike_fork/diff_classifier/notebooks/development/OGD_1_5h_slice_2_striatum_vid_5_2_3.tif is a low contrast image\n",
      "  warn('%s is a low contrast image' % fname)\n",
      "/home/ubuntu/miniconda3/lib/python3.6/site-packages/skimage/io/_io.py:132: UserWarning: /home/ubuntu/source/mike_fork/diff_classifier/notebooks/development/OGD_1_5h_slice_2_striatum_vid_5_3_0.tif is a low contrast image\n",
      "  warn('%s is a low contrast image' % fname)\n",
      "/home/ubuntu/miniconda3/lib/python3.6/site-packages/skimage/io/_io.py:132: UserWarning: /home/ubuntu/source/mike_fork/diff_classifier/notebooks/development/OGD_1_5h_slice_2_striatum_vid_5_3_1.tif is a low contrast image\n",
      "  warn('%s is a low contrast image' % fname)\n",
      "/home/ubuntu/miniconda3/lib/python3.6/site-packages/skimage/io/_io.py:132: UserWarning: /home/ubuntu/source/mike_fork/diff_classifier/notebooks/development/OGD_1_5h_slice_2_striatum_vid_5_3_2.tif is a low contrast image\n",
      "  warn('%s is a low contrast image' % fname)\n",
      "/home/ubuntu/miniconda3/lib/python3.6/site-packages/skimage/io/_io.py:132: UserWarning: /home/ubuntu/source/mike_fork/diff_classifier/notebooks/development/OGD_1_5h_slice_2_striatum_vid_5_3_3.tif is a low contrast image\n",
      "  warn('%s is a low contrast image' % fname)\n"
     ]
    },
    {
     "name": "stdout",
     "output_type": "stream",
     "text": [
      "Done with splitting. Should output file of name 03_06_20_OGD_Severity_MPT/OGD_1_5h_slice_2_striatum_vid_5_0_0.tif\n",
      "Done with splitting. Should output file of name 03_06_20_OGD_Severity_MPT/OGD_1_5h_slice_2_striatum_vid_5_0_1.tif\n",
      "Done with splitting. Should output file of name 03_06_20_OGD_Severity_MPT/OGD_1_5h_slice_2_striatum_vid_5_0_2.tif\n",
      "Done with splitting. Should output file of name 03_06_20_OGD_Severity_MPT/OGD_1_5h_slice_2_striatum_vid_5_0_3.tif\n",
      "Done with splitting. Should output file of name 03_06_20_OGD_Severity_MPT/OGD_1_5h_slice_2_striatum_vid_5_1_0.tif\n",
      "Done with splitting. Should output file of name 03_06_20_OGD_Severity_MPT/OGD_1_5h_slice_2_striatum_vid_5_1_1.tif\n",
      "Done with splitting. Should output file of name 03_06_20_OGD_Severity_MPT/OGD_1_5h_slice_2_striatum_vid_5_1_2.tif\n",
      "Done with splitting. Should output file of name 03_06_20_OGD_Severity_MPT/OGD_1_5h_slice_2_striatum_vid_5_1_3.tif\n",
      "Done with splitting. Should output file of name 03_06_20_OGD_Severity_MPT/OGD_1_5h_slice_2_striatum_vid_5_2_0.tif\n",
      "Done with splitting. Should output file of name 03_06_20_OGD_Severity_MPT/OGD_1_5h_slice_2_striatum_vid_5_2_1.tif\n",
      "Done with splitting. Should output file of name 03_06_20_OGD_Severity_MPT/OGD_1_5h_slice_2_striatum_vid_5_2_2.tif\n",
      "Done with splitting. Should output file of name 03_06_20_OGD_Severity_MPT/OGD_1_5h_slice_2_striatum_vid_5_2_3.tif\n",
      "Done with splitting. Should output file of name 03_06_20_OGD_Severity_MPT/OGD_1_5h_slice_2_striatum_vid_5_3_0.tif\n",
      "Done with splitting. Should output file of name 03_06_20_OGD_Severity_MPT/OGD_1_5h_slice_2_striatum_vid_5_3_1.tif\n",
      "Done with splitting. Should output file of name 03_06_20_OGD_Severity_MPT/OGD_1_5h_slice_2_striatum_vid_5_3_2.tif\n",
      "Done with splitting. Should output file of name 03_06_20_OGD_Severity_MPT/OGD_1_5h_slice_2_striatum_vid_5_3_3.tif\n"
     ]
    },
    {
     "name": "stderr",
     "output_type": "stream",
     "text": [
      "/home/ubuntu/miniconda3/lib/python3.6/site-packages/skimage/io/_io.py:132: UserWarning: /home/ubuntu/source/mike_fork/diff_classifier/notebooks/development/OGD_1_5h_slice_3_cortex_vid_1_0_0.tif is a low contrast image\n",
      "  warn('%s is a low contrast image' % fname)\n",
      "/home/ubuntu/miniconda3/lib/python3.6/site-packages/skimage/io/_io.py:132: UserWarning: /home/ubuntu/source/mike_fork/diff_classifier/notebooks/development/OGD_1_5h_slice_3_cortex_vid_1_0_1.tif is a low contrast image\n",
      "  warn('%s is a low contrast image' % fname)\n",
      "/home/ubuntu/miniconda3/lib/python3.6/site-packages/skimage/io/_io.py:132: UserWarning: /home/ubuntu/source/mike_fork/diff_classifier/notebooks/development/OGD_1_5h_slice_3_cortex_vid_1_0_2.tif is a low contrast image\n",
      "  warn('%s is a low contrast image' % fname)\n",
      "/home/ubuntu/miniconda3/lib/python3.6/site-packages/skimage/io/_io.py:132: UserWarning: /home/ubuntu/source/mike_fork/diff_classifier/notebooks/development/OGD_1_5h_slice_3_cortex_vid_1_0_3.tif is a low contrast image\n",
      "  warn('%s is a low contrast image' % fname)\n",
      "/home/ubuntu/miniconda3/lib/python3.6/site-packages/skimage/io/_io.py:132: UserWarning: /home/ubuntu/source/mike_fork/diff_classifier/notebooks/development/OGD_1_5h_slice_3_cortex_vid_1_1_0.tif is a low contrast image\n",
      "  warn('%s is a low contrast image' % fname)\n",
      "/home/ubuntu/miniconda3/lib/python3.6/site-packages/skimage/io/_io.py:132: UserWarning: /home/ubuntu/source/mike_fork/diff_classifier/notebooks/development/OGD_1_5h_slice_3_cortex_vid_1_1_1.tif is a low contrast image\n",
      "  warn('%s is a low contrast image' % fname)\n",
      "/home/ubuntu/miniconda3/lib/python3.6/site-packages/skimage/io/_io.py:132: UserWarning: /home/ubuntu/source/mike_fork/diff_classifier/notebooks/development/OGD_1_5h_slice_3_cortex_vid_1_1_2.tif is a low contrast image\n",
      "  warn('%s is a low contrast image' % fname)\n",
      "/home/ubuntu/miniconda3/lib/python3.6/site-packages/skimage/io/_io.py:132: UserWarning: /home/ubuntu/source/mike_fork/diff_classifier/notebooks/development/OGD_1_5h_slice_3_cortex_vid_1_1_3.tif is a low contrast image\n",
      "  warn('%s is a low contrast image' % fname)\n",
      "/home/ubuntu/miniconda3/lib/python3.6/site-packages/skimage/io/_io.py:132: UserWarning: /home/ubuntu/source/mike_fork/diff_classifier/notebooks/development/OGD_1_5h_slice_3_cortex_vid_1_2_0.tif is a low contrast image\n",
      "  warn('%s is a low contrast image' % fname)\n",
      "/home/ubuntu/miniconda3/lib/python3.6/site-packages/skimage/io/_io.py:132: UserWarning: /home/ubuntu/source/mike_fork/diff_classifier/notebooks/development/OGD_1_5h_slice_3_cortex_vid_1_2_1.tif is a low contrast image\n",
      "  warn('%s is a low contrast image' % fname)\n",
      "/home/ubuntu/miniconda3/lib/python3.6/site-packages/skimage/io/_io.py:132: UserWarning: /home/ubuntu/source/mike_fork/diff_classifier/notebooks/development/OGD_1_5h_slice_3_cortex_vid_1_2_2.tif is a low contrast image\n",
      "  warn('%s is a low contrast image' % fname)\n",
      "/home/ubuntu/miniconda3/lib/python3.6/site-packages/skimage/io/_io.py:132: UserWarning: /home/ubuntu/source/mike_fork/diff_classifier/notebooks/development/OGD_1_5h_slice_3_cortex_vid_1_2_3.tif is a low contrast image\n",
      "  warn('%s is a low contrast image' % fname)\n",
      "/home/ubuntu/miniconda3/lib/python3.6/site-packages/skimage/io/_io.py:132: UserWarning: /home/ubuntu/source/mike_fork/diff_classifier/notebooks/development/OGD_1_5h_slice_3_cortex_vid_1_3_0.tif is a low contrast image\n",
      "  warn('%s is a low contrast image' % fname)\n",
      "/home/ubuntu/miniconda3/lib/python3.6/site-packages/skimage/io/_io.py:132: UserWarning: /home/ubuntu/source/mike_fork/diff_classifier/notebooks/development/OGD_1_5h_slice_3_cortex_vid_1_3_1.tif is a low contrast image\n",
      "  warn('%s is a low contrast image' % fname)\n",
      "/home/ubuntu/miniconda3/lib/python3.6/site-packages/skimage/io/_io.py:132: UserWarning: /home/ubuntu/source/mike_fork/diff_classifier/notebooks/development/OGD_1_5h_slice_3_cortex_vid_1_3_2.tif is a low contrast image\n",
      "  warn('%s is a low contrast image' % fname)\n",
      "/home/ubuntu/miniconda3/lib/python3.6/site-packages/skimage/io/_io.py:132: UserWarning: /home/ubuntu/source/mike_fork/diff_classifier/notebooks/development/OGD_1_5h_slice_3_cortex_vid_1_3_3.tif is a low contrast image\n",
      "  warn('%s is a low contrast image' % fname)\n"
     ]
    },
    {
     "name": "stdout",
     "output_type": "stream",
     "text": [
      "Done with splitting. Should output file of name 03_06_20_OGD_Severity_MPT/OGD_1_5h_slice_3_cortex_vid_1_0_0.tif\n",
      "Done with splitting. Should output file of name 03_06_20_OGD_Severity_MPT/OGD_1_5h_slice_3_cortex_vid_1_0_1.tif\n",
      "Done with splitting. Should output file of name 03_06_20_OGD_Severity_MPT/OGD_1_5h_slice_3_cortex_vid_1_0_2.tif\n",
      "Done with splitting. Should output file of name 03_06_20_OGD_Severity_MPT/OGD_1_5h_slice_3_cortex_vid_1_0_3.tif\n",
      "Done with splitting. Should output file of name 03_06_20_OGD_Severity_MPT/OGD_1_5h_slice_3_cortex_vid_1_1_0.tif\n",
      "Done with splitting. Should output file of name 03_06_20_OGD_Severity_MPT/OGD_1_5h_slice_3_cortex_vid_1_1_1.tif\n",
      "Done with splitting. Should output file of name 03_06_20_OGD_Severity_MPT/OGD_1_5h_slice_3_cortex_vid_1_1_2.tif\n",
      "Done with splitting. Should output file of name 03_06_20_OGD_Severity_MPT/OGD_1_5h_slice_3_cortex_vid_1_1_3.tif\n",
      "Done with splitting. Should output file of name 03_06_20_OGD_Severity_MPT/OGD_1_5h_slice_3_cortex_vid_1_2_0.tif\n",
      "Done with splitting. Should output file of name 03_06_20_OGD_Severity_MPT/OGD_1_5h_slice_3_cortex_vid_1_2_1.tif\n",
      "Done with splitting. Should output file of name 03_06_20_OGD_Severity_MPT/OGD_1_5h_slice_3_cortex_vid_1_2_2.tif\n",
      "Done with splitting. Should output file of name 03_06_20_OGD_Severity_MPT/OGD_1_5h_slice_3_cortex_vid_1_2_3.tif\n",
      "Done with splitting. Should output file of name 03_06_20_OGD_Severity_MPT/OGD_1_5h_slice_3_cortex_vid_1_3_0.tif\n",
      "Done with splitting. Should output file of name 03_06_20_OGD_Severity_MPT/OGD_1_5h_slice_3_cortex_vid_1_3_1.tif\n",
      "Done with splitting. Should output file of name 03_06_20_OGD_Severity_MPT/OGD_1_5h_slice_3_cortex_vid_1_3_2.tif\n",
      "Done with splitting. Should output file of name 03_06_20_OGD_Severity_MPT/OGD_1_5h_slice_3_cortex_vid_1_3_3.tif\n"
     ]
    },
    {
     "name": "stderr",
     "output_type": "stream",
     "text": [
      "/home/ubuntu/miniconda3/lib/python3.6/site-packages/skimage/io/_io.py:132: UserWarning: /home/ubuntu/source/mike_fork/diff_classifier/notebooks/development/OGD_1_5h_slice_3_cortex_vid_2_0_0.tif is a low contrast image\n",
      "  warn('%s is a low contrast image' % fname)\n",
      "/home/ubuntu/miniconda3/lib/python3.6/site-packages/skimage/io/_io.py:132: UserWarning: /home/ubuntu/source/mike_fork/diff_classifier/notebooks/development/OGD_1_5h_slice_3_cortex_vid_2_0_1.tif is a low contrast image\n",
      "  warn('%s is a low contrast image' % fname)\n",
      "/home/ubuntu/miniconda3/lib/python3.6/site-packages/skimage/io/_io.py:132: UserWarning: /home/ubuntu/source/mike_fork/diff_classifier/notebooks/development/OGD_1_5h_slice_3_cortex_vid_2_0_2.tif is a low contrast image\n",
      "  warn('%s is a low contrast image' % fname)\n",
      "/home/ubuntu/miniconda3/lib/python3.6/site-packages/skimage/io/_io.py:132: UserWarning: /home/ubuntu/source/mike_fork/diff_classifier/notebooks/development/OGD_1_5h_slice_3_cortex_vid_2_0_3.tif is a low contrast image\n",
      "  warn('%s is a low contrast image' % fname)\n",
      "/home/ubuntu/miniconda3/lib/python3.6/site-packages/skimage/io/_io.py:132: UserWarning: /home/ubuntu/source/mike_fork/diff_classifier/notebooks/development/OGD_1_5h_slice_3_cortex_vid_2_1_0.tif is a low contrast image\n",
      "  warn('%s is a low contrast image' % fname)\n",
      "/home/ubuntu/miniconda3/lib/python3.6/site-packages/skimage/io/_io.py:132: UserWarning: /home/ubuntu/source/mike_fork/diff_classifier/notebooks/development/OGD_1_5h_slice_3_cortex_vid_2_1_1.tif is a low contrast image\n",
      "  warn('%s is a low contrast image' % fname)\n",
      "/home/ubuntu/miniconda3/lib/python3.6/site-packages/skimage/io/_io.py:132: UserWarning: /home/ubuntu/source/mike_fork/diff_classifier/notebooks/development/OGD_1_5h_slice_3_cortex_vid_2_1_2.tif is a low contrast image\n",
      "  warn('%s is a low contrast image' % fname)\n",
      "/home/ubuntu/miniconda3/lib/python3.6/site-packages/skimage/io/_io.py:132: UserWarning: /home/ubuntu/source/mike_fork/diff_classifier/notebooks/development/OGD_1_5h_slice_3_cortex_vid_2_1_3.tif is a low contrast image\n",
      "  warn('%s is a low contrast image' % fname)\n",
      "/home/ubuntu/miniconda3/lib/python3.6/site-packages/skimage/io/_io.py:132: UserWarning: /home/ubuntu/source/mike_fork/diff_classifier/notebooks/development/OGD_1_5h_slice_3_cortex_vid_2_2_0.tif is a low contrast image\n",
      "  warn('%s is a low contrast image' % fname)\n",
      "/home/ubuntu/miniconda3/lib/python3.6/site-packages/skimage/io/_io.py:132: UserWarning: /home/ubuntu/source/mike_fork/diff_classifier/notebooks/development/OGD_1_5h_slice_3_cortex_vid_2_2_1.tif is a low contrast image\n",
      "  warn('%s is a low contrast image' % fname)\n",
      "/home/ubuntu/miniconda3/lib/python3.6/site-packages/skimage/io/_io.py:132: UserWarning: /home/ubuntu/source/mike_fork/diff_classifier/notebooks/development/OGD_1_5h_slice_3_cortex_vid_2_2_2.tif is a low contrast image\n",
      "  warn('%s is a low contrast image' % fname)\n",
      "/home/ubuntu/miniconda3/lib/python3.6/site-packages/skimage/io/_io.py:132: UserWarning: /home/ubuntu/source/mike_fork/diff_classifier/notebooks/development/OGD_1_5h_slice_3_cortex_vid_2_2_3.tif is a low contrast image\n",
      "  warn('%s is a low contrast image' % fname)\n",
      "/home/ubuntu/miniconda3/lib/python3.6/site-packages/skimage/io/_io.py:132: UserWarning: /home/ubuntu/source/mike_fork/diff_classifier/notebooks/development/OGD_1_5h_slice_3_cortex_vid_2_3_0.tif is a low contrast image\n",
      "  warn('%s is a low contrast image' % fname)\n",
      "/home/ubuntu/miniconda3/lib/python3.6/site-packages/skimage/io/_io.py:132: UserWarning: /home/ubuntu/source/mike_fork/diff_classifier/notebooks/development/OGD_1_5h_slice_3_cortex_vid_2_3_1.tif is a low contrast image\n",
      "  warn('%s is a low contrast image' % fname)\n",
      "/home/ubuntu/miniconda3/lib/python3.6/site-packages/skimage/io/_io.py:132: UserWarning: /home/ubuntu/source/mike_fork/diff_classifier/notebooks/development/OGD_1_5h_slice_3_cortex_vid_2_3_2.tif is a low contrast image\n",
      "  warn('%s is a low contrast image' % fname)\n",
      "/home/ubuntu/miniconda3/lib/python3.6/site-packages/skimage/io/_io.py:132: UserWarning: /home/ubuntu/source/mike_fork/diff_classifier/notebooks/development/OGD_1_5h_slice_3_cortex_vid_2_3_3.tif is a low contrast image\n",
      "  warn('%s is a low contrast image' % fname)\n"
     ]
    },
    {
     "name": "stdout",
     "output_type": "stream",
     "text": [
      "Done with splitting. Should output file of name 03_06_20_OGD_Severity_MPT/OGD_1_5h_slice_3_cortex_vid_2_0_0.tif\n",
      "Done with splitting. Should output file of name 03_06_20_OGD_Severity_MPT/OGD_1_5h_slice_3_cortex_vid_2_0_1.tif\n",
      "Done with splitting. Should output file of name 03_06_20_OGD_Severity_MPT/OGD_1_5h_slice_3_cortex_vid_2_0_2.tif\n",
      "Done with splitting. Should output file of name 03_06_20_OGD_Severity_MPT/OGD_1_5h_slice_3_cortex_vid_2_0_3.tif\n",
      "Done with splitting. Should output file of name 03_06_20_OGD_Severity_MPT/OGD_1_5h_slice_3_cortex_vid_2_1_0.tif\n",
      "Done with splitting. Should output file of name 03_06_20_OGD_Severity_MPT/OGD_1_5h_slice_3_cortex_vid_2_1_1.tif\n",
      "Done with splitting. Should output file of name 03_06_20_OGD_Severity_MPT/OGD_1_5h_slice_3_cortex_vid_2_1_2.tif\n",
      "Done with splitting. Should output file of name 03_06_20_OGD_Severity_MPT/OGD_1_5h_slice_3_cortex_vid_2_1_3.tif\n",
      "Done with splitting. Should output file of name 03_06_20_OGD_Severity_MPT/OGD_1_5h_slice_3_cortex_vid_2_2_0.tif\n",
      "Done with splitting. Should output file of name 03_06_20_OGD_Severity_MPT/OGD_1_5h_slice_3_cortex_vid_2_2_1.tif\n",
      "Done with splitting. Should output file of name 03_06_20_OGD_Severity_MPT/OGD_1_5h_slice_3_cortex_vid_2_2_2.tif\n",
      "Done with splitting. Should output file of name 03_06_20_OGD_Severity_MPT/OGD_1_5h_slice_3_cortex_vid_2_2_3.tif\n",
      "Done with splitting. Should output file of name 03_06_20_OGD_Severity_MPT/OGD_1_5h_slice_3_cortex_vid_2_3_0.tif\n",
      "Done with splitting. Should output file of name 03_06_20_OGD_Severity_MPT/OGD_1_5h_slice_3_cortex_vid_2_3_1.tif\n",
      "Done with splitting. Should output file of name 03_06_20_OGD_Severity_MPT/OGD_1_5h_slice_3_cortex_vid_2_3_2.tif\n",
      "Done with splitting. Should output file of name 03_06_20_OGD_Severity_MPT/OGD_1_5h_slice_3_cortex_vid_2_3_3.tif\n"
     ]
    },
    {
     "name": "stderr",
     "output_type": "stream",
     "text": [
      "/home/ubuntu/miniconda3/lib/python3.6/site-packages/skimage/io/_io.py:132: UserWarning: /home/ubuntu/source/mike_fork/diff_classifier/notebooks/development/OGD_1_5h_slice_3_cortex_vid_3_0_0.tif is a low contrast image\n",
      "  warn('%s is a low contrast image' % fname)\n",
      "/home/ubuntu/miniconda3/lib/python3.6/site-packages/skimage/io/_io.py:132: UserWarning: /home/ubuntu/source/mike_fork/diff_classifier/notebooks/development/OGD_1_5h_slice_3_cortex_vid_3_0_1.tif is a low contrast image\n",
      "  warn('%s is a low contrast image' % fname)\n",
      "/home/ubuntu/miniconda3/lib/python3.6/site-packages/skimage/io/_io.py:132: UserWarning: /home/ubuntu/source/mike_fork/diff_classifier/notebooks/development/OGD_1_5h_slice_3_cortex_vid_3_0_2.tif is a low contrast image\n",
      "  warn('%s is a low contrast image' % fname)\n",
      "/home/ubuntu/miniconda3/lib/python3.6/site-packages/skimage/io/_io.py:132: UserWarning: /home/ubuntu/source/mike_fork/diff_classifier/notebooks/development/OGD_1_5h_slice_3_cortex_vid_3_0_3.tif is a low contrast image\n",
      "  warn('%s is a low contrast image' % fname)\n",
      "/home/ubuntu/miniconda3/lib/python3.6/site-packages/skimage/io/_io.py:132: UserWarning: /home/ubuntu/source/mike_fork/diff_classifier/notebooks/development/OGD_1_5h_slice_3_cortex_vid_3_1_0.tif is a low contrast image\n",
      "  warn('%s is a low contrast image' % fname)\n",
      "/home/ubuntu/miniconda3/lib/python3.6/site-packages/skimage/io/_io.py:132: UserWarning: /home/ubuntu/source/mike_fork/diff_classifier/notebooks/development/OGD_1_5h_slice_3_cortex_vid_3_1_1.tif is a low contrast image\n",
      "  warn('%s is a low contrast image' % fname)\n",
      "/home/ubuntu/miniconda3/lib/python3.6/site-packages/skimage/io/_io.py:132: UserWarning: /home/ubuntu/source/mike_fork/diff_classifier/notebooks/development/OGD_1_5h_slice_3_cortex_vid_3_1_2.tif is a low contrast image\n",
      "  warn('%s is a low contrast image' % fname)\n",
      "/home/ubuntu/miniconda3/lib/python3.6/site-packages/skimage/io/_io.py:132: UserWarning: /home/ubuntu/source/mike_fork/diff_classifier/notebooks/development/OGD_1_5h_slice_3_cortex_vid_3_1_3.tif is a low contrast image\n",
      "  warn('%s is a low contrast image' % fname)\n",
      "/home/ubuntu/miniconda3/lib/python3.6/site-packages/skimage/io/_io.py:132: UserWarning: /home/ubuntu/source/mike_fork/diff_classifier/notebooks/development/OGD_1_5h_slice_3_cortex_vid_3_2_0.tif is a low contrast image\n",
      "  warn('%s is a low contrast image' % fname)\n",
      "/home/ubuntu/miniconda3/lib/python3.6/site-packages/skimage/io/_io.py:132: UserWarning: /home/ubuntu/source/mike_fork/diff_classifier/notebooks/development/OGD_1_5h_slice_3_cortex_vid_3_2_1.tif is a low contrast image\n",
      "  warn('%s is a low contrast image' % fname)\n",
      "/home/ubuntu/miniconda3/lib/python3.6/site-packages/skimage/io/_io.py:132: UserWarning: /home/ubuntu/source/mike_fork/diff_classifier/notebooks/development/OGD_1_5h_slice_3_cortex_vid_3_2_2.tif is a low contrast image\n",
      "  warn('%s is a low contrast image' % fname)\n",
      "/home/ubuntu/miniconda3/lib/python3.6/site-packages/skimage/io/_io.py:132: UserWarning: /home/ubuntu/source/mike_fork/diff_classifier/notebooks/development/OGD_1_5h_slice_3_cortex_vid_3_2_3.tif is a low contrast image\n",
      "  warn('%s is a low contrast image' % fname)\n",
      "/home/ubuntu/miniconda3/lib/python3.6/site-packages/skimage/io/_io.py:132: UserWarning: /home/ubuntu/source/mike_fork/diff_classifier/notebooks/development/OGD_1_5h_slice_3_cortex_vid_3_3_0.tif is a low contrast image\n",
      "  warn('%s is a low contrast image' % fname)\n",
      "/home/ubuntu/miniconda3/lib/python3.6/site-packages/skimage/io/_io.py:132: UserWarning: /home/ubuntu/source/mike_fork/diff_classifier/notebooks/development/OGD_1_5h_slice_3_cortex_vid_3_3_1.tif is a low contrast image\n",
      "  warn('%s is a low contrast image' % fname)\n",
      "/home/ubuntu/miniconda3/lib/python3.6/site-packages/skimage/io/_io.py:132: UserWarning: /home/ubuntu/source/mike_fork/diff_classifier/notebooks/development/OGD_1_5h_slice_3_cortex_vid_3_3_2.tif is a low contrast image\n",
      "  warn('%s is a low contrast image' % fname)\n",
      "/home/ubuntu/miniconda3/lib/python3.6/site-packages/skimage/io/_io.py:132: UserWarning: /home/ubuntu/source/mike_fork/diff_classifier/notebooks/development/OGD_1_5h_slice_3_cortex_vid_3_3_3.tif is a low contrast image\n",
      "  warn('%s is a low contrast image' % fname)\n"
     ]
    },
    {
     "name": "stdout",
     "output_type": "stream",
     "text": [
      "Done with splitting. Should output file of name 03_06_20_OGD_Severity_MPT/OGD_1_5h_slice_3_cortex_vid_3_0_0.tif\n",
      "Done with splitting. Should output file of name 03_06_20_OGD_Severity_MPT/OGD_1_5h_slice_3_cortex_vid_3_0_1.tif\n",
      "Done with splitting. Should output file of name 03_06_20_OGD_Severity_MPT/OGD_1_5h_slice_3_cortex_vid_3_0_2.tif\n",
      "Done with splitting. Should output file of name 03_06_20_OGD_Severity_MPT/OGD_1_5h_slice_3_cortex_vid_3_0_3.tif\n",
      "Done with splitting. Should output file of name 03_06_20_OGD_Severity_MPT/OGD_1_5h_slice_3_cortex_vid_3_1_0.tif\n",
      "Done with splitting. Should output file of name 03_06_20_OGD_Severity_MPT/OGD_1_5h_slice_3_cortex_vid_3_1_1.tif\n",
      "Done with splitting. Should output file of name 03_06_20_OGD_Severity_MPT/OGD_1_5h_slice_3_cortex_vid_3_1_2.tif\n",
      "Done with splitting. Should output file of name 03_06_20_OGD_Severity_MPT/OGD_1_5h_slice_3_cortex_vid_3_1_3.tif\n",
      "Done with splitting. Should output file of name 03_06_20_OGD_Severity_MPT/OGD_1_5h_slice_3_cortex_vid_3_2_0.tif\n",
      "Done with splitting. Should output file of name 03_06_20_OGD_Severity_MPT/OGD_1_5h_slice_3_cortex_vid_3_2_1.tif\n",
      "Done with splitting. Should output file of name 03_06_20_OGD_Severity_MPT/OGD_1_5h_slice_3_cortex_vid_3_2_2.tif\n",
      "Done with splitting. Should output file of name 03_06_20_OGD_Severity_MPT/OGD_1_5h_slice_3_cortex_vid_3_2_3.tif\n",
      "Done with splitting. Should output file of name 03_06_20_OGD_Severity_MPT/OGD_1_5h_slice_3_cortex_vid_3_3_0.tif\n",
      "Done with splitting. Should output file of name 03_06_20_OGD_Severity_MPT/OGD_1_5h_slice_3_cortex_vid_3_3_1.tif\n",
      "Done with splitting. Should output file of name 03_06_20_OGD_Severity_MPT/OGD_1_5h_slice_3_cortex_vid_3_3_2.tif\n",
      "Done with splitting. Should output file of name 03_06_20_OGD_Severity_MPT/OGD_1_5h_slice_3_cortex_vid_3_3_3.tif\n"
     ]
    },
    {
     "name": "stderr",
     "output_type": "stream",
     "text": [
      "/home/ubuntu/miniconda3/lib/python3.6/site-packages/skimage/io/_io.py:132: UserWarning: /home/ubuntu/source/mike_fork/diff_classifier/notebooks/development/OGD_1_5h_slice_3_cortex_vid_4_0_0.tif is a low contrast image\n",
      "  warn('%s is a low contrast image' % fname)\n",
      "/home/ubuntu/miniconda3/lib/python3.6/site-packages/skimage/io/_io.py:132: UserWarning: /home/ubuntu/source/mike_fork/diff_classifier/notebooks/development/OGD_1_5h_slice_3_cortex_vid_4_0_1.tif is a low contrast image\n",
      "  warn('%s is a low contrast image' % fname)\n",
      "/home/ubuntu/miniconda3/lib/python3.6/site-packages/skimage/io/_io.py:132: UserWarning: /home/ubuntu/source/mike_fork/diff_classifier/notebooks/development/OGD_1_5h_slice_3_cortex_vid_4_0_2.tif is a low contrast image\n",
      "  warn('%s is a low contrast image' % fname)\n",
      "/home/ubuntu/miniconda3/lib/python3.6/site-packages/skimage/io/_io.py:132: UserWarning: /home/ubuntu/source/mike_fork/diff_classifier/notebooks/development/OGD_1_5h_slice_3_cortex_vid_4_0_3.tif is a low contrast image\n",
      "  warn('%s is a low contrast image' % fname)\n",
      "/home/ubuntu/miniconda3/lib/python3.6/site-packages/skimage/io/_io.py:132: UserWarning: /home/ubuntu/source/mike_fork/diff_classifier/notebooks/development/OGD_1_5h_slice_3_cortex_vid_4_1_0.tif is a low contrast image\n",
      "  warn('%s is a low contrast image' % fname)\n",
      "/home/ubuntu/miniconda3/lib/python3.6/site-packages/skimage/io/_io.py:132: UserWarning: /home/ubuntu/source/mike_fork/diff_classifier/notebooks/development/OGD_1_5h_slice_3_cortex_vid_4_1_1.tif is a low contrast image\n",
      "  warn('%s is a low contrast image' % fname)\n",
      "/home/ubuntu/miniconda3/lib/python3.6/site-packages/skimage/io/_io.py:132: UserWarning: /home/ubuntu/source/mike_fork/diff_classifier/notebooks/development/OGD_1_5h_slice_3_cortex_vid_4_1_2.tif is a low contrast image\n",
      "  warn('%s is a low contrast image' % fname)\n",
      "/home/ubuntu/miniconda3/lib/python3.6/site-packages/skimage/io/_io.py:132: UserWarning: /home/ubuntu/source/mike_fork/diff_classifier/notebooks/development/OGD_1_5h_slice_3_cortex_vid_4_1_3.tif is a low contrast image\n",
      "  warn('%s is a low contrast image' % fname)\n",
      "/home/ubuntu/miniconda3/lib/python3.6/site-packages/skimage/io/_io.py:132: UserWarning: /home/ubuntu/source/mike_fork/diff_classifier/notebooks/development/OGD_1_5h_slice_3_cortex_vid_4_2_0.tif is a low contrast image\n",
      "  warn('%s is a low contrast image' % fname)\n",
      "/home/ubuntu/miniconda3/lib/python3.6/site-packages/skimage/io/_io.py:132: UserWarning: /home/ubuntu/source/mike_fork/diff_classifier/notebooks/development/OGD_1_5h_slice_3_cortex_vid_4_2_1.tif is a low contrast image\n",
      "  warn('%s is a low contrast image' % fname)\n",
      "/home/ubuntu/miniconda3/lib/python3.6/site-packages/skimage/io/_io.py:132: UserWarning: /home/ubuntu/source/mike_fork/diff_classifier/notebooks/development/OGD_1_5h_slice_3_cortex_vid_4_2_2.tif is a low contrast image\n",
      "  warn('%s is a low contrast image' % fname)\n",
      "/home/ubuntu/miniconda3/lib/python3.6/site-packages/skimage/io/_io.py:132: UserWarning: /home/ubuntu/source/mike_fork/diff_classifier/notebooks/development/OGD_1_5h_slice_3_cortex_vid_4_2_3.tif is a low contrast image\n",
      "  warn('%s is a low contrast image' % fname)\n",
      "/home/ubuntu/miniconda3/lib/python3.6/site-packages/skimage/io/_io.py:132: UserWarning: /home/ubuntu/source/mike_fork/diff_classifier/notebooks/development/OGD_1_5h_slice_3_cortex_vid_4_3_0.tif is a low contrast image\n",
      "  warn('%s is a low contrast image' % fname)\n",
      "/home/ubuntu/miniconda3/lib/python3.6/site-packages/skimage/io/_io.py:132: UserWarning: /home/ubuntu/source/mike_fork/diff_classifier/notebooks/development/OGD_1_5h_slice_3_cortex_vid_4_3_1.tif is a low contrast image\n",
      "  warn('%s is a low contrast image' % fname)\n",
      "/home/ubuntu/miniconda3/lib/python3.6/site-packages/skimage/io/_io.py:132: UserWarning: /home/ubuntu/source/mike_fork/diff_classifier/notebooks/development/OGD_1_5h_slice_3_cortex_vid_4_3_2.tif is a low contrast image\n",
      "  warn('%s is a low contrast image' % fname)\n",
      "/home/ubuntu/miniconda3/lib/python3.6/site-packages/skimage/io/_io.py:132: UserWarning: /home/ubuntu/source/mike_fork/diff_classifier/notebooks/development/OGD_1_5h_slice_3_cortex_vid_4_3_3.tif is a low contrast image\n",
      "  warn('%s is a low contrast image' % fname)\n"
     ]
    },
    {
     "name": "stdout",
     "output_type": "stream",
     "text": [
      "Done with splitting. Should output file of name 03_06_20_OGD_Severity_MPT/OGD_1_5h_slice_3_cortex_vid_4_0_0.tif\n",
      "Done with splitting. Should output file of name 03_06_20_OGD_Severity_MPT/OGD_1_5h_slice_3_cortex_vid_4_0_1.tif\n",
      "Done with splitting. Should output file of name 03_06_20_OGD_Severity_MPT/OGD_1_5h_slice_3_cortex_vid_4_0_2.tif\n",
      "Done with splitting. Should output file of name 03_06_20_OGD_Severity_MPT/OGD_1_5h_slice_3_cortex_vid_4_0_3.tif\n",
      "Done with splitting. Should output file of name 03_06_20_OGD_Severity_MPT/OGD_1_5h_slice_3_cortex_vid_4_1_0.tif\n",
      "Done with splitting. Should output file of name 03_06_20_OGD_Severity_MPT/OGD_1_5h_slice_3_cortex_vid_4_1_1.tif\n",
      "Done with splitting. Should output file of name 03_06_20_OGD_Severity_MPT/OGD_1_5h_slice_3_cortex_vid_4_1_2.tif\n",
      "Done with splitting. Should output file of name 03_06_20_OGD_Severity_MPT/OGD_1_5h_slice_3_cortex_vid_4_1_3.tif\n",
      "Done with splitting. Should output file of name 03_06_20_OGD_Severity_MPT/OGD_1_5h_slice_3_cortex_vid_4_2_0.tif\n",
      "Done with splitting. Should output file of name 03_06_20_OGD_Severity_MPT/OGD_1_5h_slice_3_cortex_vid_4_2_1.tif\n",
      "Done with splitting. Should output file of name 03_06_20_OGD_Severity_MPT/OGD_1_5h_slice_3_cortex_vid_4_2_2.tif\n",
      "Done with splitting. Should output file of name 03_06_20_OGD_Severity_MPT/OGD_1_5h_slice_3_cortex_vid_4_2_3.tif\n",
      "Done with splitting. Should output file of name 03_06_20_OGD_Severity_MPT/OGD_1_5h_slice_3_cortex_vid_4_3_0.tif\n",
      "Done with splitting. Should output file of name 03_06_20_OGD_Severity_MPT/OGD_1_5h_slice_3_cortex_vid_4_3_1.tif\n",
      "Done with splitting. Should output file of name 03_06_20_OGD_Severity_MPT/OGD_1_5h_slice_3_cortex_vid_4_3_2.tif\n",
      "Done with splitting. Should output file of name 03_06_20_OGD_Severity_MPT/OGD_1_5h_slice_3_cortex_vid_4_3_3.tif\n"
     ]
    },
    {
     "name": "stderr",
     "output_type": "stream",
     "text": [
      "/home/ubuntu/miniconda3/lib/python3.6/site-packages/skimage/io/_io.py:132: UserWarning: /home/ubuntu/source/mike_fork/diff_classifier/notebooks/development/OGD_1_5h_slice_3_cortex_vid_5_0_0.tif is a low contrast image\n",
      "  warn('%s is a low contrast image' % fname)\n",
      "/home/ubuntu/miniconda3/lib/python3.6/site-packages/skimage/io/_io.py:132: UserWarning: /home/ubuntu/source/mike_fork/diff_classifier/notebooks/development/OGD_1_5h_slice_3_cortex_vid_5_0_1.tif is a low contrast image\n",
      "  warn('%s is a low contrast image' % fname)\n",
      "/home/ubuntu/miniconda3/lib/python3.6/site-packages/skimage/io/_io.py:132: UserWarning: /home/ubuntu/source/mike_fork/diff_classifier/notebooks/development/OGD_1_5h_slice_3_cortex_vid_5_0_2.tif is a low contrast image\n",
      "  warn('%s is a low contrast image' % fname)\n",
      "/home/ubuntu/miniconda3/lib/python3.6/site-packages/skimage/io/_io.py:132: UserWarning: /home/ubuntu/source/mike_fork/diff_classifier/notebooks/development/OGD_1_5h_slice_3_cortex_vid_5_0_3.tif is a low contrast image\n",
      "  warn('%s is a low contrast image' % fname)\n",
      "/home/ubuntu/miniconda3/lib/python3.6/site-packages/skimage/io/_io.py:132: UserWarning: /home/ubuntu/source/mike_fork/diff_classifier/notebooks/development/OGD_1_5h_slice_3_cortex_vid_5_1_0.tif is a low contrast image\n",
      "  warn('%s is a low contrast image' % fname)\n",
      "/home/ubuntu/miniconda3/lib/python3.6/site-packages/skimage/io/_io.py:132: UserWarning: /home/ubuntu/source/mike_fork/diff_classifier/notebooks/development/OGD_1_5h_slice_3_cortex_vid_5_1_1.tif is a low contrast image\n",
      "  warn('%s is a low contrast image' % fname)\n",
      "/home/ubuntu/miniconda3/lib/python3.6/site-packages/skimage/io/_io.py:132: UserWarning: /home/ubuntu/source/mike_fork/diff_classifier/notebooks/development/OGD_1_5h_slice_3_cortex_vid_5_1_2.tif is a low contrast image\n",
      "  warn('%s is a low contrast image' % fname)\n",
      "/home/ubuntu/miniconda3/lib/python3.6/site-packages/skimage/io/_io.py:132: UserWarning: /home/ubuntu/source/mike_fork/diff_classifier/notebooks/development/OGD_1_5h_slice_3_cortex_vid_5_1_3.tif is a low contrast image\n",
      "  warn('%s is a low contrast image' % fname)\n",
      "/home/ubuntu/miniconda3/lib/python3.6/site-packages/skimage/io/_io.py:132: UserWarning: /home/ubuntu/source/mike_fork/diff_classifier/notebooks/development/OGD_1_5h_slice_3_cortex_vid_5_2_0.tif is a low contrast image\n",
      "  warn('%s is a low contrast image' % fname)\n",
      "/home/ubuntu/miniconda3/lib/python3.6/site-packages/skimage/io/_io.py:132: UserWarning: /home/ubuntu/source/mike_fork/diff_classifier/notebooks/development/OGD_1_5h_slice_3_cortex_vid_5_2_1.tif is a low contrast image\n",
      "  warn('%s is a low contrast image' % fname)\n",
      "/home/ubuntu/miniconda3/lib/python3.6/site-packages/skimage/io/_io.py:132: UserWarning: /home/ubuntu/source/mike_fork/diff_classifier/notebooks/development/OGD_1_5h_slice_3_cortex_vid_5_2_2.tif is a low contrast image\n",
      "  warn('%s is a low contrast image' % fname)\n",
      "/home/ubuntu/miniconda3/lib/python3.6/site-packages/skimage/io/_io.py:132: UserWarning: /home/ubuntu/source/mike_fork/diff_classifier/notebooks/development/OGD_1_5h_slice_3_cortex_vid_5_2_3.tif is a low contrast image\n",
      "  warn('%s is a low contrast image' % fname)\n",
      "/home/ubuntu/miniconda3/lib/python3.6/site-packages/skimage/io/_io.py:132: UserWarning: /home/ubuntu/source/mike_fork/diff_classifier/notebooks/development/OGD_1_5h_slice_3_cortex_vid_5_3_0.tif is a low contrast image\n",
      "  warn('%s is a low contrast image' % fname)\n",
      "/home/ubuntu/miniconda3/lib/python3.6/site-packages/skimage/io/_io.py:132: UserWarning: /home/ubuntu/source/mike_fork/diff_classifier/notebooks/development/OGD_1_5h_slice_3_cortex_vid_5_3_1.tif is a low contrast image\n",
      "  warn('%s is a low contrast image' % fname)\n",
      "/home/ubuntu/miniconda3/lib/python3.6/site-packages/skimage/io/_io.py:132: UserWarning: /home/ubuntu/source/mike_fork/diff_classifier/notebooks/development/OGD_1_5h_slice_3_cortex_vid_5_3_2.tif is a low contrast image\n",
      "  warn('%s is a low contrast image' % fname)\n",
      "/home/ubuntu/miniconda3/lib/python3.6/site-packages/skimage/io/_io.py:132: UserWarning: /home/ubuntu/source/mike_fork/diff_classifier/notebooks/development/OGD_1_5h_slice_3_cortex_vid_5_3_3.tif is a low contrast image\n",
      "  warn('%s is a low contrast image' % fname)\n"
     ]
    },
    {
     "name": "stdout",
     "output_type": "stream",
     "text": [
      "Done with splitting. Should output file of name 03_06_20_OGD_Severity_MPT/OGD_1_5h_slice_3_cortex_vid_5_0_0.tif\n",
      "Done with splitting. Should output file of name 03_06_20_OGD_Severity_MPT/OGD_1_5h_slice_3_cortex_vid_5_0_1.tif\n",
      "Done with splitting. Should output file of name 03_06_20_OGD_Severity_MPT/OGD_1_5h_slice_3_cortex_vid_5_0_2.tif\n",
      "Done with splitting. Should output file of name 03_06_20_OGD_Severity_MPT/OGD_1_5h_slice_3_cortex_vid_5_0_3.tif\n",
      "Done with splitting. Should output file of name 03_06_20_OGD_Severity_MPT/OGD_1_5h_slice_3_cortex_vid_5_1_0.tif\n",
      "Done with splitting. Should output file of name 03_06_20_OGD_Severity_MPT/OGD_1_5h_slice_3_cortex_vid_5_1_1.tif\n",
      "Done with splitting. Should output file of name 03_06_20_OGD_Severity_MPT/OGD_1_5h_slice_3_cortex_vid_5_1_2.tif\n",
      "Done with splitting. Should output file of name 03_06_20_OGD_Severity_MPT/OGD_1_5h_slice_3_cortex_vid_5_1_3.tif\n",
      "Done with splitting. Should output file of name 03_06_20_OGD_Severity_MPT/OGD_1_5h_slice_3_cortex_vid_5_2_0.tif\n",
      "Done with splitting. Should output file of name 03_06_20_OGD_Severity_MPT/OGD_1_5h_slice_3_cortex_vid_5_2_1.tif\n",
      "Done with splitting. Should output file of name 03_06_20_OGD_Severity_MPT/OGD_1_5h_slice_3_cortex_vid_5_2_2.tif\n",
      "Done with splitting. Should output file of name 03_06_20_OGD_Severity_MPT/OGD_1_5h_slice_3_cortex_vid_5_2_3.tif\n",
      "Done with splitting. Should output file of name 03_06_20_OGD_Severity_MPT/OGD_1_5h_slice_3_cortex_vid_5_3_0.tif\n",
      "Done with splitting. Should output file of name 03_06_20_OGD_Severity_MPT/OGD_1_5h_slice_3_cortex_vid_5_3_1.tif\n",
      "Done with splitting. Should output file of name 03_06_20_OGD_Severity_MPT/OGD_1_5h_slice_3_cortex_vid_5_3_2.tif\n",
      "Done with splitting. Should output file of name 03_06_20_OGD_Severity_MPT/OGD_1_5h_slice_3_cortex_vid_5_3_3.tif\n"
     ]
    },
    {
     "name": "stderr",
     "output_type": "stream",
     "text": [
      "/home/ubuntu/miniconda3/lib/python3.6/site-packages/skimage/io/_io.py:132: UserWarning: /home/ubuntu/source/mike_fork/diff_classifier/notebooks/development/OGD_1_5h_slice_3_striatum_vid_1_0_0.tif is a low contrast image\n",
      "  warn('%s is a low contrast image' % fname)\n",
      "/home/ubuntu/miniconda3/lib/python3.6/site-packages/skimage/io/_io.py:132: UserWarning: /home/ubuntu/source/mike_fork/diff_classifier/notebooks/development/OGD_1_5h_slice_3_striatum_vid_1_0_1.tif is a low contrast image\n",
      "  warn('%s is a low contrast image' % fname)\n",
      "/home/ubuntu/miniconda3/lib/python3.6/site-packages/skimage/io/_io.py:132: UserWarning: /home/ubuntu/source/mike_fork/diff_classifier/notebooks/development/OGD_1_5h_slice_3_striatum_vid_1_0_2.tif is a low contrast image\n",
      "  warn('%s is a low contrast image' % fname)\n",
      "/home/ubuntu/miniconda3/lib/python3.6/site-packages/skimage/io/_io.py:132: UserWarning: /home/ubuntu/source/mike_fork/diff_classifier/notebooks/development/OGD_1_5h_slice_3_striatum_vid_1_0_3.tif is a low contrast image\n",
      "  warn('%s is a low contrast image' % fname)\n",
      "/home/ubuntu/miniconda3/lib/python3.6/site-packages/skimage/io/_io.py:132: UserWarning: /home/ubuntu/source/mike_fork/diff_classifier/notebooks/development/OGD_1_5h_slice_3_striatum_vid_1_1_0.tif is a low contrast image\n",
      "  warn('%s is a low contrast image' % fname)\n",
      "/home/ubuntu/miniconda3/lib/python3.6/site-packages/skimage/io/_io.py:132: UserWarning: /home/ubuntu/source/mike_fork/diff_classifier/notebooks/development/OGD_1_5h_slice_3_striatum_vid_1_1_1.tif is a low contrast image\n",
      "  warn('%s is a low contrast image' % fname)\n",
      "/home/ubuntu/miniconda3/lib/python3.6/site-packages/skimage/io/_io.py:132: UserWarning: /home/ubuntu/source/mike_fork/diff_classifier/notebooks/development/OGD_1_5h_slice_3_striatum_vid_1_1_2.tif is a low contrast image\n",
      "  warn('%s is a low contrast image' % fname)\n",
      "/home/ubuntu/miniconda3/lib/python3.6/site-packages/skimage/io/_io.py:132: UserWarning: /home/ubuntu/source/mike_fork/diff_classifier/notebooks/development/OGD_1_5h_slice_3_striatum_vid_1_1_3.tif is a low contrast image\n",
      "  warn('%s is a low contrast image' % fname)\n",
      "/home/ubuntu/miniconda3/lib/python3.6/site-packages/skimage/io/_io.py:132: UserWarning: /home/ubuntu/source/mike_fork/diff_classifier/notebooks/development/OGD_1_5h_slice_3_striatum_vid_1_2_0.tif is a low contrast image\n",
      "  warn('%s is a low contrast image' % fname)\n",
      "/home/ubuntu/miniconda3/lib/python3.6/site-packages/skimage/io/_io.py:132: UserWarning: /home/ubuntu/source/mike_fork/diff_classifier/notebooks/development/OGD_1_5h_slice_3_striatum_vid_1_2_1.tif is a low contrast image\n",
      "  warn('%s is a low contrast image' % fname)\n",
      "/home/ubuntu/miniconda3/lib/python3.6/site-packages/skimage/io/_io.py:132: UserWarning: /home/ubuntu/source/mike_fork/diff_classifier/notebooks/development/OGD_1_5h_slice_3_striatum_vid_1_2_2.tif is a low contrast image\n",
      "  warn('%s is a low contrast image' % fname)\n",
      "/home/ubuntu/miniconda3/lib/python3.6/site-packages/skimage/io/_io.py:132: UserWarning: /home/ubuntu/source/mike_fork/diff_classifier/notebooks/development/OGD_1_5h_slice_3_striatum_vid_1_2_3.tif is a low contrast image\n",
      "  warn('%s is a low contrast image' % fname)\n",
      "/home/ubuntu/miniconda3/lib/python3.6/site-packages/skimage/io/_io.py:132: UserWarning: /home/ubuntu/source/mike_fork/diff_classifier/notebooks/development/OGD_1_5h_slice_3_striatum_vid_1_3_0.tif is a low contrast image\n",
      "  warn('%s is a low contrast image' % fname)\n",
      "/home/ubuntu/miniconda3/lib/python3.6/site-packages/skimage/io/_io.py:132: UserWarning: /home/ubuntu/source/mike_fork/diff_classifier/notebooks/development/OGD_1_5h_slice_3_striatum_vid_1_3_1.tif is a low contrast image\n",
      "  warn('%s is a low contrast image' % fname)\n",
      "/home/ubuntu/miniconda3/lib/python3.6/site-packages/skimage/io/_io.py:132: UserWarning: /home/ubuntu/source/mike_fork/diff_classifier/notebooks/development/OGD_1_5h_slice_3_striatum_vid_1_3_2.tif is a low contrast image\n",
      "  warn('%s is a low contrast image' % fname)\n",
      "/home/ubuntu/miniconda3/lib/python3.6/site-packages/skimage/io/_io.py:132: UserWarning: /home/ubuntu/source/mike_fork/diff_classifier/notebooks/development/OGD_1_5h_slice_3_striatum_vid_1_3_3.tif is a low contrast image\n",
      "  warn('%s is a low contrast image' % fname)\n"
     ]
    },
    {
     "name": "stdout",
     "output_type": "stream",
     "text": [
      "Done with splitting. Should output file of name 03_06_20_OGD_Severity_MPT/OGD_1_5h_slice_3_striatum_vid_1_0_0.tif\n",
      "Done with splitting. Should output file of name 03_06_20_OGD_Severity_MPT/OGD_1_5h_slice_3_striatum_vid_1_0_1.tif\n",
      "Done with splitting. Should output file of name 03_06_20_OGD_Severity_MPT/OGD_1_5h_slice_3_striatum_vid_1_0_2.tif\n",
      "Done with splitting. Should output file of name 03_06_20_OGD_Severity_MPT/OGD_1_5h_slice_3_striatum_vid_1_0_3.tif\n",
      "Done with splitting. Should output file of name 03_06_20_OGD_Severity_MPT/OGD_1_5h_slice_3_striatum_vid_1_1_0.tif\n",
      "Done with splitting. Should output file of name 03_06_20_OGD_Severity_MPT/OGD_1_5h_slice_3_striatum_vid_1_1_1.tif\n",
      "Done with splitting. Should output file of name 03_06_20_OGD_Severity_MPT/OGD_1_5h_slice_3_striatum_vid_1_1_2.tif\n",
      "Done with splitting. Should output file of name 03_06_20_OGD_Severity_MPT/OGD_1_5h_slice_3_striatum_vid_1_1_3.tif\n",
      "Done with splitting. Should output file of name 03_06_20_OGD_Severity_MPT/OGD_1_5h_slice_3_striatum_vid_1_2_0.tif\n",
      "Done with splitting. Should output file of name 03_06_20_OGD_Severity_MPT/OGD_1_5h_slice_3_striatum_vid_1_2_1.tif\n",
      "Done with splitting. Should output file of name 03_06_20_OGD_Severity_MPT/OGD_1_5h_slice_3_striatum_vid_1_2_2.tif\n",
      "Done with splitting. Should output file of name 03_06_20_OGD_Severity_MPT/OGD_1_5h_slice_3_striatum_vid_1_2_3.tif\n",
      "Done with splitting. Should output file of name 03_06_20_OGD_Severity_MPT/OGD_1_5h_slice_3_striatum_vid_1_3_0.tif\n",
      "Done with splitting. Should output file of name 03_06_20_OGD_Severity_MPT/OGD_1_5h_slice_3_striatum_vid_1_3_1.tif\n",
      "Done with splitting. Should output file of name 03_06_20_OGD_Severity_MPT/OGD_1_5h_slice_3_striatum_vid_1_3_2.tif\n",
      "Done with splitting. Should output file of name 03_06_20_OGD_Severity_MPT/OGD_1_5h_slice_3_striatum_vid_1_3_3.tif\n"
     ]
    },
    {
     "name": "stderr",
     "output_type": "stream",
     "text": [
      "/home/ubuntu/miniconda3/lib/python3.6/site-packages/skimage/io/_io.py:132: UserWarning: /home/ubuntu/source/mike_fork/diff_classifier/notebooks/development/OGD_1_5h_slice_3_striatum_vid_2_0_0.tif is a low contrast image\n",
      "  warn('%s is a low contrast image' % fname)\n",
      "/home/ubuntu/miniconda3/lib/python3.6/site-packages/skimage/io/_io.py:132: UserWarning: /home/ubuntu/source/mike_fork/diff_classifier/notebooks/development/OGD_1_5h_slice_3_striatum_vid_2_0_1.tif is a low contrast image\n",
      "  warn('%s is a low contrast image' % fname)\n",
      "/home/ubuntu/miniconda3/lib/python3.6/site-packages/skimage/io/_io.py:132: UserWarning: /home/ubuntu/source/mike_fork/diff_classifier/notebooks/development/OGD_1_5h_slice_3_striatum_vid_2_0_2.tif is a low contrast image\n",
      "  warn('%s is a low contrast image' % fname)\n",
      "/home/ubuntu/miniconda3/lib/python3.6/site-packages/skimage/io/_io.py:132: UserWarning: /home/ubuntu/source/mike_fork/diff_classifier/notebooks/development/OGD_1_5h_slice_3_striatum_vid_2_0_3.tif is a low contrast image\n",
      "  warn('%s is a low contrast image' % fname)\n",
      "/home/ubuntu/miniconda3/lib/python3.6/site-packages/skimage/io/_io.py:132: UserWarning: /home/ubuntu/source/mike_fork/diff_classifier/notebooks/development/OGD_1_5h_slice_3_striatum_vid_2_1_0.tif is a low contrast image\n",
      "  warn('%s is a low contrast image' % fname)\n",
      "/home/ubuntu/miniconda3/lib/python3.6/site-packages/skimage/io/_io.py:132: UserWarning: /home/ubuntu/source/mike_fork/diff_classifier/notebooks/development/OGD_1_5h_slice_3_striatum_vid_2_1_1.tif is a low contrast image\n",
      "  warn('%s is a low contrast image' % fname)\n",
      "/home/ubuntu/miniconda3/lib/python3.6/site-packages/skimage/io/_io.py:132: UserWarning: /home/ubuntu/source/mike_fork/diff_classifier/notebooks/development/OGD_1_5h_slice_3_striatum_vid_2_1_2.tif is a low contrast image\n",
      "  warn('%s is a low contrast image' % fname)\n",
      "/home/ubuntu/miniconda3/lib/python3.6/site-packages/skimage/io/_io.py:132: UserWarning: /home/ubuntu/source/mike_fork/diff_classifier/notebooks/development/OGD_1_5h_slice_3_striatum_vid_2_1_3.tif is a low contrast image\n",
      "  warn('%s is a low contrast image' % fname)\n",
      "/home/ubuntu/miniconda3/lib/python3.6/site-packages/skimage/io/_io.py:132: UserWarning: /home/ubuntu/source/mike_fork/diff_classifier/notebooks/development/OGD_1_5h_slice_3_striatum_vid_2_2_0.tif is a low contrast image\n",
      "  warn('%s is a low contrast image' % fname)\n",
      "/home/ubuntu/miniconda3/lib/python3.6/site-packages/skimage/io/_io.py:132: UserWarning: /home/ubuntu/source/mike_fork/diff_classifier/notebooks/development/OGD_1_5h_slice_3_striatum_vid_2_2_1.tif is a low contrast image\n",
      "  warn('%s is a low contrast image' % fname)\n",
      "/home/ubuntu/miniconda3/lib/python3.6/site-packages/skimage/io/_io.py:132: UserWarning: /home/ubuntu/source/mike_fork/diff_classifier/notebooks/development/OGD_1_5h_slice_3_striatum_vid_2_2_2.tif is a low contrast image\n",
      "  warn('%s is a low contrast image' % fname)\n",
      "/home/ubuntu/miniconda3/lib/python3.6/site-packages/skimage/io/_io.py:132: UserWarning: /home/ubuntu/source/mike_fork/diff_classifier/notebooks/development/OGD_1_5h_slice_3_striatum_vid_2_2_3.tif is a low contrast image\n",
      "  warn('%s is a low contrast image' % fname)\n",
      "/home/ubuntu/miniconda3/lib/python3.6/site-packages/skimage/io/_io.py:132: UserWarning: /home/ubuntu/source/mike_fork/diff_classifier/notebooks/development/OGD_1_5h_slice_3_striatum_vid_2_3_0.tif is a low contrast image\n",
      "  warn('%s is a low contrast image' % fname)\n",
      "/home/ubuntu/miniconda3/lib/python3.6/site-packages/skimage/io/_io.py:132: UserWarning: /home/ubuntu/source/mike_fork/diff_classifier/notebooks/development/OGD_1_5h_slice_3_striatum_vid_2_3_1.tif is a low contrast image\n",
      "  warn('%s is a low contrast image' % fname)\n",
      "/home/ubuntu/miniconda3/lib/python3.6/site-packages/skimage/io/_io.py:132: UserWarning: /home/ubuntu/source/mike_fork/diff_classifier/notebooks/development/OGD_1_5h_slice_3_striatum_vid_2_3_2.tif is a low contrast image\n",
      "  warn('%s is a low contrast image' % fname)\n",
      "/home/ubuntu/miniconda3/lib/python3.6/site-packages/skimage/io/_io.py:132: UserWarning: /home/ubuntu/source/mike_fork/diff_classifier/notebooks/development/OGD_1_5h_slice_3_striatum_vid_2_3_3.tif is a low contrast image\n",
      "  warn('%s is a low contrast image' % fname)\n"
     ]
    },
    {
     "name": "stdout",
     "output_type": "stream",
     "text": [
      "Done with splitting. Should output file of name 03_06_20_OGD_Severity_MPT/OGD_1_5h_slice_3_striatum_vid_2_0_0.tif\n",
      "Done with splitting. Should output file of name 03_06_20_OGD_Severity_MPT/OGD_1_5h_slice_3_striatum_vid_2_0_1.tif\n",
      "Done with splitting. Should output file of name 03_06_20_OGD_Severity_MPT/OGD_1_5h_slice_3_striatum_vid_2_0_2.tif\n",
      "Done with splitting. Should output file of name 03_06_20_OGD_Severity_MPT/OGD_1_5h_slice_3_striatum_vid_2_0_3.tif\n",
      "Done with splitting. Should output file of name 03_06_20_OGD_Severity_MPT/OGD_1_5h_slice_3_striatum_vid_2_1_0.tif\n",
      "Done with splitting. Should output file of name 03_06_20_OGD_Severity_MPT/OGD_1_5h_slice_3_striatum_vid_2_1_1.tif\n",
      "Done with splitting. Should output file of name 03_06_20_OGD_Severity_MPT/OGD_1_5h_slice_3_striatum_vid_2_1_2.tif\n",
      "Done with splitting. Should output file of name 03_06_20_OGD_Severity_MPT/OGD_1_5h_slice_3_striatum_vid_2_1_3.tif\n",
      "Done with splitting. Should output file of name 03_06_20_OGD_Severity_MPT/OGD_1_5h_slice_3_striatum_vid_2_2_0.tif\n",
      "Done with splitting. Should output file of name 03_06_20_OGD_Severity_MPT/OGD_1_5h_slice_3_striatum_vid_2_2_1.tif\n",
      "Done with splitting. Should output file of name 03_06_20_OGD_Severity_MPT/OGD_1_5h_slice_3_striatum_vid_2_2_2.tif\n",
      "Done with splitting. Should output file of name 03_06_20_OGD_Severity_MPT/OGD_1_5h_slice_3_striatum_vid_2_2_3.tif\n",
      "Done with splitting. Should output file of name 03_06_20_OGD_Severity_MPT/OGD_1_5h_slice_3_striatum_vid_2_3_0.tif\n",
      "Done with splitting. Should output file of name 03_06_20_OGD_Severity_MPT/OGD_1_5h_slice_3_striatum_vid_2_3_1.tif\n",
      "Done with splitting. Should output file of name 03_06_20_OGD_Severity_MPT/OGD_1_5h_slice_3_striatum_vid_2_3_2.tif\n",
      "Done with splitting. Should output file of name 03_06_20_OGD_Severity_MPT/OGD_1_5h_slice_3_striatum_vid_2_3_3.tif\n"
     ]
    },
    {
     "name": "stderr",
     "output_type": "stream",
     "text": [
      "/home/ubuntu/miniconda3/lib/python3.6/site-packages/skimage/io/_io.py:132: UserWarning: /home/ubuntu/source/mike_fork/diff_classifier/notebooks/development/OGD_1_5h_slice_3_striatum_vid_3_0_0.tif is a low contrast image\n",
      "  warn('%s is a low contrast image' % fname)\n",
      "/home/ubuntu/miniconda3/lib/python3.6/site-packages/skimage/io/_io.py:132: UserWarning: /home/ubuntu/source/mike_fork/diff_classifier/notebooks/development/OGD_1_5h_slice_3_striatum_vid_3_0_1.tif is a low contrast image\n",
      "  warn('%s is a low contrast image' % fname)\n",
      "/home/ubuntu/miniconda3/lib/python3.6/site-packages/skimage/io/_io.py:132: UserWarning: /home/ubuntu/source/mike_fork/diff_classifier/notebooks/development/OGD_1_5h_slice_3_striatum_vid_3_0_2.tif is a low contrast image\n",
      "  warn('%s is a low contrast image' % fname)\n",
      "/home/ubuntu/miniconda3/lib/python3.6/site-packages/skimage/io/_io.py:132: UserWarning: /home/ubuntu/source/mike_fork/diff_classifier/notebooks/development/OGD_1_5h_slice_3_striatum_vid_3_0_3.tif is a low contrast image\n",
      "  warn('%s is a low contrast image' % fname)\n",
      "/home/ubuntu/miniconda3/lib/python3.6/site-packages/skimage/io/_io.py:132: UserWarning: /home/ubuntu/source/mike_fork/diff_classifier/notebooks/development/OGD_1_5h_slice_3_striatum_vid_3_1_0.tif is a low contrast image\n",
      "  warn('%s is a low contrast image' % fname)\n",
      "/home/ubuntu/miniconda3/lib/python3.6/site-packages/skimage/io/_io.py:132: UserWarning: /home/ubuntu/source/mike_fork/diff_classifier/notebooks/development/OGD_1_5h_slice_3_striatum_vid_3_1_1.tif is a low contrast image\n",
      "  warn('%s is a low contrast image' % fname)\n",
      "/home/ubuntu/miniconda3/lib/python3.6/site-packages/skimage/io/_io.py:132: UserWarning: /home/ubuntu/source/mike_fork/diff_classifier/notebooks/development/OGD_1_5h_slice_3_striatum_vid_3_1_2.tif is a low contrast image\n",
      "  warn('%s is a low contrast image' % fname)\n",
      "/home/ubuntu/miniconda3/lib/python3.6/site-packages/skimage/io/_io.py:132: UserWarning: /home/ubuntu/source/mike_fork/diff_classifier/notebooks/development/OGD_1_5h_slice_3_striatum_vid_3_1_3.tif is a low contrast image\n",
      "  warn('%s is a low contrast image' % fname)\n",
      "/home/ubuntu/miniconda3/lib/python3.6/site-packages/skimage/io/_io.py:132: UserWarning: /home/ubuntu/source/mike_fork/diff_classifier/notebooks/development/OGD_1_5h_slice_3_striatum_vid_3_2_0.tif is a low contrast image\n",
      "  warn('%s is a low contrast image' % fname)\n",
      "/home/ubuntu/miniconda3/lib/python3.6/site-packages/skimage/io/_io.py:132: UserWarning: /home/ubuntu/source/mike_fork/diff_classifier/notebooks/development/OGD_1_5h_slice_3_striatum_vid_3_2_1.tif is a low contrast image\n",
      "  warn('%s is a low contrast image' % fname)\n",
      "/home/ubuntu/miniconda3/lib/python3.6/site-packages/skimage/io/_io.py:132: UserWarning: /home/ubuntu/source/mike_fork/diff_classifier/notebooks/development/OGD_1_5h_slice_3_striatum_vid_3_2_2.tif is a low contrast image\n",
      "  warn('%s is a low contrast image' % fname)\n",
      "/home/ubuntu/miniconda3/lib/python3.6/site-packages/skimage/io/_io.py:132: UserWarning: /home/ubuntu/source/mike_fork/diff_classifier/notebooks/development/OGD_1_5h_slice_3_striatum_vid_3_2_3.tif is a low contrast image\n",
      "  warn('%s is a low contrast image' % fname)\n",
      "/home/ubuntu/miniconda3/lib/python3.6/site-packages/skimage/io/_io.py:132: UserWarning: /home/ubuntu/source/mike_fork/diff_classifier/notebooks/development/OGD_1_5h_slice_3_striatum_vid_3_3_0.tif is a low contrast image\n",
      "  warn('%s is a low contrast image' % fname)\n",
      "/home/ubuntu/miniconda3/lib/python3.6/site-packages/skimage/io/_io.py:132: UserWarning: /home/ubuntu/source/mike_fork/diff_classifier/notebooks/development/OGD_1_5h_slice_3_striatum_vid_3_3_1.tif is a low contrast image\n",
      "  warn('%s is a low contrast image' % fname)\n",
      "/home/ubuntu/miniconda3/lib/python3.6/site-packages/skimage/io/_io.py:132: UserWarning: /home/ubuntu/source/mike_fork/diff_classifier/notebooks/development/OGD_1_5h_slice_3_striatum_vid_3_3_2.tif is a low contrast image\n",
      "  warn('%s is a low contrast image' % fname)\n",
      "/home/ubuntu/miniconda3/lib/python3.6/site-packages/skimage/io/_io.py:132: UserWarning: /home/ubuntu/source/mike_fork/diff_classifier/notebooks/development/OGD_1_5h_slice_3_striatum_vid_3_3_3.tif is a low contrast image\n",
      "  warn('%s is a low contrast image' % fname)\n"
     ]
    },
    {
     "name": "stdout",
     "output_type": "stream",
     "text": [
      "Done with splitting. Should output file of name 03_06_20_OGD_Severity_MPT/OGD_1_5h_slice_3_striatum_vid_3_0_0.tif\n",
      "Done with splitting. Should output file of name 03_06_20_OGD_Severity_MPT/OGD_1_5h_slice_3_striatum_vid_3_0_1.tif\n",
      "Done with splitting. Should output file of name 03_06_20_OGD_Severity_MPT/OGD_1_5h_slice_3_striatum_vid_3_0_2.tif\n",
      "Done with splitting. Should output file of name 03_06_20_OGD_Severity_MPT/OGD_1_5h_slice_3_striatum_vid_3_0_3.tif\n",
      "Done with splitting. Should output file of name 03_06_20_OGD_Severity_MPT/OGD_1_5h_slice_3_striatum_vid_3_1_0.tif\n",
      "Done with splitting. Should output file of name 03_06_20_OGD_Severity_MPT/OGD_1_5h_slice_3_striatum_vid_3_1_1.tif\n",
      "Done with splitting. Should output file of name 03_06_20_OGD_Severity_MPT/OGD_1_5h_slice_3_striatum_vid_3_1_2.tif\n",
      "Done with splitting. Should output file of name 03_06_20_OGD_Severity_MPT/OGD_1_5h_slice_3_striatum_vid_3_1_3.tif\n",
      "Done with splitting. Should output file of name 03_06_20_OGD_Severity_MPT/OGD_1_5h_slice_3_striatum_vid_3_2_0.tif\n",
      "Done with splitting. Should output file of name 03_06_20_OGD_Severity_MPT/OGD_1_5h_slice_3_striatum_vid_3_2_1.tif\n",
      "Done with splitting. Should output file of name 03_06_20_OGD_Severity_MPT/OGD_1_5h_slice_3_striatum_vid_3_2_2.tif\n",
      "Done with splitting. Should output file of name 03_06_20_OGD_Severity_MPT/OGD_1_5h_slice_3_striatum_vid_3_2_3.tif\n",
      "Done with splitting. Should output file of name 03_06_20_OGD_Severity_MPT/OGD_1_5h_slice_3_striatum_vid_3_3_0.tif\n",
      "Done with splitting. Should output file of name 03_06_20_OGD_Severity_MPT/OGD_1_5h_slice_3_striatum_vid_3_3_1.tif\n",
      "Done with splitting. Should output file of name 03_06_20_OGD_Severity_MPT/OGD_1_5h_slice_3_striatum_vid_3_3_2.tif\n",
      "Done with splitting. Should output file of name 03_06_20_OGD_Severity_MPT/OGD_1_5h_slice_3_striatum_vid_3_3_3.tif\n"
     ]
    },
    {
     "name": "stderr",
     "output_type": "stream",
     "text": [
      "/home/ubuntu/miniconda3/lib/python3.6/site-packages/skimage/io/_io.py:132: UserWarning: /home/ubuntu/source/mike_fork/diff_classifier/notebooks/development/OGD_1_5h_slice_3_striatum_vid_4_0_0.tif is a low contrast image\n",
      "  warn('%s is a low contrast image' % fname)\n",
      "/home/ubuntu/miniconda3/lib/python3.6/site-packages/skimage/io/_io.py:132: UserWarning: /home/ubuntu/source/mike_fork/diff_classifier/notebooks/development/OGD_1_5h_slice_3_striatum_vid_4_0_1.tif is a low contrast image\n",
      "  warn('%s is a low contrast image' % fname)\n",
      "/home/ubuntu/miniconda3/lib/python3.6/site-packages/skimage/io/_io.py:132: UserWarning: /home/ubuntu/source/mike_fork/diff_classifier/notebooks/development/OGD_1_5h_slice_3_striatum_vid_4_0_2.tif is a low contrast image\n",
      "  warn('%s is a low contrast image' % fname)\n",
      "/home/ubuntu/miniconda3/lib/python3.6/site-packages/skimage/io/_io.py:132: UserWarning: /home/ubuntu/source/mike_fork/diff_classifier/notebooks/development/OGD_1_5h_slice_3_striatum_vid_4_0_3.tif is a low contrast image\n",
      "  warn('%s is a low contrast image' % fname)\n",
      "/home/ubuntu/miniconda3/lib/python3.6/site-packages/skimage/io/_io.py:132: UserWarning: /home/ubuntu/source/mike_fork/diff_classifier/notebooks/development/OGD_1_5h_slice_3_striatum_vid_4_1_0.tif is a low contrast image\n",
      "  warn('%s is a low contrast image' % fname)\n",
      "/home/ubuntu/miniconda3/lib/python3.6/site-packages/skimage/io/_io.py:132: UserWarning: /home/ubuntu/source/mike_fork/diff_classifier/notebooks/development/OGD_1_5h_slice_3_striatum_vid_4_1_1.tif is a low contrast image\n",
      "  warn('%s is a low contrast image' % fname)\n",
      "/home/ubuntu/miniconda3/lib/python3.6/site-packages/skimage/io/_io.py:132: UserWarning: /home/ubuntu/source/mike_fork/diff_classifier/notebooks/development/OGD_1_5h_slice_3_striatum_vid_4_1_2.tif is a low contrast image\n",
      "  warn('%s is a low contrast image' % fname)\n",
      "/home/ubuntu/miniconda3/lib/python3.6/site-packages/skimage/io/_io.py:132: UserWarning: /home/ubuntu/source/mike_fork/diff_classifier/notebooks/development/OGD_1_5h_slice_3_striatum_vid_4_1_3.tif is a low contrast image\n",
      "  warn('%s is a low contrast image' % fname)\n",
      "/home/ubuntu/miniconda3/lib/python3.6/site-packages/skimage/io/_io.py:132: UserWarning: /home/ubuntu/source/mike_fork/diff_classifier/notebooks/development/OGD_1_5h_slice_3_striatum_vid_4_2_0.tif is a low contrast image\n",
      "  warn('%s is a low contrast image' % fname)\n",
      "/home/ubuntu/miniconda3/lib/python3.6/site-packages/skimage/io/_io.py:132: UserWarning: /home/ubuntu/source/mike_fork/diff_classifier/notebooks/development/OGD_1_5h_slice_3_striatum_vid_4_2_1.tif is a low contrast image\n",
      "  warn('%s is a low contrast image' % fname)\n",
      "/home/ubuntu/miniconda3/lib/python3.6/site-packages/skimage/io/_io.py:132: UserWarning: /home/ubuntu/source/mike_fork/diff_classifier/notebooks/development/OGD_1_5h_slice_3_striatum_vid_4_2_2.tif is a low contrast image\n",
      "  warn('%s is a low contrast image' % fname)\n",
      "/home/ubuntu/miniconda3/lib/python3.6/site-packages/skimage/io/_io.py:132: UserWarning: /home/ubuntu/source/mike_fork/diff_classifier/notebooks/development/OGD_1_5h_slice_3_striatum_vid_4_2_3.tif is a low contrast image\n",
      "  warn('%s is a low contrast image' % fname)\n",
      "/home/ubuntu/miniconda3/lib/python3.6/site-packages/skimage/io/_io.py:132: UserWarning: /home/ubuntu/source/mike_fork/diff_classifier/notebooks/development/OGD_1_5h_slice_3_striatum_vid_4_3_0.tif is a low contrast image\n",
      "  warn('%s is a low contrast image' % fname)\n",
      "/home/ubuntu/miniconda3/lib/python3.6/site-packages/skimage/io/_io.py:132: UserWarning: /home/ubuntu/source/mike_fork/diff_classifier/notebooks/development/OGD_1_5h_slice_3_striatum_vid_4_3_1.tif is a low contrast image\n",
      "  warn('%s is a low contrast image' % fname)\n",
      "/home/ubuntu/miniconda3/lib/python3.6/site-packages/skimage/io/_io.py:132: UserWarning: /home/ubuntu/source/mike_fork/diff_classifier/notebooks/development/OGD_1_5h_slice_3_striatum_vid_4_3_2.tif is a low contrast image\n",
      "  warn('%s is a low contrast image' % fname)\n",
      "/home/ubuntu/miniconda3/lib/python3.6/site-packages/skimage/io/_io.py:132: UserWarning: /home/ubuntu/source/mike_fork/diff_classifier/notebooks/development/OGD_1_5h_slice_3_striatum_vid_4_3_3.tif is a low contrast image\n",
      "  warn('%s is a low contrast image' % fname)\n"
     ]
    },
    {
     "name": "stdout",
     "output_type": "stream",
     "text": [
      "Done with splitting. Should output file of name 03_06_20_OGD_Severity_MPT/OGD_1_5h_slice_3_striatum_vid_4_0_0.tif\n",
      "Done with splitting. Should output file of name 03_06_20_OGD_Severity_MPT/OGD_1_5h_slice_3_striatum_vid_4_0_1.tif\n",
      "Done with splitting. Should output file of name 03_06_20_OGD_Severity_MPT/OGD_1_5h_slice_3_striatum_vid_4_0_2.tif\n",
      "Done with splitting. Should output file of name 03_06_20_OGD_Severity_MPT/OGD_1_5h_slice_3_striatum_vid_4_0_3.tif\n",
      "Done with splitting. Should output file of name 03_06_20_OGD_Severity_MPT/OGD_1_5h_slice_3_striatum_vid_4_1_0.tif\n",
      "Done with splitting. Should output file of name 03_06_20_OGD_Severity_MPT/OGD_1_5h_slice_3_striatum_vid_4_1_1.tif\n",
      "Done with splitting. Should output file of name 03_06_20_OGD_Severity_MPT/OGD_1_5h_slice_3_striatum_vid_4_1_2.tif\n",
      "Done with splitting. Should output file of name 03_06_20_OGD_Severity_MPT/OGD_1_5h_slice_3_striatum_vid_4_1_3.tif\n",
      "Done with splitting. Should output file of name 03_06_20_OGD_Severity_MPT/OGD_1_5h_slice_3_striatum_vid_4_2_0.tif\n",
      "Done with splitting. Should output file of name 03_06_20_OGD_Severity_MPT/OGD_1_5h_slice_3_striatum_vid_4_2_1.tif\n",
      "Done with splitting. Should output file of name 03_06_20_OGD_Severity_MPT/OGD_1_5h_slice_3_striatum_vid_4_2_2.tif\n",
      "Done with splitting. Should output file of name 03_06_20_OGD_Severity_MPT/OGD_1_5h_slice_3_striatum_vid_4_2_3.tif\n",
      "Done with splitting. Should output file of name 03_06_20_OGD_Severity_MPT/OGD_1_5h_slice_3_striatum_vid_4_3_0.tif\n",
      "Done with splitting. Should output file of name 03_06_20_OGD_Severity_MPT/OGD_1_5h_slice_3_striatum_vid_4_3_1.tif\n",
      "Done with splitting. Should output file of name 03_06_20_OGD_Severity_MPT/OGD_1_5h_slice_3_striatum_vid_4_3_2.tif\n",
      "Done with splitting. Should output file of name 03_06_20_OGD_Severity_MPT/OGD_1_5h_slice_3_striatum_vid_4_3_3.tif\n"
     ]
    },
    {
     "name": "stderr",
     "output_type": "stream",
     "text": [
      "/home/ubuntu/miniconda3/lib/python3.6/site-packages/skimage/io/_io.py:132: UserWarning: /home/ubuntu/source/mike_fork/diff_classifier/notebooks/development/OGD_1_5h_slice_3_striatum_vid_5_0_0.tif is a low contrast image\n",
      "  warn('%s is a low contrast image' % fname)\n",
      "/home/ubuntu/miniconda3/lib/python3.6/site-packages/skimage/io/_io.py:132: UserWarning: /home/ubuntu/source/mike_fork/diff_classifier/notebooks/development/OGD_1_5h_slice_3_striatum_vid_5_0_1.tif is a low contrast image\n",
      "  warn('%s is a low contrast image' % fname)\n",
      "/home/ubuntu/miniconda3/lib/python3.6/site-packages/skimage/io/_io.py:132: UserWarning: /home/ubuntu/source/mike_fork/diff_classifier/notebooks/development/OGD_1_5h_slice_3_striatum_vid_5_0_2.tif is a low contrast image\n",
      "  warn('%s is a low contrast image' % fname)\n",
      "/home/ubuntu/miniconda3/lib/python3.6/site-packages/skimage/io/_io.py:132: UserWarning: /home/ubuntu/source/mike_fork/diff_classifier/notebooks/development/OGD_1_5h_slice_3_striatum_vid_5_0_3.tif is a low contrast image\n",
      "  warn('%s is a low contrast image' % fname)\n",
      "/home/ubuntu/miniconda3/lib/python3.6/site-packages/skimage/io/_io.py:132: UserWarning: /home/ubuntu/source/mike_fork/diff_classifier/notebooks/development/OGD_1_5h_slice_3_striatum_vid_5_1_0.tif is a low contrast image\n",
      "  warn('%s is a low contrast image' % fname)\n",
      "/home/ubuntu/miniconda3/lib/python3.6/site-packages/skimage/io/_io.py:132: UserWarning: /home/ubuntu/source/mike_fork/diff_classifier/notebooks/development/OGD_1_5h_slice_3_striatum_vid_5_1_1.tif is a low contrast image\n",
      "  warn('%s is a low contrast image' % fname)\n",
      "/home/ubuntu/miniconda3/lib/python3.6/site-packages/skimage/io/_io.py:132: UserWarning: /home/ubuntu/source/mike_fork/diff_classifier/notebooks/development/OGD_1_5h_slice_3_striatum_vid_5_1_2.tif is a low contrast image\n",
      "  warn('%s is a low contrast image' % fname)\n",
      "/home/ubuntu/miniconda3/lib/python3.6/site-packages/skimage/io/_io.py:132: UserWarning: /home/ubuntu/source/mike_fork/diff_classifier/notebooks/development/OGD_1_5h_slice_3_striatum_vid_5_1_3.tif is a low contrast image\n",
      "  warn('%s is a low contrast image' % fname)\n",
      "/home/ubuntu/miniconda3/lib/python3.6/site-packages/skimage/io/_io.py:132: UserWarning: /home/ubuntu/source/mike_fork/diff_classifier/notebooks/development/OGD_1_5h_slice_3_striatum_vid_5_2_0.tif is a low contrast image\n",
      "  warn('%s is a low contrast image' % fname)\n",
      "/home/ubuntu/miniconda3/lib/python3.6/site-packages/skimage/io/_io.py:132: UserWarning: /home/ubuntu/source/mike_fork/diff_classifier/notebooks/development/OGD_1_5h_slice_3_striatum_vid_5_2_1.tif is a low contrast image\n",
      "  warn('%s is a low contrast image' % fname)\n",
      "/home/ubuntu/miniconda3/lib/python3.6/site-packages/skimage/io/_io.py:132: UserWarning: /home/ubuntu/source/mike_fork/diff_classifier/notebooks/development/OGD_1_5h_slice_3_striatum_vid_5_2_2.tif is a low contrast image\n",
      "  warn('%s is a low contrast image' % fname)\n",
      "/home/ubuntu/miniconda3/lib/python3.6/site-packages/skimage/io/_io.py:132: UserWarning: /home/ubuntu/source/mike_fork/diff_classifier/notebooks/development/OGD_1_5h_slice_3_striatum_vid_5_2_3.tif is a low contrast image\n",
      "  warn('%s is a low contrast image' % fname)\n",
      "/home/ubuntu/miniconda3/lib/python3.6/site-packages/skimage/io/_io.py:132: UserWarning: /home/ubuntu/source/mike_fork/diff_classifier/notebooks/development/OGD_1_5h_slice_3_striatum_vid_5_3_0.tif is a low contrast image\n",
      "  warn('%s is a low contrast image' % fname)\n",
      "/home/ubuntu/miniconda3/lib/python3.6/site-packages/skimage/io/_io.py:132: UserWarning: /home/ubuntu/source/mike_fork/diff_classifier/notebooks/development/OGD_1_5h_slice_3_striatum_vid_5_3_1.tif is a low contrast image\n",
      "  warn('%s is a low contrast image' % fname)\n",
      "/home/ubuntu/miniconda3/lib/python3.6/site-packages/skimage/io/_io.py:132: UserWarning: /home/ubuntu/source/mike_fork/diff_classifier/notebooks/development/OGD_1_5h_slice_3_striatum_vid_5_3_2.tif is a low contrast image\n",
      "  warn('%s is a low contrast image' % fname)\n",
      "/home/ubuntu/miniconda3/lib/python3.6/site-packages/skimage/io/_io.py:132: UserWarning: /home/ubuntu/source/mike_fork/diff_classifier/notebooks/development/OGD_1_5h_slice_3_striatum_vid_5_3_3.tif is a low contrast image\n",
      "  warn('%s is a low contrast image' % fname)\n"
     ]
    },
    {
     "name": "stdout",
     "output_type": "stream",
     "text": [
      "Done with splitting. Should output file of name 03_06_20_OGD_Severity_MPT/OGD_1_5h_slice_3_striatum_vid_5_0_0.tif\n",
      "Done with splitting. Should output file of name 03_06_20_OGD_Severity_MPT/OGD_1_5h_slice_3_striatum_vid_5_0_1.tif\n",
      "Done with splitting. Should output file of name 03_06_20_OGD_Severity_MPT/OGD_1_5h_slice_3_striatum_vid_5_0_2.tif\n",
      "Done with splitting. Should output file of name 03_06_20_OGD_Severity_MPT/OGD_1_5h_slice_3_striatum_vid_5_0_3.tif\n",
      "Done with splitting. Should output file of name 03_06_20_OGD_Severity_MPT/OGD_1_5h_slice_3_striatum_vid_5_1_0.tif\n",
      "Done with splitting. Should output file of name 03_06_20_OGD_Severity_MPT/OGD_1_5h_slice_3_striatum_vid_5_1_1.tif\n",
      "Done with splitting. Should output file of name 03_06_20_OGD_Severity_MPT/OGD_1_5h_slice_3_striatum_vid_5_1_2.tif\n",
      "Done with splitting. Should output file of name 03_06_20_OGD_Severity_MPT/OGD_1_5h_slice_3_striatum_vid_5_1_3.tif\n",
      "Done with splitting. Should output file of name 03_06_20_OGD_Severity_MPT/OGD_1_5h_slice_3_striatum_vid_5_2_0.tif\n",
      "Done with splitting. Should output file of name 03_06_20_OGD_Severity_MPT/OGD_1_5h_slice_3_striatum_vid_5_2_1.tif\n",
      "Done with splitting. Should output file of name 03_06_20_OGD_Severity_MPT/OGD_1_5h_slice_3_striatum_vid_5_2_2.tif\n",
      "Done with splitting. Should output file of name 03_06_20_OGD_Severity_MPT/OGD_1_5h_slice_3_striatum_vid_5_2_3.tif\n",
      "Done with splitting. Should output file of name 03_06_20_OGD_Severity_MPT/OGD_1_5h_slice_3_striatum_vid_5_3_0.tif\n",
      "Done with splitting. Should output file of name 03_06_20_OGD_Severity_MPT/OGD_1_5h_slice_3_striatum_vid_5_3_1.tif\n",
      "Done with splitting. Should output file of name 03_06_20_OGD_Severity_MPT/OGD_1_5h_slice_3_striatum_vid_5_3_2.tif\n",
      "Done with splitting. Should output file of name 03_06_20_OGD_Severity_MPT/OGD_1_5h_slice_3_striatum_vid_5_3_3.tif\n"
     ]
    }
   ],
   "source": [
    "# This cell uses the function kn.split() to split all of the videos contained in 'to_track' into 16 smaller videos on which the actual tracking will be performed\n",
    "for prefix in to_track:\n",
    "    kn.split(prefix, remote_folder=remote_folder, bucket=bucket)"
   ]
  },
  {
   "cell_type": "markdown",
   "metadata": {},
   "source": [
    "## Tracking predictor"
   ]
  },
  {
   "cell_type": "markdown",
   "metadata": {},
   "source": [
    "Tracking normally requires user input in the form of tracking parameters e.g. particle radius, linking max distance, max frame gap etc. When large datasets aren't required, each video can be manageably manually tracked using the TrackMate GUI. However, when datasets get large e.g. >20 videos, this can become extremely arduous. For videos that are fairly similar, you can get away with using similar tracking parameters across all videos. However, one parameter that is a little more noisy that the others is the quality filter value. Quality is a numerical value that approximate how likely a particle is to be \"real.\" \n",
    "\n",
    "In this case, I built a predictor that estimates the quality filter value based on intensity distributions from the input images. Using a relatively small training dataset (5-20 videos), users can get fairly good estimates of quality filter values that can be used in parallelized tracking workflows.\n",
    "\n",
    "Note: in the current setup, the predictor should be run in Python 3. While the code will run in Python 3, there are differences between the random number generators in Python2 and Python3 that I was not able to control for."
   ]
  },
  {
   "cell_type": "code",
   "execution_count": 4,
   "metadata": {},
   "outputs": [],
   "source": [
    "import os\n",
    "import diff_classifier.imagej as ij\n",
    "import boto3\n",
    "import os.path as op\n",
    "import diff_classifier.aws as aws\n",
    "import diff_classifier.knotlets as kn\n",
    "import numpy as np\n",
    "from sklearn.externals import joblib"
   ]
  },
  {
   "cell_type": "markdown",
   "metadata": {},
   "source": [
    "The regress_sys function should be run twice. When have_output is set to False, it generates a list of files that the user should manually track using Trackmate. Once the quality filter values are found, they can be used as input (y) to generate a regress object that can predict quality filter values for additional videos. Once y is assigned, set have_output to True and re-run the cell."
   ]
  },
  {
   "cell_type": "code",
   "execution_count": 13,
   "metadata": {},
   "outputs": [
    {
     "name": "stderr",
     "output_type": "stream",
     "text": [
      "/home/ubuntu/miniconda3/lib/python3.6/site-packages/sklearn/linear_model/stochastic_gradient.py:84: FutureWarning: max_iter and tol parameters have been added in <class 'sklearn.linear_model.stochastic_gradient.SGDRegressor'> in 0.19. If both are left unset, they default to max_iter=5 and tol=None. If tol is not None, max_iter defaults to max_iter=1000. From 0.21, default max_iter will be 1000, and default tol will be 1e-3.\n",
      "  \"and default tol will be 1e-3.\" % type(self), FutureWarning)\n",
      "/home/ubuntu/miniconda3/lib/python3.6/site-packages/sklearn/linear_model/stochastic_gradient.py:84: FutureWarning: max_iter and tol parameters have been added in <class 'sklearn.linear_model.passive_aggressive.PassiveAggressiveRegressor'> in 0.19. If both are left unset, they default to max_iter=5 and tol=None. If tol is not None, max_iter defaults to max_iter=1000. From 0.21, default max_iter will be 1000, and default tol will be 1e-3.\n",
      "  \"and default tol will be 1e-3.\" % type(self), FutureWarning)\n"
     ]
    }
   ],
   "source": [
    "tnum=30 #number of training datasets\n",
    "pref = []\n",
    "for num in to_track:                    \n",
    "    for row in range(0, 4):\n",
    "        for col in range(0, 4):\n",
    "            pref.append(\"{}_{}_{}\".format(num, row, col))\n",
    "\n",
    "y = np.array([3.16, 3.48, 3.43, 4.58, 2.86, 3.99, 3.70, 2.78, 2.69, 3.52, 3.33, 4.98, 3.16, 3.03, 5.10, 7.49, 4.62, 3.44, 6.57, 4.44, 3.66, 6.89, 5.16, 3.54, 4.61, 3.52, 3.88, 2.44, 4.77, 3.66])\n",
    "\n",
    "# Creates regression object based of training dataset composed of input images and manually\n",
    "# calculated quality cutoffs from tracking with GUI interface.\n",
    "regress = ij.regress_sys(remote_folder, pref, y, tnum, randselect=True,\n",
    "                         have_output=True, bucket_name=bucket)\n",
    "#Read up on how regress_sys works before running."
   ]
  },
  {
   "cell_type": "code",
   "execution_count": null,
   "metadata": {},
   "outputs": [],
   "source": [
    "print(len(to_track))"
   ]
  },
  {
   "cell_type": "code",
   "execution_count": 14,
   "metadata": {},
   "outputs": [],
   "source": [
    "#Pickle object\n",
    "filename = 'regress.obj'\n",
    "with open(filename,'wb') as fp:\n",
    "    joblib.dump(regress,fp)\n",
    "\n",
    "import boto3\n",
    "s3 = boto3.client('s3')\n",
    "aws.upload_s3(filename, remote_folder+'/'+filename, bucket_name=bucket)"
   ]
  },
  {
   "cell_type": "markdown",
   "metadata": {},
   "source": [
    "Users should input all tracking parameters into the tparams object. Note that the quality value will be overwritten by values found using the quality predictor found above. Never change threshold, median intensity, or snr"
   ]
  },
  {
   "cell_type": "code",
   "execution_count": 15,
   "metadata": {},
   "outputs": [],
   "source": [
    "tparams1 = {'radius': 6.0, 'threshold': 0.0, 'do_median_filtering': False,\n",
    "           'quality': 10.0, 'xdims': (0, 511), 'ydims': (1, 511),\n",
    "           'median_intensity': 300.0, 'snr': 0.0, 'linking_max_distance': 12.0,\n",
    "           'gap_closing_max_distance': 15.0, 'max_frame_gap': 8.0,\n",
    "           'track_duration': 10.00}"
   ]
  },
  {
   "cell_type": "markdown",
   "metadata": {},
   "source": [
    "## Cloudknot setup"
   ]
  },
  {
   "cell_type": "markdown",
   "metadata": {},
   "source": [
    "Cloudknot requires the user to define a function that will be sent to multiple computers to run. In this case, the function knotlets.tracking will be used. We create a docker image that has the required installations (defined by the requirements.txt file from diff_classifier on Github, and the base Docker Image below that has Fiji pre-installed in the correct location.\n",
    "\n",
    "Note that I modify the Docker image below such that the correct version of boto3 is installed. For some reason, versions later than 1.5.28 error out, so I specified 5.28 as the correct version. Run my_image.build below to double-check that the Docker image is successfully built prior to submitting the job to Cloudknot."
   ]
  },
  {
   "cell_type": "markdown",
   "metadata": {},
   "source": [
    "** Before you run this next cell, you have to switch the kernel from Python 3 to Python 2, by doing the following: **\n",
    " 1. Kernel -> Restart and clear output\n",
    " 2. Kernel -> Change Kernel -> Python 2\n",
    " 3. Rerun cells required to run below cell\n",
    " \n",
    " ** One other important thing to note: \n",
    " - If you are performing the tracking, be sure that the my_image =  line is set to ck.DockerImage(func=kn.tracking,...\n",
    " - If you are performing the MSD/feature calculation (after you've carried out the tracking), be sure that the my_image = line is se to ck.DockerImage(func=kn.assemble_msds, ...\n",
    "     \n",
    "     ** following the tracking, before you run assemble_msds, you need to run the cell below that redefines all_maps as all_maps2. all_maps2 doesn't include the tparams1 input, and allows the kn.assemble_msds section to run properly. It won't work with the tparams input. **\n",
    "     \n",
    " Other than that, everything else should stay the same"
   ]
  },
  {
   "cell_type": "code",
   "execution_count": null,
   "metadata": {},
   "outputs": [],
   "source": [
    "import cloudknot as ck\n",
    "import os.path as op\n",
    "\n",
    "github_installs=('https://github.com/ccurtis7/diff_classifier.git')\n",
    "my_image = ck.DockerImage(func=kn.tracking, base_image='arokem/python3-fiji:0.3', github_installs=github_installs)\n",
    "#my_image = ck.DockerImage(func=kn.assemble_msds, base_image='arokem/python3-fiji:0.3', github_installs=github_installs)\n",
    "docker_file = open(my_image.docker_path)\n",
    "docker_string = docker_file.read()\n",
    "docker_file.close()\n",
    "\n",
    "req = open(op.join(op.split(my_image.docker_path)[0], 'requirements.txt'))\n",
    "req_string = req.read()\n",
    "req.close()\n",
    "\n",
    "new_req = req_string[0:req_string.find('\\n')-5]+'5.28'+ req_string[req_string.find('\\n'):]\n",
    "req_overwrite = open(op.join(op.split(my_image.docker_path)[0], 'requirements.txt'), 'w')\n",
    "req_overwrite.write(new_req)\n",
    "req_overwrite.close()"
   ]
  },
  {
   "cell_type": "markdown",
   "metadata": {},
   "source": [
    "Following the execution of this cell, you have to check that the requirements.txt file has the first line 'boto3==1.5.28'.\n",
    "    - This file can be found in source -> diff-classifier -> notebooks -> development -> most recent file\n",
    "\n",
    "If it doesn't, you may have to change the line in the cell above that says 'new_req = reg_string[0:req_string.find('\\n')-4]+'5.28'+ reg_string[reg_string.find('\\n'):]'"
   ]
  },
  {
   "cell_type": "code",
   "execution_count": null,
   "metadata": {},
   "outputs": [],
   "source": [
    "my_image.build(\"ChABC_slice_2\", image_name=\"test_image\")"
   ]
  },
  {
   "cell_type": "code",
   "execution_count": null,
   "metadata": {},
   "outputs": [],
   "source": [
    "to_track"
   ]
  },
  {
   "cell_type": "markdown",
   "metadata": {},
   "source": [
    "The object all_maps is an iterable containing all the inputs sent to Cloudknot. This is useful, because if the user needs to modify some of the tracking parameters for a single video, this can be done prior to submission to Cloudknot."
   ]
  },
  {
   "cell_type": "code",
   "execution_count": null,
   "metadata": {},
   "outputs": [],
   "source": [
    "names = []\n",
    "all_maps = []\n",
    "for prefix in to_track[0:10]:    \n",
    "    for i in range(0, 4):\n",
    "        for j in range(0, 4):\n",
    "            names.append('{}_{}_{}'.format(prefix, i, j))\n",
    "            all_maps.append(('{}_{}_{}'.format(prefix, i, j), remote_folder, bucket, 'regress.obj', 4, 4, (512, 512), tparams1))"
   ]
  },
  {
   "cell_type": "code",
   "execution_count": null,
   "metadata": {},
   "outputs": [],
   "source": [
    "start_knot = 3"
   ]
  },
  {
   "cell_type": "markdown",
   "metadata": {},
   "source": [
    "The Cloudknot knot object sets up the compute environment which will run the code. Note that the name must be unique. Every time you submit a new knot, you should change the name. I do this with the variable start_knot, which I vary for each run.\n",
    "\n",
    "If larger jobs are anticipated, users can adjust both RAM and storage with the memory and image_id variables. Memory specifies the amount of RAM to be used. Users can build a customized AMI with as much space as they need, and enter the ID into image_ID. Read the Cloudknot documentation for more details."
   ]
  },
  {
   "cell_type": "code",
   "execution_count": null,
   "metadata": {},
   "outputs": [],
   "source": [
    "knot = ck.Knot(name='{}_d{}'.format('mike', start_knot),\n",
    "               docker_image = my_image,\n",
    "               memory = 16000,\n",
    "               resource_type = \"SPOT\",\n",
    "               bid_percentage = 100,\n",
    "               #image_id = 'ami-0e00afdf500081a0d', #May need to change this line\n",
    "               pars_policies=('AmazonS3FullAccess',))\n",
    "\n",
    "result_futures = knot.map(all_maps, starmap=True)"
   ]
  },
  {
   "cell_type": "code",
   "execution_count": null,
   "metadata": {},
   "outputs": [],
   "source": [
    "knot.clobber()"
   ]
  },
  {
   "cell_type": "markdown",
   "metadata": {},
   "source": [
    "You can track the progression of your run using the AWS Batch service online -- make sure you are looking at the right US Region.\n",
    "\n",
    "After the run, you might have some that fail. This usually happens when the computers get claimed by someone paying more money, and your job gets booted from the aws computers. Because of this, you will need to start a knw cloudknot knot and rerun those vids. The set up for that is shown below.\n",
    "\n",
    "Remember to clobber your knot!"
   ]
  },
  {
   "cell_type": "code",
   "execution_count": null,
   "metadata": {},
   "outputs": [],
   "source": [
    "ck.get_region()"
   ]
  },
  {
   "cell_type": "markdown",
   "metadata": {},
   "source": [
    "This creates a new all_maps2 array for any of the videos that failed to get analyzed the first time through. Double check that it worked well by printing the length of it immediately afterwards."
   ]
  },
  {
   "cell_type": "code",
   "execution_count": null,
   "metadata": {},
   "outputs": [],
   "source": [
    "missing = []\n",
    "all_maps2 = []\n",
    "import boto3\n",
    "import botocore\n",
    "\n",
    "s3 = boto3.resource('s3')\n",
    "\n",
    "\n",
    "for name in names:\n",
    "    try:\n",
    "        s3.Object(bucket, '{}/Traj_{}.csv'.format(remote_folder, name)).load()\n",
    "    except botocore.exceptions.ClientError as e:\n",
    "        if e.response['Error']['Code'] == \"404\":\n",
    "            missing.append(name)\n",
    "            all_maps2.append((name, remote_folder, bucket, 'regress.obj',\n",
    "                             4, 4, (512, 512), tparams1))\n",
    "        else:\n",
    "            print('Something else has gone wrong')"
   ]
  },
  {
   "cell_type": "code",
   "execution_count": null,
   "metadata": {},
   "outputs": [],
   "source": [
    "print(len(all_maps2))"
   ]
  },
  {
   "cell_type": "markdown",
   "metadata": {},
   "source": [
    "Make sure you change the name of your knot, either by changing the 'mike1' part or start_knot value."
   ]
  },
  {
   "cell_type": "code",
   "execution_count": null,
   "metadata": {},
   "outputs": [],
   "source": [
    "all_maps2 = []\n",
    "for prefix in to_track[45:90]:\n",
    "    all_maps2.append((prefix, remote_folder, bucket, (512, 512), 651, 4, 4))"
   ]
  },
  {
   "cell_type": "markdown",
   "metadata": {},
   "source": [
    "Users can monitor the progress of their job in the Batch interface. Once the code is complete, users should clobber their knot to make sure that all AWS resources are removed."
   ]
  },
  {
   "cell_type": "code",
   "execution_count": null,
   "metadata": {},
   "outputs": [],
   "source": [
    "to_track"
   ]
  },
  {
   "cell_type": "markdown",
   "metadata": {},
   "source": [
    "## Cloudknot is acting up, going to be limited to running tracking one vid at a time in this notebook/EC2 instance."
   ]
  },
  {
   "cell_type": "code",
   "execution_count": 5,
   "metadata": {},
   "outputs": [],
   "source": [
    "import diff_classifier.knotlets as kn\n",
    "import os\n",
    "import diff_classifier.imagej as ij\n",
    "import boto3\n",
    "import os.path as op\n",
    "import diff_classifier.aws as aws\n",
    "import numpy as np\n",
    "from sklearn.externals import joblib"
   ]
  },
  {
   "cell_type": "code",
   "execution_count": 6,
   "metadata": {},
   "outputs": [
    {
     "data": {
      "text/plain": [
       "['OGD_0_5h_slice_1_cortex_vid_1',\n",
       " 'OGD_0_5h_slice_1_cortex_vid_2',\n",
       " 'OGD_0_5h_slice_1_cortex_vid_3',\n",
       " 'OGD_0_5h_slice_1_cortex_vid_4',\n",
       " 'OGD_0_5h_slice_1_cortex_vid_5',\n",
       " 'OGD_0_5h_slice_1_striatum_vid_1',\n",
       " 'OGD_0_5h_slice_1_striatum_vid_2',\n",
       " 'OGD_0_5h_slice_1_striatum_vid_3',\n",
       " 'OGD_0_5h_slice_1_striatum_vid_4',\n",
       " 'OGD_0_5h_slice_1_striatum_vid_5',\n",
       " 'OGD_0_5h_slice_2_cortex_vid_1',\n",
       " 'OGD_0_5h_slice_2_cortex_vid_2',\n",
       " 'OGD_0_5h_slice_2_cortex_vid_3',\n",
       " 'OGD_0_5h_slice_2_cortex_vid_4',\n",
       " 'OGD_0_5h_slice_2_cortex_vid_5',\n",
       " 'OGD_0_5h_slice_2_striatum_vid_1',\n",
       " 'OGD_0_5h_slice_2_striatum_vid_2',\n",
       " 'OGD_0_5h_slice_2_striatum_vid_3',\n",
       " 'OGD_0_5h_slice_2_striatum_vid_4',\n",
       " 'OGD_0_5h_slice_2_striatum_vid_5',\n",
       " 'OGD_0_5h_slice_3_cortex_vid_1',\n",
       " 'OGD_0_5h_slice_3_cortex_vid_2',\n",
       " 'OGD_0_5h_slice_3_cortex_vid_3',\n",
       " 'OGD_0_5h_slice_3_cortex_vid_4',\n",
       " 'OGD_0_5h_slice_3_cortex_vid_5',\n",
       " 'OGD_0_5h_slice_3_striatum_vid_1',\n",
       " 'OGD_0_5h_slice_3_striatum_vid_2',\n",
       " 'OGD_0_5h_slice_3_striatum_vid_3',\n",
       " 'OGD_0_5h_slice_3_striatum_vid_4',\n",
       " 'OGD_0_5h_slice_3_striatum_vid_5',\n",
       " 'OGD_1_5h_slice_1_cortex_vid_1',\n",
       " 'OGD_1_5h_slice_1_cortex_vid_2',\n",
       " 'OGD_1_5h_slice_1_cortex_vid_3',\n",
       " 'OGD_1_5h_slice_1_cortex_vid_4',\n",
       " 'OGD_1_5h_slice_1_cortex_vid_5',\n",
       " 'OGD_1_5h_slice_1_striatum_vid_1',\n",
       " 'OGD_1_5h_slice_1_striatum_vid_2',\n",
       " 'OGD_1_5h_slice_1_striatum_vid_3',\n",
       " 'OGD_1_5h_slice_1_striatum_vid_4',\n",
       " 'OGD_1_5h_slice_1_striatum_vid_5',\n",
       " 'OGD_1_5h_slice_2_cortex_vid_1',\n",
       " 'OGD_1_5h_slice_2_cortex_vid_2',\n",
       " 'OGD_1_5h_slice_2_cortex_vid_3',\n",
       " 'OGD_1_5h_slice_2_cortex_vid_4',\n",
       " 'OGD_1_5h_slice_2_cortex_vid_5',\n",
       " 'OGD_1_5h_slice_2_striatum_vid_1',\n",
       " 'OGD_1_5h_slice_2_striatum_vid_2',\n",
       " 'OGD_1_5h_slice_2_striatum_vid_3',\n",
       " 'OGD_1_5h_slice_2_striatum_vid_4',\n",
       " 'OGD_1_5h_slice_2_striatum_vid_5',\n",
       " 'OGD_1_5h_slice_3_cortex_vid_1',\n",
       " 'OGD_1_5h_slice_3_cortex_vid_2',\n",
       " 'OGD_1_5h_slice_3_cortex_vid_3',\n",
       " 'OGD_1_5h_slice_3_cortex_vid_4',\n",
       " 'OGD_1_5h_slice_3_cortex_vid_5',\n",
       " 'OGD_1_5h_slice_3_striatum_vid_1',\n",
       " 'OGD_1_5h_slice_3_striatum_vid_2',\n",
       " 'OGD_1_5h_slice_3_striatum_vid_3',\n",
       " 'OGD_1_5h_slice_3_striatum_vid_4',\n",
       " 'OGD_1_5h_slice_3_striatum_vid_5']"
      ]
     },
     "execution_count": 6,
     "metadata": {},
     "output_type": "execute_result"
    }
   ],
   "source": [
    "to_track"
   ]
  },
  {
   "cell_type": "code",
   "execution_count": 7,
   "metadata": {},
   "outputs": [],
   "source": [
    "remote_folder = '03_06_20_OGD_Severity_MPT'\n",
    "s3_bucket = 'mckenna.data'\n",
    "\n",
    "track_list = []\n",
    "for pref in to_track:\n",
    "    for i in range(0, 4):\n",
    "        for j in range(0, 4):\n",
    "            track_list.append(pref+'_{}_{}'.format( i, j))\n",
    "\n",
    "\n",
    "tparams1={'radius': 6.0, 'threshold': 0.0, 'quality': 2.67, 'do_median_filtering': False,\n",
    "         'xdims':(0,511), 'ydims':(1,511), 'median_intensity': 300.0,\n",
    "         'snr':0.0, 'linking_max_distance': 15.0, 'gap_closing_max_distance': 18.0,\n",
    "         'max_frame_gap': 8, 'track_duration':10.0}"
   ]
  },
  {
   "cell_type": "code",
   "execution_count": 14,
   "metadata": {},
   "outputs": [
    {
     "data": {
      "text/plain": [
       "['OGD_1_5h_slice_3_striatum_vid_4_2_1',\n",
       " 'OGD_1_5h_slice_3_striatum_vid_4_2_2',\n",
       " 'OGD_1_5h_slice_3_striatum_vid_4_2_3',\n",
       " 'OGD_1_5h_slice_3_striatum_vid_4_3_0',\n",
       " 'OGD_1_5h_slice_3_striatum_vid_4_3_1',\n",
       " 'OGD_1_5h_slice_3_striatum_vid_4_3_2',\n",
       " 'OGD_1_5h_slice_3_striatum_vid_4_3_3',\n",
       " 'OGD_1_5h_slice_3_striatum_vid_5_0_0',\n",
       " 'OGD_1_5h_slice_3_striatum_vid_5_0_1',\n",
       " 'OGD_1_5h_slice_3_striatum_vid_5_0_2',\n",
       " 'OGD_1_5h_slice_3_striatum_vid_5_0_3',\n",
       " 'OGD_1_5h_slice_3_striatum_vid_5_1_0',\n",
       " 'OGD_1_5h_slice_3_striatum_vid_5_1_1',\n",
       " 'OGD_1_5h_slice_3_striatum_vid_5_1_2',\n",
       " 'OGD_1_5h_slice_3_striatum_vid_5_1_3',\n",
       " 'OGD_1_5h_slice_3_striatum_vid_5_2_0',\n",
       " 'OGD_1_5h_slice_3_striatum_vid_5_2_1',\n",
       " 'OGD_1_5h_slice_3_striatum_vid_5_2_2',\n",
       " 'OGD_1_5h_slice_3_striatum_vid_5_2_3',\n",
       " 'OGD_1_5h_slice_3_striatum_vid_5_3_0',\n",
       " 'OGD_1_5h_slice_3_striatum_vid_5_3_1',\n",
       " 'OGD_1_5h_slice_3_striatum_vid_5_3_2',\n",
       " 'OGD_1_5h_slice_3_striatum_vid_5_3_3']"
      ]
     },
     "execution_count": 14,
     "metadata": {},
     "output_type": "execute_result"
    }
   ],
   "source": [
    "track_list[937:]"
   ]
  },
  {
   "cell_type": "code",
   "execution_count": 15,
   "metadata": {},
   "outputs": [
    {
     "name": "stdout",
     "output_type": "stream",
     "text": [
      "/home/ubuntu/Fiji.app/ImageJ-linux64 --ij2 --headless --run /tmp/tmpf83vqkg8.py\n",
      "Done with tracking.  Should output file of name 03_06_20_OGD_Severity_MPT/Traj_OGD_1_5h_slice_3_striatum_vid_4_2_1.csv\n",
      "/home/ubuntu/Fiji.app/ImageJ-linux64 --ij2 --headless --run /tmp/tmpc9f0ddx9.py\n",
      "Done with tracking.  Should output file of name 03_06_20_OGD_Severity_MPT/Traj_OGD_1_5h_slice_3_striatum_vid_4_2_2.csv\n",
      "/home/ubuntu/Fiji.app/ImageJ-linux64 --ij2 --headless --run /tmp/tmpcixq1mto.py\n",
      "Done with tracking.  Should output file of name 03_06_20_OGD_Severity_MPT/Traj_OGD_1_5h_slice_3_striatum_vid_4_2_3.csv\n",
      "/home/ubuntu/Fiji.app/ImageJ-linux64 --ij2 --headless --run /tmp/tmp03a6rzxd.py\n",
      "Done with tracking.  Should output file of name 03_06_20_OGD_Severity_MPT/Traj_OGD_1_5h_slice_3_striatum_vid_4_3_0.csv\n",
      "/home/ubuntu/Fiji.app/ImageJ-linux64 --ij2 --headless --run /tmp/tmpbuwmc25w.py\n",
      "Done with tracking.  Should output file of name 03_06_20_OGD_Severity_MPT/Traj_OGD_1_5h_slice_3_striatum_vid_4_3_1.csv\n",
      "/home/ubuntu/Fiji.app/ImageJ-linux64 --ij2 --headless --run /tmp/tmpjeimg73k.py\n",
      "Done with tracking.  Should output file of name 03_06_20_OGD_Severity_MPT/Traj_OGD_1_5h_slice_3_striatum_vid_4_3_2.csv\n",
      "/home/ubuntu/Fiji.app/ImageJ-linux64 --ij2 --headless --run /tmp/tmp548tsiyf.py\n",
      "Done with tracking.  Should output file of name 03_06_20_OGD_Severity_MPT/Traj_OGD_1_5h_slice_3_striatum_vid_4_3_3.csv\n",
      "/home/ubuntu/Fiji.app/ImageJ-linux64 --ij2 --headless --run /tmp/tmpl0zv_046.py\n",
      "Done with tracking.  Should output file of name 03_06_20_OGD_Severity_MPT/Traj_OGD_1_5h_slice_3_striatum_vid_5_0_0.csv\n",
      "/home/ubuntu/Fiji.app/ImageJ-linux64 --ij2 --headless --run /tmp/tmpv50ggxni.py\n",
      "Done with tracking.  Should output file of name 03_06_20_OGD_Severity_MPT/Traj_OGD_1_5h_slice_3_striatum_vid_5_0_1.csv\n",
      "/home/ubuntu/Fiji.app/ImageJ-linux64 --ij2 --headless --run /tmp/tmpmthitpcf.py\n",
      "Done with tracking.  Should output file of name 03_06_20_OGD_Severity_MPT/Traj_OGD_1_5h_slice_3_striatum_vid_5_0_2.csv\n",
      "/home/ubuntu/Fiji.app/ImageJ-linux64 --ij2 --headless --run /tmp/tmpgsftxp9q.py\n",
      "Done with tracking.  Should output file of name 03_06_20_OGD_Severity_MPT/Traj_OGD_1_5h_slice_3_striatum_vid_5_0_3.csv\n",
      "/home/ubuntu/Fiji.app/ImageJ-linux64 --ij2 --headless --run /tmp/tmpn__ef_js.py\n",
      "Done with tracking.  Should output file of name 03_06_20_OGD_Severity_MPT/Traj_OGD_1_5h_slice_3_striatum_vid_5_1_0.csv\n",
      "/home/ubuntu/Fiji.app/ImageJ-linux64 --ij2 --headless --run /tmp/tmpk6hwfp6w.py\n",
      "Done with tracking.  Should output file of name 03_06_20_OGD_Severity_MPT/Traj_OGD_1_5h_slice_3_striatum_vid_5_1_1.csv\n",
      "/home/ubuntu/Fiji.app/ImageJ-linux64 --ij2 --headless --run /tmp/tmpcehullb1.py\n",
      "Done with tracking.  Should output file of name 03_06_20_OGD_Severity_MPT/Traj_OGD_1_5h_slice_3_striatum_vid_5_1_2.csv\n",
      "/home/ubuntu/Fiji.app/ImageJ-linux64 --ij2 --headless --run /tmp/tmpfwn6s5s8.py\n",
      "Done with tracking.  Should output file of name 03_06_20_OGD_Severity_MPT/Traj_OGD_1_5h_slice_3_striatum_vid_5_1_3.csv\n",
      "/home/ubuntu/Fiji.app/ImageJ-linux64 --ij2 --headless --run /tmp/tmpzihnpytj.py\n",
      "Done with tracking.  Should output file of name 03_06_20_OGD_Severity_MPT/Traj_OGD_1_5h_slice_3_striatum_vid_5_2_0.csv\n",
      "/home/ubuntu/Fiji.app/ImageJ-linux64 --ij2 --headless --run /tmp/tmp17ly743i.py\n",
      "Done with tracking.  Should output file of name 03_06_20_OGD_Severity_MPT/Traj_OGD_1_5h_slice_3_striatum_vid_5_2_1.csv\n",
      "/home/ubuntu/Fiji.app/ImageJ-linux64 --ij2 --headless --run /tmp/tmpeyrc9llz.py\n",
      "Done with tracking.  Should output file of name 03_06_20_OGD_Severity_MPT/Traj_OGD_1_5h_slice_3_striatum_vid_5_2_2.csv\n",
      "/home/ubuntu/Fiji.app/ImageJ-linux64 --ij2 --headless --run /tmp/tmpchec93fw.py\n",
      "Done with tracking.  Should output file of name 03_06_20_OGD_Severity_MPT/Traj_OGD_1_5h_slice_3_striatum_vid_5_2_3.csv\n",
      "/home/ubuntu/Fiji.app/ImageJ-linux64 --ij2 --headless --run /tmp/tmp8jbohrhu.py\n",
      "Done with tracking.  Should output file of name 03_06_20_OGD_Severity_MPT/Traj_OGD_1_5h_slice_3_striatum_vid_5_3_0.csv\n",
      "/home/ubuntu/Fiji.app/ImageJ-linux64 --ij2 --headless --run /tmp/tmp5ona7_d2.py\n",
      "Done with tracking.  Should output file of name 03_06_20_OGD_Severity_MPT/Traj_OGD_1_5h_slice_3_striatum_vid_5_3_1.csv\n",
      "/home/ubuntu/Fiji.app/ImageJ-linux64 --ij2 --headless --run /tmp/tmpg_4kw677.py\n",
      "Done with tracking.  Should output file of name 03_06_20_OGD_Severity_MPT/Traj_OGD_1_5h_slice_3_striatum_vid_5_3_2.csv\n",
      "/home/ubuntu/Fiji.app/ImageJ-linux64 --ij2 --headless --run /tmp/tmpckb4hmj2.py\n",
      "Done with tracking.  Should output file of name 03_06_20_OGD_Severity_MPT/Traj_OGD_1_5h_slice_3_striatum_vid_5_3_3.csv\n"
     ]
    }
   ],
   "source": [
    "for vid in track_list[937:]:\n",
    "    kn.tracking(vid, remote_folder, bucket=s3_bucket, regress_f='regress.obj', rows=4, cols=4, ires=(512,512),\n",
    "            tparams=tparams1)\n",
    "    os.remove(vid+'.tif')\n",
    "    os.remove('Traj_'+vid+'.csv')"
   ]
  },
  {
   "cell_type": "code",
   "execution_count": 16,
   "metadata": {},
   "outputs": [],
   "source": [
    "msd_list = to_track"
   ]
  },
  {
   "cell_type": "code",
   "execution_count": 17,
   "metadata": {},
   "outputs": [
    {
     "data": {
      "text/plain": [
       "['OGD_0_5h_slice_1_cortex_vid_1',\n",
       " 'OGD_0_5h_slice_1_cortex_vid_2',\n",
       " 'OGD_0_5h_slice_1_cortex_vid_3',\n",
       " 'OGD_0_5h_slice_1_cortex_vid_4',\n",
       " 'OGD_0_5h_slice_1_cortex_vid_5',\n",
       " 'OGD_0_5h_slice_1_striatum_vid_1',\n",
       " 'OGD_0_5h_slice_1_striatum_vid_2',\n",
       " 'OGD_0_5h_slice_1_striatum_vid_3',\n",
       " 'OGD_0_5h_slice_1_striatum_vid_4',\n",
       " 'OGD_0_5h_slice_1_striatum_vid_5',\n",
       " 'OGD_0_5h_slice_2_cortex_vid_1',\n",
       " 'OGD_0_5h_slice_2_cortex_vid_2',\n",
       " 'OGD_0_5h_slice_2_cortex_vid_3',\n",
       " 'OGD_0_5h_slice_2_cortex_vid_4',\n",
       " 'OGD_0_5h_slice_2_cortex_vid_5',\n",
       " 'OGD_0_5h_slice_2_striatum_vid_1',\n",
       " 'OGD_0_5h_slice_2_striatum_vid_2',\n",
       " 'OGD_0_5h_slice_2_striatum_vid_3',\n",
       " 'OGD_0_5h_slice_2_striatum_vid_4',\n",
       " 'OGD_0_5h_slice_2_striatum_vid_5',\n",
       " 'OGD_0_5h_slice_3_cortex_vid_1',\n",
       " 'OGD_0_5h_slice_3_cortex_vid_2',\n",
       " 'OGD_0_5h_slice_3_cortex_vid_3',\n",
       " 'OGD_0_5h_slice_3_cortex_vid_4',\n",
       " 'OGD_0_5h_slice_3_cortex_vid_5',\n",
       " 'OGD_0_5h_slice_3_striatum_vid_1',\n",
       " 'OGD_0_5h_slice_3_striatum_vid_2',\n",
       " 'OGD_0_5h_slice_3_striatum_vid_3',\n",
       " 'OGD_0_5h_slice_3_striatum_vid_4',\n",
       " 'OGD_0_5h_slice_3_striatum_vid_5',\n",
       " 'OGD_1_5h_slice_1_cortex_vid_1',\n",
       " 'OGD_1_5h_slice_1_cortex_vid_2',\n",
       " 'OGD_1_5h_slice_1_cortex_vid_3',\n",
       " 'OGD_1_5h_slice_1_cortex_vid_4',\n",
       " 'OGD_1_5h_slice_1_cortex_vid_5',\n",
       " 'OGD_1_5h_slice_1_striatum_vid_1',\n",
       " 'OGD_1_5h_slice_1_striatum_vid_2',\n",
       " 'OGD_1_5h_slice_1_striatum_vid_3',\n",
       " 'OGD_1_5h_slice_1_striatum_vid_4',\n",
       " 'OGD_1_5h_slice_1_striatum_vid_5',\n",
       " 'OGD_1_5h_slice_2_cortex_vid_1',\n",
       " 'OGD_1_5h_slice_2_cortex_vid_2',\n",
       " 'OGD_1_5h_slice_2_cortex_vid_3',\n",
       " 'OGD_1_5h_slice_2_cortex_vid_4',\n",
       " 'OGD_1_5h_slice_2_cortex_vid_5',\n",
       " 'OGD_1_5h_slice_2_striatum_vid_1',\n",
       " 'OGD_1_5h_slice_2_striatum_vid_2',\n",
       " 'OGD_1_5h_slice_2_striatum_vid_3',\n",
       " 'OGD_1_5h_slice_2_striatum_vid_4',\n",
       " 'OGD_1_5h_slice_2_striatum_vid_5',\n",
       " 'OGD_1_5h_slice_3_cortex_vid_1',\n",
       " 'OGD_1_5h_slice_3_cortex_vid_2',\n",
       " 'OGD_1_5h_slice_3_cortex_vid_3',\n",
       " 'OGD_1_5h_slice_3_cortex_vid_4',\n",
       " 'OGD_1_5h_slice_3_cortex_vid_5',\n",
       " 'OGD_1_5h_slice_3_striatum_vid_1',\n",
       " 'OGD_1_5h_slice_3_striatum_vid_2',\n",
       " 'OGD_1_5h_slice_3_striatum_vid_3',\n",
       " 'OGD_1_5h_slice_3_striatum_vid_4',\n",
       " 'OGD_1_5h_slice_3_striatum_vid_5']"
      ]
     },
     "execution_count": 17,
     "metadata": {},
     "output_type": "execute_result"
    }
   ],
   "source": [
    "msd_list"
   ]
  },
  {
   "cell_type": "code",
   "execution_count": 19,
   "metadata": {},
   "outputs": [
    {
     "name": "stdout",
     "output_type": "stream",
     "text": [
      "Done calculating MSDs for row 0 and col 1\n",
      "Done calculating MSDs for row 0 and col 2\n",
      "Done calculating MSDs for row 0 and col 3\n",
      "Done calculating MSDs for row 1 and col 0\n",
      "Done calculating MSDs for row 1 and col 1\n",
      "Done calculating MSDs for row 1 and col 2\n",
      "Done calculating MSDs for row 1 and col 3\n",
      "Done calculating MSDs for row 2 and col 0\n",
      "Done calculating MSDs for row 2 and col 1\n",
      "Done calculating MSDs for row 2 and col 2\n",
      "Done calculating MSDs for row 2 and col 3\n",
      "Done calculating MSDs for row 3 and col 0\n",
      "Done calculating MSDs for row 3 and col 1\n",
      "Done calculating MSDs for row 3 and col 2\n",
      "Done calculating MSDs for row 3 and col 3\n"
     ]
    },
    {
     "name": "stderr",
     "output_type": "stream",
     "text": [
      "/home/ubuntu/source/diff-classifier/diff_classifier/features.py:510: RuntimeWarning: divide by zero encountered in double_scalars\n",
      "  aspratio = width/height\n",
      "/home/ubuntu/source/diff-classifier/diff_classifier/features.py:717: RuntimeWarning: divide by zero encountered in double_scalars\n",
      "  ratio = (dframe['MSDs'][fram1]/dframe['MSDs'][fram2]) - (\n"
     ]
    },
    {
     "name": "stdout",
     "output_type": "stream",
     "text": [
      "Optimal parameters not found. Print NaN instead.\n",
      "Optimal parameters not found. Print NaN instead.\n",
      "Optimal parameters not found. Print NaN instead.\n",
      "Optimal parameters not found. Print NaN instead.\n",
      "Optimal parameters not found. Print NaN instead.\n",
      "Optimal parameters not found. Print NaN instead.\n"
     ]
    },
    {
     "name": "stderr",
     "output_type": "stream",
     "text": [
      "/home/ubuntu/miniconda3/lib/python3.6/site-packages/scipy/optimize/minpack.py:779: OptimizeWarning: Covariance of the parameters could not be estimated\n",
      "  category=OptimizeWarning)\n"
     ]
    },
    {
     "name": "stdout",
     "output_type": "stream",
     "text": [
      "Optimal parameters not found. Print NaN instead.\n",
      "Optimal parameters not found. Print NaN instead.\n",
      "Successfully output msds for OGD_0_5h_slice_1_cortex_vid_1\n",
      "Done calculating MSDs for row 0 and col 1\n",
      "Done calculating MSDs for row 0 and col 2\n",
      "Done calculating MSDs for row 0 and col 3\n",
      "Done calculating MSDs for row 1 and col 0\n",
      "Done calculating MSDs for row 1 and col 1\n",
      "Done calculating MSDs for row 1 and col 2\n",
      "Done calculating MSDs for row 1 and col 3\n",
      "Done calculating MSDs for row 2 and col 0\n",
      "Done calculating MSDs for row 2 and col 1\n",
      "Done calculating MSDs for row 2 and col 2\n",
      "Done calculating MSDs for row 2 and col 3\n",
      "Done calculating MSDs for row 3 and col 0\n",
      "Done calculating MSDs for row 3 and col 1\n",
      "Done calculating MSDs for row 3 and col 2\n",
      "Done calculating MSDs for row 3 and col 3\n"
     ]
    },
    {
     "name": "stderr",
     "output_type": "stream",
     "text": [
      "/home/ubuntu/source/diff-classifier/diff_classifier/features.py:510: RuntimeWarning: divide by zero encountered in double_scalars\n",
      "  aspratio = width/height\n"
     ]
    },
    {
     "name": "stdout",
     "output_type": "stream",
     "text": [
      "Optimal parameters not found. Print NaN instead.\n",
      "Optimal parameters not found. Print NaN instead.\n"
     ]
    },
    {
     "name": "stderr",
     "output_type": "stream",
     "text": [
      "/home/ubuntu/miniconda3/lib/python3.6/site-packages/scipy/optimize/minpack.py:779: OptimizeWarning: Covariance of the parameters could not be estimated\n",
      "  category=OptimizeWarning)\n"
     ]
    },
    {
     "name": "stdout",
     "output_type": "stream",
     "text": [
      "Successfully output msds for OGD_0_5h_slice_1_cortex_vid_2\n",
      "Done calculating MSDs for row 0 and col 1\n",
      "Done calculating MSDs for row 0 and col 2\n",
      "Done calculating MSDs for row 0 and col 3\n",
      "Done calculating MSDs for row 1 and col 0\n",
      "Done calculating MSDs for row 1 and col 1\n",
      "Done calculating MSDs for row 1 and col 2\n",
      "Done calculating MSDs for row 1 and col 3\n",
      "Done calculating MSDs for row 2 and col 0\n",
      "Done calculating MSDs for row 2 and col 1\n",
      "Done calculating MSDs for row 2 and col 2\n",
      "Done calculating MSDs for row 2 and col 3\n",
      "Done calculating MSDs for row 3 and col 0\n",
      "Done calculating MSDs for row 3 and col 1\n",
      "Done calculating MSDs for row 3 and col 2\n",
      "Done calculating MSDs for row 3 and col 3\n",
      "Optimal parameters not found. Print NaN instead.\n",
      "Optimal parameters not found. Print NaN instead.\n"
     ]
    },
    {
     "name": "stderr",
     "output_type": "stream",
     "text": [
      "/home/ubuntu/source/diff-classifier/diff_classifier/features.py:717: RuntimeWarning: divide by zero encountered in double_scalars\n",
      "  ratio = (dframe['MSDs'][fram1]/dframe['MSDs'][fram2]) - (\n",
      "/home/ubuntu/source/diff-classifier/diff_classifier/features.py:510: RuntimeWarning: divide by zero encountered in double_scalars\n",
      "  aspratio = width/height\n"
     ]
    },
    {
     "name": "stdout",
     "output_type": "stream",
     "text": [
      "Optimal parameters not found. Print NaN instead.\n",
      "Optimal parameters not found. Print NaN instead.\n",
      "Optimal parameters not found. Print NaN instead.\n",
      "Optimal parameters not found. Print NaN instead.\n",
      "Optimal parameters not found. Print NaN instead.\n",
      "Optimal parameters not found. Print NaN instead.\n",
      "Successfully output msds for OGD_0_5h_slice_1_cortex_vid_3\n",
      "Done calculating MSDs for row 0 and col 1\n",
      "Done calculating MSDs for row 0 and col 2\n",
      "Done calculating MSDs for row 0 and col 3\n",
      "Done calculating MSDs for row 1 and col 0\n",
      "Done calculating MSDs for row 1 and col 1\n",
      "Done calculating MSDs for row 1 and col 2\n",
      "Done calculating MSDs for row 1 and col 3\n",
      "Done calculating MSDs for row 2 and col 0\n",
      "Done calculating MSDs for row 2 and col 1\n",
      "Done calculating MSDs for row 2 and col 2\n",
      "Done calculating MSDs for row 2 and col 3\n",
      "Done calculating MSDs for row 3 and col 0\n",
      "Done calculating MSDs for row 3 and col 1\n",
      "Done calculating MSDs for row 3 and col 2\n",
      "Done calculating MSDs for row 3 and col 3\n"
     ]
    },
    {
     "name": "stderr",
     "output_type": "stream",
     "text": [
      "/home/ubuntu/source/diff-classifier/diff_classifier/features.py:510: RuntimeWarning: divide by zero encountered in double_scalars\n",
      "  aspratio = width/height\n"
     ]
    },
    {
     "name": "stdout",
     "output_type": "stream",
     "text": [
      "Optimal parameters not found. Print NaN instead.\n",
      "Optimal parameters not found. Print NaN instead.\n"
     ]
    },
    {
     "name": "stderr",
     "output_type": "stream",
     "text": [
      "/home/ubuntu/miniconda3/lib/python3.6/site-packages/scipy/optimize/minpack.py:779: OptimizeWarning: Covariance of the parameters could not be estimated\n",
      "  category=OptimizeWarning)\n"
     ]
    },
    {
     "name": "stdout",
     "output_type": "stream",
     "text": [
      "Successfully output msds for OGD_0_5h_slice_1_cortex_vid_4\n",
      "Done calculating MSDs for row 0 and col 1\n",
      "Done calculating MSDs for row 0 and col 2\n",
      "Done calculating MSDs for row 0 and col 3\n",
      "Done calculating MSDs for row 1 and col 0\n",
      "Done calculating MSDs for row 1 and col 1\n",
      "Done calculating MSDs for row 1 and col 2\n",
      "Done calculating MSDs for row 1 and col 3\n",
      "Done calculating MSDs for row 2 and col 0\n",
      "Done calculating MSDs for row 2 and col 1\n",
      "Done calculating MSDs for row 2 and col 2\n",
      "Done calculating MSDs for row 2 and col 3\n",
      "Done calculating MSDs for row 3 and col 0\n",
      "Done calculating MSDs for row 3 and col 1\n",
      "Done calculating MSDs for row 3 and col 2\n",
      "Done calculating MSDs for row 3 and col 3\n"
     ]
    },
    {
     "name": "stderr",
     "output_type": "stream",
     "text": [
      "/home/ubuntu/source/diff-classifier/diff_classifier/features.py:510: RuntimeWarning: divide by zero encountered in double_scalars\n",
      "  aspratio = width/height\n"
     ]
    },
    {
     "name": "stdout",
     "output_type": "stream",
     "text": [
      "Optimal parameters not found. Print NaN instead.\n",
      "Optimal parameters not found. Print NaN instead.\n",
      "Optimal parameters not found. Print NaN instead.\n"
     ]
    },
    {
     "name": "stderr",
     "output_type": "stream",
     "text": [
      "/home/ubuntu/miniconda3/lib/python3.6/site-packages/scipy/optimize/minpack.py:779: OptimizeWarning: Covariance of the parameters could not be estimated\n",
      "  category=OptimizeWarning)\n"
     ]
    },
    {
     "name": "stdout",
     "output_type": "stream",
     "text": [
      "Successfully output msds for OGD_0_5h_slice_1_cortex_vid_5\n",
      "Done calculating MSDs for row 0 and col 1\n",
      "Done calculating MSDs for row 0 and col 2\n",
      "Done calculating MSDs for row 0 and col 3\n",
      "Done calculating MSDs for row 1 and col 0\n",
      "Done calculating MSDs for row 1 and col 1\n",
      "Done calculating MSDs for row 1 and col 2\n",
      "Done calculating MSDs for row 1 and col 3\n",
      "Done calculating MSDs for row 2 and col 0\n",
      "Done calculating MSDs for row 2 and col 1\n",
      "Done calculating MSDs for row 2 and col 2\n",
      "Done calculating MSDs for row 2 and col 3\n",
      "Done calculating MSDs for row 3 and col 0\n",
      "Done calculating MSDs for row 3 and col 1\n",
      "Done calculating MSDs for row 3 and col 2\n",
      "Done calculating MSDs for row 3 and col 3\n",
      "Optimal parameters not found. Print NaN instead.\n",
      "Optimal parameters not found. Print NaN instead.\n",
      "Optimal parameters not found. Print NaN instead.\n",
      "Optimal parameters not found. Print NaN instead.\n",
      "Optimal parameters not found. Print NaN instead.\n",
      "Optimal parameters not found. Print NaN instead.\n",
      "Optimal parameters not found. Print NaN instead.\n"
     ]
    },
    {
     "name": "stderr",
     "output_type": "stream",
     "text": [
      "/home/ubuntu/source/diff-classifier/diff_classifier/features.py:510: RuntimeWarning: divide by zero encountered in double_scalars\n",
      "  aspratio = width/height\n"
     ]
    },
    {
     "name": "stdout",
     "output_type": "stream",
     "text": [
      "Optimal parameters not found. Print NaN instead.\n",
      "Optimal parameters not found. Print NaN instead.\n",
      "Optimal parameters not found. Print NaN instead.\n",
      "Optimal parameters not found. Print NaN instead.\n"
     ]
    },
    {
     "name": "stderr",
     "output_type": "stream",
     "text": [
      "/home/ubuntu/miniconda3/lib/python3.6/site-packages/scipy/optimize/minpack.py:779: OptimizeWarning: Covariance of the parameters could not be estimated\n",
      "  category=OptimizeWarning)\n"
     ]
    },
    {
     "name": "stdout",
     "output_type": "stream",
     "text": [
      "Optimal parameters not found. Print NaN instead.\n",
      "Optimal parameters not found. Print NaN instead.\n",
      "Successfully output msds for OGD_0_5h_slice_1_striatum_vid_1\n",
      "Done calculating MSDs for row 0 and col 1\n",
      "Done calculating MSDs for row 0 and col 2\n",
      "Done calculating MSDs for row 0 and col 3\n",
      "Done calculating MSDs for row 1 and col 0\n",
      "Done calculating MSDs for row 1 and col 1\n",
      "Done calculating MSDs for row 1 and col 2\n",
      "Done calculating MSDs for row 1 and col 3\n",
      "Done calculating MSDs for row 2 and col 0\n",
      "Done calculating MSDs for row 2 and col 1\n",
      "Done calculating MSDs for row 2 and col 2\n",
      "Done calculating MSDs for row 2 and col 3\n",
      "Done calculating MSDs for row 3 and col 0\n",
      "Done calculating MSDs for row 3 and col 1\n",
      "Done calculating MSDs for row 3 and col 2\n",
      "Done calculating MSDs for row 3 and col 3\n"
     ]
    },
    {
     "name": "stderr",
     "output_type": "stream",
     "text": [
      "/home/ubuntu/miniconda3/lib/python3.6/site-packages/scipy/optimize/minpack.py:779: OptimizeWarning: Covariance of the parameters could not be estimated\n",
      "  category=OptimizeWarning)\n",
      "/home/ubuntu/source/diff-classifier/diff_classifier/features.py:510: RuntimeWarning: divide by zero encountered in double_scalars\n",
      "  aspratio = width/height\n",
      "/home/ubuntu/source/diff-classifier/diff_classifier/features.py:717: RuntimeWarning: divide by zero encountered in double_scalars\n",
      "  ratio = (dframe['MSDs'][fram1]/dframe['MSDs'][fram2]) - (\n"
     ]
    },
    {
     "name": "stdout",
     "output_type": "stream",
     "text": [
      "Optimal parameters not found. Print NaN instead.\n",
      "Optimal parameters not found. Print NaN instead.\n",
      "Optimal parameters not found. Print NaN instead.\n",
      "Optimal parameters not found. Print NaN instead.\n",
      "Optimal parameters not found. Print NaN instead.\n",
      "Optimal parameters not found. Print NaN instead.\n",
      "Optimal parameters not found. Print NaN instead.\n",
      "Optimal parameters not found. Print NaN instead.\n",
      "Optimal parameters not found. Print NaN instead.\n"
     ]
    },
    {
     "name": "stderr",
     "output_type": "stream",
     "text": [
      "/home/ubuntu/source/diff-classifier/diff_classifier/features.py:313: RuntimeWarning: invalid value encountered in double_scalars\n",
      "  asym1 = (eig1**2 - eig2**2)**2/(eig1**2 + eig2**2)**2\n",
      "/home/ubuntu/source/diff-classifier/diff_classifier/features.py:314: RuntimeWarning: invalid value encountered in double_scalars\n",
      "  asym2 = eig2/eig1\n",
      "/home/ubuntu/source/diff-classifier/diff_classifier/features.py:315: RuntimeWarning: invalid value encountered in double_scalars\n",
      "  asym3 = -np.log(1-((eig1-eig2)**2)/(2*(eig1+eig2)**2))\n",
      "/home/ubuntu/source/diff-classifier/diff_classifier/features.py:510: RuntimeWarning: invalid value encountered in double_scalars\n",
      "  aspratio = width/height\n",
      "/home/ubuntu/source/diff-classifier/diff_classifier/features.py:602: RuntimeWarning: invalid value encountered in double_scalars\n",
      "  bound = dcoef*fram/(rad**2)\n",
      "/home/ubuntu/source/diff-classifier/diff_classifier/features.py:603: RuntimeWarning: invalid value encountered in double_scalars\n",
      "  fractd = np.log(N)/np.log(N*2*rad/netdisp)\n",
      "/home/ubuntu/source/diff-classifier/diff_classifier/features.py:604: RuntimeWarning: invalid value encountered in double_scalars\n",
      "  probf = 1 - np.exp(0.2048 - 0.25117*(dcoef*fram/(rad**2)))\n",
      "/home/ubuntu/source/diff-classifier/diff_classifier/features.py:667: RuntimeWarning: invalid value encountered in double_scalars\n",
      "  eff = num/den\n",
      "/home/ubuntu/source/diff-classifier/diff_classifier/features.py:668: RuntimeWarning: invalid value encountered in double_scalars\n",
      "  strait = num2/den2\n",
      "/home/ubuntu/source/diff-classifier/diff_classifier/features.py:717: RuntimeWarning: invalid value encountered in double_scalars\n",
      "  ratio = (dframe['MSDs'][fram1]/dframe['MSDs'][fram2]) - (\n"
     ]
    },
    {
     "name": "stdout",
     "output_type": "stream",
     "text": [
      "Optimal parameters not found. Print NaN instead.\n",
      "Optimal parameters not found. Print NaN instead.\n",
      "Optimal parameters not found. Print NaN instead.\n",
      "Optimal parameters not found. Print NaN instead.\n",
      "Optimal parameters not found. Print NaN instead.\n",
      "Successfully output msds for OGD_0_5h_slice_1_striatum_vid_2\n",
      "Done calculating MSDs for row 0 and col 1\n",
      "Done calculating MSDs for row 0 and col 2\n",
      "Done calculating MSDs for row 0 and col 3\n",
      "Done calculating MSDs for row 1 and col 0\n",
      "Done calculating MSDs for row 1 and col 1\n",
      "Done calculating MSDs for row 1 and col 2\n",
      "Done calculating MSDs for row 1 and col 3\n",
      "Done calculating MSDs for row 2 and col 0\n",
      "Done calculating MSDs for row 2 and col 1\n",
      "Done calculating MSDs for row 2 and col 2\n",
      "Done calculating MSDs for row 2 and col 3\n",
      "Done calculating MSDs for row 3 and col 0\n",
      "Done calculating MSDs for row 3 and col 1\n",
      "Done calculating MSDs for row 3 and col 2\n",
      "Done calculating MSDs for row 3 and col 3\n"
     ]
    },
    {
     "name": "stderr",
     "output_type": "stream",
     "text": [
      "/home/ubuntu/source/diff-classifier/diff_classifier/features.py:510: RuntimeWarning: divide by zero encountered in double_scalars\n",
      "  aspratio = width/height\n"
     ]
    },
    {
     "name": "stdout",
     "output_type": "stream",
     "text": [
      "Optimal parameters not found. Print NaN instead.\n"
     ]
    },
    {
     "name": "stderr",
     "output_type": "stream",
     "text": [
      "/home/ubuntu/miniconda3/lib/python3.6/site-packages/scipy/optimize/minpack.py:779: OptimizeWarning: Covariance of the parameters could not be estimated\n",
      "  category=OptimizeWarning)\n"
     ]
    },
    {
     "name": "stdout",
     "output_type": "stream",
     "text": [
      "Successfully output msds for OGD_0_5h_slice_1_striatum_vid_3\n",
      "Done calculating MSDs for row 0 and col 1\n",
      "Done calculating MSDs for row 0 and col 2\n",
      "Done calculating MSDs for row 0 and col 3\n",
      "Done calculating MSDs for row 1 and col 0\n",
      "Done calculating MSDs for row 1 and col 1\n",
      "Done calculating MSDs for row 1 and col 2\n",
      "Done calculating MSDs for row 1 and col 3\n",
      "Done calculating MSDs for row 2 and col 0\n",
      "Done calculating MSDs for row 2 and col 1\n",
      "Done calculating MSDs for row 2 and col 2\n",
      "Done calculating MSDs for row 2 and col 3\n",
      "Done calculating MSDs for row 3 and col 0\n",
      "Done calculating MSDs for row 3 and col 1\n",
      "Done calculating MSDs for row 3 and col 2\n",
      "Done calculating MSDs for row 3 and col 3\n"
     ]
    },
    {
     "name": "stderr",
     "output_type": "stream",
     "text": [
      "/home/ubuntu/source/diff-classifier/diff_classifier/features.py:510: RuntimeWarning: divide by zero encountered in double_scalars\n",
      "  aspratio = width/height\n",
      "/home/ubuntu/miniconda3/lib/python3.6/site-packages/scipy/optimize/minpack.py:779: OptimizeWarning: Covariance of the parameters could not be estimated\n",
      "  category=OptimizeWarning)\n"
     ]
    },
    {
     "name": "stdout",
     "output_type": "stream",
     "text": [
      "Optimal parameters not found. Print NaN instead.\n",
      "Optimal parameters not found. Print NaN instead.\n",
      "Optimal parameters not found. Print NaN instead.\n",
      "Optimal parameters not found. Print NaN instead.\n",
      "Optimal parameters not found. Print NaN instead.\n",
      "Optimal parameters not found. Print NaN instead.\n",
      "Optimal parameters not found. Print NaN instead.\n",
      "Optimal parameters not found. Print NaN instead.\n",
      "Optimal parameters not found. Print NaN instead.\n",
      "Optimal parameters not found. Print NaN instead.\n"
     ]
    },
    {
     "name": "stderr",
     "output_type": "stream",
     "text": [
      "/home/ubuntu/source/diff-classifier/diff_classifier/features.py:717: RuntimeWarning: divide by zero encountered in double_scalars\n",
      "  ratio = (dframe['MSDs'][fram1]/dframe['MSDs'][fram2]) - (\n"
     ]
    },
    {
     "name": "stdout",
     "output_type": "stream",
     "text": [
      "Successfully output msds for OGD_0_5h_slice_1_striatum_vid_4\n",
      "Done calculating MSDs for row 0 and col 1\n",
      "Done calculating MSDs for row 0 and col 2\n",
      "Done calculating MSDs for row 0 and col 3\n",
      "Done calculating MSDs for row 1 and col 0\n",
      "Done calculating MSDs for row 1 and col 1\n",
      "Done calculating MSDs for row 1 and col 2\n",
      "Done calculating MSDs for row 1 and col 3\n",
      "Done calculating MSDs for row 2 and col 0\n",
      "Done calculating MSDs for row 2 and col 1\n",
      "Done calculating MSDs for row 2 and col 2\n",
      "Done calculating MSDs for row 2 and col 3\n",
      "Done calculating MSDs for row 3 and col 0\n",
      "Done calculating MSDs for row 3 and col 1\n",
      "Done calculating MSDs for row 3 and col 2\n",
      "Done calculating MSDs for row 3 and col 3\n"
     ]
    },
    {
     "name": "stderr",
     "output_type": "stream",
     "text": [
      "/home/ubuntu/source/diff-classifier/diff_classifier/features.py:510: RuntimeWarning: divide by zero encountered in double_scalars\n",
      "  aspratio = width/height\n"
     ]
    },
    {
     "name": "stdout",
     "output_type": "stream",
     "text": [
      "Optimal parameters not found. Print NaN instead.\n",
      "Optimal parameters not found. Print NaN instead.\n"
     ]
    },
    {
     "name": "stderr",
     "output_type": "stream",
     "text": [
      "/home/ubuntu/source/diff-classifier/diff_classifier/features.py:717: RuntimeWarning: divide by zero encountered in double_scalars\n",
      "  ratio = (dframe['MSDs'][fram1]/dframe['MSDs'][fram2]) - (\n"
     ]
    },
    {
     "name": "stdout",
     "output_type": "stream",
     "text": [
      "Optimal parameters not found. Print NaN instead.\n",
      "Optimal parameters not found. Print NaN instead.\n",
      "Optimal parameters not found. Print NaN instead.\n",
      "Optimal parameters not found. Print NaN instead.\n",
      "Optimal parameters not found. Print NaN instead.\n",
      "Successfully output msds for OGD_0_5h_slice_1_striatum_vid_5\n",
      "Done calculating MSDs for row 0 and col 1\n",
      "Done calculating MSDs for row 0 and col 2\n",
      "Done calculating MSDs for row 0 and col 3\n",
      "Done calculating MSDs for row 1 and col 0\n",
      "Done calculating MSDs for row 1 and col 1\n",
      "Done calculating MSDs for row 1 and col 2\n",
      "Done calculating MSDs for row 1 and col 3\n",
      "Done calculating MSDs for row 2 and col 0\n",
      "Done calculating MSDs for row 2 and col 1\n",
      "Done calculating MSDs for row 2 and col 2\n",
      "Done calculating MSDs for row 2 and col 3\n",
      "Done calculating MSDs for row 3 and col 0\n",
      "Done calculating MSDs for row 3 and col 1\n",
      "Done calculating MSDs for row 3 and col 2\n",
      "Done calculating MSDs for row 3 and col 3\n"
     ]
    },
    {
     "name": "stderr",
     "output_type": "stream",
     "text": [
      "/home/ubuntu/source/diff-classifier/diff_classifier/features.py:510: RuntimeWarning: divide by zero encountered in double_scalars\n",
      "  aspratio = width/height\n"
     ]
    },
    {
     "name": "stdout",
     "output_type": "stream",
     "text": [
      "Optimal parameters not found. Print NaN instead.\n",
      "Optimal parameters not found. Print NaN instead.\n",
      "Optimal parameters not found. Print NaN instead.\n",
      "Optimal parameters not found. Print NaN instead.\n",
      "Optimal parameters not found. Print NaN instead.\n",
      "Optimal parameters not found. Print NaN instead.\n",
      "Optimal parameters not found. Print NaN instead.\n",
      "Optimal parameters not found. Print NaN instead.\n",
      "Optimal parameters not found. Print NaN instead.\n",
      "Optimal parameters not found. Print NaN instead.\n",
      "Optimal parameters not found. Print NaN instead.\n",
      "Optimal parameters not found. Print NaN instead.\n",
      "Optimal parameters not found. Print NaN instead.\n",
      "Optimal parameters not found. Print NaN instead.\n",
      "Optimal parameters not found. Print NaN instead.\n",
      "Optimal parameters not found. Print NaN instead.\n",
      "Optimal parameters not found. Print NaN instead.\n",
      "Optimal parameters not found. Print NaN instead.\n",
      "Optimal parameters not found. Print NaN instead.\n",
      "Optimal parameters not found. Print NaN instead.\n",
      "Optimal parameters not found. Print NaN instead.\n",
      "Optimal parameters not found. Print NaN instead.\n",
      "Optimal parameters not found. Print NaN instead.\n",
      "Optimal parameters not found. Print NaN instead.\n"
     ]
    },
    {
     "name": "stderr",
     "output_type": "stream",
     "text": [
      "/home/ubuntu/source/diff-classifier/diff_classifier/features.py:717: RuntimeWarning: divide by zero encountered in double_scalars\n",
      "  ratio = (dframe['MSDs'][fram1]/dframe['MSDs'][fram2]) - (\n"
     ]
    },
    {
     "name": "stdout",
     "output_type": "stream",
     "text": [
      "Optimal parameters not found. Print NaN instead.\n",
      "Optimal parameters not found. Print NaN instead.\n",
      "Optimal parameters not found. Print NaN instead.\n",
      "Optimal parameters not found. Print NaN instead.\n",
      "Optimal parameters not found. Print NaN instead.\n"
     ]
    },
    {
     "name": "stderr",
     "output_type": "stream",
     "text": [
      "/home/ubuntu/miniconda3/lib/python3.6/site-packages/scipy/optimize/minpack.py:779: OptimizeWarning: Covariance of the parameters could not be estimated\n",
      "  category=OptimizeWarning)\n"
     ]
    },
    {
     "name": "stdout",
     "output_type": "stream",
     "text": [
      "Optimal parameters not found. Print NaN instead.\n",
      "Optimal parameters not found. Print NaN instead.\n",
      "Optimal parameters not found. Print NaN instead.\n",
      "Optimal parameters not found. Print NaN instead.\n",
      "Optimal parameters not found. Print NaN instead.\n",
      "Optimal parameters not found. Print NaN instead.\n",
      "Optimal parameters not found. Print NaN instead.\n",
      "Optimal parameters not found. Print NaN instead.\n",
      "Optimal parameters not found. Print NaN instead.\n",
      "Successfully output msds for OGD_0_5h_slice_2_cortex_vid_1\n",
      "Done calculating MSDs for row 0 and col 1\n",
      "Done calculating MSDs for row 0 and col 2\n",
      "Done calculating MSDs for row 0 and col 3\n",
      "Done calculating MSDs for row 1 and col 0\n",
      "Done calculating MSDs for row 1 and col 1\n",
      "Done calculating MSDs for row 1 and col 2\n",
      "Done calculating MSDs for row 1 and col 3\n",
      "Done calculating MSDs for row 2 and col 0\n",
      "Done calculating MSDs for row 2 and col 1\n",
      "Done calculating MSDs for row 2 and col 2\n",
      "Done calculating MSDs for row 2 and col 3\n",
      "Done calculating MSDs for row 3 and col 0\n",
      "Done calculating MSDs for row 3 and col 1\n",
      "Done calculating MSDs for row 3 and col 2\n",
      "Done calculating MSDs for row 3 and col 3\n"
     ]
    },
    {
     "name": "stderr",
     "output_type": "stream",
     "text": [
      "/home/ubuntu/source/diff-classifier/diff_classifier/features.py:510: RuntimeWarning: divide by zero encountered in double_scalars\n",
      "  aspratio = width/height\n"
     ]
    },
    {
     "name": "stdout",
     "output_type": "stream",
     "text": [
      "Optimal parameters not found. Print NaN instead.\n",
      "Optimal parameters not found. Print NaN instead.\n"
     ]
    },
    {
     "name": "stderr",
     "output_type": "stream",
     "text": [
      "/home/ubuntu/source/diff-classifier/diff_classifier/features.py:717: RuntimeWarning: divide by zero encountered in double_scalars\n",
      "  ratio = (dframe['MSDs'][fram1]/dframe['MSDs'][fram2]) - (\n"
     ]
    },
    {
     "name": "stdout",
     "output_type": "stream",
     "text": [
      "Optimal parameters not found. Print NaN instead.\n",
      "Optimal parameters not found. Print NaN instead.\n",
      "Optimal parameters not found. Print NaN instead.\n",
      "Optimal parameters not found. Print NaN instead.\n",
      "Optimal parameters not found. Print NaN instead.\n",
      "Optimal parameters not found. Print NaN instead.\n",
      "Optimal parameters not found. Print NaN instead.\n",
      "Optimal parameters not found. Print NaN instead.\n",
      "Optimal parameters not found. Print NaN instead.\n",
      "Optimal parameters not found. Print NaN instead.\n",
      "Optimal parameters not found. Print NaN instead.\n",
      "Optimal parameters not found. Print NaN instead.\n",
      "Optimal parameters not found. Print NaN instead.\n",
      "Optimal parameters not found. Print NaN instead.\n",
      "Optimal parameters not found. Print NaN instead.\n",
      "Optimal parameters not found. Print NaN instead.\n",
      "Optimal parameters not found. Print NaN instead.\n",
      "Optimal parameters not found. Print NaN instead.\n",
      "Optimal parameters not found. Print NaN instead.\n",
      "Optimal parameters not found. Print NaN instead.\n",
      "Optimal parameters not found. Print NaN instead.\n",
      "Optimal parameters not found. Print NaN instead.\n",
      "Optimal parameters not found. Print NaN instead.\n",
      "Optimal parameters not found. Print NaN instead.\n",
      "Optimal parameters not found. Print NaN instead.\n"
     ]
    },
    {
     "name": "stderr",
     "output_type": "stream",
     "text": [
      "/home/ubuntu/source/diff-classifier/diff_classifier/features.py:313: RuntimeWarning: invalid value encountered in double_scalars\n",
      "  asym1 = (eig1**2 - eig2**2)**2/(eig1**2 + eig2**2)**2\n",
      "/home/ubuntu/source/diff-classifier/diff_classifier/features.py:314: RuntimeWarning: invalid value encountered in double_scalars\n",
      "  asym2 = eig2/eig1\n",
      "/home/ubuntu/source/diff-classifier/diff_classifier/features.py:315: RuntimeWarning: invalid value encountered in double_scalars\n",
      "  asym3 = -np.log(1-((eig1-eig2)**2)/(2*(eig1+eig2)**2))\n",
      "/home/ubuntu/source/diff-classifier/diff_classifier/features.py:510: RuntimeWarning: invalid value encountered in double_scalars\n",
      "  aspratio = width/height\n",
      "/home/ubuntu/source/diff-classifier/diff_classifier/features.py:602: RuntimeWarning: invalid value encountered in double_scalars\n",
      "  bound = dcoef*fram/(rad**2)\n",
      "/home/ubuntu/source/diff-classifier/diff_classifier/features.py:603: RuntimeWarning: invalid value encountered in double_scalars\n",
      "  fractd = np.log(N)/np.log(N*2*rad/netdisp)\n",
      "/home/ubuntu/source/diff-classifier/diff_classifier/features.py:604: RuntimeWarning: invalid value encountered in double_scalars\n",
      "  probf = 1 - np.exp(0.2048 - 0.25117*(dcoef*fram/(rad**2)))\n",
      "/home/ubuntu/source/diff-classifier/diff_classifier/features.py:667: RuntimeWarning: invalid value encountered in double_scalars\n",
      "  eff = num/den\n",
      "/home/ubuntu/source/diff-classifier/diff_classifier/features.py:668: RuntimeWarning: invalid value encountered in double_scalars\n",
      "  strait = num2/den2\n",
      "/home/ubuntu/source/diff-classifier/diff_classifier/features.py:717: RuntimeWarning: invalid value encountered in double_scalars\n",
      "  ratio = (dframe['MSDs'][fram1]/dframe['MSDs'][fram2]) - (\n"
     ]
    },
    {
     "name": "stdout",
     "output_type": "stream",
     "text": [
      "Optimal parameters not found. Print NaN instead.\n",
      "Optimal parameters not found. Print NaN instead.\n",
      "Optimal parameters not found. Print NaN instead.\n",
      "Optimal parameters not found. Print NaN instead.\n",
      "Optimal parameters not found. Print NaN instead.\n",
      "Optimal parameters not found. Print NaN instead.\n"
     ]
    },
    {
     "name": "stderr",
     "output_type": "stream",
     "text": [
      "/home/ubuntu/miniconda3/lib/python3.6/site-packages/scipy/optimize/minpack.py:779: OptimizeWarning: Covariance of the parameters could not be estimated\n",
      "  category=OptimizeWarning)\n"
     ]
    },
    {
     "name": "stdout",
     "output_type": "stream",
     "text": [
      "Successfully output msds for OGD_0_5h_slice_2_cortex_vid_2\n",
      "Done calculating MSDs for row 0 and col 1\n",
      "Done calculating MSDs for row 0 and col 2\n",
      "Done calculating MSDs for row 0 and col 3\n",
      "Done calculating MSDs for row 1 and col 0\n",
      "Done calculating MSDs for row 1 and col 1\n",
      "Done calculating MSDs for row 1 and col 2\n",
      "Done calculating MSDs for row 1 and col 3\n",
      "Done calculating MSDs for row 2 and col 0\n",
      "Done calculating MSDs for row 2 and col 1\n",
      "Done calculating MSDs for row 2 and col 2\n",
      "Done calculating MSDs for row 2 and col 3\n",
      "Done calculating MSDs for row 3 and col 0\n",
      "Done calculating MSDs for row 3 and col 1\n",
      "Done calculating MSDs for row 3 and col 2\n",
      "Done calculating MSDs for row 3 and col 3\n",
      "Optimal parameters not found. Print NaN instead.\n",
      "Optimal parameters not found. Print NaN instead.\n",
      "Optimal parameters not found. Print NaN instead.\n",
      "Optimal parameters not found. Print NaN instead.\n",
      "Optimal parameters not found. Print NaN instead.\n",
      "Optimal parameters not found. Print NaN instead.\n",
      "Optimal parameters not found. Print NaN instead.\n"
     ]
    },
    {
     "name": "stderr",
     "output_type": "stream",
     "text": [
      "/home/ubuntu/source/diff-classifier/diff_classifier/features.py:510: RuntimeWarning: divide by zero encountered in double_scalars\n",
      "  aspratio = width/height\n",
      "/home/ubuntu/source/diff-classifier/diff_classifier/features.py:717: RuntimeWarning: divide by zero encountered in double_scalars\n",
      "  ratio = (dframe['MSDs'][fram1]/dframe['MSDs'][fram2]) - (\n"
     ]
    },
    {
     "name": "stdout",
     "output_type": "stream",
     "text": [
      "Optimal parameters not found. Print NaN instead.\n",
      "Optimal parameters not found. Print NaN instead.\n",
      "Optimal parameters not found. Print NaN instead.\n",
      "Optimal parameters not found. Print NaN instead.\n"
     ]
    },
    {
     "name": "stderr",
     "output_type": "stream",
     "text": [
      "/home/ubuntu/miniconda3/lib/python3.6/site-packages/scipy/optimize/minpack.py:779: OptimizeWarning: Covariance of the parameters could not be estimated\n",
      "  category=OptimizeWarning)\n"
     ]
    },
    {
     "name": "stdout",
     "output_type": "stream",
     "text": [
      "Optimal parameters not found. Print NaN instead.\n",
      "Optimal parameters not found. Print NaN instead.\n",
      "Optimal parameters not found. Print NaN instead.\n",
      "Optimal parameters not found. Print NaN instead.\n",
      "Optimal parameters not found. Print NaN instead.\n",
      "Optimal parameters not found. Print NaN instead.\n",
      "Optimal parameters not found. Print NaN instead.\n",
      "Optimal parameters not found. Print NaN instead.\n",
      "Optimal parameters not found. Print NaN instead.\n",
      "Optimal parameters not found. Print NaN instead.\n",
      "Optimal parameters not found. Print NaN instead.\n",
      "Optimal parameters not found. Print NaN instead.\n",
      "Optimal parameters not found. Print NaN instead.\n",
      "Optimal parameters not found. Print NaN instead.\n",
      "Optimal parameters not found. Print NaN instead.\n",
      "Optimal parameters not found. Print NaN instead.\n",
      "Optimal parameters not found. Print NaN instead.\n",
      "Optimal parameters not found. Print NaN instead.\n",
      "Optimal parameters not found. Print NaN instead.\n",
      "Optimal parameters not found. Print NaN instead.\n",
      "Optimal parameters not found. Print NaN instead.\n",
      "Optimal parameters not found. Print NaN instead.\n",
      "Optimal parameters not found. Print NaN instead.\n",
      "Optimal parameters not found. Print NaN instead.\n",
      "Optimal parameters not found. Print NaN instead.\n",
      "Optimal parameters not found. Print NaN instead.\n",
      "Optimal parameters not found. Print NaN instead.\n",
      "Optimal parameters not found. Print NaN instead.\n",
      "Optimal parameters not found. Print NaN instead.\n",
      "Optimal parameters not found. Print NaN instead.\n",
      "Optimal parameters not found. Print NaN instead.\n",
      "Optimal parameters not found. Print NaN instead.\n",
      "Optimal parameters not found. Print NaN instead.\n",
      "Optimal parameters not found. Print NaN instead.\n",
      "Optimal parameters not found. Print NaN instead.\n",
      "Optimal parameters not found. Print NaN instead.\n",
      "Optimal parameters not found. Print NaN instead.\n",
      "Optimal parameters not found. Print NaN instead.\n",
      "Optimal parameters not found. Print NaN instead.\n",
      "Optimal parameters not found. Print NaN instead.\n",
      "Optimal parameters not found. Print NaN instead.\n",
      "Optimal parameters not found. Print NaN instead.\n",
      "Optimal parameters not found. Print NaN instead.\n",
      "Optimal parameters not found. Print NaN instead.\n",
      "Optimal parameters not found. Print NaN instead.\n",
      "Optimal parameters not found. Print NaN instead.\n",
      "Successfully output msds for OGD_0_5h_slice_2_cortex_vid_3\n",
      "Done calculating MSDs for row 0 and col 1\n",
      "Done calculating MSDs for row 0 and col 2\n",
      "Done calculating MSDs for row 0 and col 3\n",
      "Done calculating MSDs for row 1 and col 0\n",
      "Done calculating MSDs for row 1 and col 1\n",
      "Done calculating MSDs for row 1 and col 2\n",
      "Done calculating MSDs for row 1 and col 3\n",
      "Done calculating MSDs for row 2 and col 0\n",
      "Done calculating MSDs for row 2 and col 1\n",
      "Done calculating MSDs for row 2 and col 2\n",
      "Done calculating MSDs for row 2 and col 3\n",
      "Done calculating MSDs for row 3 and col 0\n",
      "Done calculating MSDs for row 3 and col 1\n",
      "Done calculating MSDs for row 3 and col 2\n",
      "Done calculating MSDs for row 3 and col 3\n"
     ]
    },
    {
     "name": "stderr",
     "output_type": "stream",
     "text": [
      "/home/ubuntu/source/diff-classifier/diff_classifier/features.py:510: RuntimeWarning: divide by zero encountered in double_scalars\n",
      "  aspratio = width/height\n"
     ]
    },
    {
     "name": "stdout",
     "output_type": "stream",
     "text": [
      "Optimal parameters not found. Print NaN instead.\n",
      "Optimal parameters not found. Print NaN instead.\n",
      "Optimal parameters not found. Print NaN instead.\n",
      "Optimal parameters not found. Print NaN instead.\n",
      "Optimal parameters not found. Print NaN instead.\n",
      "Optimal parameters not found. Print NaN instead.\n",
      "Optimal parameters not found. Print NaN instead.\n",
      "Optimal parameters not found. Print NaN instead.\n"
     ]
    },
    {
     "name": "stderr",
     "output_type": "stream",
     "text": [
      "/home/ubuntu/miniconda3/lib/python3.6/site-packages/scipy/optimize/minpack.py:779: OptimizeWarning: Covariance of the parameters could not be estimated\n",
      "  category=OptimizeWarning)\n"
     ]
    },
    {
     "name": "stdout",
     "output_type": "stream",
     "text": [
      "Optimal parameters not found. Print NaN instead.\n",
      "Optimal parameters not found. Print NaN instead.\n",
      "Optimal parameters not found. Print NaN instead.\n",
      "Optimal parameters not found. Print NaN instead.\n",
      "Optimal parameters not found. Print NaN instead.\n",
      "Optimal parameters not found. Print NaN instead.\n"
     ]
    },
    {
     "name": "stderr",
     "output_type": "stream",
     "text": [
      "/home/ubuntu/source/diff-classifier/diff_classifier/features.py:717: RuntimeWarning: divide by zero encountered in double_scalars\n",
      "  ratio = (dframe['MSDs'][fram1]/dframe['MSDs'][fram2]) - (\n"
     ]
    },
    {
     "name": "stdout",
     "output_type": "stream",
     "text": [
      "Optimal parameters not found. Print NaN instead.\n",
      "Optimal parameters not found. Print NaN instead.\n",
      "Optimal parameters not found. Print NaN instead.\n",
      "Optimal parameters not found. Print NaN instead.\n",
      "Optimal parameters not found. Print NaN instead.\n",
      "Optimal parameters not found. Print NaN instead.\n",
      "Optimal parameters not found. Print NaN instead.\n",
      "Optimal parameters not found. Print NaN instead.\n",
      "Optimal parameters not found. Print NaN instead.\n",
      "Optimal parameters not found. Print NaN instead.\n",
      "Optimal parameters not found. Print NaN instead.\n",
      "Optimal parameters not found. Print NaN instead.\n",
      "Optimal parameters not found. Print NaN instead.\n",
      "Optimal parameters not found. Print NaN instead.\n",
      "Optimal parameters not found. Print NaN instead.\n",
      "Optimal parameters not found. Print NaN instead.\n",
      "Optimal parameters not found. Print NaN instead.\n",
      "Optimal parameters not found. Print NaN instead.\n",
      "Optimal parameters not found. Print NaN instead.\n",
      "Optimal parameters not found. Print NaN instead.\n",
      "Optimal parameters not found. Print NaN instead.\n",
      "Optimal parameters not found. Print NaN instead.\n",
      "Optimal parameters not found. Print NaN instead.\n",
      "Optimal parameters not found. Print NaN instead.\n",
      "Optimal parameters not found. Print NaN instead.\n",
      "Optimal parameters not found. Print NaN instead.\n",
      "Optimal parameters not found. Print NaN instead.\n",
      "Optimal parameters not found. Print NaN instead.\n",
      "Successfully output msds for OGD_0_5h_slice_2_cortex_vid_4\n",
      "Done calculating MSDs for row 0 and col 1\n",
      "Done calculating MSDs for row 0 and col 2\n",
      "Done calculating MSDs for row 0 and col 3\n",
      "Done calculating MSDs for row 1 and col 0\n",
      "Done calculating MSDs for row 1 and col 1\n",
      "Done calculating MSDs for row 1 and col 2\n",
      "Done calculating MSDs for row 1 and col 3\n",
      "Done calculating MSDs for row 2 and col 0\n",
      "Done calculating MSDs for row 2 and col 1\n",
      "Done calculating MSDs for row 2 and col 2\n",
      "Done calculating MSDs for row 2 and col 3\n",
      "Done calculating MSDs for row 3 and col 0\n",
      "Done calculating MSDs for row 3 and col 1\n",
      "Done calculating MSDs for row 3 and col 2\n",
      "Done calculating MSDs for row 3 and col 3\n"
     ]
    },
    {
     "name": "stderr",
     "output_type": "stream",
     "text": [
      "/home/ubuntu/source/diff-classifier/diff_classifier/features.py:510: RuntimeWarning: divide by zero encountered in double_scalars\n",
      "  aspratio = width/height\n"
     ]
    },
    {
     "name": "stdout",
     "output_type": "stream",
     "text": [
      "Optimal parameters not found. Print NaN instead.\n",
      "Optimal parameters not found. Print NaN instead.\n",
      "Optimal parameters not found. Print NaN instead.\n",
      "Optimal parameters not found. Print NaN instead.\n"
     ]
    },
    {
     "name": "stderr",
     "output_type": "stream",
     "text": [
      "/home/ubuntu/miniconda3/lib/python3.6/site-packages/scipy/optimize/minpack.py:779: OptimizeWarning: Covariance of the parameters could not be estimated\n",
      "  category=OptimizeWarning)\n"
     ]
    },
    {
     "name": "stdout",
     "output_type": "stream",
     "text": [
      "Optimal parameters not found. Print NaN instead.\n",
      "Optimal parameters not found. Print NaN instead.\n"
     ]
    },
    {
     "name": "stderr",
     "output_type": "stream",
     "text": [
      "/home/ubuntu/source/diff-classifier/diff_classifier/features.py:717: RuntimeWarning: divide by zero encountered in double_scalars\n",
      "  ratio = (dframe['MSDs'][fram1]/dframe['MSDs'][fram2]) - (\n"
     ]
    },
    {
     "name": "stdout",
     "output_type": "stream",
     "text": [
      "Optimal parameters not found. Print NaN instead.\n",
      "Optimal parameters not found. Print NaN instead.\n",
      "Optimal parameters not found. Print NaN instead.\n",
      "Optimal parameters not found. Print NaN instead.\n",
      "Optimal parameters not found. Print NaN instead.\n",
      "Optimal parameters not found. Print NaN instead.\n",
      "Optimal parameters not found. Print NaN instead.\n",
      "Optimal parameters not found. Print NaN instead.\n",
      "Optimal parameters not found. Print NaN instead.\n",
      "Optimal parameters not found. Print NaN instead.\n",
      "Optimal parameters not found. Print NaN instead.\n",
      "Optimal parameters not found. Print NaN instead.\n",
      "Optimal parameters not found. Print NaN instead.\n",
      "Optimal parameters not found. Print NaN instead.\n",
      "Optimal parameters not found. Print NaN instead.\n",
      "Optimal parameters not found. Print NaN instead.\n",
      "Optimal parameters not found. Print NaN instead.\n",
      "Optimal parameters not found. Print NaN instead.\n",
      "Optimal parameters not found. Print NaN instead.\n",
      "Successfully output msds for OGD_0_5h_slice_2_cortex_vid_5\n",
      "Done calculating MSDs for row 0 and col 1\n",
      "Done calculating MSDs for row 0 and col 2\n",
      "Done calculating MSDs for row 0 and col 3\n",
      "Done calculating MSDs for row 1 and col 0\n",
      "Done calculating MSDs for row 1 and col 1\n",
      "Done calculating MSDs for row 1 and col 2\n",
      "Done calculating MSDs for row 1 and col 3\n",
      "Done calculating MSDs for row 2 and col 0\n",
      "Done calculating MSDs for row 2 and col 1\n",
      "Done calculating MSDs for row 2 and col 2\n",
      "Done calculating MSDs for row 2 and col 3\n",
      "Done calculating MSDs for row 3 and col 0\n",
      "Done calculating MSDs for row 3 and col 1\n",
      "Done calculating MSDs for row 3 and col 2\n",
      "Done calculating MSDs for row 3 and col 3\n",
      "Optimal parameters not found. Print NaN instead.\n"
     ]
    },
    {
     "name": "stderr",
     "output_type": "stream",
     "text": [
      "/home/ubuntu/source/diff-classifier/diff_classifier/features.py:510: RuntimeWarning: divide by zero encountered in double_scalars\n",
      "  aspratio = width/height\n"
     ]
    },
    {
     "name": "stdout",
     "output_type": "stream",
     "text": [
      "Optimal parameters not found. Print NaN instead.\n",
      "Optimal parameters not found. Print NaN instead.\n",
      "Optimal parameters not found. Print NaN instead.\n",
      "Optimal parameters not found. Print NaN instead.\n",
      "Optimal parameters not found. Print NaN instead.\n",
      "Optimal parameters not found. Print NaN instead.\n",
      "Optimal parameters not found. Print NaN instead.\n"
     ]
    },
    {
     "name": "stderr",
     "output_type": "stream",
     "text": [
      "/home/ubuntu/miniconda3/lib/python3.6/site-packages/scipy/optimize/minpack.py:779: OptimizeWarning: Covariance of the parameters could not be estimated\n",
      "  category=OptimizeWarning)\n"
     ]
    },
    {
     "name": "stdout",
     "output_type": "stream",
     "text": [
      "Optimal parameters not found. Print NaN instead.\n",
      "Optimal parameters not found. Print NaN instead.\n",
      "Optimal parameters not found. Print NaN instead.\n",
      "Optimal parameters not found. Print NaN instead.\n",
      "Optimal parameters not found. Print NaN instead.\n",
      "Optimal parameters not found. Print NaN instead.\n",
      "Optimal parameters not found. Print NaN instead.\n",
      "Optimal parameters not found. Print NaN instead.\n"
     ]
    },
    {
     "name": "stderr",
     "output_type": "stream",
     "text": [
      "/home/ubuntu/source/diff-classifier/diff_classifier/features.py:717: RuntimeWarning: divide by zero encountered in double_scalars\n",
      "  ratio = (dframe['MSDs'][fram1]/dframe['MSDs'][fram2]) - (\n"
     ]
    },
    {
     "name": "stdout",
     "output_type": "stream",
     "text": [
      "Optimal parameters not found. Print NaN instead.\n",
      "Optimal parameters not found. Print NaN instead.\n",
      "Optimal parameters not found. Print NaN instead.\n",
      "Optimal parameters not found. Print NaN instead.\n",
      "Optimal parameters not found. Print NaN instead.\n",
      "Optimal parameters not found. Print NaN instead.\n",
      "Optimal parameters not found. Print NaN instead.\n",
      "Successfully output msds for OGD_0_5h_slice_2_striatum_vid_1\n",
      "Done calculating MSDs for row 0 and col 1\n",
      "Done calculating MSDs for row 0 and col 2\n",
      "Done calculating MSDs for row 0 and col 3\n",
      "Done calculating MSDs for row 1 and col 0\n",
      "Done calculating MSDs for row 1 and col 1\n",
      "Done calculating MSDs for row 1 and col 2\n",
      "Done calculating MSDs for row 1 and col 3\n",
      "Done calculating MSDs for row 2 and col 0\n",
      "Done calculating MSDs for row 2 and col 1\n",
      "Done calculating MSDs for row 2 and col 2\n",
      "Done calculating MSDs for row 2 and col 3\n",
      "Done calculating MSDs for row 3 and col 0\n",
      "Done calculating MSDs for row 3 and col 1\n",
      "Done calculating MSDs for row 3 and col 2\n",
      "Done calculating MSDs for row 3 and col 3\n",
      "Optimal parameters not found. Print NaN instead.\n",
      "Optimal parameters not found. Print NaN instead.\n",
      "Optimal parameters not found. Print NaN instead.\n"
     ]
    },
    {
     "name": "stderr",
     "output_type": "stream",
     "text": [
      "/home/ubuntu/source/diff-classifier/diff_classifier/features.py:510: RuntimeWarning: divide by zero encountered in double_scalars\n",
      "  aspratio = width/height\n"
     ]
    },
    {
     "name": "stdout",
     "output_type": "stream",
     "text": [
      "Optimal parameters not found. Print NaN instead.\n",
      "Optimal parameters not found. Print NaN instead.\n",
      "Optimal parameters not found. Print NaN instead.\n",
      "Optimal parameters not found. Print NaN instead.\n",
      "Optimal parameters not found. Print NaN instead.\n",
      "Optimal parameters not found. Print NaN instead.\n",
      "Optimal parameters not found. Print NaN instead.\n",
      "Optimal parameters not found. Print NaN instead.\n",
      "Optimal parameters not found. Print NaN instead.\n",
      "Optimal parameters not found. Print NaN instead.\n",
      "Optimal parameters not found. Print NaN instead.\n",
      "Optimal parameters not found. Print NaN instead.\n",
      "Optimal parameters not found. Print NaN instead.\n"
     ]
    },
    {
     "name": "stderr",
     "output_type": "stream",
     "text": [
      "/home/ubuntu/miniconda3/lib/python3.6/site-packages/scipy/optimize/minpack.py:779: OptimizeWarning: Covariance of the parameters could not be estimated\n",
      "  category=OptimizeWarning)\n"
     ]
    },
    {
     "name": "stdout",
     "output_type": "stream",
     "text": [
      "Optimal parameters not found. Print NaN instead.\n"
     ]
    },
    {
     "name": "stderr",
     "output_type": "stream",
     "text": [
      "/home/ubuntu/source/diff-classifier/diff_classifier/features.py:717: RuntimeWarning: divide by zero encountered in double_scalars\n",
      "  ratio = (dframe['MSDs'][fram1]/dframe['MSDs'][fram2]) - (\n"
     ]
    },
    {
     "name": "stdout",
     "output_type": "stream",
     "text": [
      "Optimal parameters not found. Print NaN instead.\n",
      "Optimal parameters not found. Print NaN instead.\n",
      "Optimal parameters not found. Print NaN instead.\n",
      "Optimal parameters not found. Print NaN instead.\n",
      "Optimal parameters not found. Print NaN instead.\n",
      "Optimal parameters not found. Print NaN instead.\n",
      "Optimal parameters not found. Print NaN instead.\n",
      "Optimal parameters not found. Print NaN instead.\n",
      "Optimal parameters not found. Print NaN instead.\n",
      "Optimal parameters not found. Print NaN instead.\n",
      "Optimal parameters not found. Print NaN instead.\n",
      "Optimal parameters not found. Print NaN instead.\n",
      "Optimal parameters not found. Print NaN instead.\n",
      "Successfully output msds for OGD_0_5h_slice_2_striatum_vid_2\n",
      "Done calculating MSDs for row 0 and col 1\n",
      "Done calculating MSDs for row 0 and col 2\n",
      "Done calculating MSDs for row 0 and col 3\n",
      "Done calculating MSDs for row 1 and col 0\n",
      "Done calculating MSDs for row 1 and col 1\n",
      "Done calculating MSDs for row 1 and col 2\n",
      "Done calculating MSDs for row 1 and col 3\n",
      "Done calculating MSDs for row 2 and col 0\n",
      "Done calculating MSDs for row 2 and col 1\n",
      "Done calculating MSDs for row 2 and col 2\n",
      "Done calculating MSDs for row 2 and col 3\n",
      "Done calculating MSDs for row 3 and col 0\n",
      "Done calculating MSDs for row 3 and col 1\n",
      "Done calculating MSDs for row 3 and col 2\n",
      "Done calculating MSDs for row 3 and col 3\n",
      "Optimal parameters not found. Print NaN instead.\n"
     ]
    },
    {
     "name": "stderr",
     "output_type": "stream",
     "text": [
      "/home/ubuntu/source/diff-classifier/diff_classifier/features.py:510: RuntimeWarning: divide by zero encountered in double_scalars\n",
      "  aspratio = width/height\n"
     ]
    },
    {
     "name": "stdout",
     "output_type": "stream",
     "text": [
      "Optimal parameters not found. Print NaN instead.\n",
      "Optimal parameters not found. Print NaN instead.\n"
     ]
    },
    {
     "name": "stderr",
     "output_type": "stream",
     "text": [
      "/home/ubuntu/miniconda3/lib/python3.6/site-packages/scipy/optimize/minpack.py:779: OptimizeWarning: Covariance of the parameters could not be estimated\n",
      "  category=OptimizeWarning)\n"
     ]
    },
    {
     "name": "stdout",
     "output_type": "stream",
     "text": [
      "Optimal parameters not found. Print NaN instead.\n",
      "Optimal parameters not found. Print NaN instead.\n",
      "Optimal parameters not found. Print NaN instead.\n",
      "Optimal parameters not found. Print NaN instead.\n",
      "Optimal parameters not found. Print NaN instead.\n",
      "Optimal parameters not found. Print NaN instead.\n",
      "Optimal parameters not found. Print NaN instead.\n"
     ]
    },
    {
     "name": "stderr",
     "output_type": "stream",
     "text": [
      "/home/ubuntu/source/diff-classifier/diff_classifier/features.py:717: RuntimeWarning: divide by zero encountered in double_scalars\n",
      "  ratio = (dframe['MSDs'][fram1]/dframe['MSDs'][fram2]) - (\n"
     ]
    },
    {
     "name": "stdout",
     "output_type": "stream",
     "text": [
      "Optimal parameters not found. Print NaN instead.\n",
      "Optimal parameters not found. Print NaN instead.\n",
      "Optimal parameters not found. Print NaN instead.\n",
      "Optimal parameters not found. Print NaN instead.\n",
      "Optimal parameters not found. Print NaN instead.\n",
      "Optimal parameters not found. Print NaN instead.\n",
      "Optimal parameters not found. Print NaN instead.\n",
      "Optimal parameters not found. Print NaN instead.\n",
      "Optimal parameters not found. Print NaN instead.\n",
      "Optimal parameters not found. Print NaN instead.\n",
      "Optimal parameters not found. Print NaN instead.\n",
      "Optimal parameters not found. Print NaN instead.\n",
      "Optimal parameters not found. Print NaN instead.\n",
      "Optimal parameters not found. Print NaN instead.\n",
      "Optimal parameters not found. Print NaN instead.\n",
      "Optimal parameters not found. Print NaN instead.\n",
      "Optimal parameters not found. Print NaN instead.\n",
      "Optimal parameters not found. Print NaN instead.\n",
      "Optimal parameters not found. Print NaN instead.\n",
      "Optimal parameters not found. Print NaN instead.\n",
      "Optimal parameters not found. Print NaN instead.\n",
      "Optimal parameters not found. Print NaN instead.\n",
      "Successfully output msds for OGD_0_5h_slice_2_striatum_vid_3\n",
      "Done calculating MSDs for row 0 and col 1\n",
      "Done calculating MSDs for row 0 and col 2\n",
      "Done calculating MSDs for row 0 and col 3\n",
      "Done calculating MSDs for row 1 and col 0\n",
      "Done calculating MSDs for row 1 and col 1\n",
      "Done calculating MSDs for row 1 and col 2\n",
      "Done calculating MSDs for row 1 and col 3\n",
      "Done calculating MSDs for row 2 and col 0\n",
      "Done calculating MSDs for row 2 and col 1\n",
      "Done calculating MSDs for row 2 and col 2\n",
      "Done calculating MSDs for row 2 and col 3\n",
      "Done calculating MSDs for row 3 and col 0\n",
      "Done calculating MSDs for row 3 and col 1\n",
      "Done calculating MSDs for row 3 and col 2\n",
      "Done calculating MSDs for row 3 and col 3\n",
      "Optimal parameters not found. Print NaN instead.\n",
      "Optimal parameters not found. Print NaN instead.\n",
      "Optimal parameters not found. Print NaN instead.\n"
     ]
    },
    {
     "name": "stderr",
     "output_type": "stream",
     "text": [
      "/home/ubuntu/miniconda3/lib/python3.6/site-packages/scipy/optimize/minpack.py:779: OptimizeWarning: Covariance of the parameters could not be estimated\n",
      "  category=OptimizeWarning)\n"
     ]
    },
    {
     "name": "stdout",
     "output_type": "stream",
     "text": [
      "Optimal parameters not found. Print NaN instead.\n"
     ]
    },
    {
     "name": "stderr",
     "output_type": "stream",
     "text": [
      "/home/ubuntu/source/diff-classifier/diff_classifier/features.py:510: RuntimeWarning: divide by zero encountered in double_scalars\n",
      "  aspratio = width/height\n",
      "/home/ubuntu/source/diff-classifier/diff_classifier/features.py:717: RuntimeWarning: divide by zero encountered in double_scalars\n",
      "  ratio = (dframe['MSDs'][fram1]/dframe['MSDs'][fram2]) - (\n"
     ]
    },
    {
     "name": "stdout",
     "output_type": "stream",
     "text": [
      "Optimal parameters not found. Print NaN instead.\n",
      "Optimal parameters not found. Print NaN instead.\n",
      "Optimal parameters not found. Print NaN instead.\n",
      "Optimal parameters not found. Print NaN instead.\n",
      "Optimal parameters not found. Print NaN instead.\n",
      "Optimal parameters not found. Print NaN instead.\n",
      "Optimal parameters not found. Print NaN instead.\n",
      "Optimal parameters not found. Print NaN instead.\n",
      "Optimal parameters not found. Print NaN instead.\n",
      "Optimal parameters not found. Print NaN instead.\n",
      "Optimal parameters not found. Print NaN instead.\n",
      "Optimal parameters not found. Print NaN instead.\n",
      "Optimal parameters not found. Print NaN instead.\n",
      "Optimal parameters not found. Print NaN instead.\n",
      "Optimal parameters not found. Print NaN instead.\n",
      "Optimal parameters not found. Print NaN instead.\n",
      "Optimal parameters not found. Print NaN instead.\n",
      "Optimal parameters not found. Print NaN instead.\n",
      "Optimal parameters not found. Print NaN instead.\n",
      "Optimal parameters not found. Print NaN instead.\n",
      "Optimal parameters not found. Print NaN instead.\n",
      "Optimal parameters not found. Print NaN instead.\n",
      "Optimal parameters not found. Print NaN instead.\n",
      "Optimal parameters not found. Print NaN instead.\n",
      "Optimal parameters not found. Print NaN instead.\n",
      "Successfully output msds for OGD_0_5h_slice_2_striatum_vid_4\n",
      "Done calculating MSDs for row 0 and col 1\n",
      "Done calculating MSDs for row 0 and col 2\n",
      "Done calculating MSDs for row 0 and col 3\n",
      "Done calculating MSDs for row 1 and col 0\n",
      "Done calculating MSDs for row 1 and col 1\n",
      "Done calculating MSDs for row 1 and col 2\n",
      "Done calculating MSDs for row 1 and col 3\n",
      "Done calculating MSDs for row 2 and col 0\n",
      "Done calculating MSDs for row 2 and col 1\n",
      "Done calculating MSDs for row 2 and col 2\n",
      "Done calculating MSDs for row 2 and col 3\n",
      "Done calculating MSDs for row 3 and col 0\n",
      "Done calculating MSDs for row 3 and col 1\n",
      "Done calculating MSDs for row 3 and col 2\n",
      "Done calculating MSDs for row 3 and col 3\n"
     ]
    },
    {
     "name": "stderr",
     "output_type": "stream",
     "text": [
      "/home/ubuntu/source/diff-classifier/diff_classifier/features.py:510: RuntimeWarning: divide by zero encountered in double_scalars\n",
      "  aspratio = width/height\n"
     ]
    },
    {
     "name": "stdout",
     "output_type": "stream",
     "text": [
      "Optimal parameters not found. Print NaN instead.\n",
      "Optimal parameters not found. Print NaN instead.\n"
     ]
    },
    {
     "name": "stderr",
     "output_type": "stream",
     "text": [
      "/home/ubuntu/miniconda3/lib/python3.6/site-packages/scipy/optimize/minpack.py:779: OptimizeWarning: Covariance of the parameters could not be estimated\n",
      "  category=OptimizeWarning)\n"
     ]
    },
    {
     "name": "stdout",
     "output_type": "stream",
     "text": [
      "Optimal parameters not found. Print NaN instead.\n",
      "Optimal parameters not found. Print NaN instead.\n",
      "Optimal parameters not found. Print NaN instead.\n",
      "Optimal parameters not found. Print NaN instead.\n",
      "Optimal parameters not found. Print NaN instead.\n",
      "Optimal parameters not found. Print NaN instead.\n",
      "Optimal parameters not found. Print NaN instead.\n",
      "Optimal parameters not found. Print NaN instead.\n"
     ]
    },
    {
     "name": "stderr",
     "output_type": "stream",
     "text": [
      "/home/ubuntu/source/diff-classifier/diff_classifier/features.py:717: RuntimeWarning: divide by zero encountered in double_scalars\n",
      "  ratio = (dframe['MSDs'][fram1]/dframe['MSDs'][fram2]) - (\n"
     ]
    },
    {
     "name": "stdout",
     "output_type": "stream",
     "text": [
      "Optimal parameters not found. Print NaN instead.\n",
      "Optimal parameters not found. Print NaN instead.\n",
      "Optimal parameters not found. Print NaN instead.\n",
      "Optimal parameters not found. Print NaN instead.\n",
      "Optimal parameters not found. Print NaN instead.\n",
      "Optimal parameters not found. Print NaN instead.\n",
      "Optimal parameters not found. Print NaN instead.\n",
      "Optimal parameters not found. Print NaN instead.\n",
      "Optimal parameters not found. Print NaN instead.\n",
      "Optimal parameters not found. Print NaN instead.\n",
      "Optimal parameters not found. Print NaN instead.\n",
      "Optimal parameters not found. Print NaN instead.\n",
      "Optimal parameters not found. Print NaN instead.\n",
      "Optimal parameters not found. Print NaN instead.\n",
      "Optimal parameters not found. Print NaN instead.\n",
      "Optimal parameters not found. Print NaN instead.\n",
      "Optimal parameters not found. Print NaN instead.\n",
      "Optimal parameters not found. Print NaN instead.\n",
      "Optimal parameters not found. Print NaN instead.\n",
      "Optimal parameters not found. Print NaN instead.\n",
      "Optimal parameters not found. Print NaN instead.\n",
      "Optimal parameters not found. Print NaN instead.\n",
      "Optimal parameters not found. Print NaN instead.\n",
      "Optimal parameters not found. Print NaN instead.\n",
      "Optimal parameters not found. Print NaN instead.\n",
      "Optimal parameters not found. Print NaN instead.\n",
      "Optimal parameters not found. Print NaN instead.\n",
      "Optimal parameters not found. Print NaN instead.\n",
      "Optimal parameters not found. Print NaN instead.\n",
      "Optimal parameters not found. Print NaN instead.\n",
      "Optimal parameters not found. Print NaN instead.\n",
      "Optimal parameters not found. Print NaN instead.\n",
      "Optimal parameters not found. Print NaN instead.\n",
      "Optimal parameters not found. Print NaN instead.\n",
      "Optimal parameters not found. Print NaN instead.\n",
      "Optimal parameters not found. Print NaN instead.\n",
      "Optimal parameters not found. Print NaN instead.\n",
      "Optimal parameters not found. Print NaN instead.\n",
      "Optimal parameters not found. Print NaN instead.\n",
      "Optimal parameters not found. Print NaN instead.\n",
      "Successfully output msds for OGD_0_5h_slice_2_striatum_vid_5\n",
      "Done calculating MSDs for row 0 and col 1\n",
      "Done calculating MSDs for row 0 and col 2\n",
      "Done calculating MSDs for row 0 and col 3\n",
      "Done calculating MSDs for row 1 and col 0\n",
      "Done calculating MSDs for row 1 and col 1\n",
      "Done calculating MSDs for row 1 and col 2\n",
      "Done calculating MSDs for row 1 and col 3\n",
      "Done calculating MSDs for row 2 and col 0\n",
      "Done calculating MSDs for row 2 and col 1\n",
      "Done calculating MSDs for row 2 and col 2\n",
      "Done calculating MSDs for row 2 and col 3\n",
      "Done calculating MSDs for row 3 and col 0\n",
      "Done calculating MSDs for row 3 and col 1\n",
      "Done calculating MSDs for row 3 and col 2\n",
      "Done calculating MSDs for row 3 and col 3\n",
      "Optimal parameters not found. Print NaN instead.\n"
     ]
    },
    {
     "name": "stderr",
     "output_type": "stream",
     "text": [
      "/home/ubuntu/source/diff-classifier/diff_classifier/features.py:510: RuntimeWarning: divide by zero encountered in double_scalars\n",
      "  aspratio = width/height\n"
     ]
    },
    {
     "name": "stdout",
     "output_type": "stream",
     "text": [
      "Optimal parameters not found. Print NaN instead.\n",
      "Optimal parameters not found. Print NaN instead.\n",
      "Optimal parameters not found. Print NaN instead.\n"
     ]
    },
    {
     "name": "stderr",
     "output_type": "stream",
     "text": [
      "/home/ubuntu/source/diff-classifier/diff_classifier/features.py:717: RuntimeWarning: divide by zero encountered in double_scalars\n",
      "  ratio = (dframe['MSDs'][fram1]/dframe['MSDs'][fram2]) - (\n"
     ]
    },
    {
     "name": "stdout",
     "output_type": "stream",
     "text": [
      "Optimal parameters not found. Print NaN instead.\n",
      "Optimal parameters not found. Print NaN instead.\n",
      "Optimal parameters not found. Print NaN instead.\n",
      "Optimal parameters not found. Print NaN instead.\n",
      "Optimal parameters not found. Print NaN instead.\n",
      "Optimal parameters not found. Print NaN instead.\n",
      "Optimal parameters not found. Print NaN instead.\n"
     ]
    },
    {
     "name": "stderr",
     "output_type": "stream",
     "text": [
      "/home/ubuntu/miniconda3/lib/python3.6/site-packages/scipy/optimize/minpack.py:779: OptimizeWarning: Covariance of the parameters could not be estimated\n",
      "  category=OptimizeWarning)\n"
     ]
    },
    {
     "name": "stdout",
     "output_type": "stream",
     "text": [
      "Optimal parameters not found. Print NaN instead.\n",
      "Optimal parameters not found. Print NaN instead.\n",
      "Optimal parameters not found. Print NaN instead.\n",
      "Optimal parameters not found. Print NaN instead.\n",
      "Optimal parameters not found. Print NaN instead.\n",
      "Optimal parameters not found. Print NaN instead.\n",
      "Optimal parameters not found. Print NaN instead.\n",
      "Optimal parameters not found. Print NaN instead.\n",
      "Optimal parameters not found. Print NaN instead.\n",
      "Optimal parameters not found. Print NaN instead.\n",
      "Optimal parameters not found. Print NaN instead.\n",
      "Successfully output msds for OGD_0_5h_slice_3_cortex_vid_1\n",
      "Done calculating MSDs for row 0 and col 1\n",
      "Done calculating MSDs for row 0 and col 2\n",
      "Done calculating MSDs for row 0 and col 3\n",
      "Done calculating MSDs for row 1 and col 0\n",
      "Done calculating MSDs for row 1 and col 1\n",
      "Done calculating MSDs for row 1 and col 2\n",
      "Done calculating MSDs for row 1 and col 3\n",
      "Done calculating MSDs for row 2 and col 0\n",
      "Done calculating MSDs for row 2 and col 1\n",
      "Done calculating MSDs for row 2 and col 2\n",
      "Done calculating MSDs for row 2 and col 3\n",
      "Done calculating MSDs for row 3 and col 0\n",
      "Done calculating MSDs for row 3 and col 1\n",
      "Done calculating MSDs for row 3 and col 2\n",
      "Done calculating MSDs for row 3 and col 3\n",
      "Optimal parameters not found. Print NaN instead.\n",
      "Optimal parameters not found. Print NaN instead.\n"
     ]
    },
    {
     "name": "stderr",
     "output_type": "stream",
     "text": [
      "/home/ubuntu/source/diff-classifier/diff_classifier/features.py:510: RuntimeWarning: divide by zero encountered in double_scalars\n",
      "  aspratio = width/height\n"
     ]
    },
    {
     "name": "stdout",
     "output_type": "stream",
     "text": [
      "Optimal parameters not found. Print NaN instead.\n"
     ]
    },
    {
     "name": "stderr",
     "output_type": "stream",
     "text": [
      "/home/ubuntu/source/diff-classifier/diff_classifier/features.py:717: RuntimeWarning: divide by zero encountered in double_scalars\n",
      "  ratio = (dframe['MSDs'][fram1]/dframe['MSDs'][fram2]) - (\n"
     ]
    },
    {
     "name": "stdout",
     "output_type": "stream",
     "text": [
      "Optimal parameters not found. Print NaN instead.\n"
     ]
    },
    {
     "name": "stderr",
     "output_type": "stream",
     "text": [
      "/home/ubuntu/miniconda3/lib/python3.6/site-packages/scipy/optimize/minpack.py:779: OptimizeWarning: Covariance of the parameters could not be estimated\n",
      "  category=OptimizeWarning)\n"
     ]
    },
    {
     "name": "stdout",
     "output_type": "stream",
     "text": [
      "Optimal parameters not found. Print NaN instead.\n",
      "Successfully output msds for OGD_0_5h_slice_3_cortex_vid_2\n",
      "Done calculating MSDs for row 0 and col 1\n",
      "Done calculating MSDs for row 0 and col 2\n",
      "Done calculating MSDs for row 0 and col 3\n",
      "Done calculating MSDs for row 1 and col 0\n",
      "Done calculating MSDs for row 1 and col 1\n",
      "Done calculating MSDs for row 1 and col 2\n",
      "Done calculating MSDs for row 1 and col 3\n",
      "Done calculating MSDs for row 2 and col 0\n",
      "Done calculating MSDs for row 2 and col 1\n",
      "Done calculating MSDs for row 2 and col 2\n",
      "Done calculating MSDs for row 2 and col 3\n",
      "Done calculating MSDs for row 3 and col 0\n",
      "Done calculating MSDs for row 3 and col 1\n",
      "Done calculating MSDs for row 3 and col 2\n",
      "Done calculating MSDs for row 3 and col 3\n"
     ]
    },
    {
     "name": "stderr",
     "output_type": "stream",
     "text": [
      "/home/ubuntu/source/diff-classifier/diff_classifier/features.py:510: RuntimeWarning: divide by zero encountered in double_scalars\n",
      "  aspratio = width/height\n"
     ]
    },
    {
     "name": "stdout",
     "output_type": "stream",
     "text": [
      "Optimal parameters not found. Print NaN instead.\n",
      "Optimal parameters not found. Print NaN instead.\n",
      "Optimal parameters not found. Print NaN instead.\n",
      "Optimal parameters not found. Print NaN instead.\n",
      "Optimal parameters not found. Print NaN instead.\n",
      "Optimal parameters not found. Print NaN instead.\n",
      "Optimal parameters not found. Print NaN instead.\n",
      "Optimal parameters not found. Print NaN instead.\n",
      "Optimal parameters not found. Print NaN instead.\n",
      "Optimal parameters not found. Print NaN instead.\n",
      "Optimal parameters not found. Print NaN instead.\n",
      "Optimal parameters not found. Print NaN instead.\n",
      "Optimal parameters not found. Print NaN instead.\n",
      "Optimal parameters not found. Print NaN instead.\n",
      "Optimal parameters not found. Print NaN instead.\n",
      "Optimal parameters not found. Print NaN instead.\n",
      "Optimal parameters not found. Print NaN instead.\n",
      "Optimal parameters not found. Print NaN instead.\n",
      "Optimal parameters not found. Print NaN instead.\n",
      "Optimal parameters not found. Print NaN instead.\n",
      "Optimal parameters not found. Print NaN instead.\n"
     ]
    },
    {
     "name": "stderr",
     "output_type": "stream",
     "text": [
      "/home/ubuntu/source/diff-classifier/diff_classifier/features.py:717: RuntimeWarning: divide by zero encountered in double_scalars\n",
      "  ratio = (dframe['MSDs'][fram1]/dframe['MSDs'][fram2]) - (\n"
     ]
    },
    {
     "name": "stdout",
     "output_type": "stream",
     "text": [
      "Optimal parameters not found. Print NaN instead.\n",
      "Optimal parameters not found. Print NaN instead.\n",
      "Optimal parameters not found. Print NaN instead.\n",
      "Optimal parameters not found. Print NaN instead.\n",
      "Optimal parameters not found. Print NaN instead.\n",
      "Optimal parameters not found. Print NaN instead.\n",
      "Optimal parameters not found. Print NaN instead.\n",
      "Optimal parameters not found. Print NaN instead.\n",
      "Optimal parameters not found. Print NaN instead.\n",
      "Optimal parameters not found. Print NaN instead.\n",
      "Optimal parameters not found. Print NaN instead.\n",
      "Optimal parameters not found. Print NaN instead.\n",
      "Optimal parameters not found. Print NaN instead.\n",
      "Optimal parameters not found. Print NaN instead.\n",
      "Optimal parameters not found. Print NaN instead.\n",
      "Optimal parameters not found. Print NaN instead.\n",
      "Optimal parameters not found. Print NaN instead.\n"
     ]
    },
    {
     "name": "stderr",
     "output_type": "stream",
     "text": [
      "/home/ubuntu/miniconda3/lib/python3.6/site-packages/scipy/optimize/minpack.py:779: OptimizeWarning: Covariance of the parameters could not be estimated\n",
      "  category=OptimizeWarning)\n"
     ]
    },
    {
     "name": "stdout",
     "output_type": "stream",
     "text": [
      "Optimal parameters not found. Print NaN instead.\n",
      "Optimal parameters not found. Print NaN instead.\n",
      "Optimal parameters not found. Print NaN instead.\n",
      "Optimal parameters not found. Print NaN instead.\n",
      "Optimal parameters not found. Print NaN instead.\n",
      "Optimal parameters not found. Print NaN instead.\n",
      "Optimal parameters not found. Print NaN instead.\n",
      "Optimal parameters not found. Print NaN instead.\n",
      "Optimal parameters not found. Print NaN instead.\n",
      "Optimal parameters not found. Print NaN instead.\n",
      "Optimal parameters not found. Print NaN instead.\n",
      "Optimal parameters not found. Print NaN instead.\n",
      "Optimal parameters not found. Print NaN instead.\n",
      "Optimal parameters not found. Print NaN instead.\n",
      "Optimal parameters not found. Print NaN instead.\n",
      "Optimal parameters not found. Print NaN instead.\n",
      "Optimal parameters not found. Print NaN instead.\n",
      "Optimal parameters not found. Print NaN instead.\n",
      "Optimal parameters not found. Print NaN instead.\n",
      "Optimal parameters not found. Print NaN instead.\n",
      "Optimal parameters not found. Print NaN instead.\n"
     ]
    },
    {
     "name": "stderr",
     "output_type": "stream",
     "text": [
      "/home/ubuntu/source/diff-classifier/diff_classifier/features.py:313: RuntimeWarning: invalid value encountered in double_scalars\n",
      "  asym1 = (eig1**2 - eig2**2)**2/(eig1**2 + eig2**2)**2\n",
      "/home/ubuntu/source/diff-classifier/diff_classifier/features.py:314: RuntimeWarning: invalid value encountered in double_scalars\n",
      "  asym2 = eig2/eig1\n",
      "/home/ubuntu/source/diff-classifier/diff_classifier/features.py:315: RuntimeWarning: invalid value encountered in double_scalars\n",
      "  asym3 = -np.log(1-((eig1-eig2)**2)/(2*(eig1+eig2)**2))\n",
      "/home/ubuntu/source/diff-classifier/diff_classifier/features.py:510: RuntimeWarning: invalid value encountered in double_scalars\n",
      "  aspratio = width/height\n",
      "/home/ubuntu/source/diff-classifier/diff_classifier/features.py:602: RuntimeWarning: invalid value encountered in double_scalars\n",
      "  bound = dcoef*fram/(rad**2)\n",
      "/home/ubuntu/source/diff-classifier/diff_classifier/features.py:603: RuntimeWarning: invalid value encountered in double_scalars\n",
      "  fractd = np.log(N)/np.log(N*2*rad/netdisp)\n",
      "/home/ubuntu/source/diff-classifier/diff_classifier/features.py:604: RuntimeWarning: invalid value encountered in double_scalars\n",
      "  probf = 1 - np.exp(0.2048 - 0.25117*(dcoef*fram/(rad**2)))\n",
      "/home/ubuntu/source/diff-classifier/diff_classifier/features.py:667: RuntimeWarning: invalid value encountered in double_scalars\n",
      "  eff = num/den\n",
      "/home/ubuntu/source/diff-classifier/diff_classifier/features.py:668: RuntimeWarning: invalid value encountered in double_scalars\n",
      "  strait = num2/den2\n",
      "/home/ubuntu/source/diff-classifier/diff_classifier/features.py:717: RuntimeWarning: invalid value encountered in double_scalars\n",
      "  ratio = (dframe['MSDs'][fram1]/dframe['MSDs'][fram2]) - (\n"
     ]
    },
    {
     "name": "stdout",
     "output_type": "stream",
     "text": [
      "Optimal parameters not found. Print NaN instead.\n",
      "Successfully output msds for OGD_0_5h_slice_3_cortex_vid_3\n",
      "Done calculating MSDs for row 0 and col 1\n",
      "Done calculating MSDs for row 0 and col 2\n",
      "Done calculating MSDs for row 0 and col 3\n",
      "Done calculating MSDs for row 1 and col 0\n",
      "Done calculating MSDs for row 1 and col 1\n",
      "Done calculating MSDs for row 1 and col 2\n",
      "Done calculating MSDs for row 1 and col 3\n",
      "Done calculating MSDs for row 2 and col 0\n",
      "Done calculating MSDs for row 2 and col 1\n",
      "Done calculating MSDs for row 2 and col 2\n",
      "Done calculating MSDs for row 2 and col 3\n",
      "Done calculating MSDs for row 3 and col 0\n",
      "Done calculating MSDs for row 3 and col 1\n",
      "Done calculating MSDs for row 3 and col 2\n",
      "Done calculating MSDs for row 3 and col 3\n",
      "Optimal parameters not found. Print NaN instead.\n",
      "Optimal parameters not found. Print NaN instead.\n",
      "Optimal parameters not found. Print NaN instead.\n",
      "Optimal parameters not found. Print NaN instead.\n"
     ]
    },
    {
     "name": "stderr",
     "output_type": "stream",
     "text": [
      "/home/ubuntu/source/diff-classifier/diff_classifier/features.py:510: RuntimeWarning: divide by zero encountered in double_scalars\n",
      "  aspratio = width/height\n"
     ]
    },
    {
     "name": "stdout",
     "output_type": "stream",
     "text": [
      "Optimal parameters not found. Print NaN instead.\n",
      "Optimal parameters not found. Print NaN instead.\n",
      "Optimal parameters not found. Print NaN instead.\n",
      "Optimal parameters not found. Print NaN instead.\n",
      "Optimal parameters not found. Print NaN instead.\n",
      "Optimal parameters not found. Print NaN instead.\n",
      "Optimal parameters not found. Print NaN instead.\n",
      "Optimal parameters not found. Print NaN instead.\n",
      "Optimal parameters not found. Print NaN instead.\n",
      "Optimal parameters not found. Print NaN instead.\n",
      "Optimal parameters not found. Print NaN instead.\n",
      "Optimal parameters not found. Print NaN instead.\n",
      "Optimal parameters not found. Print NaN instead.\n",
      "Optimal parameters not found. Print NaN instead.\n",
      "Optimal parameters not found. Print NaN instead.\n",
      "Optimal parameters not found. Print NaN instead.\n",
      "Optimal parameters not found. Print NaN instead.\n",
      "Optimal parameters not found. Print NaN instead.\n",
      "Optimal parameters not found. Print NaN instead.\n",
      "Optimal parameters not found. Print NaN instead.\n",
      "Optimal parameters not found. Print NaN instead.\n",
      "Optimal parameters not found. Print NaN instead.\n",
      "Optimal parameters not found. Print NaN instead.\n",
      "Optimal parameters not found. Print NaN instead.\n",
      "Optimal parameters not found. Print NaN instead.\n",
      "Optimal parameters not found. Print NaN instead.\n",
      "Optimal parameters not found. Print NaN instead.\n",
      "Optimal parameters not found. Print NaN instead.\n",
      "Optimal parameters not found. Print NaN instead.\n",
      "Optimal parameters not found. Print NaN instead.\n",
      "Optimal parameters not found. Print NaN instead.\n",
      "Optimal parameters not found. Print NaN instead.\n"
     ]
    },
    {
     "name": "stderr",
     "output_type": "stream",
     "text": [
      "/home/ubuntu/miniconda3/lib/python3.6/site-packages/scipy/optimize/minpack.py:779: OptimizeWarning: Covariance of the parameters could not be estimated\n",
      "  category=OptimizeWarning)\n"
     ]
    },
    {
     "name": "stdout",
     "output_type": "stream",
     "text": [
      "Optimal parameters not found. Print NaN instead.\n",
      "Optimal parameters not found. Print NaN instead.\n",
      "Optimal parameters not found. Print NaN instead.\n",
      "Optimal parameters not found. Print NaN instead.\n",
      "Optimal parameters not found. Print NaN instead.\n",
      "Optimal parameters not found. Print NaN instead.\n",
      "Optimal parameters not found. Print NaN instead.\n",
      "Optimal parameters not found. Print NaN instead.\n",
      "Optimal parameters not found. Print NaN instead.\n",
      "Optimal parameters not found. Print NaN instead.\n",
      "Optimal parameters not found. Print NaN instead.\n",
      "Optimal parameters not found. Print NaN instead.\n",
      "Optimal parameters not found. Print NaN instead.\n",
      "Optimal parameters not found. Print NaN instead.\n",
      "Optimal parameters not found. Print NaN instead.\n"
     ]
    },
    {
     "name": "stderr",
     "output_type": "stream",
     "text": [
      "/home/ubuntu/source/diff-classifier/diff_classifier/features.py:717: RuntimeWarning: divide by zero encountered in double_scalars\n",
      "  ratio = (dframe['MSDs'][fram1]/dframe['MSDs'][fram2]) - (\n"
     ]
    },
    {
     "name": "stdout",
     "output_type": "stream",
     "text": [
      "Optimal parameters not found. Print NaN instead.\n",
      "Optimal parameters not found. Print NaN instead.\n",
      "Optimal parameters not found. Print NaN instead.\n",
      "Optimal parameters not found. Print NaN instead.\n",
      "Optimal parameters not found. Print NaN instead.\n",
      "Optimal parameters not found. Print NaN instead.\n",
      "Optimal parameters not found. Print NaN instead.\n",
      "Optimal parameters not found. Print NaN instead.\n",
      "Optimal parameters not found. Print NaN instead.\n",
      "Optimal parameters not found. Print NaN instead.\n",
      "Optimal parameters not found. Print NaN instead.\n",
      "Optimal parameters not found. Print NaN instead.\n",
      "Optimal parameters not found. Print NaN instead.\n",
      "Optimal parameters not found. Print NaN instead.\n",
      "Optimal parameters not found. Print NaN instead.\n",
      "Optimal parameters not found. Print NaN instead.\n",
      "Optimal parameters not found. Print NaN instead.\n",
      "Optimal parameters not found. Print NaN instead.\n",
      "Optimal parameters not found. Print NaN instead.\n",
      "Optimal parameters not found. Print NaN instead.\n",
      "Optimal parameters not found. Print NaN instead.\n",
      "Optimal parameters not found. Print NaN instead.\n",
      "Optimal parameters not found. Print NaN instead.\n",
      "Optimal parameters not found. Print NaN instead.\n",
      "Optimal parameters not found. Print NaN instead.\n",
      "Optimal parameters not found. Print NaN instead.\n",
      "Optimal parameters not found. Print NaN instead.\n",
      "Optimal parameters not found. Print NaN instead.\n",
      "Optimal parameters not found. Print NaN instead.\n",
      "Optimal parameters not found. Print NaN instead.\n",
      "Optimal parameters not found. Print NaN instead.\n",
      "Optimal parameters not found. Print NaN instead.\n",
      "Optimal parameters not found. Print NaN instead.\n",
      "Optimal parameters not found. Print NaN instead.\n",
      "Optimal parameters not found. Print NaN instead.\n",
      "Optimal parameters not found. Print NaN instead.\n",
      "Optimal parameters not found. Print NaN instead.\n",
      "Optimal parameters not found. Print NaN instead.\n",
      "Optimal parameters not found. Print NaN instead.\n",
      "Optimal parameters not found. Print NaN instead.\n",
      "Optimal parameters not found. Print NaN instead.\n",
      "Optimal parameters not found. Print NaN instead.\n",
      "Optimal parameters not found. Print NaN instead.\n",
      "Optimal parameters not found. Print NaN instead.\n",
      "Optimal parameters not found. Print NaN instead.\n",
      "Optimal parameters not found. Print NaN instead.\n",
      "Optimal parameters not found. Print NaN instead.\n",
      "Optimal parameters not found. Print NaN instead.\n",
      "Optimal parameters not found. Print NaN instead.\n",
      "Optimal parameters not found. Print NaN instead.\n",
      "Optimal parameters not found. Print NaN instead.\n",
      "Optimal parameters not found. Print NaN instead.\n",
      "Optimal parameters not found. Print NaN instead.\n",
      "Successfully output msds for OGD_0_5h_slice_3_cortex_vid_4\n",
      "Done calculating MSDs for row 0 and col 1\n",
      "Done calculating MSDs for row 0 and col 2\n",
      "Done calculating MSDs for row 0 and col 3\n",
      "Done calculating MSDs for row 1 and col 0\n",
      "Done calculating MSDs for row 1 and col 1\n",
      "Done calculating MSDs for row 1 and col 2\n",
      "Done calculating MSDs for row 1 and col 3\n",
      "Done calculating MSDs for row 2 and col 0\n",
      "Done calculating MSDs for row 2 and col 1\n",
      "Done calculating MSDs for row 2 and col 2\n",
      "Done calculating MSDs for row 2 and col 3\n",
      "Done calculating MSDs for row 3 and col 0\n",
      "Done calculating MSDs for row 3 and col 1\n",
      "Done calculating MSDs for row 3 and col 2\n",
      "Done calculating MSDs for row 3 and col 3\n"
     ]
    },
    {
     "name": "stderr",
     "output_type": "stream",
     "text": [
      "/home/ubuntu/source/diff-classifier/diff_classifier/features.py:510: RuntimeWarning: divide by zero encountered in double_scalars\n",
      "  aspratio = width/height\n",
      "/home/ubuntu/miniconda3/lib/python3.6/site-packages/scipy/optimize/minpack.py:779: OptimizeWarning: Covariance of the parameters could not be estimated\n",
      "  category=OptimizeWarning)\n",
      "/home/ubuntu/source/diff-classifier/diff_classifier/features.py:717: RuntimeWarning: divide by zero encountered in double_scalars\n",
      "  ratio = (dframe['MSDs'][fram1]/dframe['MSDs'][fram2]) - (\n"
     ]
    },
    {
     "name": "stdout",
     "output_type": "stream",
     "text": [
      "Optimal parameters not found. Print NaN instead.\n",
      "Optimal parameters not found. Print NaN instead.\n",
      "Optimal parameters not found. Print NaN instead.\n",
      "Optimal parameters not found. Print NaN instead.\n",
      "Optimal parameters not found. Print NaN instead.\n",
      "Optimal parameters not found. Print NaN instead.\n",
      "Optimal parameters not found. Print NaN instead.\n",
      "Optimal parameters not found. Print NaN instead.\n",
      "Optimal parameters not found. Print NaN instead.\n",
      "Optimal parameters not found. Print NaN instead.\n",
      "Optimal parameters not found. Print NaN instead.\n",
      "Optimal parameters not found. Print NaN instead.\n",
      "Optimal parameters not found. Print NaN instead.\n",
      "Optimal parameters not found. Print NaN instead.\n",
      "Optimal parameters not found. Print NaN instead.\n",
      "Optimal parameters not found. Print NaN instead.\n",
      "Optimal parameters not found. Print NaN instead.\n",
      "Optimal parameters not found. Print NaN instead.\n",
      "Optimal parameters not found. Print NaN instead.\n",
      "Optimal parameters not found. Print NaN instead.\n",
      "Successfully output msds for OGD_0_5h_slice_3_cortex_vid_5\n",
      "Done calculating MSDs for row 0 and col 1\n",
      "Done calculating MSDs for row 0 and col 2\n",
      "Done calculating MSDs for row 0 and col 3\n",
      "Done calculating MSDs for row 1 and col 0\n",
      "Done calculating MSDs for row 1 and col 1\n",
      "Done calculating MSDs for row 1 and col 2\n",
      "Done calculating MSDs for row 1 and col 3\n",
      "Done calculating MSDs for row 2 and col 0\n",
      "Done calculating MSDs for row 2 and col 1\n",
      "Done calculating MSDs for row 2 and col 2\n",
      "Done calculating MSDs for row 2 and col 3\n",
      "Done calculating MSDs for row 3 and col 0\n",
      "Done calculating MSDs for row 3 and col 1\n",
      "Done calculating MSDs for row 3 and col 2\n",
      "Done calculating MSDs for row 3 and col 3\n",
      "Optimal parameters not found. Print NaN instead.\n"
     ]
    },
    {
     "name": "stderr",
     "output_type": "stream",
     "text": [
      "/home/ubuntu/source/diff-classifier/diff_classifier/features.py:510: RuntimeWarning: divide by zero encountered in double_scalars\n",
      "  aspratio = width/height\n",
      "/home/ubuntu/source/diff-classifier/diff_classifier/features.py:717: RuntimeWarning: divide by zero encountered in double_scalars\n",
      "  ratio = (dframe['MSDs'][fram1]/dframe['MSDs'][fram2]) - (\n"
     ]
    },
    {
     "name": "stdout",
     "output_type": "stream",
     "text": [
      "Optimal parameters not found. Print NaN instead.\n",
      "Optimal parameters not found. Print NaN instead.\n",
      "Optimal parameters not found. Print NaN instead.\n"
     ]
    },
    {
     "name": "stderr",
     "output_type": "stream",
     "text": [
      "/home/ubuntu/miniconda3/lib/python3.6/site-packages/scipy/optimize/minpack.py:779: OptimizeWarning: Covariance of the parameters could not be estimated\n",
      "  category=OptimizeWarning)\n"
     ]
    },
    {
     "name": "stdout",
     "output_type": "stream",
     "text": [
      "Optimal parameters not found. Print NaN instead.\n",
      "Optimal parameters not found. Print NaN instead.\n",
      "Successfully output msds for OGD_0_5h_slice_3_striatum_vid_1\n",
      "Done calculating MSDs for row 0 and col 1\n",
      "Done calculating MSDs for row 0 and col 2\n",
      "Done calculating MSDs for row 0 and col 3\n",
      "Done calculating MSDs for row 1 and col 0\n",
      "Done calculating MSDs for row 1 and col 1\n",
      "Done calculating MSDs for row 1 and col 2\n",
      "Done calculating MSDs for row 1 and col 3\n",
      "Done calculating MSDs for row 2 and col 0\n",
      "Done calculating MSDs for row 2 and col 1\n",
      "Done calculating MSDs for row 2 and col 2\n",
      "Done calculating MSDs for row 2 and col 3\n",
      "Done calculating MSDs for row 3 and col 0\n",
      "Done calculating MSDs for row 3 and col 1\n",
      "Done calculating MSDs for row 3 and col 2\n",
      "Done calculating MSDs for row 3 and col 3\n"
     ]
    },
    {
     "name": "stderr",
     "output_type": "stream",
     "text": [
      "/home/ubuntu/source/diff-classifier/diff_classifier/features.py:510: RuntimeWarning: divide by zero encountered in double_scalars\n",
      "  aspratio = width/height\n",
      "/home/ubuntu/miniconda3/lib/python3.6/site-packages/scipy/optimize/minpack.py:779: OptimizeWarning: Covariance of the parameters could not be estimated\n",
      "  category=OptimizeWarning)\n"
     ]
    },
    {
     "name": "stdout",
     "output_type": "stream",
     "text": [
      "Optimal parameters not found. Print NaN instead.\n",
      "Optimal parameters not found. Print NaN instead.\n",
      "Optimal parameters not found. Print NaN instead.\n",
      "Optimal parameters not found. Print NaN instead.\n",
      "Optimal parameters not found. Print NaN instead.\n",
      "Optimal parameters not found. Print NaN instead.\n",
      "Optimal parameters not found. Print NaN instead.\n",
      "Optimal parameters not found. Print NaN instead.\n",
      "Optimal parameters not found. Print NaN instead.\n",
      "Successfully output msds for OGD_0_5h_slice_3_striatum_vid_2\n",
      "Done calculating MSDs for row 0 and col 1\n",
      "Done calculating MSDs for row 0 and col 2\n",
      "Done calculating MSDs for row 0 and col 3\n",
      "Done calculating MSDs for row 1 and col 0\n",
      "Done calculating MSDs for row 1 and col 1\n",
      "Done calculating MSDs for row 1 and col 2\n",
      "Done calculating MSDs for row 1 and col 3\n",
      "Done calculating MSDs for row 2 and col 0\n",
      "Done calculating MSDs for row 2 and col 1\n",
      "Done calculating MSDs for row 2 and col 2\n",
      "Done calculating MSDs for row 2 and col 3\n",
      "Done calculating MSDs for row 3 and col 0\n",
      "Done calculating MSDs for row 3 and col 1\n",
      "Done calculating MSDs for row 3 and col 2\n",
      "Done calculating MSDs for row 3 and col 3\n",
      "Optimal parameters not found. Print NaN instead.\n",
      "Optimal parameters not found. Print NaN instead.\n"
     ]
    },
    {
     "name": "stderr",
     "output_type": "stream",
     "text": [
      "/home/ubuntu/source/diff-classifier/diff_classifier/features.py:510: RuntimeWarning: divide by zero encountered in double_scalars\n",
      "  aspratio = width/height\n"
     ]
    },
    {
     "name": "stdout",
     "output_type": "stream",
     "text": [
      "Optimal parameters not found. Print NaN instead.\n",
      "Optimal parameters not found. Print NaN instead.\n"
     ]
    },
    {
     "name": "stderr",
     "output_type": "stream",
     "text": [
      "/home/ubuntu/miniconda3/lib/python3.6/site-packages/scipy/optimize/minpack.py:779: OptimizeWarning: Covariance of the parameters could not be estimated\n",
      "  category=OptimizeWarning)\n"
     ]
    },
    {
     "name": "stdout",
     "output_type": "stream",
     "text": [
      "Optimal parameters not found. Print NaN instead.\n",
      "Optimal parameters not found. Print NaN instead.\n",
      "Optimal parameters not found. Print NaN instead.\n"
     ]
    },
    {
     "name": "stderr",
     "output_type": "stream",
     "text": [
      "/home/ubuntu/source/diff-classifier/diff_classifier/features.py:717: RuntimeWarning: divide by zero encountered in double_scalars\n",
      "  ratio = (dframe['MSDs'][fram1]/dframe['MSDs'][fram2]) - (\n"
     ]
    },
    {
     "name": "stdout",
     "output_type": "stream",
     "text": [
      "Successfully output msds for OGD_0_5h_slice_3_striatum_vid_3\n",
      "Done calculating MSDs for row 0 and col 1\n",
      "Done calculating MSDs for row 0 and col 2\n",
      "Done calculating MSDs for row 0 and col 3\n",
      "Done calculating MSDs for row 1 and col 0\n",
      "Done calculating MSDs for row 1 and col 1\n",
      "Done calculating MSDs for row 1 and col 2\n",
      "Done calculating MSDs for row 1 and col 3\n",
      "Done calculating MSDs for row 2 and col 0\n",
      "Done calculating MSDs for row 2 and col 1\n",
      "Done calculating MSDs for row 2 and col 2\n",
      "Done calculating MSDs for row 2 and col 3\n",
      "Done calculating MSDs for row 3 and col 0\n",
      "Done calculating MSDs for row 3 and col 1\n",
      "Done calculating MSDs for row 3 and col 2\n",
      "Done calculating MSDs for row 3 and col 3\n",
      "Optimal parameters not found. Print NaN instead.\n",
      "Optimal parameters not found. Print NaN instead.\n",
      "Optimal parameters not found. Print NaN instead.\n",
      "Optimal parameters not found. Print NaN instead.\n"
     ]
    },
    {
     "name": "stderr",
     "output_type": "stream",
     "text": [
      "/home/ubuntu/source/diff-classifier/diff_classifier/features.py:510: RuntimeWarning: divide by zero encountered in double_scalars\n",
      "  aspratio = width/height\n"
     ]
    },
    {
     "name": "stdout",
     "output_type": "stream",
     "text": [
      "Optimal parameters not found. Print NaN instead.\n",
      "Optimal parameters not found. Print NaN instead.\n",
      "Optimal parameters not found. Print NaN instead.\n",
      "Optimal parameters not found. Print NaN instead.\n",
      "Optimal parameters not found. Print NaN instead.\n",
      "Successfully output msds for OGD_0_5h_slice_3_striatum_vid_4\n",
      "Done calculating MSDs for row 0 and col 1\n",
      "Done calculating MSDs for row 0 and col 2\n",
      "Done calculating MSDs for row 0 and col 3\n",
      "Done calculating MSDs for row 1 and col 0\n",
      "Done calculating MSDs for row 1 and col 1\n",
      "Done calculating MSDs for row 1 and col 2\n",
      "Done calculating MSDs for row 1 and col 3\n",
      "Done calculating MSDs for row 2 and col 0\n",
      "Done calculating MSDs for row 2 and col 1\n",
      "Done calculating MSDs for row 2 and col 2\n",
      "Done calculating MSDs for row 2 and col 3\n",
      "Done calculating MSDs for row 3 and col 0\n",
      "Done calculating MSDs for row 3 and col 1\n",
      "Done calculating MSDs for row 3 and col 2\n",
      "Done calculating MSDs for row 3 and col 3\n",
      "Optimal parameters not found. Print NaN instead.\n",
      "Optimal parameters not found. Print NaN instead.\n",
      "Optimal parameters not found. Print NaN instead.\n",
      "Optimal parameters not found. Print NaN instead.\n",
      "Optimal parameters not found. Print NaN instead.\n"
     ]
    },
    {
     "name": "stderr",
     "output_type": "stream",
     "text": [
      "/home/ubuntu/source/diff-classifier/diff_classifier/features.py:510: RuntimeWarning: divide by zero encountered in double_scalars\n",
      "  aspratio = width/height\n"
     ]
    },
    {
     "name": "stdout",
     "output_type": "stream",
     "text": [
      "Optimal parameters not found. Print NaN instead.\n",
      "Optimal parameters not found. Print NaN instead.\n",
      "Optimal parameters not found. Print NaN instead.\n",
      "Optimal parameters not found. Print NaN instead.\n",
      "Optimal parameters not found. Print NaN instead.\n",
      "Optimal parameters not found. Print NaN instead.\n",
      "Optimal parameters not found. Print NaN instead.\n"
     ]
    },
    {
     "name": "stderr",
     "output_type": "stream",
     "text": [
      "/home/ubuntu/miniconda3/lib/python3.6/site-packages/scipy/optimize/minpack.py:779: OptimizeWarning: Covariance of the parameters could not be estimated\n",
      "  category=OptimizeWarning)\n"
     ]
    },
    {
     "name": "stdout",
     "output_type": "stream",
     "text": [
      "Optimal parameters not found. Print NaN instead.\n",
      "Optimal parameters not found. Print NaN instead.\n",
      "Successfully output msds for OGD_0_5h_slice_3_striatum_vid_5\n",
      "Done calculating MSDs for row 0 and col 1\n",
      "Done calculating MSDs for row 0 and col 2\n",
      "Done calculating MSDs for row 0 and col 3\n",
      "Done calculating MSDs for row 1 and col 0\n",
      "Done calculating MSDs for row 1 and col 1\n",
      "Done calculating MSDs for row 1 and col 2\n",
      "Done calculating MSDs for row 1 and col 3\n",
      "Done calculating MSDs for row 2 and col 0\n",
      "Done calculating MSDs for row 2 and col 1\n",
      "Done calculating MSDs for row 2 and col 2\n",
      "Done calculating MSDs for row 2 and col 3\n",
      "Done calculating MSDs for row 3 and col 0\n",
      "Done calculating MSDs for row 3 and col 1\n",
      "Done calculating MSDs for row 3 and col 2\n",
      "Done calculating MSDs for row 3 and col 3\n"
     ]
    },
    {
     "name": "stderr",
     "output_type": "stream",
     "text": [
      "/home/ubuntu/source/diff-classifier/diff_classifier/features.py:510: RuntimeWarning: divide by zero encountered in double_scalars\n",
      "  aspratio = width/height\n"
     ]
    },
    {
     "name": "stdout",
     "output_type": "stream",
     "text": [
      "Optimal parameters not found. Print NaN instead.\n",
      "Optimal parameters not found. Print NaN instead.\n",
      "Optimal parameters not found. Print NaN instead.\n",
      "Optimal parameters not found. Print NaN instead.\n"
     ]
    },
    {
     "name": "stderr",
     "output_type": "stream",
     "text": [
      "/home/ubuntu/source/diff-classifier/diff_classifier/features.py:717: RuntimeWarning: divide by zero encountered in double_scalars\n",
      "  ratio = (dframe['MSDs'][fram1]/dframe['MSDs'][fram2]) - (\n"
     ]
    },
    {
     "name": "stdout",
     "output_type": "stream",
     "text": [
      "Optimal parameters not found. Print NaN instead.\n",
      "Optimal parameters not found. Print NaN instead.\n",
      "Optimal parameters not found. Print NaN instead.\n",
      "Optimal parameters not found. Print NaN instead.\n",
      "Optimal parameters not found. Print NaN instead.\n",
      "Optimal parameters not found. Print NaN instead.\n",
      "Optimal parameters not found. Print NaN instead.\n",
      "Optimal parameters not found. Print NaN instead.\n",
      "Optimal parameters not found. Print NaN instead.\n",
      "Optimal parameters not found. Print NaN instead.\n",
      "Successfully output msds for OGD_1_5h_slice_1_cortex_vid_1\n",
      "Done calculating MSDs for row 0 and col 1\n",
      "Done calculating MSDs for row 0 and col 2\n",
      "Done calculating MSDs for row 0 and col 3\n",
      "Done calculating MSDs for row 1 and col 0\n",
      "Done calculating MSDs for row 1 and col 1\n",
      "Done calculating MSDs for row 1 and col 2\n",
      "Done calculating MSDs for row 1 and col 3\n",
      "Done calculating MSDs for row 2 and col 0\n",
      "Done calculating MSDs for row 2 and col 1\n",
      "Done calculating MSDs for row 2 and col 2\n",
      "Done calculating MSDs for row 2 and col 3\n",
      "Done calculating MSDs for row 3 and col 0\n",
      "Done calculating MSDs for row 3 and col 1\n",
      "Done calculating MSDs for row 3 and col 2\n",
      "Done calculating MSDs for row 3 and col 3\n",
      "Optimal parameters not found. Print NaN instead.\n"
     ]
    },
    {
     "name": "stderr",
     "output_type": "stream",
     "text": [
      "/home/ubuntu/source/diff-classifier/diff_classifier/features.py:510: RuntimeWarning: divide by zero encountered in double_scalars\n",
      "  aspratio = width/height\n"
     ]
    },
    {
     "name": "stdout",
     "output_type": "stream",
     "text": [
      "Optimal parameters not found. Print NaN instead.\n",
      "Optimal parameters not found. Print NaN instead.\n",
      "Optimal parameters not found. Print NaN instead.\n",
      "Optimal parameters not found. Print NaN instead.\n",
      "Optimal parameters not found. Print NaN instead.\n"
     ]
    },
    {
     "name": "stderr",
     "output_type": "stream",
     "text": [
      "/home/ubuntu/miniconda3/lib/python3.6/site-packages/scipy/optimize/minpack.py:779: OptimizeWarning: Covariance of the parameters could not be estimated\n",
      "  category=OptimizeWarning)\n"
     ]
    },
    {
     "name": "stdout",
     "output_type": "stream",
     "text": [
      "Optimal parameters not found. Print NaN instead.\n"
     ]
    },
    {
     "name": "stderr",
     "output_type": "stream",
     "text": [
      "/home/ubuntu/source/diff-classifier/diff_classifier/features.py:717: RuntimeWarning: divide by zero encountered in double_scalars\n",
      "  ratio = (dframe['MSDs'][fram1]/dframe['MSDs'][fram2]) - (\n"
     ]
    },
    {
     "name": "stdout",
     "output_type": "stream",
     "text": [
      "Successfully output msds for OGD_1_5h_slice_1_cortex_vid_2\n",
      "Done calculating MSDs for row 0 and col 1\n",
      "Done calculating MSDs for row 0 and col 2\n",
      "Done calculating MSDs for row 0 and col 3\n",
      "Done calculating MSDs for row 1 and col 0\n",
      "Done calculating MSDs for row 1 and col 1\n",
      "Done calculating MSDs for row 1 and col 2\n",
      "Done calculating MSDs for row 1 and col 3\n",
      "Done calculating MSDs for row 2 and col 0\n",
      "Done calculating MSDs for row 2 and col 1\n",
      "Done calculating MSDs for row 2 and col 2\n",
      "Done calculating MSDs for row 2 and col 3\n",
      "Done calculating MSDs for row 3 and col 0\n",
      "Done calculating MSDs for row 3 and col 1\n",
      "Done calculating MSDs for row 3 and col 2\n",
      "Done calculating MSDs for row 3 and col 3\n",
      "Optimal parameters not found. Print NaN instead.\n",
      "Optimal parameters not found. Print NaN instead.\n"
     ]
    },
    {
     "name": "stderr",
     "output_type": "stream",
     "text": [
      "/home/ubuntu/source/diff-classifier/diff_classifier/features.py:510: RuntimeWarning: divide by zero encountered in double_scalars\n",
      "  aspratio = width/height\n",
      "/home/ubuntu/source/diff-classifier/diff_classifier/features.py:717: RuntimeWarning: divide by zero encountered in double_scalars\n",
      "  ratio = (dframe['MSDs'][fram1]/dframe['MSDs'][fram2]) - (\n"
     ]
    },
    {
     "name": "stdout",
     "output_type": "stream",
     "text": [
      "Optimal parameters not found. Print NaN instead.\n",
      "Optimal parameters not found. Print NaN instead.\n",
      "Successfully output msds for OGD_1_5h_slice_1_cortex_vid_3\n",
      "Done calculating MSDs for row 0 and col 1\n",
      "Done calculating MSDs for row 0 and col 2\n",
      "Done calculating MSDs for row 0 and col 3\n",
      "Done calculating MSDs for row 1 and col 0\n",
      "Done calculating MSDs for row 1 and col 1\n",
      "Done calculating MSDs for row 1 and col 2\n",
      "Done calculating MSDs for row 1 and col 3\n",
      "Done calculating MSDs for row 2 and col 0\n",
      "Done calculating MSDs for row 2 and col 1\n",
      "Done calculating MSDs for row 2 and col 2\n",
      "Done calculating MSDs for row 2 and col 3\n",
      "Done calculating MSDs for row 3 and col 0\n",
      "Done calculating MSDs for row 3 and col 1\n",
      "Done calculating MSDs for row 3 and col 2\n",
      "Done calculating MSDs for row 3 and col 3\n",
      "Optimal parameters not found. Print NaN instead.\n",
      "Optimal parameters not found. Print NaN instead.\n",
      "Optimal parameters not found. Print NaN instead.\n"
     ]
    },
    {
     "name": "stderr",
     "output_type": "stream",
     "text": [
      "/home/ubuntu/source/diff-classifier/diff_classifier/features.py:510: RuntimeWarning: divide by zero encountered in double_scalars\n",
      "  aspratio = width/height\n"
     ]
    },
    {
     "name": "stdout",
     "output_type": "stream",
     "text": [
      "Optimal parameters not found. Print NaN instead.\n",
      "Optimal parameters not found. Print NaN instead.\n"
     ]
    },
    {
     "name": "stderr",
     "output_type": "stream",
     "text": [
      "/home/ubuntu/source/diff-classifier/diff_classifier/features.py:717: RuntimeWarning: divide by zero encountered in double_scalars\n",
      "  ratio = (dframe['MSDs'][fram1]/dframe['MSDs'][fram2]) - (\n"
     ]
    },
    {
     "name": "stdout",
     "output_type": "stream",
     "text": [
      "Optimal parameters not found. Print NaN instead.\n",
      "Optimal parameters not found. Print NaN instead.\n",
      "Optimal parameters not found. Print NaN instead.\n",
      "Optimal parameters not found. Print NaN instead.\n",
      "Optimal parameters not found. Print NaN instead.\n",
      "Successfully output msds for OGD_1_5h_slice_1_cortex_vid_4\n",
      "Done calculating MSDs for row 0 and col 1\n",
      "Done calculating MSDs for row 0 and col 2\n",
      "Done calculating MSDs for row 0 and col 3\n",
      "Done calculating MSDs for row 1 and col 0\n",
      "Done calculating MSDs for row 1 and col 1\n",
      "Done calculating MSDs for row 1 and col 2\n",
      "Done calculating MSDs for row 1 and col 3\n",
      "Done calculating MSDs for row 2 and col 0\n",
      "Done calculating MSDs for row 2 and col 1\n",
      "Done calculating MSDs for row 2 and col 2\n",
      "Done calculating MSDs for row 2 and col 3\n",
      "Done calculating MSDs for row 3 and col 0\n",
      "Done calculating MSDs for row 3 and col 1\n",
      "Done calculating MSDs for row 3 and col 2\n",
      "Done calculating MSDs for row 3 and col 3\n"
     ]
    },
    {
     "name": "stderr",
     "output_type": "stream",
     "text": [
      "/home/ubuntu/source/diff-classifier/diff_classifier/features.py:510: RuntimeWarning: divide by zero encountered in double_scalars\n",
      "  aspratio = width/height\n"
     ]
    },
    {
     "name": "stdout",
     "output_type": "stream",
     "text": [
      "Optimal parameters not found. Print NaN instead.\n"
     ]
    },
    {
     "name": "stderr",
     "output_type": "stream",
     "text": [
      "/home/ubuntu/source/diff-classifier/diff_classifier/features.py:717: RuntimeWarning: divide by zero encountered in double_scalars\n",
      "  ratio = (dframe['MSDs'][fram1]/dframe['MSDs'][fram2]) - (\n"
     ]
    },
    {
     "name": "stdout",
     "output_type": "stream",
     "text": [
      "Optimal parameters not found. Print NaN instead.\n",
      "Optimal parameters not found. Print NaN instead.\n",
      "Successfully output msds for OGD_1_5h_slice_1_cortex_vid_5\n",
      "Done calculating MSDs for row 0 and col 1\n",
      "Done calculating MSDs for row 0 and col 2\n",
      "Done calculating MSDs for row 0 and col 3\n",
      "Done calculating MSDs for row 1 and col 0\n",
      "Done calculating MSDs for row 1 and col 1\n",
      "Done calculating MSDs for row 1 and col 2\n",
      "Done calculating MSDs for row 1 and col 3\n",
      "Done calculating MSDs for row 2 and col 0\n",
      "Done calculating MSDs for row 2 and col 1\n",
      "Done calculating MSDs for row 2 and col 2\n",
      "Done calculating MSDs for row 2 and col 3\n",
      "Done calculating MSDs for row 3 and col 0\n",
      "Done calculating MSDs for row 3 and col 1\n",
      "Done calculating MSDs for row 3 and col 2\n",
      "Done calculating MSDs for row 3 and col 3\n",
      "Optimal parameters not found. Print NaN instead.\n"
     ]
    },
    {
     "name": "stderr",
     "output_type": "stream",
     "text": [
      "/home/ubuntu/source/diff-classifier/diff_classifier/features.py:510: RuntimeWarning: divide by zero encountered in double_scalars\n",
      "  aspratio = width/height\n"
     ]
    },
    {
     "name": "stdout",
     "output_type": "stream",
     "text": [
      "Optimal parameters not found. Print NaN instead.\n",
      "Optimal parameters not found. Print NaN instead.\n",
      "Optimal parameters not found. Print NaN instead.\n",
      "Optimal parameters not found. Print NaN instead.\n",
      "Optimal parameters not found. Print NaN instead.\n",
      "Optimal parameters not found. Print NaN instead.\n",
      "Optimal parameters not found. Print NaN instead.\n",
      "Optimal parameters not found. Print NaN instead.\n",
      "Optimal parameters not found. Print NaN instead.\n",
      "Optimal parameters not found. Print NaN instead.\n"
     ]
    },
    {
     "name": "stderr",
     "output_type": "stream",
     "text": [
      "/home/ubuntu/miniconda3/lib/python3.6/site-packages/scipy/optimize/minpack.py:779: OptimizeWarning: Covariance of the parameters could not be estimated\n",
      "  category=OptimizeWarning)\n"
     ]
    },
    {
     "name": "stdout",
     "output_type": "stream",
     "text": [
      "Optimal parameters not found. Print NaN instead.\n",
      "Optimal parameters not found. Print NaN instead.\n",
      "Optimal parameters not found. Print NaN instead.\n",
      "Optimal parameters not found. Print NaN instead.\n",
      "Successfully output msds for OGD_1_5h_slice_1_striatum_vid_1\n",
      "Done calculating MSDs for row 0 and col 1\n",
      "Done calculating MSDs for row 0 and col 2\n",
      "Done calculating MSDs for row 0 and col 3\n",
      "Done calculating MSDs for row 1 and col 0\n",
      "Done calculating MSDs for row 1 and col 1\n",
      "Done calculating MSDs for row 1 and col 2\n",
      "Done calculating MSDs for row 1 and col 3\n",
      "Done calculating MSDs for row 2 and col 0\n",
      "Done calculating MSDs for row 2 and col 1\n",
      "Done calculating MSDs for row 2 and col 2\n",
      "Done calculating MSDs for row 2 and col 3\n",
      "Done calculating MSDs for row 3 and col 0\n",
      "Done calculating MSDs for row 3 and col 1\n",
      "Done calculating MSDs for row 3 and col 2\n",
      "Done calculating MSDs for row 3 and col 3\n",
      "Optimal parameters not found. Print NaN instead.\n"
     ]
    },
    {
     "name": "stderr",
     "output_type": "stream",
     "text": [
      "/home/ubuntu/source/diff-classifier/diff_classifier/features.py:510: RuntimeWarning: divide by zero encountered in double_scalars\n",
      "  aspratio = width/height\n"
     ]
    },
    {
     "name": "stdout",
     "output_type": "stream",
     "text": [
      "Optimal parameters not found. Print NaN instead.\n",
      "Optimal parameters not found. Print NaN instead.\n",
      "Optimal parameters not found. Print NaN instead.\n",
      "Optimal parameters not found. Print NaN instead.\n",
      "Optimal parameters not found. Print NaN instead.\n",
      "Optimal parameters not found. Print NaN instead.\n",
      "Optimal parameters not found. Print NaN instead.\n",
      "Optimal parameters not found. Print NaN instead.\n",
      "Optimal parameters not found. Print NaN instead.\n",
      "Optimal parameters not found. Print NaN instead.\n"
     ]
    },
    {
     "name": "stderr",
     "output_type": "stream",
     "text": [
      "/home/ubuntu/miniconda3/lib/python3.6/site-packages/scipy/optimize/minpack.py:779: OptimizeWarning: Covariance of the parameters could not be estimated\n",
      "  category=OptimizeWarning)\n"
     ]
    },
    {
     "name": "stdout",
     "output_type": "stream",
     "text": [
      "Optimal parameters not found. Print NaN instead.\n",
      "Optimal parameters not found. Print NaN instead.\n",
      "Optimal parameters not found. Print NaN instead.\n"
     ]
    },
    {
     "name": "stderr",
     "output_type": "stream",
     "text": [
      "/home/ubuntu/source/diff-classifier/diff_classifier/features.py:717: RuntimeWarning: divide by zero encountered in double_scalars\n",
      "  ratio = (dframe['MSDs'][fram1]/dframe['MSDs'][fram2]) - (\n"
     ]
    },
    {
     "name": "stdout",
     "output_type": "stream",
     "text": [
      "Optimal parameters not found. Print NaN instead.\n",
      "Optimal parameters not found. Print NaN instead.\n",
      "Optimal parameters not found. Print NaN instead.\n",
      "Optimal parameters not found. Print NaN instead.\n",
      "Optimal parameters not found. Print NaN instead.\n",
      "Optimal parameters not found. Print NaN instead.\n",
      "Optimal parameters not found. Print NaN instead.\n",
      "Optimal parameters not found. Print NaN instead.\n",
      "Optimal parameters not found. Print NaN instead.\n",
      "Optimal parameters not found. Print NaN instead.\n",
      "Optimal parameters not found. Print NaN instead.\n",
      "Successfully output msds for OGD_1_5h_slice_1_striatum_vid_2\n",
      "Done calculating MSDs for row 0 and col 1\n",
      "Done calculating MSDs for row 0 and col 2\n",
      "Done calculating MSDs for row 0 and col 3\n",
      "Done calculating MSDs for row 1 and col 0\n",
      "Done calculating MSDs for row 1 and col 1\n",
      "Done calculating MSDs for row 1 and col 2\n",
      "Done calculating MSDs for row 1 and col 3\n",
      "Done calculating MSDs for row 2 and col 0\n",
      "Done calculating MSDs for row 2 and col 1\n",
      "Done calculating MSDs for row 2 and col 2\n",
      "Done calculating MSDs for row 2 and col 3\n",
      "Done calculating MSDs for row 3 and col 0\n",
      "Done calculating MSDs for row 3 and col 1\n",
      "Done calculating MSDs for row 3 and col 2\n",
      "Done calculating MSDs for row 3 and col 3\n"
     ]
    },
    {
     "name": "stderr",
     "output_type": "stream",
     "text": [
      "/home/ubuntu/source/diff-classifier/diff_classifier/features.py:510: RuntimeWarning: divide by zero encountered in double_scalars\n",
      "  aspratio = width/height\n"
     ]
    },
    {
     "name": "stdout",
     "output_type": "stream",
     "text": [
      "Optimal parameters not found. Print NaN instead.\n",
      "Optimal parameters not found. Print NaN instead.\n",
      "Optimal parameters not found. Print NaN instead.\n",
      "Optimal parameters not found. Print NaN instead.\n",
      "Optimal parameters not found. Print NaN instead.\n",
      "Optimal parameters not found. Print NaN instead.\n",
      "Optimal parameters not found. Print NaN instead.\n",
      "Optimal parameters not found. Print NaN instead.\n",
      "Optimal parameters not found. Print NaN instead.\n",
      "Optimal parameters not found. Print NaN instead.\n",
      "Optimal parameters not found. Print NaN instead.\n",
      "Optimal parameters not found. Print NaN instead.\n",
      "Optimal parameters not found. Print NaN instead.\n",
      "Optimal parameters not found. Print NaN instead.\n",
      "Optimal parameters not found. Print NaN instead.\n"
     ]
    },
    {
     "name": "stderr",
     "output_type": "stream",
     "text": [
      "/home/ubuntu/source/diff-classifier/diff_classifier/features.py:313: RuntimeWarning: invalid value encountered in double_scalars\n",
      "  asym1 = (eig1**2 - eig2**2)**2/(eig1**2 + eig2**2)**2\n",
      "/home/ubuntu/source/diff-classifier/diff_classifier/features.py:314: RuntimeWarning: invalid value encountered in double_scalars\n",
      "  asym2 = eig2/eig1\n",
      "/home/ubuntu/source/diff-classifier/diff_classifier/features.py:315: RuntimeWarning: invalid value encountered in double_scalars\n",
      "  asym3 = -np.log(1-((eig1-eig2)**2)/(2*(eig1+eig2)**2))\n",
      "/home/ubuntu/source/diff-classifier/diff_classifier/features.py:510: RuntimeWarning: invalid value encountered in double_scalars\n",
      "  aspratio = width/height\n",
      "/home/ubuntu/source/diff-classifier/diff_classifier/features.py:602: RuntimeWarning: invalid value encountered in double_scalars\n",
      "  bound = dcoef*fram/(rad**2)\n",
      "/home/ubuntu/source/diff-classifier/diff_classifier/features.py:603: RuntimeWarning: invalid value encountered in double_scalars\n",
      "  fractd = np.log(N)/np.log(N*2*rad/netdisp)\n",
      "/home/ubuntu/source/diff-classifier/diff_classifier/features.py:604: RuntimeWarning: invalid value encountered in double_scalars\n",
      "  probf = 1 - np.exp(0.2048 - 0.25117*(dcoef*fram/(rad**2)))\n",
      "/home/ubuntu/source/diff-classifier/diff_classifier/features.py:667: RuntimeWarning: invalid value encountered in double_scalars\n",
      "  eff = num/den\n",
      "/home/ubuntu/source/diff-classifier/diff_classifier/features.py:668: RuntimeWarning: invalid value encountered in double_scalars\n",
      "  strait = num2/den2\n",
      "/home/ubuntu/source/diff-classifier/diff_classifier/features.py:717: RuntimeWarning: invalid value encountered in double_scalars\n",
      "  ratio = (dframe['MSDs'][fram1]/dframe['MSDs'][fram2]) - (\n"
     ]
    },
    {
     "name": "stdout",
     "output_type": "stream",
     "text": [
      "Successfully output msds for OGD_1_5h_slice_1_striatum_vid_3\n",
      "Done calculating MSDs for row 0 and col 1\n",
      "Done calculating MSDs for row 0 and col 2\n",
      "Done calculating MSDs for row 0 and col 3\n",
      "Done calculating MSDs for row 1 and col 0\n",
      "Done calculating MSDs for row 1 and col 1\n",
      "Done calculating MSDs for row 1 and col 2\n",
      "Done calculating MSDs for row 1 and col 3\n",
      "Done calculating MSDs for row 2 and col 0\n",
      "Done calculating MSDs for row 2 and col 1\n",
      "Done calculating MSDs for row 2 and col 2\n",
      "Done calculating MSDs for row 2 and col 3\n",
      "Done calculating MSDs for row 3 and col 0\n",
      "Done calculating MSDs for row 3 and col 1\n",
      "Done calculating MSDs for row 3 and col 2\n",
      "Done calculating MSDs for row 3 and col 3\n"
     ]
    },
    {
     "name": "stderr",
     "output_type": "stream",
     "text": [
      "/home/ubuntu/source/diff-classifier/diff_classifier/features.py:510: RuntimeWarning: divide by zero encountered in double_scalars\n",
      "  aspratio = width/height\n"
     ]
    },
    {
     "name": "stdout",
     "output_type": "stream",
     "text": [
      "Optimal parameters not found. Print NaN instead.\n",
      "Optimal parameters not found. Print NaN instead.\n",
      "Optimal parameters not found. Print NaN instead.\n",
      "Optimal parameters not found. Print NaN instead.\n",
      "Optimal parameters not found. Print NaN instead.\n",
      "Optimal parameters not found. Print NaN instead.\n",
      "Optimal parameters not found. Print NaN instead.\n",
      "Optimal parameters not found. Print NaN instead.\n",
      "Optimal parameters not found. Print NaN instead.\n",
      "Optimal parameters not found. Print NaN instead.\n",
      "Optimal parameters not found. Print NaN instead.\n",
      "Optimal parameters not found. Print NaN instead.\n"
     ]
    },
    {
     "name": "stderr",
     "output_type": "stream",
     "text": [
      "/home/ubuntu/source/diff-classifier/diff_classifier/features.py:717: RuntimeWarning: divide by zero encountered in double_scalars\n",
      "  ratio = (dframe['MSDs'][fram1]/dframe['MSDs'][fram2]) - (\n"
     ]
    },
    {
     "name": "stdout",
     "output_type": "stream",
     "text": [
      "Optimal parameters not found. Print NaN instead.\n",
      "Optimal parameters not found. Print NaN instead.\n",
      "Optimal parameters not found. Print NaN instead.\n",
      "Successfully output msds for OGD_1_5h_slice_1_striatum_vid_4\n",
      "Done calculating MSDs for row 0 and col 1\n",
      "Done calculating MSDs for row 0 and col 2\n",
      "Done calculating MSDs for row 0 and col 3\n",
      "Done calculating MSDs for row 1 and col 0\n",
      "Done calculating MSDs for row 1 and col 1\n",
      "Done calculating MSDs for row 1 and col 2\n",
      "Done calculating MSDs for row 1 and col 3\n",
      "Done calculating MSDs for row 2 and col 0\n",
      "Done calculating MSDs for row 2 and col 1\n",
      "Done calculating MSDs for row 2 and col 2\n",
      "Done calculating MSDs for row 2 and col 3\n",
      "Done calculating MSDs for row 3 and col 0\n",
      "Done calculating MSDs for row 3 and col 1\n",
      "Done calculating MSDs for row 3 and col 2\n",
      "Done calculating MSDs for row 3 and col 3\n",
      "Optimal parameters not found. Print NaN instead.\n"
     ]
    },
    {
     "name": "stderr",
     "output_type": "stream",
     "text": [
      "/home/ubuntu/source/diff-classifier/diff_classifier/features.py:510: RuntimeWarning: divide by zero encountered in double_scalars\n",
      "  aspratio = width/height\n"
     ]
    },
    {
     "name": "stdout",
     "output_type": "stream",
     "text": [
      "Optimal parameters not found. Print NaN instead.\n",
      "Optimal parameters not found. Print NaN instead.\n",
      "Optimal parameters not found. Print NaN instead.\n",
      "Optimal parameters not found. Print NaN instead.\n",
      "Optimal parameters not found. Print NaN instead.\n",
      "Optimal parameters not found. Print NaN instead.\n"
     ]
    },
    {
     "name": "stderr",
     "output_type": "stream",
     "text": [
      "/home/ubuntu/miniconda3/lib/python3.6/site-packages/scipy/optimize/minpack.py:779: OptimizeWarning: Covariance of the parameters could not be estimated\n",
      "  category=OptimizeWarning)\n"
     ]
    },
    {
     "name": "stdout",
     "output_type": "stream",
     "text": [
      "Optimal parameters not found. Print NaN instead.\n",
      "Optimal parameters not found. Print NaN instead.\n",
      "Optimal parameters not found. Print NaN instead.\n"
     ]
    },
    {
     "name": "stderr",
     "output_type": "stream",
     "text": [
      "/home/ubuntu/source/diff-classifier/diff_classifier/features.py:717: RuntimeWarning: divide by zero encountered in double_scalars\n",
      "  ratio = (dframe['MSDs'][fram1]/dframe['MSDs'][fram2]) - (\n"
     ]
    },
    {
     "name": "stdout",
     "output_type": "stream",
     "text": [
      "Optimal parameters not found. Print NaN instead.\n",
      "Optimal parameters not found. Print NaN instead.\n",
      "Optimal parameters not found. Print NaN instead.\n",
      "Optimal parameters not found. Print NaN instead.\n",
      "Optimal parameters not found. Print NaN instead.\n",
      "Optimal parameters not found. Print NaN instead.\n",
      "Optimal parameters not found. Print NaN instead.\n",
      "Successfully output msds for OGD_1_5h_slice_1_striatum_vid_5\n",
      "Done calculating MSDs for row 0 and col 1\n",
      "Done calculating MSDs for row 0 and col 2\n",
      "Done calculating MSDs for row 0 and col 3\n",
      "Done calculating MSDs for row 1 and col 0\n",
      "Done calculating MSDs for row 1 and col 1\n",
      "Done calculating MSDs for row 1 and col 2\n",
      "Done calculating MSDs for row 1 and col 3\n",
      "Done calculating MSDs for row 2 and col 0\n",
      "Done calculating MSDs for row 2 and col 1\n",
      "Done calculating MSDs for row 2 and col 2\n",
      "Done calculating MSDs for row 2 and col 3\n",
      "Done calculating MSDs for row 3 and col 0\n",
      "Done calculating MSDs for row 3 and col 1\n",
      "Done calculating MSDs for row 3 and col 2\n",
      "Done calculating MSDs for row 3 and col 3\n",
      "Optimal parameters not found. Print NaN instead.\n"
     ]
    },
    {
     "name": "stderr",
     "output_type": "stream",
     "text": [
      "/home/ubuntu/source/diff-classifier/diff_classifier/features.py:510: RuntimeWarning: divide by zero encountered in double_scalars\n",
      "  aspratio = width/height\n"
     ]
    },
    {
     "name": "stdout",
     "output_type": "stream",
     "text": [
      "Optimal parameters not found. Print NaN instead.\n",
      "Optimal parameters not found. Print NaN instead.\n",
      "Optimal parameters not found. Print NaN instead.\n"
     ]
    },
    {
     "name": "stderr",
     "output_type": "stream",
     "text": [
      "/home/ubuntu/source/diff-classifier/diff_classifier/features.py:717: RuntimeWarning: divide by zero encountered in double_scalars\n",
      "  ratio = (dframe['MSDs'][fram1]/dframe['MSDs'][fram2]) - (\n"
     ]
    },
    {
     "name": "stdout",
     "output_type": "stream",
     "text": [
      "Optimal parameters not found. Print NaN instead.\n"
     ]
    },
    {
     "name": "stderr",
     "output_type": "stream",
     "text": [
      "/home/ubuntu/miniconda3/lib/python3.6/site-packages/scipy/optimize/minpack.py:779: OptimizeWarning: Covariance of the parameters could not be estimated\n",
      "  category=OptimizeWarning)\n"
     ]
    },
    {
     "name": "stdout",
     "output_type": "stream",
     "text": [
      "Optimal parameters not found. Print NaN instead.\n",
      "Optimal parameters not found. Print NaN instead.\n",
      "Optimal parameters not found. Print NaN instead.\n",
      "Optimal parameters not found. Print NaN instead.\n"
     ]
    },
    {
     "name": "stderr",
     "output_type": "stream",
     "text": [
      "/home/ubuntu/source/diff-classifier/diff_classifier/features.py:313: RuntimeWarning: invalid value encountered in double_scalars\n",
      "  asym1 = (eig1**2 - eig2**2)**2/(eig1**2 + eig2**2)**2\n",
      "/home/ubuntu/source/diff-classifier/diff_classifier/features.py:314: RuntimeWarning: invalid value encountered in double_scalars\n",
      "  asym2 = eig2/eig1\n",
      "/home/ubuntu/source/diff-classifier/diff_classifier/features.py:315: RuntimeWarning: invalid value encountered in double_scalars\n",
      "  asym3 = -np.log(1-((eig1-eig2)**2)/(2*(eig1+eig2)**2))\n",
      "/home/ubuntu/source/diff-classifier/diff_classifier/features.py:510: RuntimeWarning: invalid value encountered in double_scalars\n",
      "  aspratio = width/height\n",
      "/home/ubuntu/source/diff-classifier/diff_classifier/features.py:602: RuntimeWarning: invalid value encountered in double_scalars\n",
      "  bound = dcoef*fram/(rad**2)\n",
      "/home/ubuntu/source/diff-classifier/diff_classifier/features.py:603: RuntimeWarning: invalid value encountered in double_scalars\n",
      "  fractd = np.log(N)/np.log(N*2*rad/netdisp)\n",
      "/home/ubuntu/source/diff-classifier/diff_classifier/features.py:604: RuntimeWarning: invalid value encountered in double_scalars\n",
      "  probf = 1 - np.exp(0.2048 - 0.25117*(dcoef*fram/(rad**2)))\n",
      "/home/ubuntu/source/diff-classifier/diff_classifier/features.py:667: RuntimeWarning: invalid value encountered in double_scalars\n",
      "  eff = num/den\n",
      "/home/ubuntu/source/diff-classifier/diff_classifier/features.py:668: RuntimeWarning: invalid value encountered in double_scalars\n",
      "  strait = num2/den2\n",
      "/home/ubuntu/source/diff-classifier/diff_classifier/features.py:717: RuntimeWarning: invalid value encountered in double_scalars\n",
      "  ratio = (dframe['MSDs'][fram1]/dframe['MSDs'][fram2]) - (\n"
     ]
    },
    {
     "name": "stdout",
     "output_type": "stream",
     "text": [
      "Optimal parameters not found. Print NaN instead.\n",
      "Optimal parameters not found. Print NaN instead.\n",
      "Optimal parameters not found. Print NaN instead.\n",
      "Optimal parameters not found. Print NaN instead.\n",
      "Optimal parameters not found. Print NaN instead.\n",
      "Optimal parameters not found. Print NaN instead.\n",
      "Optimal parameters not found. Print NaN instead.\n",
      "Optimal parameters not found. Print NaN instead.\n",
      "Optimal parameters not found. Print NaN instead.\n",
      "Optimal parameters not found. Print NaN instead.\n",
      "Optimal parameters not found. Print NaN instead.\n",
      "Optimal parameters not found. Print NaN instead.\n",
      "Optimal parameters not found. Print NaN instead.\n",
      "Optimal parameters not found. Print NaN instead.\n",
      "Optimal parameters not found. Print NaN instead.\n",
      "Optimal parameters not found. Print NaN instead.\n",
      "Optimal parameters not found. Print NaN instead.\n",
      "Optimal parameters not found. Print NaN instead.\n",
      "Optimal parameters not found. Print NaN instead.\n",
      "Optimal parameters not found. Print NaN instead.\n",
      "Optimal parameters not found. Print NaN instead.\n",
      "Optimal parameters not found. Print NaN instead.\n",
      "Optimal parameters not found. Print NaN instead.\n",
      "Optimal parameters not found. Print NaN instead.\n",
      "Optimal parameters not found. Print NaN instead.\n",
      "Optimal parameters not found. Print NaN instead.\n",
      "Successfully output msds for OGD_1_5h_slice_2_cortex_vid_1\n",
      "Done calculating MSDs for row 0 and col 1\n",
      "Done calculating MSDs for row 0 and col 2\n",
      "Done calculating MSDs for row 0 and col 3\n",
      "Done calculating MSDs for row 1 and col 0\n",
      "Done calculating MSDs for row 1 and col 1\n",
      "Done calculating MSDs for row 1 and col 2\n",
      "Done calculating MSDs for row 1 and col 3\n",
      "Done calculating MSDs for row 2 and col 0\n",
      "Done calculating MSDs for row 2 and col 1\n",
      "Done calculating MSDs for row 2 and col 2\n",
      "Done calculating MSDs for row 2 and col 3\n",
      "Done calculating MSDs for row 3 and col 0\n",
      "Done calculating MSDs for row 3 and col 1\n",
      "Done calculating MSDs for row 3 and col 2\n",
      "Done calculating MSDs for row 3 and col 3\n",
      "Optimal parameters not found. Print NaN instead.\n",
      "Optimal parameters not found. Print NaN instead.\n"
     ]
    },
    {
     "name": "stderr",
     "output_type": "stream",
     "text": [
      "/home/ubuntu/source/diff-classifier/diff_classifier/features.py:510: RuntimeWarning: divide by zero encountered in double_scalars\n",
      "  aspratio = width/height\n"
     ]
    },
    {
     "name": "stdout",
     "output_type": "stream",
     "text": [
      "Optimal parameters not found. Print NaN instead.\n",
      "Optimal parameters not found. Print NaN instead.\n",
      "Optimal parameters not found. Print NaN instead.\n",
      "Optimal parameters not found. Print NaN instead.\n",
      "Optimal parameters not found. Print NaN instead.\n",
      "Optimal parameters not found. Print NaN instead.\n",
      "Optimal parameters not found. Print NaN instead.\n",
      "Optimal parameters not found. Print NaN instead.\n",
      "Optimal parameters not found. Print NaN instead.\n",
      "Optimal parameters not found. Print NaN instead.\n",
      "Optimal parameters not found. Print NaN instead.\n",
      "Optimal parameters not found. Print NaN instead.\n",
      "Optimal parameters not found. Print NaN instead.\n",
      "Optimal parameters not found. Print NaN instead.\n",
      "Optimal parameters not found. Print NaN instead.\n",
      "Optimal parameters not found. Print NaN instead.\n"
     ]
    },
    {
     "name": "stderr",
     "output_type": "stream",
     "text": [
      "/home/ubuntu/source/diff-classifier/diff_classifier/features.py:313: RuntimeWarning: invalid value encountered in double_scalars\n",
      "  asym1 = (eig1**2 - eig2**2)**2/(eig1**2 + eig2**2)**2\n",
      "/home/ubuntu/source/diff-classifier/diff_classifier/features.py:314: RuntimeWarning: invalid value encountered in double_scalars\n",
      "  asym2 = eig2/eig1\n",
      "/home/ubuntu/source/diff-classifier/diff_classifier/features.py:315: RuntimeWarning: invalid value encountered in double_scalars\n",
      "  asym3 = -np.log(1-((eig1-eig2)**2)/(2*(eig1+eig2)**2))\n",
      "/home/ubuntu/source/diff-classifier/diff_classifier/features.py:510: RuntimeWarning: invalid value encountered in double_scalars\n",
      "  aspratio = width/height\n",
      "/home/ubuntu/source/diff-classifier/diff_classifier/features.py:602: RuntimeWarning: invalid value encountered in double_scalars\n",
      "  bound = dcoef*fram/(rad**2)\n",
      "/home/ubuntu/source/diff-classifier/diff_classifier/features.py:603: RuntimeWarning: invalid value encountered in double_scalars\n",
      "  fractd = np.log(N)/np.log(N*2*rad/netdisp)\n",
      "/home/ubuntu/source/diff-classifier/diff_classifier/features.py:604: RuntimeWarning: invalid value encountered in double_scalars\n",
      "  probf = 1 - np.exp(0.2048 - 0.25117*(dcoef*fram/(rad**2)))\n",
      "/home/ubuntu/source/diff-classifier/diff_classifier/features.py:667: RuntimeWarning: invalid value encountered in double_scalars\n",
      "  eff = num/den\n",
      "/home/ubuntu/source/diff-classifier/diff_classifier/features.py:668: RuntimeWarning: invalid value encountered in double_scalars\n",
      "  strait = num2/den2\n",
      "/home/ubuntu/source/diff-classifier/diff_classifier/features.py:717: RuntimeWarning: invalid value encountered in double_scalars\n",
      "  ratio = (dframe['MSDs'][fram1]/dframe['MSDs'][fram2]) - (\n"
     ]
    },
    {
     "name": "stdout",
     "output_type": "stream",
     "text": [
      "Optimal parameters not found. Print NaN instead.\n",
      "Optimal parameters not found. Print NaN instead.\n",
      "Optimal parameters not found. Print NaN instead.\n",
      "Optimal parameters not found. Print NaN instead.\n",
      "Optimal parameters not found. Print NaN instead.\n",
      "Optimal parameters not found. Print NaN instead.\n",
      "Optimal parameters not found. Print NaN instead.\n",
      "Optimal parameters not found. Print NaN instead.\n",
      "Optimal parameters not found. Print NaN instead.\n",
      "Optimal parameters not found. Print NaN instead.\n",
      "Optimal parameters not found. Print NaN instead.\n",
      "Optimal parameters not found. Print NaN instead.\n",
      "Optimal parameters not found. Print NaN instead.\n",
      "Optimal parameters not found. Print NaN instead.\n",
      "Optimal parameters not found. Print NaN instead.\n",
      "Optimal parameters not found. Print NaN instead.\n"
     ]
    },
    {
     "name": "stderr",
     "output_type": "stream",
     "text": [
      "/home/ubuntu/miniconda3/lib/python3.6/site-packages/scipy/optimize/minpack.py:779: OptimizeWarning: Covariance of the parameters could not be estimated\n",
      "  category=OptimizeWarning)\n"
     ]
    },
    {
     "name": "stdout",
     "output_type": "stream",
     "text": [
      "Optimal parameters not found. Print NaN instead.\n",
      "Optimal parameters not found. Print NaN instead.\n",
      "Optimal parameters not found. Print NaN instead.\n",
      "Optimal parameters not found. Print NaN instead.\n"
     ]
    },
    {
     "name": "stderr",
     "output_type": "stream",
     "text": [
      "/home/ubuntu/source/diff-classifier/diff_classifier/features.py:717: RuntimeWarning: divide by zero encountered in double_scalars\n",
      "  ratio = (dframe['MSDs'][fram1]/dframe['MSDs'][fram2]) - (\n"
     ]
    },
    {
     "name": "stdout",
     "output_type": "stream",
     "text": [
      "Optimal parameters not found. Print NaN instead.\n",
      "Optimal parameters not found. Print NaN instead.\n",
      "Optimal parameters not found. Print NaN instead.\n",
      "Optimal parameters not found. Print NaN instead.\n",
      "Successfully output msds for OGD_1_5h_slice_2_cortex_vid_2\n",
      "Done calculating MSDs for row 0 and col 1\n",
      "Done calculating MSDs for row 0 and col 2\n",
      "Done calculating MSDs for row 0 and col 3\n",
      "Done calculating MSDs for row 1 and col 0\n",
      "Done calculating MSDs for row 1 and col 1\n",
      "Done calculating MSDs for row 1 and col 2\n",
      "Done calculating MSDs for row 1 and col 3\n",
      "Done calculating MSDs for row 2 and col 0\n",
      "Done calculating MSDs for row 2 and col 1\n",
      "Done calculating MSDs for row 2 and col 2\n",
      "Done calculating MSDs for row 2 and col 3\n",
      "Done calculating MSDs for row 3 and col 0\n",
      "Done calculating MSDs for row 3 and col 1\n",
      "Done calculating MSDs for row 3 and col 2\n",
      "Done calculating MSDs for row 3 and col 3\n",
      "Optimal parameters not found. Print NaN instead.\n",
      "Optimal parameters not found. Print NaN instead.\n",
      "Optimal parameters not found. Print NaN instead.\n",
      "Optimal parameters not found. Print NaN instead.\n"
     ]
    },
    {
     "name": "stderr",
     "output_type": "stream",
     "text": [
      "/home/ubuntu/source/diff-classifier/diff_classifier/features.py:510: RuntimeWarning: divide by zero encountered in double_scalars\n",
      "  aspratio = width/height\n"
     ]
    },
    {
     "name": "stdout",
     "output_type": "stream",
     "text": [
      "Optimal parameters not found. Print NaN instead.\n",
      "Optimal parameters not found. Print NaN instead.\n",
      "Optimal parameters not found. Print NaN instead.\n"
     ]
    },
    {
     "name": "stderr",
     "output_type": "stream",
     "text": [
      "/home/ubuntu/miniconda3/lib/python3.6/site-packages/scipy/optimize/minpack.py:779: OptimizeWarning: Covariance of the parameters could not be estimated\n",
      "  category=OptimizeWarning)\n"
     ]
    },
    {
     "name": "stdout",
     "output_type": "stream",
     "text": [
      "Optimal parameters not found. Print NaN instead.\n"
     ]
    },
    {
     "name": "stderr",
     "output_type": "stream",
     "text": [
      "/home/ubuntu/source/diff-classifier/diff_classifier/features.py:717: RuntimeWarning: divide by zero encountered in double_scalars\n",
      "  ratio = (dframe['MSDs'][fram1]/dframe['MSDs'][fram2]) - (\n"
     ]
    },
    {
     "name": "stdout",
     "output_type": "stream",
     "text": [
      "Optimal parameters not found. Print NaN instead.\n",
      "Optimal parameters not found. Print NaN instead.\n",
      "Optimal parameters not found. Print NaN instead.\n",
      "Optimal parameters not found. Print NaN instead.\n",
      "Optimal parameters not found. Print NaN instead.\n",
      "Optimal parameters not found. Print NaN instead.\n",
      "Optimal parameters not found. Print NaN instead.\n",
      "Optimal parameters not found. Print NaN instead.\n",
      "Optimal parameters not found. Print NaN instead.\n",
      "Optimal parameters not found. Print NaN instead.\n",
      "Optimal parameters not found. Print NaN instead.\n",
      "Optimal parameters not found. Print NaN instead.\n",
      "Optimal parameters not found. Print NaN instead.\n",
      "Optimal parameters not found. Print NaN instead.\n",
      "Optimal parameters not found. Print NaN instead.\n",
      "Optimal parameters not found. Print NaN instead.\n",
      "Optimal parameters not found. Print NaN instead.\n",
      "Optimal parameters not found. Print NaN instead.\n",
      "Optimal parameters not found. Print NaN instead.\n",
      "Optimal parameters not found. Print NaN instead.\n",
      "Optimal parameters not found. Print NaN instead.\n",
      "Optimal parameters not found. Print NaN instead.\n",
      "Optimal parameters not found. Print NaN instead.\n",
      "Optimal parameters not found. Print NaN instead.\n",
      "Optimal parameters not found. Print NaN instead.\n",
      "Optimal parameters not found. Print NaN instead.\n",
      "Optimal parameters not found. Print NaN instead.\n",
      "Optimal parameters not found. Print NaN instead.\n",
      "Optimal parameters not found. Print NaN instead.\n",
      "Optimal parameters not found. Print NaN instead.\n",
      "Optimal parameters not found. Print NaN instead.\n",
      "Optimal parameters not found. Print NaN instead.\n",
      "Optimal parameters not found. Print NaN instead.\n",
      "Successfully output msds for OGD_1_5h_slice_2_cortex_vid_3\n",
      "Done calculating MSDs for row 0 and col 1\n",
      "Done calculating MSDs for row 0 and col 2\n",
      "Done calculating MSDs for row 0 and col 3\n",
      "Done calculating MSDs for row 1 and col 0\n",
      "Done calculating MSDs for row 1 and col 1\n",
      "Done calculating MSDs for row 1 and col 2\n",
      "Done calculating MSDs for row 1 and col 3\n",
      "Done calculating MSDs for row 2 and col 0\n",
      "Done calculating MSDs for row 2 and col 1\n",
      "Done calculating MSDs for row 2 and col 2\n",
      "Done calculating MSDs for row 2 and col 3\n",
      "Done calculating MSDs for row 3 and col 0\n",
      "Done calculating MSDs for row 3 and col 1\n",
      "Done calculating MSDs for row 3 and col 2\n",
      "Done calculating MSDs for row 3 and col 3\n",
      "Optimal parameters not found. Print NaN instead.\n",
      "Optimal parameters not found. Print NaN instead.\n",
      "Optimal parameters not found. Print NaN instead.\n",
      "Optimal parameters not found. Print NaN instead.\n"
     ]
    },
    {
     "name": "stderr",
     "output_type": "stream",
     "text": [
      "/home/ubuntu/source/diff-classifier/diff_classifier/features.py:510: RuntimeWarning: divide by zero encountered in double_scalars\n",
      "  aspratio = width/height\n"
     ]
    },
    {
     "name": "stdout",
     "output_type": "stream",
     "text": [
      "Optimal parameters not found. Print NaN instead.\n",
      "Optimal parameters not found. Print NaN instead.\n",
      "Optimal parameters not found. Print NaN instead.\n",
      "Optimal parameters not found. Print NaN instead.\n",
      "Optimal parameters not found. Print NaN instead.\n",
      "Optimal parameters not found. Print NaN instead.\n",
      "Optimal parameters not found. Print NaN instead.\n",
      "Optimal parameters not found. Print NaN instead.\n",
      "Optimal parameters not found. Print NaN instead.\n",
      "Optimal parameters not found. Print NaN instead.\n",
      "Optimal parameters not found. Print NaN instead.\n",
      "Optimal parameters not found. Print NaN instead.\n",
      "Optimal parameters not found. Print NaN instead.\n",
      "Optimal parameters not found. Print NaN instead.\n"
     ]
    },
    {
     "name": "stderr",
     "output_type": "stream",
     "text": [
      "/home/ubuntu/source/diff-classifier/diff_classifier/features.py:717: RuntimeWarning: divide by zero encountered in double_scalars\n",
      "  ratio = (dframe['MSDs'][fram1]/dframe['MSDs'][fram2]) - (\n"
     ]
    },
    {
     "name": "stdout",
     "output_type": "stream",
     "text": [
      "Optimal parameters not found. Print NaN instead.\n",
      "Optimal parameters not found. Print NaN instead.\n",
      "Optimal parameters not found. Print NaN instead.\n",
      "Optimal parameters not found. Print NaN instead.\n",
      "Optimal parameters not found. Print NaN instead.\n",
      "Optimal parameters not found. Print NaN instead.\n",
      "Optimal parameters not found. Print NaN instead.\n"
     ]
    },
    {
     "name": "stderr",
     "output_type": "stream",
     "text": [
      "/home/ubuntu/source/diff-classifier/diff_classifier/features.py:313: RuntimeWarning: invalid value encountered in double_scalars\n",
      "  asym1 = (eig1**2 - eig2**2)**2/(eig1**2 + eig2**2)**2\n",
      "/home/ubuntu/source/diff-classifier/diff_classifier/features.py:314: RuntimeWarning: invalid value encountered in double_scalars\n",
      "  asym2 = eig2/eig1\n",
      "/home/ubuntu/source/diff-classifier/diff_classifier/features.py:315: RuntimeWarning: invalid value encountered in double_scalars\n",
      "  asym3 = -np.log(1-((eig1-eig2)**2)/(2*(eig1+eig2)**2))\n",
      "/home/ubuntu/source/diff-classifier/diff_classifier/features.py:510: RuntimeWarning: invalid value encountered in double_scalars\n",
      "  aspratio = width/height\n",
      "/home/ubuntu/source/diff-classifier/diff_classifier/features.py:602: RuntimeWarning: invalid value encountered in double_scalars\n",
      "  bound = dcoef*fram/(rad**2)\n",
      "/home/ubuntu/source/diff-classifier/diff_classifier/features.py:603: RuntimeWarning: invalid value encountered in double_scalars\n",
      "  fractd = np.log(N)/np.log(N*2*rad/netdisp)\n",
      "/home/ubuntu/source/diff-classifier/diff_classifier/features.py:604: RuntimeWarning: invalid value encountered in double_scalars\n",
      "  probf = 1 - np.exp(0.2048 - 0.25117*(dcoef*fram/(rad**2)))\n",
      "/home/ubuntu/source/diff-classifier/diff_classifier/features.py:667: RuntimeWarning: invalid value encountered in double_scalars\n",
      "  eff = num/den\n",
      "/home/ubuntu/source/diff-classifier/diff_classifier/features.py:668: RuntimeWarning: invalid value encountered in double_scalars\n",
      "  strait = num2/den2\n",
      "/home/ubuntu/source/diff-classifier/diff_classifier/features.py:717: RuntimeWarning: invalid value encountered in double_scalars\n",
      "  ratio = (dframe['MSDs'][fram1]/dframe['MSDs'][fram2]) - (\n"
     ]
    },
    {
     "name": "stdout",
     "output_type": "stream",
     "text": [
      "Optimal parameters not found. Print NaN instead.\n",
      "Optimal parameters not found. Print NaN instead.\n",
      "Optimal parameters not found. Print NaN instead.\n"
     ]
    },
    {
     "name": "stderr",
     "output_type": "stream",
     "text": [
      "/home/ubuntu/miniconda3/lib/python3.6/site-packages/scipy/optimize/minpack.py:779: OptimizeWarning: Covariance of the parameters could not be estimated\n",
      "  category=OptimizeWarning)\n"
     ]
    },
    {
     "name": "stdout",
     "output_type": "stream",
     "text": [
      "Successfully output msds for OGD_1_5h_slice_2_cortex_vid_4\n",
      "Done calculating MSDs for row 0 and col 1\n",
      "Done calculating MSDs for row 0 and col 2\n",
      "Done calculating MSDs for row 0 and col 3\n",
      "Done calculating MSDs for row 1 and col 0\n",
      "Done calculating MSDs for row 1 and col 1\n",
      "Done calculating MSDs for row 1 and col 2\n",
      "Done calculating MSDs for row 1 and col 3\n",
      "Done calculating MSDs for row 2 and col 0\n",
      "Done calculating MSDs for row 2 and col 1\n",
      "Done calculating MSDs for row 2 and col 2\n",
      "Done calculating MSDs for row 2 and col 3\n",
      "Done calculating MSDs for row 3 and col 0\n",
      "Done calculating MSDs for row 3 and col 1\n",
      "Done calculating MSDs for row 3 and col 2\n",
      "Done calculating MSDs for row 3 and col 3\n"
     ]
    },
    {
     "name": "stderr",
     "output_type": "stream",
     "text": [
      "/home/ubuntu/source/diff-classifier/diff_classifier/features.py:510: RuntimeWarning: divide by zero encountered in double_scalars\n",
      "  aspratio = width/height\n"
     ]
    },
    {
     "name": "stdout",
     "output_type": "stream",
     "text": [
      "Optimal parameters not found. Print NaN instead.\n",
      "Optimal parameters not found. Print NaN instead.\n",
      "Optimal parameters not found. Print NaN instead.\n",
      "Optimal parameters not found. Print NaN instead.\n",
      "Optimal parameters not found. Print NaN instead.\n",
      "Optimal parameters not found. Print NaN instead.\n",
      "Optimal parameters not found. Print NaN instead.\n",
      "Optimal parameters not found. Print NaN instead.\n",
      "Optimal parameters not found. Print NaN instead.\n"
     ]
    },
    {
     "name": "stderr",
     "output_type": "stream",
     "text": [
      "/home/ubuntu/miniconda3/lib/python3.6/site-packages/scipy/optimize/minpack.py:779: OptimizeWarning: Covariance of the parameters could not be estimated\n",
      "  category=OptimizeWarning)\n"
     ]
    },
    {
     "name": "stdout",
     "output_type": "stream",
     "text": [
      "Optimal parameters not found. Print NaN instead.\n",
      "Optimal parameters not found. Print NaN instead.\n",
      "Optimal parameters not found. Print NaN instead.\n",
      "Optimal parameters not found. Print NaN instead.\n",
      "Optimal parameters not found. Print NaN instead.\n",
      "Optimal parameters not found. Print NaN instead.\n",
      "Optimal parameters not found. Print NaN instead.\n",
      "Optimal parameters not found. Print NaN instead.\n",
      "Optimal parameters not found. Print NaN instead.\n",
      "Optimal parameters not found. Print NaN instead.\n",
      "Optimal parameters not found. Print NaN instead.\n",
      "Optimal parameters not found. Print NaN instead.\n",
      "Optimal parameters not found. Print NaN instead.\n",
      "Optimal parameters not found. Print NaN instead.\n",
      "Optimal parameters not found. Print NaN instead.\n",
      "Optimal parameters not found. Print NaN instead.\n",
      "Optimal parameters not found. Print NaN instead.\n",
      "Optimal parameters not found. Print NaN instead.\n",
      "Optimal parameters not found. Print NaN instead.\n"
     ]
    },
    {
     "name": "stderr",
     "output_type": "stream",
     "text": [
      "/home/ubuntu/source/diff-classifier/diff_classifier/features.py:717: RuntimeWarning: divide by zero encountered in double_scalars\n",
      "  ratio = (dframe['MSDs'][fram1]/dframe['MSDs'][fram2]) - (\n"
     ]
    },
    {
     "name": "stdout",
     "output_type": "stream",
     "text": [
      "Optimal parameters not found. Print NaN instead.\n",
      "Optimal parameters not found. Print NaN instead.\n",
      "Optimal parameters not found. Print NaN instead.\n",
      "Optimal parameters not found. Print NaN instead.\n",
      "Optimal parameters not found. Print NaN instead.\n",
      "Optimal parameters not found. Print NaN instead.\n",
      "Optimal parameters not found. Print NaN instead.\n",
      "Optimal parameters not found. Print NaN instead.\n",
      "Optimal parameters not found. Print NaN instead.\n",
      "Optimal parameters not found. Print NaN instead.\n",
      "Optimal parameters not found. Print NaN instead.\n",
      "Optimal parameters not found. Print NaN instead.\n",
      "Optimal parameters not found. Print NaN instead.\n",
      "Optimal parameters not found. Print NaN instead.\n",
      "Optimal parameters not found. Print NaN instead.\n",
      "Optimal parameters not found. Print NaN instead.\n",
      "Successfully output msds for OGD_1_5h_slice_2_cortex_vid_5\n",
      "Done calculating MSDs for row 0 and col 1\n",
      "Done calculating MSDs for row 0 and col 2\n",
      "Done calculating MSDs for row 0 and col 3\n",
      "Done calculating MSDs for row 1 and col 0\n",
      "Done calculating MSDs for row 1 and col 1\n",
      "Done calculating MSDs for row 1 and col 2\n",
      "Done calculating MSDs for row 1 and col 3\n",
      "Done calculating MSDs for row 2 and col 0\n",
      "Done calculating MSDs for row 2 and col 1\n",
      "Done calculating MSDs for row 2 and col 2\n",
      "Done calculating MSDs for row 2 and col 3\n",
      "Done calculating MSDs for row 3 and col 0\n",
      "Done calculating MSDs for row 3 and col 1\n",
      "Done calculating MSDs for row 3 and col 2\n",
      "Done calculating MSDs for row 3 and col 3\n"
     ]
    },
    {
     "name": "stderr",
     "output_type": "stream",
     "text": [
      "/home/ubuntu/source/diff-classifier/diff_classifier/features.py:510: RuntimeWarning: divide by zero encountered in double_scalars\n",
      "  aspratio = width/height\n"
     ]
    },
    {
     "name": "stdout",
     "output_type": "stream",
     "text": [
      "Optimal parameters not found. Print NaN instead.\n",
      "Optimal parameters not found. Print NaN instead.\n",
      "Optimal parameters not found. Print NaN instead.\n",
      "Optimal parameters not found. Print NaN instead.\n",
      "Optimal parameters not found. Print NaN instead.\n",
      "Optimal parameters not found. Print NaN instead.\n",
      "Optimal parameters not found. Print NaN instead.\n",
      "Optimal parameters not found. Print NaN instead.\n",
      "Optimal parameters not found. Print NaN instead.\n",
      "Optimal parameters not found. Print NaN instead.\n",
      "Optimal parameters not found. Print NaN instead.\n",
      "Optimal parameters not found. Print NaN instead.\n",
      "Optimal parameters not found. Print NaN instead.\n",
      "Optimal parameters not found. Print NaN instead.\n",
      "Optimal parameters not found. Print NaN instead.\n",
      "Optimal parameters not found. Print NaN instead.\n",
      "Successfully output msds for OGD_1_5h_slice_2_striatum_vid_1\n",
      "Done calculating MSDs for row 0 and col 1\n",
      "Done calculating MSDs for row 0 and col 2\n",
      "Done calculating MSDs for row 0 and col 3\n",
      "Done calculating MSDs for row 1 and col 0\n",
      "Done calculating MSDs for row 1 and col 1\n",
      "Done calculating MSDs for row 1 and col 2\n",
      "Done calculating MSDs for row 1 and col 3\n",
      "Done calculating MSDs for row 2 and col 0\n",
      "Done calculating MSDs for row 2 and col 1\n",
      "Done calculating MSDs for row 2 and col 2\n",
      "Done calculating MSDs for row 2 and col 3\n",
      "Done calculating MSDs for row 3 and col 0\n",
      "Done calculating MSDs for row 3 and col 1\n",
      "Done calculating MSDs for row 3 and col 2\n",
      "Done calculating MSDs for row 3 and col 3\n"
     ]
    },
    {
     "name": "stderr",
     "output_type": "stream",
     "text": [
      "/home/ubuntu/source/diff-classifier/diff_classifier/features.py:510: RuntimeWarning: divide by zero encountered in double_scalars\n",
      "  aspratio = width/height\n"
     ]
    },
    {
     "name": "stdout",
     "output_type": "stream",
     "text": [
      "Optimal parameters not found. Print NaN instead.\n",
      "Optimal parameters not found. Print NaN instead.\n"
     ]
    },
    {
     "name": "stderr",
     "output_type": "stream",
     "text": [
      "/home/ubuntu/source/diff-classifier/diff_classifier/features.py:717: RuntimeWarning: divide by zero encountered in double_scalars\n",
      "  ratio = (dframe['MSDs'][fram1]/dframe['MSDs'][fram2]) - (\n"
     ]
    },
    {
     "name": "stdout",
     "output_type": "stream",
     "text": [
      "Optimal parameters not found. Print NaN instead.\n",
      "Optimal parameters not found. Print NaN instead.\n",
      "Optimal parameters not found. Print NaN instead.\n",
      "Successfully output msds for OGD_1_5h_slice_2_striatum_vid_2\n",
      "Done calculating MSDs for row 0 and col 1\n",
      "Done calculating MSDs for row 0 and col 2\n",
      "Done calculating MSDs for row 0 and col 3\n",
      "Done calculating MSDs for row 1 and col 0\n",
      "Done calculating MSDs for row 1 and col 1\n",
      "Done calculating MSDs for row 1 and col 2\n",
      "Done calculating MSDs for row 1 and col 3\n",
      "Done calculating MSDs for row 2 and col 0\n",
      "Done calculating MSDs for row 2 and col 1\n",
      "Done calculating MSDs for row 2 and col 2\n",
      "Done calculating MSDs for row 2 and col 3\n",
      "Done calculating MSDs for row 3 and col 0\n",
      "Done calculating MSDs for row 3 and col 1\n",
      "Done calculating MSDs for row 3 and col 2\n",
      "Done calculating MSDs for row 3 and col 3\n",
      "Optimal parameters not found. Print NaN instead.\n",
      "Optimal parameters not found. Print NaN instead.\n",
      "Optimal parameters not found. Print NaN instead.\n"
     ]
    },
    {
     "name": "stderr",
     "output_type": "stream",
     "text": [
      "/home/ubuntu/source/diff-classifier/diff_classifier/features.py:510: RuntimeWarning: divide by zero encountered in double_scalars\n",
      "  aspratio = width/height\n"
     ]
    },
    {
     "name": "stdout",
     "output_type": "stream",
     "text": [
      "Optimal parameters not found. Print NaN instead.\n",
      "Optimal parameters not found. Print NaN instead.\n",
      "Optimal parameters not found. Print NaN instead.\n"
     ]
    },
    {
     "name": "stderr",
     "output_type": "stream",
     "text": [
      "/home/ubuntu/miniconda3/lib/python3.6/site-packages/scipy/optimize/minpack.py:779: OptimizeWarning: Covariance of the parameters could not be estimated\n",
      "  category=OptimizeWarning)\n"
     ]
    },
    {
     "name": "stdout",
     "output_type": "stream",
     "text": [
      "Optimal parameters not found. Print NaN instead.\n",
      "Successfully output msds for OGD_1_5h_slice_2_striatum_vid_3\n",
      "Done calculating MSDs for row 0 and col 1\n",
      "Done calculating MSDs for row 0 and col 2\n",
      "Done calculating MSDs for row 0 and col 3\n",
      "Done calculating MSDs for row 1 and col 0\n",
      "Done calculating MSDs for row 1 and col 1\n",
      "Done calculating MSDs for row 1 and col 2\n",
      "Done calculating MSDs for row 1 and col 3\n",
      "Done calculating MSDs for row 2 and col 0\n",
      "Done calculating MSDs for row 2 and col 1\n",
      "Done calculating MSDs for row 2 and col 2\n",
      "Done calculating MSDs for row 2 and col 3\n",
      "Done calculating MSDs for row 3 and col 0\n",
      "Done calculating MSDs for row 3 and col 1\n",
      "Done calculating MSDs for row 3 and col 2\n",
      "Done calculating MSDs for row 3 and col 3\n"
     ]
    },
    {
     "name": "stderr",
     "output_type": "stream",
     "text": [
      "/home/ubuntu/source/diff-classifier/diff_classifier/features.py:510: RuntimeWarning: divide by zero encountered in double_scalars\n",
      "  aspratio = width/height\n"
     ]
    },
    {
     "name": "stdout",
     "output_type": "stream",
     "text": [
      "Optimal parameters not found. Print NaN instead.\n",
      "Optimal parameters not found. Print NaN instead.\n",
      "Optimal parameters not found. Print NaN instead.\n",
      "Successfully output msds for OGD_1_5h_slice_2_striatum_vid_4\n",
      "Done calculating MSDs for row 0 and col 1\n",
      "Done calculating MSDs for row 0 and col 2\n",
      "Done calculating MSDs for row 0 and col 3\n",
      "Done calculating MSDs for row 1 and col 0\n",
      "Done calculating MSDs for row 1 and col 1\n",
      "Done calculating MSDs for row 1 and col 2\n",
      "Done calculating MSDs for row 1 and col 3\n",
      "Done calculating MSDs for row 2 and col 0\n",
      "Done calculating MSDs for row 2 and col 1\n",
      "Done calculating MSDs for row 2 and col 2\n",
      "Done calculating MSDs for row 2 and col 3\n",
      "Done calculating MSDs for row 3 and col 0\n",
      "Done calculating MSDs for row 3 and col 1\n",
      "Done calculating MSDs for row 3 and col 2\n",
      "Done calculating MSDs for row 3 and col 3\n"
     ]
    },
    {
     "name": "stderr",
     "output_type": "stream",
     "text": [
      "/home/ubuntu/source/diff-classifier/diff_classifier/features.py:510: RuntimeWarning: divide by zero encountered in double_scalars\n",
      "  aspratio = width/height\n",
      "/home/ubuntu/source/diff-classifier/diff_classifier/features.py:717: RuntimeWarning: divide by zero encountered in double_scalars\n",
      "  ratio = (dframe['MSDs'][fram1]/dframe['MSDs'][fram2]) - (\n"
     ]
    },
    {
     "name": "stdout",
     "output_type": "stream",
     "text": [
      "Optimal parameters not found. Print NaN instead.\n",
      "Optimal parameters not found. Print NaN instead.\n",
      "Optimal parameters not found. Print NaN instead.\n",
      "Optimal parameters not found. Print NaN instead.\n",
      "Optimal parameters not found. Print NaN instead.\n",
      "Successfully output msds for OGD_1_5h_slice_2_striatum_vid_5\n",
      "Done calculating MSDs for row 0 and col 1\n",
      "Done calculating MSDs for row 0 and col 2\n",
      "Done calculating MSDs for row 0 and col 3\n",
      "Done calculating MSDs for row 1 and col 0\n",
      "Done calculating MSDs for row 1 and col 1\n",
      "Done calculating MSDs for row 1 and col 2\n",
      "Done calculating MSDs for row 1 and col 3\n",
      "Done calculating MSDs for row 2 and col 0\n",
      "Done calculating MSDs for row 2 and col 1\n",
      "Done calculating MSDs for row 2 and col 2\n",
      "Done calculating MSDs for row 2 and col 3\n",
      "Done calculating MSDs for row 3 and col 0\n",
      "Done calculating MSDs for row 3 and col 1\n",
      "Done calculating MSDs for row 3 and col 2\n",
      "Done calculating MSDs for row 3 and col 3\n",
      "Optimal parameters not found. Print NaN instead.\n",
      "Optimal parameters not found. Print NaN instead.\n",
      "Optimal parameters not found. Print NaN instead.\n"
     ]
    },
    {
     "name": "stderr",
     "output_type": "stream",
     "text": [
      "/home/ubuntu/source/diff-classifier/diff_classifier/features.py:510: RuntimeWarning: divide by zero encountered in double_scalars\n",
      "  aspratio = width/height\n"
     ]
    },
    {
     "name": "stdout",
     "output_type": "stream",
     "text": [
      "Optimal parameters not found. Print NaN instead.\n",
      "Optimal parameters not found. Print NaN instead.\n",
      "Optimal parameters not found. Print NaN instead.\n",
      "Optimal parameters not found. Print NaN instead.\n",
      "Optimal parameters not found. Print NaN instead.\n",
      "Optimal parameters not found. Print NaN instead.\n",
      "Optimal parameters not found. Print NaN instead.\n",
      "Optimal parameters not found. Print NaN instead.\n",
      "Optimal parameters not found. Print NaN instead.\n",
      "Optimal parameters not found. Print NaN instead.\n"
     ]
    },
    {
     "name": "stderr",
     "output_type": "stream",
     "text": [
      "/home/ubuntu/source/diff-classifier/diff_classifier/features.py:717: RuntimeWarning: divide by zero encountered in double_scalars\n",
      "  ratio = (dframe['MSDs'][fram1]/dframe['MSDs'][fram2]) - (\n"
     ]
    },
    {
     "name": "stdout",
     "output_type": "stream",
     "text": [
      "Optimal parameters not found. Print NaN instead.\n",
      "Optimal parameters not found. Print NaN instead.\n",
      "Optimal parameters not found. Print NaN instead.\n",
      "Optimal parameters not found. Print NaN instead.\n",
      "Optimal parameters not found. Print NaN instead.\n",
      "Optimal parameters not found. Print NaN instead.\n",
      "Optimal parameters not found. Print NaN instead.\n",
      "Optimal parameters not found. Print NaN instead.\n",
      "Optimal parameters not found. Print NaN instead.\n",
      "Optimal parameters not found. Print NaN instead.\n",
      "Optimal parameters not found. Print NaN instead.\n",
      "Optimal parameters not found. Print NaN instead.\n",
      "Optimal parameters not found. Print NaN instead.\n",
      "Optimal parameters not found. Print NaN instead.\n",
      "Optimal parameters not found. Print NaN instead.\n",
      "Optimal parameters not found. Print NaN instead.\n",
      "Optimal parameters not found. Print NaN instead.\n",
      "Optimal parameters not found. Print NaN instead.\n",
      "Optimal parameters not found. Print NaN instead.\n",
      "Optimal parameters not found. Print NaN instead.\n"
     ]
    },
    {
     "name": "stderr",
     "output_type": "stream",
     "text": [
      "/home/ubuntu/miniconda3/lib/python3.6/site-packages/scipy/optimize/minpack.py:779: OptimizeWarning: Covariance of the parameters could not be estimated\n",
      "  category=OptimizeWarning)\n"
     ]
    },
    {
     "name": "stdout",
     "output_type": "stream",
     "text": [
      "Optimal parameters not found. Print NaN instead.\n",
      "Optimal parameters not found. Print NaN instead.\n",
      "Optimal parameters not found. Print NaN instead.\n",
      "Optimal parameters not found. Print NaN instead.\n",
      "Optimal parameters not found. Print NaN instead.\n",
      "Optimal parameters not found. Print NaN instead.\n",
      "Optimal parameters not found. Print NaN instead.\n",
      "Optimal parameters not found. Print NaN instead.\n",
      "Optimal parameters not found. Print NaN instead.\n",
      "Optimal parameters not found. Print NaN instead.\n",
      "Optimal parameters not found. Print NaN instead.\n",
      "Optimal parameters not found. Print NaN instead.\n",
      "Optimal parameters not found. Print NaN instead.\n",
      "Optimal parameters not found. Print NaN instead.\n",
      "Optimal parameters not found. Print NaN instead.\n",
      "Optimal parameters not found. Print NaN instead.\n",
      "Optimal parameters not found. Print NaN instead.\n",
      "Optimal parameters not found. Print NaN instead.\n",
      "Optimal parameters not found. Print NaN instead.\n",
      "Optimal parameters not found. Print NaN instead.\n",
      "Optimal parameters not found. Print NaN instead.\n",
      "Optimal parameters not found. Print NaN instead.\n",
      "Optimal parameters not found. Print NaN instead.\n",
      "Optimal parameters not found. Print NaN instead.\n",
      "Optimal parameters not found. Print NaN instead.\n",
      "Optimal parameters not found. Print NaN instead.\n",
      "Optimal parameters not found. Print NaN instead.\n",
      "Optimal parameters not found. Print NaN instead.\n",
      "Optimal parameters not found. Print NaN instead.\n",
      "Optimal parameters not found. Print NaN instead.\n",
      "Optimal parameters not found. Print NaN instead.\n",
      "Successfully output msds for OGD_1_5h_slice_3_cortex_vid_1\n",
      "Done calculating MSDs for row 0 and col 1\n",
      "Done calculating MSDs for row 0 and col 2\n",
      "Done calculating MSDs for row 0 and col 3\n",
      "Done calculating MSDs for row 1 and col 0\n",
      "Done calculating MSDs for row 1 and col 1\n",
      "Done calculating MSDs for row 1 and col 2\n",
      "Done calculating MSDs for row 1 and col 3\n",
      "Done calculating MSDs for row 2 and col 0\n",
      "Done calculating MSDs for row 2 and col 1\n",
      "Done calculating MSDs for row 2 and col 2\n",
      "Done calculating MSDs for row 2 and col 3\n",
      "Done calculating MSDs for row 3 and col 0\n",
      "Done calculating MSDs for row 3 and col 1\n",
      "Done calculating MSDs for row 3 and col 2\n",
      "Done calculating MSDs for row 3 and col 3\n",
      "Optimal parameters not found. Print NaN instead.\n",
      "Optimal parameters not found. Print NaN instead.\n"
     ]
    },
    {
     "name": "stderr",
     "output_type": "stream",
     "text": [
      "/home/ubuntu/source/diff-classifier/diff_classifier/features.py:510: RuntimeWarning: divide by zero encountered in double_scalars\n",
      "  aspratio = width/height\n",
      "/home/ubuntu/source/diff-classifier/diff_classifier/features.py:717: RuntimeWarning: divide by zero encountered in double_scalars\n",
      "  ratio = (dframe['MSDs'][fram1]/dframe['MSDs'][fram2]) - (\n"
     ]
    },
    {
     "name": "stdout",
     "output_type": "stream",
     "text": [
      "Optimal parameters not found. Print NaN instead.\n",
      "Optimal parameters not found. Print NaN instead.\n",
      "Optimal parameters not found. Print NaN instead.\n",
      "Optimal parameters not found. Print NaN instead.\n",
      "Optimal parameters not found. Print NaN instead.\n",
      "Optimal parameters not found. Print NaN instead.\n",
      "Optimal parameters not found. Print NaN instead.\n",
      "Optimal parameters not found. Print NaN instead.\n",
      "Optimal parameters not found. Print NaN instead.\n",
      "Optimal parameters not found. Print NaN instead.\n",
      "Optimal parameters not found. Print NaN instead.\n",
      "Optimal parameters not found. Print NaN instead.\n",
      "Optimal parameters not found. Print NaN instead.\n",
      "Optimal parameters not found. Print NaN instead.\n",
      "Optimal parameters not found. Print NaN instead.\n",
      "Optimal parameters not found. Print NaN instead.\n",
      "Optimal parameters not found. Print NaN instead.\n",
      "Optimal parameters not found. Print NaN instead.\n",
      "Optimal parameters not found. Print NaN instead.\n",
      "Optimal parameters not found. Print NaN instead.\n",
      "Optimal parameters not found. Print NaN instead.\n",
      "Optimal parameters not found. Print NaN instead.\n",
      "Optimal parameters not found. Print NaN instead.\n",
      "Optimal parameters not found. Print NaN instead.\n",
      "Optimal parameters not found. Print NaN instead.\n",
      "Optimal parameters not found. Print NaN instead.\n",
      "Optimal parameters not found. Print NaN instead.\n",
      "Optimal parameters not found. Print NaN instead.\n",
      "Optimal parameters not found. Print NaN instead.\n",
      "Successfully output msds for OGD_1_5h_slice_3_cortex_vid_2\n",
      "Done calculating MSDs for row 0 and col 1\n",
      "Done calculating MSDs for row 0 and col 2\n",
      "Done calculating MSDs for row 0 and col 3\n",
      "Done calculating MSDs for row 1 and col 0\n",
      "Done calculating MSDs for row 1 and col 1\n",
      "Done calculating MSDs for row 1 and col 2\n",
      "Done calculating MSDs for row 1 and col 3\n",
      "Done calculating MSDs for row 2 and col 0\n",
      "Done calculating MSDs for row 2 and col 1\n",
      "Done calculating MSDs for row 2 and col 2\n",
      "Done calculating MSDs for row 2 and col 3\n",
      "Done calculating MSDs for row 3 and col 0\n",
      "Done calculating MSDs for row 3 and col 1\n",
      "Done calculating MSDs for row 3 and col 2\n",
      "Done calculating MSDs for row 3 and col 3\n"
     ]
    },
    {
     "name": "stderr",
     "output_type": "stream",
     "text": [
      "/home/ubuntu/source/diff-classifier/diff_classifier/features.py:510: RuntimeWarning: divide by zero encountered in double_scalars\n",
      "  aspratio = width/height\n"
     ]
    },
    {
     "name": "stdout",
     "output_type": "stream",
     "text": [
      "Optimal parameters not found. Print NaN instead.\n",
      "Optimal parameters not found. Print NaN instead.\n",
      "Optimal parameters not found. Print NaN instead.\n"
     ]
    },
    {
     "name": "stderr",
     "output_type": "stream",
     "text": [
      "/home/ubuntu/source/diff-classifier/diff_classifier/features.py:313: RuntimeWarning: invalid value encountered in double_scalars\n",
      "  asym1 = (eig1**2 - eig2**2)**2/(eig1**2 + eig2**2)**2\n",
      "/home/ubuntu/source/diff-classifier/diff_classifier/features.py:314: RuntimeWarning: invalid value encountered in double_scalars\n",
      "  asym2 = eig2/eig1\n",
      "/home/ubuntu/source/diff-classifier/diff_classifier/features.py:315: RuntimeWarning: invalid value encountered in double_scalars\n",
      "  asym3 = -np.log(1-((eig1-eig2)**2)/(2*(eig1+eig2)**2))\n",
      "/home/ubuntu/source/diff-classifier/diff_classifier/features.py:510: RuntimeWarning: invalid value encountered in double_scalars\n",
      "  aspratio = width/height\n",
      "/home/ubuntu/source/diff-classifier/diff_classifier/features.py:602: RuntimeWarning: invalid value encountered in double_scalars\n",
      "  bound = dcoef*fram/(rad**2)\n",
      "/home/ubuntu/source/diff-classifier/diff_classifier/features.py:603: RuntimeWarning: invalid value encountered in double_scalars\n",
      "  fractd = np.log(N)/np.log(N*2*rad/netdisp)\n",
      "/home/ubuntu/source/diff-classifier/diff_classifier/features.py:604: RuntimeWarning: invalid value encountered in double_scalars\n",
      "  probf = 1 - np.exp(0.2048 - 0.25117*(dcoef*fram/(rad**2)))\n",
      "/home/ubuntu/source/diff-classifier/diff_classifier/features.py:667: RuntimeWarning: invalid value encountered in double_scalars\n",
      "  eff = num/den\n",
      "/home/ubuntu/source/diff-classifier/diff_classifier/features.py:668: RuntimeWarning: invalid value encountered in double_scalars\n",
      "  strait = num2/den2\n",
      "/home/ubuntu/source/diff-classifier/diff_classifier/features.py:717: RuntimeWarning: invalid value encountered in double_scalars\n",
      "  ratio = (dframe['MSDs'][fram1]/dframe['MSDs'][fram2]) - (\n"
     ]
    },
    {
     "name": "stdout",
     "output_type": "stream",
     "text": [
      "Optimal parameters not found. Print NaN instead.\n"
     ]
    },
    {
     "name": "stderr",
     "output_type": "stream",
     "text": [
      "/home/ubuntu/source/diff-classifier/diff_classifier/features.py:717: RuntimeWarning: divide by zero encountered in double_scalars\n",
      "  ratio = (dframe['MSDs'][fram1]/dframe['MSDs'][fram2]) - (\n",
      "/home/ubuntu/miniconda3/lib/python3.6/site-packages/scipy/optimize/minpack.py:779: OptimizeWarning: Covariance of the parameters could not be estimated\n",
      "  category=OptimizeWarning)\n"
     ]
    },
    {
     "name": "stdout",
     "output_type": "stream",
     "text": [
      "Optimal parameters not found. Print NaN instead.\n",
      "Optimal parameters not found. Print NaN instead.\n",
      "Optimal parameters not found. Print NaN instead.\n",
      "Optimal parameters not found. Print NaN instead.\n",
      "Optimal parameters not found. Print NaN instead.\n",
      "Optimal parameters not found. Print NaN instead.\n",
      "Optimal parameters not found. Print NaN instead.\n",
      "Optimal parameters not found. Print NaN instead.\n",
      "Optimal parameters not found. Print NaN instead.\n",
      "Optimal parameters not found. Print NaN instead.\n",
      "Optimal parameters not found. Print NaN instead.\n",
      "Optimal parameters not found. Print NaN instead.\n",
      "Optimal parameters not found. Print NaN instead.\n",
      "Optimal parameters not found. Print NaN instead.\n",
      "Optimal parameters not found. Print NaN instead.\n",
      "Optimal parameters not found. Print NaN instead.\n",
      "Optimal parameters not found. Print NaN instead.\n",
      "Optimal parameters not found. Print NaN instead.\n",
      "Optimal parameters not found. Print NaN instead.\n",
      "Optimal parameters not found. Print NaN instead.\n",
      "Optimal parameters not found. Print NaN instead.\n",
      "Optimal parameters not found. Print NaN instead.\n",
      "Successfully output msds for OGD_1_5h_slice_3_cortex_vid_3\n",
      "Done calculating MSDs for row 0 and col 1\n",
      "Done calculating MSDs for row 0 and col 2\n",
      "Done calculating MSDs for row 0 and col 3\n",
      "Done calculating MSDs for row 1 and col 0\n",
      "Done calculating MSDs for row 1 and col 1\n",
      "Done calculating MSDs for row 1 and col 2\n",
      "Done calculating MSDs for row 1 and col 3\n",
      "Done calculating MSDs for row 2 and col 0\n",
      "Done calculating MSDs for row 2 and col 1\n",
      "Done calculating MSDs for row 2 and col 2\n",
      "Done calculating MSDs for row 2 and col 3\n",
      "Done calculating MSDs for row 3 and col 0\n",
      "Done calculating MSDs for row 3 and col 1\n",
      "Done calculating MSDs for row 3 and col 2\n",
      "Done calculating MSDs for row 3 and col 3\n",
      "Optimal parameters not found. Print NaN instead.\n"
     ]
    },
    {
     "name": "stderr",
     "output_type": "stream",
     "text": [
      "/home/ubuntu/source/diff-classifier/diff_classifier/features.py:510: RuntimeWarning: divide by zero encountered in double_scalars\n",
      "  aspratio = width/height\n"
     ]
    },
    {
     "name": "stdout",
     "output_type": "stream",
     "text": [
      "Optimal parameters not found. Print NaN instead.\n",
      "Optimal parameters not found. Print NaN instead.\n",
      "Optimal parameters not found. Print NaN instead.\n",
      "Optimal parameters not found. Print NaN instead.\n",
      "Optimal parameters not found. Print NaN instead.\n",
      "Optimal parameters not found. Print NaN instead.\n",
      "Optimal parameters not found. Print NaN instead.\n",
      "Optimal parameters not found. Print NaN instead.\n",
      "Optimal parameters not found. Print NaN instead.\n",
      "Optimal parameters not found. Print NaN instead.\n",
      "Optimal parameters not found. Print NaN instead.\n",
      "Optimal parameters not found. Print NaN instead.\n",
      "Optimal parameters not found. Print NaN instead.\n"
     ]
    },
    {
     "name": "stderr",
     "output_type": "stream",
     "text": [
      "/home/ubuntu/source/diff-classifier/diff_classifier/features.py:717: RuntimeWarning: divide by zero encountered in double_scalars\n",
      "  ratio = (dframe['MSDs'][fram1]/dframe['MSDs'][fram2]) - (\n"
     ]
    },
    {
     "name": "stdout",
     "output_type": "stream",
     "text": [
      "Successfully output msds for OGD_1_5h_slice_3_cortex_vid_4\n",
      "Done calculating MSDs for row 0 and col 1\n",
      "Done calculating MSDs for row 0 and col 2\n",
      "Done calculating MSDs for row 0 and col 3\n",
      "Done calculating MSDs for row 1 and col 0\n",
      "Done calculating MSDs for row 1 and col 1\n",
      "Done calculating MSDs for row 1 and col 2\n",
      "Done calculating MSDs for row 1 and col 3\n",
      "Done calculating MSDs for row 2 and col 0\n",
      "Done calculating MSDs for row 2 and col 1\n",
      "Done calculating MSDs for row 2 and col 2\n",
      "Done calculating MSDs for row 2 and col 3\n",
      "Done calculating MSDs for row 3 and col 0\n",
      "Done calculating MSDs for row 3 and col 1\n",
      "Done calculating MSDs for row 3 and col 2\n",
      "Done calculating MSDs for row 3 and col 3\n"
     ]
    },
    {
     "name": "stderr",
     "output_type": "stream",
     "text": [
      "/home/ubuntu/source/diff-classifier/diff_classifier/features.py:510: RuntimeWarning: divide by zero encountered in double_scalars\n",
      "  aspratio = width/height\n",
      "/home/ubuntu/source/diff-classifier/diff_classifier/features.py:717: RuntimeWarning: divide by zero encountered in double_scalars\n",
      "  ratio = (dframe['MSDs'][fram1]/dframe['MSDs'][fram2]) - (\n"
     ]
    },
    {
     "name": "stdout",
     "output_type": "stream",
     "text": [
      "Optimal parameters not found. Print NaN instead.\n",
      "Optimal parameters not found. Print NaN instead.\n",
      "Optimal parameters not found. Print NaN instead.\n",
      "Optimal parameters not found. Print NaN instead.\n",
      "Optimal parameters not found. Print NaN instead.\n",
      "Optimal parameters not found. Print NaN instead.\n",
      "Optimal parameters not found. Print NaN instead.\n",
      "Optimal parameters not found. Print NaN instead.\n",
      "Optimal parameters not found. Print NaN instead.\n",
      "Optimal parameters not found. Print NaN instead.\n",
      "Optimal parameters not found. Print NaN instead.\n",
      "Optimal parameters not found. Print NaN instead.\n",
      "Optimal parameters not found. Print NaN instead.\n",
      "Optimal parameters not found. Print NaN instead.\n",
      "Optimal parameters not found. Print NaN instead.\n",
      "Optimal parameters not found. Print NaN instead.\n",
      "Optimal parameters not found. Print NaN instead.\n",
      "Optimal parameters not found. Print NaN instead.\n",
      "Optimal parameters not found. Print NaN instead.\n",
      "Optimal parameters not found. Print NaN instead.\n",
      "Optimal parameters not found. Print NaN instead.\n",
      "Optimal parameters not found. Print NaN instead.\n",
      "Successfully output msds for OGD_1_5h_slice_3_cortex_vid_5\n",
      "Done calculating MSDs for row 0 and col 1\n",
      "Done calculating MSDs for row 0 and col 2\n",
      "Done calculating MSDs for row 0 and col 3\n",
      "Done calculating MSDs for row 1 and col 0\n",
      "Done calculating MSDs for row 1 and col 1\n",
      "Done calculating MSDs for row 1 and col 2\n",
      "Done calculating MSDs for row 1 and col 3\n",
      "Done calculating MSDs for row 2 and col 0\n",
      "Done calculating MSDs for row 2 and col 1\n",
      "Done calculating MSDs for row 2 and col 2\n",
      "Done calculating MSDs for row 2 and col 3\n",
      "Done calculating MSDs for row 3 and col 0\n",
      "Done calculating MSDs for row 3 and col 1\n",
      "Done calculating MSDs for row 3 and col 2\n",
      "Done calculating MSDs for row 3 and col 3\n"
     ]
    },
    {
     "name": "stderr",
     "output_type": "stream",
     "text": [
      "/home/ubuntu/source/diff-classifier/diff_classifier/features.py:510: RuntimeWarning: divide by zero encountered in double_scalars\n",
      "  aspratio = width/height\n",
      "/home/ubuntu/source/diff-classifier/diff_classifier/features.py:717: RuntimeWarning: divide by zero encountered in double_scalars\n",
      "  ratio = (dframe['MSDs'][fram1]/dframe['MSDs'][fram2]) - (\n"
     ]
    },
    {
     "name": "stdout",
     "output_type": "stream",
     "text": [
      "Optimal parameters not found. Print NaN instead.\n",
      "Optimal parameters not found. Print NaN instead.\n",
      "Optimal parameters not found. Print NaN instead.\n",
      "Optimal parameters not found. Print NaN instead.\n",
      "Optimal parameters not found. Print NaN instead.\n",
      "Successfully output msds for OGD_1_5h_slice_3_striatum_vid_1\n",
      "Done calculating MSDs for row 0 and col 1\n",
      "Done calculating MSDs for row 0 and col 2\n",
      "Done calculating MSDs for row 0 and col 3\n",
      "Done calculating MSDs for row 1 and col 0\n",
      "Done calculating MSDs for row 1 and col 1\n",
      "Done calculating MSDs for row 1 and col 2\n",
      "Done calculating MSDs for row 1 and col 3\n",
      "Done calculating MSDs for row 2 and col 0\n",
      "Done calculating MSDs for row 2 and col 1\n",
      "Done calculating MSDs for row 2 and col 2\n",
      "Done calculating MSDs for row 2 and col 3\n",
      "Done calculating MSDs for row 3 and col 0\n",
      "Done calculating MSDs for row 3 and col 1\n",
      "Done calculating MSDs for row 3 and col 2\n",
      "Done calculating MSDs for row 3 and col 3\n"
     ]
    },
    {
     "name": "stderr",
     "output_type": "stream",
     "text": [
      "/home/ubuntu/source/diff-classifier/diff_classifier/features.py:510: RuntimeWarning: divide by zero encountered in double_scalars\n",
      "  aspratio = width/height\n"
     ]
    },
    {
     "name": "stdout",
     "output_type": "stream",
     "text": [
      "Optimal parameters not found. Print NaN instead.\n",
      "Optimal parameters not found. Print NaN instead.\n",
      "Optimal parameters not found. Print NaN instead.\n"
     ]
    },
    {
     "name": "stderr",
     "output_type": "stream",
     "text": [
      "/home/ubuntu/source/diff-classifier/diff_classifier/features.py:717: RuntimeWarning: divide by zero encountered in double_scalars\n",
      "  ratio = (dframe['MSDs'][fram1]/dframe['MSDs'][fram2]) - (\n"
     ]
    },
    {
     "name": "stdout",
     "output_type": "stream",
     "text": [
      "Optimal parameters not found. Print NaN instead.\n",
      "Optimal parameters not found. Print NaN instead.\n",
      "Optimal parameters not found. Print NaN instead.\n",
      "Optimal parameters not found. Print NaN instead.\n",
      "Optimal parameters not found. Print NaN instead.\n",
      "Optimal parameters not found. Print NaN instead.\n",
      "Optimal parameters not found. Print NaN instead.\n",
      "Optimal parameters not found. Print NaN instead.\n",
      "Optimal parameters not found. Print NaN instead.\n",
      "Optimal parameters not found. Print NaN instead.\n"
     ]
    },
    {
     "name": "stderr",
     "output_type": "stream",
     "text": [
      "/home/ubuntu/miniconda3/lib/python3.6/site-packages/scipy/optimize/minpack.py:779: OptimizeWarning: Covariance of the parameters could not be estimated\n",
      "  category=OptimizeWarning)\n"
     ]
    },
    {
     "name": "stdout",
     "output_type": "stream",
     "text": [
      "Optimal parameters not found. Print NaN instead.\n",
      "Optimal parameters not found. Print NaN instead.\n",
      "Optimal parameters not found. Print NaN instead.\n",
      "Optimal parameters not found. Print NaN instead.\n",
      "Optimal parameters not found. Print NaN instead.\n",
      "Optimal parameters not found. Print NaN instead.\n",
      "Successfully output msds for OGD_1_5h_slice_3_striatum_vid_2\n",
      "Done calculating MSDs for row 0 and col 1\n",
      "Done calculating MSDs for row 0 and col 2\n",
      "Done calculating MSDs for row 0 and col 3\n",
      "Done calculating MSDs for row 1 and col 0\n",
      "Done calculating MSDs for row 1 and col 1\n",
      "Done calculating MSDs for row 1 and col 2\n",
      "Done calculating MSDs for row 1 and col 3\n",
      "Done calculating MSDs for row 2 and col 0\n",
      "Done calculating MSDs for row 2 and col 1\n",
      "Done calculating MSDs for row 2 and col 2\n",
      "Done calculating MSDs for row 2 and col 3\n",
      "Done calculating MSDs for row 3 and col 0\n",
      "Done calculating MSDs for row 3 and col 1\n",
      "Done calculating MSDs for row 3 and col 2\n",
      "Done calculating MSDs for row 3 and col 3\n"
     ]
    },
    {
     "name": "stderr",
     "output_type": "stream",
     "text": [
      "/home/ubuntu/source/diff-classifier/diff_classifier/features.py:510: RuntimeWarning: divide by zero encountered in double_scalars\n",
      "  aspratio = width/height\n",
      "/home/ubuntu/miniconda3/lib/python3.6/site-packages/scipy/optimize/minpack.py:779: OptimizeWarning: Covariance of the parameters could not be estimated\n",
      "  category=OptimizeWarning)\n",
      "/home/ubuntu/source/diff-classifier/diff_classifier/features.py:717: RuntimeWarning: divide by zero encountered in double_scalars\n",
      "  ratio = (dframe['MSDs'][fram1]/dframe['MSDs'][fram2]) - (\n"
     ]
    },
    {
     "name": "stdout",
     "output_type": "stream",
     "text": [
      "Optimal parameters not found. Print NaN instead.\n",
      "Optimal parameters not found. Print NaN instead.\n",
      "Optimal parameters not found. Print NaN instead.\n",
      "Optimal parameters not found. Print NaN instead.\n",
      "Optimal parameters not found. Print NaN instead.\n",
      "Optimal parameters not found. Print NaN instead.\n",
      "Optimal parameters not found. Print NaN instead.\n",
      "Optimal parameters not found. Print NaN instead.\n",
      "Optimal parameters not found. Print NaN instead.\n",
      "Successfully output msds for OGD_1_5h_slice_3_striatum_vid_3\n",
      "Done calculating MSDs for row 0 and col 1\n",
      "Done calculating MSDs for row 0 and col 2\n",
      "Done calculating MSDs for row 0 and col 3\n",
      "Done calculating MSDs for row 1 and col 0\n",
      "Done calculating MSDs for row 1 and col 1\n",
      "Done calculating MSDs for row 1 and col 2\n",
      "Done calculating MSDs for row 1 and col 3\n",
      "Done calculating MSDs for row 2 and col 0\n",
      "Done calculating MSDs for row 2 and col 1\n",
      "Done calculating MSDs for row 2 and col 2\n",
      "Done calculating MSDs for row 2 and col 3\n",
      "Done calculating MSDs for row 3 and col 0\n",
      "Done calculating MSDs for row 3 and col 1\n",
      "Done calculating MSDs for row 3 and col 2\n",
      "Done calculating MSDs for row 3 and col 3\n",
      "Optimal parameters not found. Print NaN instead.\n",
      "Optimal parameters not found. Print NaN instead.\n"
     ]
    },
    {
     "name": "stderr",
     "output_type": "stream",
     "text": [
      "/home/ubuntu/source/diff-classifier/diff_classifier/features.py:510: RuntimeWarning: divide by zero encountered in double_scalars\n",
      "  aspratio = width/height\n"
     ]
    },
    {
     "name": "stdout",
     "output_type": "stream",
     "text": [
      "Optimal parameters not found. Print NaN instead.\n",
      "Optimal parameters not found. Print NaN instead.\n",
      "Optimal parameters not found. Print NaN instead.\n",
      "Optimal parameters not found. Print NaN instead.\n",
      "Optimal parameters not found. Print NaN instead.\n",
      "Optimal parameters not found. Print NaN instead.\n",
      "Optimal parameters not found. Print NaN instead.\n"
     ]
    },
    {
     "name": "stderr",
     "output_type": "stream",
     "text": [
      "/home/ubuntu/source/diff-classifier/diff_classifier/features.py:717: RuntimeWarning: divide by zero encountered in double_scalars\n",
      "  ratio = (dframe['MSDs'][fram1]/dframe['MSDs'][fram2]) - (\n"
     ]
    },
    {
     "name": "stdout",
     "output_type": "stream",
     "text": [
      "Optimal parameters not found. Print NaN instead.\n",
      "Optimal parameters not found. Print NaN instead.\n",
      "Optimal parameters not found. Print NaN instead.\n",
      "Optimal parameters not found. Print NaN instead.\n",
      "Optimal parameters not found. Print NaN instead.\n",
      "Optimal parameters not found. Print NaN instead.\n",
      "Optimal parameters not found. Print NaN instead.\n",
      "Optimal parameters not found. Print NaN instead.\n",
      "Optimal parameters not found. Print NaN instead.\n",
      "Optimal parameters not found. Print NaN instead.\n",
      "Optimal parameters not found. Print NaN instead.\n",
      "Optimal parameters not found. Print NaN instead.\n",
      "Optimal parameters not found. Print NaN instead.\n",
      "Optimal parameters not found. Print NaN instead.\n",
      "Optimal parameters not found. Print NaN instead.\n",
      "Optimal parameters not found. Print NaN instead.\n",
      "Optimal parameters not found. Print NaN instead.\n",
      "Optimal parameters not found. Print NaN instead.\n",
      "Successfully output msds for OGD_1_5h_slice_3_striatum_vid_4\n",
      "Done calculating MSDs for row 0 and col 1\n",
      "Done calculating MSDs for row 0 and col 2\n",
      "Done calculating MSDs for row 0 and col 3\n",
      "Done calculating MSDs for row 1 and col 0\n",
      "Done calculating MSDs for row 1 and col 1\n",
      "Done calculating MSDs for row 1 and col 2\n",
      "Done calculating MSDs for row 1 and col 3\n",
      "Done calculating MSDs for row 2 and col 0\n",
      "Done calculating MSDs for row 2 and col 1\n",
      "Done calculating MSDs for row 2 and col 2\n",
      "Done calculating MSDs for row 2 and col 3\n",
      "Done calculating MSDs for row 3 and col 0\n",
      "Done calculating MSDs for row 3 and col 1\n",
      "Done calculating MSDs for row 3 and col 2\n",
      "Done calculating MSDs for row 3 and col 3\n"
     ]
    },
    {
     "name": "stderr",
     "output_type": "stream",
     "text": [
      "/home/ubuntu/source/diff-classifier/diff_classifier/features.py:510: RuntimeWarning: divide by zero encountered in double_scalars\n",
      "  aspratio = width/height\n",
      "/home/ubuntu/miniconda3/lib/python3.6/site-packages/scipy/optimize/minpack.py:779: OptimizeWarning: Covariance of the parameters could not be estimated\n",
      "  category=OptimizeWarning)\n"
     ]
    },
    {
     "name": "stdout",
     "output_type": "stream",
     "text": [
      "Optimal parameters not found. Print NaN instead.\n",
      "Optimal parameters not found. Print NaN instead.\n",
      "Optimal parameters not found. Print NaN instead.\n",
      "Optimal parameters not found. Print NaN instead.\n",
      "Optimal parameters not found. Print NaN instead.\n",
      "Optimal parameters not found. Print NaN instead.\n",
      "Optimal parameters not found. Print NaN instead.\n",
      "Optimal parameters not found. Print NaN instead.\n",
      "Optimal parameters not found. Print NaN instead.\n",
      "Optimal parameters not found. Print NaN instead.\n",
      "Optimal parameters not found. Print NaN instead.\n"
     ]
    },
    {
     "name": "stderr",
     "output_type": "stream",
     "text": [
      "/home/ubuntu/source/diff-classifier/diff_classifier/features.py:717: RuntimeWarning: divide by zero encountered in double_scalars\n",
      "  ratio = (dframe['MSDs'][fram1]/dframe['MSDs'][fram2]) - (\n"
     ]
    },
    {
     "name": "stdout",
     "output_type": "stream",
     "text": [
      "Optimal parameters not found. Print NaN instead.\n",
      "Optimal parameters not found. Print NaN instead.\n",
      "Optimal parameters not found. Print NaN instead.\n",
      "Optimal parameters not found. Print NaN instead.\n",
      "Optimal parameters not found. Print NaN instead.\n",
      "Optimal parameters not found. Print NaN instead.\n",
      "Optimal parameters not found. Print NaN instead.\n",
      "Optimal parameters not found. Print NaN instead.\n",
      "Optimal parameters not found. Print NaN instead.\n",
      "Optimal parameters not found. Print NaN instead.\n",
      "Optimal parameters not found. Print NaN instead.\n",
      "Optimal parameters not found. Print NaN instead.\n",
      "Optimal parameters not found. Print NaN instead.\n",
      "Optimal parameters not found. Print NaN instead.\n",
      "Optimal parameters not found. Print NaN instead.\n",
      "Optimal parameters not found. Print NaN instead.\n",
      "Successfully output msds for OGD_1_5h_slice_3_striatum_vid_5\n"
     ]
    }
   ],
   "source": [
    "for ea in msd_list:\n",
    "    kn.assemble_msds(ea, remote_folder, bucket=s3_bucket)\n",
    "    print('Successfully output msds for {}'.format(ea))"
   ]
  },
  {
   "cell_type": "code",
   "execution_count": null,
   "metadata": {},
   "outputs": [],
   "source": []
  },
  {
   "cell_type": "code",
   "execution_count": null,
   "metadata": {},
   "outputs": [],
   "source": []
  },
  {
   "cell_type": "markdown",
   "metadata": {},
   "source": [
    "## Downstream analysis and visualization"
   ]
  },
  {
   "cell_type": "markdown",
   "metadata": {},
   "source": [
    "The knotlet.assemble_msds function (which can also potentially be submitted to Cloudknot as well for large jobs) calculates the mean squared displacements and trajectory features from the raw trajectory csv files found from the Cloudknot submission. It accesses them from the S3 bucket to which they were saved."
   ]
  },
  {
   "cell_type": "code",
   "execution_count": null,
   "metadata": {},
   "outputs": [],
   "source": [
    "for prefix in to_track:\n",
    "    kn.assemble_msds(prefix, remote_folder, bucket='mckenna.data')\n",
    "    print('Successfully output msds for {}'.format(prefix))"
   ]
  },
  {
   "cell_type": "code",
   "execution_count": null,
   "metadata": {},
   "outputs": [],
   "source": [
    "for prefix in to_track[5:7]:\n",
    "    kn.assemble_msds(prefix, remote_folder, bucket='ccurtis.data')\n",
    "    print('Successfully output msds for {}'.format(prefix))"
   ]
  },
  {
   "cell_type": "markdown",
   "metadata": {},
   "source": [
    "Diff_classifier includes some useful imaging tools as well, including checking trajectories, plotting heatmaps of trajectory features, distributions of diffusion coefficients, and MSD plots."
   ]
  },
  {
   "cell_type": "code",
   "execution_count": null,
   "metadata": {},
   "outputs": [],
   "source": [
    "import diff_classifier.heatmaps as hm\n",
    "import diff_classifier.aws as aws\n",
    "import os\n",
    "import os.path as op"
   ]
  },
  {
   "cell_type": "code",
   "execution_count": null,
   "metadata": {},
   "outputs": [],
   "source": [
    "to_track"
   ]
  },
  {
   "cell_type": "code",
   "execution_count": null,
   "metadata": {},
   "outputs": [],
   "source": [
    "for vids in to_track[45:90]:\n",
    "    prefix = vids\n",
    "    msds = 'msd_{}.csv'.format(prefix)\n",
    "    feat = 'features_{}.csv'.format(prefix)\n",
    "    aws.download_s3('{}/{}'.format(remote_folder, msds), msds, bucket_name=bucket)\n",
    "    aws.download_s3('{}/{}'.format(remote_folder, feat), feat, bucket_name=bucket)\n",
    "    hm.plot_trajectories(prefix, remote_folder=remote_folder, upload=True, figsize=(8, 8), bucket = bucket)\n",
    "    print('Successfully uploaded trajectory plot for {}'.format(prefix))\n",
    "    geomean, geoSEM = hm.plot_individual_msds(prefix, x_range=4, y_range=0.5, umppx=0.07, fps=100, upload=True, remote_folder=remote_folder, bucket = bucket)\n",
    "    aws.upload_s3('./geomean_{}.csv'.format(prefix), remote_folder+'/geomean_{}.csv'.format(prefix), bucket_name = bucket)\n",
    "    aws.upload_s3('./geoSEM_{}.csv'.format(prefix), remote_folder+'/geoSEM_{}.csv'.format(prefix), bucket_name = bucket)\n",
    "    aws.upload_s3('./msds_{}.png'.format(prefix), remote_folder+'/msds_{}.png'.format(prefix), bucket_name = bucket)\n",
    "    os.remove('features_{}.csv'.format(prefix))\n",
    "    os.remove('geoSEM_{}.csv'.format(prefix))\n",
    "    os.remove('msd_{}.csv'.format(prefix))\n",
    "    os.remove('geomean_{}.csv'.format(prefix))\n",
    "    os.remove('msds_{}.png'.format(prefix))\n",
    "    print('Successfully uploaded csv files for {}'.format(prefix))\n",
    "    \n",
    "    "
   ]
  },
  {
   "cell_type": "code",
   "execution_count": null,
   "metadata": {},
   "outputs": [],
   "source": []
  },
  {
   "cell_type": "code",
   "execution_count": null,
   "metadata": {},
   "outputs": [],
   "source": [
    "geomean, geoSEM = hm.plot_individual_msds(prefix, x_range=4, y_range=0.5, umppx=0.07, fps=100, upload=True, remote_folder=remote_folder, bucket = bucket)\n",
    "aws.upload_s3('./geomean_{}.csv'.format(prefix), remote_folder+'/geomean_{}.csv'.format(prefix), bucket_name = bucket)\n",
    "aws.upload_s3('./geoSEM_{}.csv'.format(prefix), remote_folder+'/geoSEM_{}.csv'.format(prefix), bucket_name = bucket)\n",
    "aws.upload_s3('./msds_{}.png'.format(prefix), remote_folder+'/msds_{}.png'.format(prefix), bucket_name = bucket)"
   ]
  },
  {
   "cell_type": "code",
   "execution_count": null,
   "metadata": {},
   "outputs": [],
   "source": [
    "hm.plot_heatmap(prefix, upload=False)"
   ]
  },
  {
   "cell_type": "code",
   "execution_count": null,
   "metadata": {},
   "outputs": [],
   "source": [
    "hm.plot_particles_in_frame(prefix, y_range=500, upload=False)"
   ]
  },
  {
   "cell_type": "code",
   "execution_count": null,
   "metadata": {},
   "outputs": [],
   "source": [
    "prefix = to_track[0]\n",
    "\n",
    "msds = 'msd_{}.csv'.format(prefix)\n",
    "feat = 'features_{}.csv'.format(prefix)\n",
    "aws.download_s3('{}/{}'.format(remote_folder, msds), msds, bucket_name=bucket)\n",
    "aws.download_s3('{}/{}'.format(remote_folder, feat), feat, bucket_name=bucket)"
   ]
  },
  {
   "cell_type": "code",
   "execution_count": null,
   "metadata": {},
   "outputs": [],
   "source": [
    "hm.plot_trajectories(prefix, remote_folder=remote_folder, upload=True, figsize=(8, 8), bucket = bucket)"
   ]
  },
  {
   "cell_type": "code",
   "execution_count": null,
   "metadata": {},
   "outputs": [],
   "source": [
    "geomean, geoSEM = hm.plot_individual_msds(prefix, x_range=4, y_range=0.5, umppx=0.07, fps=100, upload=True, remote_folder=remote_folder, bucket = bucket)\n",
    "aws.upload_s3('./geomean_{}.csv'.format(prefix), remote_folder+'/geomean_{}.csv'.format(prefix), bucket_name = bucket)\n",
    "aws.upload_s3('./geoSEM_{}.csv'.format(prefix), remote_folder+'/geoSEM_{}.csv'.format(prefix), bucket_name = bucket)\n",
    "aws.upload_s3('./msds_{}.png'.format(prefix), remote_folder+'/msds_{}.png'.format(prefix), bucket_name = bucket)"
   ]
  },
  {
   "cell_type": "markdown",
   "metadata": {},
   "source": [
    "## Converting msd files"
   ]
  },
  {
   "cell_type": "code",
   "execution_count": null,
   "metadata": {},
   "outputs": [],
   "source": [
    "import pandas as pd\n",
    "import diff_classifier.aws as aws\n",
    "import math\n",
    "import os\n",
    "import os.path as op\n",
    "from os import listdir"
   ]
  },
  {
   "cell_type": "code",
   "execution_count": null,
   "metadata": {},
   "outputs": [],
   "source": [
    "to_track = [] # This is going to be the list of all filenames that will be included in the analysis\n",
    "start_knot = 80 #Must be unique number for every run on Cloudknot.\n",
    "\n",
    "remote_folder = '08_06_19_MPT_age_dependence' # The folder in AWS S3 containing the files to be analyzed\n",
    "bucket = 'mckenna.data' # The bucket in AWS S3 where the remote_folder is contained\n",
    "NP_sizes = ['40','100']\n",
    "vids = 5 # this is the number of vids that were taken per condition (usually corresponding to different locations)\n",
    "ages = ['P14', 'P21', 'P28']\n",
    "slices = 3\n",
    "for size in NP_sizes:\n",
    "    for age in ages:\n",
    "        for slic in range(1, slices+1):\n",
    "            for num in range(1, vids+1):\n",
    "                to_track.append('{}_{}nm_s{}_v{}'.format(age, size, slic, num))"
   ]
  },
  {
   "cell_type": "code",
   "execution_count": null,
   "metadata": {},
   "outputs": [],
   "source": [
    "to_track"
   ]
  },
  {
   "cell_type": "code",
   "execution_count": null,
   "metadata": {},
   "outputs": [],
   "source": [
    "import pandas as pd\n",
    "import diff_classifier.aws as aws\n",
    "import math\n",
    "\n",
    "for prefix in to_track[45:90]:\n",
    "    filename = 'geomean_{}.csv'.format(prefix)\n",
    "    aws.download_s3(remote_folder+'/'+filename, filename, bucket_name=bucket)\n",
    "    local_name = filename\n",
    "    merged = pd.read_csv(local_name)\n",
    "    merged.columns = ['log']\n",
    "    merged['exp'] = 0\n",
    "    for rows in range(0,len(merged)):\n",
    "        log_value = merged['log'].iloc[rows]\n",
    "        exp_value = math.exp(log_value)\n",
    "        merged.loc[rows,'exp'] = exp_value\n",
    "    merged.to_csv('adj_'+filename, mode='w', index = False)\n",
    "    aws.upload_s3('./adj_'+filename, remote_folder+'/adj_'+filename, bucket_name = bucket)\n",
    "    os.remove(filename)\n",
    "    os.remove('adj_'+filename)"
   ]
  },
  {
   "cell_type": "code",
   "execution_count": null,
   "metadata": {},
   "outputs": [],
   "source": [
    "pref = 'adj_geomean_'\n",
    "\n",
    "mol_wts = ['high', 'low', 'med']\n",
    "num_vids = 5\n",
    "\n",
    "for MW in mol_wts:\n",
    "    avg_df = pd.DataFrame()\n",
    "    for vid in range(1, num_vids+1):\n",
    "        exp = pd.read_csv(pref+'{}MW_40nm_vid_{}.csv'.format(MW, str(vid)))\n",
    "        avg_df = pd.concat([avg_df, exp['exp']], axis=1)\n",
    "    avg_df = avg_df.mean(axis = 1)\n",
    "    avg_df.to_csv('avg_'+pref+'{}MW_40nm.csv'.format(MW), mode='w', index = False)\n",
    "    aws.upload_s3('./avg_'+pref+'{}MW_40nm.csv'.format(MW), remote_folder+'/avg_'+pref+'{}MW_40nm.csv'.format(MW), bucket_name=bucket)\n",
    "    "
   ]
  },
  {
   "cell_type": "markdown",
   "metadata": {},
   "source": [
    "## Generating Histograms"
   ]
  },
  {
   "cell_type": "code",
   "execution_count": null,
   "metadata": {},
   "outputs": [],
   "source": [
    "import pandas as pd\n",
    "import diff_classifier.aws as aws\n",
    "import math\n",
    "import os\n",
    "import os.path as op\n",
    "from os import listdir"
   ]
  },
  {
   "cell_type": "code",
   "execution_count": null,
   "metadata": {},
   "outputs": [],
   "source": [
    "to_track"
   ]
  },
  {
   "cell_type": "code",
   "execution_count": null,
   "metadata": {},
   "outputs": [],
   "source": [
    "import pandas as pd\n",
    "import diff_classifier.aws as aws\n",
    "import math\n",
    "\n",
    "high_track = to_track[0:5]\n",
    "low_track = to_track[5:10]\n",
    "med_track = to_track[10:15]\n",
    "\n",
    "low_MW = pd.DataFrame()\n",
    "med_MW = pd.DataFrame()\n",
    "high_MW = pd.DataFrame()\n",
    "\n",
    "um_px = 0.07\n",
    "fps = 33\n",
    "\n",
    "for prefix in low_track:\n",
    "    feat = 'features_{}.csv'.format(prefix)\n",
    "    aws.download_s3(remote_folder+'/'+feat, 'trial_2_'+feat, bucket_name=bucket)\n",
    "    merged = pd.read_csv('trial_2_'+feat)\n",
    "    low_MW = pd.concat([low_MW, merged['Deff1']*um_px*um_px*fps/10], axis=0)\n",
    "    \n",
    "for prefix in med_track:\n",
    "    feat = 'features_{}.csv'.format(prefix)\n",
    "    aws.download_s3(remote_folder+'/'+feat, 'trial_2_'+feat, bucket_name=bucket)\n",
    "    merged = pd.read_csv('trial_2_'+feat)\n",
    "    med_MW = pd.concat([med_MW, merged['Deff1']*um_px*um_px*fps/10], axis=0)\n",
    "    \n",
    "for prefix in high_track:\n",
    "    feat = 'features_{}.csv'.format(prefix)\n",
    "    aws.download_s3(remote_folder+'/'+feat, 'trial_2_'+feat, bucket_name=bucket)\n",
    "    merged = pd.read_csv('trial_2_'+feat)\n",
    "    high_MW = pd.concat([high_MW, merged['Deff1']*um_px*um_px*fps/10], axis=0)"
   ]
  },
  {
   "cell_type": "code",
   "execution_count": null,
   "metadata": {},
   "outputs": [],
   "source": [
    "import matplotlib.pyplot as plt\n",
    "import numpy as np\n",
    "import numpy.ma as ma\n",
    "\n",
    "low_no_nan = low_MW.replace(0,np.nan)\n",
    "med_no_nan = med_MW.replace(0,np.nan)\n",
    "high_no_nan = high_MW.replace(0,np.nan)\n",
    "\n",
    "\n",
    "log_Deff_low = np.log(low_no_nan[0].dropna())\n",
    "#print(log_Deff_low)\n",
    "log_Deff_med = np.log(med_no_nan[0].dropna())\n",
    "#print(log_Deff_low)\n",
    "log_Deff_high = np.log(high_no_nan[0].dropna())\n",
    "\n",
    "test_bins = np.linspace(-12, 0, 76)\n",
    "\n",
    "low_hist, low_bins = np.histogram(log_Deff_low, bins=test_bins)\n",
    "med_hist, med_bins = np.histogram(log_Deff_med, bins=test_bins)\n",
    "high_hist, high_bins = np.histogram(log_Deff_high, bins=test_bins)\n",
    "\n",
    "low_avg = np.mean(log_Deff_low)\n",
    "med_avg = np.mean(log_Deff_med)\n",
    "high_avg = np.mean(log_Deff_high)\n",
    "\n",
    "plt.rc('axes', linewidth=2)\n",
    "low_plot, med_plot, high_plot = low_hist, med_hist, high_hist\n",
    "bins = test_bins\n",
    "width = 0.7 * (bins[1] - bins[0])\n",
    "center = (bins[:-1] + bins[1:])/2\n",
    "\n",
    "plt.figure(1, figsize=(7,4)).tight_layout()\n",
    "plt.bar(center, high_plot, color='royalblue', align='center', width=width, alpha=0.6, label='high MW')\n",
    "plt.axvline(high_avg, color='royalblue', linestyle='--', linewidth=3)\n",
    "plt.ylim((0,800))\n",
    "plt.xlabel('log $D_{eff}$', fontsize=20)\n",
    "plt.ylabel('Trajectory Count', fontsize=20)\n",
    "plt.tick_params(axis='both', which='major', labelsize=12)\n",
    "\n",
    "plt.figure(1, figsize=(7,4)).tight_layout()\n",
    "plt.bar(center, med_plot, color='darkgreen', align='center', width=width, alpha=0.7, label='medium MW')\n",
    "plt.axvline(med_avg, color='darkgreen', linestyle='--', linewidth=3)\n",
    "plt.ylim((0,400))\n",
    "plt.xlabel('log $D_{eff}$', fontsize=20)\n",
    "plt.ylabel('Trajectory Count', fontsize=20)\n",
    "plt.tick_params(axis='both', which='major', labelsize=12)\n",
    "\n",
    "plt.figure(1, figsize=(7,4)).tight_layout()\n",
    "plt.bar(center, low_plot, color='firebrick', align='center', width=width, alpha=1, label='low MW')\n",
    "plt.axvline(low_avg, color='firebrick', linestyle='--', linewidth=3)\n",
    "plt.ylim((0,100))\n",
    "plt.xlabel('log $D_{eff}$', fontsize=20)\n",
    "plt.ylabel('Trajectory Count', fontsize=20)\n",
    "plt.tick_params(axis='both', which='major', labelsize=12)\n",
    "\n",
    "plt.ylim((0,600))\n",
    "plt.legend(fontsize='large', loc=2)\n",
    "plt.show()"
   ]
  },
  {
   "cell_type": "code",
   "execution_count": null,
   "metadata": {},
   "outputs": [],
   "source": [
    "print(low_avg, med_avg, high_avg)\n",
    "print(np.exp(low_avg), np.exp(med_avg), np.exp(high_avg))"
   ]
  },
  {
   "cell_type": "code",
   "execution_count": null,
   "metadata": {},
   "outputs": [],
   "source": []
  },
  {
   "cell_type": "markdown",
   "metadata": {},
   "source": [
    "## Combined HA Solution Histograms"
   ]
  },
  {
   "cell_type": "code",
   "execution_count": null,
   "metadata": {},
   "outputs": [],
   "source": [
    "import pandas as pd\n",
    "import diff_classifier.aws as aws\n",
    "import math\n",
    "import os\n",
    "import os.path as op\n",
    "from os import listdir\n",
    "from scipy import stats"
   ]
  },
  {
   "cell_type": "code",
   "execution_count": null,
   "metadata": {},
   "outputs": [],
   "source": [
    "to_track = [] # This is going to be the list of all filenames that will be included in the analysis\n",
    "start_knot = 80 #Must be unique number for every run on Cloudknot.\n",
    "\n",
    "remote_folder = '08_06_19_MPT_age_dependence' # The folder in AWS S3 containing the files to be analyzed\n",
    "bucket = 'mckenna.data' # The bucket in AWS S3 where the remote_folder is contained\n",
    "NP_sizes = ['40','100']\n",
    "vids = 5 # this is the number of vids that were taken per condition (usually corresponding to different locations)\n",
    "ages = ['P14', 'P21', 'P28']\n",
    "slices = 3\n",
    "for size in NP_sizes:\n",
    "    for age in ages:\n",
    "        for slic in range(1, slices+1):\n",
    "            for num in range(1, vids+1):\n",
    "                to_track.append('{}_{}nm_s{}_v{}'.format(age, size, slic, num))"
   ]
  },
  {
   "cell_type": "code",
   "execution_count": null,
   "metadata": {},
   "outputs": [],
   "source": [
    "print(len(to_track))\n",
    "to_track"
   ]
  },
  {
   "cell_type": "code",
   "execution_count": null,
   "metadata": {},
   "outputs": [],
   "source": [
    "import pandas as pd\n",
    "import diff_classifier.aws as aws\n",
    "import math\n",
    "\n",
    "P14_track_40 = to_track[0:15]\n",
    "P21_track_40 = to_track[15:30]\n",
    "P28_track_40 = to_track[30:45]\n",
    "P14_track_100 = to_track[45:60]\n",
    "P21_track_100 = to_track[60:75]\n",
    "P28_track_100 = to_track[75:90]\n",
    "\n",
    "P14_40 = pd.DataFrame()\n",
    "P21_40 = pd.DataFrame()\n",
    "P28_40 = pd.DataFrame()\n",
    "P14_100 = pd.DataFrame()\n",
    "P21_100 = pd.DataFrame()\n",
    "P28_100 = pd.DataFrame()\n",
    "\n",
    "um_px = 0.07\n",
    "fps_40 = 33\n",
    "fps_100 = 100\n",
    "\n",
    "for prefix in P14_track_40:\n",
    "    feat = 'features_{}.csv'.format(prefix)\n",
    "    aws.download_s3(remote_folder+'/'+feat, feat, bucket_name=bucket)\n",
    "    merged = pd.read_csv(feat)\n",
    "    P14_40 = pd.concat([P14_40, merged['Deff1']*um_px*um_px*fps_40/10], axis=0)\n",
    "    os.remove(feat)\n",
    "P14_40.to_csv('P14_40nm.csv', mode='w', index = False)\n",
    "    \n",
    "for prefix in P21_track_40:\n",
    "    feat = 'features_{}.csv'.format(prefix)\n",
    "    aws.download_s3(remote_folder+'/'+feat, feat, bucket_name=bucket)\n",
    "    merged = pd.read_csv(feat)\n",
    "    P21_40 = pd.concat([P21_40, merged['Deff1']*um_px*um_px*fps_40/10], axis=0)\n",
    "    os.remove(feat)\n",
    "P21_40.to_csv('P21_40nm.csv', mode='w', index = False)\n",
    "    \n",
    "for prefix in P28_track_40:\n",
    "    feat = 'features_{}.csv'.format(prefix)\n",
    "    aws.download_s3(remote_folder+'/'+feat, feat, bucket_name=bucket)\n",
    "    merged = pd.read_csv(feat)\n",
    "    P28_40 = pd.concat([P28_40, merged['Deff1']*um_px*um_px*fps_40/10], axis=0)\n",
    "    os.remove(feat)\n",
    "P28_40.to_csv('P28_40nm.csv', mode='w', index = False)    \n",
    "    \n",
    "for prefix in P14_track_100:\n",
    "    feat = 'features_{}.csv'.format(prefix)\n",
    "    aws.download_s3(remote_folder+'/'+feat, feat, bucket_name=bucket)\n",
    "    merged = pd.read_csv(feat)\n",
    "    P14_100 = pd.concat([P14_100, merged['Deff1']*um_px*um_px*fps_100/10], axis=0)\n",
    "    os.remove(feat)\n",
    "P14_100.to_csv('P14_100nm.csv', mode='w', index = False)\n",
    "    \n",
    "for prefix in P21_track_100:\n",
    "    feat = 'features_{}.csv'.format(prefix)\n",
    "    aws.download_s3(remote_folder+'/'+feat, feat, bucket_name=bucket)\n",
    "    merged = pd.read_csv(feat)\n",
    "    P21_100 = pd.concat([P21_100, merged['Deff1']*um_px*um_px*fps_100/10], axis=0)\n",
    "    os.remove(feat)\n",
    "P21_100.to_csv('P21_100nm.csv', mode='w', index = False)\n",
    "    \n",
    "for prefix in P28_track_100:\n",
    "    feat = 'features_{}.csv'.format(prefix)\n",
    "    aws.download_s3(remote_folder+'/'+feat, feat, bucket_name=bucket)\n",
    "    merged = pd.read_csv(feat)\n",
    "    P28_100 = pd.concat([P28_100, merged['Deff1']*um_px*um_px*fps_100/10], axis=0)\n",
    "    os.remove(feat)\n",
    "P28_100.to_csv('P28_100nm.csv', mode='w', index = False)"
   ]
  },
  {
   "cell_type": "code",
   "execution_count": null,
   "metadata": {},
   "outputs": [],
   "source": [
    "to_track = [] # This is going to be the list of all filenames that will be included in the analysis\n",
    "start_knot = 80 #Must be unique number for every run on Cloudknot.\n",
    "\n",
    "remote_folder = '07_10_19_MPT_HA_solutions_trial2' # The folder in AWS S3 containing the files to be analyzed\n",
    "bucket = 'mckenna.data' # The bucket in AWS S3 where the remote_folder is contained\n",
    "NP_sizes = ['40', '100']\n",
    "vids = 5 # this is the number of vids that were taken per condition (usually corresponding to different locations)\n",
    "mol_weights = ['high', 'low', 'med']\n",
    "\n",
    "for MW in mol_weights:\n",
    "    for size in NP_sizes:\n",
    "        for num in range(1, vids+1):\n",
    "            to_track.append('{}MW_{}nm_vid_{}'.format(MW, size, num))\n",
    "            \n"
   ]
  },
  {
   "cell_type": "code",
   "execution_count": null,
   "metadata": {},
   "outputs": [],
   "source": [
    "print(len(to_track))\n",
    "to_track"
   ]
  },
  {
   "cell_type": "code",
   "execution_count": null,
   "metadata": {},
   "outputs": [],
   "source": [
    "import pandas as pd\n",
    "import diff_classifier.aws as aws\n",
    "import math\n",
    "\n",
    "high_track_40 = to_track[0:5]\n",
    "low_track_40 = to_track[10:15]\n",
    "med_track_40 = to_track[20:25]\n",
    "high_track_100 = to_track[5:10]\n",
    "low_track_100 = to_track[15:20]\n",
    "med_track_100 = to_track[25:30]\n",
    "\n",
    "\n",
    "low_MW_40 = pd.DataFrame()\n",
    "med_MW_40 = pd.DataFrame()\n",
    "high_MW_40 = pd.DataFrame()\n",
    "low_MW_100 = pd.DataFrame()\n",
    "med_MW_100 = pd.DataFrame()\n",
    "high_MW_100 = pd.DataFrame()\n",
    "\n",
    "um_px = 0.07\n",
    "fps_40 = 33\n",
    "fps_100 = 100\n",
    "\n",
    "for prefix in low_track_40:\n",
    "    feat = 'features_{}.csv'.format(prefix)\n",
    "    aws.download_s3(remote_folder+'/'+feat, feat, bucket_name=bucket)\n",
    "    merged = pd.read_csv(feat)\n",
    "    low_MW_40 = pd.concat([low_MW_40, merged['Deff1']*um_px*um_px*fps_40/10], axis=0)\n",
    "    os.remove(feat)\n",
    "low_MW_40.to_csv('40nm_lowMW_trial_2.csv', mode='w', index = False)\n",
    "    \n",
    "for prefix in med_track_40:\n",
    "    feat = 'features_{}.csv'.format(prefix)\n",
    "    aws.download_s3(remote_folder+'/'+feat, feat, bucket_name=bucket)\n",
    "    merged = pd.read_csv(feat)\n",
    "    med_MW_40 = pd.concat([med_MW_40, merged['Deff1']*um_px*um_px*fps_40/10], axis=0)\n",
    "    os.remove(feat)\n",
    "med_MW_40.to_csv('40nm_medMW_trial_2.csv', mode='w', index = False)\n",
    "    \n",
    "for prefix in high_track_40:\n",
    "    feat = 'features_{}.csv'.format(prefix)\n",
    "    aws.download_s3(remote_folder+'/'+feat, feat, bucket_name=bucket)\n",
    "    merged = pd.read_csv(feat)\n",
    "    high_MW_40 = pd.concat([high_MW_40, merged['Deff1']*um_px*um_px*fps_40/10], axis=0)\n",
    "    os.remove(feat)\n",
    "high_MW_40.to_csv('40nm_highMW_trial_2.csv', mode='w', index = False)    \n",
    "    \n",
    "for prefix in low_track_100:\n",
    "    feat = 'features_{}.csv'.format(prefix)\n",
    "    aws.download_s3(remote_folder+'/'+feat, feat, bucket_name=bucket)\n",
    "    merged = pd.read_csv(feat)\n",
    "    low_MW_100 = pd.concat([low_MW_100, merged['Deff1']*um_px*um_px*fps_100/10], axis=0)\n",
    "    os.remove(feat)\n",
    "low_MW_100.to_csv('100nm_lowMW_trial_2.csv', mode='w', index = False)\n",
    "    \n",
    "for prefix in med_track_100:\n",
    "    feat = 'features_{}.csv'.format(prefix)\n",
    "    aws.download_s3(remote_folder+'/'+feat, feat, bucket_name=bucket)\n",
    "    merged = pd.read_csv(feat)\n",
    "    med_MW_100 = pd.concat([med_MW_100, merged['Deff1']*um_px*um_px*fps_100/10], axis=0)\n",
    "    os.remove(feat)\n",
    "med_MW_100.to_csv('100nm_medMW_trial_2.csv', mode='w', index = False)\n",
    "    \n",
    "for prefix in high_track_100:\n",
    "    feat = 'features_{}.csv'.format(prefix)\n",
    "    aws.download_s3(remote_folder+'/'+feat, feat, bucket_name=bucket)\n",
    "    merged = pd.read_csv(feat)\n",
    "    high_MW_100 = pd.concat([high_MW_100, merged['Deff1']*um_px*um_px*fps_100/10], axis=0)\n",
    "    os.remove(feat)\n",
    "high_MW_100.to_csv('100nm_highMW_trial_2.csv', mode='w', index = False)"
   ]
  },
  {
   "cell_type": "code",
   "execution_count": null,
   "metadata": {},
   "outputs": [],
   "source": [
    "import matplotlib.pyplot as plt\n",
    "import numpy as np\n",
    "import numpy.ma as ma\n",
    "\n",
    "P14_40nm = pd.read_csv('P14_40nm.csv')\n",
    "P21_40nm = pd.read_csv('P21_40nm.csv')\n",
    "P28_40nm = pd.read_csv('P28_40nm.csv')\n",
    "NT_brain_2 = pd.read_csv('NT_brain_2_hist.csv')\n",
    "\n",
    "P35_40nm = pd.DataFrame()\n",
    "P35_40nm = pd.concat([NT_brain_2], axis=0)\n",
    "\n",
    "P14_40_no_nan = P14_40nm.replace(0,np.nan)\n",
    "P21_40_no_nan = P21_40nm.replace(0,np.nan)\n",
    "P28_40_no_nan = P28_40nm.replace(0,np.nan)\n",
    "P35_40_no_nan = P35_40nm.replace(0,np.nan)\n",
    "\n",
    "log_Deff_P14_40 = np.log(P14_40_no_nan.dropna())\n",
    "log_Deff_P21_40 = np.log(P21_40_no_nan.dropna())\n",
    "log_Deff_P28_40 = np.log(P28_40_no_nan.dropna())\n",
    "log_Deff_P35_40 = np.log(P35_40_no_nan.dropna())\n",
    "\n",
    "test_bins = np.linspace(-10, 2, 76)\n",
    "\n",
    "P14_hist_40, P14_bins_40 = np.histogram(log_Deff_P14_40, bins=test_bins)\n",
    "P21_hist_40, P21_bins_40 = np.histogram(log_Deff_P21_40, bins=test_bins)\n",
    "P28_hist_40, P28_bins_40 = np.histogram(log_Deff_P28_40, bins=test_bins)\n",
    "P35_hist_40, P35_bins_40 = np.histogram(log_Deff_P35_40, bins=test_bins)\n",
    "\n",
    "P14_avg_40 = np.mean(log_Deff_P14_40)[0]\n",
    "P21_avg_40 = np.mean(log_Deff_P21_40)[0]\n",
    "P28_avg_40 = np.mean(log_Deff_P28_40)[0]\n",
    "P35_avg_40 = np.mean(log_Deff_P35_40)[0]\n",
    "\n",
    "plt.rc('axes', linewidth=2)\n",
    "P14_plot_40, P21_plot_40, P28_plot_40, P35_plot_40 = P14_hist_40, P21_hist_40, P28_hist_40, P35_hist_40\n",
    "bins = test_bins\n",
    "width = 0.7 * (bins[1] - bins[0])\n",
    "center = (bins[:-1] + bins[1:])/2\n",
    "\n",
    "plt.figure(1, figsize=(7,4)).tight_layout()\n",
    "plt.bar(center, P14_plot_40, color='grey', align='center', width=width, alpha=0.8, label='P14')\n",
    "plt.axvline(P14_avg_40, color='grey', linestyle='--', linewidth=3)\n",
    "plt.ylim((0,800))\n",
    "plt.xlabel('log $D_{eff}$', fontsize=20)\n",
    "plt.ylabel('Trajectory Count', fontsize=20)\n",
    "plt.tick_params(axis='both', which='major', labelsize=12)\n",
    "\n",
    "plt.figure(1, figsize=(7,4)).tight_layout()\n",
    "plt.bar(center, P21_plot_40, color='goldenrod', align='center', width=width, alpha=0.7, label='P21')\n",
    "plt.axvline(P21_avg_40, color='goldenrod', linestyle='--', linewidth=3)\n",
    "plt.ylim((0,400))\n",
    "plt.xlabel('log $D_{eff}$', fontsize=20)\n",
    "plt.ylabel('Trajectory Count', fontsize=20)\n",
    "plt.tick_params(axis='both', which='major', labelsize=12)\n",
    "\n",
    "plt.figure(1, figsize=(7,4)).tight_layout()\n",
    "plt.bar(center, P28_plot_40, color='royalblue', align='center', width=width, alpha=0.7, label='P28')\n",
    "plt.axvline(P28_avg_40, color='royalblue', linestyle='--', linewidth=3)\n",
    "plt.ylim((0,100))\n",
    "plt.xlabel('log $D_{eff}$', fontsize=20)\n",
    "plt.ylabel('Trajectory Count', fontsize=20)\n",
    "plt.tick_params(axis='both', which='major', labelsize=12)\n",
    "\n",
    "plt.figure(1, figsize=(7,4)).tight_layout()\n",
    "plt.bar(center, P35_plot_40, color='purple', align='center', width=width, alpha=0.7, label='P35')\n",
    "plt.axvline(P35_avg_40, color='purple', linestyle='--', linewidth=3)\n",
    "plt.ylim((0,100))\n",
    "plt.xlabel('log $D_{eff}$', fontsize=20)\n",
    "plt.ylabel('Trajectory Count', fontsize=20)\n",
    "plt.tick_params(axis='both', which='major', labelsize=12)\n",
    "\n",
    "plt.ylim((0,1400))\n",
    "plt.legend(fontsize='x-large', loc=2)\n",
    "plt.show()"
   ]
  },
  {
   "cell_type": "markdown",
   "metadata": {},
   "source": [
    "## Statistics"
   ]
  },
  {
   "cell_type": "code",
   "execution_count": null,
   "metadata": {},
   "outputs": [],
   "source": [
    "import pandas as pd\n",
    "import diff_classifier.aws as aws\n",
    "import math\n",
    "import os\n",
    "import os.path as op\n",
    "from os import listdir\n",
    "import numpy as np"
   ]
  },
  {
   "cell_type": "code",
   "execution_count": null,
   "metadata": {},
   "outputs": [],
   "source": [
    "to_track[0:45]"
   ]
  },
  {
   "cell_type": "code",
   "execution_count": null,
   "metadata": {},
   "outputs": [],
   "source": [
    "remote_folder"
   ]
  },
  {
   "cell_type": "code",
   "execution_count": null,
   "metadata": {},
   "outputs": [],
   "source": [
    "\n",
    "um_px = 0.07\n",
    "fps = 33\n",
    "\n",
    "for prefix in to_track[0:45]:\n",
    "    temp = pd.DataFrame()\n",
    "    feat = 'features_{}.csv'.format(prefix)\n",
    "    aws.download_s3(remote_folder+'/'+feat, feat, bucket_name=bucket)\n",
    "    merged = pd.read_csv(feat)\n",
    "    temp = pd.concat([temp, merged['Deff1']*um_px*um_px/(1/fps*10)], axis=0)\n",
    "    temp_no_nan = temp.replace(0,np.nan)\n",
    "    temp_upload = temp_no_nan.dropna()\n",
    "    temp_upload.to_csv('{}_stats.csv'.format(prefix), mode='w', index = False)\n",
    "    aws.upload_s3('{}_stats.csv'.format(prefix), '07_16_19_ECM_Breakdown/{}_stats.csv'.format(prefix), bucket_name='mckenna.data')\n",
    "    os.remove(feat)\n",
    "    os.remove('{}_stats.csv'.format(prefix))"
   ]
  },
  {
   "cell_type": "code",
   "execution_count": null,
   "metadata": {},
   "outputs": [],
   "source": []
  },
  {
   "cell_type": "code",
   "execution_count": null,
   "metadata": {},
   "outputs": [],
   "source": []
  },
  {
   "cell_type": "code",
   "execution_count": null,
   "metadata": {},
   "outputs": [],
   "source": [
    "print(P14_avg_40, P21_avg_40, P28_avg_40, P35_avg_40)\n",
    "print(np.exp(P14_avg_40), np.exp(P21_avg_40), np.exp(P28_avg_40), np.exp(P35_avg_40))"
   ]
  },
  {
   "cell_type": "code",
   "execution_count": null,
   "metadata": {},
   "outputs": [],
   "source": [
    "import matplotlib.pyplot as plt\n",
    "import numpy as np\n",
    "import numpy.ma as ma\n",
    "\n",
    "P14_40nm = pd.read_csv('P14_40nm.csv')\n",
    "P21_40nm = pd.read_csv('P21_40nm.csv')\n",
    "P28_40nm = pd.read_csv('P28_40nm.csv')\n",
    "NT_brain_2 = pd.read_csv('NT_brain_2_hist.csv')\n",
    "\n",
    "P35_40nm = pd.DataFrame()\n",
    "P35_40nm = pd.concat([NT_brain_2], axis=0)\n",
    "\n",
    "P14_40_no_nan = P14_40nm.replace(0,np.nan)\n",
    "P21_40_no_nan = P21_40nm.replace(0,np.nan)\n",
    "P28_40_no_nan = P28_40nm.replace(0,np.nan)\n",
    "P35_40_no_nan = P35_40nm.replace(0,np.nan)\n",
    "\n",
    "log_Deff_P14_40 = np.log(P14_40_no_nan.dropna())\n",
    "log_Deff_P21_40 = np.log(P21_40_no_nan.dropna())\n",
    "log_Deff_P28_40 = np.log(P28_40_no_nan.dropna())\n",
    "log_Deff_P35_40 = np.log(P35_40_no_nan.dropna())\n",
    "\n",
    "test_bins = np.linspace(-10, 2, 76)\n",
    "\n",
    "P14_hist_40, P14_bins_40 = np.histogram(log_Deff_P14_40, bins=test_bins)\n",
    "P21_hist_40, P21_bins_40 = np.histogram(log_Deff_P21_40, bins=test_bins)\n",
    "P28_hist_40, P28_bins_40 = np.histogram(log_Deff_P28_40, bins=test_bins)\n",
    "P35_hist_40, P35_bins_40 = np.histogram(log_Deff_P35_40, bins=test_bins)\n",
    "\n",
    "P14_avg_40 = np.mean(log_Deff_P14_40)[0]\n",
    "P21_avg_40 = np.mean(log_Deff_P21_40)[0]\n",
    "P28_avg_40 = np.mean(log_Deff_P28_40)[0]\n",
    "P35_avg_40 = np.mean(log_Deff_P35_40)[0]\n",
    "\n",
    "plt.rc('axes', linewidth=2)\n",
    "P14_plot_40, P21_plot_40, P28_plot_40, P35_plot_40 = P14_hist_40, P21_hist_40, P28_hist_40, P35_hist_40\n",
    "bins = test_bins\n",
    "width = 0.7 * (bins[1] - bins[0])\n",
    "center = (bins[:-1] + bins[1:])/2\n",
    "\n",
    "plt.figure(1, figsize=(7,4)).tight_layout()\n",
    "plt.bar(center, P21_plot_40, color='goldenrod', align='center', width=width, alpha=0.7, label='P21')\n",
    "plt.axvline(P21_avg_40, color='goldenrod', linestyle='--', linewidth=3)\n",
    "plt.ylim((0,400))\n",
    "plt.xlabel('log $D_{eff}$', fontsize=20)\n",
    "plt.ylabel('Trajectory Count', fontsize=20)\n",
    "plt.tick_params(axis='both', which='major', labelsize=12)\n",
    "\n",
    "plt.ylim((0,1400))\n",
    "plt.legend(fontsize='x-large', loc=2)\n",
    "plt.show()"
   ]
  },
  {
   "cell_type": "code",
   "execution_count": null,
   "metadata": {},
   "outputs": [],
   "source": [
    "import matplotlib.pyplot as plt\n",
    "import numpy as np\n",
    "import numpy.ma as ma\n",
    "\n",
    "P14_40nm = pd.read_csv('P14_40nm.csv')\n",
    "P21_40nm = pd.read_csv('P21_40nm.csv')\n",
    "P28_40nm = pd.read_csv('P28_40nm.csv')\n",
    "NT_brain_2 = pd.read_csv('NT_brain_2_hist.csv')\n",
    "\n",
    "P35_40nm = pd.DataFrame()\n",
    "P35_40nm = pd.concat([NT_brain_2], axis=0)\n",
    "\n",
    "P14_40_no_nan = P14_40nm.replace(0,np.nan)\n",
    "P21_40_no_nan = P21_40nm.replace(0,np.nan)\n",
    "P28_40_no_nan = P28_40nm.replace(0,np.nan)\n",
    "P35_40_no_nan = P35_40nm.replace(0,np.nan)\n",
    "\n",
    "log_Deff_P14_40 = np.log(P14_40_no_nan.dropna())\n",
    "log_Deff_P21_40 = np.log(P21_40_no_nan.dropna())\n",
    "log_Deff_P28_40 = np.log(P28_40_no_nan.dropna())\n",
    "log_Deff_P35_40 = np.log(P35_40_no_nan.dropna())\n",
    "\n",
    "test_bins = np.linspace(-10, 2, 76)\n",
    "\n",
    "P14_hist_40, P14_bins_40 = np.histogram(log_Deff_P14_40, bins=test_bins)\n",
    "P21_hist_40, P21_bins_40 = np.histogram(log_Deff_P21_40, bins=test_bins)\n",
    "P28_hist_40, P28_bins_40 = np.histogram(log_Deff_P28_40, bins=test_bins)\n",
    "P35_hist_40, P35_bins_40 = np.histogram(log_Deff_P35_40, bins=test_bins)\n",
    "\n",
    "P14_avg_40 = np.mean(log_Deff_P14_40)[0]\n",
    "P21_avg_40 = np.mean(log_Deff_P21_40)[0]\n",
    "P28_avg_40 = np.mean(log_Deff_P28_40)[0]\n",
    "P35_avg_40 = np.mean(log_Deff_P35_40)[0]\n",
    "\n",
    "plt.rc('axes', linewidth=2)\n",
    "P14_plot_40, P21_plot_40, P28_plot_40, P35_plot_40 = P14_hist_40, P21_hist_40, P28_hist_40, P35_hist_40\n",
    "bins = test_bins\n",
    "width = 0.7 * (bins[1] - bins[0])\n",
    "center = (bins[:-1] + bins[1:])/2\n",
    "\n",
    "plt.figure(1, figsize=(7,4)).tight_layout()\n",
    "plt.bar(center, P35_plot_40, color='purple', align='center', width=width, alpha=0.7, label='P35')\n",
    "plt.axvline(P35_avg_40, color='purple', linestyle='--', linewidth=3)\n",
    "plt.ylim((0,100))\n",
    "plt.xlabel('log $D_{eff}$', fontsize=20)\n",
    "plt.ylabel('Trajectory Count', fontsize=20)\n",
    "plt.tick_params(axis='both', which='major', labelsize=12)\n",
    "\n",
    "plt.ylim((0,1400))\n",
    "plt.legend(fontsize='x-large', loc=2)\n",
    "plt.show()"
   ]
  },
  {
   "cell_type": "code",
   "execution_count": null,
   "metadata": {},
   "outputs": [],
   "source": [
    "import matplotlib.pyplot as plt\n",
    "import numpy as np\n",
    "import numpy.ma as ma\n",
    "\n",
    "P14_40nm = pd.read_csv('P14_40nm.csv')\n",
    "P21_40nm = pd.read_csv('P21_40nm.csv')\n",
    "P28_40nm = pd.read_csv('P28_40nm.csv')\n",
    "NT_brain_2 = pd.read_csv('NT_brain_2_hist.csv')\n",
    "\n",
    "P35_40nm = pd.DataFrame()\n",
    "P35_40nm = pd.concat([NT_brain_2], axis=0)\n",
    "\n",
    "P14_40_no_nan = P14_40nm.replace(0,np.nan)\n",
    "P21_40_no_nan = P21_40nm.replace(0,np.nan)\n",
    "P28_40_no_nan = P28_40nm.replace(0,np.nan)\n",
    "P35_40_no_nan = P35_40nm.replace(0,np.nan)\n",
    "\n",
    "log_Deff_P14_40 = np.log(P14_40_no_nan.dropna())\n",
    "log_Deff_P21_40 = np.log(P21_40_no_nan.dropna())\n",
    "log_Deff_P28_40 = np.log(P28_40_no_nan.dropna())\n",
    "log_Deff_P35_40 = np.log(P35_40_no_nan.dropna())\n",
    "\n",
    "test_bins = np.linspace(-10, 2, 76)\n",
    "\n",
    "P14_hist_40, P14_bins_40 = np.histogram(log_Deff_P14_40, bins=test_bins)\n",
    "P21_hist_40, P21_bins_40 = np.histogram(log_Deff_P21_40, bins=test_bins)\n",
    "P28_hist_40, P28_bins_40 = np.histogram(log_Deff_P28_40, bins=test_bins)\n",
    "P35_hist_40, P35_bins_40 = np.histogram(log_Deff_P35_40, bins=test_bins)\n",
    "\n",
    "P14_avg_40 = np.mean(log_Deff_P14_40)[0]\n",
    "P21_avg_40 = np.mean(log_Deff_P21_40)[0]\n",
    "P28_avg_40 = np.mean(log_Deff_P28_40)[0]\n",
    "P35_avg_40 = np.mean(log_Deff_P35_40)[0]\n",
    "\n",
    "plt.rc('axes', linewidth=2)\n",
    "P14_plot_40, P21_plot_40, P28_plot_40, P35_plot_40 = P14_hist_40, P21_hist_40, P28_hist_40, P35_hist_40\n",
    "bins = test_bins\n",
    "width = 0.7 * (bins[1] - bins[0])\n",
    "center = (bins[:-1] + bins[1:])/2\n",
    "\n",
    "plt.figure(1, figsize=(7,4)).tight_layout()\n",
    "plt.bar(center, P14_plot_40, color='grey', align='center', width=width, alpha=0.8, label='P14')\n",
    "plt.axvline(P14_avg_40, color='grey', linestyle='--', linewidth=3)\n",
    "plt.ylim((0,800))\n",
    "plt.xlabel('log $D_{eff}$', fontsize=20)\n",
    "plt.ylabel('Trajectory Count', fontsize=20)\n",
    "plt.tick_params(axis='both', which='major', labelsize=12)\n",
    "\n",
    "plt.ylim((0,1400))\n",
    "plt.legend(fontsize='x-large', loc=2)\n",
    "plt.show()"
   ]
  },
  {
   "cell_type": "code",
   "execution_count": null,
   "metadata": {},
   "outputs": [],
   "source": [
    "import matplotlib.pyplot as plt\n",
    "import numpy as np\n",
    "import numpy.ma as ma\n",
    "\n",
    "P14_40nm = pd.read_csv('P14_40nm.csv')\n",
    "P21_40nm = pd.read_csv('P21_40nm.csv')\n",
    "P28_40nm = pd.read_csv('P28_40nm.csv')\n",
    "NT_brain_2 = pd.read_csv('NT_brain_2_hist.csv')\n",
    "\n",
    "P35_40nm = pd.DataFrame()\n",
    "P35_40nm = pd.concat([NT_brain_2], axis=0)\n",
    "\n",
    "P14_40_no_nan = P14_40nm.replace(0,np.nan)\n",
    "P21_40_no_nan = P21_40nm.replace(0,np.nan)\n",
    "P28_40_no_nan = P28_40nm.replace(0,np.nan)\n",
    "P35_40_no_nan = P35_40nm.replace(0,np.nan)\n",
    "\n",
    "log_Deff_P14_40 = np.log(P14_40_no_nan.dropna())\n",
    "log_Deff_P21_40 = np.log(P21_40_no_nan.dropna())\n",
    "log_Deff_P28_40 = np.log(P28_40_no_nan.dropna())\n",
    "log_Deff_P35_40 = np.log(P35_40_no_nan.dropna())\n",
    "\n",
    "test_bins = np.linspace(-10, 2, 76)\n",
    "\n",
    "P14_hist_40, P14_bins_40 = np.histogram(log_Deff_P14_40, bins=test_bins)\n",
    "P21_hist_40, P21_bins_40 = np.histogram(log_Deff_P21_40, bins=test_bins)\n",
    "P28_hist_40, P28_bins_40 = np.histogram(log_Deff_P28_40, bins=test_bins)\n",
    "P35_hist_40, P35_bins_40 = np.histogram(log_Deff_P35_40, bins=test_bins)\n",
    "\n",
    "P14_avg_40 = np.mean(log_Deff_P14_40)[0]\n",
    "P21_avg_40 = np.mean(log_Deff_P21_40)[0]\n",
    "P28_avg_40 = np.mean(log_Deff_P28_40)[0]\n",
    "P35_avg_40 = np.mean(log_Deff_P35_40)[0]\n",
    "\n",
    "plt.rc('axes', linewidth=2)\n",
    "P14_plot_40, P21_plot_40, P28_plot_40, P35_plot_40 = P14_hist_40, P21_hist_40, P28_hist_40, P35_hist_40\n",
    "bins = test_bins\n",
    "width = 0.7 * (bins[1] - bins[0])\n",
    "center = (bins[:-1] + bins[1:])/2\n",
    "\n",
    "plt.figure(1, figsize=(7,4)).tight_layout()\n",
    "plt.bar(center, P28_plot_40, color='royalblue', align='center', width=width, alpha=0.7, label='P28')\n",
    "plt.axvline(P28_avg_40, color='royalblue', linestyle='--', linewidth=3)\n",
    "plt.ylim((0,100))\n",
    "plt.xlabel('log $D_{eff}$', fontsize=20)\n",
    "plt.ylabel('Trajectory Count', fontsize=20)\n",
    "plt.tick_params(axis='both', which='major', labelsize=12)\n",
    "\n",
    "plt.ylim((0,1400))\n",
    "plt.legend(fontsize='x-large', loc=2)\n",
    "plt.show()"
   ]
  },
  {
   "cell_type": "code",
   "execution_count": null,
   "metadata": {},
   "outputs": [],
   "source": [
    "import matplotlib.pyplot as plt\n",
    "import numpy as np\n",
    "import numpy.ma as ma\n",
    "\n",
    "P14_100nm = pd.read_csv('P14_100nm.csv')\n",
    "P21_100nm = pd.read_csv('P21_100nm.csv')\n",
    "P28_100nm = pd.read_csv('P28_100nm.csv')\n",
    "#NT_brain_2 = pd.read_csv('NT_brain_2_hist.csv')\n",
    "\n",
    "#P35_40nm = pd.DataFrame()\n",
    "#P35_40nm = pd.concat([NT_brain_2], axis=0)\n",
    "\n",
    "P14_100_no_nan = P14_100nm.replace(0,np.nan)\n",
    "P21_100_no_nan = P21_100nm.replace(0,np.nan)\n",
    "P28_100_no_nan = P28_100nm.replace(0,np.nan)\n",
    "#P35_40_no_nan = P35_40nm.replace(0,np.nan)\n",
    "\n",
    "log_Deff_P14_100 = np.log(P14_100_no_nan.dropna())\n",
    "log_Deff_P21_100 = np.log(P21_100_no_nan.dropna())\n",
    "log_Deff_P28_100 = np.log(P28_100_no_nan.dropna())\n",
    "#log_Deff_P35_40 = np.log(P35_40_no_nan.dropna())\n",
    "\n",
    "test_bins = np.linspace(-5, 1, 76)\n",
    "\n",
    "P14_hist_100, P14_bins_100 = np.histogram(log_Deff_P14_100, bins=test_bins)\n",
    "P21_hist_100, P21_bins_100 = np.histogram(log_Deff_P21_100, bins=test_bins)\n",
    "P28_hist_100, P28_bins_100 = np.histogram(log_Deff_P28_100, bins=test_bins)\n",
    "#P35_hist_40, P35_bins_40 = np.histogram(log_Deff_P35_40, bins=test_bins)\n",
    "\n",
    "P14_avg_100 = np.mean(log_Deff_P14_100)[0]\n",
    "P21_avg_100 = np.mean(log_Deff_P21_100)[0]\n",
    "P28_avg_100 = np.mean(log_Deff_P28_100)[0]\n",
    "#P35_avg_40 = np.mean(log_Deff_P35_40)[0]\n",
    "\n",
    "plt.rc('axes', linewidth=2)\n",
    "P14_plot_100, P21_plot_100, P28_plot_100 = P14_hist_100, P21_hist_100, P28_hist_100\n",
    "bins = test_bins\n",
    "width = 0.7 * (bins[1] - bins[0])\n",
    "center = (bins[:-1] + bins[1:])/2\n",
    "\n",
    "plt.figure(1, figsize=(7,4)).tight_layout()\n",
    "plt.bar(center, P14_plot_100, color='royalblue', align='center', width=width, alpha=0.8, label='P14')\n",
    "plt.axvline(P14_avg_100, color='royalblue', linestyle='--', linewidth=3)\n",
    "plt.ylim((0,800))\n",
    "plt.xlabel('log $D_{eff}$', fontsize=20)\n",
    "plt.ylabel('Trajectory Count', fontsize=20)\n",
    "plt.tick_params(axis='both', which='major', labelsize=12)\n",
    "\n",
    "plt.figure(1, figsize=(7,4)).tight_layout()\n",
    "plt.bar(center, P21_plot_100, color='darkgreen', align='center', width=width, alpha=0.9, label='P21')\n",
    "plt.axvline(P21_avg_100, color='darkgreen', linestyle='--', linewidth=3)\n",
    "plt.ylim((0,400))\n",
    "plt.xlabel('log $D_{eff}$', fontsize=20)\n",
    "plt.ylabel('Trajectory Count', fontsize=20)\n",
    "plt.tick_params(axis='both', which='major', labelsize=12)\n",
    "\n",
    "plt.figure(1, figsize=(7,4)).tight_layout()\n",
    "plt.bar(center, P28_plot_100, color='firebrick', align='center', width=width, alpha=0.7, label='P28')\n",
    "plt.axvline(P28_avg_100, color='firebrick', linestyle='--', linewidth=3)\n",
    "plt.ylim((0,100))\n",
    "plt.xlabel('log $D_{eff}$', fontsize=20)\n",
    "plt.ylabel('Trajectory Count', fontsize=20)\n",
    "plt.tick_params(axis='both', which='major', labelsize=12)\n",
    "\n",
    "plt.ylim((0,2000))\n",
    "plt.legend()\n",
    "plt.show()"
   ]
  },
  {
   "cell_type": "code",
   "execution_count": null,
   "metadata": {},
   "outputs": [],
   "source": [
    "print(P14_avg_100, P21_avg_100, P28_avg_100)\n",
    "print(np.exp(P14_avg_100), np.exp(P21_avg_100), np.exp(P28_avg_100))"
   ]
  },
  {
   "cell_type": "code",
   "execution_count": null,
   "metadata": {},
   "outputs": [],
   "source": []
  },
  {
   "cell_type": "markdown",
   "metadata": {},
   "source": [
    "## MSD plots"
   ]
  },
  {
   "cell_type": "code",
   "execution_count": null,
   "metadata": {},
   "outputs": [],
   "source": [
    "import pandas as pd\n",
    "import diff_classifier.aws as aws\n",
    "import math\n",
    "import numpy as np"
   ]
  },
  {
   "cell_type": "code",
   "execution_count": null,
   "metadata": {},
   "outputs": [],
   "source": [
    "for prefix in to_track[0:45]:\n",
    "    filename = 'adj_geomean_{}.csv'.format(prefix)\n",
    "    aws.download_s3(remote_folder+'/'+filename, filename, bucket_name=bucket)"
   ]
  },
  {
   "cell_type": "code",
   "execution_count": null,
   "metadata": {},
   "outputs": [],
   "source": [
    "for prefix in to_track[0:45]:\n",
    "    filename = 'adj_geomean_{}.csv'.format(prefix)\n",
    "    os.remove(filename)"
   ]
  },
  {
   "cell_type": "code",
   "execution_count": null,
   "metadata": {},
   "outputs": [],
   "source": [
    "# This is importing P35 dataset\n",
    "\n",
    "to_track_P35 = [] # This is going to be the list of all filenames that will be included in the analysis\n",
    "start_knot = 80 #Must be unique number for every run on Cloudknot.\n",
    "\n",
    "remote_folder_P35 = '07_16_19_MPT_ECM_breakdown' # The folder in AWS S3 containing the files to be analyzed\n",
    "bucket = 'mckenna.data' # The bucket in AWS S3 where the remote_folder is contained\n",
    "\n",
    "treatments = ['NT']\n",
    "brains = 4\n",
    "slices = 3\n",
    "vids = 5\n",
    "\n",
    "for treat in treatments:\n",
    "    for brain in range(1, brains+1):\n",
    "        for slic in range(1, slices+1):\n",
    "            for num in range(1, vids+1):\n",
    "                to_track_P35.append('{}_brain_{}_slice_{}_vid_{}'.format(treat, brain, slic, num))"
   ]
  },
  {
   "cell_type": "code",
   "execution_count": null,
   "metadata": {},
   "outputs": [],
   "source": [
    "to_track_P35"
   ]
  },
  {
   "cell_type": "code",
   "execution_count": null,
   "metadata": {},
   "outputs": [],
   "source": [
    "import matplotlib.pyplot as plt\n",
    "\n",
    "P14_MSDs = pd.DataFrame()\n",
    "P21_MSDs = pd.DataFrame()\n",
    "P28_MSDs = pd.DataFrame()\n",
    "P35_MSDs = pd.DataFrame()\n",
    "\n",
    "P14_plot_array = []\n",
    "P21_plot_array = []\n",
    "P28_plot_array = []\n",
    "P35_plot_array = []\n",
    "\n",
    "P14_MSDs['time'] = pd.Series(np.linspace(1/33, 1/33*650, 650))\n",
    "P21_MSDs['time'] = pd.Series(np.linspace(1/33, 1/33*650, 650))\n",
    "P28_MSDs['time'] = pd.Series(np.linspace(1/33, 1/33*650, 650))\n",
    "P35_MSDs['time'] = pd.Series(np.linspace(1/33, 1/33*650, 650))\n",
    "\n",
    "for prefix in to_track[0:15]:\n",
    "    filename = 'adj_geomean_{}.csv'.format(prefix)\n",
    "    P14_MSDs = pd.concat([P14_MSDs, pd.read_csv(filename)['exp']], axis = 1)\n",
    "    P14_MSDs.rename(columns={\"exp\": prefix}, inplace=True)\n",
    "    P14_plot_array.append(prefix)\n",
    "\n",
    "P14_MSDs['average'] = P14_MSDs.mean(numeric_only=True, axis=1)\n",
    "\n",
    "for prefix in to_track[15:30]:\n",
    "    filename = 'adj_geomean_{}.csv'.format(prefix)\n",
    "    P21_MSDs = pd.concat([P21_MSDs, pd.read_csv(filename)['exp']], axis = 1)\n",
    "    P21_MSDs.rename(columns={\"exp\": prefix}, inplace=True)\n",
    "    P21_plot_array.append(prefix)\n",
    "    \n",
    "P21_MSDs['average'] = P21_MSDs.mean(numeric_only=True, axis=1)\n",
    "\n",
    "for prefix in to_track[30:45]:\n",
    "    filename = 'adj_geomean_{}.csv'.format(prefix)\n",
    "    P28_MSDs = pd.concat([P28_MSDs, pd.read_csv(filename)['exp']], axis = 1)\n",
    "    P28_MSDs.rename(columns={\"exp\": prefix}, inplace=True)\n",
    "    P28_plot_array.append(prefix)\n",
    "\n",
    "P28_MSDs['average'] = P28_MSDs.mean(numeric_only=True, axis=1)\n",
    "\n",
    "for prefix in to_track_P35:\n",
    "    filename = 'adj_geomean_{}.csv'.format(prefix)\n",
    "    P35_MSDs = pd.concat([P35_MSDs, pd.read_csv(filename)['exp']], axis = 1)\n",
    "    P35_MSDs.rename(columns={\"exp\": prefix}, inplace=True)\n",
    "    P35_plot_array.append(prefix)\n",
    "\n",
    "P35_MSDs['average'] = P35_MSDs.mean(numeric_only=True, axis=1)\n",
    "\n",
    "plt.figure(1).tight_layout()\n",
    "ax = plt.gca()\n",
    "P14_MSDs.plot(x='time', y=P14_plot_array, kind='line', ax=ax, xlim=(0,1.6), ylim=(0.01,100), logy=True, logx=True, color='gray', alpha=0.1, legend=False)\n",
    "P14_MSDs.plot(x='time', y='average', kind='line', ax=ax, xlim=(0,1.6), ylim=(0.01,100), logy=True, logx=True, linewidth=3.0, color='gray', alpha=1, legend=False)\n",
    "ax.set_ylabel('<MSD> (\\u03BCm$^2$)', fontsize=18)\n",
    "ax.set_xlabel('lag time (s)', fontsize=18)\n",
    "ax.tick_params(labelsize=12)\n",
    "for axis in ['top','bottom','left','right']:\n",
    "    ax.spines[axis].set_linewidth(2)\n",
    "\n",
    "plt.figure(2).tight_layout()\n",
    "ax2 = plt.gca()\n",
    "P21_MSDs.plot(x='time', y=P21_plot_array, kind='line', ax=ax2, xlim=(0,1.6), ylim=(0.01,100), logy=True, logx=True, color='goldenrod', alpha=0.1, legend=False)\n",
    "P21_MSDs.plot(x='time', y='average', kind='line', ax=ax2, xlim=(0,1.6), ylim=(0.01,100), logy=True, logx=True, linewidth=3.0, color='goldenrod', alpha=1, legend=False)\n",
    "ax2.set_ylabel('<MSD> (\\u03BCm$^2$)', fontsize=18)\n",
    "ax2.set_xlabel('lag time (s)', fontsize=18)\n",
    "ax2.tick_params(labelsize=12)\n",
    "for axis in ['top','bottom','left','right']:\n",
    "    ax2.spines[axis].set_linewidth(2)\n",
    "\n",
    "plt.figure(3).tight_layout()\n",
    "ax3 = plt.gca()\n",
    "P28_MSDs.plot(x='time', y=P28_plot_array, kind='line', ax=ax3, xlim=(0,1.6), logy=True, ylim=(0.01,100), logx=True, color='royalblue', alpha=0.1, legend=False)\n",
    "P28_MSDs.plot(x='time', y='average', kind='line', ax=ax3, xlim=(0,1.6), ylim=(0.01,100), logy=True, logx=True, linewidth=3.0, color='royalblue', alpha=1, legend=False)\n",
    "ax3.set_ylabel('<MSD> (\\u03BCm$^2$)', fontsize=18)\n",
    "ax3.set_xlabel('lag time (s)', fontsize=18)\n",
    "ax3.tick_params(labelsize=12)\n",
    "for axis in ['top','bottom','left','right']:\n",
    "    ax3.spines[axis].set_linewidth(2)\n",
    "    \n",
    "plt.figure(4).tight_layout()\n",
    "ax4 = plt.gca()\n",
    "P35_MSDs.plot(x='time', y=P35_plot_array, kind='line', ax=ax4, xlim=(0,1.6), logy=True, ylim=(0.01,100), logx=True, color='purple', alpha=0.1, legend=False)\n",
    "P35_MSDs.plot(x='time', y='average', kind='line', ax=ax4, xlim=(0,1.6), ylim=(0.01,100), logy=True, logx=True, linewidth=3.0, color='purple', alpha=1, legend=False)\n",
    "ax4.set_ylabel('<MSD> (\\u03BCm$^2$)', fontsize=18)\n",
    "ax4.set_xlabel('lag time (s)', fontsize=18)\n",
    "ax4.tick_params(labelsize=12)\n",
    "for axis in ['top','bottom','left','right']:\n",
    "    ax4.spines[axis].set_linewidth(2)\n",
    "\n",
    "plt.figure(5).tight_layout()\n",
    "ax5 = plt.gca()\n",
    "P14_MSDs.plot(x='time', y=P14_plot_array, kind='line', ax=ax5, xlim=(0,1.6), ylim=(0.01,100), logy=True, logx=True, color='gray', alpha=0.05, legend=False)\n",
    "P14_MSDs.plot(x='time', y='average', kind='line', ax=ax5, xlim=(0,1.6), ylim=(0.01,100), logy=True, logx=True, linewidth=4.0, color='gray', alpha=1, label='P14')\n",
    "P21_MSDs.plot(x='time', y=P21_plot_array, kind='line', ax=ax5, xlim=(0,1.6), ylim=(0.01,100), logy=True, logx=True, color='goldenrod', alpha=0.05, legend=False)\n",
    "P21_MSDs.plot(x='time', y='average', kind='line', ax=ax5, xlim=(0,1.6), ylim=(0.01,100), logy=True, logx=True, linewidth=4.0, color='goldenrod', alpha=1, label='P21')\n",
    "P28_MSDs.plot(x='time', y=P28_plot_array, kind='line', ax=ax5, xlim=(0,1.6), logy=True, ylim=(0.01,100), logx=True, color='royalblue', alpha=0.05, legend=False)\n",
    "P28_MSDs.plot(x='time', y='average', kind='line', ax=ax5, xlim=(0,1.6), ylim=(0.01,100), logy=True, logx=True, linewidth=4.0, color='royalblue', alpha=1, label='P28')\n",
    "P35_MSDs.plot(x='time', y=P35_plot_array, kind='line', ax=ax5, xlim=(0,1.6), logy=True, ylim=(0.01,100), logx=True, color='purple', alpha=0.05, legend=False)\n",
    "P35_MSDs.plot(x='time', y='average', kind='line', ax=ax5, xlim=(0,1.6), ylim=(0.01,100), logy=True, logx=True, linewidth=4.0, color='purple', alpha=1, label='P35')\n",
    "ax5.set_ylabel('<MSD> (\\u03BCm$^2$)', fontsize=18)\n",
    "ax5.set_xlabel('lag time (s)', fontsize=18)\n",
    "ax5.tick_params(labelsize=12)\n",
    "for axis in ['top','bottom','left','right']:\n",
    "    ax5.spines[axis].set_linewidth(2)\n",
    "\n",
    "plt.show()"
   ]
  },
  {
   "cell_type": "code",
   "execution_count": null,
   "metadata": {},
   "outputs": [],
   "source": []
  },
  {
   "cell_type": "code",
   "execution_count": null,
   "metadata": {},
   "outputs": [],
   "source": []
  }
 ],
 "metadata": {
  "kernelspec": {
   "display_name": "Python 3",
   "language": "python",
   "name": "python3"
  },
  "language_info": {
   "codemirror_mode": {
    "name": "ipython",
    "version": 3
   },
   "file_extension": ".py",
   "mimetype": "text/x-python",
   "name": "python",
   "nbconvert_exporter": "python",
   "pygments_lexer": "ipython3",
   "version": "3.6.3"
  }
 },
 "nbformat": 4,
 "nbformat_minor": 2
}
