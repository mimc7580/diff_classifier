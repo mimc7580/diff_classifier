{
 "cells": [
  {
   "cell_type": "code",
   "execution_count": 14,
   "metadata": {},
   "outputs": [],
   "source": [
    "import os\n",
    "import boto3\n",
    "import os.path as op\n",
    "import diff_classifier.aws as aws\n",
    "import numpy as np\n",
    "import math\n",
    "import pandas as pd\n",
    "import matplotlib.pyplot as plt\n",
    "import numpy.ma as ma\n",
    "from scipy import stats"
   ]
  },
  {
   "cell_type": "code",
   "execution_count": 22,
   "metadata": {},
   "outputs": [],
   "source": [
    "to_track = [] # This is going to be the list of all filenames that will be included in the analysis\n",
    "\n",
    "remote_folder = '07_16_19_ECM_Breakdown' # The folder in AWS S3 containing the files to be analyzed\n",
    "bucket = 'mckenna.data' # The bucket in AWS S3 where the remote_folder is contained\n",
    "\n",
    "treatments = ['NT']\n",
    "slices = 3\n",
    "vids = 5\n",
    "\n",
    "for treat in treatments:\n",
    "    for slic in range(1, slices+1):\n",
    "        for num in range(1, vids+1):\n",
    "            to_track.append('{}_brain_2_slice_{}_vid_{}'.format(treat, slic, num))"
   ]
  },
  {
   "cell_type": "code",
   "execution_count": 23,
   "metadata": {},
   "outputs": [
    {
     "data": {
      "text/plain": [
       "['NT_brain_2_slice_1_vid_1',\n",
       " 'NT_brain_2_slice_1_vid_2',\n",
       " 'NT_brain_2_slice_1_vid_3',\n",
       " 'NT_brain_2_slice_1_vid_4',\n",
       " 'NT_brain_2_slice_1_vid_5',\n",
       " 'NT_brain_2_slice_2_vid_1',\n",
       " 'NT_brain_2_slice_2_vid_2',\n",
       " 'NT_brain_2_slice_2_vid_3',\n",
       " 'NT_brain_2_slice_2_vid_4',\n",
       " 'NT_brain_2_slice_2_vid_5',\n",
       " 'NT_brain_2_slice_3_vid_1',\n",
       " 'NT_brain_2_slice_3_vid_2',\n",
       " 'NT_brain_2_slice_3_vid_3',\n",
       " 'NT_brain_2_slice_3_vid_4',\n",
       " 'NT_brain_2_slice_3_vid_5']"
      ]
     },
     "execution_count": 23,
     "metadata": {},
     "output_type": "execute_result"
    }
   ],
   "source": [
    "to_track"
   ]
  },
  {
   "cell_type": "code",
   "execution_count": 24,
   "metadata": {},
   "outputs": [],
   "source": [
    "for prefix in to_track:\n",
    "    csv_file = '{}_stats.csv'.format(prefix)    \n",
    "    aws.download_s3(remote_folder+'/'+csv_file, csv_file, bucket_name=bucket)\n",
    "    aws.upload_s3(csv_file, '04_24_20_Obstruction_Scaling_Data/{}_Deff.csv'.format(prefix), bucket_name='mckenna.data')\n",
    "#    os.remove(feat)\n",
    "#    os.remove('{}_Deff.csv'.format(prefix))"
   ]
  },
  {
   "cell_type": "code",
   "execution_count": 4,
   "metadata": {},
   "outputs": [],
   "source": [
    "# Assigning variables\n",
    "k = 1.3806503e-23 # m^2 kg s^-2 K\n",
    "T = 310.15 # K\n",
    "mu = 0.001 # kg m^-1 s^-1\n",
    "\n",
    "r_s = 26 # nm\n",
    "r_f = 3.5 # nm\n",
    "\n",
    "Do = k*T/(6*math.pi*mu*r_s*1e-9)*1e12 # um^2/s"
   ]
  },
  {
   "cell_type": "code",
   "execution_count": 5,
   "metadata": {},
   "outputs": [],
   "source": [
    "csv_file = '{}_Deff.csv'.format(to_track[0])\n",
    "Deff_vals = pd.read_csv(csv_file)"
   ]
  },
  {
   "cell_type": "code",
   "execution_count": 12,
   "metadata": {},
   "outputs": [],
   "source": [
    "r_bar = (r_s+r_f)*(-4/math.pi*(math.log(Deff_vals['0'][3]/Do)))**(-1/2)-r_f"
   ]
  },
  {
   "cell_type": "code",
   "execution_count": 13,
   "metadata": {},
   "outputs": [
    {
     "name": "stdout",
     "output_type": "stream",
     "text": [
      "0.296268832904\n",
      "10.711682555683618\n"
     ]
    }
   ],
   "source": [
    "print(Deff_vals['0'][3])\n",
    "print(r_bar)"
   ]
  },
  {
   "cell_type": "code",
   "execution_count": null,
   "metadata": {},
   "outputs": [],
   "source": []
  },
  {
   "cell_type": "code",
   "execution_count": null,
   "metadata": {},
   "outputs": [],
   "source": []
  }
 ],
 "metadata": {
  "kernelspec": {
   "display_name": "Python 3",
   "language": "python",
   "name": "python3"
  },
  "language_info": {
   "codemirror_mode": {
    "name": "ipython",
    "version": 3
   },
   "file_extension": ".py",
   "mimetype": "text/x-python",
   "name": "python",
   "nbconvert_exporter": "python",
   "pygments_lexer": "ipython3",
   "version": "3.6.3"
  }
 },
 "nbformat": 4,
 "nbformat_minor": 2
}
