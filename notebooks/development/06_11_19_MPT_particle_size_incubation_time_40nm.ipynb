{
 "cells": [
  {
   "cell_type": "markdown",
   "metadata": {},
   "source": [
    "# Experiment Initialization"
   ]
  },
  {
   "cell_type": "markdown",
   "metadata": {},
   "source": [
    "Here, the terms of the experiment are defined, such as the location of the files in S3 (bucket and folder name), and each of the video prefixes (everything before the file extension) that need to be tracked. \n",
    "\n",
    "Note that these videos should be similar-ish: while we can account for differences in mean intensities between videos, particle sizes should be approximately the same, and (slightly less important) particles should be moving at about the same order of magnitude speed. In this experiment, these videos were taken in 0.4% agarose gel at 100x magnification and 100.02 fps shutter speeds with nanoparticles of about 100nm in diameter."
   ]
  },
  {
   "cell_type": "code",
   "execution_count": 1,
   "metadata": {},
   "outputs": [],
   "source": [
    "to_track = [] # This is going to be the list of all filenames that will be included in the analysis\n",
    "start_knot = 25 #Must be unique number for every run on Cloudknot.\n",
    "\n",
    "remote_folder = '06_11_19_MPT_particle_size_incubation_time' # The folder in AWS S3 containing the files to be analyzed\n",
    "bucket = 'mckenna.data' # The bucket in AWS S3 where the remote_folder is contained\n",
    "vids = 5 # this is the number of vids that were taken per condition (usually corresponding to different locations)\n",
    "times = ['1', '12', '24']\n",
    "\n",
    "for num in range(1, vids+1):\n",
    "    for time in times:\n",
    "        to_track.append('40nm_'+time+'h_vid_{}'.format(num))"
   ]
  },
  {
   "cell_type": "code",
   "execution_count": 2,
   "metadata": {},
   "outputs": [
    {
     "data": {
      "text/plain": [
       "['40nm_1h_vid_1',\n",
       " '40nm_12h_vid_1',\n",
       " '40nm_24h_vid_1',\n",
       " '40nm_1h_vid_2',\n",
       " '40nm_12h_vid_2',\n",
       " '40nm_24h_vid_2',\n",
       " '40nm_1h_vid_3',\n",
       " '40nm_12h_vid_3',\n",
       " '40nm_24h_vid_3',\n",
       " '40nm_1h_vid_4',\n",
       " '40nm_12h_vid_4',\n",
       " '40nm_24h_vid_4',\n",
       " '40nm_1h_vid_5',\n",
       " '40nm_12h_vid_5',\n",
       " '40nm_24h_vid_5']"
      ]
     },
     "execution_count": 2,
     "metadata": {},
     "output_type": "execute_result"
    }
   ],
   "source": [
    "to_track"
   ]
  },
  {
   "cell_type": "markdown",
   "metadata": {},
   "source": [
    "The videos used with this analysis are fairly large (2048 x 2048 pixels and 651 frames), and in cases like this, the tracking algorithm can quickly eat up RAM. In this case, we chose to crop the videos to 512 x 512 images such that we can run our jobs on smaller EC2 instances with 16GB of RAM. \n",
    "\n",
    "Note that larger jobs can be made with user-defined functions such that splitting isn't necessary-- or perhaps an intermediate amount of memory that contains splitting, tracking, and msd calculation functions all performed on a single EC2 instance.\n",
    "\n",
    "The compiled functions in the knotlets module require access to buckets on AWS. In this case, we will be using a publicly (read-only) bucket. If users want to run this notebook on their own, will have to transfer files from nancelab.publicfiles to their own bucket, as it requires writing to S3 buckets."
   ]
  },
  {
   "cell_type": "code",
   "execution_count": 3,
   "metadata": {},
   "outputs": [],
   "source": [
    "import diff_classifier.knotlets as kn"
   ]
  },
  {
   "cell_type": "code",
   "execution_count": null,
   "metadata": {},
   "outputs": [],
   "source": [
    "# This cell uses the function kn.split() to split all of the videos contained in 'to_track' into 16 smaller videos on which the actual tracking will be performed\n",
    "for prefix in to_track:\n",
    "    kn.split(prefix, remote_folder=remote_folder, bucket=bucket)"
   ]
  },
  {
   "cell_type": "markdown",
   "metadata": {},
   "source": [
    "## Tracking predictor"
   ]
  },
  {
   "cell_type": "markdown",
   "metadata": {},
   "source": [
    "Tracking normally requires user input in the form of tracking parameters e.g. particle radius, linking max distance, max frame gap etc. When large datasets aren't required, each video can be manageably manually tracked using the TrackMate GUI. However, when datasets get large e.g. >20 videos, this can become extremely arduous. For videos that are fairly similar, you can get away with using similar tracking parameters across all videos. However, one parameter that is a little more noisy that the others is the quality filter value. Quality is a numerical value that approximate how likely a particle is to be \"real.\" \n",
    "\n",
    "In this case, I built a predictor that estimates the quality filter value based on intensity distributions from the input images. Using a relatively small training dataset (5-20 videos), users can get fairly good estimates of quality filter values that can be used in parallelized tracking workflows.\n",
    "\n",
    "Note: in the current setup, the predictor should be run in Python 3. While the code will run in Python 3, there are differences between the random number generators in Python2 and Python3 that I was not able to control for."
   ]
  },
  {
   "cell_type": "code",
   "execution_count": 4,
   "metadata": {},
   "outputs": [],
   "source": [
    "import os\n",
    "import diff_classifier.imagej as ij\n",
    "import boto3\n",
    "import os.path as op\n",
    "import diff_classifier.aws as aws\n",
    "import diff_classifier.knotlets as kn\n",
    "import numpy as np\n",
    "from sklearn.externals import joblib"
   ]
  },
  {
   "cell_type": "markdown",
   "metadata": {},
   "source": [
    "The regress_sys function should be run twice. When have_output is set to False, it generates a list of files that the user should manually track using Trackmate. Once the quality filter values are found, they can be used as input (y) to generate a regress object that can predict quality filter values for additional videos. Once y is assigned, set have_output to True and re-run the cell."
   ]
  },
  {
   "cell_type": "code",
   "execution_count": null,
   "metadata": {},
   "outputs": [],
   "source": [
    "tnum=20 #number of training datasets\n",
    "pref = []\n",
    "for num in to_track:                    \n",
    "    for row in range(0, 4):\n",
    "        for col in range(0, 4):\n",
    "            pref.append(\"{}_{}_{}\".format(num, row, col))\n",
    "\n",
    "y = np.array([2.39, 1.67, 1.55, 1.55, 1.52, 2.14, 1.93, 1.70, 1.94, 1.72, 1.52, 1.36, 3.20, 1.57, 1.97, 3.77, 1.69, 1.46, 2.21, 2.32])\n",
    "\n",
    "# Creates regression object based of training dataset composed of input images and manually\n",
    "# calculated quality cutoffs from tracking with GUI interface.\n",
    "regress = ij.regress_sys(remote_folder, pref, y, tnum, randselect=True,\n",
    "                         have_output=True, bucket_name=bucket)\n",
    "#Read up on how regress_sys works before running."
   ]
  },
  {
   "cell_type": "code",
   "execution_count": null,
   "metadata": {},
   "outputs": [],
   "source": [
    "#Pickle object\n",
    "filename = 'regress.obj'\n",
    "with open(filename,'wb') as fp:\n",
    "    joblib.dump(regress,fp)\n",
    "\n",
    "import boto3\n",
    "s3 = boto3.client('s3')\n",
    "aws.upload_s3(filename, remote_folder+'/'+filename, bucket_name=bucket)"
   ]
  },
  {
   "cell_type": "markdown",
   "metadata": {},
   "source": [
    "Users should input all tracking parameters into the tparams object. Note that the quality value will be overwritten by values found using the quality predictor found above. Never change threshold, median intensity, or snr"
   ]
  },
  {
   "cell_type": "code",
   "execution_count": null,
   "metadata": {},
   "outputs": [],
   "source": [
    "tparams1 = {'radius': 6.0, 'threshold': 0.0, 'do_median_filtering': False,\n",
    "           'quality': 10.0, 'xdims': (0, 511), 'ydims': (1, 511),\n",
    "           'median_intensity': 300.0, 'snr': 0.0, 'linking_max_distance': 15.0,\n",
    "           'gap_closing_max_distance': 17.0, 'max_frame_gap': 8,\n",
    "           'track_duration': 8.00}"
   ]
  },
  {
   "cell_type": "markdown",
   "metadata": {},
   "source": [
    "## Cloudknot setup"
   ]
  },
  {
   "cell_type": "markdown",
   "metadata": {},
   "source": [
    "Cloudknot requires the user to define a function that will be sent to multiple computers to run. In this case, the function knotlets.tracking will be used. We create a docker image that has the required installations (defined by the requirements.txt file from diff_classifier on Github, and the base Docker Image below that has Fiji pre-installed in the correct location.\n",
    "\n",
    "Note that I modify the Docker image below such that the correct version of boto3 is installed. For some reason, versions later than 1.5.28 error out, so I specified 5.28 as the correct version. Run my_image.build below to double-check that the Docker image is successfully built prior to submitting the job to Cloudknot."
   ]
  },
  {
   "cell_type": "markdown",
   "metadata": {},
   "source": [
    "** Before you run this next cell, you have to switch the kernel from Python 3 to Python 2, by doing the following: **\n",
    " 1. Kernel -> Restart and clear output\n",
    " 2. Kernel -> Change Kernel -> Python 2\n",
    " 3. Rerun cells required to run below cell\n",
    " \n",
    " ** One other important thing to note: \n",
    " - If you are performing the tracking, be sure that the my_image =  line is set to ck.DockerImage(func=kn.tracking,...\n",
    " - If you are performing the MSD/feature calculation (after you've carried out the tracking), be sure that the my_image = line is se to ck.DockerImage(func=kn.assemble_msds, ...\n",
    "     \n",
    "     ** following the tracking, before you run assemble_msds, you need to run the cell below that redefines all_maps as all_maps2. all_maps2 doesn't include the tparams1 input, and allows the kn.assemble_msds section to run properly. It won't work with the tparams input. **\n",
    "     \n",
    " Other than that, everything else should stay the same"
   ]
  },
  {
   "cell_type": "code",
   "execution_count": null,
   "metadata": {},
   "outputs": [],
   "source": [
    "import cloudknot as ck\n",
    "import os.path as op\n",
    "\n",
    "github_installs=('https://github.com/ccurtis7/diff_classifier.git')\n",
    "#my_image = ck.DockerImage(func=kn.tracking, base_image='arokem/python3-fiji:0.3', github_installs=github_installs)\n",
    "my_image = ck.DockerImage(func=kn.assemble_msds, base_image='arokem/python3-fiji:0.3', github_installs=github_installs)\n",
    "docker_file = open(my_image.docker_path)\n",
    "docker_string = docker_file.read()\n",
    "docker_file.close()\n",
    "\n",
    "req = open(op.join(op.split(my_image.docker_path)[0], 'requirements.txt'))\n",
    "req_string = req.read()\n",
    "req.close()\n",
    "\n",
    "new_req = req_string[0:req_string.find('\\n')-5]+'5.28'+ req_string[req_string.find('\\n'):]\n",
    "req_overwrite = open(op.join(op.split(my_image.docker_path)[0], 'requirements.txt'), 'w')\n",
    "req_overwrite.write(new_req)\n",
    "req_overwrite.close()"
   ]
  },
  {
   "cell_type": "markdown",
   "metadata": {},
   "source": [
    "Following the execution of this cell, you have to check that the requirements.txt file has the first line 'boto3==1.5.28'.\n",
    "    - This file can be found in source -> diff-classifier -> notebooks -> development -> most recent file\n",
    "\n",
    "If it doesn't, you may have to change the line in the cell above that says 'new_req = reg_string[0:req_string.find('\\n')-4]+'5.28'+ reg_string[reg_string.find('\\n'):]'"
   ]
  },
  {
   "cell_type": "code",
   "execution_count": null,
   "metadata": {},
   "outputs": [],
   "source": [
    "my_image.build(\"ChABC_slice_2\", image_name=\"test_image\")"
   ]
  },
  {
   "cell_type": "code",
   "execution_count": null,
   "metadata": {},
   "outputs": [],
   "source": [
    "to_track"
   ]
  },
  {
   "cell_type": "markdown",
   "metadata": {},
   "source": [
    "The object all_maps is an iterable containing all the inputs sent to Cloudknot. This is useful, because if the user needs to modify some of the tracking parameters for a single video, this can be done prior to submission to Cloudknot."
   ]
  },
  {
   "cell_type": "code",
   "execution_count": null,
   "metadata": {},
   "outputs": [],
   "source": [
    "names = []\n",
    "all_maps = []\n",
    "for prefix in to_track:    \n",
    "    for i in range(0, 4):\n",
    "        for j in range(0, 4):\n",
    "            names.append('{}_{}_{}'.format(prefix, i, j))\n",
    "            all_maps.append(('{}_{}_{}'.format(prefix, i, j), remote_folder, bucket, 'regress.obj', 4, 4, (512, 512), tparams1))"
   ]
  },
  {
   "cell_type": "code",
   "execution_count": null,
   "metadata": {},
   "outputs": [],
   "source": [
    "start_knot = 77"
   ]
  },
  {
   "cell_type": "markdown",
   "metadata": {},
   "source": [
    "The Cloudknot knot object sets up the compute environment which will run the code. Note that the name must be unique. Every time you submit a new knot, you should change the name. I do this with the variable start_knot, which I vary for each run.\n",
    "\n",
    "If larger jobs are anticipated, users can adjust both RAM and storage with the memory and image_id variables. Memory specifies the amount of RAM to be used. Users can build a customized AMI with as much space as they need, and enter the ID into image_ID. Read the Cloudknot documentation for more details."
   ]
  },
  {
   "cell_type": "code",
   "execution_count": null,
   "metadata": {},
   "outputs": [],
   "source": [
    "knot = ck.Knot(name='{}_b{}'.format('mike', start_knot),\n",
    "               docker_image = my_image,\n",
    "               memory = 16000,\n",
    "               resource_type = \"SPOT\",\n",
    "               bid_percentage = 100,\n",
    "               #image_id = 'ami-0e00afdf500081a0d', #May need to change this line\n",
    "               pars_policies=('AmazonS3FullAccess',))\n",
    "\n",
    "result_futures = knot.map(all_maps2, starmap=True)"
   ]
  },
  {
   "cell_type": "code",
   "execution_count": null,
   "metadata": {},
   "outputs": [],
   "source": [
    "knot.clobber()"
   ]
  },
  {
   "cell_type": "markdown",
   "metadata": {},
   "source": [
    "You can track the progression of your run using the AWS Batch service online -- make sure you are looking at the right US Region.\n",
    "\n",
    "After the run, you might have some that fail. This usually happens when the computers get claimed by someone paying more money, and your job gets booted from the aws computers. Because of this, you will need to start a knw cloudknot knot and rerun those vids. The set up for that is shown below.\n",
    "\n",
    "Remember to clobber your knot!"
   ]
  },
  {
   "cell_type": "code",
   "execution_count": null,
   "metadata": {},
   "outputs": [],
   "source": [
    "ck.get_region()"
   ]
  },
  {
   "cell_type": "markdown",
   "metadata": {},
   "source": [
    "This creates a new all_maps2 array for any of the videos that failed to get analyzed the first time through. Double check that it worked well by printing the length of it immediately afterwards."
   ]
  },
  {
   "cell_type": "code",
   "execution_count": null,
   "metadata": {},
   "outputs": [],
   "source": [
    "missing = []\n",
    "all_maps2 = []\n",
    "import boto3\n",
    "import botocore\n",
    "\n",
    "s3 = boto3.resource('s3')\n",
    "\n",
    "\n",
    "for name in names:\n",
    "    try:\n",
    "        s3.Object(bucket, '{}/Traj_{}.csv'.format(remote_folder, name)).load()\n",
    "    except botocore.exceptions.ClientError as e:\n",
    "        if e.response['Error']['Code'] == \"404\":\n",
    "            missing.append(name)\n",
    "            all_maps2.append((name, remote_folder, bucket, 'regress.obj',\n",
    "                             4, 4, (512, 512), tparams1))\n",
    "        else:\n",
    "            print('Something else has gone wrong')"
   ]
  },
  {
   "cell_type": "code",
   "execution_count": null,
   "metadata": {},
   "outputs": [],
   "source": [
    "print(len(all_maps2))"
   ]
  },
  {
   "cell_type": "markdown",
   "metadata": {},
   "source": [
    "Make sure you change the name of your knot, either by changing the 'mike1' part or start_knot value."
   ]
  },
  {
   "cell_type": "code",
   "execution_count": null,
   "metadata": {},
   "outputs": [],
   "source": [
    "all_maps2 = []\n",
    "for prefix in to_track:\n",
    "    all_maps2.append((prefix, remote_folder, bucket, (512, 512), 651, 4, 4))"
   ]
  },
  {
   "cell_type": "markdown",
   "metadata": {},
   "source": [
    "Users can monitor the progress of their job in the Batch interface. Once the code is complete, users should clobber their knot to make sure that all AWS resources are removed."
   ]
  },
  {
   "cell_type": "code",
   "execution_count": null,
   "metadata": {},
   "outputs": [],
   "source": [
    "to_track"
   ]
  },
  {
   "cell_type": "markdown",
   "metadata": {},
   "source": [
    "## Downstream analysis and visualization"
   ]
  },
  {
   "cell_type": "markdown",
   "metadata": {},
   "source": [
    "The knotlet.assemble_msds function (which can also potentially be submitted to Cloudknot as well for large jobs) calculates the mean squared displacements and trajectory features from the raw trajectory csv files found from the Cloudknot submission. It accesses them from the S3 bucket to which they were saved."
   ]
  },
  {
   "cell_type": "code",
   "execution_count": null,
   "metadata": {},
   "outputs": [],
   "source": [
    "for prefix in to_track:\n",
    "    kn.assemble_msds(prefix, remote_folder, bucket='mckenna.data')\n",
    "    print('Successfully output msds for {}'.format(prefix))"
   ]
  },
  {
   "cell_type": "code",
   "execution_count": null,
   "metadata": {},
   "outputs": [],
   "source": [
    "for prefix in to_track[5:7]:\n",
    "    kn.assemble_msds(prefix, remote_folder, bucket='ccurtis.data')\n",
    "    print('Successfully output msds for {}'.format(prefix))"
   ]
  },
  {
   "cell_type": "markdown",
   "metadata": {},
   "source": [
    "Diff_classifier includes some useful imaging tools as well, including checking trajectories, plotting heatmaps of trajectory features, distributions of diffusion coefficients, and MSD plots."
   ]
  },
  {
   "cell_type": "code",
   "execution_count": 5,
   "metadata": {},
   "outputs": [],
   "source": [
    "import diff_classifier.heatmaps as hm\n",
    "import diff_classifier.aws as aws"
   ]
  },
  {
   "cell_type": "code",
   "execution_count": 6,
   "metadata": {},
   "outputs": [
    {
     "data": {
      "text/plain": [
       "['40nm_1h_vid_1',\n",
       " '40nm_12h_vid_1',\n",
       " '40nm_24h_vid_1',\n",
       " '40nm_1h_vid_2',\n",
       " '40nm_12h_vid_2',\n",
       " '40nm_24h_vid_2',\n",
       " '40nm_1h_vid_3',\n",
       " '40nm_12h_vid_3',\n",
       " '40nm_24h_vid_3',\n",
       " '40nm_1h_vid_4',\n",
       " '40nm_12h_vid_4',\n",
       " '40nm_24h_vid_4',\n",
       " '40nm_1h_vid_5',\n",
       " '40nm_12h_vid_5',\n",
       " '40nm_24h_vid_5']"
      ]
     },
     "execution_count": 6,
     "metadata": {},
     "output_type": "execute_result"
    }
   ],
   "source": [
    "to_track"
   ]
  },
  {
   "cell_type": "code",
   "execution_count": null,
   "metadata": {},
   "outputs": [],
   "source": [
    "for vids in to_track:\n",
    "    prefix = vids\n",
    "    msds = 'msd_{}.csv'.format(prefix)\n",
    "    feat = 'features_{}.csv'.format(prefix)\n",
    "    aws.download_s3('{}/{}'.format(remote_folder, msds), msds, bucket_name=bucket)\n",
    "    aws.download_s3('{}/{}'.format(remote_folder, feat), feat, bucket_name=bucket)\n",
    "    hm.plot_trajectories(prefix, remote_folder=remote_folder, upload=True, figsize=(8, 8), bucket = bucket)\n",
    "    print('Successfully uploaded trajectory plot for {}'.format(prefix))\n",
    "    geomean, geoSEM = hm.plot_individual_msds(prefix, x_range=4, y_range=0.5, umppx=0.07, fps=50, upload=True, remote_folder=remote_folder, bucket = bucket)\n",
    "    aws.upload_s3('./geomean_{}.csv'.format(prefix), remote_folder+'/geomean_{}.csv'.format(prefix), bucket_name = bucket)\n",
    "    aws.upload_s3('./geoSEM_{}.csv'.format(prefix), remote_folder+'/geoSEM_{}.csv'.format(prefix), bucket_name = bucket)\n",
    "    aws.upload_s3('./msds_{}.png'.format(prefix), remote_folder+'/msds_{}.png'.format(prefix), bucket_name = bucket)\n",
    "    print('Successfully uploaded csv files for {}'.format(prefix))\n",
    "    \n",
    "    "
   ]
  },
  {
   "cell_type": "code",
   "execution_count": null,
   "metadata": {},
   "outputs": [],
   "source": []
  },
  {
   "cell_type": "code",
   "execution_count": null,
   "metadata": {},
   "outputs": [],
   "source": [
    "geomean, geoSEM = hm.plot_individual_msds(prefix, x_range=4, y_range=0.5, umppx=0.07, fps=100, upload=True, remote_folder=remote_folder, bucket = bucket)\n",
    "aws.upload_s3('./geomean_{}.csv'.format(prefix), remote_folder+'/geomean_{}.csv'.format(prefix), bucket_name = bucket)\n",
    "aws.upload_s3('./geoSEM_{}.csv'.format(prefix), remote_folder+'/geoSEM_{}.csv'.format(prefix), bucket_name = bucket)\n",
    "aws.upload_s3('./msds_{}.png'.format(prefix), remote_folder+'/msds_{}.png'.format(prefix), bucket_name = bucket)"
   ]
  },
  {
   "cell_type": "code",
   "execution_count": null,
   "metadata": {},
   "outputs": [],
   "source": [
    "hm.plot_heatmap(prefix, upload=False)"
   ]
  },
  {
   "cell_type": "code",
   "execution_count": null,
   "metadata": {},
   "outputs": [],
   "source": [
    "hm.plot_particles_in_frame(prefix, y_range=500, upload=False)"
   ]
  },
  {
   "cell_type": "code",
   "execution_count": null,
   "metadata": {},
   "outputs": [],
   "source": [
    "prefix = to_track[0]\n",
    "\n",
    "msds = 'msd_{}.csv'.format(prefix)\n",
    "feat = 'features_{}.csv'.format(prefix)\n",
    "aws.download_s3('{}/{}'.format(remote_folder, msds), msds, bucket_name=bucket)\n",
    "aws.download_s3('{}/{}'.format(remote_folder, feat), feat, bucket_name=bucket)"
   ]
  },
  {
   "cell_type": "code",
   "execution_count": null,
   "metadata": {},
   "outputs": [],
   "source": [
    "hm.plot_trajectories(prefix, remote_folder=remote_folder, upload=True, figsize=(8, 8), bucket = bucket)"
   ]
  },
  {
   "cell_type": "code",
   "execution_count": null,
   "metadata": {},
   "outputs": [],
   "source": [
    "geomean, geoSEM = hm.plot_individual_msds(prefix, x_range=4, y_range=0.5, umppx=0.07, fps=100, upload=True, remote_folder=remote_folder, bucket = bucket)\n",
    "aws.upload_s3('./geomean_{}.csv'.format(prefix), remote_folder+'/geomean_{}.csv'.format(prefix), bucket_name = bucket)\n",
    "aws.upload_s3('./geoSEM_{}.csv'.format(prefix), remote_folder+'/geoSEM_{}.csv'.format(prefix), bucket_name = bucket)\n",
    "aws.upload_s3('./msds_{}.png'.format(prefix), remote_folder+'/msds_{}.png'.format(prefix), bucket_name = bucket)"
   ]
  },
  {
   "cell_type": "markdown",
   "metadata": {},
   "source": [
    "## Converting msd files"
   ]
  },
  {
   "cell_type": "code",
   "execution_count": 5,
   "metadata": {},
   "outputs": [],
   "source": [
    "import pandas as pd\n",
    "import diff_classifier.aws as aws\n",
    "import math"
   ]
  },
  {
   "cell_type": "code",
   "execution_count": 6,
   "metadata": {},
   "outputs": [],
   "source": [
    "to_track = [] # This is going to be the list of all filenames that will be included in the analysis\n",
    "start_knot = 25 #Must be unique number for every run on Cloudknot.\n",
    "\n",
    "remote_folder = '06_11_19_MPT_particle_size_incubation_time' # The folder in AWS S3 containing the files to be analyzed\n",
    "bucket = 'mckenna.data' # The bucket in AWS S3 where the remote_folder is contained\n",
    "vids = 5 # this is the number of vids that were taken per condition (usually corresponding to different locations)\n",
    "times = ['1', '12', '24']\n",
    "\n",
    "for num in range(1, vids+1):\n",
    "    for time in times:\n",
    "        to_track.append('40nm_'+time+'h_vid_{}'.format(num))"
   ]
  },
  {
   "cell_type": "code",
   "execution_count": 7,
   "metadata": {},
   "outputs": [
    {
     "data": {
      "text/plain": [
       "['40nm_1h_vid_1',\n",
       " '40nm_12h_vid_1',\n",
       " '40nm_24h_vid_1',\n",
       " '40nm_1h_vid_2',\n",
       " '40nm_12h_vid_2',\n",
       " '40nm_24h_vid_2',\n",
       " '40nm_1h_vid_3',\n",
       " '40nm_12h_vid_3',\n",
       " '40nm_24h_vid_3',\n",
       " '40nm_1h_vid_4',\n",
       " '40nm_12h_vid_4',\n",
       " '40nm_24h_vid_4',\n",
       " '40nm_1h_vid_5',\n",
       " '40nm_12h_vid_5',\n",
       " '40nm_24h_vid_5']"
      ]
     },
     "execution_count": 7,
     "metadata": {},
     "output_type": "execute_result"
    }
   ],
   "source": [
    "to_track"
   ]
  },
  {
   "cell_type": "code",
   "execution_count": null,
   "metadata": {},
   "outputs": [],
   "source": [
    "import pandas as pd\n",
    "import diff_classifier.aws as aws\n",
    "import math\n",
    "\n",
    "for prefix in to_track:\n",
    "    filename = 'geomean_{}.csv'.format(prefix)\n",
    "    aws.download_s3(remote_folder+'/'+filename, filename, bucket_name=bucket)\n",
    "    local_name = filename\n",
    "    merged = pd.read_csv(local_name)\n",
    "    merged.columns = ['log']\n",
    "    merged['exp'] = 0\n",
    "    for rows in range(0,len(merged)):\n",
    "        log_value = merged['log'].iloc[rows]\n",
    "        exp_value = math.exp(log_value)\n",
    "        merged.loc[rows,'exp'] = exp_value\n",
    "    merged.to_csv('adj_'+filename, mode='w', index = False)\n",
    "    aws.upload_s3('./adj_'+filename, remote_folder+'/adj_'+filename, bucket_name = bucket)"
   ]
  },
  {
   "cell_type": "code",
   "execution_count": null,
   "metadata": {},
   "outputs": [],
   "source": [
    "pref = 'adj_geomean_40nm_'\n",
    "\n",
    "time_points = ['1', '12', '24']\n",
    "num_vids = 5\n",
    "\n",
    "for time in time_points:\n",
    "    avg_df = pd.DataFrame()\n",
    "    for vid in range(1, num_vids+1):\n",
    "        exp = pd.read_csv(pref+'{}h_vid_{}.csv'.format(time, str(vid)))\n",
    "        avg_df = pd.concat([avg_df, exp['exp']], axis=1)\n",
    "    avg_df = avg_df.mean(axis = 1)\n",
    "    avg_df.to_csv('avg_'+pref+'{}h.csv'.format(time), mode='w', index = False)\n",
    "    aws.upload_s3('./avg_'+pref+'{}h.csv'.format(time), remote_folder+'/avg_'+pref+'{}h.csv'.format(time), bucket_name=bucket)\n",
    "    "
   ]
  },
  {
   "cell_type": "code",
   "execution_count": null,
   "metadata": {},
   "outputs": [],
   "source": []
  },
  {
   "cell_type": "code",
   "execution_count": 25,
   "metadata": {},
   "outputs": [
    {
     "data": {
      "text/plain": [
       "['40nm_1h_vid_1',\n",
       " '40nm_12h_vid_1',\n",
       " '40nm_24h_vid_1',\n",
       " '40nm_1h_vid_2',\n",
       " '40nm_12h_vid_2',\n",
       " '40nm_24h_vid_2',\n",
       " '40nm_1h_vid_3',\n",
       " '40nm_12h_vid_3',\n",
       " '40nm_24h_vid_3',\n",
       " '40nm_1h_vid_4',\n",
       " '40nm_12h_vid_4',\n",
       " '40nm_24h_vid_4',\n",
       " '40nm_1h_vid_5',\n",
       " '40nm_12h_vid_5',\n",
       " '40nm_24h_vid_5']"
      ]
     },
     "execution_count": 25,
     "metadata": {},
     "output_type": "execute_result"
    }
   ],
   "source": [
    "to_track"
   ]
  },
  {
   "cell_type": "code",
   "execution_count": 8,
   "metadata": {},
   "outputs": [],
   "source": [
    "combo = pd.DataFrame()\n",
    "\n",
    "for prefix in to_track:\n",
    "    feat = 'features_{}.csv'.format(prefix)\n",
    "    aws.download_s3(remote_folder+'/'+feat, feat, bucket_name=bucket)\n",
    "    merged = pd.read_csv(feat)\n",
    "    combo = pd.concat([combo, merged['Deff1']], axis=0)"
   ]
  },
  {
   "cell_type": "code",
   "execution_count": 20,
   "metadata": {},
   "outputs": [
    {
     "name": "stdout",
     "output_type": "stream",
     "text": [
      "-7.34503766809246\n"
     ]
    },
    {
     "data": {
      "image/png": "[encoded data removed]",
      "text/plain": [
       "<Figure size 432x288 with 1 Axes>"
      ]
     },
     "metadata": {},
     "output_type": "display_data"
    }
   ],
   "source": [
    "import matplotlib.pyplot as plt\n",
    "import numpy as np\n",
    "import numpy.ma as ma\n",
    "\n",
    "replace_nan = combo.replace(0, np.nan)\n",
    "log_Deff = np.log(replace_nan[0].dropna())\n",
    "test_bins = np.linspace(-5, 5, 76)\n",
    "\n",
    "print(min(log_Deff))\n",
    "histogram, test_bins = np.histogram(log_Deff, bins=test_bins)\n",
    "avg = np.mean(log_Deff)\n",
    "\n",
    "plt.rc('axes', linewidth=2)\n",
    "plot = histogram\n",
    "bins = test_bins\n",
    "width = 0.7 * (bins[1] - bins[0])\n",
    "center = (bins[:-1] + bins[1:])/2\n",
    "bar = plt.bar(center, plot, align='center', width=width)\n",
    "plt.axvline(avg)\n",
    "plt.xlabel('log Deff', fontsize=20)\n",
    "plt.ylabel('Trajectory Count', fontsize=20)\n",
    "plt.tick_params(axis='both', which='major', labelsize=10)"
   ]
  },
  {
   "cell_type": "code",
   "execution_count": 34,
   "metadata": {},
   "outputs": [
    {
     "data": {
      "text/plain": [
       "0     -0.102085\n",
       "1     -1.724942\n",
       "2     -1.060901\n",
       "3      0.411462\n",
       "4     -0.289031\n",
       "5      0.612743\n",
       "6      0.694384\n",
       "7      2.812448\n",
       "8     -2.142430\n",
       "9      0.875530\n",
       "10     0.778918\n",
       "13     1.999114\n",
       "14     2.526744\n",
       "15     1.392354\n",
       "17     1.503256\n",
       "18     0.543004\n",
       "19     1.230997\n",
       "20     1.522683\n",
       "21     2.206290\n",
       "22     3.242424\n",
       "23     1.402252\n",
       "24    -0.623051\n",
       "25     1.308327\n",
       "26     2.004697\n",
       "27     2.123449\n",
       "28     1.619382\n",
       "29     3.063285\n",
       "30     2.456219\n",
       "31     1.730261\n",
       "32     2.375392\n",
       "         ...   \n",
       "633    2.873554\n",
       "635    3.373928\n",
       "636    2.918808\n",
       "637    1.939241\n",
       "638    2.139340\n",
       "640    3.038015\n",
       "641   -0.134256\n",
       "643    1.190597\n",
       "645    2.974077\n",
       "646    3.018049\n",
       "647    3.406479\n",
       "648    2.766297\n",
       "650    2.586655\n",
       "651    1.204020\n",
       "652    3.515725\n",
       "654    3.138404\n",
       "655    1.849810\n",
       "656    2.420634\n",
       "657    1.740290\n",
       "658    2.334619\n",
       "660    2.035405\n",
       "661    1.154454\n",
       "662    2.771935\n",
       "663    2.211970\n",
       "664    1.493438\n",
       "665    2.395925\n",
       "666    1.921848\n",
       "667    2.080141\n",
       "668    1.739146\n",
       "670    2.703548\n",
       "Name: 0, Length: 6547, dtype: float64"
      ]
     },
     "execution_count": 34,
     "metadata": {},
     "output_type": "execute_result"
    }
   ],
   "source": [
    "Deff"
   ]
  }
 ],
 "metadata": {
  "kernelspec": {
   "display_name": "Python 3",
   "language": "python",
   "name": "python3"
  },
  "language_info": {
   "codemirror_mode": {
    "name": "ipython",
    "version": 3
   },
   "file_extension": ".py",
   "mimetype": "text/x-python",
   "name": "python",
   "nbconvert_exporter": "python",
   "pygments_lexer": "ipython3",
   "version": "3.6.3"
  }
 },
 "nbformat": 4,
 "nbformat_minor": 2
}
