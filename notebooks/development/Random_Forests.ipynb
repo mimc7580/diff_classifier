{
 "cells": [
  {
   "cell_type": "code",
   "execution_count": 4,
   "metadata": {},
   "outputs": [],
   "source": [
    "import pandas as pd\n",
    "from sklearn.datasets import load_digits\n",
    "import pandas as pd\n",
    "import diff_classifier.aws as aws\n",
    "import math\n",
    "import os\n",
    "import os.path as op\n",
    "from os import listdir\n",
    "import numpy as np\n",
    "import matplotlib.pyplot as plt"
   ]
  },
  {
   "cell_type": "code",
   "execution_count": 5,
   "metadata": {},
   "outputs": [],
   "source": [
    "to_track = [] # This is going to be the list of all filenames that will be included in the analysis\n",
    "\n",
    "remote_folder = '08_06_19_MPT_age_dependence' # The folder in AWS S3 containing the files to be analyzed\n",
    "bucket = 'mckenna.data' # The bucket in AWS S3 where the remote_folder is contained\n",
    "NP_sizes = ['40','100']\n",
    "vids = 5 # this is the number of vids that were taken per condition (usually corresponding to different locations)\n",
    "ages = ['P14', 'P21', 'P28']\n",
    "slices = 3\n",
    "for size in NP_sizes:\n",
    "    for age in ages:\n",
    "        for slic in range(1, slices+1):\n",
    "            for num in range(1, vids+1):\n",
    "                to_track.append('{}_{}nm_s{}_v{}'.format(age, size, slic, num))"
   ]
  },
  {
   "cell_type": "code",
   "execution_count": null,
   "metadata": {},
   "outputs": [],
   "source": [
    "P14_track_40 = to_track[0:15]\n",
    "P28_track_40 = to_track[30:45]\n",
    "\n",
    "for prefix in P14_track_40:\n",
    "    feat = 'features_{}.csv'.format(prefix)\n",
    "    aws.download_s3(remote_folder+'/'+feat, feat, bucket_name=bucket)\n",
    "    \n",
    "for prefix in P28_track_40:\n",
    "    feat = 'features_{}.csv'.format(prefix)\n",
    "    aws.download_s3(remote_folder+'/'+feat, feat, bucket_name=bucket)"
   ]
  },
  {
   "cell_type": "code",
   "execution_count": 6,
   "metadata": {},
   "outputs": [],
   "source": [
    "P14_raw = pd.read_csv('features_'+to_track[0]+'.csv', index_col=[0])\n",
    "P28_raw = pd.read_csv('features_'+to_track[31]+'.csv', index_col=[0])"
   ]
  },
  {
   "cell_type": "code",
   "execution_count": 7,
   "metadata": {},
   "outputs": [
    {
     "data": {
      "text/html": [
       "<div>\n",
       "<style scoped>\n",
       "    .dataframe tbody tr th:only-of-type {\n",
       "        vertical-align: middle;\n",
       "    }\n",
       "\n",
       "    .dataframe tbody tr th {\n",
       "        vertical-align: top;\n",
       "    }\n",
       "\n",
       "    .dataframe thead th {\n",
       "        text-align: right;\n",
       "    }\n",
       "</style>\n",
       "<table border=\"1\" class=\"dataframe\">\n",
       "  <thead>\n",
       "    <tr style=\"text-align: right;\">\n",
       "      <th></th>\n",
       "      <th>Track_ID</th>\n",
       "      <th>alpha</th>\n",
       "      <th>D_fit</th>\n",
       "      <th>kurtosis</th>\n",
       "      <th>asymmetry1</th>\n",
       "      <th>asymmetry2</th>\n",
       "      <th>asymmetry3</th>\n",
       "      <th>AR</th>\n",
       "      <th>elongation</th>\n",
       "      <th>boundedness</th>\n",
       "      <th>...</th>\n",
       "      <th>straightness</th>\n",
       "      <th>MSD_ratio</th>\n",
       "      <th>frames</th>\n",
       "      <th>X</th>\n",
       "      <th>Y</th>\n",
       "      <th>Quality</th>\n",
       "      <th>Mean_Intensity</th>\n",
       "      <th>SN_Ratio</th>\n",
       "      <th>Deff1</th>\n",
       "      <th>Deff2</th>\n",
       "    </tr>\n",
       "  </thead>\n",
       "  <tbody>\n",
       "    <tr>\n",
       "      <th>0</th>\n",
       "      <td>0.0</td>\n",
       "      <td>0.921954</td>\n",
       "      <td>45.886858</td>\n",
       "      <td>1.714759</td>\n",
       "      <td>0.973909</td>\n",
       "      <td>0.081298</td>\n",
       "      <td>0.447749</td>\n",
       "      <td>2.283096</td>\n",
       "      <td>0.561998</td>\n",
       "      <td>0.097968</td>\n",
       "      <td>...</td>\n",
       "      <td>0.476412</td>\n",
       "      <td>-0.058486</td>\n",
       "      <td>12.0</td>\n",
       "      <td>455.976262</td>\n",
       "      <td>1687.771694</td>\n",
       "      <td>11.357433</td>\n",
       "      <td>305.505168</td>\n",
       "      <td>1.220481</td>\n",
       "      <td>35.522257</td>\n",
       "      <td>NaN</td>\n",
       "    </tr>\n",
       "    <tr>\n",
       "      <th>1</th>\n",
       "      <td>1.0</td>\n",
       "      <td>0.779414</td>\n",
       "      <td>7.596419</td>\n",
       "      <td>1.912553</td>\n",
       "      <td>0.530918</td>\n",
       "      <td>0.396204</td>\n",
       "      <td>0.098174</td>\n",
       "      <td>1.828815</td>\n",
       "      <td>0.453198</td>\n",
       "      <td>0.040816</td>\n",
       "      <td>...</td>\n",
       "      <td>0.294938</td>\n",
       "      <td>0.008042</td>\n",
       "      <td>30.0</td>\n",
       "      <td>465.640805</td>\n",
       "      <td>1718.438130</td>\n",
       "      <td>8.770632</td>\n",
       "      <td>286.695607</td>\n",
       "      <td>1.065424</td>\n",
       "      <td>4.901554</td>\n",
       "      <td>NaN</td>\n",
       "    </tr>\n",
       "    <tr>\n",
       "      <th>2</th>\n",
       "      <td>2.0</td>\n",
       "      <td>0.381322</td>\n",
       "      <td>0.080634</td>\n",
       "      <td>2.028627</td>\n",
       "      <td>0.903975</td>\n",
       "      <td>0.158849</td>\n",
       "      <td>0.305750</td>\n",
       "      <td>2.304599</td>\n",
       "      <td>0.566085</td>\n",
       "      <td>0.128652</td>\n",
       "      <td>...</td>\n",
       "      <td>0.196348</td>\n",
       "      <td>0.493983</td>\n",
       "      <td>12.0</td>\n",
       "      <td>242.500425</td>\n",
       "      <td>1593.579360</td>\n",
       "      <td>4.219553</td>\n",
       "      <td>253.840762</td>\n",
       "      <td>0.941056</td>\n",
       "      <td>0.011517</td>\n",
       "      <td>NaN</td>\n",
       "    </tr>\n",
       "    <tr>\n",
       "      <th>3</th>\n",
       "      <td>3.0</td>\n",
       "      <td>0.911175</td>\n",
       "      <td>7.604582</td>\n",
       "      <td>1.996676</td>\n",
       "      <td>0.768937</td>\n",
       "      <td>0.256110</td>\n",
       "      <td>0.192809</td>\n",
       "      <td>1.289481</td>\n",
       "      <td>0.224494</td>\n",
       "      <td>0.100996</td>\n",
       "      <td>...</td>\n",
       "      <td>0.244591</td>\n",
       "      <td>0.115772</td>\n",
       "      <td>21.0</td>\n",
       "      <td>470.434854</td>\n",
       "      <td>1729.417139</td>\n",
       "      <td>12.405819</td>\n",
       "      <td>306.569767</td>\n",
       "      <td>1.246436</td>\n",
       "      <td>5.958941</td>\n",
       "      <td>NaN</td>\n",
       "    </tr>\n",
       "    <tr>\n",
       "      <th>4</th>\n",
       "      <td>4.0</td>\n",
       "      <td>0.903505</td>\n",
       "      <td>59.329017</td>\n",
       "      <td>1.321606</td>\n",
       "      <td>0.982666</td>\n",
       "      <td>0.066117</td>\n",
       "      <td>0.483955</td>\n",
       "      <td>2.978820</td>\n",
       "      <td>0.664297</td>\n",
       "      <td>0.074637</td>\n",
       "      <td>...</td>\n",
       "      <td>0.384555</td>\n",
       "      <td>-0.049639</td>\n",
       "      <td>13.0</td>\n",
       "      <td>419.845043</td>\n",
       "      <td>1694.879508</td>\n",
       "      <td>11.628195</td>\n",
       "      <td>306.626118</td>\n",
       "      <td>1.449758</td>\n",
       "      <td>53.938395</td>\n",
       "      <td>NaN</td>\n",
       "    </tr>\n",
       "  </tbody>\n",
       "</table>\n",
       "<p>5 rows × 23 columns</p>\n",
       "</div>"
      ],
      "text/plain": [
       "   Track_ID     alpha      D_fit  kurtosis  asymmetry1  asymmetry2  \\\n",
       "0       0.0  0.921954  45.886858  1.714759    0.973909    0.081298   \n",
       "1       1.0  0.779414   7.596419  1.912553    0.530918    0.396204   \n",
       "2       2.0  0.381322   0.080634  2.028627    0.903975    0.158849   \n",
       "3       3.0  0.911175   7.604582  1.996676    0.768937    0.256110   \n",
       "4       4.0  0.903505  59.329017  1.321606    0.982666    0.066117   \n",
       "\n",
       "   asymmetry3        AR  elongation  boundedness  ...    straightness  \\\n",
       "0    0.447749  2.283096    0.561998     0.097968  ...        0.476412   \n",
       "1    0.098174  1.828815    0.453198     0.040816  ...        0.294938   \n",
       "2    0.305750  2.304599    0.566085     0.128652  ...        0.196348   \n",
       "3    0.192809  1.289481    0.224494     0.100996  ...        0.244591   \n",
       "4    0.483955  2.978820    0.664297     0.074637  ...        0.384555   \n",
       "\n",
       "   MSD_ratio  frames           X            Y    Quality  Mean_Intensity  \\\n",
       "0  -0.058486    12.0  455.976262  1687.771694  11.357433      305.505168   \n",
       "1   0.008042    30.0  465.640805  1718.438130   8.770632      286.695607   \n",
       "2   0.493983    12.0  242.500425  1593.579360   4.219553      253.840762   \n",
       "3   0.115772    21.0  470.434854  1729.417139  12.405819      306.569767   \n",
       "4  -0.049639    13.0  419.845043  1694.879508  11.628195      306.626118   \n",
       "\n",
       "   SN_Ratio      Deff1  Deff2  \n",
       "0  1.220481  35.522257    NaN  \n",
       "1  1.065424   4.901554    NaN  \n",
       "2  0.941056   0.011517    NaN  \n",
       "3  1.246436   5.958941    NaN  \n",
       "4  1.449758  53.938395    NaN  \n",
       "\n",
       "[5 rows x 23 columns]"
      ]
     },
     "execution_count": 7,
     "metadata": {},
     "output_type": "execute_result"
    }
   ],
   "source": [
    "P14_raw.head()\n",
    "P28_raw.head()"
   ]
  },
  {
   "cell_type": "code",
   "execution_count": 8,
   "metadata": {},
   "outputs": [
    {
     "data": {
      "text/html": [
       "<div>\n",
       "<style scoped>\n",
       "    .dataframe tbody tr th:only-of-type {\n",
       "        vertical-align: middle;\n",
       "    }\n",
       "\n",
       "    .dataframe tbody tr th {\n",
       "        vertical-align: top;\n",
       "    }\n",
       "\n",
       "    .dataframe thead th {\n",
       "        text-align: right;\n",
       "    }\n",
       "</style>\n",
       "<table border=\"1\" class=\"dataframe\">\n",
       "  <thead>\n",
       "    <tr style=\"text-align: right;\">\n",
       "      <th></th>\n",
       "      <th>alpha</th>\n",
       "      <th>D_fit</th>\n",
       "      <th>kurtosis</th>\n",
       "      <th>asymmetry1</th>\n",
       "      <th>asymmetry2</th>\n",
       "      <th>asymmetry3</th>\n",
       "      <th>AR</th>\n",
       "      <th>elongation</th>\n",
       "      <th>boundedness</th>\n",
       "      <th>fractal_dim</th>\n",
       "      <th>trappedness</th>\n",
       "      <th>efficiency</th>\n",
       "      <th>straightness</th>\n",
       "      <th>MSD_ratio</th>\n",
       "      <th>frames</th>\n",
       "      <th>X</th>\n",
       "      <th>Y</th>\n",
       "      <th>Quality</th>\n",
       "      <th>Mean_Intensity</th>\n",
       "      <th>SN_Ratio</th>\n",
       "    </tr>\n",
       "  </thead>\n",
       "  <tbody>\n",
       "    <tr>\n",
       "      <th>0</th>\n",
       "      <td>0.921954</td>\n",
       "      <td>45.886858</td>\n",
       "      <td>1.714759</td>\n",
       "      <td>0.973909</td>\n",
       "      <td>0.081298</td>\n",
       "      <td>0.447749</td>\n",
       "      <td>2.283096</td>\n",
       "      <td>0.561998</td>\n",
       "      <td>0.097968</td>\n",
       "      <td>1.331722</td>\n",
       "      <td>-0.197449</td>\n",
       "      <td>1.614783</td>\n",
       "      <td>0.476412</td>\n",
       "      <td>-0.058486</td>\n",
       "      <td>12.0</td>\n",
       "      <td>455.976262</td>\n",
       "      <td>1687.771694</td>\n",
       "      <td>11.357433</td>\n",
       "      <td>305.505168</td>\n",
       "      <td>1.220481</td>\n",
       "    </tr>\n",
       "    <tr>\n",
       "      <th>1</th>\n",
       "      <td>0.779414</td>\n",
       "      <td>7.596419</td>\n",
       "      <td>1.912553</td>\n",
       "      <td>0.530918</td>\n",
       "      <td>0.396204</td>\n",
       "      <td>0.098174</td>\n",
       "      <td>1.828815</td>\n",
       "      <td>0.453198</td>\n",
       "      <td>0.040816</td>\n",
       "      <td>1.363044</td>\n",
       "      <td>-0.214762</td>\n",
       "      <td>1.071071</td>\n",
       "      <td>0.294938</td>\n",
       "      <td>0.008042</td>\n",
       "      <td>30.0</td>\n",
       "      <td>465.640805</td>\n",
       "      <td>1718.438130</td>\n",
       "      <td>8.770632</td>\n",
       "      <td>286.695607</td>\n",
       "      <td>1.065424</td>\n",
       "    </tr>\n",
       "    <tr>\n",
       "      <th>2</th>\n",
       "      <td>0.381322</td>\n",
       "      <td>0.080634</td>\n",
       "      <td>2.028627</td>\n",
       "      <td>0.903975</td>\n",
       "      <td>0.158849</td>\n",
       "      <td>0.305750</td>\n",
       "      <td>2.304599</td>\n",
       "      <td>0.566085</td>\n",
       "      <td>0.128652</td>\n",
       "      <td>1.578335</td>\n",
       "      <td>-0.188256</td>\n",
       "      <td>0.250810</td>\n",
       "      <td>0.196348</td>\n",
       "      <td>0.493983</td>\n",
       "      <td>12.0</td>\n",
       "      <td>242.500425</td>\n",
       "      <td>1593.579360</td>\n",
       "      <td>4.219553</td>\n",
       "      <td>253.840762</td>\n",
       "      <td>0.941056</td>\n",
       "    </tr>\n",
       "    <tr>\n",
       "      <th>3</th>\n",
       "      <td>0.911175</td>\n",
       "      <td>7.604582</td>\n",
       "      <td>1.996676</td>\n",
       "      <td>0.768937</td>\n",
       "      <td>0.256110</td>\n",
       "      <td>0.192809</td>\n",
       "      <td>1.289481</td>\n",
       "      <td>0.224494</td>\n",
       "      <td>0.100996</td>\n",
       "      <td>1.643869</td>\n",
       "      <td>-0.196539</td>\n",
       "      <td>0.598936</td>\n",
       "      <td>0.244591</td>\n",
       "      <td>0.115772</td>\n",
       "      <td>21.0</td>\n",
       "      <td>470.434854</td>\n",
       "      <td>1729.417139</td>\n",
       "      <td>12.405819</td>\n",
       "      <td>306.569767</td>\n",
       "      <td>1.246436</td>\n",
       "    </tr>\n",
       "    <tr>\n",
       "      <th>4</th>\n",
       "      <td>0.903505</td>\n",
       "      <td>59.329017</td>\n",
       "      <td>1.321606</td>\n",
       "      <td>0.982666</td>\n",
       "      <td>0.066117</td>\n",
       "      <td>0.483955</td>\n",
       "      <td>2.978820</td>\n",
       "      <td>0.664297</td>\n",
       "      <td>0.074637</td>\n",
       "      <td>1.361617</td>\n",
       "      <td>-0.204486</td>\n",
       "      <td>1.268260</td>\n",
       "      <td>0.384555</td>\n",
       "      <td>-0.049639</td>\n",
       "      <td>13.0</td>\n",
       "      <td>419.845043</td>\n",
       "      <td>1694.879508</td>\n",
       "      <td>11.628195</td>\n",
       "      <td>306.626118</td>\n",
       "      <td>1.449758</td>\n",
       "    </tr>\n",
       "  </tbody>\n",
       "</table>\n",
       "</div>"
      ],
      "text/plain": [
       "      alpha      D_fit  kurtosis  asymmetry1  asymmetry2  asymmetry3  \\\n",
       "0  0.921954  45.886858  1.714759    0.973909    0.081298    0.447749   \n",
       "1  0.779414   7.596419  1.912553    0.530918    0.396204    0.098174   \n",
       "2  0.381322   0.080634  2.028627    0.903975    0.158849    0.305750   \n",
       "3  0.911175   7.604582  1.996676    0.768937    0.256110    0.192809   \n",
       "4  0.903505  59.329017  1.321606    0.982666    0.066117    0.483955   \n",
       "\n",
       "         AR  elongation  boundedness  fractal_dim  trappedness  efficiency  \\\n",
       "0  2.283096    0.561998     0.097968     1.331722    -0.197449    1.614783   \n",
       "1  1.828815    0.453198     0.040816     1.363044    -0.214762    1.071071   \n",
       "2  2.304599    0.566085     0.128652     1.578335    -0.188256    0.250810   \n",
       "3  1.289481    0.224494     0.100996     1.643869    -0.196539    0.598936   \n",
       "4  2.978820    0.664297     0.074637     1.361617    -0.204486    1.268260   \n",
       "\n",
       "   straightness  MSD_ratio  frames           X            Y    Quality  \\\n",
       "0      0.476412  -0.058486    12.0  455.976262  1687.771694  11.357433   \n",
       "1      0.294938   0.008042    30.0  465.640805  1718.438130   8.770632   \n",
       "2      0.196348   0.493983    12.0  242.500425  1593.579360   4.219553   \n",
       "3      0.244591   0.115772    21.0  470.434854  1729.417139  12.405819   \n",
       "4      0.384555  -0.049639    13.0  419.845043  1694.879508  11.628195   \n",
       "\n",
       "   Mean_Intensity  SN_Ratio  \n",
       "0      305.505168  1.220481  \n",
       "1      286.695607  1.065424  \n",
       "2      253.840762  0.941056  \n",
       "3      306.569767  1.246436  \n",
       "4      306.626118  1.449758  "
      ]
     },
     "execution_count": 8,
     "metadata": {},
     "output_type": "execute_result"
    }
   ],
   "source": [
    "P14_data=P14_raw.drop(columns=['Track_ID','Deff1','Deff2'])\n",
    "P28_data=P28_raw.drop(columns=['Track_ID','Deff1','Deff2'])\n",
    "P14_data.head()\n",
    "P28_data.head()"
   ]
  },
  {
   "cell_type": "code",
   "execution_count": null,
   "metadata": {},
   "outputs": [],
   "source": [
    "P14_data.isna().any()"
   ]
  },
  {
   "cell_type": "code",
   "execution_count": null,
   "metadata": {},
   "outputs": [],
   "source": [
    "P28_data.isna().any()"
   ]
  },
  {
   "cell_type": "code",
   "execution_count": 9,
   "metadata": {},
   "outputs": [],
   "source": [
    "P14_data.insert(P14_data.shape[1],'Target', 0)\n",
    "P28_data.insert(P28_data.shape[1],'Target', 1)"
   ]
  },
  {
   "cell_type": "code",
   "execution_count": 10,
   "metadata": {},
   "outputs": [
    {
     "data": {
      "text/html": [
       "<div>\n",
       "<style scoped>\n",
       "    .dataframe tbody tr th:only-of-type {\n",
       "        vertical-align: middle;\n",
       "    }\n",
       "\n",
       "    .dataframe tbody tr th {\n",
       "        vertical-align: top;\n",
       "    }\n",
       "\n",
       "    .dataframe thead th {\n",
       "        text-align: right;\n",
       "    }\n",
       "</style>\n",
       "<table border=\"1\" class=\"dataframe\">\n",
       "  <thead>\n",
       "    <tr style=\"text-align: right;\">\n",
       "      <th></th>\n",
       "      <th>alpha</th>\n",
       "      <th>D_fit</th>\n",
       "      <th>kurtosis</th>\n",
       "      <th>asymmetry1</th>\n",
       "      <th>asymmetry2</th>\n",
       "      <th>asymmetry3</th>\n",
       "      <th>AR</th>\n",
       "      <th>elongation</th>\n",
       "      <th>boundedness</th>\n",
       "      <th>fractal_dim</th>\n",
       "      <th>...</th>\n",
       "      <th>efficiency</th>\n",
       "      <th>straightness</th>\n",
       "      <th>MSD_ratio</th>\n",
       "      <th>frames</th>\n",
       "      <th>X</th>\n",
       "      <th>Y</th>\n",
       "      <th>Quality</th>\n",
       "      <th>Mean_Intensity</th>\n",
       "      <th>SN_Ratio</th>\n",
       "      <th>Target</th>\n",
       "    </tr>\n",
       "  </thead>\n",
       "  <tbody>\n",
       "    <tr>\n",
       "      <th>0</th>\n",
       "      <td>0.921954</td>\n",
       "      <td>45.886858</td>\n",
       "      <td>1.714759</td>\n",
       "      <td>0.973909</td>\n",
       "      <td>0.081298</td>\n",
       "      <td>0.447749</td>\n",
       "      <td>2.283096</td>\n",
       "      <td>0.561998</td>\n",
       "      <td>0.097968</td>\n",
       "      <td>1.331722</td>\n",
       "      <td>...</td>\n",
       "      <td>1.614783</td>\n",
       "      <td>0.476412</td>\n",
       "      <td>-0.058486</td>\n",
       "      <td>12.0</td>\n",
       "      <td>455.976262</td>\n",
       "      <td>1687.771694</td>\n",
       "      <td>11.357433</td>\n",
       "      <td>305.505168</td>\n",
       "      <td>1.220481</td>\n",
       "      <td>1</td>\n",
       "    </tr>\n",
       "    <tr>\n",
       "      <th>1</th>\n",
       "      <td>0.779414</td>\n",
       "      <td>7.596419</td>\n",
       "      <td>1.912553</td>\n",
       "      <td>0.530918</td>\n",
       "      <td>0.396204</td>\n",
       "      <td>0.098174</td>\n",
       "      <td>1.828815</td>\n",
       "      <td>0.453198</td>\n",
       "      <td>0.040816</td>\n",
       "      <td>1.363044</td>\n",
       "      <td>...</td>\n",
       "      <td>1.071071</td>\n",
       "      <td>0.294938</td>\n",
       "      <td>0.008042</td>\n",
       "      <td>30.0</td>\n",
       "      <td>465.640805</td>\n",
       "      <td>1718.438130</td>\n",
       "      <td>8.770632</td>\n",
       "      <td>286.695607</td>\n",
       "      <td>1.065424</td>\n",
       "      <td>1</td>\n",
       "    </tr>\n",
       "    <tr>\n",
       "      <th>2</th>\n",
       "      <td>0.381322</td>\n",
       "      <td>0.080634</td>\n",
       "      <td>2.028627</td>\n",
       "      <td>0.903975</td>\n",
       "      <td>0.158849</td>\n",
       "      <td>0.305750</td>\n",
       "      <td>2.304599</td>\n",
       "      <td>0.566085</td>\n",
       "      <td>0.128652</td>\n",
       "      <td>1.578335</td>\n",
       "      <td>...</td>\n",
       "      <td>0.250810</td>\n",
       "      <td>0.196348</td>\n",
       "      <td>0.493983</td>\n",
       "      <td>12.0</td>\n",
       "      <td>242.500425</td>\n",
       "      <td>1593.579360</td>\n",
       "      <td>4.219553</td>\n",
       "      <td>253.840762</td>\n",
       "      <td>0.941056</td>\n",
       "      <td>1</td>\n",
       "    </tr>\n",
       "    <tr>\n",
       "      <th>3</th>\n",
       "      <td>0.911175</td>\n",
       "      <td>7.604582</td>\n",
       "      <td>1.996676</td>\n",
       "      <td>0.768937</td>\n",
       "      <td>0.256110</td>\n",
       "      <td>0.192809</td>\n",
       "      <td>1.289481</td>\n",
       "      <td>0.224494</td>\n",
       "      <td>0.100996</td>\n",
       "      <td>1.643869</td>\n",
       "      <td>...</td>\n",
       "      <td>0.598936</td>\n",
       "      <td>0.244591</td>\n",
       "      <td>0.115772</td>\n",
       "      <td>21.0</td>\n",
       "      <td>470.434854</td>\n",
       "      <td>1729.417139</td>\n",
       "      <td>12.405819</td>\n",
       "      <td>306.569767</td>\n",
       "      <td>1.246436</td>\n",
       "      <td>1</td>\n",
       "    </tr>\n",
       "    <tr>\n",
       "      <th>4</th>\n",
       "      <td>0.903505</td>\n",
       "      <td>59.329017</td>\n",
       "      <td>1.321606</td>\n",
       "      <td>0.982666</td>\n",
       "      <td>0.066117</td>\n",
       "      <td>0.483955</td>\n",
       "      <td>2.978820</td>\n",
       "      <td>0.664297</td>\n",
       "      <td>0.074637</td>\n",
       "      <td>1.361617</td>\n",
       "      <td>...</td>\n",
       "      <td>1.268260</td>\n",
       "      <td>0.384555</td>\n",
       "      <td>-0.049639</td>\n",
       "      <td>13.0</td>\n",
       "      <td>419.845043</td>\n",
       "      <td>1694.879508</td>\n",
       "      <td>11.628195</td>\n",
       "      <td>306.626118</td>\n",
       "      <td>1.449758</td>\n",
       "      <td>1</td>\n",
       "    </tr>\n",
       "  </tbody>\n",
       "</table>\n",
       "<p>5 rows × 21 columns</p>\n",
       "</div>"
      ],
      "text/plain": [
       "      alpha      D_fit  kurtosis  asymmetry1  asymmetry2  asymmetry3  \\\n",
       "0  0.921954  45.886858  1.714759    0.973909    0.081298    0.447749   \n",
       "1  0.779414   7.596419  1.912553    0.530918    0.396204    0.098174   \n",
       "2  0.381322   0.080634  2.028627    0.903975    0.158849    0.305750   \n",
       "3  0.911175   7.604582  1.996676    0.768937    0.256110    0.192809   \n",
       "4  0.903505  59.329017  1.321606    0.982666    0.066117    0.483955   \n",
       "\n",
       "         AR  elongation  boundedness  fractal_dim   ...    efficiency  \\\n",
       "0  2.283096    0.561998     0.097968     1.331722   ...      1.614783   \n",
       "1  1.828815    0.453198     0.040816     1.363044   ...      1.071071   \n",
       "2  2.304599    0.566085     0.128652     1.578335   ...      0.250810   \n",
       "3  1.289481    0.224494     0.100996     1.643869   ...      0.598936   \n",
       "4  2.978820    0.664297     0.074637     1.361617   ...      1.268260   \n",
       "\n",
       "   straightness  MSD_ratio  frames           X            Y    Quality  \\\n",
       "0      0.476412  -0.058486    12.0  455.976262  1687.771694  11.357433   \n",
       "1      0.294938   0.008042    30.0  465.640805  1718.438130   8.770632   \n",
       "2      0.196348   0.493983    12.0  242.500425  1593.579360   4.219553   \n",
       "3      0.244591   0.115772    21.0  470.434854  1729.417139  12.405819   \n",
       "4      0.384555  -0.049639    13.0  419.845043  1694.879508  11.628195   \n",
       "\n",
       "   Mean_Intensity  SN_Ratio  Target  \n",
       "0      305.505168  1.220481       1  \n",
       "1      286.695607  1.065424       1  \n",
       "2      253.840762  0.941056       1  \n",
       "3      306.569767  1.246436       1  \n",
       "4      306.626118  1.449758       1  \n",
       "\n",
       "[5 rows x 21 columns]"
      ]
     },
     "execution_count": 10,
     "metadata": {},
     "output_type": "execute_result"
    }
   ],
   "source": [
    "P14_data.head()\n",
    "P28_data.head()"
   ]
  },
  {
   "cell_type": "code",
   "execution_count": 11,
   "metadata": {},
   "outputs": [
    {
     "name": "stdout",
     "output_type": "stream",
     "text": [
      "(793, 21)\n",
      "(480, 21)\n"
     ]
    }
   ],
   "source": [
    "print(P14_data.shape)\n",
    "print(P28_data.shape)"
   ]
  },
  {
   "cell_type": "code",
   "execution_count": 12,
   "metadata": {},
   "outputs": [],
   "source": [
    "merged = pd.concat([P14_data,P28_data], axis=0)"
   ]
  },
  {
   "cell_type": "code",
   "execution_count": 13,
   "metadata": {},
   "outputs": [
    {
     "data": {
      "text/plain": [
       "(1273, 21)"
      ]
     },
     "execution_count": 13,
     "metadata": {},
     "output_type": "execute_result"
    }
   ],
   "source": [
    "merged.shape"
   ]
  },
  {
   "cell_type": "code",
   "execution_count": 14,
   "metadata": {},
   "outputs": [
    {
     "data": {
      "text/plain": [
       "alpha             False\n",
       "D_fit             False\n",
       "kurtosis          False\n",
       "asymmetry1        False\n",
       "asymmetry2        False\n",
       "asymmetry3        False\n",
       "AR                 True\n",
       "elongation        False\n",
       "boundedness       False\n",
       "fractal_dim       False\n",
       "trappedness       False\n",
       "efficiency        False\n",
       "straightness      False\n",
       "MSD_ratio         False\n",
       "frames            False\n",
       "X                 False\n",
       "Y                 False\n",
       "Quality           False\n",
       "Mean_Intensity    False\n",
       "SN_Ratio          False\n",
       "Target            False\n",
       "dtype: bool"
      ]
     },
     "execution_count": 14,
     "metadata": {},
     "output_type": "execute_result"
    }
   ],
   "source": [
    "merged.isin([np.nan, np.inf, -np.inf]).any(0)"
   ]
  },
  {
   "cell_type": "code",
   "execution_count": 15,
   "metadata": {},
   "outputs": [],
   "source": [
    "clean_merged = merged[np.isfinite(merged).all(1)]"
   ]
  },
  {
   "cell_type": "code",
   "execution_count": 16,
   "metadata": {},
   "outputs": [
    {
     "data": {
      "text/plain": [
       "alpha             False\n",
       "D_fit             False\n",
       "kurtosis          False\n",
       "asymmetry1        False\n",
       "asymmetry2        False\n",
       "asymmetry3        False\n",
       "AR                False\n",
       "elongation        False\n",
       "boundedness       False\n",
       "fractal_dim       False\n",
       "trappedness       False\n",
       "efficiency        False\n",
       "straightness      False\n",
       "MSD_ratio         False\n",
       "frames            False\n",
       "X                 False\n",
       "Y                 False\n",
       "Quality           False\n",
       "Mean_Intensity    False\n",
       "SN_Ratio          False\n",
       "Target            False\n",
       "dtype: bool"
      ]
     },
     "execution_count": 16,
     "metadata": {},
     "output_type": "execute_result"
    }
   ],
   "source": [
    "clean_merged.isin([np.nan, np.inf, -np.inf]).any(0)"
   ]
  },
  {
   "cell_type": "code",
   "execution_count": 17,
   "metadata": {},
   "outputs": [
    {
     "data": {
      "text/plain": [
       "(1269, 21)"
      ]
     },
     "execution_count": 17,
     "metadata": {},
     "output_type": "execute_result"
    }
   ],
   "source": [
    "clean_merged.shape"
   ]
  },
  {
   "cell_type": "code",
   "execution_count": 22,
   "metadata": {},
   "outputs": [],
   "source": [
    "clean_merged_no_qual = clean_merged.drop(['Quality','Mean_Intensity', 'SN_Ratio','X','Y'],axis=1)"
   ]
  },
  {
   "cell_type": "code",
   "execution_count": 23,
   "metadata": {},
   "outputs": [
    {
     "data": {
      "text/html": [
       "<div>\n",
       "<style scoped>\n",
       "    .dataframe tbody tr th:only-of-type {\n",
       "        vertical-align: middle;\n",
       "    }\n",
       "\n",
       "    .dataframe tbody tr th {\n",
       "        vertical-align: top;\n",
       "    }\n",
       "\n",
       "    .dataframe thead th {\n",
       "        text-align: right;\n",
       "    }\n",
       "</style>\n",
       "<table border=\"1\" class=\"dataframe\">\n",
       "  <thead>\n",
       "    <tr style=\"text-align: right;\">\n",
       "      <th></th>\n",
       "      <th>alpha</th>\n",
       "      <th>D_fit</th>\n",
       "      <th>kurtosis</th>\n",
       "      <th>asymmetry1</th>\n",
       "      <th>asymmetry2</th>\n",
       "      <th>asymmetry3</th>\n",
       "      <th>AR</th>\n",
       "      <th>elongation</th>\n",
       "      <th>boundedness</th>\n",
       "      <th>fractal_dim</th>\n",
       "      <th>trappedness</th>\n",
       "      <th>efficiency</th>\n",
       "      <th>straightness</th>\n",
       "      <th>MSD_ratio</th>\n",
       "      <th>frames</th>\n",
       "      <th>Target</th>\n",
       "    </tr>\n",
       "  </thead>\n",
       "  <tbody>\n",
       "    <tr>\n",
       "      <th>0</th>\n",
       "      <td>0.145892</td>\n",
       "      <td>115.910643</td>\n",
       "      <td>3.051675</td>\n",
       "      <td>0.744942</td>\n",
       "      <td>0.271071</td>\n",
       "      <td>0.179650</td>\n",
       "      <td>1.287207</td>\n",
       "      <td>0.223124</td>\n",
       "      <td>0.157897</td>\n",
       "      <td>1.736748</td>\n",
       "      <td>-0.179559</td>\n",
       "      <td>0.012446</td>\n",
       "      <td>0.039829</td>\n",
       "      <td>0.861360</td>\n",
       "      <td>12.0</td>\n",
       "      <td>0</td>\n",
       "    </tr>\n",
       "    <tr>\n",
       "      <th>1</th>\n",
       "      <td>2.193719</td>\n",
       "      <td>1.611728</td>\n",
       "      <td>3.180184</td>\n",
       "      <td>0.851672</td>\n",
       "      <td>0.200292</td>\n",
       "      <td>0.250967</td>\n",
       "      <td>2.605750</td>\n",
       "      <td>0.616233</td>\n",
       "      <td>0.030720</td>\n",
       "      <td>1.173042</td>\n",
       "      <td>-0.217846</td>\n",
       "      <td>4.945998</td>\n",
       "      <td>0.658399</td>\n",
       "      <td>-0.084713</td>\n",
       "      <td>18.0</td>\n",
       "      <td>0</td>\n",
       "    </tr>\n",
       "    <tr>\n",
       "      <th>2</th>\n",
       "      <td>1.649381</td>\n",
       "      <td>12.301497</td>\n",
       "      <td>1.654691</td>\n",
       "      <td>0.989301</td>\n",
       "      <td>0.051857</td>\n",
       "      <td>0.521313</td>\n",
       "      <td>3.210672</td>\n",
       "      <td>0.688539</td>\n",
       "      <td>0.041548</td>\n",
       "      <td>1.161407</td>\n",
       "      <td>-0.214539</td>\n",
       "      <td>4.056684</td>\n",
       "      <td>0.680232</td>\n",
       "      <td>-0.087610</td>\n",
       "      <td>17.0</td>\n",
       "      <td>0</td>\n",
       "    </tr>\n",
       "    <tr>\n",
       "      <th>3</th>\n",
       "      <td>0.756172</td>\n",
       "      <td>50.106737</td>\n",
       "      <td>2.428506</td>\n",
       "      <td>0.990430</td>\n",
       "      <td>0.049030</td>\n",
       "      <td>0.529145</td>\n",
       "      <td>3.600695</td>\n",
       "      <td>0.722276</td>\n",
       "      <td>0.128690</td>\n",
       "      <td>1.494690</td>\n",
       "      <td>-0.188244</td>\n",
       "      <td>0.589772</td>\n",
       "      <td>0.301822</td>\n",
       "      <td>-0.039437</td>\n",
       "      <td>11.0</td>\n",
       "      <td>0</td>\n",
       "    </tr>\n",
       "    <tr>\n",
       "      <th>4</th>\n",
       "      <td>2.153309</td>\n",
       "      <td>3.674387</td>\n",
       "      <td>2.894523</td>\n",
       "      <td>0.996028</td>\n",
       "      <td>0.031544</td>\n",
       "      <td>0.581089</td>\n",
       "      <td>4.677014</td>\n",
       "      <td>0.786188</td>\n",
       "      <td>0.154286</td>\n",
       "      <td>1.215777</td>\n",
       "      <td>-0.180630</td>\n",
       "      <td>1.893213</td>\n",
       "      <td>0.691383</td>\n",
       "      <td>-0.116580</td>\n",
       "      <td>9.0</td>\n",
       "      <td>0</td>\n",
       "    </tr>\n",
       "  </tbody>\n",
       "</table>\n",
       "</div>"
      ],
      "text/plain": [
       "      alpha       D_fit  kurtosis  asymmetry1  asymmetry2  asymmetry3  \\\n",
       "0  0.145892  115.910643  3.051675    0.744942    0.271071    0.179650   \n",
       "1  2.193719    1.611728  3.180184    0.851672    0.200292    0.250967   \n",
       "2  1.649381   12.301497  1.654691    0.989301    0.051857    0.521313   \n",
       "3  0.756172   50.106737  2.428506    0.990430    0.049030    0.529145   \n",
       "4  2.153309    3.674387  2.894523    0.996028    0.031544    0.581089   \n",
       "\n",
       "         AR  elongation  boundedness  fractal_dim  trappedness  efficiency  \\\n",
       "0  1.287207    0.223124     0.157897     1.736748    -0.179559    0.012446   \n",
       "1  2.605750    0.616233     0.030720     1.173042    -0.217846    4.945998   \n",
       "2  3.210672    0.688539     0.041548     1.161407    -0.214539    4.056684   \n",
       "3  3.600695    0.722276     0.128690     1.494690    -0.188244    0.589772   \n",
       "4  4.677014    0.786188     0.154286     1.215777    -0.180630    1.893213   \n",
       "\n",
       "   straightness  MSD_ratio  frames  Target  \n",
       "0      0.039829   0.861360    12.0       0  \n",
       "1      0.658399  -0.084713    18.0       0  \n",
       "2      0.680232  -0.087610    17.0       0  \n",
       "3      0.301822  -0.039437    11.0       0  \n",
       "4      0.691383  -0.116580     9.0       0  "
      ]
     },
     "execution_count": 23,
     "metadata": {},
     "output_type": "execute_result"
    }
   ],
   "source": [
    "clean_merged_no_qual.head()"
   ]
  },
  {
   "cell_type": "code",
   "execution_count": 24,
   "metadata": {},
   "outputs": [],
   "source": [
    "from sklearn.model_selection import train_test_split\n",
    "X_train, X_test, y_train, y_test = train_test_split(clean_merged.drop(['Target'], axis='columns'), clean_merged['Target'], test_size=0.2)\n",
    "X_train_2, X_test_2, y_train_2, y_test_2 = train_test_split(clean_merged_no_qual.drop(['Target'], axis='columns'), clean_merged_no_qual['Target'], test_size=0.2)"
   ]
  },
  {
   "cell_type": "code",
   "execution_count": 38,
   "metadata": {},
   "outputs": [
    {
     "data": {
      "text/plain": [
       "RandomForestClassifier(bootstrap=True, class_weight=None, criterion='gini',\n",
       "            max_depth=None, max_features='auto', max_leaf_nodes=None,\n",
       "            min_impurity_decrease=0.0, min_impurity_split=None,\n",
       "            min_samples_leaf=1, min_samples_split=2,\n",
       "            min_weight_fraction_leaf=0.0, n_estimators=30, n_jobs=1,\n",
       "            oob_score=False, random_state=None, verbose=0,\n",
       "            warm_start=False)"
      ]
     },
     "execution_count": 38,
     "metadata": {},
     "output_type": "execute_result"
    }
   ],
   "source": [
    "from sklearn.ensemble import RandomForestClassifier\n",
    "model = RandomForestClassifier()\n",
    "model_2 = RandomForestClassifier(n_estimators=30)\n",
    "model.fit(X_train, y_train)\n",
    "model_2.fit(X_train_2, y_train_2)"
   ]
  },
  {
   "cell_type": "code",
   "execution_count": 39,
   "metadata": {},
   "outputs": [
    {
     "data": {
      "text/plain": [
       "0.96456692913385822"
      ]
     },
     "execution_count": 39,
     "metadata": {},
     "output_type": "execute_result"
    }
   ],
   "source": [
    "model.score(X_test, y_test)"
   ]
  },
  {
   "cell_type": "code",
   "execution_count": 40,
   "metadata": {},
   "outputs": [
    {
     "data": {
      "text/plain": [
       "0.63385826771653542"
      ]
     },
     "execution_count": 40,
     "metadata": {},
     "output_type": "execute_result"
    }
   ],
   "source": [
    "model_2.score(X_test_2, y_test_2)"
   ]
  },
  {
   "cell_type": "code",
   "execution_count": 28,
   "metadata": {},
   "outputs": [],
   "source": [
    "y_predicted=model.predict(X_test)"
   ]
  },
  {
   "cell_type": "code",
   "execution_count": 41,
   "metadata": {},
   "outputs": [],
   "source": [
    "y_predicted_2=model_2.predict(X_test_2)"
   ]
  },
  {
   "cell_type": "code",
   "execution_count": 43,
   "metadata": {},
   "outputs": [
    {
     "data": {
      "text/plain": [
       "array([[131,  26],\n",
       "       [ 67,  30]])"
      ]
     },
     "execution_count": 43,
     "metadata": {},
     "output_type": "execute_result"
    }
   ],
   "source": [
    "from sklearn.metrics import confusion_matrix\n",
    "cm = confusion_matrix(y_test_2, y_predicted_2)\n",
    "cm"
   ]
  },
  {
   "cell_type": "code",
   "execution_count": 44,
   "metadata": {},
   "outputs": [
    {
     "data": {
      "text/plain": [
       "[[<matplotlib.axis.YTick at 0x7f7b5ceaca90>,\n",
       "  <matplotlib.axis.YTick at 0x7f7b5ceac358>],\n",
       " [Text(0,0,'P14'), Text(0,0,'P28')],\n",
       " Text(0,0.5,'True label'),\n",
       " [<matplotlib.axis.XTick at 0x7f7b5ce9c630>,\n",
       "  <matplotlib.axis.XTick at 0x7f7b5cfcee48>],\n",
       " [Text(0,0,'P14'), Text(0,0,'P28')],\n",
       " Text(0.5,0,'predicted label')]"
      ]
     },
     "execution_count": 44,
     "metadata": {},
     "output_type": "execute_result"
    },
    {
     "data": {
      "image/png": "[encoded data removed]",
      "text/plain": [
       "<Figure size 432x288 with 2 Axes>"
      ]
     },
     "metadata": {},
     "output_type": "display_data"
    }
   ],
   "source": [
    "import numpy as np\n",
    "cmap = plt.cm.Blues\n",
    "\n",
    "fig, ax = plt.subplots()\n",
    "im = ax.imshow(cm, interpolation='nearest', cmap=cmap)\n",
    "ax.figure.colorbar(im, ax=ax)\n",
    "ax.set(xticks=np.arange(cm.shape[1]),yticks=np.arange(cm.shape[0]),xticklabels=['P14', 'P28'],\n",
    "       yticklabels=['P14','P28'], ylabel='True label', xlabel='predicted label')"
   ]
  },
  {
   "cell_type": "code",
   "execution_count": 30,
   "metadata": {},
   "outputs": [
    {
     "name": "stdout",
     "output_type": "stream",
     "text": [
      "Feature ranking:\n",
      "1. feature 18 (0.714130)\n",
      "2. feature 17 (0.039205)\n",
      "3. feature 16 (0.025468)\n",
      "4. feature 14 (0.024769)\n",
      "5. feature 19 (0.024250)\n",
      "6. feature 13 (0.023341)\n",
      "7. feature 15 (0.021895)\n",
      "8. feature 11 (0.017455)\n",
      "9. feature 9 (0.016495)\n",
      "10. feature 12 (0.014161)\n",
      "11. feature 1 (0.013258)\n",
      "12. feature 2 (0.011851)\n",
      "13. feature 10 (0.010370)\n",
      "14. feature 3 (0.009036)\n",
      "15. feature 4 (0.008432)\n",
      "16. feature 7 (0.007168)\n",
      "17. feature 6 (0.006389)\n",
      "18. feature 8 (0.005431)\n",
      "19. feature 0 (0.003544)\n",
      "20. feature 5 (0.003350)\n"
     ]
    },
    {
     "data": {
      "image/png": "[encoded data removed]",
      "text/plain": [
       "<Figure size 432x288 with 1 Axes>"
      ]
     },
     "metadata": {},
     "output_type": "display_data"
    }
   ],
   "source": [
    "importances = model.feature_importances_\n",
    "std = np.std([tree.feature_importances_ for tree in model.estimators_],\n",
    "             axis=0)\n",
    "indices = np.argsort(importances)[::-1]\n",
    "\n",
    "# Print the feature ranking\n",
    "print(\"Feature ranking:\")\n",
    "\n",
    "for f in range(X_train.shape[1]):\n",
    "    print(\"%d. feature %d (%f)\" % (f + 1, indices[f], importances[indices[f]]))\n",
    "\n",
    "# Plot the feature importances of the forest\n",
    "plt.figure()\n",
    "plt.title(\"Feature importances\")\n",
    "plt.bar(range(X_train.shape[1]), importances[indices],\n",
    "       color=\"r\", yerr=std[indices], align=\"center\")\n",
    "plt.xticks(range(X_train.shape[1]), indices)\n",
    "plt.xlim([-1, X_train.shape[1]])\n",
    "plt.show()"
   ]
  },
  {
   "cell_type": "code",
   "execution_count": 42,
   "metadata": {},
   "outputs": [
    {
     "name": "stdout",
     "output_type": "stream",
     "text": [
      "Feature ranking:\n",
      "1. feature 12 (0.082340)\n",
      "2. feature 1 (0.078944)\n",
      "3. feature 11 (0.075687)\n",
      "4. feature 0 (0.073969)\n",
      "5. feature 2 (0.073767)\n",
      "6. feature 8 (0.073249)\n",
      "7. feature 9 (0.067780)\n",
      "8. feature 13 (0.066515)\n",
      "9. feature 6 (0.063909)\n",
      "10. feature 14 (0.060967)\n",
      "11. feature 10 (0.059516)\n",
      "12. feature 4 (0.058677)\n",
      "13. feature 7 (0.056655)\n",
      "14. feature 3 (0.055665)\n",
      "15. feature 5 (0.052358)\n"
     ]
    },
    {
     "data": {
      "image/png": "[encoded data removed]",
      "text/plain": [
       "<Figure size 432x288 with 1 Axes>"
      ]
     },
     "metadata": {},
     "output_type": "display_data"
    }
   ],
   "source": [
    "importances = model_2.feature_importances_\n",
    "std = np.std([tree.feature_importances_ for tree in model_2.estimators_],\n",
    "             axis=0)\n",
    "indices = np.argsort(importances)[::-1]\n",
    "\n",
    "# Print the feature ranking\n",
    "print(\"Feature ranking:\")\n",
    "\n",
    "for f in range(X_train_2.shape[1]):\n",
    "    print(\"%d. feature %d (%f)\" % (f + 1, indices[f], importances[indices[f]]))\n",
    "\n",
    "# Plot the feature importances of the forest\n",
    "plt.figure()\n",
    "plt.title(\"Feature importances\")\n",
    "plt.bar(range(X_train_2.shape[1]), importances[indices],\n",
    "       color=\"r\", yerr=std[indices], align=\"center\")\n",
    "plt.xticks(range(X_train_2.shape[1]), indices)\n",
    "plt.xlim([-1, X_train_2.shape[1]])\n",
    "plt.show()"
   ]
  },
  {
   "cell_type": "code",
   "execution_count": 32,
   "metadata": {},
   "outputs": [
    {
     "name": "stdout",
     "output_type": "stream",
     "text": [
      "(1015, 15)\n"
     ]
    },
    {
     "data": {
      "text/html": [
       "<div>\n",
       "<style scoped>\n",
       "    .dataframe tbody tr th:only-of-type {\n",
       "        vertical-align: middle;\n",
       "    }\n",
       "\n",
       "    .dataframe tbody tr th {\n",
       "        vertical-align: top;\n",
       "    }\n",
       "\n",
       "    .dataframe thead th {\n",
       "        text-align: right;\n",
       "    }\n",
       "</style>\n",
       "<table border=\"1\" class=\"dataframe\">\n",
       "  <thead>\n",
       "    <tr style=\"text-align: right;\">\n",
       "      <th></th>\n",
       "      <th>fractal_dim</th>\n",
       "      <th>kurtosis</th>\n",
       "    </tr>\n",
       "  </thead>\n",
       "  <tbody>\n",
       "    <tr>\n",
       "      <th>145</th>\n",
       "      <td>1.867208</td>\n",
       "      <td>2.049327</td>\n",
       "    </tr>\n",
       "  </tbody>\n",
       "</table>\n",
       "</div>"
      ],
      "text/plain": [
       "     fractal_dim  kurtosis\n",
       "145     1.867208  2.049327"
      ]
     },
     "execution_count": 32,
     "metadata": {},
     "output_type": "execute_result"
    }
   ],
   "source": [
    "print(X_train_2.shape)\n",
    "X_train_2.iloc[[0],[9,2]]"
   ]
  }
 ],
 "metadata": {
  "kernelspec": {
   "display_name": "Python 3",
   "language": "python",
   "name": "python3"
  },
  "language_info": {
   "codemirror_mode": {
    "name": "ipython",
    "version": 3
   },
   "file_extension": ".py",
   "mimetype": "text/x-python",
   "name": "python",
   "nbconvert_exporter": "python",
   "pygments_lexer": "ipython3",
   "version": "3.6.3"
  }
 },
 "nbformat": 4,
 "nbformat_minor": 2
}
