{
 "cells": [
  {
   "cell_type": "markdown",
   "metadata": {},
   "source": [
    "## Experiment initialization: Defining all experimental groups"
   ]
  },
  {
   "cell_type": "code",
   "execution_count": 1,
   "metadata": {},
   "outputs": [],
   "source": [
    "to_track = [] # This is going to be the list of all filenames that will be included in the analysis\n",
    "\n",
    "remote_folder_1 = '02_21_20_OGD_Severity_MPT' # The folder in AWS S3 containing the files to be analyzed\n",
    "bucket = 'mckenna.data' # The bucket in AWS S3 where the remote_folder is contained\n",
    "vids = 5 # this is the number of vids that were taken per condition (usually corresponding to different locations)\n",
    "conditions = ['NT', 'OGD_3h']\n",
    "NT_slices = 2\n",
    "OGD_3h_slices = 3\n",
    "NT_regions = ['cortex', 'striatum']\n",
    "OGD_3h_regions = ['cortex', 'striatum']\n",
    "for cond in conditions:\n",
    "    if cond == 'NT':\n",
    "        for slic in range(1,NT_slices+1):\n",
    "            if slic == 1:\n",
    "                for reg in NT_regions:\n",
    "                    if reg == 'cortex':\n",
    "                        for num in range(1,11):\n",
    "                            to_track.append('{}_slice_{}_{}_vid_{}'.format(cond, slic, reg, num))\n",
    "                    else:\n",
    "                        for num in range(1,vids+1):\n",
    "                            to_track.append('{}_slice_{}_{}_vid_{}'.format(cond, slic, reg, num))\n",
    "            else:\n",
    "                for reg in NT_regions:\n",
    "                    for num in range(1,vids+1):\n",
    "                        to_track.append('{}_slice_{}_{}_vid_{}'.format(cond, slic, reg, num))\n",
    "    else:\n",
    "        for slic in range(1,OGD_3h_slices+1):\n",
    "            for reg in OGD_3h_regions:\n",
    "                for num in range(1,vids+1):\n",
    "                    to_track.append('{}_slice_{}_{}_vid_{}'.format(cond, slic, reg, num))"
   ]
  },
  {
   "cell_type": "code",
   "execution_count": null,
   "metadata": {},
   "outputs": [],
   "source": [
    "to_track"
   ]
  },
  {
   "cell_type": "code",
   "execution_count": 2,
   "metadata": {},
   "outputs": [],
   "source": [
    "NT_cortex_track = to_track[6:7]+to_track[8:10]+to_track[15:18]+to_track[19:20]\n",
    "NT_striatum_track = to_track[10:15]+to_track[20:25]\n",
    "NT_track = NT_cortex_track + NT_striatum_track\n",
    "OGD_3h_cortex_track = to_track[25:30]+to_track[35:40]+to_track[45:50]\n",
    "OGD_3h_striatum_track = to_track[30:34]+to_track[40:45]+to_track[51:53]\n",
    "OGD_3h_track = OGD_3h_cortex_track + OGD_3h_striatum_track\n",
    "to_track_1 = NT_track + OGD_3h_track"
   ]
  },
  {
   "cell_type": "code",
   "execution_count": null,
   "metadata": {},
   "outputs": [],
   "source": [
    "to_track_1"
   ]
  },
  {
   "cell_type": "code",
   "execution_count": 3,
   "metadata": {},
   "outputs": [],
   "source": [
    "to_track_2 = [] # This is going to be the list of all filenames that will be included in the analysis\n",
    "\n",
    "remote_folder_2 = '03_06_20_OGD_Severity_MPT' # The folder in AWS S3 containing the files to be analyzed\n",
    "bucket = 'mckenna.data' # The bucket in AWS S3 where the remote_folder is contained\n",
    "vids = 5 # this is the number of vids that were taken per condition (usually corresponding to different locations)\n",
    "conditions = ['OGD_0_5h', 'OGD_1_5h']\n",
    "slices = 3\n",
    "regions = ['cortex', 'striatum']\n",
    "\n",
    "for cond in conditions:\n",
    "    for slic in range(1,slices+1):\n",
    "        for reg in regions:\n",
    "            for num in range(1,vids+1):\n",
    "                to_track_2.append('{}_slice_{}_{}_vid_{}'.format(cond, slic, reg, num))"
   ]
  },
  {
   "cell_type": "code",
   "execution_count": null,
   "metadata": {},
   "outputs": [],
   "source": [
    "to_track_2"
   ]
  },
  {
   "cell_type": "code",
   "execution_count": 4,
   "metadata": {},
   "outputs": [],
   "source": [
    "OGD_05h_cortex_track = to_track_2[0:5]+to_track_2[10:15]+to_track_2[20:25]\n",
    "OGD_05h_striatum_track = to_track_2[5:10]+to_track_2[15:20]+to_track_2[25:30]\n",
    "OGD_05h_track = OGD_05h_cortex_track + OGD_05h_striatum_track\n",
    "OGD_15h_cortex_track = to_track_2[30:35]+to_track_2[40:45]+to_track_2[50:55]\n",
    "OGD_15h_striatum_track = to_track_2[35:40]+to_track_2[45:50]+to_track_2[55:60]\n",
    "OGD_15h_track = OGD_15h_cortex_track + OGD_15h_striatum_track"
   ]
  },
  {
   "cell_type": "markdown",
   "metadata": {},
   "source": [
    "## Plotting the number of trajectories vs. lag time"
   ]
  },
  {
   "cell_type": "code",
   "execution_count": 5,
   "metadata": {},
   "outputs": [],
   "source": [
    "import diff_classifier.heatmaps as hm\n",
    "import diff_classifier.aws as aws\n",
    "import os\n",
    "import os.path as op\n",
    "import pandas as pd\n",
    "import numpy as np\n",
    "import matplotlib as mpl\n",
    "import matplotlib.pyplot as plt\n",
    "import numpy.ma as ma"
   ]
  },
  {
   "cell_type": "code",
   "execution_count": null,
   "metadata": {},
   "outputs": [],
   "source": [
    "particles = np.zeros((framespace.shape[0]))\n",
    "\n",
    "for prefix in OGD_15h_striatum_track:\n",
    "    msds = 'msd_{}.csv'.format(prefix)\n",
    "    aws.download_s3('{}/{}'.format(remote_folder_2, msds), msds, bucket_name=bucket)\n",
    "    merged = pd.read_csv('msd_{}.csv'.format(prefix))\n",
    "    frames = int(max(merged['Frame']))\n",
    "    framespace = np.linspace(0, frames, frames)\n",
    "    time = np.linspace(0, frames/30.03, frames)\n",
    "\n",
    "    for i in range(0, frames):\n",
    "        particles[i] = particles[i] + (merged.loc[merged.Frame == i, 'MSDs'].dropna().shape[0])\n",
    "\n",
    "    os.remove(msds)\n",
    "#fig = plt.figure(figsize=(5, 5))\n",
    "#plt.plot(time, particles, linewidth=4)\n",
    "#plt.xlim(0, 2)\n",
    "#plt.ylim(0, 4500)\n",
    "#plt.xlabel('time (s)', fontsize=20)\n",
    "#plt.ylabel('# of trajectories', fontsize=20)\n",
    "\n",
    "#outfile = 'in_frame_{}.png'.format(prefix)\n",
    "#fig.savefig(outfile, bbox_inches='tight')\n",
    "#if upload == True:\n",
    "#    aws.upload_s3(outfile, remote_folder+'/'+outfile, bucket_name=bucket)"
   ]
  },
  {
   "cell_type": "code",
   "execution_count": null,
   "metadata": {},
   "outputs": [],
   "source": [
    "NT_traj = particles"
   ]
  },
  {
   "cell_type": "code",
   "execution_count": null,
   "metadata": {},
   "outputs": [],
   "source": [
    "NT_cortex_traj = particles"
   ]
  },
  {
   "cell_type": "code",
   "execution_count": null,
   "metadata": {},
   "outputs": [],
   "source": [
    "NT_striatum_traj = particles"
   ]
  },
  {
   "cell_type": "code",
   "execution_count": null,
   "metadata": {},
   "outputs": [],
   "source": [
    "OGD_3h_cortex_traj = particles"
   ]
  },
  {
   "cell_type": "code",
   "execution_count": null,
   "metadata": {},
   "outputs": [],
   "source": [
    "OGD_3h_striatum_traj = particles"
   ]
  },
  {
   "cell_type": "code",
   "execution_count": null,
   "metadata": {},
   "outputs": [],
   "source": [
    "OGD_3h_traj = particles"
   ]
  },
  {
   "cell_type": "code",
   "execution_count": null,
   "metadata": {},
   "outputs": [],
   "source": [
    "OGD_05h_cortex_traj = particles"
   ]
  },
  {
   "cell_type": "code",
   "execution_count": null,
   "metadata": {},
   "outputs": [],
   "source": [
    "OGD_05h_striatum_traj = particles"
   ]
  },
  {
   "cell_type": "code",
   "execution_count": null,
   "metadata": {},
   "outputs": [],
   "source": [
    "OGD_05h_traj = OGD_05h_cortex_traj + OGD_05h_striatum_traj"
   ]
  },
  {
   "cell_type": "code",
   "execution_count": null,
   "metadata": {},
   "outputs": [],
   "source": [
    "OGD_15_cortex_traj = particles"
   ]
  },
  {
   "cell_type": "code",
   "execution_count": null,
   "metadata": {},
   "outputs": [],
   "source": [
    "OGD_15_striatum_traj = particles"
   ]
  },
  {
   "cell_type": "code",
   "execution_count": null,
   "metadata": {},
   "outputs": [],
   "source": [
    "OGD_15h_traj = OGD_15_cortex_traj + OGD_15_striatum_traj"
   ]
  },
  {
   "cell_type": "code",
   "execution_count": null,
   "metadata": {},
   "outputs": [],
   "source": [
    "fig = plt.figure(figsize=(5, 5))\n",
    "plt.plot(time, OGD_15_striatum_traj, linewidth=4, color='royalblue', alpha=1)\n",
    "plt.plot(time, OGD_05h_striatum_traj, linewidth=4, color='grey', alpha=1)\n",
    "plt.plot(time, OGD_3h_striatum_traj, linewidth=4, color='goldenrod', alpha=1)\n",
    "plt.plot(time, NT_striatum_traj, linewidth=4, color='black', alpha=0.9)\n",
    "plt.xlabel('time (s)', fontsize=20)\n",
    "plt.ylabel('# of trajectories', fontsize=20)\n",
    "plt.xscale('log')\n",
    "plt.xlim(0, 2)\n",
    "\n",
    "#outfile = 'in_frame_{}.png'.format(prefix)\n",
    "#fig.savefig(outfile, bbox_inches='tight')\n",
    "#if upload == True:\n",
    "#    aws.upload_s3(outfile, remote_folder+'/'+outfile, bucket_name=bucket)"
   ]
  },
  {
   "cell_type": "markdown",
   "metadata": {},
   "source": [
    "## Exporting csvs for feature plots"
   ]
  },
  {
   "cell_type": "code",
   "execution_count": 6,
   "metadata": {},
   "outputs": [],
   "source": [
    "import diff_classifier.heatmaps as hm\n",
    "import diff_classifier.aws as aws\n",
    "import os\n",
    "import os.path as op\n",
    "import pandas as pd\n",
    "import numpy as np\n",
    "import matplotlib as mpl\n",
    "import matplotlib.pyplot as plt\n",
    "import numpy.ma as ma"
   ]
  },
  {
   "cell_type": "code",
   "execution_count": null,
   "metadata": {},
   "outputs": [],
   "source": [
    "#for prefix in NT_cortex_track:\n",
    "feat = 'features_{}.csv'.format(NT_cortex_track[0])\n",
    "#    aws.download_s3(remote_folder+'/'+feat, feat, bucket_name=s3_bucket)\n",
    "merged = pd.read_csv(feat)"
   ]
  },
  {
   "cell_type": "code",
   "execution_count": null,
   "metadata": {},
   "outputs": [],
   "source": [
    "merged[0:5]"
   ]
  },
  {
   "cell_type": "code",
   "execution_count": null,
   "metadata": {},
   "outputs": [],
   "source": []
  },
  {
   "cell_type": "code",
   "execution_count": 10,
   "metadata": {},
   "outputs": [],
   "source": [
    "feature_list = ['MSD_ratio', 'alpha', 'fractal_dim', 'boundedness', 'efficiency', 'trappedness']\n",
    "\n",
    "for prefix in OGD_15h_cortex_track:\n",
    "    feat = 'features_{}.csv'.format(prefix)\n",
    "    aws.download_s3(remote_folder_2+'/'+feat, feat, bucket_name=bucket)\n",
    "\n",
    "for feats in feature_list:\n",
    "    feature_df = pd.DataFrame()\n",
    "\n",
    "    for prefix in OGD_15h_cortex_track:\n",
    "        temp = pd.DataFrame()\n",
    "        feat = 'features_{}.csv'.format(prefix)\n",
    "        merged = pd.read_csv(feat)\n",
    "        temp = pd.concat([temp, merged[feats]], axis=0)\n",
    "        temp_no_nan = temp.replace(0,np.nan)\n",
    "        temp_upload = temp_no_nan.dropna()\n",
    "        feature_df = pd.concat([feature_df, temp_upload], axis=0)\n",
    "    \n",
    "    feature_df.to_csv('OGD_1_5h_cortex_{}.csv'.format(feats), mode='w', index = False)\n",
    "    aws.upload_s3('OGD_1_5h_cortex_{}.csv'.format(feats), '03_22_20_OGD_Severity_MPT_Stats/OGD_1_5h_cortex_{}.csv'.format(feats), bucket_name='mckenna.data')\n",
    "    os.remove('OGD_1_5h_cortex_{}.csv'.format(feats))\n",
    "    \n",
    "for prefix in OGD_15h_cortex_track:\n",
    "    feat = 'features_{}.csv'.format(prefix)\n",
    "    os.remove(feat)"
   ]
  },
  {
   "cell_type": "code",
   "execution_count": null,
   "metadata": {},
   "outputs": [],
   "source": []
  },
  {
   "cell_type": "code",
   "execution_count": null,
   "metadata": {},
   "outputs": [],
   "source": []
  },
  {
   "cell_type": "code",
   "execution_count": null,
   "metadata": {},
   "outputs": [],
   "source": []
  },
  {
   "cell_type": "code",
   "execution_count": null,
   "metadata": {},
   "outputs": [],
   "source": []
  },
  {
   "cell_type": "code",
   "execution_count": null,
   "metadata": {},
   "outputs": [],
   "source": []
  }
 ],
 "metadata": {
  "kernelspec": {
   "display_name": "Python 3",
   "language": "python",
   "name": "python3"
  },
  "language_info": {
   "codemirror_mode": {
    "name": "ipython",
    "version": 3
   },
   "file_extension": ".py",
   "mimetype": "text/x-python",
   "name": "python",
   "nbconvert_exporter": "python",
   "pygments_lexer": "ipython3",
   "version": "3.6.3"
  }
 },
 "nbformat": 4,
 "nbformat_minor": 2
}
